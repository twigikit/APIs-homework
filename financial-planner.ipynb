{
 "cells": [
  {
   "cell_type": "markdown",
   "metadata": {},
   "source": [
    "# Unit 5 - Financial Planning"
   ]
  },
  {
   "cell_type": "code",
   "execution_count": 1,
   "metadata": {},
   "outputs": [],
   "source": [
    "# Initial imports\n",
    "import os\n",
    "import requests\n",
    "import json\n",
    "import pandas as pd\n",
    "from dotenv import load_dotenv\n",
    "import alpaca_trade_api as tradeapi\n",
    "from MCForecastTools import MCSimulation\n",
    "\n",
    "%matplotlib inline"
   ]
  },
  {
   "cell_type": "code",
   "execution_count": 2,
   "metadata": {},
   "outputs": [
    {
     "data": {
      "text/plain": [
       "True"
      ]
     },
     "execution_count": 2,
     "metadata": {},
     "output_type": "execute_result"
    }
   ],
   "source": [
    "# Load .env enviroment variables\n",
    "load_dotenv()"
   ]
  },
  {
   "cell_type": "markdown",
   "metadata": {
    "tags": []
   },
   "source": [
    "## Part 1 - Personal Finance Planner"
   ]
  },
  {
   "cell_type": "markdown",
   "metadata": {},
   "source": [
    "### Collect Crypto Prices Using the `requests` Library"
   ]
  },
  {
   "cell_type": "code",
   "execution_count": 3,
   "metadata": {},
   "outputs": [],
   "source": [
    "# Set current amount of crypto assets\n",
    "my_btc = 1.2\n",
    "my_eth = 5.3"
   ]
  },
  {
   "cell_type": "code",
   "execution_count": 4,
   "metadata": {},
   "outputs": [],
   "source": [
    "# Crypto API URLs\n",
    "btc_url = \"https://api.alternative.me/v2/ticker/Bitcoin/?convert=USD\"\n",
    "eth_url = \"https://api.alternative.me/v2/ticker/Ethereum/?convert=USD\""
   ]
  },
  {
   "cell_type": "code",
   "execution_count": 5,
   "metadata": {},
   "outputs": [
    {
     "data": {
      "text/plain": [
       "<Response [200]>"
      ]
     },
     "execution_count": 5,
     "metadata": {},
     "output_type": "execute_result"
    }
   ],
   "source": [
    "# Fetch current BTC price\n",
    "btc_price_fetch = requests.get(btc_url)\n",
    "btc_price_fetch"
   ]
  },
  {
   "cell_type": "code",
   "execution_count": 6,
   "metadata": {},
   "outputs": [
    {
     "data": {
      "text/plain": [
       "{'data': {'1': {'id': 1,\n",
       "   'name': 'Bitcoin',\n",
       "   'symbol': 'BTC',\n",
       "   'website_slug': 'bitcoin',\n",
       "   'rank': 1,\n",
       "   'circulating_supply': 19173143,\n",
       "   'total_supply': 19173143,\n",
       "   'max_supply': 21000000,\n",
       "   'quotes': {'USD': {'price': 19488.54,\n",
       "     'volume_24h': 17122296607,\n",
       "     'market_cap': 373804840941,\n",
       "     'percentage_change_1h': -0.0955953019480968,\n",
       "     'percentage_change_24h': -0.443594292327612,\n",
       "     'percentage_change_7d': 0.0596135877121082,\n",
       "     'percent_change_1h': -0.0955953019480968,\n",
       "     'percent_change_24h': -0.443594292327612,\n",
       "     'percent_change_7d': 0.0596135877121082}},\n",
       "   'last_updated': 1665238139}},\n",
       " 'metadata': {'timestamp': 1665238139,\n",
       "  'num_cryptocurrencies': 3116,\n",
       "  'error': None}}"
      ]
     },
     "execution_count": 6,
     "metadata": {},
     "output_type": "execute_result"
    }
   ],
   "source": [
    "#Load BTC price data into python dictionary using json.loads\n",
    "btc_price_data = json.loads(btc_price_fetch.content.decode('utf-8'))\n",
    "btc_price_data"
   ]
  },
  {
   "cell_type": "code",
   "execution_count": 7,
   "metadata": {},
   "outputs": [
    {
     "data": {
      "text/plain": [
       "19488.54"
      ]
     },
     "execution_count": 7,
     "metadata": {},
     "output_type": "execute_result"
    }
   ],
   "source": [
    "btc_current_price = btc_price_data['data']['1']['quotes']['USD']['price']\n",
    "btc_current_price"
   ]
  },
  {
   "cell_type": "code",
   "execution_count": 8,
   "metadata": {},
   "outputs": [
    {
     "data": {
      "text/plain": [
       "<Response [200]>"
      ]
     },
     "execution_count": 8,
     "metadata": {},
     "output_type": "execute_result"
    }
   ],
   "source": [
    "# Fetch current ETH price\n",
    "eth_price_fetch = requests.get(eth_url)\n",
    "eth_price_fetch"
   ]
  },
  {
   "cell_type": "code",
   "execution_count": 9,
   "metadata": {},
   "outputs": [
    {
     "data": {
      "text/plain": [
       "{'data': {'1027': {'id': 1027,\n",
       "   'name': 'Ethereum',\n",
       "   'symbol': 'ETH',\n",
       "   'website_slug': 'ethereum',\n",
       "   'rank': 2,\n",
       "   'circulating_supply': 120865605,\n",
       "   'total_supply': 120865605,\n",
       "   'max_supply': 120862895,\n",
       "   'quotes': {'USD': {'price': 1326.28,\n",
       "     'volume_24h': 6012589476,\n",
       "     'market_cap': 160358604729,\n",
       "     'percentage_change_1h': -0.148766619262256,\n",
       "     'percentage_change_24h': -0.477514437787454,\n",
       "     'percentage_change_7d': -0.215941969913646,\n",
       "     'percent_change_1h': -0.148766619262256,\n",
       "     'percent_change_24h': -0.477514437787454,\n",
       "     'percent_change_7d': -0.215941969913646}},\n",
       "   'last_updated': 1665238124}},\n",
       " 'metadata': {'timestamp': 1665238124,\n",
       "  'num_cryptocurrencies': 3116,\n",
       "  'error': None}}"
      ]
     },
     "execution_count": 9,
     "metadata": {},
     "output_type": "execute_result"
    }
   ],
   "source": [
    "#Load ETH price data into python dictionary using json.loads\n",
    "eth_price_data = json.loads(eth_price_fetch.content.decode('utf-8'))\n",
    "eth_price_data"
   ]
  },
  {
   "cell_type": "code",
   "execution_count": 10,
   "metadata": {},
   "outputs": [
    {
     "data": {
      "text/plain": [
       "1326.28"
      ]
     },
     "execution_count": 10,
     "metadata": {},
     "output_type": "execute_result"
    }
   ],
   "source": [
    "eth_current_price = eth_price_data['data']['1027']['quotes']['USD']['price']\n",
    "eth_current_price"
   ]
  },
  {
   "cell_type": "code",
   "execution_count": 11,
   "metadata": {},
   "outputs": [
    {
     "data": {
      "text/plain": [
       "(23386.248, 7029.284)"
      ]
     },
     "execution_count": 11,
     "metadata": {},
     "output_type": "execute_result"
    }
   ],
   "source": [
    "# Compute current value of my crpto\n",
    "my_btc_value = my_btc * btc_current_price\n",
    "my_eth_value = my_eth * eth_current_price\n",
    "my_btc_value, my_eth_value"
   ]
  },
  {
   "cell_type": "code",
   "execution_count": 12,
   "metadata": {},
   "outputs": [
    {
     "name": "stdout",
     "output_type": "stream",
     "text": [
      "The current value of your 1.2 BTC is $23386.25\n",
      "The current value of your 5.3 ETH is $7029.28\n"
     ]
    }
   ],
   "source": [
    "# Print current crypto wallet balance\n",
    "print(f\"The current value of your {my_btc} BTC is ${my_btc_value:0.2f}\")\n",
    "print(f\"The current value of your {my_eth} ETH is ${my_eth_value:0.2f}\")"
   ]
  },
  {
   "cell_type": "markdown",
   "metadata": {},
   "source": [
    "### Collect Investments Data Using Alpaca: `SPY` (stocks) and `AGG` (bonds)"
   ]
  },
  {
   "cell_type": "code",
   "execution_count": 13,
   "metadata": {},
   "outputs": [],
   "source": [
    "# Set current amount of shares\n",
    "my_agg = 200\n",
    "my_spy = 50"
   ]
  },
  {
   "cell_type": "code",
   "execution_count": 14,
   "metadata": {},
   "outputs": [],
   "source": [
    "# Set Alpaca API key and secret\n",
    "alpaca_api_key = os.getenv(\"ALPACA_API_KEY\")\n",
    "alpaca_secret_key = os.getenv(\"ALPACA_SECRET_KEY\")"
   ]
  },
  {
   "cell_type": "code",
   "execution_count": 15,
   "metadata": {},
   "outputs": [],
   "source": [
    "# Create the Alpaca API object\n",
    "alpaca_api = tradeapi.REST( alpaca_api_key,\n",
    "                            alpaca_secret_key,\n",
    "                            api_version = 'v2')"
   ]
  },
  {
   "cell_type": "code",
   "execution_count": 16,
   "metadata": {},
   "outputs": [
    {
     "data": {
      "text/plain": [
       "'2022-10-05T00:00:00-04:00'"
      ]
     },
     "execution_count": 16,
     "metadata": {},
     "output_type": "execute_result"
    }
   ],
   "source": [
    "# Format current date as ISO format\n",
    "current_date = pd.Timestamp('2022-10-05', tz = \"America/New_York\").isoformat()\n",
    "current_date"
   ]
  },
  {
   "cell_type": "code",
   "execution_count": 17,
   "metadata": {},
   "outputs": [],
   "source": [
    "# Set the tickers\n",
    "tickers = [\"AGG\", \"SPY\"]\n",
    "\n",
    "# Set timeframe to \"1Day\" for Alpaca API\n",
    "timeframe = \"1Day\""
   ]
  },
  {
   "cell_type": "code",
   "execution_count": 18,
   "metadata": {},
   "outputs": [
    {
     "data": {
      "text/html": [
       "<div>\n",
       "<style scoped>\n",
       "    .dataframe tbody tr th:only-of-type {\n",
       "        vertical-align: middle;\n",
       "    }\n",
       "\n",
       "    .dataframe tbody tr th {\n",
       "        vertical-align: top;\n",
       "    }\n",
       "\n",
       "    .dataframe thead th {\n",
       "        text-align: right;\n",
       "    }\n",
       "</style>\n",
       "<table border=\"1\" class=\"dataframe\">\n",
       "  <thead>\n",
       "    <tr style=\"text-align: right;\">\n",
       "      <th></th>\n",
       "      <th>open</th>\n",
       "      <th>high</th>\n",
       "      <th>low</th>\n",
       "      <th>close</th>\n",
       "      <th>volume</th>\n",
       "      <th>trade_count</th>\n",
       "      <th>vwap</th>\n",
       "      <th>symbol</th>\n",
       "    </tr>\n",
       "    <tr>\n",
       "      <th>timestamp</th>\n",
       "      <th></th>\n",
       "      <th></th>\n",
       "      <th></th>\n",
       "      <th></th>\n",
       "      <th></th>\n",
       "      <th></th>\n",
       "      <th></th>\n",
       "      <th></th>\n",
       "    </tr>\n",
       "  </thead>\n",
       "  <tbody>\n",
       "    <tr>\n",
       "      <th>2022-10-05 04:00:00+00:00</th>\n",
       "      <td>96.76</td>\n",
       "      <td>96.99</td>\n",
       "      <td>96.27</td>\n",
       "      <td>96.66</td>\n",
       "      <td>9505965</td>\n",
       "      <td>27875</td>\n",
       "      <td>96.527323</td>\n",
       "      <td>AGG</td>\n",
       "    </tr>\n",
       "    <tr>\n",
       "      <th>2022-10-05 04:00:00+00:00</th>\n",
       "      <td>373.32</td>\n",
       "      <td>379.46</td>\n",
       "      <td>370.95</td>\n",
       "      <td>377.09</td>\n",
       "      <td>87641027</td>\n",
       "      <td>581349</td>\n",
       "      <td>375.456940</td>\n",
       "      <td>SPY</td>\n",
       "    </tr>\n",
       "  </tbody>\n",
       "</table>\n",
       "</div>"
      ],
      "text/plain": [
       "                             open    high     low   close    volume  \\\n",
       "timestamp                                                             \n",
       "2022-10-05 04:00:00+00:00   96.76   96.99   96.27   96.66   9505965   \n",
       "2022-10-05 04:00:00+00:00  373.32  379.46  370.95  377.09  87641027   \n",
       "\n",
       "                           trade_count        vwap symbol  \n",
       "timestamp                                                  \n",
       "2022-10-05 04:00:00+00:00        27875   96.527323    AGG  \n",
       "2022-10-05 04:00:00+00:00       581349  375.456940    SPY  "
      ]
     },
     "execution_count": 18,
     "metadata": {},
     "output_type": "execute_result"
    }
   ],
   "source": [
    "# Get current closing prices for SPY and AGG\n",
    "df_stock_current = alpaca_api.get_bars(  tickers,\n",
    "                                         timeframe,\n",
    "                                         start = current_date,\n",
    "                                         end = current_date).df\n",
    "df_stock_current"
   ]
  },
  {
   "cell_type": "code",
   "execution_count": 19,
   "metadata": {},
   "outputs": [],
   "source": [
    "# Reorganize the DataFrame\n",
    "# Separate ticker data\n",
    "df_agg_current = df_stock_current[df_stock_current[\"symbol\"] == \"AGG\"].drop(\"symbol\", axis = 1)\n",
    "df_spy_current = df_stock_current[df_stock_current[\"symbol\"] == \"SPY\"].drop(\"symbol\", axis = 1)"
   ]
  },
  {
   "cell_type": "code",
   "execution_count": 20,
   "metadata": {},
   "outputs": [],
   "source": [
    "# Concatenate the ticker DataFrames\n",
    "df_stock_current = pd.concat([df_agg_current, df_spy_current], axis = 1, keys=[\"AGG\",\"SPY\"])"
   ]
  },
  {
   "cell_type": "code",
   "execution_count": 21,
   "metadata": {},
   "outputs": [
    {
     "data": {
      "text/html": [
       "<div>\n",
       "<style scoped>\n",
       "    .dataframe tbody tr th:only-of-type {\n",
       "        vertical-align: middle;\n",
       "    }\n",
       "\n",
       "    .dataframe tbody tr th {\n",
       "        vertical-align: top;\n",
       "    }\n",
       "\n",
       "    .dataframe thead tr th {\n",
       "        text-align: left;\n",
       "    }\n",
       "\n",
       "    .dataframe thead tr:last-of-type th {\n",
       "        text-align: right;\n",
       "    }\n",
       "</style>\n",
       "<table border=\"1\" class=\"dataframe\">\n",
       "  <thead>\n",
       "    <tr>\n",
       "      <th></th>\n",
       "      <th colspan=\"7\" halign=\"left\">AGG</th>\n",
       "      <th colspan=\"7\" halign=\"left\">SPY</th>\n",
       "    </tr>\n",
       "    <tr>\n",
       "      <th></th>\n",
       "      <th>open</th>\n",
       "      <th>high</th>\n",
       "      <th>low</th>\n",
       "      <th>close</th>\n",
       "      <th>volume</th>\n",
       "      <th>trade_count</th>\n",
       "      <th>vwap</th>\n",
       "      <th>open</th>\n",
       "      <th>high</th>\n",
       "      <th>low</th>\n",
       "      <th>close</th>\n",
       "      <th>volume</th>\n",
       "      <th>trade_count</th>\n",
       "      <th>vwap</th>\n",
       "    </tr>\n",
       "    <tr>\n",
       "      <th>timestamp</th>\n",
       "      <th></th>\n",
       "      <th></th>\n",
       "      <th></th>\n",
       "      <th></th>\n",
       "      <th></th>\n",
       "      <th></th>\n",
       "      <th></th>\n",
       "      <th></th>\n",
       "      <th></th>\n",
       "      <th></th>\n",
       "      <th></th>\n",
       "      <th></th>\n",
       "      <th></th>\n",
       "      <th></th>\n",
       "    </tr>\n",
       "  </thead>\n",
       "  <tbody>\n",
       "    <tr>\n",
       "      <th>2022-10-05 04:00:00+00:00</th>\n",
       "      <td>96.76</td>\n",
       "      <td>96.99</td>\n",
       "      <td>96.27</td>\n",
       "      <td>96.66</td>\n",
       "      <td>9505965</td>\n",
       "      <td>27875</td>\n",
       "      <td>96.527323</td>\n",
       "      <td>373.32</td>\n",
       "      <td>379.46</td>\n",
       "      <td>370.95</td>\n",
       "      <td>377.09</td>\n",
       "      <td>87641027</td>\n",
       "      <td>581349</td>\n",
       "      <td>375.45694</td>\n",
       "    </tr>\n",
       "  </tbody>\n",
       "</table>\n",
       "</div>"
      ],
      "text/plain": [
       "                             AGG                                            \\\n",
       "                            open   high    low  close   volume trade_count   \n",
       "timestamp                                                                    \n",
       "2022-10-05 04:00:00+00:00  96.76  96.99  96.27  96.66  9505965       27875   \n",
       "\n",
       "                                         SPY                          \\\n",
       "                                vwap    open    high     low   close   \n",
       "timestamp                                                              \n",
       "2022-10-05 04:00:00+00:00  96.527323  373.32  379.46  370.95  377.09   \n",
       "\n",
       "                                                            \n",
       "                             volume trade_count       vwap  \n",
       "timestamp                                                   \n",
       "2022-10-05 04:00:00+00:00  87641027      581349  375.45694  "
      ]
     },
     "execution_count": 21,
     "metadata": {},
     "output_type": "execute_result"
    }
   ],
   "source": [
    "# Preview DataFrame\n",
    "df_stock_current"
   ]
  },
  {
   "cell_type": "code",
   "execution_count": 22,
   "metadata": {},
   "outputs": [],
   "source": [
    "# Pick AGG and SPY close prices\n",
    "agg_close_price = df_stock_current[\"AGG\"][\"close\"].iloc[0]\n",
    "spy_close_price = df_stock_current[\"SPY\"][\"close\"].iloc[0]"
   ]
  },
  {
   "cell_type": "code",
   "execution_count": 23,
   "metadata": {},
   "outputs": [
    {
     "name": "stdout",
     "output_type": "stream",
     "text": [
      "Current AGG closing price: $96.66\n",
      "Current SPY closing price: $377.09\n"
     ]
    }
   ],
   "source": [
    "# Print AGG and SPY close prices\n",
    "print(f\"Current AGG closing price: ${agg_close_price}\")\n",
    "print(f\"Current SPY closing price: ${spy_close_price}\")"
   ]
  },
  {
   "cell_type": "code",
   "execution_count": 24,
   "metadata": {},
   "outputs": [],
   "source": [
    "# Compute the current value of shares\n",
    "my_agg_value = my_agg * agg_close_price\n",
    "my_spy_value = my_spy * spy_close_price"
   ]
  },
  {
   "cell_type": "code",
   "execution_count": 25,
   "metadata": {},
   "outputs": [
    {
     "name": "stdout",
     "output_type": "stream",
     "text": [
      "The current value of your 50 SPY shares is $18854.50\n",
      "The current value of your 200 AGG shares is $19332.00\n"
     ]
    }
   ],
   "source": [
    "# Print current value of shares\n",
    "print(f\"The current value of your {my_spy} SPY shares is ${my_spy_value:0.2f}\")\n",
    "print(f\"The current value of your {my_agg} AGG shares is ${my_agg_value:0.2f}\")"
   ]
  },
  {
   "cell_type": "markdown",
   "metadata": {},
   "source": [
    "### Savings Health Analysis"
   ]
  },
  {
   "cell_type": "code",
   "execution_count": 26,
   "metadata": {},
   "outputs": [],
   "source": [
    "# Set monthly household income\n",
    "monthly_income = 12000"
   ]
  },
  {
   "cell_type": "code",
   "execution_count": 27,
   "metadata": {},
   "outputs": [
    {
     "data": {
      "text/plain": [
       "(30415.532, 38186.5)"
      ]
     },
     "execution_count": 27,
     "metadata": {},
     "output_type": "execute_result"
    }
   ],
   "source": [
    "# Consolidate financial assets data\n",
    "total_crypto_value = my_btc_value + my_eth_value\n",
    "total_share_value = my_agg_value + my_spy_value\n",
    "total_crypto_value , total_share_value"
   ]
  },
  {
   "cell_type": "code",
   "execution_count": 28,
   "metadata": {},
   "outputs": [],
   "source": [
    "# Create savings DataFrame\n",
    "df_savings = pd.DataFrame([total_crypto_value, total_share_value], index=[\"crypto\", \"shares\"], columns = [\"amount\"])"
   ]
  },
  {
   "cell_type": "code",
   "execution_count": 29,
   "metadata": {},
   "outputs": [
    {
     "data": {
      "text/html": [
       "<div>\n",
       "<style scoped>\n",
       "    .dataframe tbody tr th:only-of-type {\n",
       "        vertical-align: middle;\n",
       "    }\n",
       "\n",
       "    .dataframe tbody tr th {\n",
       "        vertical-align: top;\n",
       "    }\n",
       "\n",
       "    .dataframe thead th {\n",
       "        text-align: right;\n",
       "    }\n",
       "</style>\n",
       "<table border=\"1\" class=\"dataframe\">\n",
       "  <thead>\n",
       "    <tr style=\"text-align: right;\">\n",
       "      <th></th>\n",
       "      <th>amount</th>\n",
       "    </tr>\n",
       "  </thead>\n",
       "  <tbody>\n",
       "    <tr>\n",
       "      <th>crypto</th>\n",
       "      <td>30415.532</td>\n",
       "    </tr>\n",
       "    <tr>\n",
       "      <th>shares</th>\n",
       "      <td>38186.500</td>\n",
       "    </tr>\n",
       "  </tbody>\n",
       "</table>\n",
       "</div>"
      ],
      "text/plain": [
       "           amount\n",
       "crypto  30415.532\n",
       "shares  38186.500"
      ]
     },
     "metadata": {},
     "output_type": "display_data"
    }
   ],
   "source": [
    "# Display savings DataFrame\n",
    "display(df_savings)"
   ]
  },
  {
   "cell_type": "code",
   "execution_count": 30,
   "metadata": {},
   "outputs": [
    {
     "data": {
      "text/plain": [
       "<AxesSubplot:title={'center':'Composition of personal savings'}, ylabel='amount'>"
      ]
     },
     "execution_count": 30,
     "metadata": {},
     "output_type": "execute_result"
    },
    {
     "data": {
      "image/png": "[encoded data removed]",
      "text/plain": [
       "<Figure size 432x432 with 1 Axes>"
      ]
     },
     "metadata": {},
     "output_type": "display_data"
    }
   ],
   "source": [
    "# Plot savings pie chart\n",
    "df_savings.plot.pie( y=\"amount\", figsize = (6,6), title = \"Composition of personal savings\")"
   ]
  },
  {
   "cell_type": "code",
   "execution_count": 31,
   "metadata": {},
   "outputs": [
    {
     "data": {
      "text/plain": [
       "36000"
      ]
     },
     "execution_count": 31,
     "metadata": {},
     "output_type": "execute_result"
    }
   ],
   "source": [
    "# Set ideal emergency fund\n",
    "emergency_fund = monthly_income * 3\n",
    "emergency_fund"
   ]
  },
  {
   "cell_type": "code",
   "execution_count": 32,
   "metadata": {},
   "outputs": [
    {
     "data": {
      "text/plain": [
       "68602.03"
      ]
     },
     "execution_count": 32,
     "metadata": {},
     "output_type": "execute_result"
    }
   ],
   "source": [
    "# Calculate total amount of savings\n",
    "total_savings = round(df_savings[\"amount\"].sum(),2)\n",
    "total_savings"
   ]
  },
  {
   "cell_type": "code",
   "execution_count": 78,
   "metadata": {},
   "outputs": [
    {
     "name": "stdout",
     "output_type": "stream",
     "text": [
      "Congratulation! Total savings are greater than the emergency fund. \n",
      "You have enough money in your fund.\n"
     ]
    }
   ],
   "source": [
    "# Validate saving health\n",
    "if total_savings == emergency_fund:\n",
    "    print (f\"Congratulation! Total savings are equal to emergency fund.\\n\" \n",
    "           f\"You have reached your financial goal having the ideal emergency fund.\")\n",
    "elif total_savings > emergency_fund:\n",
    "    print (f\"Congratulation! Total savings are greater than the emergency fund. \\n\"\n",
    "           f\"You have enough money in your fund.\")\n",
    "else:\n",
    "    gap =  emergency_fund - total_savings\n",
    "    print (f\"You are ${gap:0.2f} away from reaching your financial goal.\")"
   ]
  },
  {
   "cell_type": "markdown",
   "metadata": {},
   "source": [
    "## Part 2 - Retirement Planning\n",
    "\n",
    "### Monte Carlo Simulation"
   ]
  },
  {
   "cell_type": "code",
   "execution_count": 34,
   "metadata": {},
   "outputs": [],
   "source": [
    "# Set start and end dates of five years back from today.\n",
    "# Sample results may vary from the solution based on the time frame chosen\n",
    "start_date = pd.Timestamp('2016-05-01', tz='America/New_York').isoformat()\n",
    "end_date = pd.Timestamp('2021-05-01', tz='America/New_York').isoformat()"
   ]
  },
  {
   "cell_type": "code",
   "execution_count": 35,
   "metadata": {},
   "outputs": [],
   "source": [
    "# Get 5 years' worth of historical data for SPY and AGG\n",
    "df_stock_historical = alpaca_api.get_bars( tickers,\n",
    "                                           timeframe,\n",
    "                                           start = start_date,\n",
    "                                           end = end_date).df"
   ]
  },
  {
   "cell_type": "code",
   "execution_count": 36,
   "metadata": {},
   "outputs": [
    {
     "data": {
      "text/html": [
       "<div>\n",
       "<style scoped>\n",
       "    .dataframe tbody tr th:only-of-type {\n",
       "        vertical-align: middle;\n",
       "    }\n",
       "\n",
       "    .dataframe tbody tr th {\n",
       "        vertical-align: top;\n",
       "    }\n",
       "\n",
       "    .dataframe thead th {\n",
       "        text-align: right;\n",
       "    }\n",
       "</style>\n",
       "<table border=\"1\" class=\"dataframe\">\n",
       "  <thead>\n",
       "    <tr style=\"text-align: right;\">\n",
       "      <th></th>\n",
       "      <th>open</th>\n",
       "      <th>high</th>\n",
       "      <th>low</th>\n",
       "      <th>close</th>\n",
       "      <th>volume</th>\n",
       "      <th>trade_count</th>\n",
       "      <th>vwap</th>\n",
       "      <th>symbol</th>\n",
       "    </tr>\n",
       "    <tr>\n",
       "      <th>timestamp</th>\n",
       "      <th></th>\n",
       "      <th></th>\n",
       "      <th></th>\n",
       "      <th></th>\n",
       "      <th></th>\n",
       "      <th></th>\n",
       "      <th></th>\n",
       "      <th></th>\n",
       "    </tr>\n",
       "  </thead>\n",
       "  <tbody>\n",
       "    <tr>\n",
       "      <th>2016-05-02 04:00:00+00:00</th>\n",
       "      <td>110.74</td>\n",
       "      <td>110.7400</td>\n",
       "      <td>110.5200</td>\n",
       "      <td>110.61</td>\n",
       "      <td>3553939</td>\n",
       "      <td>15119</td>\n",
       "      <td>110.627199</td>\n",
       "      <td>AGG</td>\n",
       "    </tr>\n",
       "    <tr>\n",
       "      <th>2016-05-03 04:00:00+00:00</th>\n",
       "      <td>110.89</td>\n",
       "      <td>110.9450</td>\n",
       "      <td>110.7500</td>\n",
       "      <td>110.81</td>\n",
       "      <td>3044940</td>\n",
       "      <td>15662</td>\n",
       "      <td>110.865995</td>\n",
       "      <td>AGG</td>\n",
       "    </tr>\n",
       "    <tr>\n",
       "      <th>2016-05-04 04:00:00+00:00</th>\n",
       "      <td>110.91</td>\n",
       "      <td>110.9315</td>\n",
       "      <td>110.7595</td>\n",
       "      <td>110.86</td>\n",
       "      <td>2920608</td>\n",
       "      <td>13982</td>\n",
       "      <td>110.879063</td>\n",
       "      <td>AGG</td>\n",
       "    </tr>\n",
       "    <tr>\n",
       "      <th>2016-05-05 04:00:00+00:00</th>\n",
       "      <td>110.92</td>\n",
       "      <td>111.1600</td>\n",
       "      <td>110.8010</td>\n",
       "      <td>111.14</td>\n",
       "      <td>3008142</td>\n",
       "      <td>15707</td>\n",
       "      <td>111.028363</td>\n",
       "      <td>AGG</td>\n",
       "    </tr>\n",
       "    <tr>\n",
       "      <th>2016-05-06 04:00:00+00:00</th>\n",
       "      <td>111.12</td>\n",
       "      <td>111.1200</td>\n",
       "      <td>110.9700</td>\n",
       "      <td>110.97</td>\n",
       "      <td>2718710</td>\n",
       "      <td>12697</td>\n",
       "      <td>111.031967</td>\n",
       "      <td>AGG</td>\n",
       "    </tr>\n",
       "  </tbody>\n",
       "</table>\n",
       "</div>"
      ],
      "text/plain": [
       "                             open      high       low   close   volume  \\\n",
       "timestamp                                                                \n",
       "2016-05-02 04:00:00+00:00  110.74  110.7400  110.5200  110.61  3553939   \n",
       "2016-05-03 04:00:00+00:00  110.89  110.9450  110.7500  110.81  3044940   \n",
       "2016-05-04 04:00:00+00:00  110.91  110.9315  110.7595  110.86  2920608   \n",
       "2016-05-05 04:00:00+00:00  110.92  111.1600  110.8010  111.14  3008142   \n",
       "2016-05-06 04:00:00+00:00  111.12  111.1200  110.9700  110.97  2718710   \n",
       "\n",
       "                           trade_count        vwap symbol  \n",
       "timestamp                                                  \n",
       "2016-05-02 04:00:00+00:00        15119  110.627199    AGG  \n",
       "2016-05-03 04:00:00+00:00        15662  110.865995    AGG  \n",
       "2016-05-04 04:00:00+00:00        13982  110.879063    AGG  \n",
       "2016-05-05 04:00:00+00:00        15707  111.028363    AGG  \n",
       "2016-05-06 04:00:00+00:00        12697  111.031967    AGG  "
      ]
     },
     "execution_count": 36,
     "metadata": {},
     "output_type": "execute_result"
    }
   ],
   "source": [
    "df_stock_historical.head()"
   ]
  },
  {
   "cell_type": "code",
   "execution_count": 37,
   "metadata": {},
   "outputs": [],
   "source": [
    "# Reorganize the DataFrame\n",
    "# Separate ticker data\n",
    "df_agg_historical=  df_stock_historical[df_stock_historical[\"symbol\"] == \"AGG\"].drop(\"symbol\", axis = 1)\n",
    "df_spy_historical =  df_stock_historical[df_stock_historical[\"symbol\"] == \"SPY\"].drop(\"symbol\", axis = 1)"
   ]
  },
  {
   "cell_type": "code",
   "execution_count": 38,
   "metadata": {},
   "outputs": [],
   "source": [
    "# Concatenate the ticker DataFrames\n",
    "df_stock_data = pd.concat([df_agg_historical, df_spy_historical], axis = 1, keys=[\"AGG\",\"SPY\"])"
   ]
  },
  {
   "cell_type": "code",
   "execution_count": 39,
   "metadata": {},
   "outputs": [],
   "source": [
    "#remove timestamp from index\n",
    "df_stock_data.index = df_stock_data.index.date"
   ]
  },
  {
   "cell_type": "code",
   "execution_count": 40,
   "metadata": {},
   "outputs": [
    {
     "data": {
      "text/html": [
       "<div>\n",
       "<style scoped>\n",
       "    .dataframe tbody tr th:only-of-type {\n",
       "        vertical-align: middle;\n",
       "    }\n",
       "\n",
       "    .dataframe tbody tr th {\n",
       "        vertical-align: top;\n",
       "    }\n",
       "\n",
       "    .dataframe thead tr th {\n",
       "        text-align: left;\n",
       "    }\n",
       "</style>\n",
       "<table border=\"1\" class=\"dataframe\">\n",
       "  <thead>\n",
       "    <tr>\n",
       "      <th></th>\n",
       "      <th colspan=\"7\" halign=\"left\">AGG</th>\n",
       "      <th colspan=\"7\" halign=\"left\">SPY</th>\n",
       "    </tr>\n",
       "    <tr>\n",
       "      <th></th>\n",
       "      <th>open</th>\n",
       "      <th>high</th>\n",
       "      <th>low</th>\n",
       "      <th>close</th>\n",
       "      <th>volume</th>\n",
       "      <th>trade_count</th>\n",
       "      <th>vwap</th>\n",
       "      <th>open</th>\n",
       "      <th>high</th>\n",
       "      <th>low</th>\n",
       "      <th>close</th>\n",
       "      <th>volume</th>\n",
       "      <th>trade_count</th>\n",
       "      <th>vwap</th>\n",
       "    </tr>\n",
       "  </thead>\n",
       "  <tbody>\n",
       "    <tr>\n",
       "      <th>2016-05-02</th>\n",
       "      <td>110.74</td>\n",
       "      <td>110.7400</td>\n",
       "      <td>110.5200</td>\n",
       "      <td>110.61</td>\n",
       "      <td>3553939</td>\n",
       "      <td>15119</td>\n",
       "      <td>110.627199</td>\n",
       "      <td>206.90</td>\n",
       "      <td>208.18</td>\n",
       "      <td>206.41</td>\n",
       "      <td>208.03</td>\n",
       "      <td>61908515</td>\n",
       "      <td>263580</td>\n",
       "      <td>207.294812</td>\n",
       "    </tr>\n",
       "    <tr>\n",
       "      <th>2016-05-03</th>\n",
       "      <td>110.89</td>\n",
       "      <td>110.9450</td>\n",
       "      <td>110.7500</td>\n",
       "      <td>110.81</td>\n",
       "      <td>3044940</td>\n",
       "      <td>15662</td>\n",
       "      <td>110.865995</td>\n",
       "      <td>206.50</td>\n",
       "      <td>206.80</td>\n",
       "      <td>205.28</td>\n",
       "      <td>206.13</td>\n",
       "      <td>106422142</td>\n",
       "      <td>377518</td>\n",
       "      <td>206.312060</td>\n",
       "    </tr>\n",
       "    <tr>\n",
       "      <th>2016-05-04</th>\n",
       "      <td>110.91</td>\n",
       "      <td>110.9315</td>\n",
       "      <td>110.7595</td>\n",
       "      <td>110.86</td>\n",
       "      <td>2920608</td>\n",
       "      <td>13982</td>\n",
       "      <td>110.879063</td>\n",
       "      <td>205.00</td>\n",
       "      <td>205.85</td>\n",
       "      <td>204.42</td>\n",
       "      <td>204.96</td>\n",
       "      <td>92199810</td>\n",
       "      <td>345261</td>\n",
       "      <td>205.090172</td>\n",
       "    </tr>\n",
       "    <tr>\n",
       "      <th>2016-05-05</th>\n",
       "      <td>110.92</td>\n",
       "      <td>111.1600</td>\n",
       "      <td>110.8010</td>\n",
       "      <td>111.14</td>\n",
       "      <td>3008142</td>\n",
       "      <td>15707</td>\n",
       "      <td>111.028363</td>\n",
       "      <td>205.57</td>\n",
       "      <td>205.98</td>\n",
       "      <td>204.47</td>\n",
       "      <td>204.95</td>\n",
       "      <td>67597222</td>\n",
       "      <td>280622</td>\n",
       "      <td>205.141555</td>\n",
       "    </tr>\n",
       "    <tr>\n",
       "      <th>2016-05-06</th>\n",
       "      <td>111.12</td>\n",
       "      <td>111.1200</td>\n",
       "      <td>110.9700</td>\n",
       "      <td>110.97</td>\n",
       "      <td>2718710</td>\n",
       "      <td>12697</td>\n",
       "      <td>111.031967</td>\n",
       "      <td>204.04</td>\n",
       "      <td>205.77</td>\n",
       "      <td>203.88</td>\n",
       "      <td>205.70</td>\n",
       "      <td>89131004</td>\n",
       "      <td>340335</td>\n",
       "      <td>204.937074</td>\n",
       "    </tr>\n",
       "  </tbody>\n",
       "</table>\n",
       "</div>"
      ],
      "text/plain": [
       "               AGG                                                   \\\n",
       "              open      high       low   close   volume trade_count   \n",
       "2016-05-02  110.74  110.7400  110.5200  110.61  3553939       15119   \n",
       "2016-05-03  110.89  110.9450  110.7500  110.81  3044940       15662   \n",
       "2016-05-04  110.91  110.9315  110.7595  110.86  2920608       13982   \n",
       "2016-05-05  110.92  111.1600  110.8010  111.14  3008142       15707   \n",
       "2016-05-06  111.12  111.1200  110.9700  110.97  2718710       12697   \n",
       "\n",
       "                           SPY                                                 \\\n",
       "                  vwap    open    high     low   close     volume trade_count   \n",
       "2016-05-02  110.627199  206.90  208.18  206.41  208.03   61908515      263580   \n",
       "2016-05-03  110.865995  206.50  206.80  205.28  206.13  106422142      377518   \n",
       "2016-05-04  110.879063  205.00  205.85  204.42  204.96   92199810      345261   \n",
       "2016-05-05  111.028363  205.57  205.98  204.47  204.95   67597222      280622   \n",
       "2016-05-06  111.031967  204.04  205.77  203.88  205.70   89131004      340335   \n",
       "\n",
       "                        \n",
       "                  vwap  \n",
       "2016-05-02  207.294812  \n",
       "2016-05-03  206.312060  \n",
       "2016-05-04  205.090172  \n",
       "2016-05-05  205.141555  \n",
       "2016-05-06  204.937074  "
      ]
     },
     "execution_count": 40,
     "metadata": {},
     "output_type": "execute_result"
    }
   ],
   "source": [
    "# Display sample data\n",
    "df_stock_data.head()"
   ]
  },
  {
   "cell_type": "code",
   "execution_count": 41,
   "metadata": {},
   "outputs": [],
   "source": [
    "drop_columns = [\"open\",\"high\",\"low\",\"volume\",\"trade_count\", \"vwap\"]\n",
    "\n",
    "for x in tickers:\n",
    "    for y in drop_columns:\n",
    "        df_stock_data.drop(columns = (x,y), inplace = True)"
   ]
  },
  {
   "cell_type": "code",
   "execution_count": 42,
   "metadata": {},
   "outputs": [],
   "source": [
    "# Configuring a Monte Carlo simulation to forecast 30 years cumulative returns\n",
    "# assume 252 trading days in a year. 30 years means 7560 trading days (30 x 252)\n",
    "MC_Y30 = MCSimulation(portfolio_data = df_stock_data,\n",
    "                      weights = [0.40, 0.60],\n",
    "                      num_simulation = 500 ,\n",
    "                      num_trading_days = 252*30\n",
    "                      )"
   ]
  },
  {
   "cell_type": "code",
   "execution_count": 43,
   "metadata": {},
   "outputs": [
    {
     "data": {
      "text/html": [
       "<div>\n",
       "<style scoped>\n",
       "    .dataframe tbody tr th:only-of-type {\n",
       "        vertical-align: middle;\n",
       "    }\n",
       "\n",
       "    .dataframe tbody tr th {\n",
       "        vertical-align: top;\n",
       "    }\n",
       "\n",
       "    .dataframe thead tr th {\n",
       "        text-align: left;\n",
       "    }\n",
       "</style>\n",
       "<table border=\"1\" class=\"dataframe\">\n",
       "  <thead>\n",
       "    <tr>\n",
       "      <th></th>\n",
       "      <th colspan=\"2\" halign=\"left\">AGG</th>\n",
       "      <th colspan=\"2\" halign=\"left\">SPY</th>\n",
       "    </tr>\n",
       "    <tr>\n",
       "      <th></th>\n",
       "      <th>close</th>\n",
       "      <th>daily_return</th>\n",
       "      <th>close</th>\n",
       "      <th>daily_return</th>\n",
       "    </tr>\n",
       "  </thead>\n",
       "  <tbody>\n",
       "    <tr>\n",
       "      <th>2016-05-02</th>\n",
       "      <td>110.61</td>\n",
       "      <td>NaN</td>\n",
       "      <td>208.03</td>\n",
       "      <td>NaN</td>\n",
       "    </tr>\n",
       "    <tr>\n",
       "      <th>2016-05-03</th>\n",
       "      <td>110.81</td>\n",
       "      <td>0.001808</td>\n",
       "      <td>206.13</td>\n",
       "      <td>-0.009133</td>\n",
       "    </tr>\n",
       "    <tr>\n",
       "      <th>2016-05-04</th>\n",
       "      <td>110.86</td>\n",
       "      <td>0.000451</td>\n",
       "      <td>204.96</td>\n",
       "      <td>-0.005676</td>\n",
       "    </tr>\n",
       "    <tr>\n",
       "      <th>2016-05-05</th>\n",
       "      <td>111.14</td>\n",
       "      <td>0.002526</td>\n",
       "      <td>204.95</td>\n",
       "      <td>-0.000049</td>\n",
       "    </tr>\n",
       "    <tr>\n",
       "      <th>2016-05-06</th>\n",
       "      <td>110.97</td>\n",
       "      <td>-0.001530</td>\n",
       "      <td>205.70</td>\n",
       "      <td>0.003659</td>\n",
       "    </tr>\n",
       "  </tbody>\n",
       "</table>\n",
       "</div>"
      ],
      "text/plain": [
       "               AGG                  SPY             \n",
       "             close daily_return   close daily_return\n",
       "2016-05-02  110.61          NaN  208.03          NaN\n",
       "2016-05-03  110.81     0.001808  206.13    -0.009133\n",
       "2016-05-04  110.86     0.000451  204.96    -0.005676\n",
       "2016-05-05  111.14     0.002526  204.95    -0.000049\n",
       "2016-05-06  110.97    -0.001530  205.70     0.003659"
      ]
     },
     "execution_count": 43,
     "metadata": {},
     "output_type": "execute_result"
    }
   ],
   "source": [
    "# Printing the simulation input data\n",
    "MC_Y30.portfolio_data.head()"
   ]
  },
  {
   "cell_type": "code",
   "execution_count": 44,
   "metadata": {},
   "outputs": [
    {
     "name": "stdout",
     "output_type": "stream",
     "text": [
      "Running Monte Carlo simulation number 0.\n",
      "Running Monte Carlo simulation number 10.\n",
      "Running Monte Carlo simulation number 20.\n",
      "Running Monte Carlo simulation number 30.\n",
      "Running Monte Carlo simulation number 40.\n",
      "Running Monte Carlo simulation number 50.\n",
      "Running Monte Carlo simulation number 60.\n",
      "Running Monte Carlo simulation number 70.\n",
      "Running Monte Carlo simulation number 80.\n",
      "Running Monte Carlo simulation number 90.\n",
      "Running Monte Carlo simulation number 100.\n"
     ]
    },
    {
     "name": "stderr",
     "output_type": "stream",
     "text": [
      "C:\\Users\\twigi\\FTBC\\W5_Assignment\\APIs-homework\\MCForecastTools.py:117: PerformanceWarning: DataFrame is highly fragmented.  This is usually the result of calling `frame.insert` many times, which has poor performance.  Consider joining all columns at once using pd.concat(axis=1) instead.  To get a de-fragmented frame, use `newframe = frame.copy()`\n",
      "  portfolio_cumulative_returns[n] = (1 + sim_df.fillna(0)).cumprod()\n"
     ]
    },
    {
     "name": "stdout",
     "output_type": "stream",
     "text": [
      "Running Monte Carlo simulation number 110.\n",
      "Running Monte Carlo simulation number 120.\n",
      "Running Monte Carlo simulation number 130.\n",
      "Running Monte Carlo simulation number 140.\n",
      "Running Monte Carlo simulation number 150.\n",
      "Running Monte Carlo simulation number 160.\n",
      "Running Monte Carlo simulation number 170.\n",
      "Running Monte Carlo simulation number 180.\n",
      "Running Monte Carlo simulation number 190.\n",
      "Running Monte Carlo simulation number 200.\n",
      "Running Monte Carlo simulation number 210.\n",
      "Running Monte Carlo simulation number 220.\n",
      "Running Monte Carlo simulation number 230.\n",
      "Running Monte Carlo simulation number 240.\n",
      "Running Monte Carlo simulation number 250.\n",
      "Running Monte Carlo simulation number 260.\n",
      "Running Monte Carlo simulation number 270.\n",
      "Running Monte Carlo simulation number 280.\n",
      "Running Monte Carlo simulation number 290.\n",
      "Running Monte Carlo simulation number 300.\n",
      "Running Monte Carlo simulation number 310.\n",
      "Running Monte Carlo simulation number 320.\n",
      "Running Monte Carlo simulation number 330.\n",
      "Running Monte Carlo simulation number 340.\n",
      "Running Monte Carlo simulation number 350.\n",
      "Running Monte Carlo simulation number 360.\n",
      "Running Monte Carlo simulation number 370.\n",
      "Running Monte Carlo simulation number 380.\n",
      "Running Monte Carlo simulation number 390.\n",
      "Running Monte Carlo simulation number 400.\n",
      "Running Monte Carlo simulation number 410.\n",
      "Running Monte Carlo simulation number 420.\n",
      "Running Monte Carlo simulation number 430.\n",
      "Running Monte Carlo simulation number 440.\n",
      "Running Monte Carlo simulation number 450.\n",
      "Running Monte Carlo simulation number 460.\n",
      "Running Monte Carlo simulation number 470.\n",
      "Running Monte Carlo simulation number 480.\n",
      "Running Monte Carlo simulation number 490.\n"
     ]
    },
    {
     "data": {
      "text/html": [
       "<div>\n",
       "<style scoped>\n",
       "    .dataframe tbody tr th:only-of-type {\n",
       "        vertical-align: middle;\n",
       "    }\n",
       "\n",
       "    .dataframe tbody tr th {\n",
       "        vertical-align: top;\n",
       "    }\n",
       "\n",
       "    .dataframe thead th {\n",
       "        text-align: right;\n",
       "    }\n",
       "</style>\n",
       "<table border=\"1\" class=\"dataframe\">\n",
       "  <thead>\n",
       "    <tr style=\"text-align: right;\">\n",
       "      <th></th>\n",
       "      <th>0</th>\n",
       "      <th>1</th>\n",
       "      <th>2</th>\n",
       "      <th>3</th>\n",
       "      <th>4</th>\n",
       "      <th>5</th>\n",
       "      <th>6</th>\n",
       "      <th>7</th>\n",
       "      <th>8</th>\n",
       "      <th>9</th>\n",
       "      <th>...</th>\n",
       "      <th>490</th>\n",
       "      <th>491</th>\n",
       "      <th>492</th>\n",
       "      <th>493</th>\n",
       "      <th>494</th>\n",
       "      <th>495</th>\n",
       "      <th>496</th>\n",
       "      <th>497</th>\n",
       "      <th>498</th>\n",
       "      <th>499</th>\n",
       "    </tr>\n",
       "  </thead>\n",
       "  <tbody>\n",
       "    <tr>\n",
       "      <th>0</th>\n",
       "      <td>1.000000</td>\n",
       "      <td>1.000000</td>\n",
       "      <td>1.000000</td>\n",
       "      <td>1.000000</td>\n",
       "      <td>1.000000</td>\n",
       "      <td>1.000000</td>\n",
       "      <td>1.000000</td>\n",
       "      <td>1.000000</td>\n",
       "      <td>1.000000</td>\n",
       "      <td>1.000000</td>\n",
       "      <td>...</td>\n",
       "      <td>1.000000</td>\n",
       "      <td>1.000000</td>\n",
       "      <td>1.000000</td>\n",
       "      <td>1.000000</td>\n",
       "      <td>1.000000</td>\n",
       "      <td>1.000000</td>\n",
       "      <td>1.000000</td>\n",
       "      <td>1.000000</td>\n",
       "      <td>1.000000</td>\n",
       "      <td>1.000000</td>\n",
       "    </tr>\n",
       "    <tr>\n",
       "      <th>1</th>\n",
       "      <td>0.993430</td>\n",
       "      <td>1.000969</td>\n",
       "      <td>1.017816</td>\n",
       "      <td>1.001046</td>\n",
       "      <td>1.002653</td>\n",
       "      <td>1.006515</td>\n",
       "      <td>0.993928</td>\n",
       "      <td>0.991788</td>\n",
       "      <td>0.997442</td>\n",
       "      <td>1.007702</td>\n",
       "      <td>...</td>\n",
       "      <td>1.001247</td>\n",
       "      <td>0.993368</td>\n",
       "      <td>0.996376</td>\n",
       "      <td>1.019356</td>\n",
       "      <td>0.990826</td>\n",
       "      <td>1.001157</td>\n",
       "      <td>1.012892</td>\n",
       "      <td>0.998937</td>\n",
       "      <td>0.997225</td>\n",
       "      <td>0.994551</td>\n",
       "    </tr>\n",
       "    <tr>\n",
       "      <th>2</th>\n",
       "      <td>1.003079</td>\n",
       "      <td>1.011739</td>\n",
       "      <td>1.024340</td>\n",
       "      <td>1.010604</td>\n",
       "      <td>0.989501</td>\n",
       "      <td>1.002658</td>\n",
       "      <td>1.003820</td>\n",
       "      <td>0.992353</td>\n",
       "      <td>0.995992</td>\n",
       "      <td>1.008912</td>\n",
       "      <td>...</td>\n",
       "      <td>1.004432</td>\n",
       "      <td>0.993790</td>\n",
       "      <td>0.987560</td>\n",
       "      <td>1.018876</td>\n",
       "      <td>0.997069</td>\n",
       "      <td>0.990271</td>\n",
       "      <td>1.009928</td>\n",
       "      <td>0.993057</td>\n",
       "      <td>1.002753</td>\n",
       "      <td>0.996819</td>\n",
       "    </tr>\n",
       "    <tr>\n",
       "      <th>3</th>\n",
       "      <td>1.006695</td>\n",
       "      <td>1.008091</td>\n",
       "      <td>1.013787</td>\n",
       "      <td>1.006319</td>\n",
       "      <td>0.979849</td>\n",
       "      <td>1.010859</td>\n",
       "      <td>1.006013</td>\n",
       "      <td>0.994745</td>\n",
       "      <td>1.011278</td>\n",
       "      <td>1.021955</td>\n",
       "      <td>...</td>\n",
       "      <td>1.010155</td>\n",
       "      <td>0.996389</td>\n",
       "      <td>0.997237</td>\n",
       "      <td>1.012277</td>\n",
       "      <td>0.998032</td>\n",
       "      <td>0.994687</td>\n",
       "      <td>1.004379</td>\n",
       "      <td>1.008636</td>\n",
       "      <td>1.004217</td>\n",
       "      <td>1.000115</td>\n",
       "    </tr>\n",
       "    <tr>\n",
       "      <th>4</th>\n",
       "      <td>1.018985</td>\n",
       "      <td>1.009799</td>\n",
       "      <td>1.021878</td>\n",
       "      <td>1.012766</td>\n",
       "      <td>0.980841</td>\n",
       "      <td>1.011807</td>\n",
       "      <td>1.006690</td>\n",
       "      <td>0.988873</td>\n",
       "      <td>1.002287</td>\n",
       "      <td>1.025863</td>\n",
       "      <td>...</td>\n",
       "      <td>1.015634</td>\n",
       "      <td>0.993899</td>\n",
       "      <td>1.006328</td>\n",
       "      <td>1.007362</td>\n",
       "      <td>1.000915</td>\n",
       "      <td>0.998103</td>\n",
       "      <td>1.006408</td>\n",
       "      <td>1.001517</td>\n",
       "      <td>0.994941</td>\n",
       "      <td>0.997173</td>\n",
       "    </tr>\n",
       "    <tr>\n",
       "      <th>...</th>\n",
       "      <td>...</td>\n",
       "      <td>...</td>\n",
       "      <td>...</td>\n",
       "      <td>...</td>\n",
       "      <td>...</td>\n",
       "      <td>...</td>\n",
       "      <td>...</td>\n",
       "      <td>...</td>\n",
       "      <td>...</td>\n",
       "      <td>...</td>\n",
       "      <td>...</td>\n",
       "      <td>...</td>\n",
       "      <td>...</td>\n",
       "      <td>...</td>\n",
       "      <td>...</td>\n",
       "      <td>...</td>\n",
       "      <td>...</td>\n",
       "      <td>...</td>\n",
       "      <td>...</td>\n",
       "      <td>...</td>\n",
       "      <td>...</td>\n",
       "    </tr>\n",
       "    <tr>\n",
       "      <th>7556</th>\n",
       "      <td>9.226613</td>\n",
       "      <td>20.187330</td>\n",
       "      <td>19.587743</td>\n",
       "      <td>26.132065</td>\n",
       "      <td>11.954866</td>\n",
       "      <td>7.405181</td>\n",
       "      <td>21.345856</td>\n",
       "      <td>19.861446</td>\n",
       "      <td>9.128565</td>\n",
       "      <td>73.200606</td>\n",
       "      <td>...</td>\n",
       "      <td>7.220298</td>\n",
       "      <td>18.249472</td>\n",
       "      <td>10.621609</td>\n",
       "      <td>6.011688</td>\n",
       "      <td>29.862946</td>\n",
       "      <td>25.401058</td>\n",
       "      <td>22.655983</td>\n",
       "      <td>10.121561</td>\n",
       "      <td>13.672275</td>\n",
       "      <td>27.716805</td>\n",
       "    </tr>\n",
       "    <tr>\n",
       "      <th>7557</th>\n",
       "      <td>9.254422</td>\n",
       "      <td>20.191006</td>\n",
       "      <td>19.806194</td>\n",
       "      <td>26.247182</td>\n",
       "      <td>12.132461</td>\n",
       "      <td>7.419981</td>\n",
       "      <td>21.469231</td>\n",
       "      <td>19.971985</td>\n",
       "      <td>9.113943</td>\n",
       "      <td>73.156573</td>\n",
       "      <td>...</td>\n",
       "      <td>7.319670</td>\n",
       "      <td>18.287593</td>\n",
       "      <td>10.622332</td>\n",
       "      <td>6.033196</td>\n",
       "      <td>30.174678</td>\n",
       "      <td>25.489630</td>\n",
       "      <td>22.627557</td>\n",
       "      <td>10.080617</td>\n",
       "      <td>13.593272</td>\n",
       "      <td>27.759842</td>\n",
       "    </tr>\n",
       "    <tr>\n",
       "      <th>7558</th>\n",
       "      <td>9.195704</td>\n",
       "      <td>20.186559</td>\n",
       "      <td>19.780561</td>\n",
       "      <td>26.362751</td>\n",
       "      <td>12.180400</td>\n",
       "      <td>7.494007</td>\n",
       "      <td>21.402372</td>\n",
       "      <td>20.061568</td>\n",
       "      <td>9.119797</td>\n",
       "      <td>71.939549</td>\n",
       "      <td>...</td>\n",
       "      <td>7.334035</td>\n",
       "      <td>18.127811</td>\n",
       "      <td>10.630522</td>\n",
       "      <td>6.013212</td>\n",
       "      <td>30.319651</td>\n",
       "      <td>25.385592</td>\n",
       "      <td>22.570431</td>\n",
       "      <td>10.033440</td>\n",
       "      <td>13.489854</td>\n",
       "      <td>27.392315</td>\n",
       "    </tr>\n",
       "    <tr>\n",
       "      <th>7559</th>\n",
       "      <td>9.182972</td>\n",
       "      <td>20.035960</td>\n",
       "      <td>19.650233</td>\n",
       "      <td>26.230556</td>\n",
       "      <td>12.021772</td>\n",
       "      <td>7.431910</td>\n",
       "      <td>21.315681</td>\n",
       "      <td>20.176344</td>\n",
       "      <td>9.129394</td>\n",
       "      <td>71.879105</td>\n",
       "      <td>...</td>\n",
       "      <td>7.338168</td>\n",
       "      <td>18.249193</td>\n",
       "      <td>10.761544</td>\n",
       "      <td>5.951746</td>\n",
       "      <td>30.277511</td>\n",
       "      <td>25.621153</td>\n",
       "      <td>22.653576</td>\n",
       "      <td>10.121550</td>\n",
       "      <td>13.519025</td>\n",
       "      <td>27.343041</td>\n",
       "    </tr>\n",
       "    <tr>\n",
       "      <th>7560</th>\n",
       "      <td>9.105713</td>\n",
       "      <td>20.160148</td>\n",
       "      <td>19.464721</td>\n",
       "      <td>25.968071</td>\n",
       "      <td>11.981488</td>\n",
       "      <td>7.492842</td>\n",
       "      <td>21.201848</td>\n",
       "      <td>19.956053</td>\n",
       "      <td>9.037314</td>\n",
       "      <td>72.006432</td>\n",
       "      <td>...</td>\n",
       "      <td>7.295479</td>\n",
       "      <td>18.464958</td>\n",
       "      <td>10.966335</td>\n",
       "      <td>5.939795</td>\n",
       "      <td>30.472250</td>\n",
       "      <td>26.147927</td>\n",
       "      <td>22.714005</td>\n",
       "      <td>10.134267</td>\n",
       "      <td>13.647776</td>\n",
       "      <td>27.404290</td>\n",
       "    </tr>\n",
       "  </tbody>\n",
       "</table>\n",
       "<p>7561 rows × 500 columns</p>\n",
       "</div>"
      ],
      "text/plain": [
       "           0          1          2          3          4         5    \\\n",
       "0     1.000000   1.000000   1.000000   1.000000   1.000000  1.000000   \n",
       "1     0.993430   1.000969   1.017816   1.001046   1.002653  1.006515   \n",
       "2     1.003079   1.011739   1.024340   1.010604   0.989501  1.002658   \n",
       "3     1.006695   1.008091   1.013787   1.006319   0.979849  1.010859   \n",
       "4     1.018985   1.009799   1.021878   1.012766   0.980841  1.011807   \n",
       "...        ...        ...        ...        ...        ...       ...   \n",
       "7556  9.226613  20.187330  19.587743  26.132065  11.954866  7.405181   \n",
       "7557  9.254422  20.191006  19.806194  26.247182  12.132461  7.419981   \n",
       "7558  9.195704  20.186559  19.780561  26.362751  12.180400  7.494007   \n",
       "7559  9.182972  20.035960  19.650233  26.230556  12.021772  7.431910   \n",
       "7560  9.105713  20.160148  19.464721  25.968071  11.981488  7.492842   \n",
       "\n",
       "            6          7         8          9    ...       490        491  \\\n",
       "0      1.000000   1.000000  1.000000   1.000000  ...  1.000000   1.000000   \n",
       "1      0.993928   0.991788  0.997442   1.007702  ...  1.001247   0.993368   \n",
       "2      1.003820   0.992353  0.995992   1.008912  ...  1.004432   0.993790   \n",
       "3      1.006013   0.994745  1.011278   1.021955  ...  1.010155   0.996389   \n",
       "4      1.006690   0.988873  1.002287   1.025863  ...  1.015634   0.993899   \n",
       "...         ...        ...       ...        ...  ...       ...        ...   \n",
       "7556  21.345856  19.861446  9.128565  73.200606  ...  7.220298  18.249472   \n",
       "7557  21.469231  19.971985  9.113943  73.156573  ...  7.319670  18.287593   \n",
       "7558  21.402372  20.061568  9.119797  71.939549  ...  7.334035  18.127811   \n",
       "7559  21.315681  20.176344  9.129394  71.879105  ...  7.338168  18.249193   \n",
       "7560  21.201848  19.956053  9.037314  72.006432  ...  7.295479  18.464958   \n",
       "\n",
       "            492       493        494        495        496        497  \\\n",
       "0      1.000000  1.000000   1.000000   1.000000   1.000000   1.000000   \n",
       "1      0.996376  1.019356   0.990826   1.001157   1.012892   0.998937   \n",
       "2      0.987560  1.018876   0.997069   0.990271   1.009928   0.993057   \n",
       "3      0.997237  1.012277   0.998032   0.994687   1.004379   1.008636   \n",
       "4      1.006328  1.007362   1.000915   0.998103   1.006408   1.001517   \n",
       "...         ...       ...        ...        ...        ...        ...   \n",
       "7556  10.621609  6.011688  29.862946  25.401058  22.655983  10.121561   \n",
       "7557  10.622332  6.033196  30.174678  25.489630  22.627557  10.080617   \n",
       "7558  10.630522  6.013212  30.319651  25.385592  22.570431  10.033440   \n",
       "7559  10.761544  5.951746  30.277511  25.621153  22.653576  10.121550   \n",
       "7560  10.966335  5.939795  30.472250  26.147927  22.714005  10.134267   \n",
       "\n",
       "            498        499  \n",
       "0      1.000000   1.000000  \n",
       "1      0.997225   0.994551  \n",
       "2      1.002753   0.996819  \n",
       "3      1.004217   1.000115  \n",
       "4      0.994941   0.997173  \n",
       "...         ...        ...  \n",
       "7556  13.672275  27.716805  \n",
       "7557  13.593272  27.759842  \n",
       "7558  13.489854  27.392315  \n",
       "7559  13.519025  27.343041  \n",
       "7560  13.647776  27.404290  \n",
       "\n",
       "[7561 rows x 500 columns]"
      ]
     },
     "execution_count": 44,
     "metadata": {},
     "output_type": "execute_result"
    }
   ],
   "source": [
    "# Running a Monte Carlo simulation to forecast 30 years cumulative returns\n",
    "MC_Y30.calc_cumulative_return()"
   ]
  },
  {
   "cell_type": "code",
   "execution_count": 45,
   "metadata": {},
   "outputs": [
    {
     "data": {
      "text/plain": [
       "<AxesSubplot:title={'center':'500 Simulations of Cumulative Portfolio Return Trajectories Over the Next 7560 Trading Days.'}>"
      ]
     },
     "execution_count": 45,
     "metadata": {},
     "output_type": "execute_result"
    },
    {
     "data": {
      "image/png": "[encoded data removed]",
      "text/plain": [
       "<Figure size 432x288 with 1 Axes>"
      ]
     },
     "metadata": {
      "needs_background": "light"
     },
     "output_type": "display_data"
    }
   ],
   "source": [
    "# Plot simulation outcomes\n",
    "MC_Y30.plot_simulation()"
   ]
  },
  {
   "cell_type": "code",
   "execution_count": 46,
   "metadata": {},
   "outputs": [
    {
     "data": {
      "text/plain": [
       "<AxesSubplot:title={'center':'Distribution of Final Cumuluative Returns Across All 500 Simulations'}, ylabel='Frequency'>"
      ]
     },
     "execution_count": 46,
     "metadata": {},
     "output_type": "execute_result"
    },
    {
     "data": {
      "image/png": "[encoded data removed]",
      "text/plain": [
       "<Figure size 432x288 with 1 Axes>"
      ]
     },
     "metadata": {
      "needs_background": "light"
     },
     "output_type": "display_data"
    }
   ],
   "source": [
    "# Plot probability distribution and confidence intervals\n",
    "MC_Y30.plot_distribution()"
   ]
  },
  {
   "cell_type": "markdown",
   "metadata": {},
   "source": [
    "### Retirement Analysis"
   ]
  },
  {
   "cell_type": "code",
   "execution_count": 47,
   "metadata": {},
   "outputs": [],
   "source": [
    "# Fetch summary statistics from the Monte Carlo simulation results\n",
    "MC_Y30_stats = MC_Y30.summarize_cumulative_return()"
   ]
  },
  {
   "cell_type": "code",
   "execution_count": 48,
   "metadata": {},
   "outputs": [
    {
     "name": "stdout",
     "output_type": "stream",
     "text": [
      "count           500.000000\n",
      "mean             19.186319\n",
      "std              14.104145\n",
      "min               2.406158\n",
      "25%              10.000505\n",
      "50%              15.493486\n",
      "75%              22.861347\n",
      "max             129.410678\n",
      "95% CI Lower      5.648533\n",
      "95% CI Upper     59.851691\n",
      "Name: 7560, dtype: float64\n"
     ]
    }
   ],
   "source": [
    "# Print summary statistics\n",
    "print(MC_Y30_stats)"
   ]
  },
  {
   "cell_type": "markdown",
   "metadata": {},
   "source": [
    "### Calculate the expected portfolio return at the `95%` lower and upper confidence intervals based on a `$20,000` initial investment."
   ]
  },
  {
   "cell_type": "code",
   "execution_count": 49,
   "metadata": {},
   "outputs": [],
   "source": [
    "# Set initial investment\n",
    "initial_investment = 20000"
   ]
  },
  {
   "cell_type": "code",
   "execution_count": 50,
   "metadata": {},
   "outputs": [],
   "source": [
    "# Use the lower and upper `95%` confidence intervals to calculate the range of the possible outcomes of our $20,000\n",
    "ci_lower = round(MC_Y30_stats[8] * initial_investment, 2)\n",
    "ci_upper = round(MC_Y30_stats[9] * initial_investment, 2)"
   ]
  },
  {
   "cell_type": "code",
   "execution_count": 51,
   "metadata": {},
   "outputs": [
    {
     "name": "stdout",
     "output_type": "stream",
     "text": [
      "There is a 95% chance that an initial investment of $20,000.00 in the portfolio over the next 30 years will end within in the range of $112,970.66 and $1,197,033.81\n"
     ]
    }
   ],
   "source": [
    "# Print results\n",
    "print(f\"There is a 95% chance that an initial investment of ${initial_investment:,.2f} in the portfolio\"\n",
    "      f\" over the next 30 years will end within in the range of\"\n",
    "      f\" ${ci_lower:,.2f} and ${ci_upper:,.2f}\")"
   ]
  },
  {
   "cell_type": "markdown",
   "metadata": {},
   "source": [
    "### Calculate the expected portfolio return at the `95%` lower and upper confidence intervals based on a `50%` increase in the initial investment."
   ]
  },
  {
   "cell_type": "code",
   "execution_count": 52,
   "metadata": {},
   "outputs": [],
   "source": [
    "# Set initial investment\n",
    "initial_investment = 20000 * 1.5"
   ]
  },
  {
   "cell_type": "code",
   "execution_count": 53,
   "metadata": {},
   "outputs": [],
   "source": [
    "# Use the lower and upper `95%` confidence intervals to calculate the range of the possible outcomes of our $30,000\n",
    "ci_lower = round(MC_Y30_stats[8] * initial_investment, 2)\n",
    "ci_upper = round(MC_Y30_stats[9] * initial_investment, 2)"
   ]
  },
  {
   "cell_type": "code",
   "execution_count": 54,
   "metadata": {},
   "outputs": [
    {
     "name": "stdout",
     "output_type": "stream",
     "text": [
      "There is a 95% chance that an initial investment of $30,000.00 in the portfolio over the next 30 years will end within in the range of $169,455.99 and $1,795,550.72\n"
     ]
    }
   ],
   "source": [
    "## Print results\n",
    "print(f\"There is a 95% chance that an initial investment of ${initial_investment:,.2f} in the portfolio\"\n",
    "      f\" over the next 30 years will end within in the range of\"\n",
    "      f\" ${ci_lower:,.2f} and ${ci_upper:,.2f}\")"
   ]
  },
  {
   "cell_type": "markdown",
   "metadata": {},
   "source": [
    "## Optional Challenge - Early Retirement\n",
    "\n",
    "\n",
    "### Five Years Retirement Option"
   ]
  },
  {
   "cell_type": "code",
   "execution_count": 55,
   "metadata": {},
   "outputs": [],
   "source": [
    "# Configuring a Monte Carlo simulation to forecast 5 years cumulative returns\n",
    "MC_Y05 = MCSimulation(portfolio_data = df_stock_data,\n",
    "                      weights = [0.10, 0.90],\n",
    "                      num_simulation = 500 ,\n",
    "                      num_trading_days = 252*5\n",
    "                      )"
   ]
  },
  {
   "cell_type": "code",
   "execution_count": 56,
   "metadata": {},
   "outputs": [
    {
     "name": "stdout",
     "output_type": "stream",
     "text": [
      "Running Monte Carlo simulation number 0.\n",
      "Running Monte Carlo simulation number 10.\n",
      "Running Monte Carlo simulation number 20.\n",
      "Running Monte Carlo simulation number 30.\n",
      "Running Monte Carlo simulation number 40.\n",
      "Running Monte Carlo simulation number 50.\n",
      "Running Monte Carlo simulation number 60.\n",
      "Running Monte Carlo simulation number 70.\n",
      "Running Monte Carlo simulation number 80.\n",
      "Running Monte Carlo simulation number 90.\n",
      "Running Monte Carlo simulation number 100.\n"
     ]
    },
    {
     "name": "stderr",
     "output_type": "stream",
     "text": [
      "C:\\Users\\twigi\\FTBC\\W5_Assignment\\APIs-homework\\MCForecastTools.py:117: PerformanceWarning: DataFrame is highly fragmented.  This is usually the result of calling `frame.insert` many times, which has poor performance.  Consider joining all columns at once using pd.concat(axis=1) instead.  To get a de-fragmented frame, use `newframe = frame.copy()`\n",
      "  portfolio_cumulative_returns[n] = (1 + sim_df.fillna(0)).cumprod()\n"
     ]
    },
    {
     "name": "stdout",
     "output_type": "stream",
     "text": [
      "Running Monte Carlo simulation number 110.\n",
      "Running Monte Carlo simulation number 120.\n",
      "Running Monte Carlo simulation number 130.\n",
      "Running Monte Carlo simulation number 140.\n",
      "Running Monte Carlo simulation number 150.\n",
      "Running Monte Carlo simulation number 160.\n",
      "Running Monte Carlo simulation number 170.\n",
      "Running Monte Carlo simulation number 180.\n",
      "Running Monte Carlo simulation number 190.\n",
      "Running Monte Carlo simulation number 200.\n",
      "Running Monte Carlo simulation number 210.\n",
      "Running Monte Carlo simulation number 220.\n",
      "Running Monte Carlo simulation number 230.\n",
      "Running Monte Carlo simulation number 240.\n",
      "Running Monte Carlo simulation number 250.\n",
      "Running Monte Carlo simulation number 260.\n",
      "Running Monte Carlo simulation number 270.\n",
      "Running Monte Carlo simulation number 280.\n",
      "Running Monte Carlo simulation number 290.\n",
      "Running Monte Carlo simulation number 300.\n",
      "Running Monte Carlo simulation number 310.\n",
      "Running Monte Carlo simulation number 320.\n",
      "Running Monte Carlo simulation number 330.\n",
      "Running Monte Carlo simulation number 340.\n",
      "Running Monte Carlo simulation number 350.\n",
      "Running Monte Carlo simulation number 360.\n",
      "Running Monte Carlo simulation number 370.\n",
      "Running Monte Carlo simulation number 380.\n",
      "Running Monte Carlo simulation number 390.\n",
      "Running Monte Carlo simulation number 400.\n",
      "Running Monte Carlo simulation number 410.\n",
      "Running Monte Carlo simulation number 420.\n",
      "Running Monte Carlo simulation number 430.\n",
      "Running Monte Carlo simulation number 440.\n",
      "Running Monte Carlo simulation number 450.\n",
      "Running Monte Carlo simulation number 460.\n",
      "Running Monte Carlo simulation number 470.\n",
      "Running Monte Carlo simulation number 480.\n",
      "Running Monte Carlo simulation number 490.\n"
     ]
    },
    {
     "data": {
      "text/html": [
       "<div>\n",
       "<style scoped>\n",
       "    .dataframe tbody tr th:only-of-type {\n",
       "        vertical-align: middle;\n",
       "    }\n",
       "\n",
       "    .dataframe tbody tr th {\n",
       "        vertical-align: top;\n",
       "    }\n",
       "\n",
       "    .dataframe thead th {\n",
       "        text-align: right;\n",
       "    }\n",
       "</style>\n",
       "<table border=\"1\" class=\"dataframe\">\n",
       "  <thead>\n",
       "    <tr style=\"text-align: right;\">\n",
       "      <th></th>\n",
       "      <th>0</th>\n",
       "      <th>1</th>\n",
       "      <th>2</th>\n",
       "      <th>3</th>\n",
       "      <th>4</th>\n",
       "      <th>5</th>\n",
       "      <th>6</th>\n",
       "      <th>7</th>\n",
       "      <th>8</th>\n",
       "      <th>9</th>\n",
       "      <th>...</th>\n",
       "      <th>490</th>\n",
       "      <th>491</th>\n",
       "      <th>492</th>\n",
       "      <th>493</th>\n",
       "      <th>494</th>\n",
       "      <th>495</th>\n",
       "      <th>496</th>\n",
       "      <th>497</th>\n",
       "      <th>498</th>\n",
       "      <th>499</th>\n",
       "    </tr>\n",
       "  </thead>\n",
       "  <tbody>\n",
       "    <tr>\n",
       "      <th>0</th>\n",
       "      <td>1.000000</td>\n",
       "      <td>1.000000</td>\n",
       "      <td>1.000000</td>\n",
       "      <td>1.000000</td>\n",
       "      <td>1.000000</td>\n",
       "      <td>1.000000</td>\n",
       "      <td>1.000000</td>\n",
       "      <td>1.000000</td>\n",
       "      <td>1.000000</td>\n",
       "      <td>1.000000</td>\n",
       "      <td>...</td>\n",
       "      <td>1.000000</td>\n",
       "      <td>1.000000</td>\n",
       "      <td>1.000000</td>\n",
       "      <td>1.000000</td>\n",
       "      <td>1.000000</td>\n",
       "      <td>1.000000</td>\n",
       "      <td>1.000000</td>\n",
       "      <td>1.000000</td>\n",
       "      <td>1.000000</td>\n",
       "      <td>1.000000</td>\n",
       "    </tr>\n",
       "    <tr>\n",
       "      <th>1</th>\n",
       "      <td>0.995947</td>\n",
       "      <td>1.022761</td>\n",
       "      <td>0.989497</td>\n",
       "      <td>1.012938</td>\n",
       "      <td>0.993379</td>\n",
       "      <td>0.995400</td>\n",
       "      <td>1.014112</td>\n",
       "      <td>0.983661</td>\n",
       "      <td>0.995735</td>\n",
       "      <td>0.994595</td>\n",
       "      <td>...</td>\n",
       "      <td>0.995871</td>\n",
       "      <td>0.981250</td>\n",
       "      <td>0.985025</td>\n",
       "      <td>1.007576</td>\n",
       "      <td>0.997343</td>\n",
       "      <td>1.013310</td>\n",
       "      <td>0.999402</td>\n",
       "      <td>0.993974</td>\n",
       "      <td>0.996295</td>\n",
       "      <td>1.016877</td>\n",
       "    </tr>\n",
       "    <tr>\n",
       "      <th>2</th>\n",
       "      <td>0.984514</td>\n",
       "      <td>1.015725</td>\n",
       "      <td>0.985316</td>\n",
       "      <td>0.991859</td>\n",
       "      <td>1.006722</td>\n",
       "      <td>0.972610</td>\n",
       "      <td>1.001667</td>\n",
       "      <td>0.980759</td>\n",
       "      <td>0.995888</td>\n",
       "      <td>1.003355</td>\n",
       "      <td>...</td>\n",
       "      <td>0.996536</td>\n",
       "      <td>0.970809</td>\n",
       "      <td>0.998029</td>\n",
       "      <td>1.016114</td>\n",
       "      <td>1.004189</td>\n",
       "      <td>1.012095</td>\n",
       "      <td>1.011646</td>\n",
       "      <td>0.987665</td>\n",
       "      <td>1.004590</td>\n",
       "      <td>1.032211</td>\n",
       "    </tr>\n",
       "    <tr>\n",
       "      <th>3</th>\n",
       "      <td>0.994644</td>\n",
       "      <td>1.017164</td>\n",
       "      <td>0.988077</td>\n",
       "      <td>1.022696</td>\n",
       "      <td>1.004684</td>\n",
       "      <td>0.960759</td>\n",
       "      <td>1.004269</td>\n",
       "      <td>0.989834</td>\n",
       "      <td>0.999507</td>\n",
       "      <td>1.011268</td>\n",
       "      <td>...</td>\n",
       "      <td>0.999872</td>\n",
       "      <td>0.953855</td>\n",
       "      <td>1.006760</td>\n",
       "      <td>1.018752</td>\n",
       "      <td>0.985517</td>\n",
       "      <td>1.002746</td>\n",
       "      <td>1.054995</td>\n",
       "      <td>0.986348</td>\n",
       "      <td>0.999394</td>\n",
       "      <td>1.059998</td>\n",
       "    </tr>\n",
       "    <tr>\n",
       "      <th>4</th>\n",
       "      <td>0.996018</td>\n",
       "      <td>1.018059</td>\n",
       "      <td>1.011988</td>\n",
       "      <td>1.036214</td>\n",
       "      <td>0.984834</td>\n",
       "      <td>0.978623</td>\n",
       "      <td>0.989841</td>\n",
       "      <td>0.989891</td>\n",
       "      <td>0.994173</td>\n",
       "      <td>1.016816</td>\n",
       "      <td>...</td>\n",
       "      <td>1.000466</td>\n",
       "      <td>0.947666</td>\n",
       "      <td>0.998101</td>\n",
       "      <td>1.027235</td>\n",
       "      <td>0.980092</td>\n",
       "      <td>1.004177</td>\n",
       "      <td>1.057133</td>\n",
       "      <td>0.975736</td>\n",
       "      <td>1.023823</td>\n",
       "      <td>1.045646</td>\n",
       "    </tr>\n",
       "    <tr>\n",
       "      <th>...</th>\n",
       "      <td>...</td>\n",
       "      <td>...</td>\n",
       "      <td>...</td>\n",
       "      <td>...</td>\n",
       "      <td>...</td>\n",
       "      <td>...</td>\n",
       "      <td>...</td>\n",
       "      <td>...</td>\n",
       "      <td>...</td>\n",
       "      <td>...</td>\n",
       "      <td>...</td>\n",
       "      <td>...</td>\n",
       "      <td>...</td>\n",
       "      <td>...</td>\n",
       "      <td>...</td>\n",
       "      <td>...</td>\n",
       "      <td>...</td>\n",
       "      <td>...</td>\n",
       "      <td>...</td>\n",
       "      <td>...</td>\n",
       "      <td>...</td>\n",
       "    </tr>\n",
       "    <tr>\n",
       "      <th>1256</th>\n",
       "      <td>1.428661</td>\n",
       "      <td>2.894718</td>\n",
       "      <td>1.878253</td>\n",
       "      <td>1.155415</td>\n",
       "      <td>1.791094</td>\n",
       "      <td>2.121384</td>\n",
       "      <td>1.529191</td>\n",
       "      <td>1.794974</td>\n",
       "      <td>1.215406</td>\n",
       "      <td>1.714352</td>\n",
       "      <td>...</td>\n",
       "      <td>3.658499</td>\n",
       "      <td>2.083188</td>\n",
       "      <td>2.188902</td>\n",
       "      <td>1.662848</td>\n",
       "      <td>2.099313</td>\n",
       "      <td>1.901016</td>\n",
       "      <td>2.229417</td>\n",
       "      <td>3.651574</td>\n",
       "      <td>2.397535</td>\n",
       "      <td>2.774307</td>\n",
       "    </tr>\n",
       "    <tr>\n",
       "      <th>1257</th>\n",
       "      <td>1.437062</td>\n",
       "      <td>2.896395</td>\n",
       "      <td>1.838159</td>\n",
       "      <td>1.150119</td>\n",
       "      <td>1.816916</td>\n",
       "      <td>2.145928</td>\n",
       "      <td>1.497773</td>\n",
       "      <td>1.757104</td>\n",
       "      <td>1.204346</td>\n",
       "      <td>1.714223</td>\n",
       "      <td>...</td>\n",
       "      <td>3.760254</td>\n",
       "      <td>2.106856</td>\n",
       "      <td>2.169781</td>\n",
       "      <td>1.639593</td>\n",
       "      <td>2.081120</td>\n",
       "      <td>1.895731</td>\n",
       "      <td>2.206312</td>\n",
       "      <td>3.568742</td>\n",
       "      <td>2.367871</td>\n",
       "      <td>2.773001</td>\n",
       "    </tr>\n",
       "    <tr>\n",
       "      <th>1258</th>\n",
       "      <td>1.415526</td>\n",
       "      <td>2.894511</td>\n",
       "      <td>1.866605</td>\n",
       "      <td>1.161199</td>\n",
       "      <td>1.790150</td>\n",
       "      <td>2.158820</td>\n",
       "      <td>1.534893</td>\n",
       "      <td>1.737857</td>\n",
       "      <td>1.186511</td>\n",
       "      <td>1.714927</td>\n",
       "      <td>...</td>\n",
       "      <td>3.698438</td>\n",
       "      <td>2.131555</td>\n",
       "      <td>2.173117</td>\n",
       "      <td>1.647033</td>\n",
       "      <td>2.070615</td>\n",
       "      <td>1.908276</td>\n",
       "      <td>2.169751</td>\n",
       "      <td>3.620628</td>\n",
       "      <td>2.398113</td>\n",
       "      <td>2.768017</td>\n",
       "    </tr>\n",
       "    <tr>\n",
       "      <th>1259</th>\n",
       "      <td>1.409429</td>\n",
       "      <td>2.879597</td>\n",
       "      <td>1.882765</td>\n",
       "      <td>1.168813</td>\n",
       "      <td>1.776992</td>\n",
       "      <td>2.162631</td>\n",
       "      <td>1.541742</td>\n",
       "      <td>1.748487</td>\n",
       "      <td>1.184402</td>\n",
       "      <td>1.685544</td>\n",
       "      <td>...</td>\n",
       "      <td>3.712670</td>\n",
       "      <td>2.120732</td>\n",
       "      <td>2.160104</td>\n",
       "      <td>1.659971</td>\n",
       "      <td>2.045861</td>\n",
       "      <td>1.931233</td>\n",
       "      <td>2.203213</td>\n",
       "      <td>3.651640</td>\n",
       "      <td>2.392084</td>\n",
       "      <td>2.752065</td>\n",
       "    </tr>\n",
       "    <tr>\n",
       "      <th>1260</th>\n",
       "      <td>1.404578</td>\n",
       "      <td>2.875243</td>\n",
       "      <td>1.889326</td>\n",
       "      <td>1.165471</td>\n",
       "      <td>1.790105</td>\n",
       "      <td>2.162945</td>\n",
       "      <td>1.577555</td>\n",
       "      <td>1.756261</td>\n",
       "      <td>1.168924</td>\n",
       "      <td>1.684822</td>\n",
       "      <td>...</td>\n",
       "      <td>3.722180</td>\n",
       "      <td>2.131321</td>\n",
       "      <td>2.150989</td>\n",
       "      <td>1.641540</td>\n",
       "      <td>2.086031</td>\n",
       "      <td>1.963291</td>\n",
       "      <td>2.204043</td>\n",
       "      <td>3.615224</td>\n",
       "      <td>2.395835</td>\n",
       "      <td>2.803987</td>\n",
       "    </tr>\n",
       "  </tbody>\n",
       "</table>\n",
       "<p>1261 rows × 500 columns</p>\n",
       "</div>"
      ],
      "text/plain": [
       "           0         1         2         3         4         5         6    \\\n",
       "0     1.000000  1.000000  1.000000  1.000000  1.000000  1.000000  1.000000   \n",
       "1     0.995947  1.022761  0.989497  1.012938  0.993379  0.995400  1.014112   \n",
       "2     0.984514  1.015725  0.985316  0.991859  1.006722  0.972610  1.001667   \n",
       "3     0.994644  1.017164  0.988077  1.022696  1.004684  0.960759  1.004269   \n",
       "4     0.996018  1.018059  1.011988  1.036214  0.984834  0.978623  0.989841   \n",
       "...        ...       ...       ...       ...       ...       ...       ...   \n",
       "1256  1.428661  2.894718  1.878253  1.155415  1.791094  2.121384  1.529191   \n",
       "1257  1.437062  2.896395  1.838159  1.150119  1.816916  2.145928  1.497773   \n",
       "1258  1.415526  2.894511  1.866605  1.161199  1.790150  2.158820  1.534893   \n",
       "1259  1.409429  2.879597  1.882765  1.168813  1.776992  2.162631  1.541742   \n",
       "1260  1.404578  2.875243  1.889326  1.165471  1.790105  2.162945  1.577555   \n",
       "\n",
       "           7         8         9    ...       490       491       492  \\\n",
       "0     1.000000  1.000000  1.000000  ...  1.000000  1.000000  1.000000   \n",
       "1     0.983661  0.995735  0.994595  ...  0.995871  0.981250  0.985025   \n",
       "2     0.980759  0.995888  1.003355  ...  0.996536  0.970809  0.998029   \n",
       "3     0.989834  0.999507  1.011268  ...  0.999872  0.953855  1.006760   \n",
       "4     0.989891  0.994173  1.016816  ...  1.000466  0.947666  0.998101   \n",
       "...        ...       ...       ...  ...       ...       ...       ...   \n",
       "1256  1.794974  1.215406  1.714352  ...  3.658499  2.083188  2.188902   \n",
       "1257  1.757104  1.204346  1.714223  ...  3.760254  2.106856  2.169781   \n",
       "1258  1.737857  1.186511  1.714927  ...  3.698438  2.131555  2.173117   \n",
       "1259  1.748487  1.184402  1.685544  ...  3.712670  2.120732  2.160104   \n",
       "1260  1.756261  1.168924  1.684822  ...  3.722180  2.131321  2.150989   \n",
       "\n",
       "           493       494       495       496       497       498       499  \n",
       "0     1.000000  1.000000  1.000000  1.000000  1.000000  1.000000  1.000000  \n",
       "1     1.007576  0.997343  1.013310  0.999402  0.993974  0.996295  1.016877  \n",
       "2     1.016114  1.004189  1.012095  1.011646  0.987665  1.004590  1.032211  \n",
       "3     1.018752  0.985517  1.002746  1.054995  0.986348  0.999394  1.059998  \n",
       "4     1.027235  0.980092  1.004177  1.057133  0.975736  1.023823  1.045646  \n",
       "...        ...       ...       ...       ...       ...       ...       ...  \n",
       "1256  1.662848  2.099313  1.901016  2.229417  3.651574  2.397535  2.774307  \n",
       "1257  1.639593  2.081120  1.895731  2.206312  3.568742  2.367871  2.773001  \n",
       "1258  1.647033  2.070615  1.908276  2.169751  3.620628  2.398113  2.768017  \n",
       "1259  1.659971  2.045861  1.931233  2.203213  3.651640  2.392084  2.752065  \n",
       "1260  1.641540  2.086031  1.963291  2.204043  3.615224  2.395835  2.803987  \n",
       "\n",
       "[1261 rows x 500 columns]"
      ]
     },
     "execution_count": 56,
     "metadata": {},
     "output_type": "execute_result"
    }
   ],
   "source": [
    "# Running a Monte Carlo simulation to forecast 5 years cumulative returns\n",
    "MC_Y05.calc_cumulative_return()"
   ]
  },
  {
   "cell_type": "code",
   "execution_count": 57,
   "metadata": {},
   "outputs": [
    {
     "data": {
      "text/plain": [
       "<AxesSubplot:title={'center':'500 Simulations of Cumulative Portfolio Return Trajectories Over the Next 1260 Trading Days.'}>"
      ]
     },
     "execution_count": 57,
     "metadata": {},
     "output_type": "execute_result"
    },
    {
     "data": {
      "image/png": "[encoded data removed]",
      "text/plain": [
       "<Figure size 432x288 with 1 Axes>"
      ]
     },
     "metadata": {
      "needs_background": "light"
     },
     "output_type": "display_data"
    }
   ],
   "source": [
    "# Plot simulation outcomes\n",
    "MC_Y05.plot_simulation()"
   ]
  },
  {
   "cell_type": "code",
   "execution_count": 58,
   "metadata": {},
   "outputs": [
    {
     "data": {
      "text/plain": [
       "<AxesSubplot:title={'center':'Distribution of Final Cumuluative Returns Across All 500 Simulations'}, ylabel='Frequency'>"
      ]
     },
     "execution_count": 58,
     "metadata": {},
     "output_type": "execute_result"
    },
    {
     "data": {
      "image/png": "[encoded data removed]",
      "text/plain": [
       "<Figure size 432x288 with 1 Axes>"
      ]
     },
     "metadata": {
      "needs_background": "light"
     },
     "output_type": "display_data"
    }
   ],
   "source": [
    "# Plot probability distribution and confidence intervals\n",
    "MC_Y05.plot_distribution()"
   ]
  },
  {
   "cell_type": "code",
   "execution_count": 59,
   "metadata": {},
   "outputs": [],
   "source": [
    "# Fetch summary statistics from the Monte Carlo simulation results\n",
    "MC_Y05_stats = MC_Y05.summarize_cumulative_return()"
   ]
  },
  {
   "cell_type": "code",
   "execution_count": 60,
   "metadata": {},
   "outputs": [
    {
     "name": "stdout",
     "output_type": "stream",
     "text": [
      "count           500.000000\n",
      "mean              2.010253\n",
      "std               0.796563\n",
      "min               0.580042\n",
      "25%               1.460590\n",
      "50%               1.821318\n",
      "75%               2.394739\n",
      "max               5.421999\n",
      "95% CI Lower      0.929967\n",
      "95% CI Upper      4.002141\n",
      "Name: 1260, dtype: float64\n"
     ]
    }
   ],
   "source": [
    "# Print summary statistics\n",
    "print(MC_Y05_stats)"
   ]
  },
  {
   "cell_type": "code",
   "execution_count": 61,
   "metadata": {},
   "outputs": [],
   "source": [
    "# Set initial investment\n",
    "initial_investment = 20000*5"
   ]
  },
  {
   "cell_type": "code",
   "execution_count": 62,
   "metadata": {},
   "outputs": [],
   "source": [
    "# Use the lower and upper `95%` confidence intervals to calculate the range of the possible outcomes of our $60,000\n",
    "ci_lower_five = round(MC_Y05_stats[8] * initial_investment, 2)\n",
    "ci_upper_five = round(MC_Y05_stats[9] * initial_investment, 2)"
   ]
  },
  {
   "cell_type": "code",
   "execution_count": 63,
   "metadata": {},
   "outputs": [
    {
     "name": "stdout",
     "output_type": "stream",
     "text": [
      "There is a 95% chance that an initial investment of $100,000.00 in the portfolio over the next 5 years will end within in the range of $92,996.67 and $400,214.13\n"
     ]
    }
   ],
   "source": [
    "# Print results\n",
    "print(f\"There is a 95% chance that an initial investment of ${initial_investment:,.2f} in the portfolio\"\n",
    "      f\" over the next 5 years will end within in the range of\"\n",
    "      f\" ${ci_lower_five:,.2f} and ${ci_upper_five:,.2f}\")"
   ]
  },
  {
   "cell_type": "markdown",
   "metadata": {},
   "source": [
    "### Ten Years Retirement Option"
   ]
  },
  {
   "cell_type": "code",
   "execution_count": 64,
   "metadata": {},
   "outputs": [],
   "source": [
    "# Configuring a Monte Carlo simulation to forecast 10 years cumulative returns\n",
    "MC_Y10 = MCSimulation(portfolio_data = df_stock_data,\n",
    "                      weights = [0.30, 0.70],\n",
    "                      num_simulation = 500 ,\n",
    "                      num_trading_days = 252*10\n",
    "                      )"
   ]
  },
  {
   "cell_type": "code",
   "execution_count": 65,
   "metadata": {},
   "outputs": [
    {
     "name": "stdout",
     "output_type": "stream",
     "text": [
      "Running Monte Carlo simulation number 0.\n",
      "Running Monte Carlo simulation number 10.\n",
      "Running Monte Carlo simulation number 20.\n",
      "Running Monte Carlo simulation number 30.\n",
      "Running Monte Carlo simulation number 40.\n",
      "Running Monte Carlo simulation number 50.\n",
      "Running Monte Carlo simulation number 60.\n",
      "Running Monte Carlo simulation number 70.\n",
      "Running Monte Carlo simulation number 80.\n",
      "Running Monte Carlo simulation number 90.\n",
      "Running Monte Carlo simulation number 100.\n"
     ]
    },
    {
     "name": "stderr",
     "output_type": "stream",
     "text": [
      "C:\\Users\\twigi\\FTBC\\W5_Assignment\\APIs-homework\\MCForecastTools.py:117: PerformanceWarning: DataFrame is highly fragmented.  This is usually the result of calling `frame.insert` many times, which has poor performance.  Consider joining all columns at once using pd.concat(axis=1) instead.  To get a de-fragmented frame, use `newframe = frame.copy()`\n",
      "  portfolio_cumulative_returns[n] = (1 + sim_df.fillna(0)).cumprod()\n"
     ]
    },
    {
     "name": "stdout",
     "output_type": "stream",
     "text": [
      "Running Monte Carlo simulation number 110.\n",
      "Running Monte Carlo simulation number 120.\n",
      "Running Monte Carlo simulation number 130.\n",
      "Running Monte Carlo simulation number 140.\n",
      "Running Monte Carlo simulation number 150.\n",
      "Running Monte Carlo simulation number 160.\n",
      "Running Monte Carlo simulation number 170.\n",
      "Running Monte Carlo simulation number 180.\n",
      "Running Monte Carlo simulation number 190.\n",
      "Running Monte Carlo simulation number 200.\n",
      "Running Monte Carlo simulation number 210.\n",
      "Running Monte Carlo simulation number 220.\n",
      "Running Monte Carlo simulation number 230.\n",
      "Running Monte Carlo simulation number 240.\n",
      "Running Monte Carlo simulation number 250.\n",
      "Running Monte Carlo simulation number 260.\n",
      "Running Monte Carlo simulation number 270.\n",
      "Running Monte Carlo simulation number 280.\n",
      "Running Monte Carlo simulation number 290.\n",
      "Running Monte Carlo simulation number 300.\n",
      "Running Monte Carlo simulation number 310.\n",
      "Running Monte Carlo simulation number 320.\n",
      "Running Monte Carlo simulation number 330.\n",
      "Running Monte Carlo simulation number 340.\n",
      "Running Monte Carlo simulation number 350.\n",
      "Running Monte Carlo simulation number 360.\n",
      "Running Monte Carlo simulation number 370.\n",
      "Running Monte Carlo simulation number 380.\n",
      "Running Monte Carlo simulation number 390.\n",
      "Running Monte Carlo simulation number 400.\n",
      "Running Monte Carlo simulation number 410.\n",
      "Running Monte Carlo simulation number 420.\n",
      "Running Monte Carlo simulation number 430.\n",
      "Running Monte Carlo simulation number 440.\n",
      "Running Monte Carlo simulation number 450.\n",
      "Running Monte Carlo simulation number 460.\n",
      "Running Monte Carlo simulation number 470.\n",
      "Running Monte Carlo simulation number 480.\n",
      "Running Monte Carlo simulation number 490.\n"
     ]
    },
    {
     "data": {
      "text/html": [
       "<div>\n",
       "<style scoped>\n",
       "    .dataframe tbody tr th:only-of-type {\n",
       "        vertical-align: middle;\n",
       "    }\n",
       "\n",
       "    .dataframe tbody tr th {\n",
       "        vertical-align: top;\n",
       "    }\n",
       "\n",
       "    .dataframe thead th {\n",
       "        text-align: right;\n",
       "    }\n",
       "</style>\n",
       "<table border=\"1\" class=\"dataframe\">\n",
       "  <thead>\n",
       "    <tr style=\"text-align: right;\">\n",
       "      <th></th>\n",
       "      <th>0</th>\n",
       "      <th>1</th>\n",
       "      <th>2</th>\n",
       "      <th>3</th>\n",
       "      <th>4</th>\n",
       "      <th>5</th>\n",
       "      <th>6</th>\n",
       "      <th>7</th>\n",
       "      <th>8</th>\n",
       "      <th>9</th>\n",
       "      <th>...</th>\n",
       "      <th>490</th>\n",
       "      <th>491</th>\n",
       "      <th>492</th>\n",
       "      <th>493</th>\n",
       "      <th>494</th>\n",
       "      <th>495</th>\n",
       "      <th>496</th>\n",
       "      <th>497</th>\n",
       "      <th>498</th>\n",
       "      <th>499</th>\n",
       "    </tr>\n",
       "  </thead>\n",
       "  <tbody>\n",
       "    <tr>\n",
       "      <th>0</th>\n",
       "      <td>1.000000</td>\n",
       "      <td>1.000000</td>\n",
       "      <td>1.000000</td>\n",
       "      <td>1.000000</td>\n",
       "      <td>1.000000</td>\n",
       "      <td>1.000000</td>\n",
       "      <td>1.000000</td>\n",
       "      <td>1.000000</td>\n",
       "      <td>1.000000</td>\n",
       "      <td>1.000000</td>\n",
       "      <td>...</td>\n",
       "      <td>1.000000</td>\n",
       "      <td>1.000000</td>\n",
       "      <td>1.000000</td>\n",
       "      <td>1.000000</td>\n",
       "      <td>1.000000</td>\n",
       "      <td>1.000000</td>\n",
       "      <td>1.000000</td>\n",
       "      <td>1.000000</td>\n",
       "      <td>1.000000</td>\n",
       "      <td>1.000000</td>\n",
       "    </tr>\n",
       "    <tr>\n",
       "      <th>1</th>\n",
       "      <td>1.000746</td>\n",
       "      <td>0.996859</td>\n",
       "      <td>0.993787</td>\n",
       "      <td>0.987890</td>\n",
       "      <td>0.997958</td>\n",
       "      <td>0.994990</td>\n",
       "      <td>1.005940</td>\n",
       "      <td>0.991464</td>\n",
       "      <td>1.004727</td>\n",
       "      <td>0.995590</td>\n",
       "      <td>...</td>\n",
       "      <td>0.999568</td>\n",
       "      <td>1.001854</td>\n",
       "      <td>0.996075</td>\n",
       "      <td>1.008920</td>\n",
       "      <td>1.013919</td>\n",
       "      <td>1.005207</td>\n",
       "      <td>1.008320</td>\n",
       "      <td>1.008880</td>\n",
       "      <td>1.000802</td>\n",
       "      <td>1.001255</td>\n",
       "    </tr>\n",
       "    <tr>\n",
       "      <th>2</th>\n",
       "      <td>1.006154</td>\n",
       "      <td>0.989039</td>\n",
       "      <td>0.993465</td>\n",
       "      <td>0.989085</td>\n",
       "      <td>1.001390</td>\n",
       "      <td>1.008240</td>\n",
       "      <td>1.006671</td>\n",
       "      <td>0.989010</td>\n",
       "      <td>1.004459</td>\n",
       "      <td>0.993837</td>\n",
       "      <td>...</td>\n",
       "      <td>0.985900</td>\n",
       "      <td>0.998663</td>\n",
       "      <td>0.997476</td>\n",
       "      <td>1.001710</td>\n",
       "      <td>1.019905</td>\n",
       "      <td>1.020783</td>\n",
       "      <td>1.010662</td>\n",
       "      <td>0.998438</td>\n",
       "      <td>1.000353</td>\n",
       "      <td>1.005794</td>\n",
       "    </tr>\n",
       "    <tr>\n",
       "      <th>3</th>\n",
       "      <td>1.013094</td>\n",
       "      <td>0.988783</td>\n",
       "      <td>1.006137</td>\n",
       "      <td>1.002464</td>\n",
       "      <td>1.002799</td>\n",
       "      <td>1.021009</td>\n",
       "      <td>1.008795</td>\n",
       "      <td>1.000446</td>\n",
       "      <td>0.981143</td>\n",
       "      <td>0.989574</td>\n",
       "      <td>...</td>\n",
       "      <td>0.981856</td>\n",
       "      <td>1.011487</td>\n",
       "      <td>0.988648</td>\n",
       "      <td>1.007887</td>\n",
       "      <td>1.016468</td>\n",
       "      <td>1.023775</td>\n",
       "      <td>1.001887</td>\n",
       "      <td>0.994497</td>\n",
       "      <td>0.995560</td>\n",
       "      <td>1.013626</td>\n",
       "    </tr>\n",
       "    <tr>\n",
       "      <th>4</th>\n",
       "      <td>1.021867</td>\n",
       "      <td>0.978284</td>\n",
       "      <td>0.995313</td>\n",
       "      <td>1.005912</td>\n",
       "      <td>1.009168</td>\n",
       "      <td>1.015845</td>\n",
       "      <td>0.992878</td>\n",
       "      <td>0.996739</td>\n",
       "      <td>0.986347</td>\n",
       "      <td>0.973731</td>\n",
       "      <td>...</td>\n",
       "      <td>0.978532</td>\n",
       "      <td>1.017171</td>\n",
       "      <td>0.986091</td>\n",
       "      <td>1.001901</td>\n",
       "      <td>1.031453</td>\n",
       "      <td>1.023891</td>\n",
       "      <td>1.006411</td>\n",
       "      <td>0.985734</td>\n",
       "      <td>0.996870</td>\n",
       "      <td>1.029253</td>\n",
       "    </tr>\n",
       "    <tr>\n",
       "      <th>...</th>\n",
       "      <td>...</td>\n",
       "      <td>...</td>\n",
       "      <td>...</td>\n",
       "      <td>...</td>\n",
       "      <td>...</td>\n",
       "      <td>...</td>\n",
       "      <td>...</td>\n",
       "      <td>...</td>\n",
       "      <td>...</td>\n",
       "      <td>...</td>\n",
       "      <td>...</td>\n",
       "      <td>...</td>\n",
       "      <td>...</td>\n",
       "      <td>...</td>\n",
       "      <td>...</td>\n",
       "      <td>...</td>\n",
       "      <td>...</td>\n",
       "      <td>...</td>\n",
       "      <td>...</td>\n",
       "      <td>...</td>\n",
       "      <td>...</td>\n",
       "    </tr>\n",
       "    <tr>\n",
       "      <th>2516</th>\n",
       "      <td>5.923289</td>\n",
       "      <td>2.806861</td>\n",
       "      <td>1.802748</td>\n",
       "      <td>2.822646</td>\n",
       "      <td>3.686842</td>\n",
       "      <td>1.508934</td>\n",
       "      <td>3.566512</td>\n",
       "      <td>3.540850</td>\n",
       "      <td>3.227333</td>\n",
       "      <td>3.128292</td>\n",
       "      <td>...</td>\n",
       "      <td>2.806021</td>\n",
       "      <td>3.087806</td>\n",
       "      <td>1.605798</td>\n",
       "      <td>3.343228</td>\n",
       "      <td>3.959362</td>\n",
       "      <td>2.570438</td>\n",
       "      <td>1.901099</td>\n",
       "      <td>2.627839</td>\n",
       "      <td>2.036916</td>\n",
       "      <td>2.608631</td>\n",
       "    </tr>\n",
       "    <tr>\n",
       "      <th>2517</th>\n",
       "      <td>5.946181</td>\n",
       "      <td>2.779886</td>\n",
       "      <td>1.822813</td>\n",
       "      <td>2.803928</td>\n",
       "      <td>3.672632</td>\n",
       "      <td>1.493311</td>\n",
       "      <td>3.576203</td>\n",
       "      <td>3.565326</td>\n",
       "      <td>3.218805</td>\n",
       "      <td>3.128552</td>\n",
       "      <td>...</td>\n",
       "      <td>2.825982</td>\n",
       "      <td>3.113856</td>\n",
       "      <td>1.620998</td>\n",
       "      <td>3.336166</td>\n",
       "      <td>3.972422</td>\n",
       "      <td>2.586416</td>\n",
       "      <td>1.912917</td>\n",
       "      <td>2.646662</td>\n",
       "      <td>2.046506</td>\n",
       "      <td>2.593961</td>\n",
       "    </tr>\n",
       "    <tr>\n",
       "      <th>2518</th>\n",
       "      <td>6.008446</td>\n",
       "      <td>2.747157</td>\n",
       "      <td>1.838794</td>\n",
       "      <td>2.782915</td>\n",
       "      <td>3.655705</td>\n",
       "      <td>1.487045</td>\n",
       "      <td>3.583115</td>\n",
       "      <td>3.537862</td>\n",
       "      <td>3.220938</td>\n",
       "      <td>3.134114</td>\n",
       "      <td>...</td>\n",
       "      <td>2.806628</td>\n",
       "      <td>3.120163</td>\n",
       "      <td>1.640406</td>\n",
       "      <td>3.354931</td>\n",
       "      <td>3.922624</td>\n",
       "      <td>2.630682</td>\n",
       "      <td>1.919242</td>\n",
       "      <td>2.642965</td>\n",
       "      <td>2.042113</td>\n",
       "      <td>2.603215</td>\n",
       "    </tr>\n",
       "    <tr>\n",
       "      <th>2519</th>\n",
       "      <td>5.944563</td>\n",
       "      <td>2.747836</td>\n",
       "      <td>1.855016</td>\n",
       "      <td>2.790938</td>\n",
       "      <td>3.687046</td>\n",
       "      <td>1.480656</td>\n",
       "      <td>3.614755</td>\n",
       "      <td>3.539676</td>\n",
       "      <td>3.233390</td>\n",
       "      <td>3.149893</td>\n",
       "      <td>...</td>\n",
       "      <td>2.811505</td>\n",
       "      <td>3.156319</td>\n",
       "      <td>1.646962</td>\n",
       "      <td>3.403040</td>\n",
       "      <td>3.927554</td>\n",
       "      <td>2.637755</td>\n",
       "      <td>1.929197</td>\n",
       "      <td>2.634943</td>\n",
       "      <td>2.046454</td>\n",
       "      <td>2.625559</td>\n",
       "    </tr>\n",
       "    <tr>\n",
       "      <th>2520</th>\n",
       "      <td>5.989706</td>\n",
       "      <td>2.738694</td>\n",
       "      <td>1.862251</td>\n",
       "      <td>2.774778</td>\n",
       "      <td>3.693244</td>\n",
       "      <td>1.467827</td>\n",
       "      <td>3.577204</td>\n",
       "      <td>3.518251</td>\n",
       "      <td>3.230384</td>\n",
       "      <td>3.145518</td>\n",
       "      <td>...</td>\n",
       "      <td>2.805870</td>\n",
       "      <td>3.141024</td>\n",
       "      <td>1.622359</td>\n",
       "      <td>3.449004</td>\n",
       "      <td>3.966711</td>\n",
       "      <td>2.636861</td>\n",
       "      <td>1.945320</td>\n",
       "      <td>2.657636</td>\n",
       "      <td>2.061027</td>\n",
       "      <td>2.632711</td>\n",
       "    </tr>\n",
       "  </tbody>\n",
       "</table>\n",
       "<p>2521 rows × 500 columns</p>\n",
       "</div>"
      ],
      "text/plain": [
       "           0         1         2         3         4         5         6    \\\n",
       "0     1.000000  1.000000  1.000000  1.000000  1.000000  1.000000  1.000000   \n",
       "1     1.000746  0.996859  0.993787  0.987890  0.997958  0.994990  1.005940   \n",
       "2     1.006154  0.989039  0.993465  0.989085  1.001390  1.008240  1.006671   \n",
       "3     1.013094  0.988783  1.006137  1.002464  1.002799  1.021009  1.008795   \n",
       "4     1.021867  0.978284  0.995313  1.005912  1.009168  1.015845  0.992878   \n",
       "...        ...       ...       ...       ...       ...       ...       ...   \n",
       "2516  5.923289  2.806861  1.802748  2.822646  3.686842  1.508934  3.566512   \n",
       "2517  5.946181  2.779886  1.822813  2.803928  3.672632  1.493311  3.576203   \n",
       "2518  6.008446  2.747157  1.838794  2.782915  3.655705  1.487045  3.583115   \n",
       "2519  5.944563  2.747836  1.855016  2.790938  3.687046  1.480656  3.614755   \n",
       "2520  5.989706  2.738694  1.862251  2.774778  3.693244  1.467827  3.577204   \n",
       "\n",
       "           7         8         9    ...       490       491       492  \\\n",
       "0     1.000000  1.000000  1.000000  ...  1.000000  1.000000  1.000000   \n",
       "1     0.991464  1.004727  0.995590  ...  0.999568  1.001854  0.996075   \n",
       "2     0.989010  1.004459  0.993837  ...  0.985900  0.998663  0.997476   \n",
       "3     1.000446  0.981143  0.989574  ...  0.981856  1.011487  0.988648   \n",
       "4     0.996739  0.986347  0.973731  ...  0.978532  1.017171  0.986091   \n",
       "...        ...       ...       ...  ...       ...       ...       ...   \n",
       "2516  3.540850  3.227333  3.128292  ...  2.806021  3.087806  1.605798   \n",
       "2517  3.565326  3.218805  3.128552  ...  2.825982  3.113856  1.620998   \n",
       "2518  3.537862  3.220938  3.134114  ...  2.806628  3.120163  1.640406   \n",
       "2519  3.539676  3.233390  3.149893  ...  2.811505  3.156319  1.646962   \n",
       "2520  3.518251  3.230384  3.145518  ...  2.805870  3.141024  1.622359   \n",
       "\n",
       "           493       494       495       496       497       498       499  \n",
       "0     1.000000  1.000000  1.000000  1.000000  1.000000  1.000000  1.000000  \n",
       "1     1.008920  1.013919  1.005207  1.008320  1.008880  1.000802  1.001255  \n",
       "2     1.001710  1.019905  1.020783  1.010662  0.998438  1.000353  1.005794  \n",
       "3     1.007887  1.016468  1.023775  1.001887  0.994497  0.995560  1.013626  \n",
       "4     1.001901  1.031453  1.023891  1.006411  0.985734  0.996870  1.029253  \n",
       "...        ...       ...       ...       ...       ...       ...       ...  \n",
       "2516  3.343228  3.959362  2.570438  1.901099  2.627839  2.036916  2.608631  \n",
       "2517  3.336166  3.972422  2.586416  1.912917  2.646662  2.046506  2.593961  \n",
       "2518  3.354931  3.922624  2.630682  1.919242  2.642965  2.042113  2.603215  \n",
       "2519  3.403040  3.927554  2.637755  1.929197  2.634943  2.046454  2.625559  \n",
       "2520  3.449004  3.966711  2.636861  1.945320  2.657636  2.061027  2.632711  \n",
       "\n",
       "[2521 rows x 500 columns]"
      ]
     },
     "execution_count": 65,
     "metadata": {},
     "output_type": "execute_result"
    }
   ],
   "source": [
    "# Running a Monte Carlo simulation to forecast 10 years cumulative returns\n",
    "MC_Y10.calc_cumulative_return()"
   ]
  },
  {
   "cell_type": "code",
   "execution_count": 66,
   "metadata": {},
   "outputs": [
    {
     "data": {
      "text/plain": [
       "<AxesSubplot:title={'center':'500 Simulations of Cumulative Portfolio Return Trajectories Over the Next 2520 Trading Days.'}>"
      ]
     },
     "execution_count": 66,
     "metadata": {},
     "output_type": "execute_result"
    },
    {
     "data": {
      "image/png": "[encoded data removed]",
      "text/plain": [
       "<Figure size 432x288 with 1 Axes>"
      ]
     },
     "metadata": {
      "needs_background": "light"
     },
     "output_type": "display_data"
    }
   ],
   "source": [
    "# Plot simulation outcomes\n",
    "MC_Y10.plot_simulation()"
   ]
  },
  {
   "cell_type": "code",
   "execution_count": 67,
   "metadata": {},
   "outputs": [
    {
     "data": {
      "text/plain": [
       "<AxesSubplot:title={'center':'Distribution of Final Cumuluative Returns Across All 500 Simulations'}, ylabel='Frequency'>"
      ]
     },
     "execution_count": 67,
     "metadata": {},
     "output_type": "execute_result"
    },
    {
     "data": {
      "image/png": "[encoded data removed]",
      "text/plain": [
       "<Figure size 432x288 with 1 Axes>"
      ]
     },
     "metadata": {
      "needs_background": "light"
     },
     "output_type": "display_data"
    }
   ],
   "source": [
    "# Plot probability distribution and confidence intervals\n",
    "MC_Y10.plot_distribution()"
   ]
  },
  {
   "cell_type": "code",
   "execution_count": 68,
   "metadata": {},
   "outputs": [],
   "source": [
    "# Fetch summary statistics from the Monte Carlo simulation results\n",
    "MC_Y10_stats = MC_Y10.summarize_cumulative_return()"
   ]
  },
  {
   "cell_type": "code",
   "execution_count": 69,
   "metadata": {},
   "outputs": [
    {
     "name": "stdout",
     "output_type": "stream",
     "text": [
      "count           500.000000\n",
      "mean              3.045558\n",
      "std               1.221920\n",
      "min               0.771852\n",
      "25%               2.143771\n",
      "50%               2.775124\n",
      "75%               3.670448\n",
      "max               7.358730\n",
      "95% CI Lower      1.286221\n",
      "95% CI Upper      6.090845\n",
      "Name: 2520, dtype: float64\n"
     ]
    }
   ],
   "source": [
    "# Print summary statistics\n",
    "print(MC_Y10_stats)"
   ]
  },
  {
   "cell_type": "code",
   "execution_count": 70,
   "metadata": {},
   "outputs": [],
   "source": [
    "# Set initial investment\n",
    "initial_investment = 20000*8"
   ]
  },
  {
   "cell_type": "code",
   "execution_count": 71,
   "metadata": {},
   "outputs": [],
   "source": [
    "# Use the lower and upper `95%` confidence intervals to calculate the range of the possible outcomes of our $60,000\n",
    "ci_lower_ten = round(MC_Y10_stats[8] * initial_investment, 2)\n",
    "ci_upper_ten = round(MC_Y10_stats[9] * initial_investment, 2)"
   ]
  },
  {
   "cell_type": "code",
   "execution_count": 75,
   "metadata": {},
   "outputs": [
    {
     "name": "stdout",
     "output_type": "stream",
     "text": [
      "There is a 95% chance that an initial investment of $160,000.00 in the portfolio over the next 10 years will end within in the range of $205,795.36 and $974,535.14\n"
     ]
    }
   ],
   "source": [
    "# Print results\n",
    "print(f\"There is a 95% chance that an initial investment of ${initial_investment:,.2f} in the portfolio\"\n",
    "      f\" over the next 10 years will end within in the range of\"\n",
    "      f\" ${ci_lower_ten:,.2f} and ${ci_upper_ten:,.2f}\")"
   ]
  },
  {
   "cell_type": "code",
   "execution_count": null,
   "metadata": {},
   "outputs": [],
   "source": []
  }
 ],
 "metadata": {
  "kernelspec": {
   "display_name": "Python 3 (ipykernel)",
   "language": "python",
   "name": "python3"
  },
  "language_info": {
   "codemirror_mode": {
    "name": "ipython",
    "version": 3
   },
   "file_extension": ".py",
   "mimetype": "text/x-python",
   "name": "python",
   "nbconvert_exporter": "python",
   "pygments_lexer": "ipython3",
   "version": "3.7.13"
  },
  "nteract": {
   "version": "0.28.0"
  },
  "toc-showcode": false
 },
 "nbformat": 4,
 "nbformat_minor": 4
}
