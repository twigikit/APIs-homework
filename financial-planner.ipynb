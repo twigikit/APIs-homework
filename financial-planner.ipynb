{
 "cells": [
  {
   "cell_type": "markdown",
   "metadata": {},
   "source": [
    "# Unit 5 - Financial Planning"
   ]
  },
  {
   "cell_type": "code",
   "execution_count": 1,
   "metadata": {},
   "outputs": [],
   "source": [
    "# Initial imports\n",
    "import os\n",
    "import requests\n",
    "import json\n",
    "import pandas as pd\n",
    "from dotenv import load_dotenv\n",
    "import alpaca_trade_api as tradeapi\n",
    "from MCForecastTools import MCSimulation\n",
    "\n",
    "%matplotlib inline"
   ]
  },
  {
   "cell_type": "code",
   "execution_count": 2,
   "metadata": {},
   "outputs": [],
   "source": [
    "#suppress warnings\n",
    "import warnings\n",
    "warnings.filterwarnings('ignore')"
   ]
  },
  {
   "cell_type": "code",
   "execution_count": 3,
   "metadata": {},
   "outputs": [
    {
     "data": {
      "text/plain": [
       "True"
      ]
     },
     "execution_count": 3,
     "metadata": {},
     "output_type": "execute_result"
    }
   ],
   "source": [
    "# Load .env enviroment variables\n",
    "load_dotenv()"
   ]
  },
  {
   "cell_type": "markdown",
   "metadata": {
    "tags": []
   },
   "source": [
    "## Part 1 - Personal Finance Planner"
   ]
  },
  {
   "cell_type": "markdown",
   "metadata": {},
   "source": [
    "### Collect Crypto Prices Using the `requests` Library"
   ]
  },
  {
   "cell_type": "code",
   "execution_count": 4,
   "metadata": {},
   "outputs": [],
   "source": [
    "# Set current amount of crypto assets\n",
    "my_btc = 1.2\n",
    "my_eth = 5.3"
   ]
  },
  {
   "cell_type": "code",
   "execution_count": 5,
   "metadata": {},
   "outputs": [],
   "source": [
    "# Crypto API URLs\n",
    "btc_url = \"https://api.alternative.me/v2/ticker/Bitcoin/?convert=USD\"\n",
    "eth_url = \"https://api.alternative.me/v2/ticker/Ethereum/?convert=USD\""
   ]
  },
  {
   "cell_type": "code",
   "execution_count": 6,
   "metadata": {},
   "outputs": [
    {
     "data": {
      "text/plain": [
       "<Response [200]>"
      ]
     },
     "execution_count": 6,
     "metadata": {},
     "output_type": "execute_result"
    }
   ],
   "source": [
    "# Fetch current BTC price\n",
    "btc_price_fetch = requests.get(btc_url)\n",
    "btc_price_fetch"
   ]
  },
  {
   "cell_type": "code",
   "execution_count": 7,
   "metadata": {},
   "outputs": [
    {
     "data": {
      "text/plain": [
       "{'data': {'1': {'id': 1,\n",
       "   'name': 'Bitcoin',\n",
       "   'symbol': 'BTC',\n",
       "   'website_slug': 'bitcoin',\n",
       "   'rank': 1,\n",
       "   'circulating_supply': 19175187,\n",
       "   'total_supply': 19175187,\n",
       "   'max_supply': 21000000,\n",
       "   'quotes': {'USD': {'price': 19405.98,\n",
       "     'volume_24h': 18100046708,\n",
       "     'market_cap': 372127020967,\n",
       "     'percentage_change_1h': 0.310021480613954,\n",
       "     'percentage_change_24h': -0.471411361778428,\n",
       "     'percentage_change_7d': 1.78771040949033,\n",
       "     'percent_change_1h': 0.310021480613954,\n",
       "     'percent_change_24h': -0.471411361778428,\n",
       "     'percent_change_7d': 1.78771040949033}},\n",
       "   'last_updated': 1665407646}},\n",
       " 'metadata': {'timestamp': 1665407646,\n",
       "  'num_cryptocurrencies': 3116,\n",
       "  'error': None}}"
      ]
     },
     "execution_count": 7,
     "metadata": {},
     "output_type": "execute_result"
    }
   ],
   "source": [
    "#Load BTC price data into python dictionary using json.loads\n",
    "btc_price_data = json.loads(btc_price_fetch.content.decode('utf-8'))\n",
    "btc_price_data"
   ]
  },
  {
   "cell_type": "code",
   "execution_count": 8,
   "metadata": {},
   "outputs": [
    {
     "data": {
      "text/plain": [
       "19405.98"
      ]
     },
     "execution_count": 8,
     "metadata": {},
     "output_type": "execute_result"
    }
   ],
   "source": [
    "btc_current_price = btc_price_data['data']['1']['quotes']['USD']['price']\n",
    "btc_current_price"
   ]
  },
  {
   "cell_type": "code",
   "execution_count": 9,
   "metadata": {},
   "outputs": [
    {
     "data": {
      "text/plain": [
       "<Response [200]>"
      ]
     },
     "execution_count": 9,
     "metadata": {},
     "output_type": "execute_result"
    }
   ],
   "source": [
    "# Fetch current ETH price\n",
    "eth_price_fetch = requests.get(eth_url)\n",
    "eth_price_fetch"
   ]
  },
  {
   "cell_type": "code",
   "execution_count": 10,
   "metadata": {},
   "outputs": [
    {
     "data": {
      "text/plain": [
       "{'data': {'1027': {'id': 1027,\n",
       "   'name': 'Ethereum',\n",
       "   'symbol': 'ETH',\n",
       "   'website_slug': 'ethereum',\n",
       "   'rank': 2,\n",
       "   'circulating_supply': 120892178,\n",
       "   'total_supply': 120892178,\n",
       "   'max_supply': 120892178,\n",
       "   'quotes': {'USD': {'price': 1317.37,\n",
       "     'volume_24h': 6059065903,\n",
       "     'market_cap': 159277860620,\n",
       "     'percentage_change_1h': 0.166100169311114,\n",
       "     'percentage_change_24h': -0.656899456904088,\n",
       "     'percentage_change_7d': 3.08861137408421,\n",
       "     'percent_change_1h': 0.166100169311114,\n",
       "     'percent_change_24h': -0.656899456904088,\n",
       "     'percent_change_7d': 3.08861137408421}},\n",
       "   'last_updated': 1665407652}},\n",
       " 'metadata': {'timestamp': 1665407652,\n",
       "  'num_cryptocurrencies': 3116,\n",
       "  'error': None}}"
      ]
     },
     "execution_count": 10,
     "metadata": {},
     "output_type": "execute_result"
    }
   ],
   "source": [
    "#Load ETH price data into python dictionary using json.loads\n",
    "eth_price_data = json.loads(eth_price_fetch.content.decode('utf-8'))\n",
    "eth_price_data"
   ]
  },
  {
   "cell_type": "code",
   "execution_count": 11,
   "metadata": {},
   "outputs": [
    {
     "data": {
      "text/plain": [
       "1317.37"
      ]
     },
     "execution_count": 11,
     "metadata": {},
     "output_type": "execute_result"
    }
   ],
   "source": [
    "eth_current_price = eth_price_data['data']['1027']['quotes']['USD']['price']\n",
    "eth_current_price"
   ]
  },
  {
   "cell_type": "code",
   "execution_count": 12,
   "metadata": {},
   "outputs": [
    {
     "data": {
      "text/plain": [
       "(23287.176, 6982.060999999999)"
      ]
     },
     "execution_count": 12,
     "metadata": {},
     "output_type": "execute_result"
    }
   ],
   "source": [
    "# Compute current value of my crpto\n",
    "my_btc_value = my_btc * btc_current_price\n",
    "my_eth_value = my_eth * eth_current_price\n",
    "my_btc_value, my_eth_value"
   ]
  },
  {
   "cell_type": "code",
   "execution_count": 13,
   "metadata": {},
   "outputs": [
    {
     "name": "stdout",
     "output_type": "stream",
     "text": [
      "The current value of your 1.2 BTC is $23,287.18\n",
      "The current value of your 5.3 ETH is $6,982.06\n"
     ]
    }
   ],
   "source": [
    "# Print current crypto wallet balance\n",
    "print(f\"The current value of your {my_btc} BTC is ${my_btc_value:,.2f}\")\n",
    "print(f\"The current value of your {my_eth} ETH is ${my_eth_value:,.2f}\")"
   ]
  },
  {
   "cell_type": "markdown",
   "metadata": {},
   "source": [
    "### Collect Investments Data Using Alpaca: `SPY` (stocks) and `AGG` (bonds)"
   ]
  },
  {
   "cell_type": "code",
   "execution_count": 14,
   "metadata": {},
   "outputs": [],
   "source": [
    "# Set current amount of shares\n",
    "my_agg = 200\n",
    "my_spy = 50"
   ]
  },
  {
   "cell_type": "code",
   "execution_count": 15,
   "metadata": {},
   "outputs": [],
   "source": [
    "# Set Alpaca API key and secret\n",
    "alpaca_api_key = os.getenv(\"ALPACA_API_KEY\")\n",
    "alpaca_secret_key = os.getenv(\"ALPACA_SECRET_KEY\")"
   ]
  },
  {
   "cell_type": "code",
   "execution_count": 16,
   "metadata": {},
   "outputs": [],
   "source": [
    "# Create the Alpaca API object\n",
    "alpaca_api = tradeapi.REST( alpaca_api_key,\n",
    "                            alpaca_secret_key,\n",
    "                            api_version = 'v2')"
   ]
  },
  {
   "cell_type": "code",
   "execution_count": 17,
   "metadata": {},
   "outputs": [
    {
     "data": {
      "text/plain": [
       "'2022-10-07T00:00:00-04:00'"
      ]
     },
     "execution_count": 17,
     "metadata": {},
     "output_type": "execute_result"
    }
   ],
   "source": [
    "# Format current date as ISO format\n",
    "current_date = pd.Timestamp('2022-10-07', tz = \"America/New_York\").isoformat()\n",
    "current_date"
   ]
  },
  {
   "cell_type": "code",
   "execution_count": 18,
   "metadata": {},
   "outputs": [],
   "source": [
    "# Set the tickers\n",
    "tickers = [\"AGG\", \"SPY\"]\n",
    "\n",
    "# Set timeframe to \"1Day\" for Alpaca API\n",
    "timeframe = \"1Day\""
   ]
  },
  {
   "cell_type": "code",
   "execution_count": 19,
   "metadata": {},
   "outputs": [
    {
     "data": {
      "text/html": [
       "<div>\n",
       "<style scoped>\n",
       "    .dataframe tbody tr th:only-of-type {\n",
       "        vertical-align: middle;\n",
       "    }\n",
       "\n",
       "    .dataframe tbody tr th {\n",
       "        vertical-align: top;\n",
       "    }\n",
       "\n",
       "    .dataframe thead th {\n",
       "        text-align: right;\n",
       "    }\n",
       "</style>\n",
       "<table border=\"1\" class=\"dataframe\">\n",
       "  <thead>\n",
       "    <tr style=\"text-align: right;\">\n",
       "      <th></th>\n",
       "      <th>open</th>\n",
       "      <th>high</th>\n",
       "      <th>low</th>\n",
       "      <th>close</th>\n",
       "      <th>volume</th>\n",
       "      <th>trade_count</th>\n",
       "      <th>vwap</th>\n",
       "      <th>symbol</th>\n",
       "    </tr>\n",
       "    <tr>\n",
       "      <th>timestamp</th>\n",
       "      <th></th>\n",
       "      <th></th>\n",
       "      <th></th>\n",
       "      <th></th>\n",
       "      <th></th>\n",
       "      <th></th>\n",
       "      <th></th>\n",
       "      <th></th>\n",
       "    </tr>\n",
       "  </thead>\n",
       "  <tbody>\n",
       "    <tr>\n",
       "      <th>2022-10-07 04:00:00+00:00</th>\n",
       "      <td>95.81</td>\n",
       "      <td>96.0100</td>\n",
       "      <td>95.68</td>\n",
       "      <td>95.77</td>\n",
       "      <td>6149309</td>\n",
       "      <td>18717</td>\n",
       "      <td>95.836813</td>\n",
       "      <td>AGG</td>\n",
       "    </tr>\n",
       "    <tr>\n",
       "      <th>2022-10-07 04:00:00+00:00</th>\n",
       "      <td>369.06</td>\n",
       "      <td>373.2933</td>\n",
       "      <td>360.94</td>\n",
       "      <td>362.79</td>\n",
       "      <td>107239188</td>\n",
       "      <td>665841</td>\n",
       "      <td>365.065822</td>\n",
       "      <td>SPY</td>\n",
       "    </tr>\n",
       "  </tbody>\n",
       "</table>\n",
       "</div>"
      ],
      "text/plain": [
       "                             open      high     low   close     volume  \\\n",
       "timestamp                                                                \n",
       "2022-10-07 04:00:00+00:00   95.81   96.0100   95.68   95.77    6149309   \n",
       "2022-10-07 04:00:00+00:00  369.06  373.2933  360.94  362.79  107239188   \n",
       "\n",
       "                           trade_count        vwap symbol  \n",
       "timestamp                                                  \n",
       "2022-10-07 04:00:00+00:00        18717   95.836813    AGG  \n",
       "2022-10-07 04:00:00+00:00       665841  365.065822    SPY  "
      ]
     },
     "execution_count": 19,
     "metadata": {},
     "output_type": "execute_result"
    }
   ],
   "source": [
    "# Get current closing prices for SPY and AGG\n",
    "df_stock_current = alpaca_api.get_bars(  tickers,\n",
    "                                         timeframe,\n",
    "                                         start = current_date,\n",
    "                                         end = current_date).df\n",
    "df_stock_current"
   ]
  },
  {
   "cell_type": "code",
   "execution_count": 20,
   "metadata": {},
   "outputs": [],
   "source": [
    "# Reorganize the DataFrame\n",
    "# Separate ticker data\n",
    "df_agg_current = df_stock_current[df_stock_current[\"symbol\"] == \"AGG\"].drop(\"symbol\", axis = 1)\n",
    "df_spy_current = df_stock_current[df_stock_current[\"symbol\"] == \"SPY\"].drop(\"symbol\", axis = 1)"
   ]
  },
  {
   "cell_type": "code",
   "execution_count": 21,
   "metadata": {},
   "outputs": [],
   "source": [
    "# Concatenate the ticker DataFrames\n",
    "df_stock_current = pd.concat([df_agg_current, df_spy_current], axis = 1, keys=[\"AGG\",\"SPY\"])"
   ]
  },
  {
   "cell_type": "code",
   "execution_count": 22,
   "metadata": {},
   "outputs": [
    {
     "data": {
      "text/html": [
       "<div>\n",
       "<style scoped>\n",
       "    .dataframe tbody tr th:only-of-type {\n",
       "        vertical-align: middle;\n",
       "    }\n",
       "\n",
       "    .dataframe tbody tr th {\n",
       "        vertical-align: top;\n",
       "    }\n",
       "\n",
       "    .dataframe thead tr th {\n",
       "        text-align: left;\n",
       "    }\n",
       "\n",
       "    .dataframe thead tr:last-of-type th {\n",
       "        text-align: right;\n",
       "    }\n",
       "</style>\n",
       "<table border=\"1\" class=\"dataframe\">\n",
       "  <thead>\n",
       "    <tr>\n",
       "      <th></th>\n",
       "      <th colspan=\"7\" halign=\"left\">AGG</th>\n",
       "      <th colspan=\"7\" halign=\"left\">SPY</th>\n",
       "    </tr>\n",
       "    <tr>\n",
       "      <th></th>\n",
       "      <th>open</th>\n",
       "      <th>high</th>\n",
       "      <th>low</th>\n",
       "      <th>close</th>\n",
       "      <th>volume</th>\n",
       "      <th>trade_count</th>\n",
       "      <th>vwap</th>\n",
       "      <th>open</th>\n",
       "      <th>high</th>\n",
       "      <th>low</th>\n",
       "      <th>close</th>\n",
       "      <th>volume</th>\n",
       "      <th>trade_count</th>\n",
       "      <th>vwap</th>\n",
       "    </tr>\n",
       "    <tr>\n",
       "      <th>timestamp</th>\n",
       "      <th></th>\n",
       "      <th></th>\n",
       "      <th></th>\n",
       "      <th></th>\n",
       "      <th></th>\n",
       "      <th></th>\n",
       "      <th></th>\n",
       "      <th></th>\n",
       "      <th></th>\n",
       "      <th></th>\n",
       "      <th></th>\n",
       "      <th></th>\n",
       "      <th></th>\n",
       "      <th></th>\n",
       "    </tr>\n",
       "  </thead>\n",
       "  <tbody>\n",
       "    <tr>\n",
       "      <th>2022-10-07 04:00:00+00:00</th>\n",
       "      <td>95.81</td>\n",
       "      <td>96.01</td>\n",
       "      <td>95.68</td>\n",
       "      <td>95.77</td>\n",
       "      <td>6149309</td>\n",
       "      <td>18717</td>\n",
       "      <td>95.836813</td>\n",
       "      <td>369.06</td>\n",
       "      <td>373.2933</td>\n",
       "      <td>360.94</td>\n",
       "      <td>362.79</td>\n",
       "      <td>107239188</td>\n",
       "      <td>665841</td>\n",
       "      <td>365.065822</td>\n",
       "    </tr>\n",
       "  </tbody>\n",
       "</table>\n",
       "</div>"
      ],
      "text/plain": [
       "                             AGG                                            \\\n",
       "                            open   high    low  close   volume trade_count   \n",
       "timestamp                                                                    \n",
       "2022-10-07 04:00:00+00:00  95.81  96.01  95.68  95.77  6149309       18717   \n",
       "\n",
       "                                         SPY                            \\\n",
       "                                vwap    open      high     low   close   \n",
       "timestamp                                                                \n",
       "2022-10-07 04:00:00+00:00  95.836813  369.06  373.2933  360.94  362.79   \n",
       "\n",
       "                                                              \n",
       "                              volume trade_count        vwap  \n",
       "timestamp                                                     \n",
       "2022-10-07 04:00:00+00:00  107239188      665841  365.065822  "
      ]
     },
     "execution_count": 22,
     "metadata": {},
     "output_type": "execute_result"
    }
   ],
   "source": [
    "# Preview DataFrame\n",
    "df_stock_current"
   ]
  },
  {
   "cell_type": "code",
   "execution_count": 23,
   "metadata": {},
   "outputs": [],
   "source": [
    "# Pick AGG and SPY close prices\n",
    "agg_close_price = df_stock_current[\"AGG\"][\"close\"].iloc[0]\n",
    "spy_close_price = df_stock_current[\"SPY\"][\"close\"].iloc[0]"
   ]
  },
  {
   "cell_type": "code",
   "execution_count": 24,
   "metadata": {},
   "outputs": [
    {
     "name": "stdout",
     "output_type": "stream",
     "text": [
      "Current AGG closing price: $95.77\n",
      "Current SPY closing price: $362.79\n"
     ]
    }
   ],
   "source": [
    "# Print AGG and SPY close prices\n",
    "print(f\"Current AGG closing price: ${agg_close_price}\")\n",
    "print(f\"Current SPY closing price: ${spy_close_price}\")"
   ]
  },
  {
   "cell_type": "code",
   "execution_count": 25,
   "metadata": {},
   "outputs": [],
   "source": [
    "# Compute the current value of shares\n",
    "my_agg_value = my_agg * agg_close_price\n",
    "my_spy_value = my_spy * spy_close_price"
   ]
  },
  {
   "cell_type": "code",
   "execution_count": 26,
   "metadata": {},
   "outputs": [
    {
     "name": "stdout",
     "output_type": "stream",
     "text": [
      "The current value of your 50 SPY shares is $18,139.50\n",
      "The current value of your 200 AGG bonds is $19,154.00\n"
     ]
    }
   ],
   "source": [
    "# Print current value of shares\n",
    "print(f\"The current value of your {my_spy} SPY shares is ${my_spy_value:,.2f}\")\n",
    "print(f\"The current value of your {my_agg} AGG bonds is ${my_agg_value:,.2f}\")"
   ]
  },
  {
   "cell_type": "markdown",
   "metadata": {},
   "source": [
    "### Savings Health Analysis"
   ]
  },
  {
   "cell_type": "code",
   "execution_count": 27,
   "metadata": {},
   "outputs": [],
   "source": [
    "# Set monthly household income\n",
    "monthly_income = 12000"
   ]
  },
  {
   "cell_type": "code",
   "execution_count": 28,
   "metadata": {},
   "outputs": [
    {
     "data": {
      "text/plain": [
       "(30269.236999999997, 37293.5)"
      ]
     },
     "execution_count": 28,
     "metadata": {},
     "output_type": "execute_result"
    }
   ],
   "source": [
    "# Consolidate financial assets data\n",
    "total_crypto_value = my_btc_value + my_eth_value\n",
    "total_share_value = my_agg_value + my_spy_value\n",
    "total_crypto_value , total_share_value"
   ]
  },
  {
   "cell_type": "code",
   "execution_count": 29,
   "metadata": {},
   "outputs": [],
   "source": [
    "# Create savings DataFrame\n",
    "df_savings = pd.DataFrame([total_crypto_value, total_share_value], index=[\"crypto\", \"shares\"], columns = [\"amount\"])"
   ]
  },
  {
   "cell_type": "code",
   "execution_count": 30,
   "metadata": {},
   "outputs": [
    {
     "data": {
      "text/html": [
       "<div>\n",
       "<style scoped>\n",
       "    .dataframe tbody tr th:only-of-type {\n",
       "        vertical-align: middle;\n",
       "    }\n",
       "\n",
       "    .dataframe tbody tr th {\n",
       "        vertical-align: top;\n",
       "    }\n",
       "\n",
       "    .dataframe thead th {\n",
       "        text-align: right;\n",
       "    }\n",
       "</style>\n",
       "<table border=\"1\" class=\"dataframe\">\n",
       "  <thead>\n",
       "    <tr style=\"text-align: right;\">\n",
       "      <th></th>\n",
       "      <th>amount</th>\n",
       "    </tr>\n",
       "  </thead>\n",
       "  <tbody>\n",
       "    <tr>\n",
       "      <th>crypto</th>\n",
       "      <td>30269.237</td>\n",
       "    </tr>\n",
       "    <tr>\n",
       "      <th>shares</th>\n",
       "      <td>37293.500</td>\n",
       "    </tr>\n",
       "  </tbody>\n",
       "</table>\n",
       "</div>"
      ],
      "text/plain": [
       "           amount\n",
       "crypto  30269.237\n",
       "shares  37293.500"
      ]
     },
     "metadata": {},
     "output_type": "display_data"
    }
   ],
   "source": [
    "# Display savings DataFrame\n",
    "display(df_savings)"
   ]
  },
  {
   "cell_type": "code",
   "execution_count": 31,
   "metadata": {},
   "outputs": [
    {
     "data": {
      "text/plain": [
       "<AxesSubplot:title={'center':'Composition of personal savings'}, ylabel='amount'>"
      ]
     },
     "execution_count": 31,
     "metadata": {},
     "output_type": "execute_result"
    },
    {
     "data": {
      "image/png": "[encoded data removed]",
      "text/plain": [
       "<Figure size 432x432 with 1 Axes>"
      ]
     },
     "metadata": {},
     "output_type": "display_data"
    }
   ],
   "source": [
    "# Plot savings pie chart\n",
    "df_savings.plot.pie( y=\"amount\", autopct = '%1.2f%%', startangle = 90, figsize = (6,6), title = \"Composition of personal savings\")"
   ]
  },
  {
   "cell_type": "code",
   "execution_count": 32,
   "metadata": {},
   "outputs": [
    {
     "data": {
      "text/plain": [
       "36000"
      ]
     },
     "execution_count": 32,
     "metadata": {},
     "output_type": "execute_result"
    }
   ],
   "source": [
    "# Set ideal emergency fund\n",
    "emergency_fund = monthly_income * 3\n",
    "emergency_fund"
   ]
  },
  {
   "cell_type": "code",
   "execution_count": 33,
   "metadata": {},
   "outputs": [
    {
     "data": {
      "text/plain": [
       "67562.74"
      ]
     },
     "execution_count": 33,
     "metadata": {},
     "output_type": "execute_result"
    }
   ],
   "source": [
    "# Calculate total amount of savings\n",
    "total_savings = round(df_savings[\"amount\"].sum(),2)\n",
    "total_savings"
   ]
  },
  {
   "cell_type": "code",
   "execution_count": 34,
   "metadata": {},
   "outputs": [
    {
     "name": "stdout",
     "output_type": "stream",
     "text": [
      "Congratulation! Total savings are greater than the emergency fund. \n",
      "You have enough money in your fund.\n"
     ]
    }
   ],
   "source": [
    "# Validate saving health\n",
    "if total_savings == emergency_fund:\n",
    "    print (f\"Congratulation! Total savings are equal to emergency fund.\\n\" \n",
    "           f\"You have reached your financial goal having the ideal emergency fund.\")\n",
    "elif total_savings > emergency_fund:\n",
    "    print (f\"Congratulation! Total savings are greater than the emergency fund. \\n\"\n",
    "           f\"You have enough money in your fund.\")\n",
    "else:\n",
    "    gap =  emergency_fund - total_savings\n",
    "    print (f\"You are ${gap:,.2f} away from reaching your financial goal.\")"
   ]
  },
  {
   "cell_type": "markdown",
   "metadata": {},
   "source": [
    "## Part 2 - Retirement Planning\n",
    "\n",
    "### Monte Carlo Simulation"
   ]
  },
  {
   "cell_type": "code",
   "execution_count": 35,
   "metadata": {},
   "outputs": [],
   "source": [
    "# Set start and end dates of five years back from today.\n",
    "# Sample results may vary from the solution based on the time frame chosen\n",
    "start_date = pd.Timestamp('2015-10-07', tz='America/New_York').isoformat()\n",
    "end_date = pd.Timestamp('2022-10-07', tz='America/New_York').isoformat()"
   ]
  },
  {
   "cell_type": "code",
   "execution_count": 36,
   "metadata": {},
   "outputs": [],
   "source": [
    "# Get 5 years' worth of historical data for SPY and AGG\n",
    "df_stock_historical = alpaca_api.get_bars( tickers,\n",
    "                                           timeframe,\n",
    "                                           start = start_date,\n",
    "                                           end = end_date).df"
   ]
  },
  {
   "cell_type": "code",
   "execution_count": 37,
   "metadata": {},
   "outputs": [
    {
     "data": {
      "text/html": [
       "<div>\n",
       "<style scoped>\n",
       "    .dataframe tbody tr th:only-of-type {\n",
       "        vertical-align: middle;\n",
       "    }\n",
       "\n",
       "    .dataframe tbody tr th {\n",
       "        vertical-align: top;\n",
       "    }\n",
       "\n",
       "    .dataframe thead th {\n",
       "        text-align: right;\n",
       "    }\n",
       "</style>\n",
       "<table border=\"1\" class=\"dataframe\">\n",
       "  <thead>\n",
       "    <tr style=\"text-align: right;\">\n",
       "      <th></th>\n",
       "      <th>open</th>\n",
       "      <th>high</th>\n",
       "      <th>low</th>\n",
       "      <th>close</th>\n",
       "      <th>volume</th>\n",
       "      <th>trade_count</th>\n",
       "      <th>vwap</th>\n",
       "      <th>symbol</th>\n",
       "    </tr>\n",
       "    <tr>\n",
       "      <th>timestamp</th>\n",
       "      <th></th>\n",
       "      <th></th>\n",
       "      <th></th>\n",
       "      <th></th>\n",
       "      <th></th>\n",
       "      <th></th>\n",
       "      <th></th>\n",
       "      <th></th>\n",
       "    </tr>\n",
       "  </thead>\n",
       "  <tbody>\n",
       "    <tr>\n",
       "      <th>2015-12-01 05:00:00+00:00</th>\n",
       "      <td>108.54</td>\n",
       "      <td>108.8400</td>\n",
       "      <td>108.4300</td>\n",
       "      <td>108.82</td>\n",
       "      <td>4259986</td>\n",
       "      <td>15562</td>\n",
       "      <td>108.754152</td>\n",
       "      <td>AGG</td>\n",
       "    </tr>\n",
       "    <tr>\n",
       "      <th>2015-12-02 05:00:00+00:00</th>\n",
       "      <td>108.73</td>\n",
       "      <td>108.7799</td>\n",
       "      <td>108.6100</td>\n",
       "      <td>108.67</td>\n",
       "      <td>2462787</td>\n",
       "      <td>11581</td>\n",
       "      <td>108.684692</td>\n",
       "      <td>AGG</td>\n",
       "    </tr>\n",
       "    <tr>\n",
       "      <th>2015-12-03 05:00:00+00:00</th>\n",
       "      <td>108.41</td>\n",
       "      <td>108.4100</td>\n",
       "      <td>107.8100</td>\n",
       "      <td>107.89</td>\n",
       "      <td>4634020</td>\n",
       "      <td>16801</td>\n",
       "      <td>108.040315</td>\n",
       "      <td>AGG</td>\n",
       "    </tr>\n",
       "    <tr>\n",
       "      <th>2015-12-04 05:00:00+00:00</th>\n",
       "      <td>108.05</td>\n",
       "      <td>108.3000</td>\n",
       "      <td>108.0000</td>\n",
       "      <td>108.24</td>\n",
       "      <td>2182057</td>\n",
       "      <td>9796</td>\n",
       "      <td>108.192232</td>\n",
       "      <td>AGG</td>\n",
       "    </tr>\n",
       "    <tr>\n",
       "      <th>2015-12-07 05:00:00+00:00</th>\n",
       "      <td>108.30</td>\n",
       "      <td>108.5800</td>\n",
       "      <td>108.2300</td>\n",
       "      <td>108.40</td>\n",
       "      <td>2143773</td>\n",
       "      <td>9104</td>\n",
       "      <td>108.460067</td>\n",
       "      <td>AGG</td>\n",
       "    </tr>\n",
       "    <tr>\n",
       "      <th>...</th>\n",
       "      <td>...</td>\n",
       "      <td>...</td>\n",
       "      <td>...</td>\n",
       "      <td>...</td>\n",
       "      <td>...</td>\n",
       "      <td>...</td>\n",
       "      <td>...</td>\n",
       "      <td>...</td>\n",
       "    </tr>\n",
       "    <tr>\n",
       "      <th>2022-10-03 04:00:00+00:00</th>\n",
       "      <td>361.12</td>\n",
       "      <td>368.5500</td>\n",
       "      <td>359.2100</td>\n",
       "      <td>366.61</td>\n",
       "      <td>89052594</td>\n",
       "      <td>617784</td>\n",
       "      <td>364.702960</td>\n",
       "      <td>SPY</td>\n",
       "    </tr>\n",
       "    <tr>\n",
       "      <th>2022-10-04 04:00:00+00:00</th>\n",
       "      <td>372.45</td>\n",
       "      <td>378.0000</td>\n",
       "      <td>366.5677</td>\n",
       "      <td>377.97</td>\n",
       "      <td>102736573</td>\n",
       "      <td>683092</td>\n",
       "      <td>375.718180</td>\n",
       "      <td>SPY</td>\n",
       "    </tr>\n",
       "    <tr>\n",
       "      <th>2022-10-05 04:00:00+00:00</th>\n",
       "      <td>373.32</td>\n",
       "      <td>379.4600</td>\n",
       "      <td>370.9500</td>\n",
       "      <td>377.09</td>\n",
       "      <td>87641027</td>\n",
       "      <td>581349</td>\n",
       "      <td>375.456940</td>\n",
       "      <td>SPY</td>\n",
       "    </tr>\n",
       "    <tr>\n",
       "      <th>2022-10-06 04:00:00+00:00</th>\n",
       "      <td>375.65</td>\n",
       "      <td>378.7200</td>\n",
       "      <td>372.6800</td>\n",
       "      <td>373.20</td>\n",
       "      <td>81289636</td>\n",
       "      <td>577715</td>\n",
       "      <td>374.901554</td>\n",
       "      <td>SPY</td>\n",
       "    </tr>\n",
       "    <tr>\n",
       "      <th>2022-10-07 04:00:00+00:00</th>\n",
       "      <td>369.06</td>\n",
       "      <td>373.2933</td>\n",
       "      <td>360.9400</td>\n",
       "      <td>362.79</td>\n",
       "      <td>107239188</td>\n",
       "      <td>665841</td>\n",
       "      <td>365.065822</td>\n",
       "      <td>SPY</td>\n",
       "    </tr>\n",
       "  </tbody>\n",
       "</table>\n",
       "<p>3452 rows × 8 columns</p>\n",
       "</div>"
      ],
      "text/plain": [
       "                             open      high       low   close     volume  \\\n",
       "timestamp                                                                  \n",
       "2015-12-01 05:00:00+00:00  108.54  108.8400  108.4300  108.82    4259986   \n",
       "2015-12-02 05:00:00+00:00  108.73  108.7799  108.6100  108.67    2462787   \n",
       "2015-12-03 05:00:00+00:00  108.41  108.4100  107.8100  107.89    4634020   \n",
       "2015-12-04 05:00:00+00:00  108.05  108.3000  108.0000  108.24    2182057   \n",
       "2015-12-07 05:00:00+00:00  108.30  108.5800  108.2300  108.40    2143773   \n",
       "...                           ...       ...       ...     ...        ...   \n",
       "2022-10-03 04:00:00+00:00  361.12  368.5500  359.2100  366.61   89052594   \n",
       "2022-10-04 04:00:00+00:00  372.45  378.0000  366.5677  377.97  102736573   \n",
       "2022-10-05 04:00:00+00:00  373.32  379.4600  370.9500  377.09   87641027   \n",
       "2022-10-06 04:00:00+00:00  375.65  378.7200  372.6800  373.20   81289636   \n",
       "2022-10-07 04:00:00+00:00  369.06  373.2933  360.9400  362.79  107239188   \n",
       "\n",
       "                           trade_count        vwap symbol  \n",
       "timestamp                                                  \n",
       "2015-12-01 05:00:00+00:00        15562  108.754152    AGG  \n",
       "2015-12-02 05:00:00+00:00        11581  108.684692    AGG  \n",
       "2015-12-03 05:00:00+00:00        16801  108.040315    AGG  \n",
       "2015-12-04 05:00:00+00:00         9796  108.192232    AGG  \n",
       "2015-12-07 05:00:00+00:00         9104  108.460067    AGG  \n",
       "...                                ...         ...    ...  \n",
       "2022-10-03 04:00:00+00:00       617784  364.702960    SPY  \n",
       "2022-10-04 04:00:00+00:00       683092  375.718180    SPY  \n",
       "2022-10-05 04:00:00+00:00       581349  375.456940    SPY  \n",
       "2022-10-06 04:00:00+00:00       577715  374.901554    SPY  \n",
       "2022-10-07 04:00:00+00:00       665841  365.065822    SPY  \n",
       "\n",
       "[3452 rows x 8 columns]"
      ]
     },
     "execution_count": 37,
     "metadata": {},
     "output_type": "execute_result"
    }
   ],
   "source": [
    "df_stock_historical"
   ]
  },
  {
   "cell_type": "code",
   "execution_count": 38,
   "metadata": {},
   "outputs": [],
   "source": [
    "# Reorganize the DataFrame\n",
    "# Separate ticker data\n",
    "df_agg =  df_stock_historical[df_stock_historical[\"symbol\"] == \"AGG\"].drop(\"symbol\", axis = 1)\n",
    "df_spy =  df_stock_historical[df_stock_historical[\"symbol\"] == \"SPY\"].drop(\"symbol\", axis = 1)"
   ]
  },
  {
   "cell_type": "code",
   "execution_count": 39,
   "metadata": {},
   "outputs": [],
   "source": [
    "# Concatenate the ticker DataFrames\n",
    "df_portfolio = pd.concat([df_agg, df_spy], axis = 1, keys=[\"AGG\",\"SPY\"])"
   ]
  },
  {
   "cell_type": "code",
   "execution_count": 40,
   "metadata": {},
   "outputs": [],
   "source": [
    "#remove timestamp from index\n",
    "df_portfolio.index = df_portfolio.index.date"
   ]
  },
  {
   "cell_type": "code",
   "execution_count": 41,
   "metadata": {},
   "outputs": [
    {
     "data": {
      "text/html": [
       "<div>\n",
       "<style scoped>\n",
       "    .dataframe tbody tr th:only-of-type {\n",
       "        vertical-align: middle;\n",
       "    }\n",
       "\n",
       "    .dataframe tbody tr th {\n",
       "        vertical-align: top;\n",
       "    }\n",
       "\n",
       "    .dataframe thead tr th {\n",
       "        text-align: left;\n",
       "    }\n",
       "</style>\n",
       "<table border=\"1\" class=\"dataframe\">\n",
       "  <thead>\n",
       "    <tr>\n",
       "      <th></th>\n",
       "      <th colspan=\"7\" halign=\"left\">AGG</th>\n",
       "      <th colspan=\"7\" halign=\"left\">SPY</th>\n",
       "    </tr>\n",
       "    <tr>\n",
       "      <th></th>\n",
       "      <th>open</th>\n",
       "      <th>high</th>\n",
       "      <th>low</th>\n",
       "      <th>close</th>\n",
       "      <th>volume</th>\n",
       "      <th>trade_count</th>\n",
       "      <th>vwap</th>\n",
       "      <th>open</th>\n",
       "      <th>high</th>\n",
       "      <th>low</th>\n",
       "      <th>close</th>\n",
       "      <th>volume</th>\n",
       "      <th>trade_count</th>\n",
       "      <th>vwap</th>\n",
       "    </tr>\n",
       "  </thead>\n",
       "  <tbody>\n",
       "    <tr>\n",
       "      <th>2015-12-01</th>\n",
       "      <td>108.54</td>\n",
       "      <td>108.8400</td>\n",
       "      <td>108.43</td>\n",
       "      <td>108.82</td>\n",
       "      <td>4259986</td>\n",
       "      <td>15562</td>\n",
       "      <td>108.754152</td>\n",
       "      <td>209.42</td>\n",
       "      <td>210.8200</td>\n",
       "      <td>209.1100</td>\n",
       "      <td>210.68</td>\n",
       "      <td>97858418</td>\n",
       "      <td>337780</td>\n",
       "      <td>209.921410</td>\n",
       "    </tr>\n",
       "    <tr>\n",
       "      <th>2015-12-02</th>\n",
       "      <td>108.73</td>\n",
       "      <td>108.7799</td>\n",
       "      <td>108.61</td>\n",
       "      <td>108.67</td>\n",
       "      <td>2462787</td>\n",
       "      <td>11581</td>\n",
       "      <td>108.684692</td>\n",
       "      <td>210.60</td>\n",
       "      <td>211.0000</td>\n",
       "      <td>208.2300</td>\n",
       "      <td>208.54</td>\n",
       "      <td>108069059</td>\n",
       "      <td>367013</td>\n",
       "      <td>209.563055</td>\n",
       "    </tr>\n",
       "    <tr>\n",
       "      <th>2015-12-03</th>\n",
       "      <td>108.41</td>\n",
       "      <td>108.4100</td>\n",
       "      <td>107.81</td>\n",
       "      <td>107.89</td>\n",
       "      <td>4634020</td>\n",
       "      <td>16801</td>\n",
       "      <td>108.040315</td>\n",
       "      <td>208.90</td>\n",
       "      <td>209.1500</td>\n",
       "      <td>204.7511</td>\n",
       "      <td>205.58</td>\n",
       "      <td>166224154</td>\n",
       "      <td>546768</td>\n",
       "      <td>206.878936</td>\n",
       "    </tr>\n",
       "    <tr>\n",
       "      <th>2015-12-04</th>\n",
       "      <td>108.05</td>\n",
       "      <td>108.3000</td>\n",
       "      <td>108.00</td>\n",
       "      <td>108.24</td>\n",
       "      <td>2182057</td>\n",
       "      <td>9796</td>\n",
       "      <td>108.192232</td>\n",
       "      <td>206.10</td>\n",
       "      <td>209.9700</td>\n",
       "      <td>205.9300</td>\n",
       "      <td>209.66</td>\n",
       "      <td>192878747</td>\n",
       "      <td>556731</td>\n",
       "      <td>208.178631</td>\n",
       "    </tr>\n",
       "    <tr>\n",
       "      <th>2015-12-07</th>\n",
       "      <td>108.30</td>\n",
       "      <td>108.5800</td>\n",
       "      <td>108.23</td>\n",
       "      <td>108.40</td>\n",
       "      <td>2143773</td>\n",
       "      <td>9104</td>\n",
       "      <td>108.460067</td>\n",
       "      <td>209.20</td>\n",
       "      <td>209.7295</td>\n",
       "      <td>207.2000</td>\n",
       "      <td>208.27</td>\n",
       "      <td>102027111</td>\n",
       "      <td>374705</td>\n",
       "      <td>208.276128</td>\n",
       "    </tr>\n",
       "  </tbody>\n",
       "</table>\n",
       "</div>"
      ],
      "text/plain": [
       "               AGG                                                             \\\n",
       "              open      high     low   close   volume trade_count        vwap   \n",
       "2015-12-01  108.54  108.8400  108.43  108.82  4259986       15562  108.754152   \n",
       "2015-12-02  108.73  108.7799  108.61  108.67  2462787       11581  108.684692   \n",
       "2015-12-03  108.41  108.4100  107.81  107.89  4634020       16801  108.040315   \n",
       "2015-12-04  108.05  108.3000  108.00  108.24  2182057        9796  108.192232   \n",
       "2015-12-07  108.30  108.5800  108.23  108.40  2143773        9104  108.460067   \n",
       "\n",
       "               SPY                                                     \\\n",
       "              open      high       low   close     volume trade_count   \n",
       "2015-12-01  209.42  210.8200  209.1100  210.68   97858418      337780   \n",
       "2015-12-02  210.60  211.0000  208.2300  208.54  108069059      367013   \n",
       "2015-12-03  208.90  209.1500  204.7511  205.58  166224154      546768   \n",
       "2015-12-04  206.10  209.9700  205.9300  209.66  192878747      556731   \n",
       "2015-12-07  209.20  209.7295  207.2000  208.27  102027111      374705   \n",
       "\n",
       "                        \n",
       "                  vwap  \n",
       "2015-12-01  209.921410  \n",
       "2015-12-02  209.563055  \n",
       "2015-12-03  206.878936  \n",
       "2015-12-04  208.178631  \n",
       "2015-12-07  208.276128  "
      ]
     },
     "execution_count": 41,
     "metadata": {},
     "output_type": "execute_result"
    }
   ],
   "source": [
    "# Display sample data\n",
    "df_portfolio.head()"
   ]
  },
  {
   "cell_type": "code",
   "execution_count": 42,
   "metadata": {},
   "outputs": [],
   "source": [
    "#drop unused columns\n",
    "drop_columns = [\"open\",\"high\",\"low\",\"volume\",\"trade_count\", \"vwap\"]\n",
    "\n",
    "for x in tickers:\n",
    "    for y in drop_columns:\n",
    "        df_portfolio.drop(columns = (x,y), inplace = True)"
   ]
  },
  {
   "cell_type": "code",
   "execution_count": 43,
   "metadata": {},
   "outputs": [],
   "source": [
    "# Configuring a Monte Carlo simulation to forecast 30 years cumulative returns\n",
    "# assume 252 trading days in a year. 30 years means 7560 trading days (30 x 252)\n",
    "# set weight 40% bond AGG and 60% stock SPY\n",
    "MC_Y30 = MCSimulation(portfolio_data = df_portfolio,\n",
    "                      weights = [0.40, 0.60],\n",
    "                      num_simulation = 500 ,\n",
    "                      num_trading_days = 252*30\n",
    "                      )"
   ]
  },
  {
   "cell_type": "code",
   "execution_count": 44,
   "metadata": {},
   "outputs": [
    {
     "data": {
      "text/html": [
       "<div>\n",
       "<style scoped>\n",
       "    .dataframe tbody tr th:only-of-type {\n",
       "        vertical-align: middle;\n",
       "    }\n",
       "\n",
       "    .dataframe tbody tr th {\n",
       "        vertical-align: top;\n",
       "    }\n",
       "\n",
       "    .dataframe thead tr th {\n",
       "        text-align: left;\n",
       "    }\n",
       "</style>\n",
       "<table border=\"1\" class=\"dataframe\">\n",
       "  <thead>\n",
       "    <tr>\n",
       "      <th></th>\n",
       "      <th colspan=\"2\" halign=\"left\">AGG</th>\n",
       "      <th colspan=\"2\" halign=\"left\">SPY</th>\n",
       "    </tr>\n",
       "    <tr>\n",
       "      <th></th>\n",
       "      <th>close</th>\n",
       "      <th>daily_return</th>\n",
       "      <th>close</th>\n",
       "      <th>daily_return</th>\n",
       "    </tr>\n",
       "  </thead>\n",
       "  <tbody>\n",
       "    <tr>\n",
       "      <th>2015-12-01</th>\n",
       "      <td>108.82</td>\n",
       "      <td>NaN</td>\n",
       "      <td>210.68</td>\n",
       "      <td>NaN</td>\n",
       "    </tr>\n",
       "    <tr>\n",
       "      <th>2015-12-02</th>\n",
       "      <td>108.67</td>\n",
       "      <td>-0.001378</td>\n",
       "      <td>208.54</td>\n",
       "      <td>-0.010158</td>\n",
       "    </tr>\n",
       "    <tr>\n",
       "      <th>2015-12-03</th>\n",
       "      <td>107.89</td>\n",
       "      <td>-0.007178</td>\n",
       "      <td>205.58</td>\n",
       "      <td>-0.014194</td>\n",
       "    </tr>\n",
       "    <tr>\n",
       "      <th>2015-12-04</th>\n",
       "      <td>108.24</td>\n",
       "      <td>0.003244</td>\n",
       "      <td>209.66</td>\n",
       "      <td>0.019846</td>\n",
       "    </tr>\n",
       "    <tr>\n",
       "      <th>2015-12-07</th>\n",
       "      <td>108.40</td>\n",
       "      <td>0.001478</td>\n",
       "      <td>208.27</td>\n",
       "      <td>-0.006630</td>\n",
       "    </tr>\n",
       "  </tbody>\n",
       "</table>\n",
       "</div>"
      ],
      "text/plain": [
       "               AGG                  SPY             \n",
       "             close daily_return   close daily_return\n",
       "2015-12-01  108.82          NaN  210.68          NaN\n",
       "2015-12-02  108.67    -0.001378  208.54    -0.010158\n",
       "2015-12-03  107.89    -0.007178  205.58    -0.014194\n",
       "2015-12-04  108.24     0.003244  209.66     0.019846\n",
       "2015-12-07  108.40     0.001478  208.27    -0.006630"
      ]
     },
     "execution_count": 44,
     "metadata": {},
     "output_type": "execute_result"
    }
   ],
   "source": [
    "# Printing the simulation input data\n",
    "MC_Y30.portfolio_data.head()"
   ]
  },
  {
   "cell_type": "code",
   "execution_count": 45,
   "metadata": {},
   "outputs": [
    {
     "name": "stdout",
     "output_type": "stream",
     "text": [
      "Running Monte Carlo simulation number 0.\n",
      "Running Monte Carlo simulation number 10.\n",
      "Running Monte Carlo simulation number 20.\n",
      "Running Monte Carlo simulation number 30.\n",
      "Running Monte Carlo simulation number 40.\n",
      "Running Monte Carlo simulation number 50.\n",
      "Running Monte Carlo simulation number 60.\n",
      "Running Monte Carlo simulation number 70.\n",
      "Running Monte Carlo simulation number 80.\n",
      "Running Monte Carlo simulation number 90.\n",
      "Running Monte Carlo simulation number 100.\n",
      "Running Monte Carlo simulation number 110.\n",
      "Running Monte Carlo simulation number 120.\n",
      "Running Monte Carlo simulation number 130.\n",
      "Running Monte Carlo simulation number 140.\n",
      "Running Monte Carlo simulation number 150.\n",
      "Running Monte Carlo simulation number 160.\n",
      "Running Monte Carlo simulation number 170.\n",
      "Running Monte Carlo simulation number 180.\n",
      "Running Monte Carlo simulation number 190.\n",
      "Running Monte Carlo simulation number 200.\n",
      "Running Monte Carlo simulation number 210.\n",
      "Running Monte Carlo simulation number 220.\n",
      "Running Monte Carlo simulation number 230.\n",
      "Running Monte Carlo simulation number 240.\n",
      "Running Monte Carlo simulation number 250.\n",
      "Running Monte Carlo simulation number 260.\n",
      "Running Monte Carlo simulation number 270.\n",
      "Running Monte Carlo simulation number 280.\n",
      "Running Monte Carlo simulation number 290.\n",
      "Running Monte Carlo simulation number 300.\n",
      "Running Monte Carlo simulation number 310.\n",
      "Running Monte Carlo simulation number 320.\n",
      "Running Monte Carlo simulation number 330.\n",
      "Running Monte Carlo simulation number 340.\n",
      "Running Monte Carlo simulation number 350.\n",
      "Running Monte Carlo simulation number 360.\n",
      "Running Monte Carlo simulation number 370.\n",
      "Running Monte Carlo simulation number 380.\n",
      "Running Monte Carlo simulation number 390.\n",
      "Running Monte Carlo simulation number 400.\n",
      "Running Monte Carlo simulation number 410.\n",
      "Running Monte Carlo simulation number 420.\n",
      "Running Monte Carlo simulation number 430.\n",
      "Running Monte Carlo simulation number 440.\n",
      "Running Monte Carlo simulation number 450.\n",
      "Running Monte Carlo simulation number 460.\n",
      "Running Monte Carlo simulation number 470.\n",
      "Running Monte Carlo simulation number 480.\n",
      "Running Monte Carlo simulation number 490.\n"
     ]
    },
    {
     "data": {
      "text/html": [
       "<div>\n",
       "<style scoped>\n",
       "    .dataframe tbody tr th:only-of-type {\n",
       "        vertical-align: middle;\n",
       "    }\n",
       "\n",
       "    .dataframe tbody tr th {\n",
       "        vertical-align: top;\n",
       "    }\n",
       "\n",
       "    .dataframe thead th {\n",
       "        text-align: right;\n",
       "    }\n",
       "</style>\n",
       "<table border=\"1\" class=\"dataframe\">\n",
       "  <thead>\n",
       "    <tr style=\"text-align: right;\">\n",
       "      <th></th>\n",
       "      <th>0</th>\n",
       "      <th>1</th>\n",
       "      <th>2</th>\n",
       "      <th>3</th>\n",
       "      <th>4</th>\n",
       "      <th>5</th>\n",
       "      <th>6</th>\n",
       "      <th>7</th>\n",
       "      <th>8</th>\n",
       "      <th>9</th>\n",
       "      <th>...</th>\n",
       "      <th>490</th>\n",
       "      <th>491</th>\n",
       "      <th>492</th>\n",
       "      <th>493</th>\n",
       "      <th>494</th>\n",
       "      <th>495</th>\n",
       "      <th>496</th>\n",
       "      <th>497</th>\n",
       "      <th>498</th>\n",
       "      <th>499</th>\n",
       "    </tr>\n",
       "  </thead>\n",
       "  <tbody>\n",
       "    <tr>\n",
       "      <th>0</th>\n",
       "      <td>1.000000</td>\n",
       "      <td>1.000000</td>\n",
       "      <td>1.000000</td>\n",
       "      <td>1.000000</td>\n",
       "      <td>1.000000</td>\n",
       "      <td>1.000000</td>\n",
       "      <td>1.000000</td>\n",
       "      <td>1.000000</td>\n",
       "      <td>1.000000</td>\n",
       "      <td>1.000000</td>\n",
       "      <td>...</td>\n",
       "      <td>1.000000</td>\n",
       "      <td>1.000000</td>\n",
       "      <td>1.000000</td>\n",
       "      <td>1.000000</td>\n",
       "      <td>1.000000</td>\n",
       "      <td>1.000000</td>\n",
       "      <td>1.000000</td>\n",
       "      <td>1.000000</td>\n",
       "      <td>1.000000</td>\n",
       "      <td>1.000000</td>\n",
       "    </tr>\n",
       "    <tr>\n",
       "      <th>1</th>\n",
       "      <td>0.996658</td>\n",
       "      <td>0.992578</td>\n",
       "      <td>1.011468</td>\n",
       "      <td>1.003056</td>\n",
       "      <td>0.996029</td>\n",
       "      <td>0.999066</td>\n",
       "      <td>0.995835</td>\n",
       "      <td>0.979181</td>\n",
       "      <td>1.016739</td>\n",
       "      <td>0.996113</td>\n",
       "      <td>...</td>\n",
       "      <td>0.989969</td>\n",
       "      <td>1.003954</td>\n",
       "      <td>1.008891</td>\n",
       "      <td>1.006889</td>\n",
       "      <td>0.988386</td>\n",
       "      <td>0.999499</td>\n",
       "      <td>1.006848</td>\n",
       "      <td>1.010237</td>\n",
       "      <td>1.003242</td>\n",
       "      <td>0.997782</td>\n",
       "    </tr>\n",
       "    <tr>\n",
       "      <th>2</th>\n",
       "      <td>0.999179</td>\n",
       "      <td>0.980398</td>\n",
       "      <td>1.004944</td>\n",
       "      <td>1.010179</td>\n",
       "      <td>0.980523</td>\n",
       "      <td>0.995056</td>\n",
       "      <td>0.990162</td>\n",
       "      <td>0.990811</td>\n",
       "      <td>1.017029</td>\n",
       "      <td>1.005438</td>\n",
       "      <td>...</td>\n",
       "      <td>0.979958</td>\n",
       "      <td>0.994749</td>\n",
       "      <td>0.995072</td>\n",
       "      <td>0.999905</td>\n",
       "      <td>0.985291</td>\n",
       "      <td>0.998928</td>\n",
       "      <td>1.006012</td>\n",
       "      <td>1.007071</td>\n",
       "      <td>0.997915</td>\n",
       "      <td>0.998834</td>\n",
       "    </tr>\n",
       "    <tr>\n",
       "      <th>3</th>\n",
       "      <td>0.998102</td>\n",
       "      <td>0.972953</td>\n",
       "      <td>1.004558</td>\n",
       "      <td>1.016309</td>\n",
       "      <td>0.986348</td>\n",
       "      <td>0.983066</td>\n",
       "      <td>0.983266</td>\n",
       "      <td>0.993675</td>\n",
       "      <td>1.034932</td>\n",
       "      <td>1.009548</td>\n",
       "      <td>...</td>\n",
       "      <td>0.963414</td>\n",
       "      <td>0.993132</td>\n",
       "      <td>0.990732</td>\n",
       "      <td>1.010077</td>\n",
       "      <td>0.989650</td>\n",
       "      <td>1.004307</td>\n",
       "      <td>0.998772</td>\n",
       "      <td>0.996733</td>\n",
       "      <td>1.003749</td>\n",
       "      <td>1.001804</td>\n",
       "    </tr>\n",
       "    <tr>\n",
       "      <th>4</th>\n",
       "      <td>1.005721</td>\n",
       "      <td>0.964421</td>\n",
       "      <td>1.000081</td>\n",
       "      <td>1.006646</td>\n",
       "      <td>0.974368</td>\n",
       "      <td>0.984024</td>\n",
       "      <td>0.982843</td>\n",
       "      <td>0.992773</td>\n",
       "      <td>1.037156</td>\n",
       "      <td>1.005299</td>\n",
       "      <td>...</td>\n",
       "      <td>0.951621</td>\n",
       "      <td>0.985239</td>\n",
       "      <td>0.991573</td>\n",
       "      <td>0.996538</td>\n",
       "      <td>1.001106</td>\n",
       "      <td>1.008814</td>\n",
       "      <td>0.999319</td>\n",
       "      <td>0.994314</td>\n",
       "      <td>1.001760</td>\n",
       "      <td>0.998079</td>\n",
       "    </tr>\n",
       "    <tr>\n",
       "      <th>...</th>\n",
       "      <td>...</td>\n",
       "      <td>...</td>\n",
       "      <td>...</td>\n",
       "      <td>...</td>\n",
       "      <td>...</td>\n",
       "      <td>...</td>\n",
       "      <td>...</td>\n",
       "      <td>...</td>\n",
       "      <td>...</td>\n",
       "      <td>...</td>\n",
       "      <td>...</td>\n",
       "      <td>...</td>\n",
       "      <td>...</td>\n",
       "      <td>...</td>\n",
       "      <td>...</td>\n",
       "      <td>...</td>\n",
       "      <td>...</td>\n",
       "      <td>...</td>\n",
       "      <td>...</td>\n",
       "      <td>...</td>\n",
       "      <td>...</td>\n",
       "    </tr>\n",
       "    <tr>\n",
       "      <th>7556</th>\n",
       "      <td>1.218516</td>\n",
       "      <td>5.070301</td>\n",
       "      <td>3.860283</td>\n",
       "      <td>5.087108</td>\n",
       "      <td>3.602781</td>\n",
       "      <td>4.191636</td>\n",
       "      <td>3.234712</td>\n",
       "      <td>1.724581</td>\n",
       "      <td>1.298603</td>\n",
       "      <td>3.252755</td>\n",
       "      <td>...</td>\n",
       "      <td>2.874669</td>\n",
       "      <td>6.663847</td>\n",
       "      <td>9.096954</td>\n",
       "      <td>8.248866</td>\n",
       "      <td>2.921756</td>\n",
       "      <td>7.775251</td>\n",
       "      <td>5.708812</td>\n",
       "      <td>6.810598</td>\n",
       "      <td>9.884705</td>\n",
       "      <td>4.744583</td>\n",
       "    </tr>\n",
       "    <tr>\n",
       "      <th>7557</th>\n",
       "      <td>1.223805</td>\n",
       "      <td>5.102114</td>\n",
       "      <td>3.848946</td>\n",
       "      <td>5.039031</td>\n",
       "      <td>3.627294</td>\n",
       "      <td>4.240815</td>\n",
       "      <td>3.236418</td>\n",
       "      <td>1.726551</td>\n",
       "      <td>1.306944</td>\n",
       "      <td>3.269042</td>\n",
       "      <td>...</td>\n",
       "      <td>2.854856</td>\n",
       "      <td>6.632347</td>\n",
       "      <td>9.056229</td>\n",
       "      <td>8.170238</td>\n",
       "      <td>2.942932</td>\n",
       "      <td>7.772587</td>\n",
       "      <td>5.712478</td>\n",
       "      <td>6.882107</td>\n",
       "      <td>9.782567</td>\n",
       "      <td>4.739177</td>\n",
       "    </tr>\n",
       "    <tr>\n",
       "      <th>7558</th>\n",
       "      <td>1.225453</td>\n",
       "      <td>5.152829</td>\n",
       "      <td>3.887889</td>\n",
       "      <td>5.015950</td>\n",
       "      <td>3.616215</td>\n",
       "      <td>4.238498</td>\n",
       "      <td>3.224270</td>\n",
       "      <td>1.720210</td>\n",
       "      <td>1.312514</td>\n",
       "      <td>3.257136</td>\n",
       "      <td>...</td>\n",
       "      <td>2.865265</td>\n",
       "      <td>6.608745</td>\n",
       "      <td>9.129136</td>\n",
       "      <td>8.194641</td>\n",
       "      <td>2.947470</td>\n",
       "      <td>7.758756</td>\n",
       "      <td>5.728660</td>\n",
       "      <td>6.876432</td>\n",
       "      <td>9.775763</td>\n",
       "      <td>4.696620</td>\n",
       "    </tr>\n",
       "    <tr>\n",
       "      <th>7559</th>\n",
       "      <td>1.233035</td>\n",
       "      <td>5.163458</td>\n",
       "      <td>3.918014</td>\n",
       "      <td>5.046202</td>\n",
       "      <td>3.590156</td>\n",
       "      <td>4.229870</td>\n",
       "      <td>3.231530</td>\n",
       "      <td>1.712457</td>\n",
       "      <td>1.323583</td>\n",
       "      <td>3.257589</td>\n",
       "      <td>...</td>\n",
       "      <td>2.863154</td>\n",
       "      <td>6.601980</td>\n",
       "      <td>9.136356</td>\n",
       "      <td>8.285759</td>\n",
       "      <td>2.971266</td>\n",
       "      <td>7.826164</td>\n",
       "      <td>5.658657</td>\n",
       "      <td>6.935866</td>\n",
       "      <td>9.733379</td>\n",
       "      <td>4.710280</td>\n",
       "    </tr>\n",
       "    <tr>\n",
       "      <th>7560</th>\n",
       "      <td>1.238905</td>\n",
       "      <td>5.158308</td>\n",
       "      <td>3.902575</td>\n",
       "      <td>5.019501</td>\n",
       "      <td>3.543390</td>\n",
       "      <td>4.215756</td>\n",
       "      <td>3.245763</td>\n",
       "      <td>1.720091</td>\n",
       "      <td>1.339526</td>\n",
       "      <td>3.209559</td>\n",
       "      <td>...</td>\n",
       "      <td>2.917586</td>\n",
       "      <td>6.635663</td>\n",
       "      <td>9.271319</td>\n",
       "      <td>8.291819</td>\n",
       "      <td>2.984028</td>\n",
       "      <td>7.853374</td>\n",
       "      <td>5.622918</td>\n",
       "      <td>6.952628</td>\n",
       "      <td>9.581123</td>\n",
       "      <td>4.712794</td>\n",
       "    </tr>\n",
       "  </tbody>\n",
       "</table>\n",
       "<p>7561 rows × 500 columns</p>\n",
       "</div>"
      ],
      "text/plain": [
       "           0         1         2         3         4         5         6    \\\n",
       "0     1.000000  1.000000  1.000000  1.000000  1.000000  1.000000  1.000000   \n",
       "1     0.996658  0.992578  1.011468  1.003056  0.996029  0.999066  0.995835   \n",
       "2     0.999179  0.980398  1.004944  1.010179  0.980523  0.995056  0.990162   \n",
       "3     0.998102  0.972953  1.004558  1.016309  0.986348  0.983066  0.983266   \n",
       "4     1.005721  0.964421  1.000081  1.006646  0.974368  0.984024  0.982843   \n",
       "...        ...       ...       ...       ...       ...       ...       ...   \n",
       "7556  1.218516  5.070301  3.860283  5.087108  3.602781  4.191636  3.234712   \n",
       "7557  1.223805  5.102114  3.848946  5.039031  3.627294  4.240815  3.236418   \n",
       "7558  1.225453  5.152829  3.887889  5.015950  3.616215  4.238498  3.224270   \n",
       "7559  1.233035  5.163458  3.918014  5.046202  3.590156  4.229870  3.231530   \n",
       "7560  1.238905  5.158308  3.902575  5.019501  3.543390  4.215756  3.245763   \n",
       "\n",
       "           7         8         9    ...       490       491       492  \\\n",
       "0     1.000000  1.000000  1.000000  ...  1.000000  1.000000  1.000000   \n",
       "1     0.979181  1.016739  0.996113  ...  0.989969  1.003954  1.008891   \n",
       "2     0.990811  1.017029  1.005438  ...  0.979958  0.994749  0.995072   \n",
       "3     0.993675  1.034932  1.009548  ...  0.963414  0.993132  0.990732   \n",
       "4     0.992773  1.037156  1.005299  ...  0.951621  0.985239  0.991573   \n",
       "...        ...       ...       ...  ...       ...       ...       ...   \n",
       "7556  1.724581  1.298603  3.252755  ...  2.874669  6.663847  9.096954   \n",
       "7557  1.726551  1.306944  3.269042  ...  2.854856  6.632347  9.056229   \n",
       "7558  1.720210  1.312514  3.257136  ...  2.865265  6.608745  9.129136   \n",
       "7559  1.712457  1.323583  3.257589  ...  2.863154  6.601980  9.136356   \n",
       "7560  1.720091  1.339526  3.209559  ...  2.917586  6.635663  9.271319   \n",
       "\n",
       "           493       494       495       496       497       498       499  \n",
       "0     1.000000  1.000000  1.000000  1.000000  1.000000  1.000000  1.000000  \n",
       "1     1.006889  0.988386  0.999499  1.006848  1.010237  1.003242  0.997782  \n",
       "2     0.999905  0.985291  0.998928  1.006012  1.007071  0.997915  0.998834  \n",
       "3     1.010077  0.989650  1.004307  0.998772  0.996733  1.003749  1.001804  \n",
       "4     0.996538  1.001106  1.008814  0.999319  0.994314  1.001760  0.998079  \n",
       "...        ...       ...       ...       ...       ...       ...       ...  \n",
       "7556  8.248866  2.921756  7.775251  5.708812  6.810598  9.884705  4.744583  \n",
       "7557  8.170238  2.942932  7.772587  5.712478  6.882107  9.782567  4.739177  \n",
       "7558  8.194641  2.947470  7.758756  5.728660  6.876432  9.775763  4.696620  \n",
       "7559  8.285759  2.971266  7.826164  5.658657  6.935866  9.733379  4.710280  \n",
       "7560  8.291819  2.984028  7.853374  5.622918  6.952628  9.581123  4.712794  \n",
       "\n",
       "[7561 rows x 500 columns]"
      ]
     },
     "execution_count": 45,
     "metadata": {},
     "output_type": "execute_result"
    }
   ],
   "source": [
    "# Running a Monte Carlo simulation to forecast 30 years cumulative returns\n",
    "MC_Y30.calc_cumulative_return()"
   ]
  },
  {
   "cell_type": "code",
   "execution_count": 46,
   "metadata": {},
   "outputs": [
    {
     "data": {
      "text/plain": [
       "<AxesSubplot:title={'center':'500 Simulations of Cumulative Portfolio Return Trajectories Over the Next 7560 Trading Days.'}>"
      ]
     },
     "execution_count": 46,
     "metadata": {},
     "output_type": "execute_result"
    },
    {
     "data": {
      "image/png": "[encoded data removed]",
      "text/plain": [
       "<Figure size 432x288 with 1 Axes>"
      ]
     },
     "metadata": {
      "needs_background": "light"
     },
     "output_type": "display_data"
    }
   ],
   "source": [
    "# Plot simulation outcomes\n",
    "MC_Y30.plot_simulation()"
   ]
  },
  {
   "cell_type": "code",
   "execution_count": 47,
   "metadata": {},
   "outputs": [
    {
     "data": {
      "text/plain": [
       "<AxesSubplot:title={'center':'Distribution of Final Cumuluative Returns Across All 500 Simulations'}, ylabel='Frequency'>"
      ]
     },
     "execution_count": 47,
     "metadata": {},
     "output_type": "execute_result"
    },
    {
     "data": {
      "image/png": "[encoded data removed]",
      "text/plain": [
       "<Figure size 432x288 with 1 Axes>"
      ]
     },
     "metadata": {
      "needs_background": "light"
     },
     "output_type": "display_data"
    }
   ],
   "source": [
    "# Plot probability distribution and confidence intervals\n",
    "MC_Y30.plot_distribution()"
   ]
  },
  {
   "cell_type": "markdown",
   "metadata": {},
   "source": [
    "### Retirement Analysis"
   ]
  },
  {
   "cell_type": "code",
   "execution_count": 48,
   "metadata": {},
   "outputs": [],
   "source": [
    "# Fetch summary statistics from the Monte Carlo simulation results\n",
    "MC_Y30_stats = MC_Y30.summarize_cumulative_return()"
   ]
  },
  {
   "cell_type": "code",
   "execution_count": 49,
   "metadata": {},
   "outputs": [
    {
     "name": "stdout",
     "output_type": "stream",
     "text": [
      "count           500.000000\n",
      "mean              4.769904\n",
      "std               3.110498\n",
      "min               0.691180\n",
      "25%               2.705945\n",
      "50%               3.905723\n",
      "75%               5.924898\n",
      "max              21.993589\n",
      "95% CI Lower      1.235055\n",
      "95% CI Upper     13.550309\n",
      "Name: 7560, dtype: float64\n"
     ]
    }
   ],
   "source": [
    "# Print summary statistics\n",
    "print(MC_Y30_stats)"
   ]
  },
  {
   "cell_type": "markdown",
   "metadata": {},
   "source": [
    "### Calculate the expected portfolio return at the `95%` lower and upper confidence intervals based on a `$20,000` initial investment."
   ]
  },
  {
   "cell_type": "code",
   "execution_count": 50,
   "metadata": {},
   "outputs": [],
   "source": [
    "# Set initial investment\n",
    "initial_investment = 20000"
   ]
  },
  {
   "cell_type": "code",
   "execution_count": 51,
   "metadata": {},
   "outputs": [],
   "source": [
    "# Use the lower and upper `95%` confidence intervals to calculate the range of the possible outcomes of our $20,000\n",
    "ci_lower = MC_Y30_stats[8] * initial_investment\n",
    "ci_upper = MC_Y30_stats[9] * initial_investment"
   ]
  },
  {
   "cell_type": "code",
   "execution_count": 52,
   "metadata": {},
   "outputs": [
    {
     "name": "stdout",
     "output_type": "stream",
     "text": [
      "There is a 95% chance that an initial investment of $20,000.00 in the portfolio over the next 30 years will end within in the range of $24,701.09 and $271,006.17\n"
     ]
    }
   ],
   "source": [
    "# Print results\n",
    "print(f\"There is a 95% chance that an initial investment of ${initial_investment:,.2f} in the portfolio\"\n",
    "      f\" over the next 30 years will end within in the range of\"\n",
    "      f\" ${ci_lower:,.2f} and ${ci_upper:,.2f}\")"
   ]
  },
  {
   "cell_type": "markdown",
   "metadata": {},
   "source": [
    "### Calculate the expected portfolio return at the `95%` lower and upper confidence intervals based on a `50%` increase in the initial investment."
   ]
  },
  {
   "cell_type": "code",
   "execution_count": 53,
   "metadata": {},
   "outputs": [],
   "source": [
    "# Set initial investment\n",
    "initial_investment = 20000 * 1.5"
   ]
  },
  {
   "cell_type": "code",
   "execution_count": 54,
   "metadata": {},
   "outputs": [],
   "source": [
    "# Use the lower and upper `95%` confidence intervals to calculate the range of the possible outcomes of our $30,000\n",
    "ci_lower = MC_Y30_stats[8] * initial_investment\n",
    "ci_upper = MC_Y30_stats[9] * initial_investment"
   ]
  },
  {
   "cell_type": "code",
   "execution_count": 55,
   "metadata": {},
   "outputs": [
    {
     "name": "stdout",
     "output_type": "stream",
     "text": [
      "There is a 95% chance that an initial investment of $30,000.00 in the portfolio over the next 30 years will end within in the range of $37,051.64 and $406,509.26\n"
     ]
    }
   ],
   "source": [
    "## Print results\n",
    "print(f\"There is a 95% chance that an initial investment of ${initial_investment:,.2f} in the portfolio\"\n",
    "      f\" over the next 30 years will end within in the range of\"\n",
    "      f\" ${ci_lower:,.2f} and ${ci_upper:,.2f}\")"
   ]
  },
  {
   "cell_type": "markdown",
   "metadata": {},
   "source": [
    "## Optional Challenge - Early Retirement\n",
    "\n",
    "\n",
    "### Five Years Retirement Option"
   ]
  },
  {
   "cell_type": "code",
   "execution_count": 56,
   "metadata": {},
   "outputs": [],
   "source": [
    "# Configuring a Monte Carlo simulation to forecast 5 years cumulative returns\n",
    "MC_Y05 = MCSimulation(portfolio_data = df_portfolio,\n",
    "                      weights = [0.10, 0.90],\n",
    "                      num_simulation = 500 ,\n",
    "                      num_trading_days = 252*5\n",
    "                      )"
   ]
  },
  {
   "cell_type": "code",
   "execution_count": 57,
   "metadata": {},
   "outputs": [
    {
     "name": "stdout",
     "output_type": "stream",
     "text": [
      "Running Monte Carlo simulation number 0.\n",
      "Running Monte Carlo simulation number 10.\n",
      "Running Monte Carlo simulation number 20.\n",
      "Running Monte Carlo simulation number 30.\n",
      "Running Monte Carlo simulation number 40.\n",
      "Running Monte Carlo simulation number 50.\n",
      "Running Monte Carlo simulation number 60.\n",
      "Running Monte Carlo simulation number 70.\n",
      "Running Monte Carlo simulation number 80.\n",
      "Running Monte Carlo simulation number 90.\n",
      "Running Monte Carlo simulation number 100.\n",
      "Running Monte Carlo simulation number 110.\n",
      "Running Monte Carlo simulation number 120.\n",
      "Running Monte Carlo simulation number 130.\n",
      "Running Monte Carlo simulation number 140.\n",
      "Running Monte Carlo simulation number 150.\n",
      "Running Monte Carlo simulation number 160.\n",
      "Running Monte Carlo simulation number 170.\n",
      "Running Monte Carlo simulation number 180.\n",
      "Running Monte Carlo simulation number 190.\n",
      "Running Monte Carlo simulation number 200.\n",
      "Running Monte Carlo simulation number 210.\n",
      "Running Monte Carlo simulation number 220.\n",
      "Running Monte Carlo simulation number 230.\n",
      "Running Monte Carlo simulation number 240.\n",
      "Running Monte Carlo simulation number 250.\n",
      "Running Monte Carlo simulation number 260.\n",
      "Running Monte Carlo simulation number 270.\n",
      "Running Monte Carlo simulation number 280.\n",
      "Running Monte Carlo simulation number 290.\n",
      "Running Monte Carlo simulation number 300.\n",
      "Running Monte Carlo simulation number 310.\n",
      "Running Monte Carlo simulation number 320.\n",
      "Running Monte Carlo simulation number 330.\n",
      "Running Monte Carlo simulation number 340.\n",
      "Running Monte Carlo simulation number 350.\n",
      "Running Monte Carlo simulation number 360.\n",
      "Running Monte Carlo simulation number 370.\n",
      "Running Monte Carlo simulation number 380.\n",
      "Running Monte Carlo simulation number 390.\n",
      "Running Monte Carlo simulation number 400.\n",
      "Running Monte Carlo simulation number 410.\n",
      "Running Monte Carlo simulation number 420.\n",
      "Running Monte Carlo simulation number 430.\n",
      "Running Monte Carlo simulation number 440.\n",
      "Running Monte Carlo simulation number 450.\n",
      "Running Monte Carlo simulation number 460.\n",
      "Running Monte Carlo simulation number 470.\n",
      "Running Monte Carlo simulation number 480.\n",
      "Running Monte Carlo simulation number 490.\n"
     ]
    },
    {
     "data": {
      "text/html": [
       "<div>\n",
       "<style scoped>\n",
       "    .dataframe tbody tr th:only-of-type {\n",
       "        vertical-align: middle;\n",
       "    }\n",
       "\n",
       "    .dataframe tbody tr th {\n",
       "        vertical-align: top;\n",
       "    }\n",
       "\n",
       "    .dataframe thead th {\n",
       "        text-align: right;\n",
       "    }\n",
       "</style>\n",
       "<table border=\"1\" class=\"dataframe\">\n",
       "  <thead>\n",
       "    <tr style=\"text-align: right;\">\n",
       "      <th></th>\n",
       "      <th>0</th>\n",
       "      <th>1</th>\n",
       "      <th>2</th>\n",
       "      <th>3</th>\n",
       "      <th>4</th>\n",
       "      <th>5</th>\n",
       "      <th>6</th>\n",
       "      <th>7</th>\n",
       "      <th>8</th>\n",
       "      <th>9</th>\n",
       "      <th>...</th>\n",
       "      <th>490</th>\n",
       "      <th>491</th>\n",
       "      <th>492</th>\n",
       "      <th>493</th>\n",
       "      <th>494</th>\n",
       "      <th>495</th>\n",
       "      <th>496</th>\n",
       "      <th>497</th>\n",
       "      <th>498</th>\n",
       "      <th>499</th>\n",
       "    </tr>\n",
       "  </thead>\n",
       "  <tbody>\n",
       "    <tr>\n",
       "      <th>0</th>\n",
       "      <td>1.000000</td>\n",
       "      <td>1.000000</td>\n",
       "      <td>1.000000</td>\n",
       "      <td>1.000000</td>\n",
       "      <td>1.000000</td>\n",
       "      <td>1.000000</td>\n",
       "      <td>1.000000</td>\n",
       "      <td>1.000000</td>\n",
       "      <td>1.000000</td>\n",
       "      <td>1.000000</td>\n",
       "      <td>...</td>\n",
       "      <td>1.000000</td>\n",
       "      <td>1.000000</td>\n",
       "      <td>1.000000</td>\n",
       "      <td>1.000000</td>\n",
       "      <td>1.000000</td>\n",
       "      <td>1.000000</td>\n",
       "      <td>1.000000</td>\n",
       "      <td>1.000000</td>\n",
       "      <td>1.000000</td>\n",
       "      <td>1.000000</td>\n",
       "    </tr>\n",
       "    <tr>\n",
       "      <th>1</th>\n",
       "      <td>1.015354</td>\n",
       "      <td>0.996731</td>\n",
       "      <td>1.006463</td>\n",
       "      <td>1.004828</td>\n",
       "      <td>1.013586</td>\n",
       "      <td>0.981434</td>\n",
       "      <td>0.983003</td>\n",
       "      <td>0.995744</td>\n",
       "      <td>0.997866</td>\n",
       "      <td>0.993066</td>\n",
       "      <td>...</td>\n",
       "      <td>1.000876</td>\n",
       "      <td>0.998672</td>\n",
       "      <td>1.011043</td>\n",
       "      <td>1.009069</td>\n",
       "      <td>1.007840</td>\n",
       "      <td>1.008462</td>\n",
       "      <td>1.011036</td>\n",
       "      <td>1.005593</td>\n",
       "      <td>0.999216</td>\n",
       "      <td>1.001268</td>\n",
       "    </tr>\n",
       "    <tr>\n",
       "      <th>2</th>\n",
       "      <td>1.016065</td>\n",
       "      <td>0.991550</td>\n",
       "      <td>0.986847</td>\n",
       "      <td>0.985180</td>\n",
       "      <td>1.002560</td>\n",
       "      <td>0.975178</td>\n",
       "      <td>0.986298</td>\n",
       "      <td>1.000869</td>\n",
       "      <td>0.991063</td>\n",
       "      <td>0.994706</td>\n",
       "      <td>...</td>\n",
       "      <td>0.992203</td>\n",
       "      <td>0.998258</td>\n",
       "      <td>1.012230</td>\n",
       "      <td>1.012766</td>\n",
       "      <td>0.990396</td>\n",
       "      <td>1.013844</td>\n",
       "      <td>1.007158</td>\n",
       "      <td>0.996589</td>\n",
       "      <td>1.018083</td>\n",
       "      <td>0.996091</td>\n",
       "    </tr>\n",
       "    <tr>\n",
       "      <th>3</th>\n",
       "      <td>1.005470</td>\n",
       "      <td>0.988469</td>\n",
       "      <td>0.989762</td>\n",
       "      <td>0.965807</td>\n",
       "      <td>0.992754</td>\n",
       "      <td>0.982864</td>\n",
       "      <td>0.982330</td>\n",
       "      <td>1.018986</td>\n",
       "      <td>0.984454</td>\n",
       "      <td>0.975861</td>\n",
       "      <td>...</td>\n",
       "      <td>1.008798</td>\n",
       "      <td>0.995836</td>\n",
       "      <td>1.021895</td>\n",
       "      <td>1.043323</td>\n",
       "      <td>0.993011</td>\n",
       "      <td>1.031869</td>\n",
       "      <td>1.001436</td>\n",
       "      <td>0.978731</td>\n",
       "      <td>1.006557</td>\n",
       "      <td>0.983933</td>\n",
       "    </tr>\n",
       "    <tr>\n",
       "      <th>4</th>\n",
       "      <td>1.023673</td>\n",
       "      <td>1.014451</td>\n",
       "      <td>0.974156</td>\n",
       "      <td>0.962654</td>\n",
       "      <td>1.017598</td>\n",
       "      <td>0.961367</td>\n",
       "      <td>0.992853</td>\n",
       "      <td>1.019149</td>\n",
       "      <td>1.001959</td>\n",
       "      <td>1.004091</td>\n",
       "      <td>...</td>\n",
       "      <td>1.011497</td>\n",
       "      <td>1.010954</td>\n",
       "      <td>1.046171</td>\n",
       "      <td>1.028810</td>\n",
       "      <td>1.002613</td>\n",
       "      <td>1.049794</td>\n",
       "      <td>0.993418</td>\n",
       "      <td>0.974322</td>\n",
       "      <td>1.013585</td>\n",
       "      <td>0.980667</td>\n",
       "    </tr>\n",
       "    <tr>\n",
       "      <th>...</th>\n",
       "      <td>...</td>\n",
       "      <td>...</td>\n",
       "      <td>...</td>\n",
       "      <td>...</td>\n",
       "      <td>...</td>\n",
       "      <td>...</td>\n",
       "      <td>...</td>\n",
       "      <td>...</td>\n",
       "      <td>...</td>\n",
       "      <td>...</td>\n",
       "      <td>...</td>\n",
       "      <td>...</td>\n",
       "      <td>...</td>\n",
       "      <td>...</td>\n",
       "      <td>...</td>\n",
       "      <td>...</td>\n",
       "      <td>...</td>\n",
       "      <td>...</td>\n",
       "      <td>...</td>\n",
       "      <td>...</td>\n",
       "      <td>...</td>\n",
       "    </tr>\n",
       "    <tr>\n",
       "      <th>1256</th>\n",
       "      <td>1.136034</td>\n",
       "      <td>1.326896</td>\n",
       "      <td>1.783230</td>\n",
       "      <td>0.844814</td>\n",
       "      <td>1.589546</td>\n",
       "      <td>2.367611</td>\n",
       "      <td>2.392316</td>\n",
       "      <td>1.892232</td>\n",
       "      <td>1.079510</td>\n",
       "      <td>1.351524</td>\n",
       "      <td>...</td>\n",
       "      <td>1.932351</td>\n",
       "      <td>0.796787</td>\n",
       "      <td>1.598185</td>\n",
       "      <td>2.522258</td>\n",
       "      <td>1.148003</td>\n",
       "      <td>2.214114</td>\n",
       "      <td>0.927892</td>\n",
       "      <td>1.225777</td>\n",
       "      <td>1.777885</td>\n",
       "      <td>0.900544</td>\n",
       "    </tr>\n",
       "    <tr>\n",
       "      <th>1257</th>\n",
       "      <td>1.146942</td>\n",
       "      <td>1.319267</td>\n",
       "      <td>1.774584</td>\n",
       "      <td>0.841517</td>\n",
       "      <td>1.566397</td>\n",
       "      <td>2.348258</td>\n",
       "      <td>2.446005</td>\n",
       "      <td>1.902977</td>\n",
       "      <td>1.066631</td>\n",
       "      <td>1.338513</td>\n",
       "      <td>...</td>\n",
       "      <td>1.931401</td>\n",
       "      <td>0.795128</td>\n",
       "      <td>1.609598</td>\n",
       "      <td>2.540665</td>\n",
       "      <td>1.162719</td>\n",
       "      <td>2.216220</td>\n",
       "      <td>0.932747</td>\n",
       "      <td>1.235699</td>\n",
       "      <td>1.777431</td>\n",
       "      <td>0.922899</td>\n",
       "    </tr>\n",
       "    <tr>\n",
       "      <th>1258</th>\n",
       "      <td>1.165131</td>\n",
       "      <td>1.322718</td>\n",
       "      <td>1.788997</td>\n",
       "      <td>0.851296</td>\n",
       "      <td>1.531209</td>\n",
       "      <td>2.349349</td>\n",
       "      <td>2.456350</td>\n",
       "      <td>1.932903</td>\n",
       "      <td>1.074984</td>\n",
       "      <td>1.351258</td>\n",
       "      <td>...</td>\n",
       "      <td>1.937978</td>\n",
       "      <td>0.785017</td>\n",
       "      <td>1.596281</td>\n",
       "      <td>2.535699</td>\n",
       "      <td>1.162404</td>\n",
       "      <td>2.213600</td>\n",
       "      <td>0.932589</td>\n",
       "      <td>1.237848</td>\n",
       "      <td>1.817376</td>\n",
       "      <td>0.929746</td>\n",
       "    </tr>\n",
       "    <tr>\n",
       "      <th>1259</th>\n",
       "      <td>1.171034</td>\n",
       "      <td>1.327549</td>\n",
       "      <td>1.743381</td>\n",
       "      <td>0.850900</td>\n",
       "      <td>1.528412</td>\n",
       "      <td>2.397046</td>\n",
       "      <td>2.460286</td>\n",
       "      <td>1.899738</td>\n",
       "      <td>1.062513</td>\n",
       "      <td>1.359996</td>\n",
       "      <td>...</td>\n",
       "      <td>1.923892</td>\n",
       "      <td>0.795985</td>\n",
       "      <td>1.597808</td>\n",
       "      <td>2.543991</td>\n",
       "      <td>1.165409</td>\n",
       "      <td>2.227253</td>\n",
       "      <td>0.938613</td>\n",
       "      <td>1.238494</td>\n",
       "      <td>1.844395</td>\n",
       "      <td>0.956878</td>\n",
       "    </tr>\n",
       "    <tr>\n",
       "      <th>1260</th>\n",
       "      <td>1.178904</td>\n",
       "      <td>1.312229</td>\n",
       "      <td>1.739926</td>\n",
       "      <td>0.853989</td>\n",
       "      <td>1.543534</td>\n",
       "      <td>2.421748</td>\n",
       "      <td>2.513937</td>\n",
       "      <td>1.857996</td>\n",
       "      <td>1.062746</td>\n",
       "      <td>1.372901</td>\n",
       "      <td>...</td>\n",
       "      <td>1.924237</td>\n",
       "      <td>0.813607</td>\n",
       "      <td>1.598695</td>\n",
       "      <td>2.548037</td>\n",
       "      <td>1.136851</td>\n",
       "      <td>2.264069</td>\n",
       "      <td>0.940909</td>\n",
       "      <td>1.250012</td>\n",
       "      <td>1.868128</td>\n",
       "      <td>0.946515</td>\n",
       "    </tr>\n",
       "  </tbody>\n",
       "</table>\n",
       "<p>1261 rows × 500 columns</p>\n",
       "</div>"
      ],
      "text/plain": [
       "           0         1         2         3         4         5         6    \\\n",
       "0     1.000000  1.000000  1.000000  1.000000  1.000000  1.000000  1.000000   \n",
       "1     1.015354  0.996731  1.006463  1.004828  1.013586  0.981434  0.983003   \n",
       "2     1.016065  0.991550  0.986847  0.985180  1.002560  0.975178  0.986298   \n",
       "3     1.005470  0.988469  0.989762  0.965807  0.992754  0.982864  0.982330   \n",
       "4     1.023673  1.014451  0.974156  0.962654  1.017598  0.961367  0.992853   \n",
       "...        ...       ...       ...       ...       ...       ...       ...   \n",
       "1256  1.136034  1.326896  1.783230  0.844814  1.589546  2.367611  2.392316   \n",
       "1257  1.146942  1.319267  1.774584  0.841517  1.566397  2.348258  2.446005   \n",
       "1258  1.165131  1.322718  1.788997  0.851296  1.531209  2.349349  2.456350   \n",
       "1259  1.171034  1.327549  1.743381  0.850900  1.528412  2.397046  2.460286   \n",
       "1260  1.178904  1.312229  1.739926  0.853989  1.543534  2.421748  2.513937   \n",
       "\n",
       "           7         8         9    ...       490       491       492  \\\n",
       "0     1.000000  1.000000  1.000000  ...  1.000000  1.000000  1.000000   \n",
       "1     0.995744  0.997866  0.993066  ...  1.000876  0.998672  1.011043   \n",
       "2     1.000869  0.991063  0.994706  ...  0.992203  0.998258  1.012230   \n",
       "3     1.018986  0.984454  0.975861  ...  1.008798  0.995836  1.021895   \n",
       "4     1.019149  1.001959  1.004091  ...  1.011497  1.010954  1.046171   \n",
       "...        ...       ...       ...  ...       ...       ...       ...   \n",
       "1256  1.892232  1.079510  1.351524  ...  1.932351  0.796787  1.598185   \n",
       "1257  1.902977  1.066631  1.338513  ...  1.931401  0.795128  1.609598   \n",
       "1258  1.932903  1.074984  1.351258  ...  1.937978  0.785017  1.596281   \n",
       "1259  1.899738  1.062513  1.359996  ...  1.923892  0.795985  1.597808   \n",
       "1260  1.857996  1.062746  1.372901  ...  1.924237  0.813607  1.598695   \n",
       "\n",
       "           493       494       495       496       497       498       499  \n",
       "0     1.000000  1.000000  1.000000  1.000000  1.000000  1.000000  1.000000  \n",
       "1     1.009069  1.007840  1.008462  1.011036  1.005593  0.999216  1.001268  \n",
       "2     1.012766  0.990396  1.013844  1.007158  0.996589  1.018083  0.996091  \n",
       "3     1.043323  0.993011  1.031869  1.001436  0.978731  1.006557  0.983933  \n",
       "4     1.028810  1.002613  1.049794  0.993418  0.974322  1.013585  0.980667  \n",
       "...        ...       ...       ...       ...       ...       ...       ...  \n",
       "1256  2.522258  1.148003  2.214114  0.927892  1.225777  1.777885  0.900544  \n",
       "1257  2.540665  1.162719  2.216220  0.932747  1.235699  1.777431  0.922899  \n",
       "1258  2.535699  1.162404  2.213600  0.932589  1.237848  1.817376  0.929746  \n",
       "1259  2.543991  1.165409  2.227253  0.938613  1.238494  1.844395  0.956878  \n",
       "1260  2.548037  1.136851  2.264069  0.940909  1.250012  1.868128  0.946515  \n",
       "\n",
       "[1261 rows x 500 columns]"
      ]
     },
     "execution_count": 57,
     "metadata": {},
     "output_type": "execute_result"
    }
   ],
   "source": [
    "# Running a Monte Carlo simulation to forecast 5 years cumulative returns\n",
    "MC_Y05.calc_cumulative_return()"
   ]
  },
  {
   "cell_type": "code",
   "execution_count": 58,
   "metadata": {},
   "outputs": [
    {
     "data": {
      "text/plain": [
       "<AxesSubplot:title={'center':'500 Simulations of Cumulative Portfolio Return Trajectories Over the Next 1260 Trading Days.'}>"
      ]
     },
     "execution_count": 58,
     "metadata": {},
     "output_type": "execute_result"
    },
    {
     "data": {
      "image/png": "[encoded data removed]",
      "text/plain": [
       "<Figure size 432x288 with 1 Axes>"
      ]
     },
     "metadata": {
      "needs_background": "light"
     },
     "output_type": "display_data"
    }
   ],
   "source": [
    "# Plot simulation outcomes\n",
    "MC_Y05.plot_simulation()"
   ]
  },
  {
   "cell_type": "code",
   "execution_count": 59,
   "metadata": {},
   "outputs": [
    {
     "data": {
      "text/plain": [
       "<AxesSubplot:title={'center':'Distribution of Final Cumuluative Returns Across All 500 Simulations'}, ylabel='Frequency'>"
      ]
     },
     "execution_count": 59,
     "metadata": {},
     "output_type": "execute_result"
    },
    {
     "data": {
      "image/png": "[encoded data removed]",
      "text/plain": [
       "<Figure size 432x288 with 1 Axes>"
      ]
     },
     "metadata": {
      "needs_background": "light"
     },
     "output_type": "display_data"
    }
   ],
   "source": [
    "# Plot probability distribution and confidence intervals\n",
    "MC_Y05.plot_distribution()"
   ]
  },
  {
   "cell_type": "code",
   "execution_count": 60,
   "metadata": {},
   "outputs": [],
   "source": [
    "# Fetch summary statistics from the Monte Carlo simulation results\n",
    "MC_Y05_stats = MC_Y05.summarize_cumulative_return()"
   ]
  },
  {
   "cell_type": "code",
   "execution_count": 61,
   "metadata": {},
   "outputs": [
    {
     "name": "stdout",
     "output_type": "stream",
     "text": [
      "count           500.000000\n",
      "mean              1.492213\n",
      "std               0.595901\n",
      "min               0.387655\n",
      "25%               1.055629\n",
      "50%               1.401050\n",
      "75%               1.799109\n",
      "max               4.561692\n",
      "95% CI Lower      0.661129\n",
      "95% CI Upper      2.912689\n",
      "Name: 1260, dtype: float64\n"
     ]
    }
   ],
   "source": [
    "# Print summary statistics\n",
    "print(MC_Y05_stats)"
   ]
  },
  {
   "cell_type": "code",
   "execution_count": 62,
   "metadata": {},
   "outputs": [],
   "source": [
    "# Set initial investment\n",
    "initial_investment = 20000*10"
   ]
  },
  {
   "cell_type": "code",
   "execution_count": 63,
   "metadata": {},
   "outputs": [],
   "source": [
    "# Use the lower and upper `95%` confidence intervals to calculate the range of the possible outcomes of our $200,000\n",
    "ci_lower_five = MC_Y05_stats[8] * initial_investment\n",
    "ci_upper_five = MC_Y05_stats[9] * initial_investment"
   ]
  },
  {
   "cell_type": "code",
   "execution_count": 64,
   "metadata": {},
   "outputs": [
    {
     "name": "stdout",
     "output_type": "stream",
     "text": [
      "There is a 95% chance that an initial investment of $200,000.00 in the portfolio over the next 5 years will end within in the range of $132,225.83 and $582,537.77\n"
     ]
    }
   ],
   "source": [
    "# Print results\n",
    "print(f\"There is a 95% chance that an initial investment of ${initial_investment:,.2f} in the portfolio\"\n",
    "      f\" over the next 5 years will end within in the range of\"\n",
    "      f\" ${ci_lower_five:,.2f} and ${ci_upper_five:,.2f}\")"
   ]
  },
  {
   "cell_type": "markdown",
   "metadata": {},
   "source": [
    "### Ten Years Retirement Option"
   ]
  },
  {
   "cell_type": "code",
   "execution_count": 65,
   "metadata": {},
   "outputs": [],
   "source": [
    "# Configuring a Monte Carlo simulation to forecast 10 years cumulative returns\n",
    "MC_Y10 = MCSimulation(portfolio_data = df_portfolio,\n",
    "                      weights = [0.30, 0.70],\n",
    "                      num_simulation = 500 ,\n",
    "                      num_trading_days = 252*10\n",
    "                      )"
   ]
  },
  {
   "cell_type": "code",
   "execution_count": 66,
   "metadata": {},
   "outputs": [
    {
     "name": "stdout",
     "output_type": "stream",
     "text": [
      "Running Monte Carlo simulation number 0.\n",
      "Running Monte Carlo simulation number 10.\n",
      "Running Monte Carlo simulation number 20.\n",
      "Running Monte Carlo simulation number 30.\n",
      "Running Monte Carlo simulation number 40.\n",
      "Running Monte Carlo simulation number 50.\n",
      "Running Monte Carlo simulation number 60.\n",
      "Running Monte Carlo simulation number 70.\n",
      "Running Monte Carlo simulation number 80.\n",
      "Running Monte Carlo simulation number 90.\n",
      "Running Monte Carlo simulation number 100.\n",
      "Running Monte Carlo simulation number 110.\n",
      "Running Monte Carlo simulation number 120.\n",
      "Running Monte Carlo simulation number 130.\n",
      "Running Monte Carlo simulation number 140.\n",
      "Running Monte Carlo simulation number 150.\n",
      "Running Monte Carlo simulation number 160.\n",
      "Running Monte Carlo simulation number 170.\n",
      "Running Monte Carlo simulation number 180.\n",
      "Running Monte Carlo simulation number 190.\n",
      "Running Monte Carlo simulation number 200.\n",
      "Running Monte Carlo simulation number 210.\n",
      "Running Monte Carlo simulation number 220.\n",
      "Running Monte Carlo simulation number 230.\n",
      "Running Monte Carlo simulation number 240.\n",
      "Running Monte Carlo simulation number 250.\n",
      "Running Monte Carlo simulation number 260.\n",
      "Running Monte Carlo simulation number 270.\n",
      "Running Monte Carlo simulation number 280.\n",
      "Running Monte Carlo simulation number 290.\n",
      "Running Monte Carlo simulation number 300.\n",
      "Running Monte Carlo simulation number 310.\n",
      "Running Monte Carlo simulation number 320.\n",
      "Running Monte Carlo simulation number 330.\n",
      "Running Monte Carlo simulation number 340.\n",
      "Running Monte Carlo simulation number 350.\n",
      "Running Monte Carlo simulation number 360.\n",
      "Running Monte Carlo simulation number 370.\n",
      "Running Monte Carlo simulation number 380.\n",
      "Running Monte Carlo simulation number 390.\n",
      "Running Monte Carlo simulation number 400.\n",
      "Running Monte Carlo simulation number 410.\n",
      "Running Monte Carlo simulation number 420.\n",
      "Running Monte Carlo simulation number 430.\n",
      "Running Monte Carlo simulation number 440.\n",
      "Running Monte Carlo simulation number 450.\n",
      "Running Monte Carlo simulation number 460.\n",
      "Running Monte Carlo simulation number 470.\n",
      "Running Monte Carlo simulation number 480.\n",
      "Running Monte Carlo simulation number 490.\n"
     ]
    },
    {
     "data": {
      "text/html": [
       "<div>\n",
       "<style scoped>\n",
       "    .dataframe tbody tr th:only-of-type {\n",
       "        vertical-align: middle;\n",
       "    }\n",
       "\n",
       "    .dataframe tbody tr th {\n",
       "        vertical-align: top;\n",
       "    }\n",
       "\n",
       "    .dataframe thead th {\n",
       "        text-align: right;\n",
       "    }\n",
       "</style>\n",
       "<table border=\"1\" class=\"dataframe\">\n",
       "  <thead>\n",
       "    <tr style=\"text-align: right;\">\n",
       "      <th></th>\n",
       "      <th>0</th>\n",
       "      <th>1</th>\n",
       "      <th>2</th>\n",
       "      <th>3</th>\n",
       "      <th>4</th>\n",
       "      <th>5</th>\n",
       "      <th>6</th>\n",
       "      <th>7</th>\n",
       "      <th>8</th>\n",
       "      <th>9</th>\n",
       "      <th>...</th>\n",
       "      <th>490</th>\n",
       "      <th>491</th>\n",
       "      <th>492</th>\n",
       "      <th>493</th>\n",
       "      <th>494</th>\n",
       "      <th>495</th>\n",
       "      <th>496</th>\n",
       "      <th>497</th>\n",
       "      <th>498</th>\n",
       "      <th>499</th>\n",
       "    </tr>\n",
       "  </thead>\n",
       "  <tbody>\n",
       "    <tr>\n",
       "      <th>0</th>\n",
       "      <td>1.000000</td>\n",
       "      <td>1.000000</td>\n",
       "      <td>1.000000</td>\n",
       "      <td>1.000000</td>\n",
       "      <td>1.000000</td>\n",
       "      <td>1.000000</td>\n",
       "      <td>1.000000</td>\n",
       "      <td>1.000000</td>\n",
       "      <td>1.000000</td>\n",
       "      <td>1.000000</td>\n",
       "      <td>...</td>\n",
       "      <td>1.000000</td>\n",
       "      <td>1.000000</td>\n",
       "      <td>1.000000</td>\n",
       "      <td>1.000000</td>\n",
       "      <td>1.000000</td>\n",
       "      <td>1.000000</td>\n",
       "      <td>1.000000</td>\n",
       "      <td>1.000000</td>\n",
       "      <td>1.000000</td>\n",
       "      <td>1.000000</td>\n",
       "    </tr>\n",
       "    <tr>\n",
       "      <th>1</th>\n",
       "      <td>0.998040</td>\n",
       "      <td>0.995173</td>\n",
       "      <td>0.981663</td>\n",
       "      <td>0.996502</td>\n",
       "      <td>1.009928</td>\n",
       "      <td>1.004396</td>\n",
       "      <td>0.994757</td>\n",
       "      <td>1.007927</td>\n",
       "      <td>1.004394</td>\n",
       "      <td>0.999927</td>\n",
       "      <td>...</td>\n",
       "      <td>1.002583</td>\n",
       "      <td>0.994073</td>\n",
       "      <td>0.996621</td>\n",
       "      <td>1.006533</td>\n",
       "      <td>0.991732</td>\n",
       "      <td>1.007198</td>\n",
       "      <td>0.991652</td>\n",
       "      <td>0.985312</td>\n",
       "      <td>0.987801</td>\n",
       "      <td>1.011928</td>\n",
       "    </tr>\n",
       "    <tr>\n",
       "      <th>2</th>\n",
       "      <td>1.007369</td>\n",
       "      <td>1.000345</td>\n",
       "      <td>0.986783</td>\n",
       "      <td>0.991847</td>\n",
       "      <td>1.003343</td>\n",
       "      <td>1.012674</td>\n",
       "      <td>0.993398</td>\n",
       "      <td>1.005562</td>\n",
       "      <td>1.006561</td>\n",
       "      <td>1.008375</td>\n",
       "      <td>...</td>\n",
       "      <td>0.998151</td>\n",
       "      <td>1.001150</td>\n",
       "      <td>1.000445</td>\n",
       "      <td>1.009687</td>\n",
       "      <td>0.978859</td>\n",
       "      <td>1.018362</td>\n",
       "      <td>0.986386</td>\n",
       "      <td>0.997206</td>\n",
       "      <td>0.994736</td>\n",
       "      <td>1.023285</td>\n",
       "    </tr>\n",
       "    <tr>\n",
       "      <th>3</th>\n",
       "      <td>1.001055</td>\n",
       "      <td>0.997002</td>\n",
       "      <td>0.985215</td>\n",
       "      <td>0.984394</td>\n",
       "      <td>1.007737</td>\n",
       "      <td>0.999406</td>\n",
       "      <td>0.989823</td>\n",
       "      <td>1.008770</td>\n",
       "      <td>1.010325</td>\n",
       "      <td>1.002353</td>\n",
       "      <td>...</td>\n",
       "      <td>0.995771</td>\n",
       "      <td>1.001960</td>\n",
       "      <td>1.000170</td>\n",
       "      <td>1.011230</td>\n",
       "      <td>0.985485</td>\n",
       "      <td>1.022341</td>\n",
       "      <td>0.989046</td>\n",
       "      <td>1.004835</td>\n",
       "      <td>0.988701</td>\n",
       "      <td>1.015959</td>\n",
       "    </tr>\n",
       "    <tr>\n",
       "      <th>4</th>\n",
       "      <td>1.008189</td>\n",
       "      <td>1.006091</td>\n",
       "      <td>0.987020</td>\n",
       "      <td>0.989837</td>\n",
       "      <td>1.014634</td>\n",
       "      <td>1.000423</td>\n",
       "      <td>0.988132</td>\n",
       "      <td>1.008347</td>\n",
       "      <td>1.011205</td>\n",
       "      <td>0.992862</td>\n",
       "      <td>...</td>\n",
       "      <td>0.998651</td>\n",
       "      <td>1.002996</td>\n",
       "      <td>1.003175</td>\n",
       "      <td>1.023606</td>\n",
       "      <td>0.980676</td>\n",
       "      <td>1.014374</td>\n",
       "      <td>1.000515</td>\n",
       "      <td>1.002308</td>\n",
       "      <td>0.987153</td>\n",
       "      <td>1.031621</td>\n",
       "    </tr>\n",
       "    <tr>\n",
       "      <th>...</th>\n",
       "      <td>...</td>\n",
       "      <td>...</td>\n",
       "      <td>...</td>\n",
       "      <td>...</td>\n",
       "      <td>...</td>\n",
       "      <td>...</td>\n",
       "      <td>...</td>\n",
       "      <td>...</td>\n",
       "      <td>...</td>\n",
       "      <td>...</td>\n",
       "      <td>...</td>\n",
       "      <td>...</td>\n",
       "      <td>...</td>\n",
       "      <td>...</td>\n",
       "      <td>...</td>\n",
       "      <td>...</td>\n",
       "      <td>...</td>\n",
       "      <td>...</td>\n",
       "      <td>...</td>\n",
       "      <td>...</td>\n",
       "      <td>...</td>\n",
       "    </tr>\n",
       "    <tr>\n",
       "      <th>2516</th>\n",
       "      <td>0.902678</td>\n",
       "      <td>2.039288</td>\n",
       "      <td>2.763868</td>\n",
       "      <td>2.664523</td>\n",
       "      <td>2.095333</td>\n",
       "      <td>2.151287</td>\n",
       "      <td>1.838959</td>\n",
       "      <td>1.220217</td>\n",
       "      <td>1.308889</td>\n",
       "      <td>2.045729</td>\n",
       "      <td>...</td>\n",
       "      <td>1.977993</td>\n",
       "      <td>2.576546</td>\n",
       "      <td>1.420218</td>\n",
       "      <td>2.307789</td>\n",
       "      <td>1.001088</td>\n",
       "      <td>1.556585</td>\n",
       "      <td>1.901295</td>\n",
       "      <td>3.047268</td>\n",
       "      <td>1.146647</td>\n",
       "      <td>2.701398</td>\n",
       "    </tr>\n",
       "    <tr>\n",
       "      <th>2517</th>\n",
       "      <td>0.901284</td>\n",
       "      <td>2.055869</td>\n",
       "      <td>2.741068</td>\n",
       "      <td>2.616292</td>\n",
       "      <td>2.071071</td>\n",
       "      <td>2.141625</td>\n",
       "      <td>1.838424</td>\n",
       "      <td>1.211807</td>\n",
       "      <td>1.323216</td>\n",
       "      <td>2.068100</td>\n",
       "      <td>...</td>\n",
       "      <td>1.984102</td>\n",
       "      <td>2.577871</td>\n",
       "      <td>1.421553</td>\n",
       "      <td>2.303162</td>\n",
       "      <td>0.989988</td>\n",
       "      <td>1.543302</td>\n",
       "      <td>1.899945</td>\n",
       "      <td>3.042932</td>\n",
       "      <td>1.143149</td>\n",
       "      <td>2.710647</td>\n",
       "    </tr>\n",
       "    <tr>\n",
       "      <th>2518</th>\n",
       "      <td>0.908732</td>\n",
       "      <td>2.024644</td>\n",
       "      <td>2.768573</td>\n",
       "      <td>2.596234</td>\n",
       "      <td>2.056792</td>\n",
       "      <td>2.135550</td>\n",
       "      <td>1.842351</td>\n",
       "      <td>1.214888</td>\n",
       "      <td>1.333647</td>\n",
       "      <td>2.066374</td>\n",
       "      <td>...</td>\n",
       "      <td>1.995469</td>\n",
       "      <td>2.605166</td>\n",
       "      <td>1.402586</td>\n",
       "      <td>2.291478</td>\n",
       "      <td>0.998134</td>\n",
       "      <td>1.537155</td>\n",
       "      <td>1.875430</td>\n",
       "      <td>3.035226</td>\n",
       "      <td>1.143731</td>\n",
       "      <td>2.717478</td>\n",
       "    </tr>\n",
       "    <tr>\n",
       "      <th>2519</th>\n",
       "      <td>0.923569</td>\n",
       "      <td>1.986003</td>\n",
       "      <td>2.762221</td>\n",
       "      <td>2.611664</td>\n",
       "      <td>2.050453</td>\n",
       "      <td>2.166506</td>\n",
       "      <td>1.853625</td>\n",
       "      <td>1.216635</td>\n",
       "      <td>1.338847</td>\n",
       "      <td>2.095767</td>\n",
       "      <td>...</td>\n",
       "      <td>2.031324</td>\n",
       "      <td>2.588622</td>\n",
       "      <td>1.412470</td>\n",
       "      <td>2.278045</td>\n",
       "      <td>1.004710</td>\n",
       "      <td>1.535667</td>\n",
       "      <td>1.864302</td>\n",
       "      <td>3.072004</td>\n",
       "      <td>1.130886</td>\n",
       "      <td>2.685396</td>\n",
       "    </tr>\n",
       "    <tr>\n",
       "      <th>2520</th>\n",
       "      <td>0.938172</td>\n",
       "      <td>1.979653</td>\n",
       "      <td>2.747168</td>\n",
       "      <td>2.595474</td>\n",
       "      <td>2.027120</td>\n",
       "      <td>2.167359</td>\n",
       "      <td>1.862859</td>\n",
       "      <td>1.219072</td>\n",
       "      <td>1.332067</td>\n",
       "      <td>2.082502</td>\n",
       "      <td>...</td>\n",
       "      <td>2.037522</td>\n",
       "      <td>2.616366</td>\n",
       "      <td>1.410933</td>\n",
       "      <td>2.251967</td>\n",
       "      <td>1.003848</td>\n",
       "      <td>1.514699</td>\n",
       "      <td>1.864106</td>\n",
       "      <td>3.048508</td>\n",
       "      <td>1.135011</td>\n",
       "      <td>2.642556</td>\n",
       "    </tr>\n",
       "  </tbody>\n",
       "</table>\n",
       "<p>2521 rows × 500 columns</p>\n",
       "</div>"
      ],
      "text/plain": [
       "           0         1         2         3         4         5         6    \\\n",
       "0     1.000000  1.000000  1.000000  1.000000  1.000000  1.000000  1.000000   \n",
       "1     0.998040  0.995173  0.981663  0.996502  1.009928  1.004396  0.994757   \n",
       "2     1.007369  1.000345  0.986783  0.991847  1.003343  1.012674  0.993398   \n",
       "3     1.001055  0.997002  0.985215  0.984394  1.007737  0.999406  0.989823   \n",
       "4     1.008189  1.006091  0.987020  0.989837  1.014634  1.000423  0.988132   \n",
       "...        ...       ...       ...       ...       ...       ...       ...   \n",
       "2516  0.902678  2.039288  2.763868  2.664523  2.095333  2.151287  1.838959   \n",
       "2517  0.901284  2.055869  2.741068  2.616292  2.071071  2.141625  1.838424   \n",
       "2518  0.908732  2.024644  2.768573  2.596234  2.056792  2.135550  1.842351   \n",
       "2519  0.923569  1.986003  2.762221  2.611664  2.050453  2.166506  1.853625   \n",
       "2520  0.938172  1.979653  2.747168  2.595474  2.027120  2.167359  1.862859   \n",
       "\n",
       "           7         8         9    ...       490       491       492  \\\n",
       "0     1.000000  1.000000  1.000000  ...  1.000000  1.000000  1.000000   \n",
       "1     1.007927  1.004394  0.999927  ...  1.002583  0.994073  0.996621   \n",
       "2     1.005562  1.006561  1.008375  ...  0.998151  1.001150  1.000445   \n",
       "3     1.008770  1.010325  1.002353  ...  0.995771  1.001960  1.000170   \n",
       "4     1.008347  1.011205  0.992862  ...  0.998651  1.002996  1.003175   \n",
       "...        ...       ...       ...  ...       ...       ...       ...   \n",
       "2516  1.220217  1.308889  2.045729  ...  1.977993  2.576546  1.420218   \n",
       "2517  1.211807  1.323216  2.068100  ...  1.984102  2.577871  1.421553   \n",
       "2518  1.214888  1.333647  2.066374  ...  1.995469  2.605166  1.402586   \n",
       "2519  1.216635  1.338847  2.095767  ...  2.031324  2.588622  1.412470   \n",
       "2520  1.219072  1.332067  2.082502  ...  2.037522  2.616366  1.410933   \n",
       "\n",
       "           493       494       495       496       497       498       499  \n",
       "0     1.000000  1.000000  1.000000  1.000000  1.000000  1.000000  1.000000  \n",
       "1     1.006533  0.991732  1.007198  0.991652  0.985312  0.987801  1.011928  \n",
       "2     1.009687  0.978859  1.018362  0.986386  0.997206  0.994736  1.023285  \n",
       "3     1.011230  0.985485  1.022341  0.989046  1.004835  0.988701  1.015959  \n",
       "4     1.023606  0.980676  1.014374  1.000515  1.002308  0.987153  1.031621  \n",
       "...        ...       ...       ...       ...       ...       ...       ...  \n",
       "2516  2.307789  1.001088  1.556585  1.901295  3.047268  1.146647  2.701398  \n",
       "2517  2.303162  0.989988  1.543302  1.899945  3.042932  1.143149  2.710647  \n",
       "2518  2.291478  0.998134  1.537155  1.875430  3.035226  1.143731  2.717478  \n",
       "2519  2.278045  1.004710  1.535667  1.864302  3.072004  1.130886  2.685396  \n",
       "2520  2.251967  1.003848  1.514699  1.864106  3.048508  1.135011  2.642556  \n",
       "\n",
       "[2521 rows x 500 columns]"
      ]
     },
     "execution_count": 66,
     "metadata": {},
     "output_type": "execute_result"
    }
   ],
   "source": [
    "# Running a Monte Carlo simulation to forecast 10 years cumulative returns\n",
    "MC_Y10.calc_cumulative_return()"
   ]
  },
  {
   "cell_type": "code",
   "execution_count": 67,
   "metadata": {},
   "outputs": [
    {
     "data": {
      "text/plain": [
       "<AxesSubplot:title={'center':'500 Simulations of Cumulative Portfolio Return Trajectories Over the Next 2520 Trading Days.'}>"
      ]
     },
     "execution_count": 67,
     "metadata": {},
     "output_type": "execute_result"
    },
    {
     "data": {
      "image/png": "[encoded data removed]",
      "text/plain": [
       "<Figure size 432x288 with 1 Axes>"
      ]
     },
     "metadata": {
      "needs_background": "light"
     },
     "output_type": "display_data"
    }
   ],
   "source": [
    "# Plot simulation outcomes\n",
    "MC_Y10.plot_simulation()"
   ]
  },
  {
   "cell_type": "code",
   "execution_count": 68,
   "metadata": {},
   "outputs": [
    {
     "data": {
      "text/plain": [
       "<AxesSubplot:title={'center':'Distribution of Final Cumuluative Returns Across All 500 Simulations'}, ylabel='Frequency'>"
      ]
     },
     "execution_count": 68,
     "metadata": {},
     "output_type": "execute_result"
    },
    {
     "data": {
      "image/png": "[encoded data removed]",
      "text/plain": [
       "<Figure size 432x288 with 1 Axes>"
      ]
     },
     "metadata": {
      "needs_background": "light"
     },
     "output_type": "display_data"
    }
   ],
   "source": [
    "# Plot probability distribution and confidence intervals\n",
    "MC_Y10.plot_distribution()"
   ]
  },
  {
   "cell_type": "code",
   "execution_count": 69,
   "metadata": {},
   "outputs": [],
   "source": [
    "# Fetch summary statistics from the Monte Carlo simulation results\n",
    "MC_Y10_stats = MC_Y10.summarize_cumulative_return()"
   ]
  },
  {
   "cell_type": "code",
   "execution_count": 70,
   "metadata": {},
   "outputs": [
    {
     "name": "stdout",
     "output_type": "stream",
     "text": [
      "count           500.000000\n",
      "mean              1.871732\n",
      "std               0.783272\n",
      "min               0.477582\n",
      "25%               1.335296\n",
      "50%               1.715971\n",
      "75%               2.252226\n",
      "max               6.571544\n",
      "95% CI Lower      0.783797\n",
      "95% CI Upper      3.739326\n",
      "Name: 2520, dtype: float64\n"
     ]
    }
   ],
   "source": [
    "# Print summary statistics\n",
    "print(MC_Y10_stats)"
   ]
  },
  {
   "cell_type": "code",
   "execution_count": 71,
   "metadata": {},
   "outputs": [],
   "source": [
    "# Set initial investment\n",
    "initial_investment = 20000*7"
   ]
  },
  {
   "cell_type": "code",
   "execution_count": 72,
   "metadata": {},
   "outputs": [],
   "source": [
    "# Use the lower and upper `95%` confidence intervals to calculate the range of the possible outcomes of our $140,000\n",
    "ci_lower_ten = MC_Y10_stats[8] * initial_investment\n",
    "ci_upper_ten = MC_Y10_stats[9] * initial_investment"
   ]
  },
  {
   "cell_type": "code",
   "execution_count": 73,
   "metadata": {},
   "outputs": [
    {
     "name": "stdout",
     "output_type": "stream",
     "text": [
      "There is a 95% chance that an initial investment of $140,000.00 in the portfolio over the next 10 years will end within in the range of $109,731.58 and $523,505.64\n"
     ]
    }
   ],
   "source": [
    "# Print results\n",
    "print(f\"There is a 95% chance that an initial investment of ${initial_investment:,.2f} in the portfolio\"\n",
    "      f\" over the next 10 years will end within in the range of\"\n",
    "      f\" ${ci_lower_ten:,.2f} and ${ci_upper_ten:,.2f}\")"
   ]
  },
  {
   "cell_type": "markdown",
   "metadata": {},
   "source": [
    "#### Early Retirement considerations\n",
    "Assuming one would like to maintain a similar lifestyle regardless when one retires,<br>\n",
    "a) retiring in 5 years instead of 30 years time <br>\n",
    "The initial investment amount will need to increase significantly. The above numerical illustration has used an increase of 10 times (or 1000%) in initial investment. <br>\n",
    "The significant increase is to compensate the shorter wealth accumulation period. The investment portfolio was adjusted to include more risk (90% stock and 10% bond) to boost the expected portfolio return. <br>\n",
    "\n",
    "b) retiring in 10 years instead of 30 years time <br>\n",
    "Similarly, the initial invsetment amount will need to increase signficantly and could be less than the amount as if one would want to retire in 5 years time. The above numerical illustration has used an increase of 7 times (or 700%) in initial investment. The investment portfolio was adjusted to include more risk (70% stock and 30% bond) to boost the expected portfolio return.\n",
    "\n",
    "The simulation results indicated that having a portfolio with more risk (i.e. higher proportion of stock) does not necessarily guarantee a higher return. The simulated average return for the 10 year portfolio is only 20% higher than the average return from the 5 year portfolio.Purely weighting the portfolio towards more risk does not guarantee sufficient fund for retirement if no increases in initial investment. Even with material inceases in initial investment, there is no guarantee there will be sufficient fund to support early retirement noting:\n",
    "* investment risk\n",
    "* longevity risk\n",
    "* health risk\n",
    "* inflation risk"
   ]
  },
  {
   "cell_type": "code",
   "execution_count": null,
   "metadata": {},
   "outputs": [],
   "source": []
  }
 ],
 "metadata": {
  "kernelspec": {
   "display_name": "Python 3 (ipykernel)",
   "language": "python",
   "name": "python3"
  },
  "language_info": {
   "codemirror_mode": {
    "name": "ipython",
    "version": 3
   },
   "file_extension": ".py",
   "mimetype": "text/x-python",
   "name": "python",
   "nbconvert_exporter": "python",
   "pygments_lexer": "ipython3",
   "version": "3.7.13"
  },
  "nteract": {
   "version": "0.28.0"
  },
  "toc-showcode": false
 },
 "nbformat": 4,
 "nbformat_minor": 4
}
