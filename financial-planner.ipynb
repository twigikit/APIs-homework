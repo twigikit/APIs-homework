{
 "cells": [
  {
   "cell_type": "markdown",
   "metadata": {},
   "source": [
    "# Unit 5 - Financial Planning"
   ]
  },
  {
   "cell_type": "code",
   "execution_count": 1,
   "metadata": {},
   "outputs": [],
   "source": [
    "# Initial imports\n",
    "import os\n",
    "import requests\n",
    "import json\n",
    "import pandas as pd\n",
    "from dotenv import load_dotenv\n",
    "import alpaca_trade_api as tradeapi\n",
    "from MCForecastTools import MCSimulation\n",
    "\n",
    "%matplotlib inline"
   ]
  },
  {
   "cell_type": "code",
   "execution_count": 2,
   "metadata": {},
   "outputs": [
    {
     "data": {
      "text/plain": [
       "True"
      ]
     },
     "execution_count": 2,
     "metadata": {},
     "output_type": "execute_result"
    }
   ],
   "source": [
    "# Load .env enviroment variables\n",
    "load_dotenv()"
   ]
  },
  {
   "cell_type": "markdown",
   "metadata": {
    "tags": []
   },
   "source": [
    "## Part 1 - Personal Finance Planner"
   ]
  },
  {
   "cell_type": "markdown",
   "metadata": {},
   "source": [
    "### Collect Crypto Prices Using the `requests` Library"
   ]
  },
  {
   "cell_type": "code",
   "execution_count": 3,
   "metadata": {},
   "outputs": [],
   "source": [
    "# Set current amount of crypto assets\n",
    "my_btc = 1.2\n",
    "my_eth = 5.3"
   ]
  },
  {
   "cell_type": "code",
   "execution_count": 4,
   "metadata": {},
   "outputs": [],
   "source": [
    "# Crypto API URLs\n",
    "btc_url = \"https://api.alternative.me/v2/ticker/Bitcoin/?convert=USD\"\n",
    "eth_url = \"https://api.alternative.me/v2/ticker/Ethereum/?convert=USD\""
   ]
  },
  {
   "cell_type": "code",
   "execution_count": 5,
   "metadata": {},
   "outputs": [
    {
     "data": {
      "text/plain": [
       "<Response [200]>"
      ]
     },
     "execution_count": 5,
     "metadata": {},
     "output_type": "execute_result"
    }
   ],
   "source": [
    "# Fetch current BTC price\n",
    "btc_price_fetch = requests.get(btc_url)\n",
    "btc_price_fetch"
   ]
  },
  {
   "cell_type": "code",
   "execution_count": 6,
   "metadata": {},
   "outputs": [
    {
     "data": {
      "text/plain": [
       "{'data': {'1': {'id': 1,\n",
       "   'name': 'Bitcoin',\n",
       "   'symbol': 'BTC',\n",
       "   'website_slug': 'bitcoin',\n",
       "   'rank': 1,\n",
       "   'circulating_supply': 19173856,\n",
       "   'total_supply': 19173856,\n",
       "   'max_supply': 21000000,\n",
       "   'quotes': {'USD': {'price': 19367.37,\n",
       "     'volume_24h': 13089465663,\n",
       "     'market_cap': 371917292286,\n",
       "     'percentage_change_1h': -0.0815407793767357,\n",
       "     'percentage_change_24h': -0.652198855989685,\n",
       "     'percentage_change_7d': 0.273912456156975,\n",
       "     'percent_change_1h': -0.0815407793767357,\n",
       "     'percent_change_24h': -0.652198855989685,\n",
       "     'percent_change_7d': 0.273912456156975}},\n",
       "   'last_updated': 1665288839}},\n",
       " 'metadata': {'timestamp': 1665288839,\n",
       "  'num_cryptocurrencies': 3116,\n",
       "  'error': None}}"
      ]
     },
     "execution_count": 6,
     "metadata": {},
     "output_type": "execute_result"
    }
   ],
   "source": [
    "#Load BTC price data into python dictionary using json.loads\n",
    "btc_price_data = json.loads(btc_price_fetch.content.decode('utf-8'))\n",
    "btc_price_data"
   ]
  },
  {
   "cell_type": "code",
   "execution_count": 7,
   "metadata": {},
   "outputs": [
    {
     "data": {
      "text/plain": [
       "19367.37"
      ]
     },
     "execution_count": 7,
     "metadata": {},
     "output_type": "execute_result"
    }
   ],
   "source": [
    "btc_current_price = btc_price_data['data']['1']['quotes']['USD']['price']\n",
    "btc_current_price"
   ]
  },
  {
   "cell_type": "code",
   "execution_count": 8,
   "metadata": {},
   "outputs": [
    {
     "data": {
      "text/plain": [
       "<Response [200]>"
      ]
     },
     "execution_count": 8,
     "metadata": {},
     "output_type": "execute_result"
    }
   ],
   "source": [
    "# Fetch current ETH price\n",
    "eth_price_fetch = requests.get(eth_url)\n",
    "eth_price_fetch"
   ]
  },
  {
   "cell_type": "code",
   "execution_count": 9,
   "metadata": {},
   "outputs": [
    {
     "data": {
      "text/plain": [
       "{'data': {'1027': {'id': 1027,\n",
       "   'name': 'Ethereum',\n",
       "   'symbol': 'ETH',\n",
       "   'website_slug': 'ethereum',\n",
       "   'rank': 2,\n",
       "   'circulating_supply': 120873089,\n",
       "   'total_supply': 120873089,\n",
       "   'max_supply': 120873089,\n",
       "   'quotes': {'USD': {'price': 1311.22,\n",
       "     'volume_24h': 4922924289,\n",
       "     'market_cap': 158667074566,\n",
       "     'percentage_change_1h': 0.0697605402429446,\n",
       "     'percentage_change_24h': -1.34229389340427,\n",
       "     'percentage_change_7d': -0.0036523121931092,\n",
       "     'percent_change_1h': 0.0697605402429446,\n",
       "     'percent_change_24h': -1.34229389340427,\n",
       "     'percent_change_7d': -0.0036523121931092}},\n",
       "   'last_updated': 1665288856}},\n",
       " 'metadata': {'timestamp': 1665288856,\n",
       "  'num_cryptocurrencies': 3116,\n",
       "  'error': None}}"
      ]
     },
     "execution_count": 9,
     "metadata": {},
     "output_type": "execute_result"
    }
   ],
   "source": [
    "#Load ETH price data into python dictionary using json.loads\n",
    "eth_price_data = json.loads(eth_price_fetch.content.decode('utf-8'))\n",
    "eth_price_data"
   ]
  },
  {
   "cell_type": "code",
   "execution_count": 10,
   "metadata": {},
   "outputs": [
    {
     "data": {
      "text/plain": [
       "1311.22"
      ]
     },
     "execution_count": 10,
     "metadata": {},
     "output_type": "execute_result"
    }
   ],
   "source": [
    "eth_current_price = eth_price_data['data']['1027']['quotes']['USD']['price']\n",
    "eth_current_price"
   ]
  },
  {
   "cell_type": "code",
   "execution_count": 11,
   "metadata": {},
   "outputs": [
    {
     "data": {
      "text/plain": [
       "(23240.843999999997, 6949.466)"
      ]
     },
     "execution_count": 11,
     "metadata": {},
     "output_type": "execute_result"
    }
   ],
   "source": [
    "# Compute current value of my crpto\n",
    "my_btc_value = my_btc * btc_current_price\n",
    "my_eth_value = my_eth * eth_current_price\n",
    "my_btc_value, my_eth_value"
   ]
  },
  {
   "cell_type": "code",
   "execution_count": 12,
   "metadata": {},
   "outputs": [
    {
     "name": "stdout",
     "output_type": "stream",
     "text": [
      "The current value of your 1.2 BTC is $23,240.84\n",
      "The current value of your 5.3 ETH is $6,949.47\n"
     ]
    }
   ],
   "source": [
    "# Print current crypto wallet balance\n",
    "print(f\"The current value of your {my_btc} BTC is ${my_btc_value:,.2f}\")\n",
    "print(f\"The current value of your {my_eth} ETH is ${my_eth_value:,.2f}\")"
   ]
  },
  {
   "cell_type": "markdown",
   "metadata": {},
   "source": [
    "### Collect Investments Data Using Alpaca: `SPY` (stocks) and `AGG` (bonds)"
   ]
  },
  {
   "cell_type": "code",
   "execution_count": 13,
   "metadata": {},
   "outputs": [],
   "source": [
    "# Set current amount of shares\n",
    "my_agg = 200\n",
    "my_spy = 50"
   ]
  },
  {
   "cell_type": "code",
   "execution_count": 14,
   "metadata": {},
   "outputs": [],
   "source": [
    "# Set Alpaca API key and secret\n",
    "alpaca_api_key = os.getenv(\"ALPACA_API_KEY\")\n",
    "alpaca_secret_key = os.getenv(\"ALPACA_SECRET_KEY\")"
   ]
  },
  {
   "cell_type": "code",
   "execution_count": 15,
   "metadata": {},
   "outputs": [],
   "source": [
    "# Create the Alpaca API object\n",
    "alpaca_api = tradeapi.REST( alpaca_api_key,\n",
    "                            alpaca_secret_key,\n",
    "                            api_version = 'v2')"
   ]
  },
  {
   "cell_type": "code",
   "execution_count": 16,
   "metadata": {},
   "outputs": [
    {
     "data": {
      "text/plain": [
       "'2022-10-07T00:00:00-04:00'"
      ]
     },
     "execution_count": 16,
     "metadata": {},
     "output_type": "execute_result"
    }
   ],
   "source": [
    "# Format current date as ISO format\n",
    "current_date = pd.Timestamp('2022-10-07', tz = \"America/New_York\").isoformat()\n",
    "current_date"
   ]
  },
  {
   "cell_type": "code",
   "execution_count": 17,
   "metadata": {},
   "outputs": [],
   "source": [
    "# Set the tickers\n",
    "tickers = [\"AGG\", \"SPY\"]\n",
    "\n",
    "# Set timeframe to \"1Day\" for Alpaca API\n",
    "timeframe = \"1Day\""
   ]
  },
  {
   "cell_type": "code",
   "execution_count": 18,
   "metadata": {},
   "outputs": [
    {
     "data": {
      "text/html": [
       "<div>\n",
       "<style scoped>\n",
       "    .dataframe tbody tr th:only-of-type {\n",
       "        vertical-align: middle;\n",
       "    }\n",
       "\n",
       "    .dataframe tbody tr th {\n",
       "        vertical-align: top;\n",
       "    }\n",
       "\n",
       "    .dataframe thead th {\n",
       "        text-align: right;\n",
       "    }\n",
       "</style>\n",
       "<table border=\"1\" class=\"dataframe\">\n",
       "  <thead>\n",
       "    <tr style=\"text-align: right;\">\n",
       "      <th></th>\n",
       "      <th>open</th>\n",
       "      <th>high</th>\n",
       "      <th>low</th>\n",
       "      <th>close</th>\n",
       "      <th>volume</th>\n",
       "      <th>trade_count</th>\n",
       "      <th>vwap</th>\n",
       "      <th>symbol</th>\n",
       "    </tr>\n",
       "    <tr>\n",
       "      <th>timestamp</th>\n",
       "      <th></th>\n",
       "      <th></th>\n",
       "      <th></th>\n",
       "      <th></th>\n",
       "      <th></th>\n",
       "      <th></th>\n",
       "      <th></th>\n",
       "      <th></th>\n",
       "    </tr>\n",
       "  </thead>\n",
       "  <tbody>\n",
       "    <tr>\n",
       "      <th>2022-10-07 04:00:00+00:00</th>\n",
       "      <td>95.81</td>\n",
       "      <td>96.0100</td>\n",
       "      <td>95.68</td>\n",
       "      <td>95.77</td>\n",
       "      <td>6149309</td>\n",
       "      <td>18717</td>\n",
       "      <td>95.836813</td>\n",
       "      <td>AGG</td>\n",
       "    </tr>\n",
       "    <tr>\n",
       "      <th>2022-10-07 04:00:00+00:00</th>\n",
       "      <td>369.06</td>\n",
       "      <td>373.2933</td>\n",
       "      <td>360.94</td>\n",
       "      <td>362.79</td>\n",
       "      <td>107239188</td>\n",
       "      <td>665841</td>\n",
       "      <td>365.065822</td>\n",
       "      <td>SPY</td>\n",
       "    </tr>\n",
       "  </tbody>\n",
       "</table>\n",
       "</div>"
      ],
      "text/plain": [
       "                             open      high     low   close     volume  \\\n",
       "timestamp                                                                \n",
       "2022-10-07 04:00:00+00:00   95.81   96.0100   95.68   95.77    6149309   \n",
       "2022-10-07 04:00:00+00:00  369.06  373.2933  360.94  362.79  107239188   \n",
       "\n",
       "                           trade_count        vwap symbol  \n",
       "timestamp                                                  \n",
       "2022-10-07 04:00:00+00:00        18717   95.836813    AGG  \n",
       "2022-10-07 04:00:00+00:00       665841  365.065822    SPY  "
      ]
     },
     "execution_count": 18,
     "metadata": {},
     "output_type": "execute_result"
    }
   ],
   "source": [
    "# Get current closing prices for SPY and AGG\n",
    "df_stock_current = alpaca_api.get_bars(  tickers,\n",
    "                                         timeframe,\n",
    "                                         start = current_date,\n",
    "                                         end = current_date).df\n",
    "df_stock_current"
   ]
  },
  {
   "cell_type": "code",
   "execution_count": 19,
   "metadata": {},
   "outputs": [],
   "source": [
    "# Reorganize the DataFrame\n",
    "# Separate ticker data\n",
    "df_agg_current = df_stock_current[df_stock_current[\"symbol\"] == \"AGG\"].drop(\"symbol\", axis = 1)\n",
    "df_spy_current = df_stock_current[df_stock_current[\"symbol\"] == \"SPY\"].drop(\"symbol\", axis = 1)"
   ]
  },
  {
   "cell_type": "code",
   "execution_count": 20,
   "metadata": {},
   "outputs": [],
   "source": [
    "# Concatenate the ticker DataFrames\n",
    "df_stock_current = pd.concat([df_agg_current, df_spy_current], axis = 1, keys=[\"AGG\",\"SPY\"])"
   ]
  },
  {
   "cell_type": "code",
   "execution_count": 21,
   "metadata": {},
   "outputs": [
    {
     "data": {
      "text/html": [
       "<div>\n",
       "<style scoped>\n",
       "    .dataframe tbody tr th:only-of-type {\n",
       "        vertical-align: middle;\n",
       "    }\n",
       "\n",
       "    .dataframe tbody tr th {\n",
       "        vertical-align: top;\n",
       "    }\n",
       "\n",
       "    .dataframe thead tr th {\n",
       "        text-align: left;\n",
       "    }\n",
       "\n",
       "    .dataframe thead tr:last-of-type th {\n",
       "        text-align: right;\n",
       "    }\n",
       "</style>\n",
       "<table border=\"1\" class=\"dataframe\">\n",
       "  <thead>\n",
       "    <tr>\n",
       "      <th></th>\n",
       "      <th colspan=\"7\" halign=\"left\">AGG</th>\n",
       "      <th colspan=\"7\" halign=\"left\">SPY</th>\n",
       "    </tr>\n",
       "    <tr>\n",
       "      <th></th>\n",
       "      <th>open</th>\n",
       "      <th>high</th>\n",
       "      <th>low</th>\n",
       "      <th>close</th>\n",
       "      <th>volume</th>\n",
       "      <th>trade_count</th>\n",
       "      <th>vwap</th>\n",
       "      <th>open</th>\n",
       "      <th>high</th>\n",
       "      <th>low</th>\n",
       "      <th>close</th>\n",
       "      <th>volume</th>\n",
       "      <th>trade_count</th>\n",
       "      <th>vwap</th>\n",
       "    </tr>\n",
       "    <tr>\n",
       "      <th>timestamp</th>\n",
       "      <th></th>\n",
       "      <th></th>\n",
       "      <th></th>\n",
       "      <th></th>\n",
       "      <th></th>\n",
       "      <th></th>\n",
       "      <th></th>\n",
       "      <th></th>\n",
       "      <th></th>\n",
       "      <th></th>\n",
       "      <th></th>\n",
       "      <th></th>\n",
       "      <th></th>\n",
       "      <th></th>\n",
       "    </tr>\n",
       "  </thead>\n",
       "  <tbody>\n",
       "    <tr>\n",
       "      <th>2022-10-07 04:00:00+00:00</th>\n",
       "      <td>95.81</td>\n",
       "      <td>96.01</td>\n",
       "      <td>95.68</td>\n",
       "      <td>95.77</td>\n",
       "      <td>6149309</td>\n",
       "      <td>18717</td>\n",
       "      <td>95.836813</td>\n",
       "      <td>369.06</td>\n",
       "      <td>373.2933</td>\n",
       "      <td>360.94</td>\n",
       "      <td>362.79</td>\n",
       "      <td>107239188</td>\n",
       "      <td>665841</td>\n",
       "      <td>365.065822</td>\n",
       "    </tr>\n",
       "  </tbody>\n",
       "</table>\n",
       "</div>"
      ],
      "text/plain": [
       "                             AGG                                            \\\n",
       "                            open   high    low  close   volume trade_count   \n",
       "timestamp                                                                    \n",
       "2022-10-07 04:00:00+00:00  95.81  96.01  95.68  95.77  6149309       18717   \n",
       "\n",
       "                                         SPY                            \\\n",
       "                                vwap    open      high     low   close   \n",
       "timestamp                                                                \n",
       "2022-10-07 04:00:00+00:00  95.836813  369.06  373.2933  360.94  362.79   \n",
       "\n",
       "                                                              \n",
       "                              volume trade_count        vwap  \n",
       "timestamp                                                     \n",
       "2022-10-07 04:00:00+00:00  107239188      665841  365.065822  "
      ]
     },
     "execution_count": 21,
     "metadata": {},
     "output_type": "execute_result"
    }
   ],
   "source": [
    "# Preview DataFrame\n",
    "df_stock_current"
   ]
  },
  {
   "cell_type": "code",
   "execution_count": 22,
   "metadata": {},
   "outputs": [],
   "source": [
    "# Pick AGG and SPY close prices\n",
    "agg_close_price = df_stock_current[\"AGG\"][\"close\"].iloc[0]\n",
    "spy_close_price = df_stock_current[\"SPY\"][\"close\"].iloc[0]"
   ]
  },
  {
   "cell_type": "code",
   "execution_count": 23,
   "metadata": {},
   "outputs": [
    {
     "name": "stdout",
     "output_type": "stream",
     "text": [
      "Current AGG closing price: $95.77\n",
      "Current SPY closing price: $362.79\n"
     ]
    }
   ],
   "source": [
    "# Print AGG and SPY close prices\n",
    "print(f\"Current AGG closing price: ${agg_close_price}\")\n",
    "print(f\"Current SPY closing price: ${spy_close_price}\")"
   ]
  },
  {
   "cell_type": "code",
   "execution_count": 24,
   "metadata": {},
   "outputs": [],
   "source": [
    "# Compute the current value of shares\n",
    "my_agg_value = my_agg * agg_close_price\n",
    "my_spy_value = my_spy * spy_close_price"
   ]
  },
  {
   "cell_type": "code",
   "execution_count": 25,
   "metadata": {},
   "outputs": [
    {
     "name": "stdout",
     "output_type": "stream",
     "text": [
      "The current value of your 50 SPY shares is $18,139.50\n",
      "The current value of your 200 AGG shares is $19,154.00\n"
     ]
    }
   ],
   "source": [
    "# Print current value of shares\n",
    "print(f\"The current value of your {my_spy} SPY shares is ${my_spy_value:,.2f}\")\n",
    "print(f\"The current value of your {my_agg} AGG shares is ${my_agg_value:,.2f}\")"
   ]
  },
  {
   "cell_type": "markdown",
   "metadata": {},
   "source": [
    "### Savings Health Analysis"
   ]
  },
  {
   "cell_type": "code",
   "execution_count": 26,
   "metadata": {},
   "outputs": [],
   "source": [
    "# Set monthly household income\n",
    "monthly_income = 12000"
   ]
  },
  {
   "cell_type": "code",
   "execution_count": 27,
   "metadata": {},
   "outputs": [
    {
     "data": {
      "text/plain": [
       "(30190.309999999998, 37293.5)"
      ]
     },
     "execution_count": 27,
     "metadata": {},
     "output_type": "execute_result"
    }
   ],
   "source": [
    "# Consolidate financial assets data\n",
    "total_crypto_value = my_btc_value + my_eth_value\n",
    "total_share_value = my_agg_value + my_spy_value\n",
    "total_crypto_value , total_share_value"
   ]
  },
  {
   "cell_type": "code",
   "execution_count": 28,
   "metadata": {},
   "outputs": [],
   "source": [
    "# Create savings DataFrame\n",
    "df_savings = pd.DataFrame([total_crypto_value, total_share_value], index=[\"crypto\", \"shares\"], columns = [\"amount\"])"
   ]
  },
  {
   "cell_type": "code",
   "execution_count": 29,
   "metadata": {},
   "outputs": [
    {
     "data": {
      "text/html": [
       "<div>\n",
       "<style scoped>\n",
       "    .dataframe tbody tr th:only-of-type {\n",
       "        vertical-align: middle;\n",
       "    }\n",
       "\n",
       "    .dataframe tbody tr th {\n",
       "        vertical-align: top;\n",
       "    }\n",
       "\n",
       "    .dataframe thead th {\n",
       "        text-align: right;\n",
       "    }\n",
       "</style>\n",
       "<table border=\"1\" class=\"dataframe\">\n",
       "  <thead>\n",
       "    <tr style=\"text-align: right;\">\n",
       "      <th></th>\n",
       "      <th>amount</th>\n",
       "    </tr>\n",
       "  </thead>\n",
       "  <tbody>\n",
       "    <tr>\n",
       "      <th>crypto</th>\n",
       "      <td>30190.31</td>\n",
       "    </tr>\n",
       "    <tr>\n",
       "      <th>shares</th>\n",
       "      <td>37293.50</td>\n",
       "    </tr>\n",
       "  </tbody>\n",
       "</table>\n",
       "</div>"
      ],
      "text/plain": [
       "          amount\n",
       "crypto  30190.31\n",
       "shares  37293.50"
      ]
     },
     "metadata": {},
     "output_type": "display_data"
    }
   ],
   "source": [
    "# Display savings DataFrame\n",
    "display(df_savings)"
   ]
  },
  {
   "cell_type": "code",
   "execution_count": 30,
   "metadata": {},
   "outputs": [
    {
     "data": {
      "text/plain": [
       "<AxesSubplot:title={'center':'Composition of personal savings'}, ylabel='amount'>"
      ]
     },
     "execution_count": 30,
     "metadata": {},
     "output_type": "execute_result"
    },
    {
     "data": {
      "image/png": "[encoded data removed]",
      "text/plain": [
       "<Figure size 432x432 with 1 Axes>"
      ]
     },
     "metadata": {},
     "output_type": "display_data"
    }
   ],
   "source": [
    "# Plot savings pie chart\n",
    "df_savings.plot.pie( y=\"amount\", autopct = '%1.2f%%', figsize = (6,6), title = \"Composition of personal savings\")"
   ]
  },
  {
   "cell_type": "code",
   "execution_count": 31,
   "metadata": {},
   "outputs": [
    {
     "data": {
      "text/plain": [
       "36000"
      ]
     },
     "execution_count": 31,
     "metadata": {},
     "output_type": "execute_result"
    }
   ],
   "source": [
    "# Set ideal emergency fund\n",
    "emergency_fund = monthly_income * 3\n",
    "emergency_fund"
   ]
  },
  {
   "cell_type": "code",
   "execution_count": 32,
   "metadata": {},
   "outputs": [
    {
     "data": {
      "text/plain": [
       "67483.81"
      ]
     },
     "execution_count": 32,
     "metadata": {},
     "output_type": "execute_result"
    }
   ],
   "source": [
    "# Calculate total amount of savings\n",
    "total_savings = round(df_savings[\"amount\"].sum(),2)\n",
    "total_savings"
   ]
  },
  {
   "cell_type": "code",
   "execution_count": 33,
   "metadata": {},
   "outputs": [
    {
     "name": "stdout",
     "output_type": "stream",
     "text": [
      "Congratulation! Total savings are greater than the emergency fund. \n",
      "You have enough money in your fund.\n"
     ]
    }
   ],
   "source": [
    "# Validate saving health\n",
    "if total_savings == emergency_fund:\n",
    "    print (f\"Congratulation! Total savings are equal to emergency fund.\\n\" \n",
    "           f\"You have reached your financial goal having the ideal emergency fund.\")\n",
    "elif total_savings > emergency_fund:\n",
    "    print (f\"Congratulation! Total savings are greater than the emergency fund. \\n\"\n",
    "           f\"You have enough money in your fund.\")\n",
    "else:\n",
    "    gap =  emergency_fund - total_savings\n",
    "    print (f\"You are ${gap:,.2f} away from reaching your financial goal.\")"
   ]
  },
  {
   "cell_type": "markdown",
   "metadata": {},
   "source": [
    "## Part 2 - Retirement Planning\n",
    "\n",
    "### Monte Carlo Simulation"
   ]
  },
  {
   "cell_type": "code",
   "execution_count": 34,
   "metadata": {},
   "outputs": [],
   "source": [
    "# Set start and end dates of five years back from today.\n",
    "# Sample results may vary from the solution based on the time frame chosen\n",
    "start_date = pd.Timestamp('2017-10-07', tz='America/New_York').isoformat()\n",
    "end_date = pd.Timestamp('2022-10-07', tz='America/New_York').isoformat()"
   ]
  },
  {
   "cell_type": "code",
   "execution_count": 35,
   "metadata": {},
   "outputs": [],
   "source": [
    "# Get 5 years' worth of historical data for SPY and AGG\n",
    "df_stock_historical = alpaca_api.get_bars( tickers,\n",
    "                                           timeframe,\n",
    "                                           start = start_date,\n",
    "                                           end = end_date).df"
   ]
  },
  {
   "cell_type": "code",
   "execution_count": 36,
   "metadata": {},
   "outputs": [
    {
     "data": {
      "text/html": [
       "<div>\n",
       "<style scoped>\n",
       "    .dataframe tbody tr th:only-of-type {\n",
       "        vertical-align: middle;\n",
       "    }\n",
       "\n",
       "    .dataframe tbody tr th {\n",
       "        vertical-align: top;\n",
       "    }\n",
       "\n",
       "    .dataframe thead th {\n",
       "        text-align: right;\n",
       "    }\n",
       "</style>\n",
       "<table border=\"1\" class=\"dataframe\">\n",
       "  <thead>\n",
       "    <tr style=\"text-align: right;\">\n",
       "      <th></th>\n",
       "      <th>open</th>\n",
       "      <th>high</th>\n",
       "      <th>low</th>\n",
       "      <th>close</th>\n",
       "      <th>volume</th>\n",
       "      <th>trade_count</th>\n",
       "      <th>vwap</th>\n",
       "      <th>symbol</th>\n",
       "    </tr>\n",
       "    <tr>\n",
       "      <th>timestamp</th>\n",
       "      <th></th>\n",
       "      <th></th>\n",
       "      <th></th>\n",
       "      <th></th>\n",
       "      <th></th>\n",
       "      <th></th>\n",
       "      <th></th>\n",
       "      <th></th>\n",
       "    </tr>\n",
       "  </thead>\n",
       "  <tbody>\n",
       "    <tr>\n",
       "      <th>2017-10-09 04:00:00+00:00</th>\n",
       "      <td>109.35</td>\n",
       "      <td>109.43</td>\n",
       "      <td>109.3000</td>\n",
       "      <td>109.43</td>\n",
       "      <td>1131600</td>\n",
       "      <td>6721</td>\n",
       "      <td>109.380496</td>\n",
       "      <td>AGG</td>\n",
       "    </tr>\n",
       "    <tr>\n",
       "      <th>2017-10-10 04:00:00+00:00</th>\n",
       "      <td>109.47</td>\n",
       "      <td>109.61</td>\n",
       "      <td>109.3999</td>\n",
       "      <td>109.44</td>\n",
       "      <td>1635802</td>\n",
       "      <td>8934</td>\n",
       "      <td>109.488101</td>\n",
       "      <td>AGG</td>\n",
       "    </tr>\n",
       "    <tr>\n",
       "      <th>2017-10-11 04:00:00+00:00</th>\n",
       "      <td>109.47</td>\n",
       "      <td>109.53</td>\n",
       "      <td>109.4200</td>\n",
       "      <td>109.46</td>\n",
       "      <td>2048774</td>\n",
       "      <td>9184</td>\n",
       "      <td>109.479870</td>\n",
       "      <td>AGG</td>\n",
       "    </tr>\n",
       "    <tr>\n",
       "      <th>2017-10-12 04:00:00+00:00</th>\n",
       "      <td>109.56</td>\n",
       "      <td>109.61</td>\n",
       "      <td>109.4800</td>\n",
       "      <td>109.59</td>\n",
       "      <td>1933369</td>\n",
       "      <td>9814</td>\n",
       "      <td>109.543912</td>\n",
       "      <td>AGG</td>\n",
       "    </tr>\n",
       "    <tr>\n",
       "      <th>2017-10-13 04:00:00+00:00</th>\n",
       "      <td>109.82</td>\n",
       "      <td>109.87</td>\n",
       "      <td>109.6900</td>\n",
       "      <td>109.86</td>\n",
       "      <td>1743840</td>\n",
       "      <td>9223</td>\n",
       "      <td>109.799780</td>\n",
       "      <td>AGG</td>\n",
       "    </tr>\n",
       "  </tbody>\n",
       "</table>\n",
       "</div>"
      ],
      "text/plain": [
       "                             open    high       low   close   volume  \\\n",
       "timestamp                                                              \n",
       "2017-10-09 04:00:00+00:00  109.35  109.43  109.3000  109.43  1131600   \n",
       "2017-10-10 04:00:00+00:00  109.47  109.61  109.3999  109.44  1635802   \n",
       "2017-10-11 04:00:00+00:00  109.47  109.53  109.4200  109.46  2048774   \n",
       "2017-10-12 04:00:00+00:00  109.56  109.61  109.4800  109.59  1933369   \n",
       "2017-10-13 04:00:00+00:00  109.82  109.87  109.6900  109.86  1743840   \n",
       "\n",
       "                           trade_count        vwap symbol  \n",
       "timestamp                                                  \n",
       "2017-10-09 04:00:00+00:00         6721  109.380496    AGG  \n",
       "2017-10-10 04:00:00+00:00         8934  109.488101    AGG  \n",
       "2017-10-11 04:00:00+00:00         9184  109.479870    AGG  \n",
       "2017-10-12 04:00:00+00:00         9814  109.543912    AGG  \n",
       "2017-10-13 04:00:00+00:00         9223  109.799780    AGG  "
      ]
     },
     "execution_count": 36,
     "metadata": {},
     "output_type": "execute_result"
    }
   ],
   "source": [
    "df_stock_historical.head()"
   ]
  },
  {
   "cell_type": "code",
   "execution_count": 37,
   "metadata": {},
   "outputs": [],
   "source": [
    "# Reorganize the DataFrame\n",
    "# Separate ticker data\n",
    "df_agg_historical=  df_stock_historical[df_stock_historical[\"symbol\"] == \"AGG\"].drop(\"symbol\", axis = 1)\n",
    "df_spy_historical =  df_stock_historical[df_stock_historical[\"symbol\"] == \"SPY\"].drop(\"symbol\", axis = 1)"
   ]
  },
  {
   "cell_type": "code",
   "execution_count": 38,
   "metadata": {},
   "outputs": [],
   "source": [
    "# Concatenate the ticker DataFrames\n",
    "df_stock_data = pd.concat([df_agg_historical, df_spy_historical], axis = 1, keys=[\"AGG\",\"SPY\"])"
   ]
  },
  {
   "cell_type": "code",
   "execution_count": 39,
   "metadata": {},
   "outputs": [],
   "source": [
    "#remove timestamp from index\n",
    "df_stock_data.index = df_stock_data.index.date"
   ]
  },
  {
   "cell_type": "code",
   "execution_count": 40,
   "metadata": {},
   "outputs": [
    {
     "data": {
      "text/html": [
       "<div>\n",
       "<style scoped>\n",
       "    .dataframe tbody tr th:only-of-type {\n",
       "        vertical-align: middle;\n",
       "    }\n",
       "\n",
       "    .dataframe tbody tr th {\n",
       "        vertical-align: top;\n",
       "    }\n",
       "\n",
       "    .dataframe thead tr th {\n",
       "        text-align: left;\n",
       "    }\n",
       "</style>\n",
       "<table border=\"1\" class=\"dataframe\">\n",
       "  <thead>\n",
       "    <tr>\n",
       "      <th></th>\n",
       "      <th colspan=\"7\" halign=\"left\">AGG</th>\n",
       "      <th colspan=\"7\" halign=\"left\">SPY</th>\n",
       "    </tr>\n",
       "    <tr>\n",
       "      <th></th>\n",
       "      <th>open</th>\n",
       "      <th>high</th>\n",
       "      <th>low</th>\n",
       "      <th>close</th>\n",
       "      <th>volume</th>\n",
       "      <th>trade_count</th>\n",
       "      <th>vwap</th>\n",
       "      <th>open</th>\n",
       "      <th>high</th>\n",
       "      <th>low</th>\n",
       "      <th>close</th>\n",
       "      <th>volume</th>\n",
       "      <th>trade_count</th>\n",
       "      <th>vwap</th>\n",
       "    </tr>\n",
       "  </thead>\n",
       "  <tbody>\n",
       "    <tr>\n",
       "      <th>2017-10-09</th>\n",
       "      <td>109.35</td>\n",
       "      <td>109.43</td>\n",
       "      <td>109.3000</td>\n",
       "      <td>109.43</td>\n",
       "      <td>1131600</td>\n",
       "      <td>6721</td>\n",
       "      <td>109.380496</td>\n",
       "      <td>254.65</td>\n",
       "      <td>254.70</td>\n",
       "      <td>253.650</td>\n",
       "      <td>253.95</td>\n",
       "      <td>35803138</td>\n",
       "      <td>113893</td>\n",
       "      <td>254.099236</td>\n",
       "    </tr>\n",
       "    <tr>\n",
       "      <th>2017-10-10</th>\n",
       "      <td>109.47</td>\n",
       "      <td>109.61</td>\n",
       "      <td>109.3999</td>\n",
       "      <td>109.44</td>\n",
       "      <td>1635802</td>\n",
       "      <td>8934</td>\n",
       "      <td>109.488101</td>\n",
       "      <td>254.59</td>\n",
       "      <td>255.05</td>\n",
       "      <td>253.980</td>\n",
       "      <td>254.62</td>\n",
       "      <td>43057452</td>\n",
       "      <td>140616</td>\n",
       "      <td>254.400559</td>\n",
       "    </tr>\n",
       "    <tr>\n",
       "      <th>2017-10-11</th>\n",
       "      <td>109.47</td>\n",
       "      <td>109.53</td>\n",
       "      <td>109.4200</td>\n",
       "      <td>109.46</td>\n",
       "      <td>2048774</td>\n",
       "      <td>9184</td>\n",
       "      <td>109.479870</td>\n",
       "      <td>254.53</td>\n",
       "      <td>255.02</td>\n",
       "      <td>254.320</td>\n",
       "      <td>255.02</td>\n",
       "      <td>49118035</td>\n",
       "      <td>126972</td>\n",
       "      <td>254.772000</td>\n",
       "    </tr>\n",
       "    <tr>\n",
       "      <th>2017-10-12</th>\n",
       "      <td>109.56</td>\n",
       "      <td>109.61</td>\n",
       "      <td>109.4800</td>\n",
       "      <td>109.59</td>\n",
       "      <td>1933369</td>\n",
       "      <td>9814</td>\n",
       "      <td>109.543912</td>\n",
       "      <td>254.68</td>\n",
       "      <td>255.06</td>\n",
       "      <td>254.365</td>\n",
       "      <td>254.64</td>\n",
       "      <td>47070644</td>\n",
       "      <td>142560</td>\n",
       "      <td>254.735611</td>\n",
       "    </tr>\n",
       "    <tr>\n",
       "      <th>2017-10-13</th>\n",
       "      <td>109.82</td>\n",
       "      <td>109.87</td>\n",
       "      <td>109.6900</td>\n",
       "      <td>109.86</td>\n",
       "      <td>1743840</td>\n",
       "      <td>9223</td>\n",
       "      <td>109.799780</td>\n",
       "      <td>255.15</td>\n",
       "      <td>255.27</td>\n",
       "      <td>254.640</td>\n",
       "      <td>254.95</td>\n",
       "      <td>56197572</td>\n",
       "      <td>149417</td>\n",
       "      <td>254.982007</td>\n",
       "    </tr>\n",
       "  </tbody>\n",
       "</table>\n",
       "</div>"
      ],
      "text/plain": [
       "               AGG                                                             \\\n",
       "              open    high       low   close   volume trade_count        vwap   \n",
       "2017-10-09  109.35  109.43  109.3000  109.43  1131600        6721  109.380496   \n",
       "2017-10-10  109.47  109.61  109.3999  109.44  1635802        8934  109.488101   \n",
       "2017-10-11  109.47  109.53  109.4200  109.46  2048774        9184  109.479870   \n",
       "2017-10-12  109.56  109.61  109.4800  109.59  1933369        9814  109.543912   \n",
       "2017-10-13  109.82  109.87  109.6900  109.86  1743840        9223  109.799780   \n",
       "\n",
       "               SPY                                                             \n",
       "              open    high      low   close    volume trade_count        vwap  \n",
       "2017-10-09  254.65  254.70  253.650  253.95  35803138      113893  254.099236  \n",
       "2017-10-10  254.59  255.05  253.980  254.62  43057452      140616  254.400559  \n",
       "2017-10-11  254.53  255.02  254.320  255.02  49118035      126972  254.772000  \n",
       "2017-10-12  254.68  255.06  254.365  254.64  47070644      142560  254.735611  \n",
       "2017-10-13  255.15  255.27  254.640  254.95  56197572      149417  254.982007  "
      ]
     },
     "execution_count": 40,
     "metadata": {},
     "output_type": "execute_result"
    }
   ],
   "source": [
    "# Display sample data\n",
    "df_stock_data.head()"
   ]
  },
  {
   "cell_type": "code",
   "execution_count": 41,
   "metadata": {},
   "outputs": [],
   "source": [
    "#drop unused columns\n",
    "drop_columns = [\"open\",\"high\",\"low\",\"volume\",\"trade_count\", \"vwap\"]\n",
    "\n",
    "for x in tickers:\n",
    "    for y in drop_columns:\n",
    "        df_stock_data.drop(columns = (x,y), inplace = True)"
   ]
  },
  {
   "cell_type": "code",
   "execution_count": 42,
   "metadata": {},
   "outputs": [],
   "source": [
    "# Configuring a Monte Carlo simulation to forecast 30 years cumulative returns\n",
    "# assume 252 trading days in a year. 30 years means 7560 trading days (30 x 252)\n",
    "# set weight 40% bond AGG and 60% stock SPY\n",
    "MC_Y30 = MCSimulation(portfolio_data = df_stock_data,\n",
    "                      weights = [0.40, 0.60],\n",
    "                      num_simulation = 500 ,\n",
    "                      num_trading_days = 252*30\n",
    "                      )"
   ]
  },
  {
   "cell_type": "code",
   "execution_count": 43,
   "metadata": {},
   "outputs": [
    {
     "data": {
      "text/html": [
       "<div>\n",
       "<style scoped>\n",
       "    .dataframe tbody tr th:only-of-type {\n",
       "        vertical-align: middle;\n",
       "    }\n",
       "\n",
       "    .dataframe tbody tr th {\n",
       "        vertical-align: top;\n",
       "    }\n",
       "\n",
       "    .dataframe thead tr th {\n",
       "        text-align: left;\n",
       "    }\n",
       "</style>\n",
       "<table border=\"1\" class=\"dataframe\">\n",
       "  <thead>\n",
       "    <tr>\n",
       "      <th></th>\n",
       "      <th colspan=\"2\" halign=\"left\">AGG</th>\n",
       "      <th colspan=\"2\" halign=\"left\">SPY</th>\n",
       "    </tr>\n",
       "    <tr>\n",
       "      <th></th>\n",
       "      <th>close</th>\n",
       "      <th>daily_return</th>\n",
       "      <th>close</th>\n",
       "      <th>daily_return</th>\n",
       "    </tr>\n",
       "  </thead>\n",
       "  <tbody>\n",
       "    <tr>\n",
       "      <th>2017-10-09</th>\n",
       "      <td>109.43</td>\n",
       "      <td>NaN</td>\n",
       "      <td>253.95</td>\n",
       "      <td>NaN</td>\n",
       "    </tr>\n",
       "    <tr>\n",
       "      <th>2017-10-10</th>\n",
       "      <td>109.44</td>\n",
       "      <td>0.000091</td>\n",
       "      <td>254.62</td>\n",
       "      <td>0.002638</td>\n",
       "    </tr>\n",
       "    <tr>\n",
       "      <th>2017-10-11</th>\n",
       "      <td>109.46</td>\n",
       "      <td>0.000183</td>\n",
       "      <td>255.02</td>\n",
       "      <td>0.001571</td>\n",
       "    </tr>\n",
       "    <tr>\n",
       "      <th>2017-10-12</th>\n",
       "      <td>109.59</td>\n",
       "      <td>0.001188</td>\n",
       "      <td>254.64</td>\n",
       "      <td>-0.001490</td>\n",
       "    </tr>\n",
       "    <tr>\n",
       "      <th>2017-10-13</th>\n",
       "      <td>109.86</td>\n",
       "      <td>0.002464</td>\n",
       "      <td>254.95</td>\n",
       "      <td>0.001217</td>\n",
       "    </tr>\n",
       "  </tbody>\n",
       "</table>\n",
       "</div>"
      ],
      "text/plain": [
       "               AGG                  SPY             \n",
       "             close daily_return   close daily_return\n",
       "2017-10-09  109.43          NaN  253.95          NaN\n",
       "2017-10-10  109.44     0.000091  254.62     0.002638\n",
       "2017-10-11  109.46     0.000183  255.02     0.001571\n",
       "2017-10-12  109.59     0.001188  254.64    -0.001490\n",
       "2017-10-13  109.86     0.002464  254.95     0.001217"
      ]
     },
     "execution_count": 43,
     "metadata": {},
     "output_type": "execute_result"
    }
   ],
   "source": [
    "# Printing the simulation input data\n",
    "MC_Y30.portfolio_data.head()"
   ]
  },
  {
   "cell_type": "code",
   "execution_count": 44,
   "metadata": {},
   "outputs": [
    {
     "data": {
      "text/html": [
       "<div>\n",
       "<style scoped>\n",
       "    .dataframe tbody tr th:only-of-type {\n",
       "        vertical-align: middle;\n",
       "    }\n",
       "\n",
       "    .dataframe tbody tr th {\n",
       "        vertical-align: top;\n",
       "    }\n",
       "\n",
       "    .dataframe thead tr th {\n",
       "        text-align: left;\n",
       "    }\n",
       "</style>\n",
       "<table border=\"1\" class=\"dataframe\">\n",
       "  <thead>\n",
       "    <tr>\n",
       "      <th></th>\n",
       "      <th colspan=\"2\" halign=\"left\">AGG</th>\n",
       "      <th colspan=\"2\" halign=\"left\">SPY</th>\n",
       "    </tr>\n",
       "    <tr>\n",
       "      <th></th>\n",
       "      <th>close</th>\n",
       "      <th>daily_return</th>\n",
       "      <th>close</th>\n",
       "      <th>daily_return</th>\n",
       "    </tr>\n",
       "  </thead>\n",
       "  <tbody>\n",
       "    <tr>\n",
       "      <th>count</th>\n",
       "      <td>1259.000000</td>\n",
       "      <td>1258.000000</td>\n",
       "      <td>1259.000000</td>\n",
       "      <td>1258.000000</td>\n",
       "    </tr>\n",
       "    <tr>\n",
       "      <th>mean</th>\n",
       "      <td>110.838729</td>\n",
       "      <td>-0.000100</td>\n",
       "      <td>338.587903</td>\n",
       "      <td>0.000372</td>\n",
       "    </tr>\n",
       "    <tr>\n",
       "      <th>std</th>\n",
       "      <td>5.258128</td>\n",
       "      <td>0.003463</td>\n",
       "      <td>68.118034</td>\n",
       "      <td>0.013254</td>\n",
       "    </tr>\n",
       "    <tr>\n",
       "      <th>min</th>\n",
       "      <td>95.540000</td>\n",
       "      <td>-0.040010</td>\n",
       "      <td>222.950000</td>\n",
       "      <td>-0.109424</td>\n",
       "    </tr>\n",
       "    <tr>\n",
       "      <th>25%</th>\n",
       "      <td>106.470000</td>\n",
       "      <td>-0.001420</td>\n",
       "      <td>279.555000</td>\n",
       "      <td>-0.004465</td>\n",
       "    </tr>\n",
       "    <tr>\n",
       "      <th>50%</th>\n",
       "      <td>111.400000</td>\n",
       "      <td>0.000088</td>\n",
       "      <td>313.780000</td>\n",
       "      <td>0.000787</td>\n",
       "    </tr>\n",
       "    <tr>\n",
       "      <th>75%</th>\n",
       "      <td>115.060000</td>\n",
       "      <td>0.001416</td>\n",
       "      <td>400.825000</td>\n",
       "      <td>0.006696</td>\n",
       "    </tr>\n",
       "    <tr>\n",
       "      <th>max</th>\n",
       "      <td>119.630000</td>\n",
       "      <td>0.023721</td>\n",
       "      <td>477.710000</td>\n",
       "      <td>0.090603</td>\n",
       "    </tr>\n",
       "  </tbody>\n",
       "</table>\n",
       "</div>"
      ],
      "text/plain": [
       "               AGG                       SPY             \n",
       "             close daily_return        close daily_return\n",
       "count  1259.000000  1258.000000  1259.000000  1258.000000\n",
       "mean    110.838729    -0.000100   338.587903     0.000372\n",
       "std       5.258128     0.003463    68.118034     0.013254\n",
       "min      95.540000    -0.040010   222.950000    -0.109424\n",
       "25%     106.470000    -0.001420   279.555000    -0.004465\n",
       "50%     111.400000     0.000088   313.780000     0.000787\n",
       "75%     115.060000     0.001416   400.825000     0.006696\n",
       "max     119.630000     0.023721   477.710000     0.090603"
      ]
     },
     "execution_count": 44,
     "metadata": {},
     "output_type": "execute_result"
    }
   ],
   "source": [
    "MC_Y30.portfolio_data.describe()"
   ]
  },
  {
   "cell_type": "code",
   "execution_count": 45,
   "metadata": {},
   "outputs": [
    {
     "name": "stdout",
     "output_type": "stream",
     "text": [
      "Running Monte Carlo simulation number 0.\n",
      "Running Monte Carlo simulation number 10.\n",
      "Running Monte Carlo simulation number 20.\n",
      "Running Monte Carlo simulation number 30.\n",
      "Running Monte Carlo simulation number 40.\n",
      "Running Monte Carlo simulation number 50.\n",
      "Running Monte Carlo simulation number 60.\n",
      "Running Monte Carlo simulation number 70.\n",
      "Running Monte Carlo simulation number 80.\n",
      "Running Monte Carlo simulation number 90.\n",
      "Running Monte Carlo simulation number 100.\n"
     ]
    },
    {
     "name": "stderr",
     "output_type": "stream",
     "text": [
      "C:\\Users\\twigi\\FTBC\\W5_Assignment\\APIs-homework\\MCForecastTools.py:117: PerformanceWarning: DataFrame is highly fragmented.  This is usually the result of calling `frame.insert` many times, which has poor performance.  Consider joining all columns at once using pd.concat(axis=1) instead.  To get a de-fragmented frame, use `newframe = frame.copy()`\n",
      "  portfolio_cumulative_returns[n] = (1 + sim_df.fillna(0)).cumprod()\n"
     ]
    },
    {
     "name": "stdout",
     "output_type": "stream",
     "text": [
      "Running Monte Carlo simulation number 110.\n",
      "Running Monte Carlo simulation number 120.\n",
      "Running Monte Carlo simulation number 130.\n",
      "Running Monte Carlo simulation number 140.\n",
      "Running Monte Carlo simulation number 150.\n",
      "Running Monte Carlo simulation number 160.\n",
      "Running Monte Carlo simulation number 170.\n",
      "Running Monte Carlo simulation number 180.\n",
      "Running Monte Carlo simulation number 190.\n",
      "Running Monte Carlo simulation number 200.\n",
      "Running Monte Carlo simulation number 210.\n",
      "Running Monte Carlo simulation number 220.\n",
      "Running Monte Carlo simulation number 230.\n",
      "Running Monte Carlo simulation number 240.\n",
      "Running Monte Carlo simulation number 250.\n",
      "Running Monte Carlo simulation number 260.\n",
      "Running Monte Carlo simulation number 270.\n",
      "Running Monte Carlo simulation number 280.\n",
      "Running Monte Carlo simulation number 290.\n",
      "Running Monte Carlo simulation number 300.\n",
      "Running Monte Carlo simulation number 310.\n",
      "Running Monte Carlo simulation number 320.\n",
      "Running Monte Carlo simulation number 330.\n",
      "Running Monte Carlo simulation number 340.\n",
      "Running Monte Carlo simulation number 350.\n",
      "Running Monte Carlo simulation number 360.\n",
      "Running Monte Carlo simulation number 370.\n",
      "Running Monte Carlo simulation number 380.\n",
      "Running Monte Carlo simulation number 390.\n",
      "Running Monte Carlo simulation number 400.\n",
      "Running Monte Carlo simulation number 410.\n",
      "Running Monte Carlo simulation number 420.\n",
      "Running Monte Carlo simulation number 430.\n",
      "Running Monte Carlo simulation number 440.\n",
      "Running Monte Carlo simulation number 450.\n",
      "Running Monte Carlo simulation number 460.\n",
      "Running Monte Carlo simulation number 470.\n",
      "Running Monte Carlo simulation number 480.\n",
      "Running Monte Carlo simulation number 490.\n"
     ]
    },
    {
     "data": {
      "text/html": [
       "<div>\n",
       "<style scoped>\n",
       "    .dataframe tbody tr th:only-of-type {\n",
       "        vertical-align: middle;\n",
       "    }\n",
       "\n",
       "    .dataframe tbody tr th {\n",
       "        vertical-align: top;\n",
       "    }\n",
       "\n",
       "    .dataframe thead th {\n",
       "        text-align: right;\n",
       "    }\n",
       "</style>\n",
       "<table border=\"1\" class=\"dataframe\">\n",
       "  <thead>\n",
       "    <tr style=\"text-align: right;\">\n",
       "      <th></th>\n",
       "      <th>0</th>\n",
       "      <th>1</th>\n",
       "      <th>2</th>\n",
       "      <th>3</th>\n",
       "      <th>4</th>\n",
       "      <th>5</th>\n",
       "      <th>6</th>\n",
       "      <th>7</th>\n",
       "      <th>8</th>\n",
       "      <th>9</th>\n",
       "      <th>...</th>\n",
       "      <th>490</th>\n",
       "      <th>491</th>\n",
       "      <th>492</th>\n",
       "      <th>493</th>\n",
       "      <th>494</th>\n",
       "      <th>495</th>\n",
       "      <th>496</th>\n",
       "      <th>497</th>\n",
       "      <th>498</th>\n",
       "      <th>499</th>\n",
       "    </tr>\n",
       "  </thead>\n",
       "  <tbody>\n",
       "    <tr>\n",
       "      <th>0</th>\n",
       "      <td>1.000000</td>\n",
       "      <td>1.000000</td>\n",
       "      <td>1.000000</td>\n",
       "      <td>1.000000</td>\n",
       "      <td>1.000000</td>\n",
       "      <td>1.000000</td>\n",
       "      <td>1.000000</td>\n",
       "      <td>1.000000</td>\n",
       "      <td>1.000000</td>\n",
       "      <td>1.000000</td>\n",
       "      <td>...</td>\n",
       "      <td>1.000000</td>\n",
       "      <td>1.000000</td>\n",
       "      <td>1.000000</td>\n",
       "      <td>1.000000</td>\n",
       "      <td>1.000000</td>\n",
       "      <td>1.000000</td>\n",
       "      <td>1.000000</td>\n",
       "      <td>1.000000</td>\n",
       "      <td>1.000000</td>\n",
       "      <td>1.000000</td>\n",
       "    </tr>\n",
       "    <tr>\n",
       "      <th>1</th>\n",
       "      <td>1.004449</td>\n",
       "      <td>0.994764</td>\n",
       "      <td>0.999634</td>\n",
       "      <td>0.990582</td>\n",
       "      <td>1.004843</td>\n",
       "      <td>0.999391</td>\n",
       "      <td>1.009793</td>\n",
       "      <td>1.005132</td>\n",
       "      <td>1.003818</td>\n",
       "      <td>0.987049</td>\n",
       "      <td>...</td>\n",
       "      <td>0.998747</td>\n",
       "      <td>0.985578</td>\n",
       "      <td>0.992574</td>\n",
       "      <td>1.006420</td>\n",
       "      <td>0.998659</td>\n",
       "      <td>1.007085</td>\n",
       "      <td>0.988810</td>\n",
       "      <td>0.980036</td>\n",
       "      <td>0.984520</td>\n",
       "      <td>1.007230</td>\n",
       "    </tr>\n",
       "    <tr>\n",
       "      <th>2</th>\n",
       "      <td>1.005657</td>\n",
       "      <td>0.990282</td>\n",
       "      <td>0.996464</td>\n",
       "      <td>0.976603</td>\n",
       "      <td>1.004843</td>\n",
       "      <td>0.978522</td>\n",
       "      <td>1.007563</td>\n",
       "      <td>1.014452</td>\n",
       "      <td>1.004289</td>\n",
       "      <td>0.992903</td>\n",
       "      <td>...</td>\n",
       "      <td>0.997307</td>\n",
       "      <td>0.982649</td>\n",
       "      <td>0.992123</td>\n",
       "      <td>0.983703</td>\n",
       "      <td>0.999198</td>\n",
       "      <td>0.992248</td>\n",
       "      <td>0.992749</td>\n",
       "      <td>0.974806</td>\n",
       "      <td>0.977165</td>\n",
       "      <td>1.010996</td>\n",
       "    </tr>\n",
       "    <tr>\n",
       "      <th>3</th>\n",
       "      <td>1.012274</td>\n",
       "      <td>0.987565</td>\n",
       "      <td>0.991629</td>\n",
       "      <td>0.971023</td>\n",
       "      <td>1.000348</td>\n",
       "      <td>0.978524</td>\n",
       "      <td>1.002320</td>\n",
       "      <td>1.021230</td>\n",
       "      <td>0.999620</td>\n",
       "      <td>0.977183</td>\n",
       "      <td>...</td>\n",
       "      <td>0.997371</td>\n",
       "      <td>0.983214</td>\n",
       "      <td>0.987987</td>\n",
       "      <td>0.969407</td>\n",
       "      <td>0.998509</td>\n",
       "      <td>0.994378</td>\n",
       "      <td>0.987857</td>\n",
       "      <td>0.974409</td>\n",
       "      <td>0.978172</td>\n",
       "      <td>0.999756</td>\n",
       "    </tr>\n",
       "    <tr>\n",
       "      <th>4</th>\n",
       "      <td>1.001162</td>\n",
       "      <td>0.983380</td>\n",
       "      <td>0.989280</td>\n",
       "      <td>0.977306</td>\n",
       "      <td>0.998672</td>\n",
       "      <td>0.980476</td>\n",
       "      <td>1.006110</td>\n",
       "      <td>1.023318</td>\n",
       "      <td>1.009203</td>\n",
       "      <td>0.972262</td>\n",
       "      <td>...</td>\n",
       "      <td>1.015320</td>\n",
       "      <td>0.988623</td>\n",
       "      <td>0.983307</td>\n",
       "      <td>0.961627</td>\n",
       "      <td>1.019935</td>\n",
       "      <td>1.009321</td>\n",
       "      <td>0.982188</td>\n",
       "      <td>0.978804</td>\n",
       "      <td>0.991567</td>\n",
       "      <td>1.008998</td>\n",
       "    </tr>\n",
       "    <tr>\n",
       "      <th>...</th>\n",
       "      <td>...</td>\n",
       "      <td>...</td>\n",
       "      <td>...</td>\n",
       "      <td>...</td>\n",
       "      <td>...</td>\n",
       "      <td>...</td>\n",
       "      <td>...</td>\n",
       "      <td>...</td>\n",
       "      <td>...</td>\n",
       "      <td>...</td>\n",
       "      <td>...</td>\n",
       "      <td>...</td>\n",
       "      <td>...</td>\n",
       "      <td>...</td>\n",
       "      <td>...</td>\n",
       "      <td>...</td>\n",
       "      <td>...</td>\n",
       "      <td>...</td>\n",
       "      <td>...</td>\n",
       "      <td>...</td>\n",
       "      <td>...</td>\n",
       "    </tr>\n",
       "    <tr>\n",
       "      <th>7556</th>\n",
       "      <td>3.229431</td>\n",
       "      <td>3.995654</td>\n",
       "      <td>2.604772</td>\n",
       "      <td>13.096583</td>\n",
       "      <td>10.143091</td>\n",
       "      <td>2.986229</td>\n",
       "      <td>2.135272</td>\n",
       "      <td>1.516839</td>\n",
       "      <td>4.350711</td>\n",
       "      <td>4.525559</td>\n",
       "      <td>...</td>\n",
       "      <td>3.973443</td>\n",
       "      <td>7.690388</td>\n",
       "      <td>0.778107</td>\n",
       "      <td>4.236223</td>\n",
       "      <td>3.848493</td>\n",
       "      <td>1.304478</td>\n",
       "      <td>4.306485</td>\n",
       "      <td>2.694825</td>\n",
       "      <td>3.398208</td>\n",
       "      <td>1.710981</td>\n",
       "    </tr>\n",
       "    <tr>\n",
       "      <th>7557</th>\n",
       "      <td>3.218640</td>\n",
       "      <td>4.047596</td>\n",
       "      <td>2.633283</td>\n",
       "      <td>13.102409</td>\n",
       "      <td>10.203723</td>\n",
       "      <td>2.990979</td>\n",
       "      <td>2.121563</td>\n",
       "      <td>1.512214</td>\n",
       "      <td>4.398470</td>\n",
       "      <td>4.553720</td>\n",
       "      <td>...</td>\n",
       "      <td>3.985800</td>\n",
       "      <td>7.683328</td>\n",
       "      <td>0.784756</td>\n",
       "      <td>4.285067</td>\n",
       "      <td>3.828185</td>\n",
       "      <td>1.318445</td>\n",
       "      <td>4.299398</td>\n",
       "      <td>2.660528</td>\n",
       "      <td>3.436189</td>\n",
       "      <td>1.728445</td>\n",
       "    </tr>\n",
       "    <tr>\n",
       "      <th>7558</th>\n",
       "      <td>3.244459</td>\n",
       "      <td>4.045974</td>\n",
       "      <td>2.639230</td>\n",
       "      <td>13.128872</td>\n",
       "      <td>10.294064</td>\n",
       "      <td>2.992925</td>\n",
       "      <td>2.124564</td>\n",
       "      <td>1.492195</td>\n",
       "      <td>4.400394</td>\n",
       "      <td>4.478904</td>\n",
       "      <td>...</td>\n",
       "      <td>4.045243</td>\n",
       "      <td>7.600318</td>\n",
       "      <td>0.779226</td>\n",
       "      <td>4.267923</td>\n",
       "      <td>3.833350</td>\n",
       "      <td>1.307038</td>\n",
       "      <td>4.278809</td>\n",
       "      <td>2.652707</td>\n",
       "      <td>3.445348</td>\n",
       "      <td>1.731618</td>\n",
       "    </tr>\n",
       "    <tr>\n",
       "      <th>7559</th>\n",
       "      <td>3.215157</td>\n",
       "      <td>3.981103</td>\n",
       "      <td>2.606271</td>\n",
       "      <td>13.132953</td>\n",
       "      <td>10.356568</td>\n",
       "      <td>2.983921</td>\n",
       "      <td>2.136203</td>\n",
       "      <td>1.480921</td>\n",
       "      <td>4.387512</td>\n",
       "      <td>4.442334</td>\n",
       "      <td>...</td>\n",
       "      <td>4.078762</td>\n",
       "      <td>7.659035</td>\n",
       "      <td>0.781516</td>\n",
       "      <td>4.239985</td>\n",
       "      <td>3.822854</td>\n",
       "      <td>1.316152</td>\n",
       "      <td>4.324672</td>\n",
       "      <td>2.642479</td>\n",
       "      <td>3.453160</td>\n",
       "      <td>1.740084</td>\n",
       "    </tr>\n",
       "    <tr>\n",
       "      <th>7560</th>\n",
       "      <td>3.250958</td>\n",
       "      <td>3.929617</td>\n",
       "      <td>2.571300</td>\n",
       "      <td>13.163074</td>\n",
       "      <td>10.270202</td>\n",
       "      <td>2.999630</td>\n",
       "      <td>2.118611</td>\n",
       "      <td>1.512491</td>\n",
       "      <td>4.380062</td>\n",
       "      <td>4.396268</td>\n",
       "      <td>...</td>\n",
       "      <td>4.054358</td>\n",
       "      <td>7.711003</td>\n",
       "      <td>0.776559</td>\n",
       "      <td>4.255279</td>\n",
       "      <td>3.797757</td>\n",
       "      <td>1.314637</td>\n",
       "      <td>4.329951</td>\n",
       "      <td>2.633931</td>\n",
       "      <td>3.433784</td>\n",
       "      <td>1.716216</td>\n",
       "    </tr>\n",
       "  </tbody>\n",
       "</table>\n",
       "<p>7561 rows × 500 columns</p>\n",
       "</div>"
      ],
      "text/plain": [
       "           0         1         2          3          4         5         6    \\\n",
       "0     1.000000  1.000000  1.000000   1.000000   1.000000  1.000000  1.000000   \n",
       "1     1.004449  0.994764  0.999634   0.990582   1.004843  0.999391  1.009793   \n",
       "2     1.005657  0.990282  0.996464   0.976603   1.004843  0.978522  1.007563   \n",
       "3     1.012274  0.987565  0.991629   0.971023   1.000348  0.978524  1.002320   \n",
       "4     1.001162  0.983380  0.989280   0.977306   0.998672  0.980476  1.006110   \n",
       "...        ...       ...       ...        ...        ...       ...       ...   \n",
       "7556  3.229431  3.995654  2.604772  13.096583  10.143091  2.986229  2.135272   \n",
       "7557  3.218640  4.047596  2.633283  13.102409  10.203723  2.990979  2.121563   \n",
       "7558  3.244459  4.045974  2.639230  13.128872  10.294064  2.992925  2.124564   \n",
       "7559  3.215157  3.981103  2.606271  13.132953  10.356568  2.983921  2.136203   \n",
       "7560  3.250958  3.929617  2.571300  13.163074  10.270202  2.999630  2.118611   \n",
       "\n",
       "           7         8         9    ...       490       491       492  \\\n",
       "0     1.000000  1.000000  1.000000  ...  1.000000  1.000000  1.000000   \n",
       "1     1.005132  1.003818  0.987049  ...  0.998747  0.985578  0.992574   \n",
       "2     1.014452  1.004289  0.992903  ...  0.997307  0.982649  0.992123   \n",
       "3     1.021230  0.999620  0.977183  ...  0.997371  0.983214  0.987987   \n",
       "4     1.023318  1.009203  0.972262  ...  1.015320  0.988623  0.983307   \n",
       "...        ...       ...       ...  ...       ...       ...       ...   \n",
       "7556  1.516839  4.350711  4.525559  ...  3.973443  7.690388  0.778107   \n",
       "7557  1.512214  4.398470  4.553720  ...  3.985800  7.683328  0.784756   \n",
       "7558  1.492195  4.400394  4.478904  ...  4.045243  7.600318  0.779226   \n",
       "7559  1.480921  4.387512  4.442334  ...  4.078762  7.659035  0.781516   \n",
       "7560  1.512491  4.380062  4.396268  ...  4.054358  7.711003  0.776559   \n",
       "\n",
       "           493       494       495       496       497       498       499  \n",
       "0     1.000000  1.000000  1.000000  1.000000  1.000000  1.000000  1.000000  \n",
       "1     1.006420  0.998659  1.007085  0.988810  0.980036  0.984520  1.007230  \n",
       "2     0.983703  0.999198  0.992248  0.992749  0.974806  0.977165  1.010996  \n",
       "3     0.969407  0.998509  0.994378  0.987857  0.974409  0.978172  0.999756  \n",
       "4     0.961627  1.019935  1.009321  0.982188  0.978804  0.991567  1.008998  \n",
       "...        ...       ...       ...       ...       ...       ...       ...  \n",
       "7556  4.236223  3.848493  1.304478  4.306485  2.694825  3.398208  1.710981  \n",
       "7557  4.285067  3.828185  1.318445  4.299398  2.660528  3.436189  1.728445  \n",
       "7558  4.267923  3.833350  1.307038  4.278809  2.652707  3.445348  1.731618  \n",
       "7559  4.239985  3.822854  1.316152  4.324672  2.642479  3.453160  1.740084  \n",
       "7560  4.255279  3.797757  1.314637  4.329951  2.633931  3.433784  1.716216  \n",
       "\n",
       "[7561 rows x 500 columns]"
      ]
     },
     "execution_count": 45,
     "metadata": {},
     "output_type": "execute_result"
    }
   ],
   "source": [
    "# Running a Monte Carlo simulation to forecast 30 years cumulative returns\n",
    "MC_Y30.calc_cumulative_return()"
   ]
  },
  {
   "cell_type": "code",
   "execution_count": 46,
   "metadata": {},
   "outputs": [
    {
     "data": {
      "text/plain": [
       "<AxesSubplot:title={'center':'500 Simulations of Cumulative Portfolio Return Trajectories Over the Next 7560 Trading Days.'}>"
      ]
     },
     "execution_count": 46,
     "metadata": {},
     "output_type": "execute_result"
    },
    {
     "data": {
      "image/png": "[encoded data removed]",
      "text/plain": [
       "<Figure size 432x288 with 1 Axes>"
      ]
     },
     "metadata": {
      "needs_background": "light"
     },
     "output_type": "display_data"
    }
   ],
   "source": [
    "# Plot simulation outcomes\n",
    "MC_Y30.plot_simulation()"
   ]
  },
  {
   "cell_type": "code",
   "execution_count": 47,
   "metadata": {},
   "outputs": [
    {
     "data": {
      "text/plain": [
       "<AxesSubplot:title={'center':'Distribution of Final Cumuluative Returns Across All 500 Simulations'}, ylabel='Frequency'>"
      ]
     },
     "execution_count": 47,
     "metadata": {},
     "output_type": "execute_result"
    },
    {
     "data": {
      "image/png": "[encoded data removed]",
      "text/plain": [
       "<Figure size 432x288 with 1 Axes>"
      ]
     },
     "metadata": {
      "needs_background": "light"
     },
     "output_type": "display_data"
    }
   ],
   "source": [
    "# Plot probability distribution and confidence intervals\n",
    "MC_Y30.plot_distribution()"
   ]
  },
  {
   "cell_type": "markdown",
   "metadata": {},
   "source": [
    "### Retirement Analysis"
   ]
  },
  {
   "cell_type": "code",
   "execution_count": 48,
   "metadata": {},
   "outputs": [],
   "source": [
    "# Fetch summary statistics from the Monte Carlo simulation results\n",
    "MC_Y30_stats = MC_Y30.summarize_cumulative_return()"
   ]
  },
  {
   "cell_type": "code",
   "execution_count": 49,
   "metadata": {},
   "outputs": [
    {
     "name": "stdout",
     "output_type": "stream",
     "text": [
      "count           500.000000\n",
      "mean              4.241167\n",
      "std               3.596818\n",
      "min               0.425456\n",
      "25%               1.970915\n",
      "50%               3.243721\n",
      "75%               5.183897\n",
      "max              32.146532\n",
      "95% CI Lower      0.919565\n",
      "95% CI Upper     13.182260\n",
      "Name: 7560, dtype: float64\n"
     ]
    }
   ],
   "source": [
    "# Print summary statistics\n",
    "print(MC_Y30_stats)"
   ]
  },
  {
   "cell_type": "markdown",
   "metadata": {},
   "source": [
    "### Calculate the expected portfolio return at the `95%` lower and upper confidence intervals based on a `$20,000` initial investment."
   ]
  },
  {
   "cell_type": "code",
   "execution_count": 50,
   "metadata": {},
   "outputs": [],
   "source": [
    "# Set initial investment\n",
    "initial_investment = 20000"
   ]
  },
  {
   "cell_type": "code",
   "execution_count": 51,
   "metadata": {},
   "outputs": [],
   "source": [
    "# Use the lower and upper `95%` confidence intervals to calculate the range of the possible outcomes of our $20,000\n",
    "ci_lower = round(MC_Y30_stats[8] * initial_investment, 2)\n",
    "ci_upper = round(MC_Y30_stats[9] * initial_investment, 2)"
   ]
  },
  {
   "cell_type": "code",
   "execution_count": 52,
   "metadata": {},
   "outputs": [
    {
     "name": "stdout",
     "output_type": "stream",
     "text": [
      "There is a 95% chance that an initial investment of $20,000.00 in the portfolio over the next 30 years will end within in the range of $18,391.31 and $263,645.19\n"
     ]
    }
   ],
   "source": [
    "# Print results\n",
    "print(f\"There is a 95% chance that an initial investment of ${initial_investment:,.2f} in the portfolio\"\n",
    "      f\" over the next 30 years will end within in the range of\"\n",
    "      f\" ${ci_lower:,.2f} and ${ci_upper:,.2f}\")"
   ]
  },
  {
   "cell_type": "markdown",
   "metadata": {},
   "source": [
    "### Calculate the expected portfolio return at the `95%` lower and upper confidence intervals based on a `50%` increase in the initial investment."
   ]
  },
  {
   "cell_type": "code",
   "execution_count": 53,
   "metadata": {},
   "outputs": [],
   "source": [
    "# Set initial investment\n",
    "initial_investment = 20000 * 1.5"
   ]
  },
  {
   "cell_type": "code",
   "execution_count": 54,
   "metadata": {},
   "outputs": [],
   "source": [
    "# Use the lower and upper `95%` confidence intervals to calculate the range of the possible outcomes of our $30,000\n",
    "ci_lower = round(MC_Y30_stats[8] * initial_investment, 2)\n",
    "ci_upper = round(MC_Y30_stats[9] * initial_investment, 2)"
   ]
  },
  {
   "cell_type": "code",
   "execution_count": 55,
   "metadata": {},
   "outputs": [
    {
     "name": "stdout",
     "output_type": "stream",
     "text": [
      "There is a 95% chance that an initial investment of $30,000.00 in the portfolio over the next 30 years will end within in the range of $27,586.96 and $395,467.79\n"
     ]
    }
   ],
   "source": [
    "## Print results\n",
    "print(f\"There is a 95% chance that an initial investment of ${initial_investment:,.2f} in the portfolio\"\n",
    "      f\" over the next 30 years will end within in the range of\"\n",
    "      f\" ${ci_lower:,.2f} and ${ci_upper:,.2f}\")"
   ]
  },
  {
   "cell_type": "markdown",
   "metadata": {},
   "source": [
    "## Optional Challenge - Early Retirement\n",
    "\n",
    "\n",
    "### Five Years Retirement Option"
   ]
  },
  {
   "cell_type": "code",
   "execution_count": 56,
   "metadata": {},
   "outputs": [],
   "source": [
    "# Configuring a Monte Carlo simulation to forecast 5 years cumulative returns\n",
    "MC_Y05 = MCSimulation(portfolio_data = df_stock_data,\n",
    "                      weights = [0.10, 0.90],\n",
    "                      num_simulation = 500 ,\n",
    "                      num_trading_days = 252*5\n",
    "                      )"
   ]
  },
  {
   "cell_type": "code",
   "execution_count": 57,
   "metadata": {},
   "outputs": [
    {
     "name": "stdout",
     "output_type": "stream",
     "text": [
      "Running Monte Carlo simulation number 0.\n",
      "Running Monte Carlo simulation number 10.\n",
      "Running Monte Carlo simulation number 20.\n",
      "Running Monte Carlo simulation number 30.\n",
      "Running Monte Carlo simulation number 40.\n",
      "Running Monte Carlo simulation number 50.\n",
      "Running Monte Carlo simulation number 60.\n",
      "Running Monte Carlo simulation number 70.\n",
      "Running Monte Carlo simulation number 80.\n",
      "Running Monte Carlo simulation number 90.\n"
     ]
    },
    {
     "name": "stderr",
     "output_type": "stream",
     "text": [
      "C:\\Users\\twigi\\FTBC\\W5_Assignment\\APIs-homework\\MCForecastTools.py:117: PerformanceWarning: DataFrame is highly fragmented.  This is usually the result of calling `frame.insert` many times, which has poor performance.  Consider joining all columns at once using pd.concat(axis=1) instead.  To get a de-fragmented frame, use `newframe = frame.copy()`\n",
      "  portfolio_cumulative_returns[n] = (1 + sim_df.fillna(0)).cumprod()\n"
     ]
    },
    {
     "name": "stdout",
     "output_type": "stream",
     "text": [
      "Running Monte Carlo simulation number 100.\n",
      "Running Monte Carlo simulation number 110.\n",
      "Running Monte Carlo simulation number 120.\n",
      "Running Monte Carlo simulation number 130.\n",
      "Running Monte Carlo simulation number 140.\n",
      "Running Monte Carlo simulation number 150.\n",
      "Running Monte Carlo simulation number 160.\n",
      "Running Monte Carlo simulation number 170.\n",
      "Running Monte Carlo simulation number 180.\n",
      "Running Monte Carlo simulation number 190.\n",
      "Running Monte Carlo simulation number 200.\n",
      "Running Monte Carlo simulation number 210.\n",
      "Running Monte Carlo simulation number 220.\n",
      "Running Monte Carlo simulation number 230.\n",
      "Running Monte Carlo simulation number 240.\n",
      "Running Monte Carlo simulation number 250.\n",
      "Running Monte Carlo simulation number 260.\n",
      "Running Monte Carlo simulation number 270.\n",
      "Running Monte Carlo simulation number 280.\n",
      "Running Monte Carlo simulation number 290.\n",
      "Running Monte Carlo simulation number 300.\n",
      "Running Monte Carlo simulation number 310.\n",
      "Running Monte Carlo simulation number 320.\n",
      "Running Monte Carlo simulation number 330.\n",
      "Running Monte Carlo simulation number 340.\n",
      "Running Monte Carlo simulation number 350.\n",
      "Running Monte Carlo simulation number 360.\n",
      "Running Monte Carlo simulation number 370.\n",
      "Running Monte Carlo simulation number 380.\n",
      "Running Monte Carlo simulation number 390.\n",
      "Running Monte Carlo simulation number 400.\n",
      "Running Monte Carlo simulation number 410.\n",
      "Running Monte Carlo simulation number 420.\n",
      "Running Monte Carlo simulation number 430.\n",
      "Running Monte Carlo simulation number 440.\n",
      "Running Monte Carlo simulation number 450.\n",
      "Running Monte Carlo simulation number 460.\n",
      "Running Monte Carlo simulation number 470.\n",
      "Running Monte Carlo simulation number 480.\n",
      "Running Monte Carlo simulation number 490.\n"
     ]
    },
    {
     "data": {
      "text/html": [
       "<div>\n",
       "<style scoped>\n",
       "    .dataframe tbody tr th:only-of-type {\n",
       "        vertical-align: middle;\n",
       "    }\n",
       "\n",
       "    .dataframe tbody tr th {\n",
       "        vertical-align: top;\n",
       "    }\n",
       "\n",
       "    .dataframe thead th {\n",
       "        text-align: right;\n",
       "    }\n",
       "</style>\n",
       "<table border=\"1\" class=\"dataframe\">\n",
       "  <thead>\n",
       "    <tr style=\"text-align: right;\">\n",
       "      <th></th>\n",
       "      <th>0</th>\n",
       "      <th>1</th>\n",
       "      <th>2</th>\n",
       "      <th>3</th>\n",
       "      <th>4</th>\n",
       "      <th>5</th>\n",
       "      <th>6</th>\n",
       "      <th>7</th>\n",
       "      <th>8</th>\n",
       "      <th>9</th>\n",
       "      <th>...</th>\n",
       "      <th>490</th>\n",
       "      <th>491</th>\n",
       "      <th>492</th>\n",
       "      <th>493</th>\n",
       "      <th>494</th>\n",
       "      <th>495</th>\n",
       "      <th>496</th>\n",
       "      <th>497</th>\n",
       "      <th>498</th>\n",
       "      <th>499</th>\n",
       "    </tr>\n",
       "  </thead>\n",
       "  <tbody>\n",
       "    <tr>\n",
       "      <th>0</th>\n",
       "      <td>1.000000</td>\n",
       "      <td>1.000000</td>\n",
       "      <td>1.000000</td>\n",
       "      <td>1.000000</td>\n",
       "      <td>1.000000</td>\n",
       "      <td>1.000000</td>\n",
       "      <td>1.000000</td>\n",
       "      <td>1.000000</td>\n",
       "      <td>1.000000</td>\n",
       "      <td>1.000000</td>\n",
       "      <td>...</td>\n",
       "      <td>1.000000</td>\n",
       "      <td>1.000000</td>\n",
       "      <td>1.000000</td>\n",
       "      <td>1.000000</td>\n",
       "      <td>1.000000</td>\n",
       "      <td>1.000000</td>\n",
       "      <td>1.000000</td>\n",
       "      <td>1.000000</td>\n",
       "      <td>1.000000</td>\n",
       "      <td>1.000000</td>\n",
       "    </tr>\n",
       "    <tr>\n",
       "      <th>1</th>\n",
       "      <td>1.008740</td>\n",
       "      <td>0.997904</td>\n",
       "      <td>1.004637</td>\n",
       "      <td>0.994585</td>\n",
       "      <td>0.997765</td>\n",
       "      <td>1.015745</td>\n",
       "      <td>1.004374</td>\n",
       "      <td>1.010791</td>\n",
       "      <td>1.001266</td>\n",
       "      <td>0.994148</td>\n",
       "      <td>...</td>\n",
       "      <td>1.003306</td>\n",
       "      <td>0.980923</td>\n",
       "      <td>1.000995</td>\n",
       "      <td>0.989425</td>\n",
       "      <td>0.997396</td>\n",
       "      <td>0.990402</td>\n",
       "      <td>1.006298</td>\n",
       "      <td>0.987401</td>\n",
       "      <td>1.011590</td>\n",
       "      <td>0.994920</td>\n",
       "    </tr>\n",
       "    <tr>\n",
       "      <th>2</th>\n",
       "      <td>1.037663</td>\n",
       "      <td>0.987384</td>\n",
       "      <td>1.014528</td>\n",
       "      <td>0.992046</td>\n",
       "      <td>0.990950</td>\n",
       "      <td>1.018173</td>\n",
       "      <td>1.007545</td>\n",
       "      <td>0.994426</td>\n",
       "      <td>0.995629</td>\n",
       "      <td>0.976333</td>\n",
       "      <td>...</td>\n",
       "      <td>0.988672</td>\n",
       "      <td>0.990264</td>\n",
       "      <td>1.002888</td>\n",
       "      <td>1.007632</td>\n",
       "      <td>1.002172</td>\n",
       "      <td>0.996003</td>\n",
       "      <td>1.022357</td>\n",
       "      <td>1.007062</td>\n",
       "      <td>1.011006</td>\n",
       "      <td>1.011151</td>\n",
       "    </tr>\n",
       "    <tr>\n",
       "      <th>3</th>\n",
       "      <td>1.038023</td>\n",
       "      <td>0.964702</td>\n",
       "      <td>1.016231</td>\n",
       "      <td>0.992790</td>\n",
       "      <td>1.007417</td>\n",
       "      <td>1.020748</td>\n",
       "      <td>1.001475</td>\n",
       "      <td>1.021472</td>\n",
       "      <td>0.993885</td>\n",
       "      <td>0.987654</td>\n",
       "      <td>...</td>\n",
       "      <td>0.991326</td>\n",
       "      <td>1.005058</td>\n",
       "      <td>1.023403</td>\n",
       "      <td>0.992546</td>\n",
       "      <td>0.997379</td>\n",
       "      <td>1.007156</td>\n",
       "      <td>1.019473</td>\n",
       "      <td>1.015430</td>\n",
       "      <td>1.028018</td>\n",
       "      <td>1.005783</td>\n",
       "    </tr>\n",
       "    <tr>\n",
       "      <th>4</th>\n",
       "      <td>1.051415</td>\n",
       "      <td>0.959282</td>\n",
       "      <td>1.025761</td>\n",
       "      <td>1.007063</td>\n",
       "      <td>1.010972</td>\n",
       "      <td>0.996291</td>\n",
       "      <td>0.993707</td>\n",
       "      <td>1.019464</td>\n",
       "      <td>0.983031</td>\n",
       "      <td>0.998044</td>\n",
       "      <td>...</td>\n",
       "      <td>0.972100</td>\n",
       "      <td>1.008714</td>\n",
       "      <td>1.029618</td>\n",
       "      <td>1.001974</td>\n",
       "      <td>0.994109</td>\n",
       "      <td>0.977498</td>\n",
       "      <td>1.030483</td>\n",
       "      <td>1.014411</td>\n",
       "      <td>1.041935</td>\n",
       "      <td>0.990649</td>\n",
       "    </tr>\n",
       "    <tr>\n",
       "      <th>...</th>\n",
       "      <td>...</td>\n",
       "      <td>...</td>\n",
       "      <td>...</td>\n",
       "      <td>...</td>\n",
       "      <td>...</td>\n",
       "      <td>...</td>\n",
       "      <td>...</td>\n",
       "      <td>...</td>\n",
       "      <td>...</td>\n",
       "      <td>...</td>\n",
       "      <td>...</td>\n",
       "      <td>...</td>\n",
       "      <td>...</td>\n",
       "      <td>...</td>\n",
       "      <td>...</td>\n",
       "      <td>...</td>\n",
       "      <td>...</td>\n",
       "      <td>...</td>\n",
       "      <td>...</td>\n",
       "      <td>...</td>\n",
       "      <td>...</td>\n",
       "    </tr>\n",
       "    <tr>\n",
       "      <th>1256</th>\n",
       "      <td>1.746690</td>\n",
       "      <td>1.251758</td>\n",
       "      <td>1.049157</td>\n",
       "      <td>0.689464</td>\n",
       "      <td>3.539050</td>\n",
       "      <td>0.583364</td>\n",
       "      <td>1.347077</td>\n",
       "      <td>1.976744</td>\n",
       "      <td>0.892741</td>\n",
       "      <td>1.638601</td>\n",
       "      <td>...</td>\n",
       "      <td>1.125915</td>\n",
       "      <td>1.224503</td>\n",
       "      <td>0.752975</td>\n",
       "      <td>1.632458</td>\n",
       "      <td>1.143557</td>\n",
       "      <td>1.433410</td>\n",
       "      <td>1.150290</td>\n",
       "      <td>1.895786</td>\n",
       "      <td>1.019203</td>\n",
       "      <td>1.079357</td>\n",
       "    </tr>\n",
       "    <tr>\n",
       "      <th>1257</th>\n",
       "      <td>1.728129</td>\n",
       "      <td>1.262233</td>\n",
       "      <td>1.058906</td>\n",
       "      <td>0.698848</td>\n",
       "      <td>3.544653</td>\n",
       "      <td>0.579234</td>\n",
       "      <td>1.337730</td>\n",
       "      <td>1.976477</td>\n",
       "      <td>0.867943</td>\n",
       "      <td>1.630308</td>\n",
       "      <td>...</td>\n",
       "      <td>1.131103</td>\n",
       "      <td>1.236607</td>\n",
       "      <td>0.744572</td>\n",
       "      <td>1.598332</td>\n",
       "      <td>1.155202</td>\n",
       "      <td>1.451805</td>\n",
       "      <td>1.158186</td>\n",
       "      <td>1.903308</td>\n",
       "      <td>1.028584</td>\n",
       "      <td>1.088799</td>\n",
       "    </tr>\n",
       "    <tr>\n",
       "      <th>1258</th>\n",
       "      <td>1.717512</td>\n",
       "      <td>1.256536</td>\n",
       "      <td>1.079959</td>\n",
       "      <td>0.702304</td>\n",
       "      <td>3.625420</td>\n",
       "      <td>0.585834</td>\n",
       "      <td>1.337806</td>\n",
       "      <td>1.990970</td>\n",
       "      <td>0.861458</td>\n",
       "      <td>1.601860</td>\n",
       "      <td>...</td>\n",
       "      <td>1.142532</td>\n",
       "      <td>1.220709</td>\n",
       "      <td>0.743763</td>\n",
       "      <td>1.589579</td>\n",
       "      <td>1.128334</td>\n",
       "      <td>1.452322</td>\n",
       "      <td>1.175137</td>\n",
       "      <td>1.881154</td>\n",
       "      <td>1.032611</td>\n",
       "      <td>1.110121</td>\n",
       "    </tr>\n",
       "    <tr>\n",
       "      <th>1259</th>\n",
       "      <td>1.737239</td>\n",
       "      <td>1.261014</td>\n",
       "      <td>1.086984</td>\n",
       "      <td>0.698467</td>\n",
       "      <td>3.711618</td>\n",
       "      <td>0.588648</td>\n",
       "      <td>1.363012</td>\n",
       "      <td>2.000213</td>\n",
       "      <td>0.867682</td>\n",
       "      <td>1.600407</td>\n",
       "      <td>...</td>\n",
       "      <td>1.153397</td>\n",
       "      <td>1.207521</td>\n",
       "      <td>0.736169</td>\n",
       "      <td>1.563737</td>\n",
       "      <td>1.133630</td>\n",
       "      <td>1.434649</td>\n",
       "      <td>1.164033</td>\n",
       "      <td>1.890049</td>\n",
       "      <td>1.044904</td>\n",
       "      <td>1.096353</td>\n",
       "    </tr>\n",
       "    <tr>\n",
       "      <th>1260</th>\n",
       "      <td>1.755745</td>\n",
       "      <td>1.278480</td>\n",
       "      <td>1.101834</td>\n",
       "      <td>0.700543</td>\n",
       "      <td>3.674791</td>\n",
       "      <td>0.583216</td>\n",
       "      <td>1.364890</td>\n",
       "      <td>1.996335</td>\n",
       "      <td>0.866209</td>\n",
       "      <td>1.580856</td>\n",
       "      <td>...</td>\n",
       "      <td>1.137385</td>\n",
       "      <td>1.193432</td>\n",
       "      <td>0.732623</td>\n",
       "      <td>1.553514</td>\n",
       "      <td>1.126333</td>\n",
       "      <td>1.440838</td>\n",
       "      <td>1.188168</td>\n",
       "      <td>1.849349</td>\n",
       "      <td>1.039128</td>\n",
       "      <td>1.095089</td>\n",
       "    </tr>\n",
       "  </tbody>\n",
       "</table>\n",
       "<p>1261 rows × 500 columns</p>\n",
       "</div>"
      ],
      "text/plain": [
       "           0         1         2         3         4         5         6    \\\n",
       "0     1.000000  1.000000  1.000000  1.000000  1.000000  1.000000  1.000000   \n",
       "1     1.008740  0.997904  1.004637  0.994585  0.997765  1.015745  1.004374   \n",
       "2     1.037663  0.987384  1.014528  0.992046  0.990950  1.018173  1.007545   \n",
       "3     1.038023  0.964702  1.016231  0.992790  1.007417  1.020748  1.001475   \n",
       "4     1.051415  0.959282  1.025761  1.007063  1.010972  0.996291  0.993707   \n",
       "...        ...       ...       ...       ...       ...       ...       ...   \n",
       "1256  1.746690  1.251758  1.049157  0.689464  3.539050  0.583364  1.347077   \n",
       "1257  1.728129  1.262233  1.058906  0.698848  3.544653  0.579234  1.337730   \n",
       "1258  1.717512  1.256536  1.079959  0.702304  3.625420  0.585834  1.337806   \n",
       "1259  1.737239  1.261014  1.086984  0.698467  3.711618  0.588648  1.363012   \n",
       "1260  1.755745  1.278480  1.101834  0.700543  3.674791  0.583216  1.364890   \n",
       "\n",
       "           7         8         9    ...       490       491       492  \\\n",
       "0     1.000000  1.000000  1.000000  ...  1.000000  1.000000  1.000000   \n",
       "1     1.010791  1.001266  0.994148  ...  1.003306  0.980923  1.000995   \n",
       "2     0.994426  0.995629  0.976333  ...  0.988672  0.990264  1.002888   \n",
       "3     1.021472  0.993885  0.987654  ...  0.991326  1.005058  1.023403   \n",
       "4     1.019464  0.983031  0.998044  ...  0.972100  1.008714  1.029618   \n",
       "...        ...       ...       ...  ...       ...       ...       ...   \n",
       "1256  1.976744  0.892741  1.638601  ...  1.125915  1.224503  0.752975   \n",
       "1257  1.976477  0.867943  1.630308  ...  1.131103  1.236607  0.744572   \n",
       "1258  1.990970  0.861458  1.601860  ...  1.142532  1.220709  0.743763   \n",
       "1259  2.000213  0.867682  1.600407  ...  1.153397  1.207521  0.736169   \n",
       "1260  1.996335  0.866209  1.580856  ...  1.137385  1.193432  0.732623   \n",
       "\n",
       "           493       494       495       496       497       498       499  \n",
       "0     1.000000  1.000000  1.000000  1.000000  1.000000  1.000000  1.000000  \n",
       "1     0.989425  0.997396  0.990402  1.006298  0.987401  1.011590  0.994920  \n",
       "2     1.007632  1.002172  0.996003  1.022357  1.007062  1.011006  1.011151  \n",
       "3     0.992546  0.997379  1.007156  1.019473  1.015430  1.028018  1.005783  \n",
       "4     1.001974  0.994109  0.977498  1.030483  1.014411  1.041935  0.990649  \n",
       "...        ...       ...       ...       ...       ...       ...       ...  \n",
       "1256  1.632458  1.143557  1.433410  1.150290  1.895786  1.019203  1.079357  \n",
       "1257  1.598332  1.155202  1.451805  1.158186  1.903308  1.028584  1.088799  \n",
       "1258  1.589579  1.128334  1.452322  1.175137  1.881154  1.032611  1.110121  \n",
       "1259  1.563737  1.133630  1.434649  1.164033  1.890049  1.044904  1.096353  \n",
       "1260  1.553514  1.126333  1.440838  1.188168  1.849349  1.039128  1.095089  \n",
       "\n",
       "[1261 rows x 500 columns]"
      ]
     },
     "execution_count": 57,
     "metadata": {},
     "output_type": "execute_result"
    }
   ],
   "source": [
    "# Running a Monte Carlo simulation to forecast 5 years cumulative returns\n",
    "MC_Y05.calc_cumulative_return()"
   ]
  },
  {
   "cell_type": "code",
   "execution_count": 58,
   "metadata": {},
   "outputs": [
    {
     "data": {
      "text/plain": [
       "<AxesSubplot:title={'center':'500 Simulations of Cumulative Portfolio Return Trajectories Over the Next 1260 Trading Days.'}>"
      ]
     },
     "execution_count": 58,
     "metadata": {},
     "output_type": "execute_result"
    },
    {
     "data": {
      "image/png": "[encoded data removed]",
      "text/plain": [
       "<Figure size 432x288 with 1 Axes>"
      ]
     },
     "metadata": {
      "needs_background": "light"
     },
     "output_type": "display_data"
    }
   ],
   "source": [
    "# Plot simulation outcomes\n",
    "MC_Y05.plot_simulation()"
   ]
  },
  {
   "cell_type": "code",
   "execution_count": 59,
   "metadata": {},
   "outputs": [
    {
     "data": {
      "text/plain": [
       "<AxesSubplot:title={'center':'Distribution of Final Cumuluative Returns Across All 500 Simulations'}, ylabel='Frequency'>"
      ]
     },
     "execution_count": 59,
     "metadata": {},
     "output_type": "execute_result"
    },
    {
     "data": {
      "image/png": "[encoded data removed]",
      "text/plain": [
       "<Figure size 432x288 with 1 Axes>"
      ]
     },
     "metadata": {
      "needs_background": "light"
     },
     "output_type": "display_data"
    }
   ],
   "source": [
    "# Plot probability distribution and confidence intervals\n",
    "MC_Y05.plot_distribution()"
   ]
  },
  {
   "cell_type": "code",
   "execution_count": 60,
   "metadata": {},
   "outputs": [],
   "source": [
    "# Fetch summary statistics from the Monte Carlo simulation results\n",
    "MC_Y05_stats = MC_Y05.summarize_cumulative_return()"
   ]
  },
  {
   "cell_type": "code",
   "execution_count": 61,
   "metadata": {},
   "outputs": [
    {
     "name": "stdout",
     "output_type": "stream",
     "text": [
      "count           500.000000\n",
      "mean              1.508310\n",
      "std               0.708321\n",
      "min               0.356146\n",
      "25%               1.011428\n",
      "50%               1.347218\n",
      "75%               1.839797\n",
      "max               5.201728\n",
      "95% CI Lower      0.593917\n",
      "95% CI Upper      3.362128\n",
      "Name: 1260, dtype: float64\n"
     ]
    }
   ],
   "source": [
    "# Print summary statistics\n",
    "print(MC_Y05_stats)"
   ]
  },
  {
   "cell_type": "code",
   "execution_count": 62,
   "metadata": {},
   "outputs": [],
   "source": [
    "# Set initial investment\n",
    "initial_investment = 20000*10"
   ]
  },
  {
   "cell_type": "code",
   "execution_count": 63,
   "metadata": {},
   "outputs": [],
   "source": [
    "# Use the lower and upper `95%` confidence intervals to calculate the range of the possible outcomes of our $200,000\n",
    "ci_lower_five = round(MC_Y05_stats[8] * initial_investment, 2)\n",
    "ci_upper_five = round(MC_Y05_stats[9] * initial_investment, 2)"
   ]
  },
  {
   "cell_type": "code",
   "execution_count": 64,
   "metadata": {},
   "outputs": [
    {
     "name": "stdout",
     "output_type": "stream",
     "text": [
      "There is a 95% chance that an initial investment of $200,000.00 in the portfolio over the next 5 years will end within in the range of $118,783.38 and $672,425.57\n"
     ]
    }
   ],
   "source": [
    "# Print results\n",
    "print(f\"There is a 95% chance that an initial investment of ${initial_investment:,.2f} in the portfolio\"\n",
    "      f\" over the next 5 years will end within in the range of\"\n",
    "      f\" ${ci_lower_five:,.2f} and ${ci_upper_five:,.2f}\")"
   ]
  },
  {
   "cell_type": "markdown",
   "metadata": {},
   "source": [
    "### Ten Years Retirement Option"
   ]
  },
  {
   "cell_type": "code",
   "execution_count": 65,
   "metadata": {},
   "outputs": [],
   "source": [
    "# Configuring a Monte Carlo simulation to forecast 10 years cumulative returns\n",
    "MC_Y10 = MCSimulation(portfolio_data = df_stock_data,\n",
    "                      weights = [0.30, 0.70],\n",
    "                      num_simulation = 500 ,\n",
    "                      num_trading_days = 252*10\n",
    "                      )"
   ]
  },
  {
   "cell_type": "code",
   "execution_count": 66,
   "metadata": {},
   "outputs": [
    {
     "name": "stdout",
     "output_type": "stream",
     "text": [
      "Running Monte Carlo simulation number 0.\n",
      "Running Monte Carlo simulation number 10.\n",
      "Running Monte Carlo simulation number 20.\n",
      "Running Monte Carlo simulation number 30.\n",
      "Running Monte Carlo simulation number 40.\n",
      "Running Monte Carlo simulation number 50.\n",
      "Running Monte Carlo simulation number 60.\n",
      "Running Monte Carlo simulation number 70.\n",
      "Running Monte Carlo simulation number 80.\n",
      "Running Monte Carlo simulation number 90.\n",
      "Running Monte Carlo simulation number 100.\n"
     ]
    },
    {
     "name": "stderr",
     "output_type": "stream",
     "text": [
      "C:\\Users\\twigi\\FTBC\\W5_Assignment\\APIs-homework\\MCForecastTools.py:117: PerformanceWarning: DataFrame is highly fragmented.  This is usually the result of calling `frame.insert` many times, which has poor performance.  Consider joining all columns at once using pd.concat(axis=1) instead.  To get a de-fragmented frame, use `newframe = frame.copy()`\n",
      "  portfolio_cumulative_returns[n] = (1 + sim_df.fillna(0)).cumprod()\n"
     ]
    },
    {
     "name": "stdout",
     "output_type": "stream",
     "text": [
      "Running Monte Carlo simulation number 110.\n",
      "Running Monte Carlo simulation number 120.\n",
      "Running Monte Carlo simulation number 130.\n",
      "Running Monte Carlo simulation number 140.\n",
      "Running Monte Carlo simulation number 150.\n",
      "Running Monte Carlo simulation number 160.\n",
      "Running Monte Carlo simulation number 170.\n",
      "Running Monte Carlo simulation number 180.\n",
      "Running Monte Carlo simulation number 190.\n",
      "Running Monte Carlo simulation number 200.\n",
      "Running Monte Carlo simulation number 210.\n",
      "Running Monte Carlo simulation number 220.\n",
      "Running Monte Carlo simulation number 230.\n",
      "Running Monte Carlo simulation number 240.\n",
      "Running Monte Carlo simulation number 250.\n",
      "Running Monte Carlo simulation number 260.\n",
      "Running Monte Carlo simulation number 270.\n",
      "Running Monte Carlo simulation number 280.\n",
      "Running Monte Carlo simulation number 290.\n",
      "Running Monte Carlo simulation number 300.\n",
      "Running Monte Carlo simulation number 310.\n",
      "Running Monte Carlo simulation number 320.\n",
      "Running Monte Carlo simulation number 330.\n",
      "Running Monte Carlo simulation number 340.\n",
      "Running Monte Carlo simulation number 350.\n",
      "Running Monte Carlo simulation number 360.\n",
      "Running Monte Carlo simulation number 370.\n",
      "Running Monte Carlo simulation number 380.\n",
      "Running Monte Carlo simulation number 390.\n",
      "Running Monte Carlo simulation number 400.\n",
      "Running Monte Carlo simulation number 410.\n",
      "Running Monte Carlo simulation number 420.\n",
      "Running Monte Carlo simulation number 430.\n",
      "Running Monte Carlo simulation number 440.\n",
      "Running Monte Carlo simulation number 450.\n",
      "Running Monte Carlo simulation number 460.\n",
      "Running Monte Carlo simulation number 470.\n",
      "Running Monte Carlo simulation number 480.\n",
      "Running Monte Carlo simulation number 490.\n"
     ]
    },
    {
     "data": {
      "text/html": [
       "<div>\n",
       "<style scoped>\n",
       "    .dataframe tbody tr th:only-of-type {\n",
       "        vertical-align: middle;\n",
       "    }\n",
       "\n",
       "    .dataframe tbody tr th {\n",
       "        vertical-align: top;\n",
       "    }\n",
       "\n",
       "    .dataframe thead th {\n",
       "        text-align: right;\n",
       "    }\n",
       "</style>\n",
       "<table border=\"1\" class=\"dataframe\">\n",
       "  <thead>\n",
       "    <tr style=\"text-align: right;\">\n",
       "      <th></th>\n",
       "      <th>0</th>\n",
       "      <th>1</th>\n",
       "      <th>2</th>\n",
       "      <th>3</th>\n",
       "      <th>4</th>\n",
       "      <th>5</th>\n",
       "      <th>6</th>\n",
       "      <th>7</th>\n",
       "      <th>8</th>\n",
       "      <th>9</th>\n",
       "      <th>...</th>\n",
       "      <th>490</th>\n",
       "      <th>491</th>\n",
       "      <th>492</th>\n",
       "      <th>493</th>\n",
       "      <th>494</th>\n",
       "      <th>495</th>\n",
       "      <th>496</th>\n",
       "      <th>497</th>\n",
       "      <th>498</th>\n",
       "      <th>499</th>\n",
       "    </tr>\n",
       "  </thead>\n",
       "  <tbody>\n",
       "    <tr>\n",
       "      <th>0</th>\n",
       "      <td>1.000000</td>\n",
       "      <td>1.000000</td>\n",
       "      <td>1.000000</td>\n",
       "      <td>1.000000</td>\n",
       "      <td>1.000000</td>\n",
       "      <td>1.000000</td>\n",
       "      <td>1.000000</td>\n",
       "      <td>1.000000</td>\n",
       "      <td>1.000000</td>\n",
       "      <td>1.000000</td>\n",
       "      <td>...</td>\n",
       "      <td>1.000000</td>\n",
       "      <td>1.000000</td>\n",
       "      <td>1.000000</td>\n",
       "      <td>1.000000</td>\n",
       "      <td>1.000000</td>\n",
       "      <td>1.000000</td>\n",
       "      <td>1.000000</td>\n",
       "      <td>1.000000</td>\n",
       "      <td>1.000000</td>\n",
       "      <td>1.000000</td>\n",
       "    </tr>\n",
       "    <tr>\n",
       "      <th>1</th>\n",
       "      <td>0.992311</td>\n",
       "      <td>1.000843</td>\n",
       "      <td>0.998088</td>\n",
       "      <td>1.012509</td>\n",
       "      <td>0.999804</td>\n",
       "      <td>1.000969</td>\n",
       "      <td>1.004330</td>\n",
       "      <td>1.006713</td>\n",
       "      <td>1.003284</td>\n",
       "      <td>0.995264</td>\n",
       "      <td>...</td>\n",
       "      <td>1.013552</td>\n",
       "      <td>1.006163</td>\n",
       "      <td>0.994724</td>\n",
       "      <td>0.989135</td>\n",
       "      <td>1.000268</td>\n",
       "      <td>1.002633</td>\n",
       "      <td>0.977708</td>\n",
       "      <td>1.002043</td>\n",
       "      <td>1.012019</td>\n",
       "      <td>0.989399</td>\n",
       "    </tr>\n",
       "    <tr>\n",
       "      <th>2</th>\n",
       "      <td>1.009553</td>\n",
       "      <td>0.986330</td>\n",
       "      <td>1.000377</td>\n",
       "      <td>1.005212</td>\n",
       "      <td>1.021524</td>\n",
       "      <td>0.973848</td>\n",
       "      <td>1.021216</td>\n",
       "      <td>1.010046</td>\n",
       "      <td>0.998664</td>\n",
       "      <td>0.987993</td>\n",
       "      <td>...</td>\n",
       "      <td>1.014038</td>\n",
       "      <td>1.009419</td>\n",
       "      <td>0.996325</td>\n",
       "      <td>0.996300</td>\n",
       "      <td>0.993990</td>\n",
       "      <td>0.996302</td>\n",
       "      <td>0.987415</td>\n",
       "      <td>0.999313</td>\n",
       "      <td>1.008486</td>\n",
       "      <td>0.985804</td>\n",
       "    </tr>\n",
       "    <tr>\n",
       "      <th>3</th>\n",
       "      <td>1.008966</td>\n",
       "      <td>1.007366</td>\n",
       "      <td>0.999213</td>\n",
       "      <td>1.005113</td>\n",
       "      <td>1.020618</td>\n",
       "      <td>0.987901</td>\n",
       "      <td>1.017684</td>\n",
       "      <td>0.990700</td>\n",
       "      <td>0.995675</td>\n",
       "      <td>0.991115</td>\n",
       "      <td>...</td>\n",
       "      <td>0.999162</td>\n",
       "      <td>1.006164</td>\n",
       "      <td>0.974766</td>\n",
       "      <td>0.994256</td>\n",
       "      <td>0.994462</td>\n",
       "      <td>0.996940</td>\n",
       "      <td>0.997006</td>\n",
       "      <td>0.976631</td>\n",
       "      <td>1.022054</td>\n",
       "      <td>0.978993</td>\n",
       "    </tr>\n",
       "    <tr>\n",
       "      <th>4</th>\n",
       "      <td>0.990174</td>\n",
       "      <td>1.005586</td>\n",
       "      <td>1.017272</td>\n",
       "      <td>1.007731</td>\n",
       "      <td>1.030030</td>\n",
       "      <td>0.985831</td>\n",
       "      <td>1.019955</td>\n",
       "      <td>0.990346</td>\n",
       "      <td>1.004056</td>\n",
       "      <td>0.981237</td>\n",
       "      <td>...</td>\n",
       "      <td>0.999624</td>\n",
       "      <td>0.988906</td>\n",
       "      <td>0.977878</td>\n",
       "      <td>0.986729</td>\n",
       "      <td>1.004623</td>\n",
       "      <td>1.001849</td>\n",
       "      <td>0.992182</td>\n",
       "      <td>0.992979</td>\n",
       "      <td>1.032742</td>\n",
       "      <td>0.980561</td>\n",
       "    </tr>\n",
       "    <tr>\n",
       "      <th>...</th>\n",
       "      <td>...</td>\n",
       "      <td>...</td>\n",
       "      <td>...</td>\n",
       "      <td>...</td>\n",
       "      <td>...</td>\n",
       "      <td>...</td>\n",
       "      <td>...</td>\n",
       "      <td>...</td>\n",
       "      <td>...</td>\n",
       "      <td>...</td>\n",
       "      <td>...</td>\n",
       "      <td>...</td>\n",
       "      <td>...</td>\n",
       "      <td>...</td>\n",
       "      <td>...</td>\n",
       "      <td>...</td>\n",
       "      <td>...</td>\n",
       "      <td>...</td>\n",
       "      <td>...</td>\n",
       "      <td>...</td>\n",
       "      <td>...</td>\n",
       "    </tr>\n",
       "    <tr>\n",
       "      <th>2516</th>\n",
       "      <td>2.239193</td>\n",
       "      <td>1.996916</td>\n",
       "      <td>2.066345</td>\n",
       "      <td>0.696698</td>\n",
       "      <td>1.279600</td>\n",
       "      <td>1.047251</td>\n",
       "      <td>1.185732</td>\n",
       "      <td>1.001591</td>\n",
       "      <td>1.997120</td>\n",
       "      <td>2.248721</td>\n",
       "      <td>...</td>\n",
       "      <td>1.157920</td>\n",
       "      <td>2.265324</td>\n",
       "      <td>2.527740</td>\n",
       "      <td>1.945064</td>\n",
       "      <td>1.046202</td>\n",
       "      <td>2.206538</td>\n",
       "      <td>1.510660</td>\n",
       "      <td>0.667353</td>\n",
       "      <td>1.020515</td>\n",
       "      <td>2.555118</td>\n",
       "    </tr>\n",
       "    <tr>\n",
       "      <th>2517</th>\n",
       "      <td>2.265595</td>\n",
       "      <td>2.004087</td>\n",
       "      <td>2.042733</td>\n",
       "      <td>0.699426</td>\n",
       "      <td>1.282359</td>\n",
       "      <td>1.060295</td>\n",
       "      <td>1.185786</td>\n",
       "      <td>1.013740</td>\n",
       "      <td>2.003916</td>\n",
       "      <td>2.264094</td>\n",
       "      <td>...</td>\n",
       "      <td>1.166403</td>\n",
       "      <td>2.247663</td>\n",
       "      <td>2.498992</td>\n",
       "      <td>1.963974</td>\n",
       "      <td>1.043995</td>\n",
       "      <td>2.180367</td>\n",
       "      <td>1.530341</td>\n",
       "      <td>0.664443</td>\n",
       "      <td>1.031143</td>\n",
       "      <td>2.545327</td>\n",
       "    </tr>\n",
       "    <tr>\n",
       "      <th>2518</th>\n",
       "      <td>2.280267</td>\n",
       "      <td>1.996927</td>\n",
       "      <td>2.013914</td>\n",
       "      <td>0.700078</td>\n",
       "      <td>1.277507</td>\n",
       "      <td>1.057090</td>\n",
       "      <td>1.168645</td>\n",
       "      <td>1.012790</td>\n",
       "      <td>1.993784</td>\n",
       "      <td>2.296719</td>\n",
       "      <td>...</td>\n",
       "      <td>1.154522</td>\n",
       "      <td>2.240979</td>\n",
       "      <td>2.522376</td>\n",
       "      <td>1.898322</td>\n",
       "      <td>1.050581</td>\n",
       "      <td>2.158311</td>\n",
       "      <td>1.542624</td>\n",
       "      <td>0.658932</td>\n",
       "      <td>1.039771</td>\n",
       "      <td>2.540593</td>\n",
       "    </tr>\n",
       "    <tr>\n",
       "      <th>2519</th>\n",
       "      <td>2.269153</td>\n",
       "      <td>2.002278</td>\n",
       "      <td>2.025542</td>\n",
       "      <td>0.693205</td>\n",
       "      <td>1.294343</td>\n",
       "      <td>1.047682</td>\n",
       "      <td>1.151994</td>\n",
       "      <td>1.015492</td>\n",
       "      <td>2.006223</td>\n",
       "      <td>2.298232</td>\n",
       "      <td>...</td>\n",
       "      <td>1.123663</td>\n",
       "      <td>2.221376</td>\n",
       "      <td>2.507933</td>\n",
       "      <td>1.888785</td>\n",
       "      <td>1.030118</td>\n",
       "      <td>2.118379</td>\n",
       "      <td>1.563210</td>\n",
       "      <td>0.656153</td>\n",
       "      <td>1.048250</td>\n",
       "      <td>2.534927</td>\n",
       "    </tr>\n",
       "    <tr>\n",
       "      <th>2520</th>\n",
       "      <td>2.268129</td>\n",
       "      <td>2.005398</td>\n",
       "      <td>2.000590</td>\n",
       "      <td>0.694602</td>\n",
       "      <td>1.308256</td>\n",
       "      <td>1.037539</td>\n",
       "      <td>1.150347</td>\n",
       "      <td>1.000029</td>\n",
       "      <td>2.009203</td>\n",
       "      <td>2.284967</td>\n",
       "      <td>...</td>\n",
       "      <td>1.125405</td>\n",
       "      <td>2.223549</td>\n",
       "      <td>2.504698</td>\n",
       "      <td>1.833973</td>\n",
       "      <td>1.030565</td>\n",
       "      <td>2.125073</td>\n",
       "      <td>1.562769</td>\n",
       "      <td>0.650140</td>\n",
       "      <td>1.044117</td>\n",
       "      <td>2.532707</td>\n",
       "    </tr>\n",
       "  </tbody>\n",
       "</table>\n",
       "<p>2521 rows × 500 columns</p>\n",
       "</div>"
      ],
      "text/plain": [
       "           0         1         2         3         4         5         6    \\\n",
       "0     1.000000  1.000000  1.000000  1.000000  1.000000  1.000000  1.000000   \n",
       "1     0.992311  1.000843  0.998088  1.012509  0.999804  1.000969  1.004330   \n",
       "2     1.009553  0.986330  1.000377  1.005212  1.021524  0.973848  1.021216   \n",
       "3     1.008966  1.007366  0.999213  1.005113  1.020618  0.987901  1.017684   \n",
       "4     0.990174  1.005586  1.017272  1.007731  1.030030  0.985831  1.019955   \n",
       "...        ...       ...       ...       ...       ...       ...       ...   \n",
       "2516  2.239193  1.996916  2.066345  0.696698  1.279600  1.047251  1.185732   \n",
       "2517  2.265595  2.004087  2.042733  0.699426  1.282359  1.060295  1.185786   \n",
       "2518  2.280267  1.996927  2.013914  0.700078  1.277507  1.057090  1.168645   \n",
       "2519  2.269153  2.002278  2.025542  0.693205  1.294343  1.047682  1.151994   \n",
       "2520  2.268129  2.005398  2.000590  0.694602  1.308256  1.037539  1.150347   \n",
       "\n",
       "           7         8         9    ...       490       491       492  \\\n",
       "0     1.000000  1.000000  1.000000  ...  1.000000  1.000000  1.000000   \n",
       "1     1.006713  1.003284  0.995264  ...  1.013552  1.006163  0.994724   \n",
       "2     1.010046  0.998664  0.987993  ...  1.014038  1.009419  0.996325   \n",
       "3     0.990700  0.995675  0.991115  ...  0.999162  1.006164  0.974766   \n",
       "4     0.990346  1.004056  0.981237  ...  0.999624  0.988906  0.977878   \n",
       "...        ...       ...       ...  ...       ...       ...       ...   \n",
       "2516  1.001591  1.997120  2.248721  ...  1.157920  2.265324  2.527740   \n",
       "2517  1.013740  2.003916  2.264094  ...  1.166403  2.247663  2.498992   \n",
       "2518  1.012790  1.993784  2.296719  ...  1.154522  2.240979  2.522376   \n",
       "2519  1.015492  2.006223  2.298232  ...  1.123663  2.221376  2.507933   \n",
       "2520  1.000029  2.009203  2.284967  ...  1.125405  2.223549  2.504698   \n",
       "\n",
       "           493       494       495       496       497       498       499  \n",
       "0     1.000000  1.000000  1.000000  1.000000  1.000000  1.000000  1.000000  \n",
       "1     0.989135  1.000268  1.002633  0.977708  1.002043  1.012019  0.989399  \n",
       "2     0.996300  0.993990  0.996302  0.987415  0.999313  1.008486  0.985804  \n",
       "3     0.994256  0.994462  0.996940  0.997006  0.976631  1.022054  0.978993  \n",
       "4     0.986729  1.004623  1.001849  0.992182  0.992979  1.032742  0.980561  \n",
       "...        ...       ...       ...       ...       ...       ...       ...  \n",
       "2516  1.945064  1.046202  2.206538  1.510660  0.667353  1.020515  2.555118  \n",
       "2517  1.963974  1.043995  2.180367  1.530341  0.664443  1.031143  2.545327  \n",
       "2518  1.898322  1.050581  2.158311  1.542624  0.658932  1.039771  2.540593  \n",
       "2519  1.888785  1.030118  2.118379  1.563210  0.656153  1.048250  2.534927  \n",
       "2520  1.833973  1.030565  2.125073  1.562769  0.650140  1.044117  2.532707  \n",
       "\n",
       "[2521 rows x 500 columns]"
      ]
     },
     "execution_count": 66,
     "metadata": {},
     "output_type": "execute_result"
    }
   ],
   "source": [
    "# Running a Monte Carlo simulation to forecast 10 years cumulative returns\n",
    "MC_Y10.calc_cumulative_return()"
   ]
  },
  {
   "cell_type": "code",
   "execution_count": 67,
   "metadata": {},
   "outputs": [
    {
     "data": {
      "text/plain": [
       "<AxesSubplot:title={'center':'500 Simulations of Cumulative Portfolio Return Trajectories Over the Next 2520 Trading Days.'}>"
      ]
     },
     "execution_count": 67,
     "metadata": {},
     "output_type": "execute_result"
    },
    {
     "data": {
      "image/png": "[encoded data removed]",
      "text/plain": [
       "<Figure size 432x288 with 1 Axes>"
      ]
     },
     "metadata": {
      "needs_background": "light"
     },
     "output_type": "display_data"
    }
   ],
   "source": [
    "# Plot simulation outcomes\n",
    "MC_Y10.plot_simulation()"
   ]
  },
  {
   "cell_type": "code",
   "execution_count": 68,
   "metadata": {},
   "outputs": [
    {
     "data": {
      "text/plain": [
       "<AxesSubplot:title={'center':'Distribution of Final Cumuluative Returns Across All 500 Simulations'}, ylabel='Frequency'>"
      ]
     },
     "execution_count": 68,
     "metadata": {},
     "output_type": "execute_result"
    },
    {
     "data": {
      "image/png": "[encoded data removed]",
      "text/plain": [
       "<Figure size 432x288 with 1 Axes>"
      ]
     },
     "metadata": {
      "needs_background": "light"
     },
     "output_type": "display_data"
    }
   ],
   "source": [
    "# Plot probability distribution and confidence intervals\n",
    "MC_Y10.plot_distribution()"
   ]
  },
  {
   "cell_type": "code",
   "execution_count": 69,
   "metadata": {},
   "outputs": [],
   "source": [
    "# Fetch summary statistics from the Monte Carlo simulation results\n",
    "MC_Y10_stats = MC_Y10.summarize_cumulative_return()"
   ]
  },
  {
   "cell_type": "code",
   "execution_count": 70,
   "metadata": {},
   "outputs": [
    {
     "name": "stdout",
     "output_type": "stream",
     "text": [
      "count           500.000000\n",
      "mean              1.739213\n",
      "std               0.825391\n",
      "min               0.318428\n",
      "25%               1.141471\n",
      "50%               1.573800\n",
      "75%               2.163151\n",
      "max               6.805732\n",
      "95% CI Lower      0.614095\n",
      "95% CI Upper      3.589645\n",
      "Name: 2520, dtype: float64\n"
     ]
    }
   ],
   "source": [
    "# Print summary statistics\n",
    "print(MC_Y10_stats)"
   ]
  },
  {
   "cell_type": "code",
   "execution_count": 71,
   "metadata": {},
   "outputs": [],
   "source": [
    "# Set initial investment\n",
    "initial_investment = 20000*7"
   ]
  },
  {
   "cell_type": "code",
   "execution_count": 72,
   "metadata": {},
   "outputs": [],
   "source": [
    "# Use the lower and upper `95%` confidence intervals to calculate the range of the possible outcomes of our $140,000\n",
    "ci_lower_ten = round(MC_Y10_stats[8] * initial_investment, 2)\n",
    "ci_upper_ten = round(MC_Y10_stats[9] * initial_investment, 2)"
   ]
  },
  {
   "cell_type": "code",
   "execution_count": 73,
   "metadata": {},
   "outputs": [
    {
     "name": "stdout",
     "output_type": "stream",
     "text": [
      "There is a 95% chance that an initial investment of $140,000.00 in the portfolio over the next 10 years will end within in the range of $85,973.27 and $502,550.25\n"
     ]
    }
   ],
   "source": [
    "# Print results\n",
    "print(f\"There is a 95% chance that an initial investment of ${initial_investment:,.2f} in the portfolio\"\n",
    "      f\" over the next 10 years will end within in the range of\"\n",
    "      f\" ${ci_lower_ten:,.2f} and ${ci_upper_ten:,.2f}\")"
   ]
  },
  {
   "cell_type": "markdown",
   "metadata": {},
   "source": [
    "#### Notes:\n",
    "Assuming one would like to maintain a similar lifestyle regardless when one retires,<br>\n",
    "a) retiring in 5 years instead of 30 years time <br>\n",
    "The initial investment amount will need to increase significantly. The above numerical illustration has used an increase of 10 times (or 1000%) in initial investment. <br>\n",
    "The significant increase is to compensate the shorter wealth accumulation period. The investment portfolio was adjusted to include more risk (90% stock and 10% bonds) to boost the expected portfolio return. <br>\n",
    "\n",
    "b) retiring in 10 years instead of 30 years time <br>\n",
    "Similarly, the initial invsetment amount will need to increase signficantly and could be less than the amount as if one would want to retire in 5 years time. The above numerical illustration has used an increase of 7 times (or 700%) in initial investment. The investment portfolio was adjusted to include more risk (80% stock and 20% bonds) to boost the expected portfolio return."
   ]
  },
  {
   "cell_type": "code",
   "execution_count": null,
   "metadata": {},
   "outputs": [],
   "source": []
  }
 ],
 "metadata": {
  "kernelspec": {
   "display_name": "Python 3 (ipykernel)",
   "language": "python",
   "name": "python3"
  },
  "language_info": {
   "codemirror_mode": {
    "name": "ipython",
    "version": 3
   },
   "file_extension": ".py",
   "mimetype": "text/x-python",
   "name": "python",
   "nbconvert_exporter": "python",
   "pygments_lexer": "ipython3",
   "version": "3.7.13"
  },
  "nteract": {
   "version": "0.28.0"
  },
  "toc-showcode": false
 },
 "nbformat": 4,
 "nbformat_minor": 4
}
