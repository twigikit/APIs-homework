{
 "cells": [
  {
   "cell_type": "markdown",
   "metadata": {},
   "source": [
    "# Unit 5 - Financial Planning"
   ]
  },
  {
   "cell_type": "code",
   "execution_count": 1,
   "metadata": {},
   "outputs": [],
   "source": [
    "# Initial imports\n",
    "import os\n",
    "import requests\n",
    "import json\n",
    "import pandas as pd\n",
    "from dotenv import load_dotenv\n",
    "import alpaca_trade_api as tradeapi\n",
    "from MCForecastTools import MCSimulation\n",
    "\n",
    "%matplotlib inline"
   ]
  },
  {
   "cell_type": "code",
   "execution_count": 2,
   "metadata": {},
   "outputs": [
    {
     "data": {
      "text/plain": [
       "True"
      ]
     },
     "execution_count": 2,
     "metadata": {},
     "output_type": "execute_result"
    }
   ],
   "source": [
    "# Load .env enviroment variables\n",
    "load_dotenv()"
   ]
  },
  {
   "cell_type": "markdown",
   "metadata": {
    "tags": []
   },
   "source": [
    "## Part 1 - Personal Finance Planner"
   ]
  },
  {
   "cell_type": "markdown",
   "metadata": {},
   "source": [
    "### Collect Crypto Prices Using the `requests` Library"
   ]
  },
  {
   "cell_type": "code",
   "execution_count": 3,
   "metadata": {},
   "outputs": [],
   "source": [
    "# Set current amount of crypto assets\n",
    "my_btc = 1.2\n",
    "my_eth = 5.3"
   ]
  },
  {
   "cell_type": "code",
   "execution_count": 4,
   "metadata": {},
   "outputs": [],
   "source": [
    "# Crypto API URLs\n",
    "btc_url = \"https://api.alternative.me/v2/ticker/Bitcoin/?convert=USD\"\n",
    "eth_url = \"https://api.alternative.me/v2/ticker/Ethereum/?convert=USD\""
   ]
  },
  {
   "cell_type": "code",
   "execution_count": 5,
   "metadata": {},
   "outputs": [
    {
     "data": {
      "text/plain": [
       "<Response [200]>"
      ]
     },
     "execution_count": 5,
     "metadata": {},
     "output_type": "execute_result"
    }
   ],
   "source": [
    "# Fetch current BTC price\n",
    "btc_price_fetch = requests.get(btc_url)\n",
    "btc_price_fetch"
   ]
  },
  {
   "cell_type": "code",
   "execution_count": 6,
   "metadata": {},
   "outputs": [
    {
     "data": {
      "text/plain": [
       "{'data': {'1': {'id': 1,\n",
       "   'name': 'Bitcoin',\n",
       "   'symbol': 'BTC',\n",
       "   'website_slug': 'bitcoin',\n",
       "   'rank': 1,\n",
       "   'circulating_supply': 19174050,\n",
       "   'total_supply': 19174050,\n",
       "   'max_supply': 21000000,\n",
       "   'quotes': {'USD': {'price': 19392.86,\n",
       "     'volume_24h': 12889098691,\n",
       "     'market_cap': 371882976249,\n",
       "     'percentage_change_1h': -0.184770458185732,\n",
       "     'percentage_change_24h': -0.465106601350493,\n",
       "     'percentage_change_7d': 0.405878436415131,\n",
       "     'percent_change_1h': -0.184770458185732,\n",
       "     'percent_change_24h': -0.465106601350493,\n",
       "     'percent_change_7d': 0.405878436415131}},\n",
       "   'last_updated': 1665306290}},\n",
       " 'metadata': {'timestamp': 1665306290,\n",
       "  'num_cryptocurrencies': 3116,\n",
       "  'error': None}}"
      ]
     },
     "execution_count": 6,
     "metadata": {},
     "output_type": "execute_result"
    }
   ],
   "source": [
    "#Load BTC price data into python dictionary using json.loads\n",
    "btc_price_data = json.loads(btc_price_fetch.content.decode('utf-8'))\n",
    "btc_price_data"
   ]
  },
  {
   "cell_type": "code",
   "execution_count": 7,
   "metadata": {},
   "outputs": [
    {
     "data": {
      "text/plain": [
       "19392.86"
      ]
     },
     "execution_count": 7,
     "metadata": {},
     "output_type": "execute_result"
    }
   ],
   "source": [
    "btc_current_price = btc_price_data['data']['1']['quotes']['USD']['price']\n",
    "btc_current_price"
   ]
  },
  {
   "cell_type": "code",
   "execution_count": 8,
   "metadata": {},
   "outputs": [
    {
     "data": {
      "text/plain": [
       "<Response [200]>"
      ]
     },
     "execution_count": 8,
     "metadata": {},
     "output_type": "execute_result"
    }
   ],
   "source": [
    "# Fetch current ETH price\n",
    "eth_price_fetch = requests.get(eth_url)\n",
    "eth_price_fetch"
   ]
  },
  {
   "cell_type": "code",
   "execution_count": 9,
   "metadata": {},
   "outputs": [
    {
     "data": {
      "text/plain": [
       "{'data': {'1027': {'id': 1027,\n",
       "   'name': 'Ethereum',\n",
       "   'symbol': 'ETH',\n",
       "   'website_slug': 'ethereum',\n",
       "   'rank': 2,\n",
       "   'circulating_supply': 120876639,\n",
       "   'total_supply': 120876639,\n",
       "   'max_supply': 120874867,\n",
       "   'quotes': {'USD': {'price': 1315.16,\n",
       "     'volume_24h': 4761373200,\n",
       "     'market_cap': 158988125028,\n",
       "     'percentage_change_1h': -0.0873122869438699,\n",
       "     'percentage_change_24h': -0.911952222033894,\n",
       "     'percentage_change_7d': 0.297457947780112,\n",
       "     'percent_change_1h': -0.0873122869438699,\n",
       "     'percent_change_24h': -0.911952222033894,\n",
       "     'percent_change_7d': 0.297457947780112}},\n",
       "   'last_updated': 1665306217}},\n",
       " 'metadata': {'timestamp': 1665306217,\n",
       "  'num_cryptocurrencies': 3116,\n",
       "  'error': None}}"
      ]
     },
     "execution_count": 9,
     "metadata": {},
     "output_type": "execute_result"
    }
   ],
   "source": [
    "#Load ETH price data into python dictionary using json.loads\n",
    "eth_price_data = json.loads(eth_price_fetch.content.decode('utf-8'))\n",
    "eth_price_data"
   ]
  },
  {
   "cell_type": "code",
   "execution_count": 10,
   "metadata": {},
   "outputs": [
    {
     "data": {
      "text/plain": [
       "1315.16"
      ]
     },
     "execution_count": 10,
     "metadata": {},
     "output_type": "execute_result"
    }
   ],
   "source": [
    "eth_current_price = eth_price_data['data']['1027']['quotes']['USD']['price']\n",
    "eth_current_price"
   ]
  },
  {
   "cell_type": "code",
   "execution_count": 11,
   "metadata": {},
   "outputs": [
    {
     "data": {
      "text/plain": [
       "(23271.432, 6970.348)"
      ]
     },
     "execution_count": 11,
     "metadata": {},
     "output_type": "execute_result"
    }
   ],
   "source": [
    "# Compute current value of my crpto\n",
    "my_btc_value = my_btc * btc_current_price\n",
    "my_eth_value = my_eth * eth_current_price\n",
    "my_btc_value, my_eth_value"
   ]
  },
  {
   "cell_type": "code",
   "execution_count": 12,
   "metadata": {},
   "outputs": [
    {
     "name": "stdout",
     "output_type": "stream",
     "text": [
      "The current value of your 1.2 BTC is $23,271.43\n",
      "The current value of your 5.3 ETH is $6,970.35\n"
     ]
    }
   ],
   "source": [
    "# Print current crypto wallet balance\n",
    "print(f\"The current value of your {my_btc} BTC is ${my_btc_value:,.2f}\")\n",
    "print(f\"The current value of your {my_eth} ETH is ${my_eth_value:,.2f}\")"
   ]
  },
  {
   "cell_type": "markdown",
   "metadata": {},
   "source": [
    "### Collect Investments Data Using Alpaca: `SPY` (stocks) and `AGG` (bonds)"
   ]
  },
  {
   "cell_type": "code",
   "execution_count": 13,
   "metadata": {},
   "outputs": [],
   "source": [
    "# Set current amount of shares\n",
    "my_agg = 200\n",
    "my_spy = 50"
   ]
  },
  {
   "cell_type": "code",
   "execution_count": 14,
   "metadata": {},
   "outputs": [],
   "source": [
    "# Set Alpaca API key and secret\n",
    "alpaca_api_key = os.getenv(\"ALPACA_API_KEY\")\n",
    "alpaca_secret_key = os.getenv(\"ALPACA_SECRET_KEY\")"
   ]
  },
  {
   "cell_type": "code",
   "execution_count": 15,
   "metadata": {},
   "outputs": [],
   "source": [
    "# Create the Alpaca API object\n",
    "alpaca_api = tradeapi.REST( alpaca_api_key,\n",
    "                            alpaca_secret_key,\n",
    "                            api_version = 'v2')"
   ]
  },
  {
   "cell_type": "code",
   "execution_count": 16,
   "metadata": {},
   "outputs": [
    {
     "data": {
      "text/plain": [
       "'2022-10-07T00:00:00-04:00'"
      ]
     },
     "execution_count": 16,
     "metadata": {},
     "output_type": "execute_result"
    }
   ],
   "source": [
    "# Format current date as ISO format\n",
    "current_date = pd.Timestamp('2022-10-07', tz = \"America/New_York\").isoformat()\n",
    "current_date"
   ]
  },
  {
   "cell_type": "code",
   "execution_count": 17,
   "metadata": {},
   "outputs": [],
   "source": [
    "# Set the tickers\n",
    "tickers = [\"AGG\", \"SPY\"]\n",
    "\n",
    "# Set timeframe to \"1Day\" for Alpaca API\n",
    "timeframe = \"1Day\""
   ]
  },
  {
   "cell_type": "code",
   "execution_count": 18,
   "metadata": {},
   "outputs": [
    {
     "data": {
      "text/html": [
       "<div>\n",
       "<style scoped>\n",
       "    .dataframe tbody tr th:only-of-type {\n",
       "        vertical-align: middle;\n",
       "    }\n",
       "\n",
       "    .dataframe tbody tr th {\n",
       "        vertical-align: top;\n",
       "    }\n",
       "\n",
       "    .dataframe thead th {\n",
       "        text-align: right;\n",
       "    }\n",
       "</style>\n",
       "<table border=\"1\" class=\"dataframe\">\n",
       "  <thead>\n",
       "    <tr style=\"text-align: right;\">\n",
       "      <th></th>\n",
       "      <th>open</th>\n",
       "      <th>high</th>\n",
       "      <th>low</th>\n",
       "      <th>close</th>\n",
       "      <th>volume</th>\n",
       "      <th>trade_count</th>\n",
       "      <th>vwap</th>\n",
       "      <th>symbol</th>\n",
       "    </tr>\n",
       "    <tr>\n",
       "      <th>timestamp</th>\n",
       "      <th></th>\n",
       "      <th></th>\n",
       "      <th></th>\n",
       "      <th></th>\n",
       "      <th></th>\n",
       "      <th></th>\n",
       "      <th></th>\n",
       "      <th></th>\n",
       "    </tr>\n",
       "  </thead>\n",
       "  <tbody>\n",
       "    <tr>\n",
       "      <th>2022-10-07 04:00:00+00:00</th>\n",
       "      <td>95.81</td>\n",
       "      <td>96.0100</td>\n",
       "      <td>95.68</td>\n",
       "      <td>95.77</td>\n",
       "      <td>6149309</td>\n",
       "      <td>18717</td>\n",
       "      <td>95.836813</td>\n",
       "      <td>AGG</td>\n",
       "    </tr>\n",
       "    <tr>\n",
       "      <th>2022-10-07 04:00:00+00:00</th>\n",
       "      <td>369.06</td>\n",
       "      <td>373.2933</td>\n",
       "      <td>360.94</td>\n",
       "      <td>362.79</td>\n",
       "      <td>107239188</td>\n",
       "      <td>665841</td>\n",
       "      <td>365.065822</td>\n",
       "      <td>SPY</td>\n",
       "    </tr>\n",
       "  </tbody>\n",
       "</table>\n",
       "</div>"
      ],
      "text/plain": [
       "                             open      high     low   close     volume  \\\n",
       "timestamp                                                                \n",
       "2022-10-07 04:00:00+00:00   95.81   96.0100   95.68   95.77    6149309   \n",
       "2022-10-07 04:00:00+00:00  369.06  373.2933  360.94  362.79  107239188   \n",
       "\n",
       "                           trade_count        vwap symbol  \n",
       "timestamp                                                  \n",
       "2022-10-07 04:00:00+00:00        18717   95.836813    AGG  \n",
       "2022-10-07 04:00:00+00:00       665841  365.065822    SPY  "
      ]
     },
     "execution_count": 18,
     "metadata": {},
     "output_type": "execute_result"
    }
   ],
   "source": [
    "# Get current closing prices for SPY and AGG\n",
    "df_stock_current = alpaca_api.get_bars(  tickers,\n",
    "                                         timeframe,\n",
    "                                         start = current_date,\n",
    "                                         end = current_date).df\n",
    "df_stock_current"
   ]
  },
  {
   "cell_type": "code",
   "execution_count": 19,
   "metadata": {},
   "outputs": [],
   "source": [
    "# Reorganize the DataFrame\n",
    "# Separate ticker data\n",
    "df_agg_current = df_stock_current[df_stock_current[\"symbol\"] == \"AGG\"].drop(\"symbol\", axis = 1)\n",
    "df_spy_current = df_stock_current[df_stock_current[\"symbol\"] == \"SPY\"].drop(\"symbol\", axis = 1)"
   ]
  },
  {
   "cell_type": "code",
   "execution_count": 20,
   "metadata": {},
   "outputs": [],
   "source": [
    "# Concatenate the ticker DataFrames\n",
    "df_stock_current = pd.concat([df_agg_current, df_spy_current], axis = 1, keys=[\"AGG\",\"SPY\"])"
   ]
  },
  {
   "cell_type": "code",
   "execution_count": 21,
   "metadata": {},
   "outputs": [
    {
     "data": {
      "text/html": [
       "<div>\n",
       "<style scoped>\n",
       "    .dataframe tbody tr th:only-of-type {\n",
       "        vertical-align: middle;\n",
       "    }\n",
       "\n",
       "    .dataframe tbody tr th {\n",
       "        vertical-align: top;\n",
       "    }\n",
       "\n",
       "    .dataframe thead tr th {\n",
       "        text-align: left;\n",
       "    }\n",
       "\n",
       "    .dataframe thead tr:last-of-type th {\n",
       "        text-align: right;\n",
       "    }\n",
       "</style>\n",
       "<table border=\"1\" class=\"dataframe\">\n",
       "  <thead>\n",
       "    <tr>\n",
       "      <th></th>\n",
       "      <th colspan=\"7\" halign=\"left\">AGG</th>\n",
       "      <th colspan=\"7\" halign=\"left\">SPY</th>\n",
       "    </tr>\n",
       "    <tr>\n",
       "      <th></th>\n",
       "      <th>open</th>\n",
       "      <th>high</th>\n",
       "      <th>low</th>\n",
       "      <th>close</th>\n",
       "      <th>volume</th>\n",
       "      <th>trade_count</th>\n",
       "      <th>vwap</th>\n",
       "      <th>open</th>\n",
       "      <th>high</th>\n",
       "      <th>low</th>\n",
       "      <th>close</th>\n",
       "      <th>volume</th>\n",
       "      <th>trade_count</th>\n",
       "      <th>vwap</th>\n",
       "    </tr>\n",
       "    <tr>\n",
       "      <th>timestamp</th>\n",
       "      <th></th>\n",
       "      <th></th>\n",
       "      <th></th>\n",
       "      <th></th>\n",
       "      <th></th>\n",
       "      <th></th>\n",
       "      <th></th>\n",
       "      <th></th>\n",
       "      <th></th>\n",
       "      <th></th>\n",
       "      <th></th>\n",
       "      <th></th>\n",
       "      <th></th>\n",
       "      <th></th>\n",
       "    </tr>\n",
       "  </thead>\n",
       "  <tbody>\n",
       "    <tr>\n",
       "      <th>2022-10-07 04:00:00+00:00</th>\n",
       "      <td>95.81</td>\n",
       "      <td>96.01</td>\n",
       "      <td>95.68</td>\n",
       "      <td>95.77</td>\n",
       "      <td>6149309</td>\n",
       "      <td>18717</td>\n",
       "      <td>95.836813</td>\n",
       "      <td>369.06</td>\n",
       "      <td>373.2933</td>\n",
       "      <td>360.94</td>\n",
       "      <td>362.79</td>\n",
       "      <td>107239188</td>\n",
       "      <td>665841</td>\n",
       "      <td>365.065822</td>\n",
       "    </tr>\n",
       "  </tbody>\n",
       "</table>\n",
       "</div>"
      ],
      "text/plain": [
       "                             AGG                                            \\\n",
       "                            open   high    low  close   volume trade_count   \n",
       "timestamp                                                                    \n",
       "2022-10-07 04:00:00+00:00  95.81  96.01  95.68  95.77  6149309       18717   \n",
       "\n",
       "                                         SPY                            \\\n",
       "                                vwap    open      high     low   close   \n",
       "timestamp                                                                \n",
       "2022-10-07 04:00:00+00:00  95.836813  369.06  373.2933  360.94  362.79   \n",
       "\n",
       "                                                              \n",
       "                              volume trade_count        vwap  \n",
       "timestamp                                                     \n",
       "2022-10-07 04:00:00+00:00  107239188      665841  365.065822  "
      ]
     },
     "execution_count": 21,
     "metadata": {},
     "output_type": "execute_result"
    }
   ],
   "source": [
    "# Preview DataFrame\n",
    "df_stock_current"
   ]
  },
  {
   "cell_type": "code",
   "execution_count": 22,
   "metadata": {},
   "outputs": [],
   "source": [
    "# Pick AGG and SPY close prices\n",
    "agg_close_price = df_stock_current[\"AGG\"][\"close\"].iloc[0]\n",
    "spy_close_price = df_stock_current[\"SPY\"][\"close\"].iloc[0]"
   ]
  },
  {
   "cell_type": "code",
   "execution_count": 23,
   "metadata": {},
   "outputs": [
    {
     "name": "stdout",
     "output_type": "stream",
     "text": [
      "Current AGG closing price: $95.77\n",
      "Current SPY closing price: $362.79\n"
     ]
    }
   ],
   "source": [
    "# Print AGG and SPY close prices\n",
    "print(f\"Current AGG closing price: ${agg_close_price}\")\n",
    "print(f\"Current SPY closing price: ${spy_close_price}\")"
   ]
  },
  {
   "cell_type": "code",
   "execution_count": 24,
   "metadata": {},
   "outputs": [],
   "source": [
    "# Compute the current value of shares\n",
    "my_agg_value = my_agg * agg_close_price\n",
    "my_spy_value = my_spy * spy_close_price"
   ]
  },
  {
   "cell_type": "code",
   "execution_count": 25,
   "metadata": {},
   "outputs": [
    {
     "name": "stdout",
     "output_type": "stream",
     "text": [
      "The current value of your 50 SPY shares is $18,139.50\n",
      "The current value of your 200 AGG bonds is $19,154.00\n"
     ]
    }
   ],
   "source": [
    "# Print current value of shares\n",
    "print(f\"The current value of your {my_spy} SPY shares is ${my_spy_value:,.2f}\")\n",
    "print(f\"The current value of your {my_agg} AGG bonds is ${my_agg_value:,.2f}\")"
   ]
  },
  {
   "cell_type": "markdown",
   "metadata": {},
   "source": [
    "### Savings Health Analysis"
   ]
  },
  {
   "cell_type": "code",
   "execution_count": 26,
   "metadata": {},
   "outputs": [],
   "source": [
    "# Set monthly household income\n",
    "monthly_income = 12000"
   ]
  },
  {
   "cell_type": "code",
   "execution_count": 27,
   "metadata": {},
   "outputs": [
    {
     "data": {
      "text/plain": [
       "(30241.78, 37293.5)"
      ]
     },
     "execution_count": 27,
     "metadata": {},
     "output_type": "execute_result"
    }
   ],
   "source": [
    "# Consolidate financial assets data\n",
    "total_crypto_value = my_btc_value + my_eth_value\n",
    "total_share_value = my_agg_value + my_spy_value\n",
    "total_crypto_value , total_share_value"
   ]
  },
  {
   "cell_type": "code",
   "execution_count": 28,
   "metadata": {},
   "outputs": [],
   "source": [
    "# Create savings DataFrame\n",
    "df_savings = pd.DataFrame([total_crypto_value, total_share_value], index=[\"crypto\", \"shares\"], columns = [\"amount\"])"
   ]
  },
  {
   "cell_type": "code",
   "execution_count": 29,
   "metadata": {},
   "outputs": [
    {
     "data": {
      "text/html": [
       "<div>\n",
       "<style scoped>\n",
       "    .dataframe tbody tr th:only-of-type {\n",
       "        vertical-align: middle;\n",
       "    }\n",
       "\n",
       "    .dataframe tbody tr th {\n",
       "        vertical-align: top;\n",
       "    }\n",
       "\n",
       "    .dataframe thead th {\n",
       "        text-align: right;\n",
       "    }\n",
       "</style>\n",
       "<table border=\"1\" class=\"dataframe\">\n",
       "  <thead>\n",
       "    <tr style=\"text-align: right;\">\n",
       "      <th></th>\n",
       "      <th>amount</th>\n",
       "    </tr>\n",
       "  </thead>\n",
       "  <tbody>\n",
       "    <tr>\n",
       "      <th>crypto</th>\n",
       "      <td>30241.78</td>\n",
       "    </tr>\n",
       "    <tr>\n",
       "      <th>shares</th>\n",
       "      <td>37293.50</td>\n",
       "    </tr>\n",
       "  </tbody>\n",
       "</table>\n",
       "</div>"
      ],
      "text/plain": [
       "          amount\n",
       "crypto  30241.78\n",
       "shares  37293.50"
      ]
     },
     "metadata": {},
     "output_type": "display_data"
    }
   ],
   "source": [
    "# Display savings DataFrame\n",
    "display(df_savings)"
   ]
  },
  {
   "cell_type": "code",
   "execution_count": 30,
   "metadata": {},
   "outputs": [
    {
     "data": {
      "text/plain": [
       "<AxesSubplot:title={'center':'Composition of personal savings'}, ylabel='amount'>"
      ]
     },
     "execution_count": 30,
     "metadata": {},
     "output_type": "execute_result"
    },
    {
     "data": {
      "image/png": "[encoded data removed]",
      "text/plain": [
       "<Figure size 432x432 with 1 Axes>"
      ]
     },
     "metadata": {},
     "output_type": "display_data"
    }
   ],
   "source": [
    "# Plot savings pie chart\n",
    "df_savings.plot.pie( y=\"amount\", autopct = '%1.2f%%', startangle = 90, figsize = (6,6), title = \"Composition of personal savings\")"
   ]
  },
  {
   "cell_type": "code",
   "execution_count": 31,
   "metadata": {},
   "outputs": [
    {
     "data": {
      "text/plain": [
       "36000"
      ]
     },
     "execution_count": 31,
     "metadata": {},
     "output_type": "execute_result"
    }
   ],
   "source": [
    "# Set ideal emergency fund\n",
    "emergency_fund = monthly_income * 3\n",
    "emergency_fund"
   ]
  },
  {
   "cell_type": "code",
   "execution_count": 32,
   "metadata": {},
   "outputs": [
    {
     "data": {
      "text/plain": [
       "67535.28"
      ]
     },
     "execution_count": 32,
     "metadata": {},
     "output_type": "execute_result"
    }
   ],
   "source": [
    "# Calculate total amount of savings\n",
    "total_savings = round(df_savings[\"amount\"].sum(),2)\n",
    "total_savings"
   ]
  },
  {
   "cell_type": "code",
   "execution_count": 33,
   "metadata": {},
   "outputs": [
    {
     "name": "stdout",
     "output_type": "stream",
     "text": [
      "Congratulation! Total savings are greater than the emergency fund. \n",
      "You have enough money in your fund.\n"
     ]
    }
   ],
   "source": [
    "# Validate saving health\n",
    "if total_savings == emergency_fund:\n",
    "    print (f\"Congratulation! Total savings are equal to emergency fund.\\n\" \n",
    "           f\"You have reached your financial goal having the ideal emergency fund.\")\n",
    "elif total_savings > emergency_fund:\n",
    "    print (f\"Congratulation! Total savings are greater than the emergency fund. \\n\"\n",
    "           f\"You have enough money in your fund.\")\n",
    "else:\n",
    "    gap =  emergency_fund - total_savings\n",
    "    print (f\"You are ${gap:,.2f} away from reaching your financial goal.\")"
   ]
  },
  {
   "cell_type": "markdown",
   "metadata": {},
   "source": [
    "## Part 2 - Retirement Planning\n",
    "\n",
    "### Monte Carlo Simulation"
   ]
  },
  {
   "cell_type": "code",
   "execution_count": 34,
   "metadata": {},
   "outputs": [],
   "source": [
    "# Set start and end dates of five years back from today.\n",
    "# Sample results may vary from the solution based on the time frame chosen\n",
    "start_date = pd.Timestamp('2015-10-07', tz='America/New_York').isoformat()\n",
    "end_date = pd.Timestamp('2022-10-07', tz='America/New_York').isoformat()"
   ]
  },
  {
   "cell_type": "code",
   "execution_count": 35,
   "metadata": {},
   "outputs": [],
   "source": [
    "# Get 5 years' worth of historical data for SPY and AGG\n",
    "df_stock_historical = alpaca_api.get_bars( tickers,\n",
    "                                           timeframe,\n",
    "                                           start = start_date,\n",
    "                                           end = end_date).df"
   ]
  },
  {
   "cell_type": "code",
   "execution_count": 36,
   "metadata": {},
   "outputs": [
    {
     "data": {
      "text/html": [
       "<div>\n",
       "<style scoped>\n",
       "    .dataframe tbody tr th:only-of-type {\n",
       "        vertical-align: middle;\n",
       "    }\n",
       "\n",
       "    .dataframe tbody tr th {\n",
       "        vertical-align: top;\n",
       "    }\n",
       "\n",
       "    .dataframe thead th {\n",
       "        text-align: right;\n",
       "    }\n",
       "</style>\n",
       "<table border=\"1\" class=\"dataframe\">\n",
       "  <thead>\n",
       "    <tr style=\"text-align: right;\">\n",
       "      <th></th>\n",
       "      <th>open</th>\n",
       "      <th>high</th>\n",
       "      <th>low</th>\n",
       "      <th>close</th>\n",
       "      <th>volume</th>\n",
       "      <th>trade_count</th>\n",
       "      <th>vwap</th>\n",
       "      <th>symbol</th>\n",
       "    </tr>\n",
       "    <tr>\n",
       "      <th>timestamp</th>\n",
       "      <th></th>\n",
       "      <th></th>\n",
       "      <th></th>\n",
       "      <th></th>\n",
       "      <th></th>\n",
       "      <th></th>\n",
       "      <th></th>\n",
       "      <th></th>\n",
       "    </tr>\n",
       "  </thead>\n",
       "  <tbody>\n",
       "    <tr>\n",
       "      <th>2015-12-01 05:00:00+00:00</th>\n",
       "      <td>108.54</td>\n",
       "      <td>108.8400</td>\n",
       "      <td>108.43</td>\n",
       "      <td>108.82</td>\n",
       "      <td>4259986</td>\n",
       "      <td>15562</td>\n",
       "      <td>108.754152</td>\n",
       "      <td>AGG</td>\n",
       "    </tr>\n",
       "    <tr>\n",
       "      <th>2015-12-02 05:00:00+00:00</th>\n",
       "      <td>108.73</td>\n",
       "      <td>108.7799</td>\n",
       "      <td>108.61</td>\n",
       "      <td>108.67</td>\n",
       "      <td>2462787</td>\n",
       "      <td>11581</td>\n",
       "      <td>108.684692</td>\n",
       "      <td>AGG</td>\n",
       "    </tr>\n",
       "    <tr>\n",
       "      <th>2015-12-03 05:00:00+00:00</th>\n",
       "      <td>108.41</td>\n",
       "      <td>108.4100</td>\n",
       "      <td>107.81</td>\n",
       "      <td>107.89</td>\n",
       "      <td>4634020</td>\n",
       "      <td>16801</td>\n",
       "      <td>108.040315</td>\n",
       "      <td>AGG</td>\n",
       "    </tr>\n",
       "    <tr>\n",
       "      <th>2015-12-04 05:00:00+00:00</th>\n",
       "      <td>108.05</td>\n",
       "      <td>108.3000</td>\n",
       "      <td>108.00</td>\n",
       "      <td>108.24</td>\n",
       "      <td>2182057</td>\n",
       "      <td>9796</td>\n",
       "      <td>108.192232</td>\n",
       "      <td>AGG</td>\n",
       "    </tr>\n",
       "    <tr>\n",
       "      <th>2015-12-07 05:00:00+00:00</th>\n",
       "      <td>108.30</td>\n",
       "      <td>108.5800</td>\n",
       "      <td>108.23</td>\n",
       "      <td>108.40</td>\n",
       "      <td>2143773</td>\n",
       "      <td>9104</td>\n",
       "      <td>108.460067</td>\n",
       "      <td>AGG</td>\n",
       "    </tr>\n",
       "  </tbody>\n",
       "</table>\n",
       "</div>"
      ],
      "text/plain": [
       "                             open      high     low   close   volume  \\\n",
       "timestamp                                                              \n",
       "2015-12-01 05:00:00+00:00  108.54  108.8400  108.43  108.82  4259986   \n",
       "2015-12-02 05:00:00+00:00  108.73  108.7799  108.61  108.67  2462787   \n",
       "2015-12-03 05:00:00+00:00  108.41  108.4100  107.81  107.89  4634020   \n",
       "2015-12-04 05:00:00+00:00  108.05  108.3000  108.00  108.24  2182057   \n",
       "2015-12-07 05:00:00+00:00  108.30  108.5800  108.23  108.40  2143773   \n",
       "\n",
       "                           trade_count        vwap symbol  \n",
       "timestamp                                                  \n",
       "2015-12-01 05:00:00+00:00        15562  108.754152    AGG  \n",
       "2015-12-02 05:00:00+00:00        11581  108.684692    AGG  \n",
       "2015-12-03 05:00:00+00:00        16801  108.040315    AGG  \n",
       "2015-12-04 05:00:00+00:00         9796  108.192232    AGG  \n",
       "2015-12-07 05:00:00+00:00         9104  108.460067    AGG  "
      ]
     },
     "execution_count": 36,
     "metadata": {},
     "output_type": "execute_result"
    }
   ],
   "source": [
    "df_stock_historical.head()"
   ]
  },
  {
   "cell_type": "code",
   "execution_count": 37,
   "metadata": {},
   "outputs": [],
   "source": [
    "# Reorganize the DataFrame\n",
    "# Separate ticker data\n",
    "df_agg_historical=  df_stock_historical[df_stock_historical[\"symbol\"] == \"AGG\"].drop(\"symbol\", axis = 1)\n",
    "df_spy_historical =  df_stock_historical[df_stock_historical[\"symbol\"] == \"SPY\"].drop(\"symbol\", axis = 1)"
   ]
  },
  {
   "cell_type": "code",
   "execution_count": 38,
   "metadata": {},
   "outputs": [],
   "source": [
    "# Concatenate the ticker DataFrames\n",
    "df_stock_data = pd.concat([df_agg_historical, df_spy_historical], axis = 1, keys=[\"AGG\",\"SPY\"])"
   ]
  },
  {
   "cell_type": "code",
   "execution_count": 39,
   "metadata": {},
   "outputs": [],
   "source": [
    "#remove timestamp from index\n",
    "df_stock_data.index = df_stock_data.index.date"
   ]
  },
  {
   "cell_type": "code",
   "execution_count": 40,
   "metadata": {},
   "outputs": [
    {
     "data": {
      "text/html": [
       "<div>\n",
       "<style scoped>\n",
       "    .dataframe tbody tr th:only-of-type {\n",
       "        vertical-align: middle;\n",
       "    }\n",
       "\n",
       "    .dataframe tbody tr th {\n",
       "        vertical-align: top;\n",
       "    }\n",
       "\n",
       "    .dataframe thead tr th {\n",
       "        text-align: left;\n",
       "    }\n",
       "</style>\n",
       "<table border=\"1\" class=\"dataframe\">\n",
       "  <thead>\n",
       "    <tr>\n",
       "      <th></th>\n",
       "      <th colspan=\"7\" halign=\"left\">AGG</th>\n",
       "      <th colspan=\"7\" halign=\"left\">SPY</th>\n",
       "    </tr>\n",
       "    <tr>\n",
       "      <th></th>\n",
       "      <th>open</th>\n",
       "      <th>high</th>\n",
       "      <th>low</th>\n",
       "      <th>close</th>\n",
       "      <th>volume</th>\n",
       "      <th>trade_count</th>\n",
       "      <th>vwap</th>\n",
       "      <th>open</th>\n",
       "      <th>high</th>\n",
       "      <th>low</th>\n",
       "      <th>close</th>\n",
       "      <th>volume</th>\n",
       "      <th>trade_count</th>\n",
       "      <th>vwap</th>\n",
       "    </tr>\n",
       "  </thead>\n",
       "  <tbody>\n",
       "    <tr>\n",
       "      <th>2015-12-01</th>\n",
       "      <td>108.54</td>\n",
       "      <td>108.8400</td>\n",
       "      <td>108.43</td>\n",
       "      <td>108.82</td>\n",
       "      <td>4259986</td>\n",
       "      <td>15562</td>\n",
       "      <td>108.754152</td>\n",
       "      <td>209.42</td>\n",
       "      <td>210.8200</td>\n",
       "      <td>209.1100</td>\n",
       "      <td>210.68</td>\n",
       "      <td>97858418</td>\n",
       "      <td>337780</td>\n",
       "      <td>209.921410</td>\n",
       "    </tr>\n",
       "    <tr>\n",
       "      <th>2015-12-02</th>\n",
       "      <td>108.73</td>\n",
       "      <td>108.7799</td>\n",
       "      <td>108.61</td>\n",
       "      <td>108.67</td>\n",
       "      <td>2462787</td>\n",
       "      <td>11581</td>\n",
       "      <td>108.684692</td>\n",
       "      <td>210.60</td>\n",
       "      <td>211.0000</td>\n",
       "      <td>208.2300</td>\n",
       "      <td>208.54</td>\n",
       "      <td>108069059</td>\n",
       "      <td>367013</td>\n",
       "      <td>209.563055</td>\n",
       "    </tr>\n",
       "    <tr>\n",
       "      <th>2015-12-03</th>\n",
       "      <td>108.41</td>\n",
       "      <td>108.4100</td>\n",
       "      <td>107.81</td>\n",
       "      <td>107.89</td>\n",
       "      <td>4634020</td>\n",
       "      <td>16801</td>\n",
       "      <td>108.040315</td>\n",
       "      <td>208.90</td>\n",
       "      <td>209.1500</td>\n",
       "      <td>204.7511</td>\n",
       "      <td>205.58</td>\n",
       "      <td>166224154</td>\n",
       "      <td>546768</td>\n",
       "      <td>206.878936</td>\n",
       "    </tr>\n",
       "    <tr>\n",
       "      <th>2015-12-04</th>\n",
       "      <td>108.05</td>\n",
       "      <td>108.3000</td>\n",
       "      <td>108.00</td>\n",
       "      <td>108.24</td>\n",
       "      <td>2182057</td>\n",
       "      <td>9796</td>\n",
       "      <td>108.192232</td>\n",
       "      <td>206.10</td>\n",
       "      <td>209.9700</td>\n",
       "      <td>205.9300</td>\n",
       "      <td>209.66</td>\n",
       "      <td>192878747</td>\n",
       "      <td>556731</td>\n",
       "      <td>208.178631</td>\n",
       "    </tr>\n",
       "    <tr>\n",
       "      <th>2015-12-07</th>\n",
       "      <td>108.30</td>\n",
       "      <td>108.5800</td>\n",
       "      <td>108.23</td>\n",
       "      <td>108.40</td>\n",
       "      <td>2143773</td>\n",
       "      <td>9104</td>\n",
       "      <td>108.460067</td>\n",
       "      <td>209.20</td>\n",
       "      <td>209.7295</td>\n",
       "      <td>207.2000</td>\n",
       "      <td>208.27</td>\n",
       "      <td>102027111</td>\n",
       "      <td>374705</td>\n",
       "      <td>208.276128</td>\n",
       "    </tr>\n",
       "  </tbody>\n",
       "</table>\n",
       "</div>"
      ],
      "text/plain": [
       "               AGG                                                             \\\n",
       "              open      high     low   close   volume trade_count        vwap   \n",
       "2015-12-01  108.54  108.8400  108.43  108.82  4259986       15562  108.754152   \n",
       "2015-12-02  108.73  108.7799  108.61  108.67  2462787       11581  108.684692   \n",
       "2015-12-03  108.41  108.4100  107.81  107.89  4634020       16801  108.040315   \n",
       "2015-12-04  108.05  108.3000  108.00  108.24  2182057        9796  108.192232   \n",
       "2015-12-07  108.30  108.5800  108.23  108.40  2143773        9104  108.460067   \n",
       "\n",
       "               SPY                                                     \\\n",
       "              open      high       low   close     volume trade_count   \n",
       "2015-12-01  209.42  210.8200  209.1100  210.68   97858418      337780   \n",
       "2015-12-02  210.60  211.0000  208.2300  208.54  108069059      367013   \n",
       "2015-12-03  208.90  209.1500  204.7511  205.58  166224154      546768   \n",
       "2015-12-04  206.10  209.9700  205.9300  209.66  192878747      556731   \n",
       "2015-12-07  209.20  209.7295  207.2000  208.27  102027111      374705   \n",
       "\n",
       "                        \n",
       "                  vwap  \n",
       "2015-12-01  209.921410  \n",
       "2015-12-02  209.563055  \n",
       "2015-12-03  206.878936  \n",
       "2015-12-04  208.178631  \n",
       "2015-12-07  208.276128  "
      ]
     },
     "execution_count": 40,
     "metadata": {},
     "output_type": "execute_result"
    }
   ],
   "source": [
    "# Display sample data\n",
    "df_stock_data.head()"
   ]
  },
  {
   "cell_type": "code",
   "execution_count": 41,
   "metadata": {},
   "outputs": [],
   "source": [
    "#drop unused columns\n",
    "drop_columns = [\"open\",\"high\",\"low\",\"volume\",\"trade_count\", \"vwap\"]\n",
    "\n",
    "for x in tickers:\n",
    "    for y in drop_columns:\n",
    "        df_stock_data.drop(columns = (x,y), inplace = True)"
   ]
  },
  {
   "cell_type": "code",
   "execution_count": 42,
   "metadata": {},
   "outputs": [],
   "source": [
    "# Configuring a Monte Carlo simulation to forecast 30 years cumulative returns\n",
    "# assume 252 trading days in a year. 30 years means 7560 trading days (30 x 252)\n",
    "# set weight 40% bond AGG and 60% stock SPY\n",
    "MC_Y30 = MCSimulation(portfolio_data = df_stock_data,\n",
    "                      weights = [0.40, 0.60],\n",
    "                      num_simulation = 500 ,\n",
    "                      num_trading_days = 252*30\n",
    "                      )"
   ]
  },
  {
   "cell_type": "code",
   "execution_count": 43,
   "metadata": {},
   "outputs": [
    {
     "data": {
      "text/html": [
       "<div>\n",
       "<style scoped>\n",
       "    .dataframe tbody tr th:only-of-type {\n",
       "        vertical-align: middle;\n",
       "    }\n",
       "\n",
       "    .dataframe tbody tr th {\n",
       "        vertical-align: top;\n",
       "    }\n",
       "\n",
       "    .dataframe thead tr th {\n",
       "        text-align: left;\n",
       "    }\n",
       "</style>\n",
       "<table border=\"1\" class=\"dataframe\">\n",
       "  <thead>\n",
       "    <tr>\n",
       "      <th></th>\n",
       "      <th colspan=\"2\" halign=\"left\">AGG</th>\n",
       "      <th colspan=\"2\" halign=\"left\">SPY</th>\n",
       "    </tr>\n",
       "    <tr>\n",
       "      <th></th>\n",
       "      <th>close</th>\n",
       "      <th>daily_return</th>\n",
       "      <th>close</th>\n",
       "      <th>daily_return</th>\n",
       "    </tr>\n",
       "  </thead>\n",
       "  <tbody>\n",
       "    <tr>\n",
       "      <th>2015-12-01</th>\n",
       "      <td>108.82</td>\n",
       "      <td>NaN</td>\n",
       "      <td>210.68</td>\n",
       "      <td>NaN</td>\n",
       "    </tr>\n",
       "    <tr>\n",
       "      <th>2015-12-02</th>\n",
       "      <td>108.67</td>\n",
       "      <td>-0.001378</td>\n",
       "      <td>208.54</td>\n",
       "      <td>-0.010158</td>\n",
       "    </tr>\n",
       "    <tr>\n",
       "      <th>2015-12-03</th>\n",
       "      <td>107.89</td>\n",
       "      <td>-0.007178</td>\n",
       "      <td>205.58</td>\n",
       "      <td>-0.014194</td>\n",
       "    </tr>\n",
       "    <tr>\n",
       "      <th>2015-12-04</th>\n",
       "      <td>108.24</td>\n",
       "      <td>0.003244</td>\n",
       "      <td>209.66</td>\n",
       "      <td>0.019846</td>\n",
       "    </tr>\n",
       "    <tr>\n",
       "      <th>2015-12-07</th>\n",
       "      <td>108.40</td>\n",
       "      <td>0.001478</td>\n",
       "      <td>208.27</td>\n",
       "      <td>-0.006630</td>\n",
       "    </tr>\n",
       "  </tbody>\n",
       "</table>\n",
       "</div>"
      ],
      "text/plain": [
       "               AGG                  SPY             \n",
       "             close daily_return   close daily_return\n",
       "2015-12-01  108.82          NaN  210.68          NaN\n",
       "2015-12-02  108.67    -0.001378  208.54    -0.010158\n",
       "2015-12-03  107.89    -0.007178  205.58    -0.014194\n",
       "2015-12-04  108.24     0.003244  209.66     0.019846\n",
       "2015-12-07  108.40     0.001478  208.27    -0.006630"
      ]
     },
     "execution_count": 43,
     "metadata": {},
     "output_type": "execute_result"
    }
   ],
   "source": [
    "# Printing the simulation input data\n",
    "MC_Y30.portfolio_data.head()"
   ]
  },
  {
   "cell_type": "code",
   "execution_count": 44,
   "metadata": {},
   "outputs": [
    {
     "name": "stdout",
     "output_type": "stream",
     "text": [
      "Running Monte Carlo simulation number 0.\n",
      "Running Monte Carlo simulation number 10.\n",
      "Running Monte Carlo simulation number 20.\n",
      "Running Monte Carlo simulation number 30.\n",
      "Running Monte Carlo simulation number 40.\n",
      "Running Monte Carlo simulation number 50.\n",
      "Running Monte Carlo simulation number 60.\n",
      "Running Monte Carlo simulation number 70.\n",
      "Running Monte Carlo simulation number 80.\n",
      "Running Monte Carlo simulation number 90.\n",
      "Running Monte Carlo simulation number 100.\n"
     ]
    },
    {
     "name": "stderr",
     "output_type": "stream",
     "text": [
      "C:\\Users\\twigi\\FTBC\\W5_Assignment\\APIs-homework\\MCForecastTools.py:117: PerformanceWarning: DataFrame is highly fragmented.  This is usually the result of calling `frame.insert` many times, which has poor performance.  Consider joining all columns at once using pd.concat(axis=1) instead.  To get a de-fragmented frame, use `newframe = frame.copy()`\n",
      "  portfolio_cumulative_returns[n] = (1 + sim_df.fillna(0)).cumprod()\n"
     ]
    },
    {
     "name": "stdout",
     "output_type": "stream",
     "text": [
      "Running Monte Carlo simulation number 110.\n",
      "Running Monte Carlo simulation number 120.\n",
      "Running Monte Carlo simulation number 130.\n",
      "Running Monte Carlo simulation number 140.\n",
      "Running Monte Carlo simulation number 150.\n",
      "Running Monte Carlo simulation number 160.\n",
      "Running Monte Carlo simulation number 170.\n",
      "Running Monte Carlo simulation number 180.\n",
      "Running Monte Carlo simulation number 190.\n",
      "Running Monte Carlo simulation number 200.\n",
      "Running Monte Carlo simulation number 210.\n",
      "Running Monte Carlo simulation number 220.\n",
      "Running Monte Carlo simulation number 230.\n",
      "Running Monte Carlo simulation number 240.\n",
      "Running Monte Carlo simulation number 250.\n",
      "Running Monte Carlo simulation number 260.\n",
      "Running Monte Carlo simulation number 270.\n",
      "Running Monte Carlo simulation number 280.\n",
      "Running Monte Carlo simulation number 290.\n",
      "Running Monte Carlo simulation number 300.\n",
      "Running Monte Carlo simulation number 310.\n",
      "Running Monte Carlo simulation number 320.\n",
      "Running Monte Carlo simulation number 330.\n",
      "Running Monte Carlo simulation number 340.\n",
      "Running Monte Carlo simulation number 350.\n",
      "Running Monte Carlo simulation number 360.\n",
      "Running Monte Carlo simulation number 370.\n",
      "Running Monte Carlo simulation number 380.\n",
      "Running Monte Carlo simulation number 390.\n",
      "Running Monte Carlo simulation number 400.\n",
      "Running Monte Carlo simulation number 410.\n",
      "Running Monte Carlo simulation number 420.\n",
      "Running Monte Carlo simulation number 430.\n",
      "Running Monte Carlo simulation number 440.\n",
      "Running Monte Carlo simulation number 450.\n",
      "Running Monte Carlo simulation number 460.\n",
      "Running Monte Carlo simulation number 470.\n",
      "Running Monte Carlo simulation number 480.\n",
      "Running Monte Carlo simulation number 490.\n"
     ]
    },
    {
     "data": {
      "text/html": [
       "<div>\n",
       "<style scoped>\n",
       "    .dataframe tbody tr th:only-of-type {\n",
       "        vertical-align: middle;\n",
       "    }\n",
       "\n",
       "    .dataframe tbody tr th {\n",
       "        vertical-align: top;\n",
       "    }\n",
       "\n",
       "    .dataframe thead th {\n",
       "        text-align: right;\n",
       "    }\n",
       "</style>\n",
       "<table border=\"1\" class=\"dataframe\">\n",
       "  <thead>\n",
       "    <tr style=\"text-align: right;\">\n",
       "      <th></th>\n",
       "      <th>0</th>\n",
       "      <th>1</th>\n",
       "      <th>2</th>\n",
       "      <th>3</th>\n",
       "      <th>4</th>\n",
       "      <th>5</th>\n",
       "      <th>6</th>\n",
       "      <th>7</th>\n",
       "      <th>8</th>\n",
       "      <th>9</th>\n",
       "      <th>...</th>\n",
       "      <th>490</th>\n",
       "      <th>491</th>\n",
       "      <th>492</th>\n",
       "      <th>493</th>\n",
       "      <th>494</th>\n",
       "      <th>495</th>\n",
       "      <th>496</th>\n",
       "      <th>497</th>\n",
       "      <th>498</th>\n",
       "      <th>499</th>\n",
       "    </tr>\n",
       "  </thead>\n",
       "  <tbody>\n",
       "    <tr>\n",
       "      <th>0</th>\n",
       "      <td>1.000000</td>\n",
       "      <td>1.000000</td>\n",
       "      <td>1.000000</td>\n",
       "      <td>1.000000</td>\n",
       "      <td>1.000000</td>\n",
       "      <td>1.000000</td>\n",
       "      <td>1.000000</td>\n",
       "      <td>1.000000</td>\n",
       "      <td>1.000000</td>\n",
       "      <td>1.000000</td>\n",
       "      <td>...</td>\n",
       "      <td>1.000000</td>\n",
       "      <td>1.000000</td>\n",
       "      <td>1.000000</td>\n",
       "      <td>1.000000</td>\n",
       "      <td>1.000000</td>\n",
       "      <td>1.000000</td>\n",
       "      <td>1.000000</td>\n",
       "      <td>1.000000</td>\n",
       "      <td>1.000000</td>\n",
       "      <td>1.000000</td>\n",
       "    </tr>\n",
       "    <tr>\n",
       "      <th>1</th>\n",
       "      <td>1.006126</td>\n",
       "      <td>0.992865</td>\n",
       "      <td>0.991021</td>\n",
       "      <td>1.002654</td>\n",
       "      <td>1.008309</td>\n",
       "      <td>1.000475</td>\n",
       "      <td>0.988728</td>\n",
       "      <td>1.005709</td>\n",
       "      <td>1.005250</td>\n",
       "      <td>0.989822</td>\n",
       "      <td>...</td>\n",
       "      <td>0.986735</td>\n",
       "      <td>1.001109</td>\n",
       "      <td>0.998275</td>\n",
       "      <td>0.992221</td>\n",
       "      <td>0.992663</td>\n",
       "      <td>1.000075</td>\n",
       "      <td>0.992238</td>\n",
       "      <td>0.981865</td>\n",
       "      <td>1.002586</td>\n",
       "      <td>0.999327</td>\n",
       "    </tr>\n",
       "    <tr>\n",
       "      <th>2</th>\n",
       "      <td>1.002590</td>\n",
       "      <td>0.991226</td>\n",
       "      <td>0.990733</td>\n",
       "      <td>1.000975</td>\n",
       "      <td>1.007245</td>\n",
       "      <td>0.995263</td>\n",
       "      <td>0.988127</td>\n",
       "      <td>1.001941</td>\n",
       "      <td>1.003738</td>\n",
       "      <td>0.991476</td>\n",
       "      <td>...</td>\n",
       "      <td>0.984393</td>\n",
       "      <td>0.998359</td>\n",
       "      <td>1.000204</td>\n",
       "      <td>0.999344</td>\n",
       "      <td>0.977713</td>\n",
       "      <td>0.989431</td>\n",
       "      <td>0.985199</td>\n",
       "      <td>0.976142</td>\n",
       "      <td>1.000155</td>\n",
       "      <td>0.991489</td>\n",
       "    </tr>\n",
       "    <tr>\n",
       "      <th>3</th>\n",
       "      <td>1.009505</td>\n",
       "      <td>1.001739</td>\n",
       "      <td>0.995425</td>\n",
       "      <td>0.998311</td>\n",
       "      <td>0.998799</td>\n",
       "      <td>0.992288</td>\n",
       "      <td>0.983368</td>\n",
       "      <td>1.010506</td>\n",
       "      <td>0.997570</td>\n",
       "      <td>0.994300</td>\n",
       "      <td>...</td>\n",
       "      <td>0.978891</td>\n",
       "      <td>1.002717</td>\n",
       "      <td>1.009782</td>\n",
       "      <td>1.008093</td>\n",
       "      <td>0.979030</td>\n",
       "      <td>1.002894</td>\n",
       "      <td>0.984114</td>\n",
       "      <td>0.970179</td>\n",
       "      <td>1.009820</td>\n",
       "      <td>0.992394</td>\n",
       "    </tr>\n",
       "    <tr>\n",
       "      <th>4</th>\n",
       "      <td>1.017235</td>\n",
       "      <td>1.012208</td>\n",
       "      <td>0.989117</td>\n",
       "      <td>0.990825</td>\n",
       "      <td>0.995003</td>\n",
       "      <td>0.995849</td>\n",
       "      <td>0.989081</td>\n",
       "      <td>1.028543</td>\n",
       "      <td>0.996022</td>\n",
       "      <td>0.990576</td>\n",
       "      <td>...</td>\n",
       "      <td>0.975249</td>\n",
       "      <td>1.001841</td>\n",
       "      <td>1.024838</td>\n",
       "      <td>1.009171</td>\n",
       "      <td>0.974744</td>\n",
       "      <td>0.998982</td>\n",
       "      <td>0.990753</td>\n",
       "      <td>0.965427</td>\n",
       "      <td>1.011410</td>\n",
       "      <td>0.984274</td>\n",
       "    </tr>\n",
       "    <tr>\n",
       "      <th>...</th>\n",
       "      <td>...</td>\n",
       "      <td>...</td>\n",
       "      <td>...</td>\n",
       "      <td>...</td>\n",
       "      <td>...</td>\n",
       "      <td>...</td>\n",
       "      <td>...</td>\n",
       "      <td>...</td>\n",
       "      <td>...</td>\n",
       "      <td>...</td>\n",
       "      <td>...</td>\n",
       "      <td>...</td>\n",
       "      <td>...</td>\n",
       "      <td>...</td>\n",
       "      <td>...</td>\n",
       "      <td>...</td>\n",
       "      <td>...</td>\n",
       "      <td>...</td>\n",
       "      <td>...</td>\n",
       "      <td>...</td>\n",
       "      <td>...</td>\n",
       "    </tr>\n",
       "    <tr>\n",
       "      <th>7556</th>\n",
       "      <td>3.609397</td>\n",
       "      <td>5.703508</td>\n",
       "      <td>4.930732</td>\n",
       "      <td>9.873640</td>\n",
       "      <td>5.761380</td>\n",
       "      <td>6.445841</td>\n",
       "      <td>4.277819</td>\n",
       "      <td>9.289877</td>\n",
       "      <td>1.853943</td>\n",
       "      <td>1.952225</td>\n",
       "      <td>...</td>\n",
       "      <td>2.023903</td>\n",
       "      <td>2.249910</td>\n",
       "      <td>2.191635</td>\n",
       "      <td>2.714303</td>\n",
       "      <td>1.597091</td>\n",
       "      <td>7.992170</td>\n",
       "      <td>3.102498</td>\n",
       "      <td>6.326185</td>\n",
       "      <td>2.236685</td>\n",
       "      <td>3.289736</td>\n",
       "    </tr>\n",
       "    <tr>\n",
       "      <th>7557</th>\n",
       "      <td>3.569649</td>\n",
       "      <td>5.724192</td>\n",
       "      <td>4.977528</td>\n",
       "      <td>9.872515</td>\n",
       "      <td>5.719520</td>\n",
       "      <td>6.461713</td>\n",
       "      <td>4.226700</td>\n",
       "      <td>9.146986</td>\n",
       "      <td>1.860314</td>\n",
       "      <td>1.975766</td>\n",
       "      <td>...</td>\n",
       "      <td>2.042186</td>\n",
       "      <td>2.260267</td>\n",
       "      <td>2.194473</td>\n",
       "      <td>2.711919</td>\n",
       "      <td>1.599448</td>\n",
       "      <td>7.954034</td>\n",
       "      <td>3.101891</td>\n",
       "      <td>6.352364</td>\n",
       "      <td>2.245593</td>\n",
       "      <td>3.312927</td>\n",
       "    </tr>\n",
       "    <tr>\n",
       "      <th>7558</th>\n",
       "      <td>3.583867</td>\n",
       "      <td>5.761697</td>\n",
       "      <td>4.983451</td>\n",
       "      <td>9.887862</td>\n",
       "      <td>5.801388</td>\n",
       "      <td>6.411441</td>\n",
       "      <td>4.214784</td>\n",
       "      <td>9.199100</td>\n",
       "      <td>1.860875</td>\n",
       "      <td>1.988366</td>\n",
       "      <td>...</td>\n",
       "      <td>2.018667</td>\n",
       "      <td>2.274442</td>\n",
       "      <td>2.188981</td>\n",
       "      <td>2.723132</td>\n",
       "      <td>1.590037</td>\n",
       "      <td>7.951584</td>\n",
       "      <td>3.115859</td>\n",
       "      <td>6.356551</td>\n",
       "      <td>2.220361</td>\n",
       "      <td>3.325666</td>\n",
       "    </tr>\n",
       "    <tr>\n",
       "      <th>7559</th>\n",
       "      <td>3.569314</td>\n",
       "      <td>5.753080</td>\n",
       "      <td>5.008041</td>\n",
       "      <td>9.883515</td>\n",
       "      <td>5.757169</td>\n",
       "      <td>6.377834</td>\n",
       "      <td>4.235258</td>\n",
       "      <td>9.196691</td>\n",
       "      <td>1.848395</td>\n",
       "      <td>2.024896</td>\n",
       "      <td>...</td>\n",
       "      <td>2.014366</td>\n",
       "      <td>2.301110</td>\n",
       "      <td>2.206247</td>\n",
       "      <td>2.699791</td>\n",
       "      <td>1.591911</td>\n",
       "      <td>8.012264</td>\n",
       "      <td>3.080375</td>\n",
       "      <td>6.381219</td>\n",
       "      <td>2.226879</td>\n",
       "      <td>3.304967</td>\n",
       "    </tr>\n",
       "    <tr>\n",
       "      <th>7560</th>\n",
       "      <td>3.582395</td>\n",
       "      <td>5.681146</td>\n",
       "      <td>4.996572</td>\n",
       "      <td>9.892920</td>\n",
       "      <td>5.756104</td>\n",
       "      <td>6.395546</td>\n",
       "      <td>4.188074</td>\n",
       "      <td>9.357361</td>\n",
       "      <td>1.833705</td>\n",
       "      <td>2.011302</td>\n",
       "      <td>...</td>\n",
       "      <td>2.004695</td>\n",
       "      <td>2.298703</td>\n",
       "      <td>2.191136</td>\n",
       "      <td>2.733097</td>\n",
       "      <td>1.584441</td>\n",
       "      <td>7.912824</td>\n",
       "      <td>3.103681</td>\n",
       "      <td>6.390999</td>\n",
       "      <td>2.222644</td>\n",
       "      <td>3.320830</td>\n",
       "    </tr>\n",
       "  </tbody>\n",
       "</table>\n",
       "<p>7561 rows × 500 columns</p>\n",
       "</div>"
      ],
      "text/plain": [
       "           0         1         2         3         4         5         6    \\\n",
       "0     1.000000  1.000000  1.000000  1.000000  1.000000  1.000000  1.000000   \n",
       "1     1.006126  0.992865  0.991021  1.002654  1.008309  1.000475  0.988728   \n",
       "2     1.002590  0.991226  0.990733  1.000975  1.007245  0.995263  0.988127   \n",
       "3     1.009505  1.001739  0.995425  0.998311  0.998799  0.992288  0.983368   \n",
       "4     1.017235  1.012208  0.989117  0.990825  0.995003  0.995849  0.989081   \n",
       "...        ...       ...       ...       ...       ...       ...       ...   \n",
       "7556  3.609397  5.703508  4.930732  9.873640  5.761380  6.445841  4.277819   \n",
       "7557  3.569649  5.724192  4.977528  9.872515  5.719520  6.461713  4.226700   \n",
       "7558  3.583867  5.761697  4.983451  9.887862  5.801388  6.411441  4.214784   \n",
       "7559  3.569314  5.753080  5.008041  9.883515  5.757169  6.377834  4.235258   \n",
       "7560  3.582395  5.681146  4.996572  9.892920  5.756104  6.395546  4.188074   \n",
       "\n",
       "           7         8         9    ...       490       491       492  \\\n",
       "0     1.000000  1.000000  1.000000  ...  1.000000  1.000000  1.000000   \n",
       "1     1.005709  1.005250  0.989822  ...  0.986735  1.001109  0.998275   \n",
       "2     1.001941  1.003738  0.991476  ...  0.984393  0.998359  1.000204   \n",
       "3     1.010506  0.997570  0.994300  ...  0.978891  1.002717  1.009782   \n",
       "4     1.028543  0.996022  0.990576  ...  0.975249  1.001841  1.024838   \n",
       "...        ...       ...       ...  ...       ...       ...       ...   \n",
       "7556  9.289877  1.853943  1.952225  ...  2.023903  2.249910  2.191635   \n",
       "7557  9.146986  1.860314  1.975766  ...  2.042186  2.260267  2.194473   \n",
       "7558  9.199100  1.860875  1.988366  ...  2.018667  2.274442  2.188981   \n",
       "7559  9.196691  1.848395  2.024896  ...  2.014366  2.301110  2.206247   \n",
       "7560  9.357361  1.833705  2.011302  ...  2.004695  2.298703  2.191136   \n",
       "\n",
       "           493       494       495       496       497       498       499  \n",
       "0     1.000000  1.000000  1.000000  1.000000  1.000000  1.000000  1.000000  \n",
       "1     0.992221  0.992663  1.000075  0.992238  0.981865  1.002586  0.999327  \n",
       "2     0.999344  0.977713  0.989431  0.985199  0.976142  1.000155  0.991489  \n",
       "3     1.008093  0.979030  1.002894  0.984114  0.970179  1.009820  0.992394  \n",
       "4     1.009171  0.974744  0.998982  0.990753  0.965427  1.011410  0.984274  \n",
       "...        ...       ...       ...       ...       ...       ...       ...  \n",
       "7556  2.714303  1.597091  7.992170  3.102498  6.326185  2.236685  3.289736  \n",
       "7557  2.711919  1.599448  7.954034  3.101891  6.352364  2.245593  3.312927  \n",
       "7558  2.723132  1.590037  7.951584  3.115859  6.356551  2.220361  3.325666  \n",
       "7559  2.699791  1.591911  8.012264  3.080375  6.381219  2.226879  3.304967  \n",
       "7560  2.733097  1.584441  7.912824  3.103681  6.390999  2.222644  3.320830  \n",
       "\n",
       "[7561 rows x 500 columns]"
      ]
     },
     "execution_count": 44,
     "metadata": {},
     "output_type": "execute_result"
    }
   ],
   "source": [
    "# Running a Monte Carlo simulation to forecast 30 years cumulative returns\n",
    "MC_Y30.calc_cumulative_return()"
   ]
  },
  {
   "cell_type": "code",
   "execution_count": 45,
   "metadata": {},
   "outputs": [
    {
     "data": {
      "text/plain": [
       "<AxesSubplot:title={'center':'500 Simulations of Cumulative Portfolio Return Trajectories Over the Next 7560 Trading Days.'}>"
      ]
     },
     "execution_count": 45,
     "metadata": {},
     "output_type": "execute_result"
    },
    {
     "data": {
      "image/png": "[encoded data removed]",
      "text/plain": [
       "<Figure size 432x288 with 1 Axes>"
      ]
     },
     "metadata": {
      "needs_background": "light"
     },
     "output_type": "display_data"
    }
   ],
   "source": [
    "# Plot simulation outcomes\n",
    "MC_Y30.plot_simulation()"
   ]
  },
  {
   "cell_type": "code",
   "execution_count": 46,
   "metadata": {},
   "outputs": [
    {
     "data": {
      "text/plain": [
       "<AxesSubplot:title={'center':'Distribution of Final Cumuluative Returns Across All 500 Simulations'}, ylabel='Frequency'>"
      ]
     },
     "execution_count": 46,
     "metadata": {},
     "output_type": "execute_result"
    },
    {
     "data": {
      "image/png": "[encoded data removed]",
      "text/plain": [
       "<Figure size 432x288 with 1 Axes>"
      ]
     },
     "metadata": {
      "needs_background": "light"
     },
     "output_type": "display_data"
    }
   ],
   "source": [
    "# Plot probability distribution and confidence intervals\n",
    "MC_Y30.plot_distribution()"
   ]
  },
  {
   "cell_type": "markdown",
   "metadata": {},
   "source": [
    "### Retirement Analysis"
   ]
  },
  {
   "cell_type": "code",
   "execution_count": 47,
   "metadata": {},
   "outputs": [],
   "source": [
    "# Fetch summary statistics from the Monte Carlo simulation results\n",
    "MC_Y30_stats = MC_Y30.summarize_cumulative_return()"
   ]
  },
  {
   "cell_type": "code",
   "execution_count": 48,
   "metadata": {},
   "outputs": [
    {
     "name": "stdout",
     "output_type": "stream",
     "text": [
      "count           500.000000\n",
      "mean              4.652699\n",
      "std               3.121959\n",
      "min               0.740833\n",
      "25%               2.596037\n",
      "50%               3.884913\n",
      "75%               5.849319\n",
      "max              25.733685\n",
      "95% CI Lower      1.126930\n",
      "95% CI Upper     11.925439\n",
      "Name: 7560, dtype: float64\n"
     ]
    }
   ],
   "source": [
    "# Print summary statistics\n",
    "print(MC_Y30_stats)"
   ]
  },
  {
   "cell_type": "markdown",
   "metadata": {},
   "source": [
    "### Calculate the expected portfolio return at the `95%` lower and upper confidence intervals based on a `$20,000` initial investment."
   ]
  },
  {
   "cell_type": "code",
   "execution_count": 49,
   "metadata": {},
   "outputs": [],
   "source": [
    "# Set initial investment\n",
    "initial_investment = 20000"
   ]
  },
  {
   "cell_type": "code",
   "execution_count": 50,
   "metadata": {},
   "outputs": [],
   "source": [
    "# Use the lower and upper `95%` confidence intervals to calculate the range of the possible outcomes of our $20,000\n",
    "ci_lower = MC_Y30_stats[8] * initial_investment\n",
    "ci_upper = MC_Y30_stats[9] * initial_investment"
   ]
  },
  {
   "cell_type": "code",
   "execution_count": 51,
   "metadata": {},
   "outputs": [
    {
     "name": "stdout",
     "output_type": "stream",
     "text": [
      "There is a 95% chance that an initial investment of $20,000.00 in the portfolio over the next 30 years will end within in the range of $22,538.61 and $238,508.77\n"
     ]
    }
   ],
   "source": [
    "# Print results\n",
    "print(f\"There is a 95% chance that an initial investment of ${initial_investment:,.2f} in the portfolio\"\n",
    "      f\" over the next 30 years will end within in the range of\"\n",
    "      f\" ${ci_lower:,.2f} and ${ci_upper:,.2f}\")"
   ]
  },
  {
   "cell_type": "markdown",
   "metadata": {},
   "source": [
    "### Calculate the expected portfolio return at the `95%` lower and upper confidence intervals based on a `50%` increase in the initial investment."
   ]
  },
  {
   "cell_type": "code",
   "execution_count": 52,
   "metadata": {},
   "outputs": [],
   "source": [
    "# Set initial investment\n",
    "initial_investment = 20000 * 1.5"
   ]
  },
  {
   "cell_type": "code",
   "execution_count": 53,
   "metadata": {},
   "outputs": [],
   "source": [
    "# Use the lower and upper `95%` confidence intervals to calculate the range of the possible outcomes of our $30,000\n",
    "ci_lower = MC_Y30_stats[8] * initial_investment\n",
    "ci_upper = MC_Y30_stats[9] * initial_investment"
   ]
  },
  {
   "cell_type": "code",
   "execution_count": 54,
   "metadata": {},
   "outputs": [
    {
     "name": "stdout",
     "output_type": "stream",
     "text": [
      "There is a 95% chance that an initial investment of $30,000.00 in the portfolio over the next 30 years will end within in the range of $33,807.91 and $357,763.16\n"
     ]
    }
   ],
   "source": [
    "## Print results\n",
    "print(f\"There is a 95% chance that an initial investment of ${initial_investment:,.2f} in the portfolio\"\n",
    "      f\" over the next 30 years will end within in the range of\"\n",
    "      f\" ${ci_lower:,.2f} and ${ci_upper:,.2f}\")"
   ]
  },
  {
   "cell_type": "markdown",
   "metadata": {},
   "source": [
    "## Optional Challenge - Early Retirement\n",
    "\n",
    "\n",
    "### Five Years Retirement Option"
   ]
  },
  {
   "cell_type": "code",
   "execution_count": 55,
   "metadata": {},
   "outputs": [],
   "source": [
    "# Configuring a Monte Carlo simulation to forecast 5 years cumulative returns\n",
    "MC_Y05 = MCSimulation(portfolio_data = df_stock_data,\n",
    "                      weights = [0.10, 0.90],\n",
    "                      num_simulation = 500 ,\n",
    "                      num_trading_days = 252*5\n",
    "                      )"
   ]
  },
  {
   "cell_type": "code",
   "execution_count": 56,
   "metadata": {},
   "outputs": [
    {
     "name": "stdout",
     "output_type": "stream",
     "text": [
      "Running Monte Carlo simulation number 0.\n",
      "Running Monte Carlo simulation number 10.\n",
      "Running Monte Carlo simulation number 20.\n",
      "Running Monte Carlo simulation number 30.\n",
      "Running Monte Carlo simulation number 40.\n",
      "Running Monte Carlo simulation number 50.\n",
      "Running Monte Carlo simulation number 60.\n",
      "Running Monte Carlo simulation number 70.\n",
      "Running Monte Carlo simulation number 80.\n",
      "Running Monte Carlo simulation number 90.\n",
      "Running Monte Carlo simulation number 100.\n"
     ]
    },
    {
     "name": "stderr",
     "output_type": "stream",
     "text": [
      "C:\\Users\\twigi\\FTBC\\W5_Assignment\\APIs-homework\\MCForecastTools.py:117: PerformanceWarning: DataFrame is highly fragmented.  This is usually the result of calling `frame.insert` many times, which has poor performance.  Consider joining all columns at once using pd.concat(axis=1) instead.  To get a de-fragmented frame, use `newframe = frame.copy()`\n",
      "  portfolio_cumulative_returns[n] = (1 + sim_df.fillna(0)).cumprod()\n"
     ]
    },
    {
     "name": "stdout",
     "output_type": "stream",
     "text": [
      "Running Monte Carlo simulation number 110.\n",
      "Running Monte Carlo simulation number 120.\n",
      "Running Monte Carlo simulation number 130.\n",
      "Running Monte Carlo simulation number 140.\n",
      "Running Monte Carlo simulation number 150.\n",
      "Running Monte Carlo simulation number 160.\n",
      "Running Monte Carlo simulation number 170.\n",
      "Running Monte Carlo simulation number 180.\n",
      "Running Monte Carlo simulation number 190.\n",
      "Running Monte Carlo simulation number 200.\n",
      "Running Monte Carlo simulation number 210.\n",
      "Running Monte Carlo simulation number 220.\n",
      "Running Monte Carlo simulation number 230.\n",
      "Running Monte Carlo simulation number 240.\n",
      "Running Monte Carlo simulation number 250.\n",
      "Running Monte Carlo simulation number 260.\n",
      "Running Monte Carlo simulation number 270.\n",
      "Running Monte Carlo simulation number 280.\n",
      "Running Monte Carlo simulation number 290.\n",
      "Running Monte Carlo simulation number 300.\n",
      "Running Monte Carlo simulation number 310.\n",
      "Running Monte Carlo simulation number 320.\n",
      "Running Monte Carlo simulation number 330.\n",
      "Running Monte Carlo simulation number 340.\n",
      "Running Monte Carlo simulation number 350.\n",
      "Running Monte Carlo simulation number 360.\n",
      "Running Monte Carlo simulation number 370.\n",
      "Running Monte Carlo simulation number 380.\n",
      "Running Monte Carlo simulation number 390.\n",
      "Running Monte Carlo simulation number 400.\n",
      "Running Monte Carlo simulation number 410.\n",
      "Running Monte Carlo simulation number 420.\n",
      "Running Monte Carlo simulation number 430.\n",
      "Running Monte Carlo simulation number 440.\n",
      "Running Monte Carlo simulation number 450.\n",
      "Running Monte Carlo simulation number 460.\n",
      "Running Monte Carlo simulation number 470.\n",
      "Running Monte Carlo simulation number 480.\n",
      "Running Monte Carlo simulation number 490.\n"
     ]
    },
    {
     "data": {
      "text/html": [
       "<div>\n",
       "<style scoped>\n",
       "    .dataframe tbody tr th:only-of-type {\n",
       "        vertical-align: middle;\n",
       "    }\n",
       "\n",
       "    .dataframe tbody tr th {\n",
       "        vertical-align: top;\n",
       "    }\n",
       "\n",
       "    .dataframe thead th {\n",
       "        text-align: right;\n",
       "    }\n",
       "</style>\n",
       "<table border=\"1\" class=\"dataframe\">\n",
       "  <thead>\n",
       "    <tr style=\"text-align: right;\">\n",
       "      <th></th>\n",
       "      <th>0</th>\n",
       "      <th>1</th>\n",
       "      <th>2</th>\n",
       "      <th>3</th>\n",
       "      <th>4</th>\n",
       "      <th>5</th>\n",
       "      <th>6</th>\n",
       "      <th>7</th>\n",
       "      <th>8</th>\n",
       "      <th>9</th>\n",
       "      <th>...</th>\n",
       "      <th>490</th>\n",
       "      <th>491</th>\n",
       "      <th>492</th>\n",
       "      <th>493</th>\n",
       "      <th>494</th>\n",
       "      <th>495</th>\n",
       "      <th>496</th>\n",
       "      <th>497</th>\n",
       "      <th>498</th>\n",
       "      <th>499</th>\n",
       "    </tr>\n",
       "  </thead>\n",
       "  <tbody>\n",
       "    <tr>\n",
       "      <th>0</th>\n",
       "      <td>1.000000</td>\n",
       "      <td>1.000000</td>\n",
       "      <td>1.000000</td>\n",
       "      <td>1.000000</td>\n",
       "      <td>1.000000</td>\n",
       "      <td>1.000000</td>\n",
       "      <td>1.000000</td>\n",
       "      <td>1.000000</td>\n",
       "      <td>1.000000</td>\n",
       "      <td>1.000000</td>\n",
       "      <td>...</td>\n",
       "      <td>1.000000</td>\n",
       "      <td>1.000000</td>\n",
       "      <td>1.000000</td>\n",
       "      <td>1.000000</td>\n",
       "      <td>1.000000</td>\n",
       "      <td>1.000000</td>\n",
       "      <td>1.000000</td>\n",
       "      <td>1.000000</td>\n",
       "      <td>1.000000</td>\n",
       "      <td>1.000000</td>\n",
       "    </tr>\n",
       "    <tr>\n",
       "      <th>1</th>\n",
       "      <td>1.006064</td>\n",
       "      <td>0.994441</td>\n",
       "      <td>1.014399</td>\n",
       "      <td>0.986508</td>\n",
       "      <td>1.005021</td>\n",
       "      <td>1.010503</td>\n",
       "      <td>1.018071</td>\n",
       "      <td>1.001235</td>\n",
       "      <td>1.002743</td>\n",
       "      <td>0.997736</td>\n",
       "      <td>...</td>\n",
       "      <td>1.007934</td>\n",
       "      <td>1.004861</td>\n",
       "      <td>0.989150</td>\n",
       "      <td>0.981739</td>\n",
       "      <td>0.988104</td>\n",
       "      <td>1.006708</td>\n",
       "      <td>0.998989</td>\n",
       "      <td>1.004298</td>\n",
       "      <td>0.988228</td>\n",
       "      <td>1.003223</td>\n",
       "    </tr>\n",
       "    <tr>\n",
       "      <th>2</th>\n",
       "      <td>1.023149</td>\n",
       "      <td>0.998140</td>\n",
       "      <td>1.009324</td>\n",
       "      <td>0.987417</td>\n",
       "      <td>1.001765</td>\n",
       "      <td>1.012448</td>\n",
       "      <td>1.023260</td>\n",
       "      <td>0.993827</td>\n",
       "      <td>1.002920</td>\n",
       "      <td>0.999686</td>\n",
       "      <td>...</td>\n",
       "      <td>1.008757</td>\n",
       "      <td>1.013948</td>\n",
       "      <td>0.986991</td>\n",
       "      <td>0.982145</td>\n",
       "      <td>0.993663</td>\n",
       "      <td>1.004984</td>\n",
       "      <td>1.002168</td>\n",
       "      <td>0.993826</td>\n",
       "      <td>0.987697</td>\n",
       "      <td>1.010159</td>\n",
       "    </tr>\n",
       "    <tr>\n",
       "      <th>3</th>\n",
       "      <td>1.019859</td>\n",
       "      <td>1.005064</td>\n",
       "      <td>1.019494</td>\n",
       "      <td>0.980017</td>\n",
       "      <td>1.018304</td>\n",
       "      <td>1.029369</td>\n",
       "      <td>1.015660</td>\n",
       "      <td>1.007733</td>\n",
       "      <td>1.002212</td>\n",
       "      <td>0.997782</td>\n",
       "      <td>...</td>\n",
       "      <td>0.997227</td>\n",
       "      <td>1.011315</td>\n",
       "      <td>0.977194</td>\n",
       "      <td>0.968182</td>\n",
       "      <td>0.982521</td>\n",
       "      <td>1.008037</td>\n",
       "      <td>1.006334</td>\n",
       "      <td>0.974924</td>\n",
       "      <td>0.980833</td>\n",
       "      <td>0.996532</td>\n",
       "    </tr>\n",
       "    <tr>\n",
       "      <th>4</th>\n",
       "      <td>1.016589</td>\n",
       "      <td>1.003887</td>\n",
       "      <td>1.004531</td>\n",
       "      <td>0.965273</td>\n",
       "      <td>1.016598</td>\n",
       "      <td>1.021221</td>\n",
       "      <td>1.033841</td>\n",
       "      <td>1.012286</td>\n",
       "      <td>1.007897</td>\n",
       "      <td>0.989705</td>\n",
       "      <td>...</td>\n",
       "      <td>1.009837</td>\n",
       "      <td>1.014754</td>\n",
       "      <td>0.973210</td>\n",
       "      <td>0.966187</td>\n",
       "      <td>0.983569</td>\n",
       "      <td>1.015195</td>\n",
       "      <td>1.013970</td>\n",
       "      <td>0.988917</td>\n",
       "      <td>0.960483</td>\n",
       "      <td>1.000896</td>\n",
       "    </tr>\n",
       "    <tr>\n",
       "      <th>...</th>\n",
       "      <td>...</td>\n",
       "      <td>...</td>\n",
       "      <td>...</td>\n",
       "      <td>...</td>\n",
       "      <td>...</td>\n",
       "      <td>...</td>\n",
       "      <td>...</td>\n",
       "      <td>...</td>\n",
       "      <td>...</td>\n",
       "      <td>...</td>\n",
       "      <td>...</td>\n",
       "      <td>...</td>\n",
       "      <td>...</td>\n",
       "      <td>...</td>\n",
       "      <td>...</td>\n",
       "      <td>...</td>\n",
       "      <td>...</td>\n",
       "      <td>...</td>\n",
       "      <td>...</td>\n",
       "      <td>...</td>\n",
       "      <td>...</td>\n",
       "    </tr>\n",
       "    <tr>\n",
       "      <th>1256</th>\n",
       "      <td>1.281423</td>\n",
       "      <td>1.237908</td>\n",
       "      <td>1.496796</td>\n",
       "      <td>0.798121</td>\n",
       "      <td>2.367586</td>\n",
       "      <td>2.945700</td>\n",
       "      <td>0.904715</td>\n",
       "      <td>1.328809</td>\n",
       "      <td>1.916499</td>\n",
       "      <td>1.493167</td>\n",
       "      <td>...</td>\n",
       "      <td>1.296040</td>\n",
       "      <td>2.300106</td>\n",
       "      <td>1.218908</td>\n",
       "      <td>1.367879</td>\n",
       "      <td>1.620656</td>\n",
       "      <td>2.295151</td>\n",
       "      <td>0.715577</td>\n",
       "      <td>0.732681</td>\n",
       "      <td>3.204678</td>\n",
       "      <td>1.228389</td>\n",
       "    </tr>\n",
       "    <tr>\n",
       "      <th>1257</th>\n",
       "      <td>1.271448</td>\n",
       "      <td>1.249735</td>\n",
       "      <td>1.534527</td>\n",
       "      <td>0.804700</td>\n",
       "      <td>2.371129</td>\n",
       "      <td>2.996554</td>\n",
       "      <td>0.905102</td>\n",
       "      <td>1.302965</td>\n",
       "      <td>1.935275</td>\n",
       "      <td>1.492659</td>\n",
       "      <td>...</td>\n",
       "      <td>1.272736</td>\n",
       "      <td>2.357140</td>\n",
       "      <td>1.224009</td>\n",
       "      <td>1.349835</td>\n",
       "      <td>1.628479</td>\n",
       "      <td>2.269098</td>\n",
       "      <td>0.713954</td>\n",
       "      <td>0.737897</td>\n",
       "      <td>3.266464</td>\n",
       "      <td>1.220582</td>\n",
       "    </tr>\n",
       "    <tr>\n",
       "      <th>1258</th>\n",
       "      <td>1.268822</td>\n",
       "      <td>1.249138</td>\n",
       "      <td>1.540232</td>\n",
       "      <td>0.820261</td>\n",
       "      <td>2.384652</td>\n",
       "      <td>2.971420</td>\n",
       "      <td>0.878035</td>\n",
       "      <td>1.301668</td>\n",
       "      <td>1.921358</td>\n",
       "      <td>1.497528</td>\n",
       "      <td>...</td>\n",
       "      <td>1.279090</td>\n",
       "      <td>2.378215</td>\n",
       "      <td>1.234965</td>\n",
       "      <td>1.372371</td>\n",
       "      <td>1.609452</td>\n",
       "      <td>2.240934</td>\n",
       "      <td>0.707967</td>\n",
       "      <td>0.735888</td>\n",
       "      <td>3.264224</td>\n",
       "      <td>1.197583</td>\n",
       "    </tr>\n",
       "    <tr>\n",
       "      <th>1259</th>\n",
       "      <td>1.263717</td>\n",
       "      <td>1.268140</td>\n",
       "      <td>1.553794</td>\n",
       "      <td>0.807344</td>\n",
       "      <td>2.348101</td>\n",
       "      <td>2.914903</td>\n",
       "      <td>0.890426</td>\n",
       "      <td>1.293026</td>\n",
       "      <td>1.936493</td>\n",
       "      <td>1.513258</td>\n",
       "      <td>...</td>\n",
       "      <td>1.259771</td>\n",
       "      <td>2.363498</td>\n",
       "      <td>1.238527</td>\n",
       "      <td>1.369013</td>\n",
       "      <td>1.604300</td>\n",
       "      <td>2.312097</td>\n",
       "      <td>0.709777</td>\n",
       "      <td>0.734974</td>\n",
       "      <td>3.292217</td>\n",
       "      <td>1.199814</td>\n",
       "    </tr>\n",
       "    <tr>\n",
       "      <th>1260</th>\n",
       "      <td>1.273719</td>\n",
       "      <td>1.260381</td>\n",
       "      <td>1.534515</td>\n",
       "      <td>0.818868</td>\n",
       "      <td>2.308777</td>\n",
       "      <td>2.860888</td>\n",
       "      <td>0.888481</td>\n",
       "      <td>1.301342</td>\n",
       "      <td>1.920453</td>\n",
       "      <td>1.536236</td>\n",
       "      <td>...</td>\n",
       "      <td>1.239479</td>\n",
       "      <td>2.324663</td>\n",
       "      <td>1.241400</td>\n",
       "      <td>1.348161</td>\n",
       "      <td>1.621062</td>\n",
       "      <td>2.324599</td>\n",
       "      <td>0.716973</td>\n",
       "      <td>0.729092</td>\n",
       "      <td>3.256392</td>\n",
       "      <td>1.207768</td>\n",
       "    </tr>\n",
       "  </tbody>\n",
       "</table>\n",
       "<p>1261 rows × 500 columns</p>\n",
       "</div>"
      ],
      "text/plain": [
       "           0         1         2         3         4         5         6    \\\n",
       "0     1.000000  1.000000  1.000000  1.000000  1.000000  1.000000  1.000000   \n",
       "1     1.006064  0.994441  1.014399  0.986508  1.005021  1.010503  1.018071   \n",
       "2     1.023149  0.998140  1.009324  0.987417  1.001765  1.012448  1.023260   \n",
       "3     1.019859  1.005064  1.019494  0.980017  1.018304  1.029369  1.015660   \n",
       "4     1.016589  1.003887  1.004531  0.965273  1.016598  1.021221  1.033841   \n",
       "...        ...       ...       ...       ...       ...       ...       ...   \n",
       "1256  1.281423  1.237908  1.496796  0.798121  2.367586  2.945700  0.904715   \n",
       "1257  1.271448  1.249735  1.534527  0.804700  2.371129  2.996554  0.905102   \n",
       "1258  1.268822  1.249138  1.540232  0.820261  2.384652  2.971420  0.878035   \n",
       "1259  1.263717  1.268140  1.553794  0.807344  2.348101  2.914903  0.890426   \n",
       "1260  1.273719  1.260381  1.534515  0.818868  2.308777  2.860888  0.888481   \n",
       "\n",
       "           7         8         9    ...       490       491       492  \\\n",
       "0     1.000000  1.000000  1.000000  ...  1.000000  1.000000  1.000000   \n",
       "1     1.001235  1.002743  0.997736  ...  1.007934  1.004861  0.989150   \n",
       "2     0.993827  1.002920  0.999686  ...  1.008757  1.013948  0.986991   \n",
       "3     1.007733  1.002212  0.997782  ...  0.997227  1.011315  0.977194   \n",
       "4     1.012286  1.007897  0.989705  ...  1.009837  1.014754  0.973210   \n",
       "...        ...       ...       ...  ...       ...       ...       ...   \n",
       "1256  1.328809  1.916499  1.493167  ...  1.296040  2.300106  1.218908   \n",
       "1257  1.302965  1.935275  1.492659  ...  1.272736  2.357140  1.224009   \n",
       "1258  1.301668  1.921358  1.497528  ...  1.279090  2.378215  1.234965   \n",
       "1259  1.293026  1.936493  1.513258  ...  1.259771  2.363498  1.238527   \n",
       "1260  1.301342  1.920453  1.536236  ...  1.239479  2.324663  1.241400   \n",
       "\n",
       "           493       494       495       496       497       498       499  \n",
       "0     1.000000  1.000000  1.000000  1.000000  1.000000  1.000000  1.000000  \n",
       "1     0.981739  0.988104  1.006708  0.998989  1.004298  0.988228  1.003223  \n",
       "2     0.982145  0.993663  1.004984  1.002168  0.993826  0.987697  1.010159  \n",
       "3     0.968182  0.982521  1.008037  1.006334  0.974924  0.980833  0.996532  \n",
       "4     0.966187  0.983569  1.015195  1.013970  0.988917  0.960483  1.000896  \n",
       "...        ...       ...       ...       ...       ...       ...       ...  \n",
       "1256  1.367879  1.620656  2.295151  0.715577  0.732681  3.204678  1.228389  \n",
       "1257  1.349835  1.628479  2.269098  0.713954  0.737897  3.266464  1.220582  \n",
       "1258  1.372371  1.609452  2.240934  0.707967  0.735888  3.264224  1.197583  \n",
       "1259  1.369013  1.604300  2.312097  0.709777  0.734974  3.292217  1.199814  \n",
       "1260  1.348161  1.621062  2.324599  0.716973  0.729092  3.256392  1.207768  \n",
       "\n",
       "[1261 rows x 500 columns]"
      ]
     },
     "execution_count": 56,
     "metadata": {},
     "output_type": "execute_result"
    }
   ],
   "source": [
    "# Running a Monte Carlo simulation to forecast 5 years cumulative returns\n",
    "MC_Y05.calc_cumulative_return()"
   ]
  },
  {
   "cell_type": "code",
   "execution_count": 57,
   "metadata": {},
   "outputs": [
    {
     "data": {
      "text/plain": [
       "<AxesSubplot:title={'center':'500 Simulations of Cumulative Portfolio Return Trajectories Over the Next 1260 Trading Days.'}>"
      ]
     },
     "execution_count": 57,
     "metadata": {},
     "output_type": "execute_result"
    },
    {
     "data": {
      "image/png": "[encoded data removed]",
      "text/plain": [
       "<Figure size 432x288 with 1 Axes>"
      ]
     },
     "metadata": {
      "needs_background": "light"
     },
     "output_type": "display_data"
    }
   ],
   "source": [
    "# Plot simulation outcomes\n",
    "MC_Y05.plot_simulation()"
   ]
  },
  {
   "cell_type": "code",
   "execution_count": 58,
   "metadata": {},
   "outputs": [
    {
     "data": {
      "text/plain": [
       "<AxesSubplot:title={'center':'Distribution of Final Cumuluative Returns Across All 500 Simulations'}, ylabel='Frequency'>"
      ]
     },
     "execution_count": 58,
     "metadata": {},
     "output_type": "execute_result"
    },
    {
     "data": {
      "image/png": "[encoded data removed]",
      "text/plain": [
       "<Figure size 432x288 with 1 Axes>"
      ]
     },
     "metadata": {
      "needs_background": "light"
     },
     "output_type": "display_data"
    }
   ],
   "source": [
    "# Plot probability distribution and confidence intervals\n",
    "MC_Y05.plot_distribution()"
   ]
  },
  {
   "cell_type": "code",
   "execution_count": 59,
   "metadata": {},
   "outputs": [],
   "source": [
    "# Fetch summary statistics from the Monte Carlo simulation results\n",
    "MC_Y05_stats = MC_Y05.summarize_cumulative_return()"
   ]
  },
  {
   "cell_type": "code",
   "execution_count": 60,
   "metadata": {},
   "outputs": [
    {
     "name": "stdout",
     "output_type": "stream",
     "text": [
      "count           500.000000\n",
      "mean              1.550500\n",
      "std               0.599663\n",
      "min               0.527380\n",
      "25%               1.143833\n",
      "50%               1.453121\n",
      "75%               1.841325\n",
      "max               4.295267\n",
      "95% CI Lower      0.705120\n",
      "95% CI Upper      3.018991\n",
      "Name: 1260, dtype: float64\n"
     ]
    }
   ],
   "source": [
    "# Print summary statistics\n",
    "print(MC_Y05_stats)"
   ]
  },
  {
   "cell_type": "code",
   "execution_count": 61,
   "metadata": {},
   "outputs": [],
   "source": [
    "# Set initial investment\n",
    "initial_investment = 20000*10"
   ]
  },
  {
   "cell_type": "code",
   "execution_count": 62,
   "metadata": {},
   "outputs": [],
   "source": [
    "# Use the lower and upper `95%` confidence intervals to calculate the range of the possible outcomes of our $200,000\n",
    "ci_lower_five = MC_Y05_stats[8] * initial_investment\n",
    "ci_upper_five = MC_Y05_stats[9] * initial_investment"
   ]
  },
  {
   "cell_type": "code",
   "execution_count": 63,
   "metadata": {},
   "outputs": [
    {
     "name": "stdout",
     "output_type": "stream",
     "text": [
      "There is a 95% chance that an initial investment of $200,000.00 in the portfolio over the next 5 years will end within in the range of $141,024.08 and $603,798.17\n"
     ]
    }
   ],
   "source": [
    "# Print results\n",
    "print(f\"There is a 95% chance that an initial investment of ${initial_investment:,.2f} in the portfolio\"\n",
    "      f\" over the next 5 years will end within in the range of\"\n",
    "      f\" ${ci_lower_five:,.2f} and ${ci_upper_five:,.2f}\")"
   ]
  },
  {
   "cell_type": "markdown",
   "metadata": {},
   "source": [
    "### Ten Years Retirement Option"
   ]
  },
  {
   "cell_type": "code",
   "execution_count": 64,
   "metadata": {},
   "outputs": [],
   "source": [
    "# Configuring a Monte Carlo simulation to forecast 10 years cumulative returns\n",
    "MC_Y10 = MCSimulation(portfolio_data = df_stock_data,\n",
    "                      weights = [0.30, 0.70],\n",
    "                      num_simulation = 500 ,\n",
    "                      num_trading_days = 252*10\n",
    "                      )"
   ]
  },
  {
   "cell_type": "code",
   "execution_count": 65,
   "metadata": {},
   "outputs": [
    {
     "name": "stdout",
     "output_type": "stream",
     "text": [
      "Running Monte Carlo simulation number 0.\n",
      "Running Monte Carlo simulation number 10.\n",
      "Running Monte Carlo simulation number 20.\n",
      "Running Monte Carlo simulation number 30.\n",
      "Running Monte Carlo simulation number 40.\n",
      "Running Monte Carlo simulation number 50.\n",
      "Running Monte Carlo simulation number 60.\n",
      "Running Monte Carlo simulation number 70.\n",
      "Running Monte Carlo simulation number 80.\n",
      "Running Monte Carlo simulation number 90.\n",
      "Running Monte Carlo simulation number 100.\n"
     ]
    },
    {
     "name": "stderr",
     "output_type": "stream",
     "text": [
      "C:\\Users\\twigi\\FTBC\\W5_Assignment\\APIs-homework\\MCForecastTools.py:117: PerformanceWarning: DataFrame is highly fragmented.  This is usually the result of calling `frame.insert` many times, which has poor performance.  Consider joining all columns at once using pd.concat(axis=1) instead.  To get a de-fragmented frame, use `newframe = frame.copy()`\n",
      "  portfolio_cumulative_returns[n] = (1 + sim_df.fillna(0)).cumprod()\n"
     ]
    },
    {
     "name": "stdout",
     "output_type": "stream",
     "text": [
      "Running Monte Carlo simulation number 110.\n",
      "Running Monte Carlo simulation number 120.\n",
      "Running Monte Carlo simulation number 130.\n",
      "Running Monte Carlo simulation number 140.\n",
      "Running Monte Carlo simulation number 150.\n",
      "Running Monte Carlo simulation number 160.\n",
      "Running Monte Carlo simulation number 170.\n",
      "Running Monte Carlo simulation number 180.\n",
      "Running Monte Carlo simulation number 190.\n",
      "Running Monte Carlo simulation number 200.\n",
      "Running Monte Carlo simulation number 210.\n",
      "Running Monte Carlo simulation number 220.\n",
      "Running Monte Carlo simulation number 230.\n",
      "Running Monte Carlo simulation number 240.\n",
      "Running Monte Carlo simulation number 250.\n",
      "Running Monte Carlo simulation number 260.\n",
      "Running Monte Carlo simulation number 270.\n",
      "Running Monte Carlo simulation number 280.\n",
      "Running Monte Carlo simulation number 290.\n",
      "Running Monte Carlo simulation number 300.\n",
      "Running Monte Carlo simulation number 310.\n",
      "Running Monte Carlo simulation number 320.\n",
      "Running Monte Carlo simulation number 330.\n",
      "Running Monte Carlo simulation number 340.\n",
      "Running Monte Carlo simulation number 350.\n",
      "Running Monte Carlo simulation number 360.\n",
      "Running Monte Carlo simulation number 370.\n",
      "Running Monte Carlo simulation number 380.\n",
      "Running Monte Carlo simulation number 390.\n",
      "Running Monte Carlo simulation number 400.\n",
      "Running Monte Carlo simulation number 410.\n",
      "Running Monte Carlo simulation number 420.\n",
      "Running Monte Carlo simulation number 430.\n",
      "Running Monte Carlo simulation number 440.\n",
      "Running Monte Carlo simulation number 450.\n",
      "Running Monte Carlo simulation number 460.\n",
      "Running Monte Carlo simulation number 470.\n",
      "Running Monte Carlo simulation number 480.\n",
      "Running Monte Carlo simulation number 490.\n"
     ]
    },
    {
     "data": {
      "text/html": [
       "<div>\n",
       "<style scoped>\n",
       "    .dataframe tbody tr th:only-of-type {\n",
       "        vertical-align: middle;\n",
       "    }\n",
       "\n",
       "    .dataframe tbody tr th {\n",
       "        vertical-align: top;\n",
       "    }\n",
       "\n",
       "    .dataframe thead th {\n",
       "        text-align: right;\n",
       "    }\n",
       "</style>\n",
       "<table border=\"1\" class=\"dataframe\">\n",
       "  <thead>\n",
       "    <tr style=\"text-align: right;\">\n",
       "      <th></th>\n",
       "      <th>0</th>\n",
       "      <th>1</th>\n",
       "      <th>2</th>\n",
       "      <th>3</th>\n",
       "      <th>4</th>\n",
       "      <th>5</th>\n",
       "      <th>6</th>\n",
       "      <th>7</th>\n",
       "      <th>8</th>\n",
       "      <th>9</th>\n",
       "      <th>...</th>\n",
       "      <th>490</th>\n",
       "      <th>491</th>\n",
       "      <th>492</th>\n",
       "      <th>493</th>\n",
       "      <th>494</th>\n",
       "      <th>495</th>\n",
       "      <th>496</th>\n",
       "      <th>497</th>\n",
       "      <th>498</th>\n",
       "      <th>499</th>\n",
       "    </tr>\n",
       "  </thead>\n",
       "  <tbody>\n",
       "    <tr>\n",
       "      <th>0</th>\n",
       "      <td>1.000000</td>\n",
       "      <td>1.000000</td>\n",
       "      <td>1.000000</td>\n",
       "      <td>1.000000</td>\n",
       "      <td>1.000000</td>\n",
       "      <td>1.000000</td>\n",
       "      <td>1.000000</td>\n",
       "      <td>1.000000</td>\n",
       "      <td>1.000000</td>\n",
       "      <td>1.000000</td>\n",
       "      <td>...</td>\n",
       "      <td>1.000000</td>\n",
       "      <td>1.000000</td>\n",
       "      <td>1.000000</td>\n",
       "      <td>1.000000</td>\n",
       "      <td>1.000000</td>\n",
       "      <td>1.000000</td>\n",
       "      <td>1.000000</td>\n",
       "      <td>1.000000</td>\n",
       "      <td>1.000000</td>\n",
       "      <td>1.000000</td>\n",
       "    </tr>\n",
       "    <tr>\n",
       "      <th>1</th>\n",
       "      <td>1.011415</td>\n",
       "      <td>1.011133</td>\n",
       "      <td>0.998273</td>\n",
       "      <td>1.005165</td>\n",
       "      <td>1.005680</td>\n",
       "      <td>1.000529</td>\n",
       "      <td>1.008409</td>\n",
       "      <td>0.994953</td>\n",
       "      <td>1.004368</td>\n",
       "      <td>1.009099</td>\n",
       "      <td>...</td>\n",
       "      <td>0.991793</td>\n",
       "      <td>1.003721</td>\n",
       "      <td>1.007943</td>\n",
       "      <td>1.024815</td>\n",
       "      <td>0.987740</td>\n",
       "      <td>1.001689</td>\n",
       "      <td>0.980372</td>\n",
       "      <td>0.991222</td>\n",
       "      <td>1.000567</td>\n",
       "      <td>0.995419</td>\n",
       "    </tr>\n",
       "    <tr>\n",
       "      <th>2</th>\n",
       "      <td>1.020836</td>\n",
       "      <td>1.004000</td>\n",
       "      <td>0.977305</td>\n",
       "      <td>1.002778</td>\n",
       "      <td>0.995714</td>\n",
       "      <td>1.000489</td>\n",
       "      <td>1.005629</td>\n",
       "      <td>1.001791</td>\n",
       "      <td>1.009944</td>\n",
       "      <td>1.011033</td>\n",
       "      <td>...</td>\n",
       "      <td>0.974355</td>\n",
       "      <td>1.000218</td>\n",
       "      <td>0.997221</td>\n",
       "      <td>1.033905</td>\n",
       "      <td>0.988815</td>\n",
       "      <td>1.011843</td>\n",
       "      <td>0.987510</td>\n",
       "      <td>0.974370</td>\n",
       "      <td>0.990897</td>\n",
       "      <td>1.005083</td>\n",
       "    </tr>\n",
       "    <tr>\n",
       "      <th>3</th>\n",
       "      <td>1.023071</td>\n",
       "      <td>0.998421</td>\n",
       "      <td>0.983920</td>\n",
       "      <td>1.002644</td>\n",
       "      <td>0.985828</td>\n",
       "      <td>0.998626</td>\n",
       "      <td>1.000190</td>\n",
       "      <td>1.000199</td>\n",
       "      <td>0.994414</td>\n",
       "      <td>1.016951</td>\n",
       "      <td>...</td>\n",
       "      <td>0.976517</td>\n",
       "      <td>1.004437</td>\n",
       "      <td>0.987847</td>\n",
       "      <td>1.014569</td>\n",
       "      <td>0.985594</td>\n",
       "      <td>1.010635</td>\n",
       "      <td>0.990171</td>\n",
       "      <td>0.971241</td>\n",
       "      <td>1.012207</td>\n",
       "      <td>1.006392</td>\n",
       "    </tr>\n",
       "    <tr>\n",
       "      <th>4</th>\n",
       "      <td>1.022575</td>\n",
       "      <td>0.988866</td>\n",
       "      <td>0.992091</td>\n",
       "      <td>1.002825</td>\n",
       "      <td>0.994176</td>\n",
       "      <td>0.986431</td>\n",
       "      <td>1.002246</td>\n",
       "      <td>0.988964</td>\n",
       "      <td>0.995238</td>\n",
       "      <td>1.021806</td>\n",
       "      <td>...</td>\n",
       "      <td>0.971951</td>\n",
       "      <td>1.014628</td>\n",
       "      <td>0.984215</td>\n",
       "      <td>1.017311</td>\n",
       "      <td>0.995181</td>\n",
       "      <td>1.020192</td>\n",
       "      <td>0.987062</td>\n",
       "      <td>0.984828</td>\n",
       "      <td>0.993492</td>\n",
       "      <td>1.016690</td>\n",
       "    </tr>\n",
       "    <tr>\n",
       "      <th>...</th>\n",
       "      <td>...</td>\n",
       "      <td>...</td>\n",
       "      <td>...</td>\n",
       "      <td>...</td>\n",
       "      <td>...</td>\n",
       "      <td>...</td>\n",
       "      <td>...</td>\n",
       "      <td>...</td>\n",
       "      <td>...</td>\n",
       "      <td>...</td>\n",
       "      <td>...</td>\n",
       "      <td>...</td>\n",
       "      <td>...</td>\n",
       "      <td>...</td>\n",
       "      <td>...</td>\n",
       "      <td>...</td>\n",
       "      <td>...</td>\n",
       "      <td>...</td>\n",
       "      <td>...</td>\n",
       "      <td>...</td>\n",
       "      <td>...</td>\n",
       "    </tr>\n",
       "    <tr>\n",
       "      <th>2516</th>\n",
       "      <td>2.241811</td>\n",
       "      <td>2.152398</td>\n",
       "      <td>1.314175</td>\n",
       "      <td>0.739348</td>\n",
       "      <td>2.756893</td>\n",
       "      <td>2.388199</td>\n",
       "      <td>1.740871</td>\n",
       "      <td>1.670479</td>\n",
       "      <td>1.169553</td>\n",
       "      <td>2.941646</td>\n",
       "      <td>...</td>\n",
       "      <td>1.623119</td>\n",
       "      <td>0.803749</td>\n",
       "      <td>1.252215</td>\n",
       "      <td>1.206533</td>\n",
       "      <td>1.556776</td>\n",
       "      <td>2.474339</td>\n",
       "      <td>2.749674</td>\n",
       "      <td>3.331600</td>\n",
       "      <td>2.090634</td>\n",
       "      <td>2.404991</td>\n",
       "    </tr>\n",
       "    <tr>\n",
       "      <th>2517</th>\n",
       "      <td>2.234388</td>\n",
       "      <td>2.124369</td>\n",
       "      <td>1.319698</td>\n",
       "      <td>0.740077</td>\n",
       "      <td>2.758393</td>\n",
       "      <td>2.377033</td>\n",
       "      <td>1.747161</td>\n",
       "      <td>1.686946</td>\n",
       "      <td>1.178946</td>\n",
       "      <td>2.905769</td>\n",
       "      <td>...</td>\n",
       "      <td>1.613517</td>\n",
       "      <td>0.806316</td>\n",
       "      <td>1.256372</td>\n",
       "      <td>1.214730</td>\n",
       "      <td>1.547823</td>\n",
       "      <td>2.442999</td>\n",
       "      <td>2.748847</td>\n",
       "      <td>3.367296</td>\n",
       "      <td>2.083542</td>\n",
       "      <td>2.369196</td>\n",
       "    </tr>\n",
       "    <tr>\n",
       "      <th>2518</th>\n",
       "      <td>2.242004</td>\n",
       "      <td>2.109943</td>\n",
       "      <td>1.309179</td>\n",
       "      <td>0.744874</td>\n",
       "      <td>2.756905</td>\n",
       "      <td>2.372776</td>\n",
       "      <td>1.772242</td>\n",
       "      <td>1.692374</td>\n",
       "      <td>1.180631</td>\n",
       "      <td>2.917864</td>\n",
       "      <td>...</td>\n",
       "      <td>1.616737</td>\n",
       "      <td>0.804875</td>\n",
       "      <td>1.281033</td>\n",
       "      <td>1.207830</td>\n",
       "      <td>1.537842</td>\n",
       "      <td>2.468037</td>\n",
       "      <td>2.734749</td>\n",
       "      <td>3.423318</td>\n",
       "      <td>2.074766</td>\n",
       "      <td>2.363974</td>\n",
       "    </tr>\n",
       "    <tr>\n",
       "      <th>2519</th>\n",
       "      <td>2.254365</td>\n",
       "      <td>2.072376</td>\n",
       "      <td>1.296940</td>\n",
       "      <td>0.755122</td>\n",
       "      <td>2.749123</td>\n",
       "      <td>2.384626</td>\n",
       "      <td>1.768089</td>\n",
       "      <td>1.685914</td>\n",
       "      <td>1.199666</td>\n",
       "      <td>2.918172</td>\n",
       "      <td>...</td>\n",
       "      <td>1.608270</td>\n",
       "      <td>0.806130</td>\n",
       "      <td>1.277601</td>\n",
       "      <td>1.206696</td>\n",
       "      <td>1.523974</td>\n",
       "      <td>2.486255</td>\n",
       "      <td>2.708602</td>\n",
       "      <td>3.458699</td>\n",
       "      <td>2.072638</td>\n",
       "      <td>2.339395</td>\n",
       "    </tr>\n",
       "    <tr>\n",
       "      <th>2520</th>\n",
       "      <td>2.238866</td>\n",
       "      <td>2.090092</td>\n",
       "      <td>1.318352</td>\n",
       "      <td>0.750188</td>\n",
       "      <td>2.754248</td>\n",
       "      <td>2.392370</td>\n",
       "      <td>1.750471</td>\n",
       "      <td>1.701672</td>\n",
       "      <td>1.203685</td>\n",
       "      <td>2.906515</td>\n",
       "      <td>...</td>\n",
       "      <td>1.597826</td>\n",
       "      <td>0.807081</td>\n",
       "      <td>1.282895</td>\n",
       "      <td>1.202581</td>\n",
       "      <td>1.518308</td>\n",
       "      <td>2.482191</td>\n",
       "      <td>2.709270</td>\n",
       "      <td>3.481215</td>\n",
       "      <td>2.041483</td>\n",
       "      <td>2.331678</td>\n",
       "    </tr>\n",
       "  </tbody>\n",
       "</table>\n",
       "<p>2521 rows × 500 columns</p>\n",
       "</div>"
      ],
      "text/plain": [
       "           0         1         2         3         4         5         6    \\\n",
       "0     1.000000  1.000000  1.000000  1.000000  1.000000  1.000000  1.000000   \n",
       "1     1.011415  1.011133  0.998273  1.005165  1.005680  1.000529  1.008409   \n",
       "2     1.020836  1.004000  0.977305  1.002778  0.995714  1.000489  1.005629   \n",
       "3     1.023071  0.998421  0.983920  1.002644  0.985828  0.998626  1.000190   \n",
       "4     1.022575  0.988866  0.992091  1.002825  0.994176  0.986431  1.002246   \n",
       "...        ...       ...       ...       ...       ...       ...       ...   \n",
       "2516  2.241811  2.152398  1.314175  0.739348  2.756893  2.388199  1.740871   \n",
       "2517  2.234388  2.124369  1.319698  0.740077  2.758393  2.377033  1.747161   \n",
       "2518  2.242004  2.109943  1.309179  0.744874  2.756905  2.372776  1.772242   \n",
       "2519  2.254365  2.072376  1.296940  0.755122  2.749123  2.384626  1.768089   \n",
       "2520  2.238866  2.090092  1.318352  0.750188  2.754248  2.392370  1.750471   \n",
       "\n",
       "           7         8         9    ...       490       491       492  \\\n",
       "0     1.000000  1.000000  1.000000  ...  1.000000  1.000000  1.000000   \n",
       "1     0.994953  1.004368  1.009099  ...  0.991793  1.003721  1.007943   \n",
       "2     1.001791  1.009944  1.011033  ...  0.974355  1.000218  0.997221   \n",
       "3     1.000199  0.994414  1.016951  ...  0.976517  1.004437  0.987847   \n",
       "4     0.988964  0.995238  1.021806  ...  0.971951  1.014628  0.984215   \n",
       "...        ...       ...       ...  ...       ...       ...       ...   \n",
       "2516  1.670479  1.169553  2.941646  ...  1.623119  0.803749  1.252215   \n",
       "2517  1.686946  1.178946  2.905769  ...  1.613517  0.806316  1.256372   \n",
       "2518  1.692374  1.180631  2.917864  ...  1.616737  0.804875  1.281033   \n",
       "2519  1.685914  1.199666  2.918172  ...  1.608270  0.806130  1.277601   \n",
       "2520  1.701672  1.203685  2.906515  ...  1.597826  0.807081  1.282895   \n",
       "\n",
       "           493       494       495       496       497       498       499  \n",
       "0     1.000000  1.000000  1.000000  1.000000  1.000000  1.000000  1.000000  \n",
       "1     1.024815  0.987740  1.001689  0.980372  0.991222  1.000567  0.995419  \n",
       "2     1.033905  0.988815  1.011843  0.987510  0.974370  0.990897  1.005083  \n",
       "3     1.014569  0.985594  1.010635  0.990171  0.971241  1.012207  1.006392  \n",
       "4     1.017311  0.995181  1.020192  0.987062  0.984828  0.993492  1.016690  \n",
       "...        ...       ...       ...       ...       ...       ...       ...  \n",
       "2516  1.206533  1.556776  2.474339  2.749674  3.331600  2.090634  2.404991  \n",
       "2517  1.214730  1.547823  2.442999  2.748847  3.367296  2.083542  2.369196  \n",
       "2518  1.207830  1.537842  2.468037  2.734749  3.423318  2.074766  2.363974  \n",
       "2519  1.206696  1.523974  2.486255  2.708602  3.458699  2.072638  2.339395  \n",
       "2520  1.202581  1.518308  2.482191  2.709270  3.481215  2.041483  2.331678  \n",
       "\n",
       "[2521 rows x 500 columns]"
      ]
     },
     "execution_count": 65,
     "metadata": {},
     "output_type": "execute_result"
    }
   ],
   "source": [
    "# Running a Monte Carlo simulation to forecast 10 years cumulative returns\n",
    "MC_Y10.calc_cumulative_return()"
   ]
  },
  {
   "cell_type": "code",
   "execution_count": 66,
   "metadata": {},
   "outputs": [
    {
     "data": {
      "text/plain": [
       "<AxesSubplot:title={'center':'500 Simulations of Cumulative Portfolio Return Trajectories Over the Next 2520 Trading Days.'}>"
      ]
     },
     "execution_count": 66,
     "metadata": {},
     "output_type": "execute_result"
    },
    {
     "data": {
      "image/png": "[encoded data removed]",
      "text/plain": [
       "<Figure size 432x288 with 1 Axes>"
      ]
     },
     "metadata": {
      "needs_background": "light"
     },
     "output_type": "display_data"
    }
   ],
   "source": [
    "# Plot simulation outcomes\n",
    "MC_Y10.plot_simulation()"
   ]
  },
  {
   "cell_type": "code",
   "execution_count": 67,
   "metadata": {},
   "outputs": [
    {
     "data": {
      "text/plain": [
       "<AxesSubplot:title={'center':'Distribution of Final Cumuluative Returns Across All 500 Simulations'}, ylabel='Frequency'>"
      ]
     },
     "execution_count": 67,
     "metadata": {},
     "output_type": "execute_result"
    },
    {
     "data": {
      "image/png": "[encoded data removed]",
      "text/plain": [
       "<Figure size 432x288 with 1 Axes>"
      ]
     },
     "metadata": {
      "needs_background": "light"
     },
     "output_type": "display_data"
    }
   ],
   "source": [
    "# Plot probability distribution and confidence intervals\n",
    "MC_Y10.plot_distribution()"
   ]
  },
  {
   "cell_type": "code",
   "execution_count": 68,
   "metadata": {},
   "outputs": [],
   "source": [
    "# Fetch summary statistics from the Monte Carlo simulation results\n",
    "MC_Y10_stats = MC_Y10.summarize_cumulative_return()"
   ]
  },
  {
   "cell_type": "code",
   "execution_count": 69,
   "metadata": {},
   "outputs": [
    {
     "name": "stdout",
     "output_type": "stream",
     "text": [
      "count           500.000000\n",
      "mean              1.877395\n",
      "std               0.809284\n",
      "min               0.528882\n",
      "25%               1.318526\n",
      "50%               1.700887\n",
      "75%               2.269451\n",
      "max               4.875605\n",
      "95% CI Lower      0.742139\n",
      "95% CI Upper      4.047585\n",
      "Name: 2520, dtype: float64\n"
     ]
    }
   ],
   "source": [
    "# Print summary statistics\n",
    "print(MC_Y10_stats)"
   ]
  },
  {
   "cell_type": "code",
   "execution_count": 70,
   "metadata": {},
   "outputs": [],
   "source": [
    "# Set initial investment\n",
    "initial_investment = 20000*7"
   ]
  },
  {
   "cell_type": "code",
   "execution_count": 71,
   "metadata": {},
   "outputs": [],
   "source": [
    "# Use the lower and upper `95%` confidence intervals to calculate the range of the possible outcomes of our $140,000\n",
    "ci_lower_ten = MC_Y10_stats[8] * initial_investment\n",
    "ci_upper_ten = MC_Y10_stats[9] * initial_investment"
   ]
  },
  {
   "cell_type": "code",
   "execution_count": 72,
   "metadata": {},
   "outputs": [
    {
     "name": "stdout",
     "output_type": "stream",
     "text": [
      "There is a 95% chance that an initial investment of $140,000.00 in the portfolio over the next 10 years will end within in the range of $103,899.53 and $566,661.93\n"
     ]
    }
   ],
   "source": [
    "# Print results\n",
    "print(f\"There is a 95% chance that an initial investment of ${initial_investment:,.2f} in the portfolio\"\n",
    "      f\" over the next 10 years will end within in the range of\"\n",
    "      f\" ${ci_lower_ten:,.2f} and ${ci_upper_ten:,.2f}\")"
   ]
  },
  {
   "cell_type": "markdown",
   "metadata": {},
   "source": [
    "#### Notes:\n",
    "Assuming one would like to maintain a similar lifestyle regardless when one retires,<br>\n",
    "a) retiring in 5 years instead of 30 years time <br>\n",
    "The initial investment amount will need to increase significantly. The above numerical illustration has used an increase of 10 times (or 1000%) in initial investment. <br>\n",
    "The significant increase is to compensate the shorter wealth accumulation period. The investment portfolio was adjusted to include more risk (90% stock and 10% bonds) to boost the expected portfolio return. <br>\n",
    "\n",
    "b) retiring in 10 years instead of 30 years time <br>\n",
    "Similarly, the initial invsetment amount will need to increase signficantly and could be less than the amount as if one would want to retire in 5 years time. The above numerical illustration has used an increase of 7 times (or 700%) in initial investment. The investment portfolio was adjusted to include more risk (70% stock and 30% bonds) to boost the expected portfolio return."
   ]
  },
  {
   "cell_type": "code",
   "execution_count": null,
   "metadata": {},
   "outputs": [],
   "source": []
  }
 ],
 "metadata": {
  "kernelspec": {
   "display_name": "Python 3 (ipykernel)",
   "language": "python",
   "name": "python3"
  },
  "language_info": {
   "codemirror_mode": {
    "name": "ipython",
    "version": 3
   },
   "file_extension": ".py",
   "mimetype": "text/x-python",
   "name": "python",
   "nbconvert_exporter": "python",
   "pygments_lexer": "ipython3",
   "version": "3.7.13"
  },
  "nteract": {
   "version": "0.28.0"
  },
  "toc-showcode": false
 },
 "nbformat": 4,
 "nbformat_minor": 4
}
