{
 "cells": [
  {
   "cell_type": "markdown",
   "metadata": {},
   "source": [
    "# Unit 5 - Financial Planning"
   ]
  },
  {
   "cell_type": "code",
   "execution_count": 1,
   "metadata": {},
   "outputs": [],
   "source": [
    "# Initial imports\n",
    "import os\n",
    "import requests\n",
    "import json\n",
    "import pandas as pd\n",
    "from dotenv import load_dotenv\n",
    "import alpaca_trade_api as tradeapi\n",
    "from MCForecastTools import MCSimulation\n",
    "\n",
    "%matplotlib inline"
   ]
  },
  {
   "cell_type": "code",
   "execution_count": 2,
   "metadata": {},
   "outputs": [
    {
     "data": {
      "text/plain": [
       "True"
      ]
     },
     "execution_count": 2,
     "metadata": {},
     "output_type": "execute_result"
    }
   ],
   "source": [
    "# Load .env enviroment variables\n",
    "load_dotenv()"
   ]
  },
  {
   "cell_type": "markdown",
   "metadata": {
    "tags": []
   },
   "source": [
    "## Part 1 - Personal Finance Planner"
   ]
  },
  {
   "cell_type": "markdown",
   "metadata": {},
   "source": [
    "### Collect Crypto Prices Using the `requests` Library"
   ]
  },
  {
   "cell_type": "code",
   "execution_count": 3,
   "metadata": {},
   "outputs": [],
   "source": [
    "# Set current amount of crypto assets\n",
    "my_btc = 1.2\n",
    "my_eth = 5.3"
   ]
  },
  {
   "cell_type": "code",
   "execution_count": 4,
   "metadata": {},
   "outputs": [],
   "source": [
    "# Crypto API URLs\n",
    "btc_url = \"https://api.alternative.me/v2/ticker/Bitcoin/?convert=USD\"\n",
    "eth_url = \"https://api.alternative.me/v2/ticker/Ethereum/?convert=USD\""
   ]
  },
  {
   "cell_type": "code",
   "execution_count": 5,
   "metadata": {},
   "outputs": [
    {
     "data": {
      "text/plain": [
       "<Response [200]>"
      ]
     },
     "execution_count": 5,
     "metadata": {},
     "output_type": "execute_result"
    }
   ],
   "source": [
    "# Fetch current BTC price\n",
    "btc_price_fetch = requests.get(btc_url)\n",
    "btc_price_fetch"
   ]
  },
  {
   "cell_type": "code",
   "execution_count": 6,
   "metadata": {},
   "outputs": [
    {
     "data": {
      "text/plain": [
       "{'data': {'1': {'id': 1,\n",
       "   'name': 'Bitcoin',\n",
       "   'symbol': 'BTC',\n",
       "   'website_slug': 'bitcoin',\n",
       "   'rank': 1,\n",
       "   'circulating_supply': 19173806,\n",
       "   'total_supply': 19173806,\n",
       "   'max_supply': 21000000,\n",
       "   'quotes': {'USD': {'price': 19382.13,\n",
       "     'volume_24h': 13136954176,\n",
       "     'market_cap': 371714310013,\n",
       "     'percentage_change_1h': -0.0423056379636636,\n",
       "     'percentage_change_24h': -0.576492387952226,\n",
       "     'percentage_change_7d': 0.350324653114901,\n",
       "     'percent_change_1h': -0.0423056379636636,\n",
       "     'percent_change_24h': -0.576492387952226,\n",
       "     'percent_change_7d': 0.350324653114901}},\n",
       "   'last_updated': 1665286452}},\n",
       " 'metadata': {'timestamp': 1665286452,\n",
       "  'num_cryptocurrencies': 3116,\n",
       "  'error': None}}"
      ]
     },
     "execution_count": 6,
     "metadata": {},
     "output_type": "execute_result"
    }
   ],
   "source": [
    "#Load BTC price data into python dictionary using json.loads\n",
    "btc_price_data = json.loads(btc_price_fetch.content.decode('utf-8'))\n",
    "btc_price_data"
   ]
  },
  {
   "cell_type": "code",
   "execution_count": 7,
   "metadata": {},
   "outputs": [
    {
     "data": {
      "text/plain": [
       "19382.13"
      ]
     },
     "execution_count": 7,
     "metadata": {},
     "output_type": "execute_result"
    }
   ],
   "source": [
    "btc_current_price = btc_price_data['data']['1']['quotes']['USD']['price']\n",
    "btc_current_price"
   ]
  },
  {
   "cell_type": "code",
   "execution_count": 8,
   "metadata": {},
   "outputs": [
    {
     "data": {
      "text/plain": [
       "<Response [200]>"
      ]
     },
     "execution_count": 8,
     "metadata": {},
     "output_type": "execute_result"
    }
   ],
   "source": [
    "# Fetch current ETH price\n",
    "eth_price_fetch = requests.get(eth_url)\n",
    "eth_price_fetch"
   ]
  },
  {
   "cell_type": "code",
   "execution_count": 9,
   "metadata": {},
   "outputs": [
    {
     "data": {
      "text/plain": [
       "{'data': {'1027': {'id': 1027,\n",
       "   'name': 'Ethereum',\n",
       "   'symbol': 'ETH',\n",
       "   'website_slug': 'ethereum',\n",
       "   'rank': 2,\n",
       "   'circulating_supply': 120873539,\n",
       "   'total_supply': 120873539,\n",
       "   'max_supply': 120873089,\n",
       "   'quotes': {'USD': {'price': 1310.76,\n",
       "     'volume_24h': 4920079089,\n",
       "     'market_cap': 158432750010,\n",
       "     'percentage_change_1h': 0.0744348758848111,\n",
       "     'percentage_change_24h': -1.3768006936033,\n",
       "     'percentage_change_7d': -0.0386273194831351,\n",
       "     'percent_change_1h': 0.0744348758848111,\n",
       "     'percent_change_24h': -1.3768006936033,\n",
       "     'percent_change_7d': -0.0386273194831351}},\n",
       "   'last_updated': 1665286419}},\n",
       " 'metadata': {'timestamp': 1665286419,\n",
       "  'num_cryptocurrencies': 3116,\n",
       "  'error': None}}"
      ]
     },
     "execution_count": 9,
     "metadata": {},
     "output_type": "execute_result"
    }
   ],
   "source": [
    "#Load ETH price data into python dictionary using json.loads\n",
    "eth_price_data = json.loads(eth_price_fetch.content.decode('utf-8'))\n",
    "eth_price_data"
   ]
  },
  {
   "cell_type": "code",
   "execution_count": 10,
   "metadata": {},
   "outputs": [
    {
     "data": {
      "text/plain": [
       "1310.76"
      ]
     },
     "execution_count": 10,
     "metadata": {},
     "output_type": "execute_result"
    }
   ],
   "source": [
    "eth_current_price = eth_price_data['data']['1027']['quotes']['USD']['price']\n",
    "eth_current_price"
   ]
  },
  {
   "cell_type": "code",
   "execution_count": 11,
   "metadata": {},
   "outputs": [
    {
     "data": {
      "text/plain": [
       "(23258.556, 6947.027999999999)"
      ]
     },
     "execution_count": 11,
     "metadata": {},
     "output_type": "execute_result"
    }
   ],
   "source": [
    "# Compute current value of my crpto\n",
    "my_btc_value = my_btc * btc_current_price\n",
    "my_eth_value = my_eth * eth_current_price\n",
    "my_btc_value, my_eth_value"
   ]
  },
  {
   "cell_type": "code",
   "execution_count": 12,
   "metadata": {},
   "outputs": [
    {
     "name": "stdout",
     "output_type": "stream",
     "text": [
      "The current value of your 1.2 BTC is $23,258.56\n",
      "The current value of your 5.3 ETH is $6,947.03\n"
     ]
    }
   ],
   "source": [
    "# Print current crypto wallet balance\n",
    "print(f\"The current value of your {my_btc} BTC is ${my_btc_value:,.2f}\")\n",
    "print(f\"The current value of your {my_eth} ETH is ${my_eth_value:,.2f}\")"
   ]
  },
  {
   "cell_type": "markdown",
   "metadata": {},
   "source": [
    "### Collect Investments Data Using Alpaca: `SPY` (stocks) and `AGG` (bonds)"
   ]
  },
  {
   "cell_type": "code",
   "execution_count": 13,
   "metadata": {},
   "outputs": [],
   "source": [
    "# Set current amount of shares\n",
    "my_agg = 200\n",
    "my_spy = 50"
   ]
  },
  {
   "cell_type": "code",
   "execution_count": 14,
   "metadata": {},
   "outputs": [],
   "source": [
    "# Set Alpaca API key and secret\n",
    "alpaca_api_key = os.getenv(\"ALPACA_API_KEY\")\n",
    "alpaca_secret_key = os.getenv(\"ALPACA_SECRET_KEY\")"
   ]
  },
  {
   "cell_type": "code",
   "execution_count": 15,
   "metadata": {},
   "outputs": [],
   "source": [
    "# Create the Alpaca API object\n",
    "alpaca_api = tradeapi.REST( alpaca_api_key,\n",
    "                            alpaca_secret_key,\n",
    "                            api_version = 'v2')"
   ]
  },
  {
   "cell_type": "code",
   "execution_count": 16,
   "metadata": {},
   "outputs": [
    {
     "data": {
      "text/plain": [
       "'2022-10-07T00:00:00-04:00'"
      ]
     },
     "execution_count": 16,
     "metadata": {},
     "output_type": "execute_result"
    }
   ],
   "source": [
    "# Format current date as ISO format\n",
    "current_date = pd.Timestamp('2022-10-07', tz = \"America/New_York\").isoformat()\n",
    "current_date"
   ]
  },
  {
   "cell_type": "code",
   "execution_count": 17,
   "metadata": {},
   "outputs": [],
   "source": [
    "# Set the tickers\n",
    "tickers = [\"AGG\", \"SPY\"]\n",
    "\n",
    "# Set timeframe to \"1Day\" for Alpaca API\n",
    "timeframe = \"1Day\""
   ]
  },
  {
   "cell_type": "code",
   "execution_count": 18,
   "metadata": {},
   "outputs": [
    {
     "data": {
      "text/html": [
       "<div>\n",
       "<style scoped>\n",
       "    .dataframe tbody tr th:only-of-type {\n",
       "        vertical-align: middle;\n",
       "    }\n",
       "\n",
       "    .dataframe tbody tr th {\n",
       "        vertical-align: top;\n",
       "    }\n",
       "\n",
       "    .dataframe thead th {\n",
       "        text-align: right;\n",
       "    }\n",
       "</style>\n",
       "<table border=\"1\" class=\"dataframe\">\n",
       "  <thead>\n",
       "    <tr style=\"text-align: right;\">\n",
       "      <th></th>\n",
       "      <th>open</th>\n",
       "      <th>high</th>\n",
       "      <th>low</th>\n",
       "      <th>close</th>\n",
       "      <th>volume</th>\n",
       "      <th>trade_count</th>\n",
       "      <th>vwap</th>\n",
       "      <th>symbol</th>\n",
       "    </tr>\n",
       "    <tr>\n",
       "      <th>timestamp</th>\n",
       "      <th></th>\n",
       "      <th></th>\n",
       "      <th></th>\n",
       "      <th></th>\n",
       "      <th></th>\n",
       "      <th></th>\n",
       "      <th></th>\n",
       "      <th></th>\n",
       "    </tr>\n",
       "  </thead>\n",
       "  <tbody>\n",
       "    <tr>\n",
       "      <th>2022-10-07 04:00:00+00:00</th>\n",
       "      <td>95.81</td>\n",
       "      <td>96.0100</td>\n",
       "      <td>95.68</td>\n",
       "      <td>95.77</td>\n",
       "      <td>6149309</td>\n",
       "      <td>18717</td>\n",
       "      <td>95.836813</td>\n",
       "      <td>AGG</td>\n",
       "    </tr>\n",
       "    <tr>\n",
       "      <th>2022-10-07 04:00:00+00:00</th>\n",
       "      <td>369.06</td>\n",
       "      <td>373.2933</td>\n",
       "      <td>360.94</td>\n",
       "      <td>362.79</td>\n",
       "      <td>107239188</td>\n",
       "      <td>665841</td>\n",
       "      <td>365.065822</td>\n",
       "      <td>SPY</td>\n",
       "    </tr>\n",
       "  </tbody>\n",
       "</table>\n",
       "</div>"
      ],
      "text/plain": [
       "                             open      high     low   close     volume  \\\n",
       "timestamp                                                                \n",
       "2022-10-07 04:00:00+00:00   95.81   96.0100   95.68   95.77    6149309   \n",
       "2022-10-07 04:00:00+00:00  369.06  373.2933  360.94  362.79  107239188   \n",
       "\n",
       "                           trade_count        vwap symbol  \n",
       "timestamp                                                  \n",
       "2022-10-07 04:00:00+00:00        18717   95.836813    AGG  \n",
       "2022-10-07 04:00:00+00:00       665841  365.065822    SPY  "
      ]
     },
     "execution_count": 18,
     "metadata": {},
     "output_type": "execute_result"
    }
   ],
   "source": [
    "# Get current closing prices for SPY and AGG\n",
    "df_stock_current = alpaca_api.get_bars(  tickers,\n",
    "                                         timeframe,\n",
    "                                         start = current_date,\n",
    "                                         end = current_date).df\n",
    "df_stock_current"
   ]
  },
  {
   "cell_type": "code",
   "execution_count": 19,
   "metadata": {},
   "outputs": [],
   "source": [
    "# Reorganize the DataFrame\n",
    "# Separate ticker data\n",
    "df_agg_current = df_stock_current[df_stock_current[\"symbol\"] == \"AGG\"].drop(\"symbol\", axis = 1)\n",
    "df_spy_current = df_stock_current[df_stock_current[\"symbol\"] == \"SPY\"].drop(\"symbol\", axis = 1)"
   ]
  },
  {
   "cell_type": "code",
   "execution_count": 20,
   "metadata": {},
   "outputs": [],
   "source": [
    "# Concatenate the ticker DataFrames\n",
    "df_stock_current = pd.concat([df_agg_current, df_spy_current], axis = 1, keys=[\"AGG\",\"SPY\"])"
   ]
  },
  {
   "cell_type": "code",
   "execution_count": 21,
   "metadata": {},
   "outputs": [
    {
     "data": {
      "text/html": [
       "<div>\n",
       "<style scoped>\n",
       "    .dataframe tbody tr th:only-of-type {\n",
       "        vertical-align: middle;\n",
       "    }\n",
       "\n",
       "    .dataframe tbody tr th {\n",
       "        vertical-align: top;\n",
       "    }\n",
       "\n",
       "    .dataframe thead tr th {\n",
       "        text-align: left;\n",
       "    }\n",
       "\n",
       "    .dataframe thead tr:last-of-type th {\n",
       "        text-align: right;\n",
       "    }\n",
       "</style>\n",
       "<table border=\"1\" class=\"dataframe\">\n",
       "  <thead>\n",
       "    <tr>\n",
       "      <th></th>\n",
       "      <th colspan=\"7\" halign=\"left\">AGG</th>\n",
       "      <th colspan=\"7\" halign=\"left\">SPY</th>\n",
       "    </tr>\n",
       "    <tr>\n",
       "      <th></th>\n",
       "      <th>open</th>\n",
       "      <th>high</th>\n",
       "      <th>low</th>\n",
       "      <th>close</th>\n",
       "      <th>volume</th>\n",
       "      <th>trade_count</th>\n",
       "      <th>vwap</th>\n",
       "      <th>open</th>\n",
       "      <th>high</th>\n",
       "      <th>low</th>\n",
       "      <th>close</th>\n",
       "      <th>volume</th>\n",
       "      <th>trade_count</th>\n",
       "      <th>vwap</th>\n",
       "    </tr>\n",
       "    <tr>\n",
       "      <th>timestamp</th>\n",
       "      <th></th>\n",
       "      <th></th>\n",
       "      <th></th>\n",
       "      <th></th>\n",
       "      <th></th>\n",
       "      <th></th>\n",
       "      <th></th>\n",
       "      <th></th>\n",
       "      <th></th>\n",
       "      <th></th>\n",
       "      <th></th>\n",
       "      <th></th>\n",
       "      <th></th>\n",
       "      <th></th>\n",
       "    </tr>\n",
       "  </thead>\n",
       "  <tbody>\n",
       "    <tr>\n",
       "      <th>2022-10-07 04:00:00+00:00</th>\n",
       "      <td>95.81</td>\n",
       "      <td>96.01</td>\n",
       "      <td>95.68</td>\n",
       "      <td>95.77</td>\n",
       "      <td>6149309</td>\n",
       "      <td>18717</td>\n",
       "      <td>95.836813</td>\n",
       "      <td>369.06</td>\n",
       "      <td>373.2933</td>\n",
       "      <td>360.94</td>\n",
       "      <td>362.79</td>\n",
       "      <td>107239188</td>\n",
       "      <td>665841</td>\n",
       "      <td>365.065822</td>\n",
       "    </tr>\n",
       "  </tbody>\n",
       "</table>\n",
       "</div>"
      ],
      "text/plain": [
       "                             AGG                                            \\\n",
       "                            open   high    low  close   volume trade_count   \n",
       "timestamp                                                                    \n",
       "2022-10-07 04:00:00+00:00  95.81  96.01  95.68  95.77  6149309       18717   \n",
       "\n",
       "                                         SPY                            \\\n",
       "                                vwap    open      high     low   close   \n",
       "timestamp                                                                \n",
       "2022-10-07 04:00:00+00:00  95.836813  369.06  373.2933  360.94  362.79   \n",
       "\n",
       "                                                              \n",
       "                              volume trade_count        vwap  \n",
       "timestamp                                                     \n",
       "2022-10-07 04:00:00+00:00  107239188      665841  365.065822  "
      ]
     },
     "execution_count": 21,
     "metadata": {},
     "output_type": "execute_result"
    }
   ],
   "source": [
    "# Preview DataFrame\n",
    "df_stock_current"
   ]
  },
  {
   "cell_type": "code",
   "execution_count": 22,
   "metadata": {},
   "outputs": [],
   "source": [
    "# Pick AGG and SPY close prices\n",
    "agg_close_price = df_stock_current[\"AGG\"][\"close\"].iloc[0]\n",
    "spy_close_price = df_stock_current[\"SPY\"][\"close\"].iloc[0]"
   ]
  },
  {
   "cell_type": "code",
   "execution_count": 23,
   "metadata": {},
   "outputs": [
    {
     "name": "stdout",
     "output_type": "stream",
     "text": [
      "Current AGG closing price: $95.77\n",
      "Current SPY closing price: $362.79\n"
     ]
    }
   ],
   "source": [
    "# Print AGG and SPY close prices\n",
    "print(f\"Current AGG closing price: ${agg_close_price}\")\n",
    "print(f\"Current SPY closing price: ${spy_close_price}\")"
   ]
  },
  {
   "cell_type": "code",
   "execution_count": 24,
   "metadata": {},
   "outputs": [],
   "source": [
    "# Compute the current value of shares\n",
    "my_agg_value = my_agg * agg_close_price\n",
    "my_spy_value = my_spy * spy_close_price"
   ]
  },
  {
   "cell_type": "code",
   "execution_count": 25,
   "metadata": {},
   "outputs": [
    {
     "name": "stdout",
     "output_type": "stream",
     "text": [
      "The current value of your 50 SPY shares is $18,139.50\n",
      "The current value of your 200 AGG shares is $19,154.00\n"
     ]
    }
   ],
   "source": [
    "# Print current value of shares\n",
    "print(f\"The current value of your {my_spy} SPY shares is ${my_spy_value:,.2f}\")\n",
    "print(f\"The current value of your {my_agg} AGG shares is ${my_agg_value:,.2f}\")"
   ]
  },
  {
   "cell_type": "markdown",
   "metadata": {},
   "source": [
    "### Savings Health Analysis"
   ]
  },
  {
   "cell_type": "code",
   "execution_count": 26,
   "metadata": {},
   "outputs": [],
   "source": [
    "# Set monthly household income\n",
    "monthly_income = 12000"
   ]
  },
  {
   "cell_type": "code",
   "execution_count": 27,
   "metadata": {},
   "outputs": [
    {
     "data": {
      "text/plain": [
       "(30205.584, 37293.5)"
      ]
     },
     "execution_count": 27,
     "metadata": {},
     "output_type": "execute_result"
    }
   ],
   "source": [
    "# Consolidate financial assets data\n",
    "total_crypto_value = my_btc_value + my_eth_value\n",
    "total_share_value = my_agg_value + my_spy_value\n",
    "total_crypto_value , total_share_value"
   ]
  },
  {
   "cell_type": "code",
   "execution_count": 28,
   "metadata": {},
   "outputs": [],
   "source": [
    "# Create savings DataFrame\n",
    "df_savings = pd.DataFrame([total_crypto_value, total_share_value], index=[\"crypto\", \"shares\"], columns = [\"amount\"])"
   ]
  },
  {
   "cell_type": "code",
   "execution_count": 29,
   "metadata": {},
   "outputs": [
    {
     "data": {
      "text/html": [
       "<div>\n",
       "<style scoped>\n",
       "    .dataframe tbody tr th:only-of-type {\n",
       "        vertical-align: middle;\n",
       "    }\n",
       "\n",
       "    .dataframe tbody tr th {\n",
       "        vertical-align: top;\n",
       "    }\n",
       "\n",
       "    .dataframe thead th {\n",
       "        text-align: right;\n",
       "    }\n",
       "</style>\n",
       "<table border=\"1\" class=\"dataframe\">\n",
       "  <thead>\n",
       "    <tr style=\"text-align: right;\">\n",
       "      <th></th>\n",
       "      <th>amount</th>\n",
       "    </tr>\n",
       "  </thead>\n",
       "  <tbody>\n",
       "    <tr>\n",
       "      <th>crypto</th>\n",
       "      <td>30205.584</td>\n",
       "    </tr>\n",
       "    <tr>\n",
       "      <th>shares</th>\n",
       "      <td>37293.500</td>\n",
       "    </tr>\n",
       "  </tbody>\n",
       "</table>\n",
       "</div>"
      ],
      "text/plain": [
       "           amount\n",
       "crypto  30205.584\n",
       "shares  37293.500"
      ]
     },
     "metadata": {},
     "output_type": "display_data"
    }
   ],
   "source": [
    "# Display savings DataFrame\n",
    "display(df_savings)"
   ]
  },
  {
   "cell_type": "code",
   "execution_count": 30,
   "metadata": {},
   "outputs": [
    {
     "data": {
      "text/plain": [
       "<AxesSubplot:title={'center':'Composition of personal savings'}, ylabel='amount'>"
      ]
     },
     "execution_count": 30,
     "metadata": {},
     "output_type": "execute_result"
    },
    {
     "data": {
      "image/png": "[encoded data removed]",
      "text/plain": [
       "<Figure size 432x432 with 1 Axes>"
      ]
     },
     "metadata": {},
     "output_type": "display_data"
    }
   ],
   "source": [
    "# Plot savings pie chart\n",
    "df_savings.plot.pie( y=\"amount\", autopct = '%1.2f%%', figsize = (6,6), title = \"Composition of personal savings\")"
   ]
  },
  {
   "cell_type": "code",
   "execution_count": 31,
   "metadata": {},
   "outputs": [
    {
     "data": {
      "text/plain": [
       "36000"
      ]
     },
     "execution_count": 31,
     "metadata": {},
     "output_type": "execute_result"
    }
   ],
   "source": [
    "# Set ideal emergency fund\n",
    "emergency_fund = monthly_income * 3\n",
    "emergency_fund"
   ]
  },
  {
   "cell_type": "code",
   "execution_count": 32,
   "metadata": {},
   "outputs": [
    {
     "data": {
      "text/plain": [
       "67499.08"
      ]
     },
     "execution_count": 32,
     "metadata": {},
     "output_type": "execute_result"
    }
   ],
   "source": [
    "# Calculate total amount of savings\n",
    "total_savings = round(df_savings[\"amount\"].sum(),2)\n",
    "total_savings"
   ]
  },
  {
   "cell_type": "code",
   "execution_count": 33,
   "metadata": {},
   "outputs": [
    {
     "name": "stdout",
     "output_type": "stream",
     "text": [
      "Congratulation! Total savings are greater than the emergency fund. \n",
      "You have enough money in your fund.\n"
     ]
    }
   ],
   "source": [
    "# Validate saving health\n",
    "if total_savings == emergency_fund:\n",
    "    print (f\"Congratulation! Total savings are equal to emergency fund.\\n\" \n",
    "           f\"You have reached your financial goal having the ideal emergency fund.\")\n",
    "elif total_savings > emergency_fund:\n",
    "    print (f\"Congratulation! Total savings are greater than the emergency fund. \\n\"\n",
    "           f\"You have enough money in your fund.\")\n",
    "else:\n",
    "    gap =  emergency_fund - total_savings\n",
    "    print (f\"You are ${gap:,.2f} away from reaching your financial goal.\")"
   ]
  },
  {
   "cell_type": "markdown",
   "metadata": {},
   "source": [
    "## Part 2 - Retirement Planning\n",
    "\n",
    "### Monte Carlo Simulation"
   ]
  },
  {
   "cell_type": "code",
   "execution_count": 34,
   "metadata": {},
   "outputs": [],
   "source": [
    "# Set start and end dates of five years back from today.\n",
    "# Sample results may vary from the solution based on the time frame chosen\n",
    "start_date = pd.Timestamp('2017-10-07', tz='America/New_York').isoformat()\n",
    "end_date = pd.Timestamp('2022-10-07', tz='America/New_York').isoformat()"
   ]
  },
  {
   "cell_type": "code",
   "execution_count": 35,
   "metadata": {},
   "outputs": [],
   "source": [
    "# Get 5 years' worth of historical data for SPY and AGG\n",
    "df_stock_historical = alpaca_api.get_bars( tickers,\n",
    "                                           timeframe,\n",
    "                                           start = start_date,\n",
    "                                           end = end_date).df"
   ]
  },
  {
   "cell_type": "code",
   "execution_count": 36,
   "metadata": {},
   "outputs": [
    {
     "data": {
      "text/html": [
       "<div>\n",
       "<style scoped>\n",
       "    .dataframe tbody tr th:only-of-type {\n",
       "        vertical-align: middle;\n",
       "    }\n",
       "\n",
       "    .dataframe tbody tr th {\n",
       "        vertical-align: top;\n",
       "    }\n",
       "\n",
       "    .dataframe thead th {\n",
       "        text-align: right;\n",
       "    }\n",
       "</style>\n",
       "<table border=\"1\" class=\"dataframe\">\n",
       "  <thead>\n",
       "    <tr style=\"text-align: right;\">\n",
       "      <th></th>\n",
       "      <th>open</th>\n",
       "      <th>high</th>\n",
       "      <th>low</th>\n",
       "      <th>close</th>\n",
       "      <th>volume</th>\n",
       "      <th>trade_count</th>\n",
       "      <th>vwap</th>\n",
       "      <th>symbol</th>\n",
       "    </tr>\n",
       "    <tr>\n",
       "      <th>timestamp</th>\n",
       "      <th></th>\n",
       "      <th></th>\n",
       "      <th></th>\n",
       "      <th></th>\n",
       "      <th></th>\n",
       "      <th></th>\n",
       "      <th></th>\n",
       "      <th></th>\n",
       "    </tr>\n",
       "  </thead>\n",
       "  <tbody>\n",
       "    <tr>\n",
       "      <th>2017-10-09 04:00:00+00:00</th>\n",
       "      <td>109.35</td>\n",
       "      <td>109.43</td>\n",
       "      <td>109.3000</td>\n",
       "      <td>109.43</td>\n",
       "      <td>1131600</td>\n",
       "      <td>6721</td>\n",
       "      <td>109.380496</td>\n",
       "      <td>AGG</td>\n",
       "    </tr>\n",
       "    <tr>\n",
       "      <th>2017-10-10 04:00:00+00:00</th>\n",
       "      <td>109.47</td>\n",
       "      <td>109.61</td>\n",
       "      <td>109.3999</td>\n",
       "      <td>109.44</td>\n",
       "      <td>1635802</td>\n",
       "      <td>8934</td>\n",
       "      <td>109.488101</td>\n",
       "      <td>AGG</td>\n",
       "    </tr>\n",
       "    <tr>\n",
       "      <th>2017-10-11 04:00:00+00:00</th>\n",
       "      <td>109.47</td>\n",
       "      <td>109.53</td>\n",
       "      <td>109.4200</td>\n",
       "      <td>109.46</td>\n",
       "      <td>2048774</td>\n",
       "      <td>9184</td>\n",
       "      <td>109.479870</td>\n",
       "      <td>AGG</td>\n",
       "    </tr>\n",
       "    <tr>\n",
       "      <th>2017-10-12 04:00:00+00:00</th>\n",
       "      <td>109.56</td>\n",
       "      <td>109.61</td>\n",
       "      <td>109.4800</td>\n",
       "      <td>109.59</td>\n",
       "      <td>1933369</td>\n",
       "      <td>9814</td>\n",
       "      <td>109.543912</td>\n",
       "      <td>AGG</td>\n",
       "    </tr>\n",
       "    <tr>\n",
       "      <th>2017-10-13 04:00:00+00:00</th>\n",
       "      <td>109.82</td>\n",
       "      <td>109.87</td>\n",
       "      <td>109.6900</td>\n",
       "      <td>109.86</td>\n",
       "      <td>1743840</td>\n",
       "      <td>9223</td>\n",
       "      <td>109.799780</td>\n",
       "      <td>AGG</td>\n",
       "    </tr>\n",
       "  </tbody>\n",
       "</table>\n",
       "</div>"
      ],
      "text/plain": [
       "                             open    high       low   close   volume  \\\n",
       "timestamp                                                              \n",
       "2017-10-09 04:00:00+00:00  109.35  109.43  109.3000  109.43  1131600   \n",
       "2017-10-10 04:00:00+00:00  109.47  109.61  109.3999  109.44  1635802   \n",
       "2017-10-11 04:00:00+00:00  109.47  109.53  109.4200  109.46  2048774   \n",
       "2017-10-12 04:00:00+00:00  109.56  109.61  109.4800  109.59  1933369   \n",
       "2017-10-13 04:00:00+00:00  109.82  109.87  109.6900  109.86  1743840   \n",
       "\n",
       "                           trade_count        vwap symbol  \n",
       "timestamp                                                  \n",
       "2017-10-09 04:00:00+00:00         6721  109.380496    AGG  \n",
       "2017-10-10 04:00:00+00:00         8934  109.488101    AGG  \n",
       "2017-10-11 04:00:00+00:00         9184  109.479870    AGG  \n",
       "2017-10-12 04:00:00+00:00         9814  109.543912    AGG  \n",
       "2017-10-13 04:00:00+00:00         9223  109.799780    AGG  "
      ]
     },
     "execution_count": 36,
     "metadata": {},
     "output_type": "execute_result"
    }
   ],
   "source": [
    "df_stock_historical.head()"
   ]
  },
  {
   "cell_type": "code",
   "execution_count": 37,
   "metadata": {},
   "outputs": [],
   "source": [
    "# Reorganize the DataFrame\n",
    "# Separate ticker data\n",
    "df_agg_historical=  df_stock_historical[df_stock_historical[\"symbol\"] == \"AGG\"].drop(\"symbol\", axis = 1)\n",
    "df_spy_historical =  df_stock_historical[df_stock_historical[\"symbol\"] == \"SPY\"].drop(\"symbol\", axis = 1)"
   ]
  },
  {
   "cell_type": "code",
   "execution_count": 38,
   "metadata": {},
   "outputs": [],
   "source": [
    "# Concatenate the ticker DataFrames\n",
    "df_stock_data = pd.concat([df_agg_historical, df_spy_historical], axis = 1, keys=[\"AGG\",\"SPY\"])"
   ]
  },
  {
   "cell_type": "code",
   "execution_count": 39,
   "metadata": {},
   "outputs": [],
   "source": [
    "#remove timestamp from index\n",
    "df_stock_data.index = df_stock_data.index.date"
   ]
  },
  {
   "cell_type": "code",
   "execution_count": 40,
   "metadata": {},
   "outputs": [
    {
     "data": {
      "text/html": [
       "<div>\n",
       "<style scoped>\n",
       "    .dataframe tbody tr th:only-of-type {\n",
       "        vertical-align: middle;\n",
       "    }\n",
       "\n",
       "    .dataframe tbody tr th {\n",
       "        vertical-align: top;\n",
       "    }\n",
       "\n",
       "    .dataframe thead tr th {\n",
       "        text-align: left;\n",
       "    }\n",
       "</style>\n",
       "<table border=\"1\" class=\"dataframe\">\n",
       "  <thead>\n",
       "    <tr>\n",
       "      <th></th>\n",
       "      <th colspan=\"7\" halign=\"left\">AGG</th>\n",
       "      <th colspan=\"7\" halign=\"left\">SPY</th>\n",
       "    </tr>\n",
       "    <tr>\n",
       "      <th></th>\n",
       "      <th>open</th>\n",
       "      <th>high</th>\n",
       "      <th>low</th>\n",
       "      <th>close</th>\n",
       "      <th>volume</th>\n",
       "      <th>trade_count</th>\n",
       "      <th>vwap</th>\n",
       "      <th>open</th>\n",
       "      <th>high</th>\n",
       "      <th>low</th>\n",
       "      <th>close</th>\n",
       "      <th>volume</th>\n",
       "      <th>trade_count</th>\n",
       "      <th>vwap</th>\n",
       "    </tr>\n",
       "  </thead>\n",
       "  <tbody>\n",
       "    <tr>\n",
       "      <th>2017-10-09</th>\n",
       "      <td>109.35</td>\n",
       "      <td>109.43</td>\n",
       "      <td>109.3000</td>\n",
       "      <td>109.43</td>\n",
       "      <td>1131600</td>\n",
       "      <td>6721</td>\n",
       "      <td>109.380496</td>\n",
       "      <td>254.65</td>\n",
       "      <td>254.70</td>\n",
       "      <td>253.650</td>\n",
       "      <td>253.95</td>\n",
       "      <td>35803138</td>\n",
       "      <td>113893</td>\n",
       "      <td>254.099236</td>\n",
       "    </tr>\n",
       "    <tr>\n",
       "      <th>2017-10-10</th>\n",
       "      <td>109.47</td>\n",
       "      <td>109.61</td>\n",
       "      <td>109.3999</td>\n",
       "      <td>109.44</td>\n",
       "      <td>1635802</td>\n",
       "      <td>8934</td>\n",
       "      <td>109.488101</td>\n",
       "      <td>254.59</td>\n",
       "      <td>255.05</td>\n",
       "      <td>253.980</td>\n",
       "      <td>254.62</td>\n",
       "      <td>43057452</td>\n",
       "      <td>140616</td>\n",
       "      <td>254.400559</td>\n",
       "    </tr>\n",
       "    <tr>\n",
       "      <th>2017-10-11</th>\n",
       "      <td>109.47</td>\n",
       "      <td>109.53</td>\n",
       "      <td>109.4200</td>\n",
       "      <td>109.46</td>\n",
       "      <td>2048774</td>\n",
       "      <td>9184</td>\n",
       "      <td>109.479870</td>\n",
       "      <td>254.53</td>\n",
       "      <td>255.02</td>\n",
       "      <td>254.320</td>\n",
       "      <td>255.02</td>\n",
       "      <td>49118035</td>\n",
       "      <td>126972</td>\n",
       "      <td>254.772000</td>\n",
       "    </tr>\n",
       "    <tr>\n",
       "      <th>2017-10-12</th>\n",
       "      <td>109.56</td>\n",
       "      <td>109.61</td>\n",
       "      <td>109.4800</td>\n",
       "      <td>109.59</td>\n",
       "      <td>1933369</td>\n",
       "      <td>9814</td>\n",
       "      <td>109.543912</td>\n",
       "      <td>254.68</td>\n",
       "      <td>255.06</td>\n",
       "      <td>254.365</td>\n",
       "      <td>254.64</td>\n",
       "      <td>47070644</td>\n",
       "      <td>142560</td>\n",
       "      <td>254.735611</td>\n",
       "    </tr>\n",
       "    <tr>\n",
       "      <th>2017-10-13</th>\n",
       "      <td>109.82</td>\n",
       "      <td>109.87</td>\n",
       "      <td>109.6900</td>\n",
       "      <td>109.86</td>\n",
       "      <td>1743840</td>\n",
       "      <td>9223</td>\n",
       "      <td>109.799780</td>\n",
       "      <td>255.15</td>\n",
       "      <td>255.27</td>\n",
       "      <td>254.640</td>\n",
       "      <td>254.95</td>\n",
       "      <td>56197572</td>\n",
       "      <td>149417</td>\n",
       "      <td>254.982007</td>\n",
       "    </tr>\n",
       "  </tbody>\n",
       "</table>\n",
       "</div>"
      ],
      "text/plain": [
       "               AGG                                                             \\\n",
       "              open    high       low   close   volume trade_count        vwap   \n",
       "2017-10-09  109.35  109.43  109.3000  109.43  1131600        6721  109.380496   \n",
       "2017-10-10  109.47  109.61  109.3999  109.44  1635802        8934  109.488101   \n",
       "2017-10-11  109.47  109.53  109.4200  109.46  2048774        9184  109.479870   \n",
       "2017-10-12  109.56  109.61  109.4800  109.59  1933369        9814  109.543912   \n",
       "2017-10-13  109.82  109.87  109.6900  109.86  1743840        9223  109.799780   \n",
       "\n",
       "               SPY                                                             \n",
       "              open    high      low   close    volume trade_count        vwap  \n",
       "2017-10-09  254.65  254.70  253.650  253.95  35803138      113893  254.099236  \n",
       "2017-10-10  254.59  255.05  253.980  254.62  43057452      140616  254.400559  \n",
       "2017-10-11  254.53  255.02  254.320  255.02  49118035      126972  254.772000  \n",
       "2017-10-12  254.68  255.06  254.365  254.64  47070644      142560  254.735611  \n",
       "2017-10-13  255.15  255.27  254.640  254.95  56197572      149417  254.982007  "
      ]
     },
     "execution_count": 40,
     "metadata": {},
     "output_type": "execute_result"
    }
   ],
   "source": [
    "# Display sample data\n",
    "df_stock_data.head()"
   ]
  },
  {
   "cell_type": "code",
   "execution_count": 41,
   "metadata": {},
   "outputs": [],
   "source": [
    "#drop unused columns\n",
    "drop_columns = [\"open\",\"high\",\"low\",\"volume\",\"trade_count\", \"vwap\"]\n",
    "\n",
    "for x in tickers:\n",
    "    for y in drop_columns:\n",
    "        df_stock_data.drop(columns = (x,y), inplace = True)"
   ]
  },
  {
   "cell_type": "code",
   "execution_count": 42,
   "metadata": {},
   "outputs": [],
   "source": [
    "# Configuring a Monte Carlo simulation to forecast 30 years cumulative returns\n",
    "# assume 252 trading days in a year. 30 years means 7560 trading days (30 x 252)\n",
    "# set weight 40% bond AGG and 60% stock SPY\n",
    "MC_Y30 = MCSimulation(portfolio_data = df_stock_data,\n",
    "                      weights = [0.40, 0.60],\n",
    "                      num_simulation = 500 ,\n",
    "                      num_trading_days = 252*30\n",
    "                      )"
   ]
  },
  {
   "cell_type": "code",
   "execution_count": 43,
   "metadata": {},
   "outputs": [
    {
     "data": {
      "text/html": [
       "<div>\n",
       "<style scoped>\n",
       "    .dataframe tbody tr th:only-of-type {\n",
       "        vertical-align: middle;\n",
       "    }\n",
       "\n",
       "    .dataframe tbody tr th {\n",
       "        vertical-align: top;\n",
       "    }\n",
       "\n",
       "    .dataframe thead tr th {\n",
       "        text-align: left;\n",
       "    }\n",
       "</style>\n",
       "<table border=\"1\" class=\"dataframe\">\n",
       "  <thead>\n",
       "    <tr>\n",
       "      <th></th>\n",
       "      <th colspan=\"2\" halign=\"left\">AGG</th>\n",
       "      <th colspan=\"2\" halign=\"left\">SPY</th>\n",
       "    </tr>\n",
       "    <tr>\n",
       "      <th></th>\n",
       "      <th>close</th>\n",
       "      <th>daily_return</th>\n",
       "      <th>close</th>\n",
       "      <th>daily_return</th>\n",
       "    </tr>\n",
       "  </thead>\n",
       "  <tbody>\n",
       "    <tr>\n",
       "      <th>2017-10-09</th>\n",
       "      <td>109.43</td>\n",
       "      <td>NaN</td>\n",
       "      <td>253.95</td>\n",
       "      <td>NaN</td>\n",
       "    </tr>\n",
       "    <tr>\n",
       "      <th>2017-10-10</th>\n",
       "      <td>109.44</td>\n",
       "      <td>0.000091</td>\n",
       "      <td>254.62</td>\n",
       "      <td>0.002638</td>\n",
       "    </tr>\n",
       "    <tr>\n",
       "      <th>2017-10-11</th>\n",
       "      <td>109.46</td>\n",
       "      <td>0.000183</td>\n",
       "      <td>255.02</td>\n",
       "      <td>0.001571</td>\n",
       "    </tr>\n",
       "    <tr>\n",
       "      <th>2017-10-12</th>\n",
       "      <td>109.59</td>\n",
       "      <td>0.001188</td>\n",
       "      <td>254.64</td>\n",
       "      <td>-0.001490</td>\n",
       "    </tr>\n",
       "    <tr>\n",
       "      <th>2017-10-13</th>\n",
       "      <td>109.86</td>\n",
       "      <td>0.002464</td>\n",
       "      <td>254.95</td>\n",
       "      <td>0.001217</td>\n",
       "    </tr>\n",
       "  </tbody>\n",
       "</table>\n",
       "</div>"
      ],
      "text/plain": [
       "               AGG                  SPY             \n",
       "             close daily_return   close daily_return\n",
       "2017-10-09  109.43          NaN  253.95          NaN\n",
       "2017-10-10  109.44     0.000091  254.62     0.002638\n",
       "2017-10-11  109.46     0.000183  255.02     0.001571\n",
       "2017-10-12  109.59     0.001188  254.64    -0.001490\n",
       "2017-10-13  109.86     0.002464  254.95     0.001217"
      ]
     },
     "execution_count": 43,
     "metadata": {},
     "output_type": "execute_result"
    }
   ],
   "source": [
    "# Printing the simulation input data\n",
    "MC_Y30.portfolio_data.head()"
   ]
  },
  {
   "cell_type": "code",
   "execution_count": 44,
   "metadata": {},
   "outputs": [
    {
     "data": {
      "text/html": [
       "<div>\n",
       "<style scoped>\n",
       "    .dataframe tbody tr th:only-of-type {\n",
       "        vertical-align: middle;\n",
       "    }\n",
       "\n",
       "    .dataframe tbody tr th {\n",
       "        vertical-align: top;\n",
       "    }\n",
       "\n",
       "    .dataframe thead tr th {\n",
       "        text-align: left;\n",
       "    }\n",
       "</style>\n",
       "<table border=\"1\" class=\"dataframe\">\n",
       "  <thead>\n",
       "    <tr>\n",
       "      <th></th>\n",
       "      <th colspan=\"2\" halign=\"left\">AGG</th>\n",
       "      <th colspan=\"2\" halign=\"left\">SPY</th>\n",
       "    </tr>\n",
       "    <tr>\n",
       "      <th></th>\n",
       "      <th>close</th>\n",
       "      <th>daily_return</th>\n",
       "      <th>close</th>\n",
       "      <th>daily_return</th>\n",
       "    </tr>\n",
       "  </thead>\n",
       "  <tbody>\n",
       "    <tr>\n",
       "      <th>count</th>\n",
       "      <td>1259.000000</td>\n",
       "      <td>1258.000000</td>\n",
       "      <td>1259.000000</td>\n",
       "      <td>1258.000000</td>\n",
       "    </tr>\n",
       "    <tr>\n",
       "      <th>mean</th>\n",
       "      <td>110.838729</td>\n",
       "      <td>-0.000100</td>\n",
       "      <td>338.587903</td>\n",
       "      <td>0.000372</td>\n",
       "    </tr>\n",
       "    <tr>\n",
       "      <th>std</th>\n",
       "      <td>5.258128</td>\n",
       "      <td>0.003463</td>\n",
       "      <td>68.118034</td>\n",
       "      <td>0.013254</td>\n",
       "    </tr>\n",
       "    <tr>\n",
       "      <th>min</th>\n",
       "      <td>95.540000</td>\n",
       "      <td>-0.040010</td>\n",
       "      <td>222.950000</td>\n",
       "      <td>-0.109424</td>\n",
       "    </tr>\n",
       "    <tr>\n",
       "      <th>25%</th>\n",
       "      <td>106.470000</td>\n",
       "      <td>-0.001420</td>\n",
       "      <td>279.555000</td>\n",
       "      <td>-0.004465</td>\n",
       "    </tr>\n",
       "    <tr>\n",
       "      <th>50%</th>\n",
       "      <td>111.400000</td>\n",
       "      <td>0.000088</td>\n",
       "      <td>313.780000</td>\n",
       "      <td>0.000787</td>\n",
       "    </tr>\n",
       "    <tr>\n",
       "      <th>75%</th>\n",
       "      <td>115.060000</td>\n",
       "      <td>0.001416</td>\n",
       "      <td>400.825000</td>\n",
       "      <td>0.006696</td>\n",
       "    </tr>\n",
       "    <tr>\n",
       "      <th>max</th>\n",
       "      <td>119.630000</td>\n",
       "      <td>0.023721</td>\n",
       "      <td>477.710000</td>\n",
       "      <td>0.090603</td>\n",
       "    </tr>\n",
       "  </tbody>\n",
       "</table>\n",
       "</div>"
      ],
      "text/plain": [
       "               AGG                       SPY             \n",
       "             close daily_return        close daily_return\n",
       "count  1259.000000  1258.000000  1259.000000  1258.000000\n",
       "mean    110.838729    -0.000100   338.587903     0.000372\n",
       "std       5.258128     0.003463    68.118034     0.013254\n",
       "min      95.540000    -0.040010   222.950000    -0.109424\n",
       "25%     106.470000    -0.001420   279.555000    -0.004465\n",
       "50%     111.400000     0.000088   313.780000     0.000787\n",
       "75%     115.060000     0.001416   400.825000     0.006696\n",
       "max     119.630000     0.023721   477.710000     0.090603"
      ]
     },
     "execution_count": 44,
     "metadata": {},
     "output_type": "execute_result"
    }
   ],
   "source": [
    "MC_Y30.portfolio_data.describe()"
   ]
  },
  {
   "cell_type": "code",
   "execution_count": 45,
   "metadata": {},
   "outputs": [
    {
     "name": "stdout",
     "output_type": "stream",
     "text": [
      "Running Monte Carlo simulation number 0.\n",
      "Running Monte Carlo simulation number 10.\n",
      "Running Monte Carlo simulation number 20.\n",
      "Running Monte Carlo simulation number 30.\n",
      "Running Monte Carlo simulation number 40.\n",
      "Running Monte Carlo simulation number 50.\n",
      "Running Monte Carlo simulation number 60.\n",
      "Running Monte Carlo simulation number 70.\n",
      "Running Monte Carlo simulation number 80.\n",
      "Running Monte Carlo simulation number 90.\n",
      "Running Monte Carlo simulation number 100.\n"
     ]
    },
    {
     "name": "stderr",
     "output_type": "stream",
     "text": [
      "C:\\Users\\twigi\\FTBC\\W5_Assignment\\APIs-homework\\MCForecastTools.py:117: PerformanceWarning: DataFrame is highly fragmented.  This is usually the result of calling `frame.insert` many times, which has poor performance.  Consider joining all columns at once using pd.concat(axis=1) instead.  To get a de-fragmented frame, use `newframe = frame.copy()`\n",
      "  portfolio_cumulative_returns[n] = (1 + sim_df.fillna(0)).cumprod()\n"
     ]
    },
    {
     "name": "stdout",
     "output_type": "stream",
     "text": [
      "Running Monte Carlo simulation number 110.\n",
      "Running Monte Carlo simulation number 120.\n",
      "Running Monte Carlo simulation number 130.\n",
      "Running Monte Carlo simulation number 140.\n",
      "Running Monte Carlo simulation number 150.\n",
      "Running Monte Carlo simulation number 160.\n",
      "Running Monte Carlo simulation number 170.\n",
      "Running Monte Carlo simulation number 180.\n",
      "Running Monte Carlo simulation number 190.\n",
      "Running Monte Carlo simulation number 200.\n",
      "Running Monte Carlo simulation number 210.\n",
      "Running Monte Carlo simulation number 220.\n",
      "Running Monte Carlo simulation number 230.\n",
      "Running Monte Carlo simulation number 240.\n",
      "Running Monte Carlo simulation number 250.\n",
      "Running Monte Carlo simulation number 260.\n",
      "Running Monte Carlo simulation number 270.\n",
      "Running Monte Carlo simulation number 280.\n",
      "Running Monte Carlo simulation number 290.\n",
      "Running Monte Carlo simulation number 300.\n",
      "Running Monte Carlo simulation number 310.\n",
      "Running Monte Carlo simulation number 320.\n",
      "Running Monte Carlo simulation number 330.\n",
      "Running Monte Carlo simulation number 340.\n",
      "Running Monte Carlo simulation number 350.\n",
      "Running Monte Carlo simulation number 360.\n",
      "Running Monte Carlo simulation number 370.\n",
      "Running Monte Carlo simulation number 380.\n",
      "Running Monte Carlo simulation number 390.\n",
      "Running Monte Carlo simulation number 400.\n",
      "Running Monte Carlo simulation number 410.\n",
      "Running Monte Carlo simulation number 420.\n",
      "Running Monte Carlo simulation number 430.\n",
      "Running Monte Carlo simulation number 440.\n",
      "Running Monte Carlo simulation number 450.\n",
      "Running Monte Carlo simulation number 460.\n",
      "Running Monte Carlo simulation number 470.\n",
      "Running Monte Carlo simulation number 480.\n",
      "Running Monte Carlo simulation number 490.\n"
     ]
    },
    {
     "data": {
      "text/html": [
       "<div>\n",
       "<style scoped>\n",
       "    .dataframe tbody tr th:only-of-type {\n",
       "        vertical-align: middle;\n",
       "    }\n",
       "\n",
       "    .dataframe tbody tr th {\n",
       "        vertical-align: top;\n",
       "    }\n",
       "\n",
       "    .dataframe thead th {\n",
       "        text-align: right;\n",
       "    }\n",
       "</style>\n",
       "<table border=\"1\" class=\"dataframe\">\n",
       "  <thead>\n",
       "    <tr style=\"text-align: right;\">\n",
       "      <th></th>\n",
       "      <th>0</th>\n",
       "      <th>1</th>\n",
       "      <th>2</th>\n",
       "      <th>3</th>\n",
       "      <th>4</th>\n",
       "      <th>5</th>\n",
       "      <th>6</th>\n",
       "      <th>7</th>\n",
       "      <th>8</th>\n",
       "      <th>9</th>\n",
       "      <th>...</th>\n",
       "      <th>490</th>\n",
       "      <th>491</th>\n",
       "      <th>492</th>\n",
       "      <th>493</th>\n",
       "      <th>494</th>\n",
       "      <th>495</th>\n",
       "      <th>496</th>\n",
       "      <th>497</th>\n",
       "      <th>498</th>\n",
       "      <th>499</th>\n",
       "    </tr>\n",
       "  </thead>\n",
       "  <tbody>\n",
       "    <tr>\n",
       "      <th>0</th>\n",
       "      <td>1.000000</td>\n",
       "      <td>1.000000</td>\n",
       "      <td>1.000000</td>\n",
       "      <td>1.000000</td>\n",
       "      <td>1.000000</td>\n",
       "      <td>1.000000</td>\n",
       "      <td>1.000000</td>\n",
       "      <td>1.000000</td>\n",
       "      <td>1.000000</td>\n",
       "      <td>1.000000</td>\n",
       "      <td>...</td>\n",
       "      <td>1.000000</td>\n",
       "      <td>1.000000</td>\n",
       "      <td>1.000000</td>\n",
       "      <td>1.000000</td>\n",
       "      <td>1.000000</td>\n",
       "      <td>1.000000</td>\n",
       "      <td>1.000000</td>\n",
       "      <td>1.000000</td>\n",
       "      <td>1.000000</td>\n",
       "      <td>1.000000</td>\n",
       "    </tr>\n",
       "    <tr>\n",
       "      <th>1</th>\n",
       "      <td>1.003940</td>\n",
       "      <td>1.010080</td>\n",
       "      <td>0.997804</td>\n",
       "      <td>0.984136</td>\n",
       "      <td>1.009534</td>\n",
       "      <td>1.001790</td>\n",
       "      <td>1.020912</td>\n",
       "      <td>0.998336</td>\n",
       "      <td>1.005976</td>\n",
       "      <td>1.003042</td>\n",
       "      <td>...</td>\n",
       "      <td>0.993308</td>\n",
       "      <td>0.995992</td>\n",
       "      <td>0.989687</td>\n",
       "      <td>0.993216</td>\n",
       "      <td>0.998291</td>\n",
       "      <td>0.992183</td>\n",
       "      <td>1.002621</td>\n",
       "      <td>0.994448</td>\n",
       "      <td>1.008712</td>\n",
       "      <td>0.994201</td>\n",
       "    </tr>\n",
       "    <tr>\n",
       "      <th>2</th>\n",
       "      <td>0.990411</td>\n",
       "      <td>1.015052</td>\n",
       "      <td>1.000544</td>\n",
       "      <td>0.991560</td>\n",
       "      <td>1.001291</td>\n",
       "      <td>1.004634</td>\n",
       "      <td>1.004923</td>\n",
       "      <td>1.012426</td>\n",
       "      <td>1.016800</td>\n",
       "      <td>0.992985</td>\n",
       "      <td>...</td>\n",
       "      <td>0.978144</td>\n",
       "      <td>1.003873</td>\n",
       "      <td>0.990987</td>\n",
       "      <td>0.988107</td>\n",
       "      <td>0.999785</td>\n",
       "      <td>0.991069</td>\n",
       "      <td>0.992327</td>\n",
       "      <td>0.992999</td>\n",
       "      <td>1.000630</td>\n",
       "      <td>0.987704</td>\n",
       "    </tr>\n",
       "    <tr>\n",
       "      <th>3</th>\n",
       "      <td>1.002371</td>\n",
       "      <td>1.030938</td>\n",
       "      <td>0.993659</td>\n",
       "      <td>0.993624</td>\n",
       "      <td>1.005457</td>\n",
       "      <td>0.991667</td>\n",
       "      <td>0.986555</td>\n",
       "      <td>1.002549</td>\n",
       "      <td>1.009898</td>\n",
       "      <td>0.996534</td>\n",
       "      <td>...</td>\n",
       "      <td>0.976983</td>\n",
       "      <td>0.994687</td>\n",
       "      <td>0.992579</td>\n",
       "      <td>0.990709</td>\n",
       "      <td>0.994290</td>\n",
       "      <td>0.988788</td>\n",
       "      <td>0.997732</td>\n",
       "      <td>1.003981</td>\n",
       "      <td>1.006133</td>\n",
       "      <td>0.980634</td>\n",
       "    </tr>\n",
       "    <tr>\n",
       "      <th>4</th>\n",
       "      <td>1.011384</td>\n",
       "      <td>1.030408</td>\n",
       "      <td>1.009613</td>\n",
       "      <td>0.980345</td>\n",
       "      <td>1.015073</td>\n",
       "      <td>0.997697</td>\n",
       "      <td>0.975205</td>\n",
       "      <td>1.010001</td>\n",
       "      <td>1.007234</td>\n",
       "      <td>0.999322</td>\n",
       "      <td>...</td>\n",
       "      <td>0.984206</td>\n",
       "      <td>0.991849</td>\n",
       "      <td>1.001287</td>\n",
       "      <td>0.981870</td>\n",
       "      <td>0.991033</td>\n",
       "      <td>0.985708</td>\n",
       "      <td>1.005623</td>\n",
       "      <td>0.993653</td>\n",
       "      <td>0.995221</td>\n",
       "      <td>0.983145</td>\n",
       "    </tr>\n",
       "    <tr>\n",
       "      <th>...</th>\n",
       "      <td>...</td>\n",
       "      <td>...</td>\n",
       "      <td>...</td>\n",
       "      <td>...</td>\n",
       "      <td>...</td>\n",
       "      <td>...</td>\n",
       "      <td>...</td>\n",
       "      <td>...</td>\n",
       "      <td>...</td>\n",
       "      <td>...</td>\n",
       "      <td>...</td>\n",
       "      <td>...</td>\n",
       "      <td>...</td>\n",
       "      <td>...</td>\n",
       "      <td>...</td>\n",
       "      <td>...</td>\n",
       "      <td>...</td>\n",
       "      <td>...</td>\n",
       "      <td>...</td>\n",
       "      <td>...</td>\n",
       "      <td>...</td>\n",
       "    </tr>\n",
       "    <tr>\n",
       "      <th>7556</th>\n",
       "      <td>3.526935</td>\n",
       "      <td>3.474011</td>\n",
       "      <td>6.585477</td>\n",
       "      <td>0.781093</td>\n",
       "      <td>3.488951</td>\n",
       "      <td>4.004735</td>\n",
       "      <td>5.479620</td>\n",
       "      <td>0.838240</td>\n",
       "      <td>1.490808</td>\n",
       "      <td>3.401805</td>\n",
       "      <td>...</td>\n",
       "      <td>3.554998</td>\n",
       "      <td>5.283334</td>\n",
       "      <td>1.397871</td>\n",
       "      <td>10.250603</td>\n",
       "      <td>0.876818</td>\n",
       "      <td>2.365763</td>\n",
       "      <td>0.826752</td>\n",
       "      <td>1.385813</td>\n",
       "      <td>2.209675</td>\n",
       "      <td>13.800268</td>\n",
       "    </tr>\n",
       "    <tr>\n",
       "      <th>7557</th>\n",
       "      <td>3.508223</td>\n",
       "      <td>3.468999</td>\n",
       "      <td>6.579333</td>\n",
       "      <td>0.789869</td>\n",
       "      <td>3.482655</td>\n",
       "      <td>4.041741</td>\n",
       "      <td>5.487829</td>\n",
       "      <td>0.841889</td>\n",
       "      <td>1.502629</td>\n",
       "      <td>3.421145</td>\n",
       "      <td>...</td>\n",
       "      <td>3.572709</td>\n",
       "      <td>5.313913</td>\n",
       "      <td>1.416767</td>\n",
       "      <td>10.216130</td>\n",
       "      <td>0.889347</td>\n",
       "      <td>2.383536</td>\n",
       "      <td>0.818093</td>\n",
       "      <td>1.394365</td>\n",
       "      <td>2.201544</td>\n",
       "      <td>13.976484</td>\n",
       "    </tr>\n",
       "    <tr>\n",
       "      <th>7558</th>\n",
       "      <td>3.493058</td>\n",
       "      <td>3.476644</td>\n",
       "      <td>6.546148</td>\n",
       "      <td>0.782305</td>\n",
       "      <td>3.525332</td>\n",
       "      <td>4.045488</td>\n",
       "      <td>5.410251</td>\n",
       "      <td>0.842977</td>\n",
       "      <td>1.500120</td>\n",
       "      <td>3.482416</td>\n",
       "      <td>...</td>\n",
       "      <td>3.589188</td>\n",
       "      <td>5.262599</td>\n",
       "      <td>1.427304</td>\n",
       "      <td>10.397365</td>\n",
       "      <td>0.887731</td>\n",
       "      <td>2.372449</td>\n",
       "      <td>0.817670</td>\n",
       "      <td>1.395935</td>\n",
       "      <td>2.228086</td>\n",
       "      <td>13.859241</td>\n",
       "    </tr>\n",
       "    <tr>\n",
       "      <th>7559</th>\n",
       "      <td>3.475007</td>\n",
       "      <td>3.524856</td>\n",
       "      <td>6.550636</td>\n",
       "      <td>0.780020</td>\n",
       "      <td>3.553949</td>\n",
       "      <td>4.098093</td>\n",
       "      <td>5.322403</td>\n",
       "      <td>0.845421</td>\n",
       "      <td>1.468522</td>\n",
       "      <td>3.514781</td>\n",
       "      <td>...</td>\n",
       "      <td>3.552129</td>\n",
       "      <td>5.304630</td>\n",
       "      <td>1.403291</td>\n",
       "      <td>10.382852</td>\n",
       "      <td>0.881658</td>\n",
       "      <td>2.399235</td>\n",
       "      <td>0.821078</td>\n",
       "      <td>1.395073</td>\n",
       "      <td>2.267087</td>\n",
       "      <td>13.940495</td>\n",
       "    </tr>\n",
       "    <tr>\n",
       "      <th>7560</th>\n",
       "      <td>3.444954</td>\n",
       "      <td>3.503764</td>\n",
       "      <td>6.594336</td>\n",
       "      <td>0.781865</td>\n",
       "      <td>3.550606</td>\n",
       "      <td>4.142585</td>\n",
       "      <td>5.308346</td>\n",
       "      <td>0.842915</td>\n",
       "      <td>1.463555</td>\n",
       "      <td>3.593825</td>\n",
       "      <td>...</td>\n",
       "      <td>3.523939</td>\n",
       "      <td>5.282462</td>\n",
       "      <td>1.417382</td>\n",
       "      <td>10.258718</td>\n",
       "      <td>0.879501</td>\n",
       "      <td>2.407775</td>\n",
       "      <td>0.811101</td>\n",
       "      <td>1.389597</td>\n",
       "      <td>2.291845</td>\n",
       "      <td>14.202850</td>\n",
       "    </tr>\n",
       "  </tbody>\n",
       "</table>\n",
       "<p>7561 rows × 500 columns</p>\n",
       "</div>"
      ],
      "text/plain": [
       "           0         1         2         3         4         5         6    \\\n",
       "0     1.000000  1.000000  1.000000  1.000000  1.000000  1.000000  1.000000   \n",
       "1     1.003940  1.010080  0.997804  0.984136  1.009534  1.001790  1.020912   \n",
       "2     0.990411  1.015052  1.000544  0.991560  1.001291  1.004634  1.004923   \n",
       "3     1.002371  1.030938  0.993659  0.993624  1.005457  0.991667  0.986555   \n",
       "4     1.011384  1.030408  1.009613  0.980345  1.015073  0.997697  0.975205   \n",
       "...        ...       ...       ...       ...       ...       ...       ...   \n",
       "7556  3.526935  3.474011  6.585477  0.781093  3.488951  4.004735  5.479620   \n",
       "7557  3.508223  3.468999  6.579333  0.789869  3.482655  4.041741  5.487829   \n",
       "7558  3.493058  3.476644  6.546148  0.782305  3.525332  4.045488  5.410251   \n",
       "7559  3.475007  3.524856  6.550636  0.780020  3.553949  4.098093  5.322403   \n",
       "7560  3.444954  3.503764  6.594336  0.781865  3.550606  4.142585  5.308346   \n",
       "\n",
       "           7         8         9    ...       490       491       492  \\\n",
       "0     1.000000  1.000000  1.000000  ...  1.000000  1.000000  1.000000   \n",
       "1     0.998336  1.005976  1.003042  ...  0.993308  0.995992  0.989687   \n",
       "2     1.012426  1.016800  0.992985  ...  0.978144  1.003873  0.990987   \n",
       "3     1.002549  1.009898  0.996534  ...  0.976983  0.994687  0.992579   \n",
       "4     1.010001  1.007234  0.999322  ...  0.984206  0.991849  1.001287   \n",
       "...        ...       ...       ...  ...       ...       ...       ...   \n",
       "7556  0.838240  1.490808  3.401805  ...  3.554998  5.283334  1.397871   \n",
       "7557  0.841889  1.502629  3.421145  ...  3.572709  5.313913  1.416767   \n",
       "7558  0.842977  1.500120  3.482416  ...  3.589188  5.262599  1.427304   \n",
       "7559  0.845421  1.468522  3.514781  ...  3.552129  5.304630  1.403291   \n",
       "7560  0.842915  1.463555  3.593825  ...  3.523939  5.282462  1.417382   \n",
       "\n",
       "            493       494       495       496       497       498        499  \n",
       "0      1.000000  1.000000  1.000000  1.000000  1.000000  1.000000   1.000000  \n",
       "1      0.993216  0.998291  0.992183  1.002621  0.994448  1.008712   0.994201  \n",
       "2      0.988107  0.999785  0.991069  0.992327  0.992999  1.000630   0.987704  \n",
       "3      0.990709  0.994290  0.988788  0.997732  1.003981  1.006133   0.980634  \n",
       "4      0.981870  0.991033  0.985708  1.005623  0.993653  0.995221   0.983145  \n",
       "...         ...       ...       ...       ...       ...       ...        ...  \n",
       "7556  10.250603  0.876818  2.365763  0.826752  1.385813  2.209675  13.800268  \n",
       "7557  10.216130  0.889347  2.383536  0.818093  1.394365  2.201544  13.976484  \n",
       "7558  10.397365  0.887731  2.372449  0.817670  1.395935  2.228086  13.859241  \n",
       "7559  10.382852  0.881658  2.399235  0.821078  1.395073  2.267087  13.940495  \n",
       "7560  10.258718  0.879501  2.407775  0.811101  1.389597  2.291845  14.202850  \n",
       "\n",
       "[7561 rows x 500 columns]"
      ]
     },
     "execution_count": 45,
     "metadata": {},
     "output_type": "execute_result"
    }
   ],
   "source": [
    "# Running a Monte Carlo simulation to forecast 30 years cumulative returns\n",
    "MC_Y30.calc_cumulative_return()"
   ]
  },
  {
   "cell_type": "code",
   "execution_count": 46,
   "metadata": {},
   "outputs": [
    {
     "data": {
      "text/plain": [
       "<AxesSubplot:title={'center':'500 Simulations of Cumulative Portfolio Return Trajectories Over the Next 7560 Trading Days.'}>"
      ]
     },
     "execution_count": 46,
     "metadata": {},
     "output_type": "execute_result"
    },
    {
     "data": {
      "image/png": "[encoded data removed]",
      "text/plain": [
       "<Figure size 432x288 with 1 Axes>"
      ]
     },
     "metadata": {
      "needs_background": "light"
     },
     "output_type": "display_data"
    }
   ],
   "source": [
    "# Plot simulation outcomes\n",
    "MC_Y30.plot_simulation()"
   ]
  },
  {
   "cell_type": "code",
   "execution_count": 47,
   "metadata": {},
   "outputs": [
    {
     "data": {
      "text/plain": [
       "<AxesSubplot:title={'center':'Distribution of Final Cumuluative Returns Across All 500 Simulations'}, ylabel='Frequency'>"
      ]
     },
     "execution_count": 47,
     "metadata": {},
     "output_type": "execute_result"
    },
    {
     "data": {
      "image/png": "[encoded data removed]",
      "text/plain": [
       "<Figure size 432x288 with 1 Axes>"
      ]
     },
     "metadata": {
      "needs_background": "light"
     },
     "output_type": "display_data"
    }
   ],
   "source": [
    "# Plot probability distribution and confidence intervals\n",
    "MC_Y30.plot_distribution()"
   ]
  },
  {
   "cell_type": "markdown",
   "metadata": {},
   "source": [
    "### Retirement Analysis"
   ]
  },
  {
   "cell_type": "code",
   "execution_count": 48,
   "metadata": {},
   "outputs": [],
   "source": [
    "# Fetch summary statistics from the Monte Carlo simulation results\n",
    "MC_Y30_stats = MC_Y30.summarize_cumulative_return()"
   ]
  },
  {
   "cell_type": "code",
   "execution_count": 49,
   "metadata": {},
   "outputs": [
    {
     "name": "stdout",
     "output_type": "stream",
     "text": [
      "count           500.000000\n",
      "mean              4.258956\n",
      "std               3.769105\n",
      "min               0.411913\n",
      "25%               1.932418\n",
      "50%               3.110414\n",
      "75%               5.196820\n",
      "max              34.973788\n",
      "95% CI Lower      0.822689\n",
      "95% CI Upper     14.720108\n",
      "Name: 7560, dtype: float64\n"
     ]
    }
   ],
   "source": [
    "# Print summary statistics\n",
    "print(MC_Y30_stats)"
   ]
  },
  {
   "cell_type": "markdown",
   "metadata": {},
   "source": [
    "### Calculate the expected portfolio return at the `95%` lower and upper confidence intervals based on a `$20,000` initial investment."
   ]
  },
  {
   "cell_type": "code",
   "execution_count": 50,
   "metadata": {},
   "outputs": [],
   "source": [
    "# Set initial investment\n",
    "initial_investment = 20000"
   ]
  },
  {
   "cell_type": "code",
   "execution_count": 51,
   "metadata": {},
   "outputs": [],
   "source": [
    "# Use the lower and upper `95%` confidence intervals to calculate the range of the possible outcomes of our $20,000\n",
    "ci_lower = round(MC_Y30_stats[8] * initial_investment, 2)\n",
    "ci_upper = round(MC_Y30_stats[9] * initial_investment, 2)"
   ]
  },
  {
   "cell_type": "code",
   "execution_count": 52,
   "metadata": {},
   "outputs": [
    {
     "name": "stdout",
     "output_type": "stream",
     "text": [
      "There is a 95% chance that an initial investment of $20,000.00 in the portfolio over the next 30 years will end within in the range of $16,453.79 and $294,402.17\n"
     ]
    }
   ],
   "source": [
    "# Print results\n",
    "print(f\"There is a 95% chance that an initial investment of ${initial_investment:,.2f} in the portfolio\"\n",
    "      f\" over the next 30 years will end within in the range of\"\n",
    "      f\" ${ci_lower:,.2f} and ${ci_upper:,.2f}\")"
   ]
  },
  {
   "cell_type": "markdown",
   "metadata": {},
   "source": [
    "### Calculate the expected portfolio return at the `95%` lower and upper confidence intervals based on a `50%` increase in the initial investment."
   ]
  },
  {
   "cell_type": "code",
   "execution_count": 53,
   "metadata": {},
   "outputs": [],
   "source": [
    "# Set initial investment\n",
    "initial_investment = 20000 * 1.5"
   ]
  },
  {
   "cell_type": "code",
   "execution_count": 54,
   "metadata": {},
   "outputs": [],
   "source": [
    "# Use the lower and upper `95%` confidence intervals to calculate the range of the possible outcomes of our $30,000\n",
    "ci_lower = round(MC_Y30_stats[8] * initial_investment, 2)\n",
    "ci_upper = round(MC_Y30_stats[9] * initial_investment, 2)"
   ]
  },
  {
   "cell_type": "code",
   "execution_count": 55,
   "metadata": {},
   "outputs": [
    {
     "name": "stdout",
     "output_type": "stream",
     "text": [
      "There is a 95% chance that an initial investment of $30,000.00 in the portfolio over the next 30 years will end within in the range of $24,680.68 and $441,603.25\n"
     ]
    }
   ],
   "source": [
    "## Print results\n",
    "print(f\"There is a 95% chance that an initial investment of ${initial_investment:,.2f} in the portfolio\"\n",
    "      f\" over the next 30 years will end within in the range of\"\n",
    "      f\" ${ci_lower:,.2f} and ${ci_upper:,.2f}\")"
   ]
  },
  {
   "cell_type": "markdown",
   "metadata": {},
   "source": [
    "## Optional Challenge - Early Retirement\n",
    "\n",
    "\n",
    "### Five Years Retirement Option"
   ]
  },
  {
   "cell_type": "code",
   "execution_count": 56,
   "metadata": {},
   "outputs": [],
   "source": [
    "# Configuring a Monte Carlo simulation to forecast 5 years cumulative returns\n",
    "MC_Y05 = MCSimulation(portfolio_data = df_stock_data,\n",
    "                      weights = [0.10, 0.90],\n",
    "                      num_simulation = 500 ,\n",
    "                      num_trading_days = 252*5\n",
    "                      )"
   ]
  },
  {
   "cell_type": "code",
   "execution_count": 57,
   "metadata": {},
   "outputs": [
    {
     "name": "stdout",
     "output_type": "stream",
     "text": [
      "Running Monte Carlo simulation number 0.\n",
      "Running Monte Carlo simulation number 10.\n",
      "Running Monte Carlo simulation number 20.\n",
      "Running Monte Carlo simulation number 30.\n",
      "Running Monte Carlo simulation number 40.\n",
      "Running Monte Carlo simulation number 50.\n",
      "Running Monte Carlo simulation number 60.\n",
      "Running Monte Carlo simulation number 70.\n",
      "Running Monte Carlo simulation number 80.\n",
      "Running Monte Carlo simulation number 90.\n",
      "Running Monte Carlo simulation number 100.\n",
      "Running Monte Carlo simulation number 110.\n"
     ]
    },
    {
     "name": "stderr",
     "output_type": "stream",
     "text": [
      "C:\\Users\\twigi\\FTBC\\W5_Assignment\\APIs-homework\\MCForecastTools.py:117: PerformanceWarning: DataFrame is highly fragmented.  This is usually the result of calling `frame.insert` many times, which has poor performance.  Consider joining all columns at once using pd.concat(axis=1) instead.  To get a de-fragmented frame, use `newframe = frame.copy()`\n",
      "  portfolio_cumulative_returns[n] = (1 + sim_df.fillna(0)).cumprod()\n"
     ]
    },
    {
     "name": "stdout",
     "output_type": "stream",
     "text": [
      "Running Monte Carlo simulation number 120.\n",
      "Running Monte Carlo simulation number 130.\n",
      "Running Monte Carlo simulation number 140.\n",
      "Running Monte Carlo simulation number 150.\n",
      "Running Monte Carlo simulation number 160.\n",
      "Running Monte Carlo simulation number 170.\n",
      "Running Monte Carlo simulation number 180.\n",
      "Running Monte Carlo simulation number 190.\n",
      "Running Monte Carlo simulation number 200.\n",
      "Running Monte Carlo simulation number 210.\n",
      "Running Monte Carlo simulation number 220.\n",
      "Running Monte Carlo simulation number 230.\n",
      "Running Monte Carlo simulation number 240.\n",
      "Running Monte Carlo simulation number 250.\n",
      "Running Monte Carlo simulation number 260.\n",
      "Running Monte Carlo simulation number 270.\n",
      "Running Monte Carlo simulation number 280.\n",
      "Running Monte Carlo simulation number 290.\n",
      "Running Monte Carlo simulation number 300.\n",
      "Running Monte Carlo simulation number 310.\n",
      "Running Monte Carlo simulation number 320.\n",
      "Running Monte Carlo simulation number 330.\n",
      "Running Monte Carlo simulation number 340.\n",
      "Running Monte Carlo simulation number 350.\n",
      "Running Monte Carlo simulation number 360.\n",
      "Running Monte Carlo simulation number 370.\n",
      "Running Monte Carlo simulation number 380.\n",
      "Running Monte Carlo simulation number 390.\n",
      "Running Monte Carlo simulation number 400.\n",
      "Running Monte Carlo simulation number 410.\n",
      "Running Monte Carlo simulation number 420.\n",
      "Running Monte Carlo simulation number 430.\n",
      "Running Monte Carlo simulation number 440.\n",
      "Running Monte Carlo simulation number 450.\n",
      "Running Monte Carlo simulation number 460.\n",
      "Running Monte Carlo simulation number 470.\n",
      "Running Monte Carlo simulation number 480.\n",
      "Running Monte Carlo simulation number 490.\n"
     ]
    },
    {
     "data": {
      "text/html": [
       "<div>\n",
       "<style scoped>\n",
       "    .dataframe tbody tr th:only-of-type {\n",
       "        vertical-align: middle;\n",
       "    }\n",
       "\n",
       "    .dataframe tbody tr th {\n",
       "        vertical-align: top;\n",
       "    }\n",
       "\n",
       "    .dataframe thead th {\n",
       "        text-align: right;\n",
       "    }\n",
       "</style>\n",
       "<table border=\"1\" class=\"dataframe\">\n",
       "  <thead>\n",
       "    <tr style=\"text-align: right;\">\n",
       "      <th></th>\n",
       "      <th>0</th>\n",
       "      <th>1</th>\n",
       "      <th>2</th>\n",
       "      <th>3</th>\n",
       "      <th>4</th>\n",
       "      <th>5</th>\n",
       "      <th>6</th>\n",
       "      <th>7</th>\n",
       "      <th>8</th>\n",
       "      <th>9</th>\n",
       "      <th>...</th>\n",
       "      <th>490</th>\n",
       "      <th>491</th>\n",
       "      <th>492</th>\n",
       "      <th>493</th>\n",
       "      <th>494</th>\n",
       "      <th>495</th>\n",
       "      <th>496</th>\n",
       "      <th>497</th>\n",
       "      <th>498</th>\n",
       "      <th>499</th>\n",
       "    </tr>\n",
       "  </thead>\n",
       "  <tbody>\n",
       "    <tr>\n",
       "      <th>0</th>\n",
       "      <td>1.000000</td>\n",
       "      <td>1.000000</td>\n",
       "      <td>1.000000</td>\n",
       "      <td>1.000000</td>\n",
       "      <td>1.000000</td>\n",
       "      <td>1.000000</td>\n",
       "      <td>1.000000</td>\n",
       "      <td>1.000000</td>\n",
       "      <td>1.000000</td>\n",
       "      <td>1.000000</td>\n",
       "      <td>...</td>\n",
       "      <td>1.000000</td>\n",
       "      <td>1.000000</td>\n",
       "      <td>1.000000</td>\n",
       "      <td>1.000000</td>\n",
       "      <td>1.000000</td>\n",
       "      <td>1.000000</td>\n",
       "      <td>1.000000</td>\n",
       "      <td>1.000000</td>\n",
       "      <td>1.000000</td>\n",
       "      <td>1.000000</td>\n",
       "    </tr>\n",
       "    <tr>\n",
       "      <th>1</th>\n",
       "      <td>1.000898</td>\n",
       "      <td>0.990527</td>\n",
       "      <td>1.000024</td>\n",
       "      <td>1.010840</td>\n",
       "      <td>1.002653</td>\n",
       "      <td>1.002828</td>\n",
       "      <td>0.997751</td>\n",
       "      <td>0.999891</td>\n",
       "      <td>0.992929</td>\n",
       "      <td>0.995389</td>\n",
       "      <td>...</td>\n",
       "      <td>0.991493</td>\n",
       "      <td>1.026346</td>\n",
       "      <td>0.990584</td>\n",
       "      <td>1.009983</td>\n",
       "      <td>1.003792</td>\n",
       "      <td>1.002724</td>\n",
       "      <td>0.990060</td>\n",
       "      <td>0.961215</td>\n",
       "      <td>1.014005</td>\n",
       "      <td>1.002849</td>\n",
       "    </tr>\n",
       "    <tr>\n",
       "      <th>2</th>\n",
       "      <td>0.998096</td>\n",
       "      <td>0.967671</td>\n",
       "      <td>0.991371</td>\n",
       "      <td>0.989516</td>\n",
       "      <td>1.010460</td>\n",
       "      <td>1.001671</td>\n",
       "      <td>0.985178</td>\n",
       "      <td>1.000195</td>\n",
       "      <td>0.997967</td>\n",
       "      <td>0.995264</td>\n",
       "      <td>...</td>\n",
       "      <td>1.004800</td>\n",
       "      <td>1.047839</td>\n",
       "      <td>0.999311</td>\n",
       "      <td>1.011551</td>\n",
       "      <td>1.007413</td>\n",
       "      <td>0.996162</td>\n",
       "      <td>0.977622</td>\n",
       "      <td>0.956679</td>\n",
       "      <td>1.018921</td>\n",
       "      <td>1.021425</td>\n",
       "    </tr>\n",
       "    <tr>\n",
       "      <th>3</th>\n",
       "      <td>0.989497</td>\n",
       "      <td>0.964126</td>\n",
       "      <td>1.023726</td>\n",
       "      <td>0.985235</td>\n",
       "      <td>1.009717</td>\n",
       "      <td>1.008292</td>\n",
       "      <td>0.992265</td>\n",
       "      <td>0.995415</td>\n",
       "      <td>0.998816</td>\n",
       "      <td>0.992524</td>\n",
       "      <td>...</td>\n",
       "      <td>0.993006</td>\n",
       "      <td>1.045660</td>\n",
       "      <td>0.992548</td>\n",
       "      <td>1.008013</td>\n",
       "      <td>0.999361</td>\n",
       "      <td>0.990910</td>\n",
       "      <td>0.950182</td>\n",
       "      <td>0.943003</td>\n",
       "      <td>1.007065</td>\n",
       "      <td>1.032208</td>\n",
       "    </tr>\n",
       "    <tr>\n",
       "      <th>4</th>\n",
       "      <td>0.984527</td>\n",
       "      <td>0.961022</td>\n",
       "      <td>1.016577</td>\n",
       "      <td>0.957628</td>\n",
       "      <td>1.014322</td>\n",
       "      <td>1.002489</td>\n",
       "      <td>0.995987</td>\n",
       "      <td>1.007971</td>\n",
       "      <td>1.009883</td>\n",
       "      <td>1.004758</td>\n",
       "      <td>...</td>\n",
       "      <td>0.995000</td>\n",
       "      <td>1.020343</td>\n",
       "      <td>0.993873</td>\n",
       "      <td>1.023132</td>\n",
       "      <td>1.002165</td>\n",
       "      <td>0.977399</td>\n",
       "      <td>0.955848</td>\n",
       "      <td>0.932826</td>\n",
       "      <td>1.009824</td>\n",
       "      <td>1.038834</td>\n",
       "    </tr>\n",
       "    <tr>\n",
       "      <th>...</th>\n",
       "      <td>...</td>\n",
       "      <td>...</td>\n",
       "      <td>...</td>\n",
       "      <td>...</td>\n",
       "      <td>...</td>\n",
       "      <td>...</td>\n",
       "      <td>...</td>\n",
       "      <td>...</td>\n",
       "      <td>...</td>\n",
       "      <td>...</td>\n",
       "      <td>...</td>\n",
       "      <td>...</td>\n",
       "      <td>...</td>\n",
       "      <td>...</td>\n",
       "      <td>...</td>\n",
       "      <td>...</td>\n",
       "      <td>...</td>\n",
       "      <td>...</td>\n",
       "      <td>...</td>\n",
       "      <td>...</td>\n",
       "      <td>...</td>\n",
       "    </tr>\n",
       "    <tr>\n",
       "      <th>1256</th>\n",
       "      <td>1.322802</td>\n",
       "      <td>0.916644</td>\n",
       "      <td>1.147948</td>\n",
       "      <td>1.484386</td>\n",
       "      <td>1.085072</td>\n",
       "      <td>2.709995</td>\n",
       "      <td>1.050342</td>\n",
       "      <td>0.598250</td>\n",
       "      <td>1.063362</td>\n",
       "      <td>1.340330</td>\n",
       "      <td>...</td>\n",
       "      <td>0.772310</td>\n",
       "      <td>1.315023</td>\n",
       "      <td>2.332095</td>\n",
       "      <td>2.821092</td>\n",
       "      <td>2.639829</td>\n",
       "      <td>1.229375</td>\n",
       "      <td>1.176793</td>\n",
       "      <td>1.075543</td>\n",
       "      <td>1.685626</td>\n",
       "      <td>2.182028</td>\n",
       "    </tr>\n",
       "    <tr>\n",
       "      <th>1257</th>\n",
       "      <td>1.310567</td>\n",
       "      <td>0.922051</td>\n",
       "      <td>1.157174</td>\n",
       "      <td>1.499178</td>\n",
       "      <td>1.085986</td>\n",
       "      <td>2.755725</td>\n",
       "      <td>1.051905</td>\n",
       "      <td>0.607762</td>\n",
       "      <td>1.069771</td>\n",
       "      <td>1.356662</td>\n",
       "      <td>...</td>\n",
       "      <td>0.783498</td>\n",
       "      <td>1.325884</td>\n",
       "      <td>2.314141</td>\n",
       "      <td>2.804309</td>\n",
       "      <td>2.591209</td>\n",
       "      <td>1.231048</td>\n",
       "      <td>1.199436</td>\n",
       "      <td>1.061503</td>\n",
       "      <td>1.673639</td>\n",
       "      <td>2.185929</td>\n",
       "    </tr>\n",
       "    <tr>\n",
       "      <th>1258</th>\n",
       "      <td>1.322360</td>\n",
       "      <td>0.933317</td>\n",
       "      <td>1.157520</td>\n",
       "      <td>1.482523</td>\n",
       "      <td>1.058332</td>\n",
       "      <td>2.706390</td>\n",
       "      <td>1.060976</td>\n",
       "      <td>0.609790</td>\n",
       "      <td>1.064691</td>\n",
       "      <td>1.355131</td>\n",
       "      <td>...</td>\n",
       "      <td>0.796426</td>\n",
       "      <td>1.341792</td>\n",
       "      <td>2.288063</td>\n",
       "      <td>2.874096</td>\n",
       "      <td>2.637137</td>\n",
       "      <td>1.208199</td>\n",
       "      <td>1.209705</td>\n",
       "      <td>1.045041</td>\n",
       "      <td>1.637642</td>\n",
       "      <td>2.188414</td>\n",
       "    </tr>\n",
       "    <tr>\n",
       "      <th>1259</th>\n",
       "      <td>1.306458</td>\n",
       "      <td>0.939257</td>\n",
       "      <td>1.132884</td>\n",
       "      <td>1.504869</td>\n",
       "      <td>1.059898</td>\n",
       "      <td>2.684629</td>\n",
       "      <td>1.064729</td>\n",
       "      <td>0.600295</td>\n",
       "      <td>1.039548</td>\n",
       "      <td>1.347753</td>\n",
       "      <td>...</td>\n",
       "      <td>0.804061</td>\n",
       "      <td>1.353949</td>\n",
       "      <td>2.282990</td>\n",
       "      <td>2.876564</td>\n",
       "      <td>2.683999</td>\n",
       "      <td>1.208055</td>\n",
       "      <td>1.233605</td>\n",
       "      <td>1.044370</td>\n",
       "      <td>1.640302</td>\n",
       "      <td>2.174966</td>\n",
       "    </tr>\n",
       "    <tr>\n",
       "      <th>1260</th>\n",
       "      <td>1.294761</td>\n",
       "      <td>0.918622</td>\n",
       "      <td>1.149212</td>\n",
       "      <td>1.501225</td>\n",
       "      <td>1.048378</td>\n",
       "      <td>2.705257</td>\n",
       "      <td>1.054590</td>\n",
       "      <td>0.591838</td>\n",
       "      <td>1.050457</td>\n",
       "      <td>1.313168</td>\n",
       "      <td>...</td>\n",
       "      <td>0.786767</td>\n",
       "      <td>1.329668</td>\n",
       "      <td>2.299531</td>\n",
       "      <td>2.847824</td>\n",
       "      <td>2.739200</td>\n",
       "      <td>1.217584</td>\n",
       "      <td>1.208442</td>\n",
       "      <td>1.061695</td>\n",
       "      <td>1.618434</td>\n",
       "      <td>2.178521</td>\n",
       "    </tr>\n",
       "  </tbody>\n",
       "</table>\n",
       "<p>1261 rows × 500 columns</p>\n",
       "</div>"
      ],
      "text/plain": [
       "           0         1         2         3         4         5         6    \\\n",
       "0     1.000000  1.000000  1.000000  1.000000  1.000000  1.000000  1.000000   \n",
       "1     1.000898  0.990527  1.000024  1.010840  1.002653  1.002828  0.997751   \n",
       "2     0.998096  0.967671  0.991371  0.989516  1.010460  1.001671  0.985178   \n",
       "3     0.989497  0.964126  1.023726  0.985235  1.009717  1.008292  0.992265   \n",
       "4     0.984527  0.961022  1.016577  0.957628  1.014322  1.002489  0.995987   \n",
       "...        ...       ...       ...       ...       ...       ...       ...   \n",
       "1256  1.322802  0.916644  1.147948  1.484386  1.085072  2.709995  1.050342   \n",
       "1257  1.310567  0.922051  1.157174  1.499178  1.085986  2.755725  1.051905   \n",
       "1258  1.322360  0.933317  1.157520  1.482523  1.058332  2.706390  1.060976   \n",
       "1259  1.306458  0.939257  1.132884  1.504869  1.059898  2.684629  1.064729   \n",
       "1260  1.294761  0.918622  1.149212  1.501225  1.048378  2.705257  1.054590   \n",
       "\n",
       "           7         8         9    ...       490       491       492  \\\n",
       "0     1.000000  1.000000  1.000000  ...  1.000000  1.000000  1.000000   \n",
       "1     0.999891  0.992929  0.995389  ...  0.991493  1.026346  0.990584   \n",
       "2     1.000195  0.997967  0.995264  ...  1.004800  1.047839  0.999311   \n",
       "3     0.995415  0.998816  0.992524  ...  0.993006  1.045660  0.992548   \n",
       "4     1.007971  1.009883  1.004758  ...  0.995000  1.020343  0.993873   \n",
       "...        ...       ...       ...  ...       ...       ...       ...   \n",
       "1256  0.598250  1.063362  1.340330  ...  0.772310  1.315023  2.332095   \n",
       "1257  0.607762  1.069771  1.356662  ...  0.783498  1.325884  2.314141   \n",
       "1258  0.609790  1.064691  1.355131  ...  0.796426  1.341792  2.288063   \n",
       "1259  0.600295  1.039548  1.347753  ...  0.804061  1.353949  2.282990   \n",
       "1260  0.591838  1.050457  1.313168  ...  0.786767  1.329668  2.299531   \n",
       "\n",
       "           493       494       495       496       497       498       499  \n",
       "0     1.000000  1.000000  1.000000  1.000000  1.000000  1.000000  1.000000  \n",
       "1     1.009983  1.003792  1.002724  0.990060  0.961215  1.014005  1.002849  \n",
       "2     1.011551  1.007413  0.996162  0.977622  0.956679  1.018921  1.021425  \n",
       "3     1.008013  0.999361  0.990910  0.950182  0.943003  1.007065  1.032208  \n",
       "4     1.023132  1.002165  0.977399  0.955848  0.932826  1.009824  1.038834  \n",
       "...        ...       ...       ...       ...       ...       ...       ...  \n",
       "1256  2.821092  2.639829  1.229375  1.176793  1.075543  1.685626  2.182028  \n",
       "1257  2.804309  2.591209  1.231048  1.199436  1.061503  1.673639  2.185929  \n",
       "1258  2.874096  2.637137  1.208199  1.209705  1.045041  1.637642  2.188414  \n",
       "1259  2.876564  2.683999  1.208055  1.233605  1.044370  1.640302  2.174966  \n",
       "1260  2.847824  2.739200  1.217584  1.208442  1.061695  1.618434  2.178521  \n",
       "\n",
       "[1261 rows x 500 columns]"
      ]
     },
     "execution_count": 57,
     "metadata": {},
     "output_type": "execute_result"
    }
   ],
   "source": [
    "# Running a Monte Carlo simulation to forecast 5 years cumulative returns\n",
    "MC_Y05.calc_cumulative_return()"
   ]
  },
  {
   "cell_type": "code",
   "execution_count": 58,
   "metadata": {},
   "outputs": [
    {
     "data": {
      "text/plain": [
       "<AxesSubplot:title={'center':'500 Simulations of Cumulative Portfolio Return Trajectories Over the Next 1260 Trading Days.'}>"
      ]
     },
     "execution_count": 58,
     "metadata": {},
     "output_type": "execute_result"
    },
    {
     "data": {
      "image/png": "[encoded data removed]",
      "text/plain": [
       "<Figure size 432x288 with 1 Axes>"
      ]
     },
     "metadata": {
      "needs_background": "light"
     },
     "output_type": "display_data"
    }
   ],
   "source": [
    "# Plot simulation outcomes\n",
    "MC_Y05.plot_simulation()"
   ]
  },
  {
   "cell_type": "code",
   "execution_count": 59,
   "metadata": {},
   "outputs": [
    {
     "data": {
      "text/plain": [
       "<AxesSubplot:title={'center':'Distribution of Final Cumuluative Returns Across All 500 Simulations'}, ylabel='Frequency'>"
      ]
     },
     "execution_count": 59,
     "metadata": {},
     "output_type": "execute_result"
    },
    {
     "data": {
      "image/png": "[encoded data removed]",
      "text/plain": [
       "<Figure size 432x288 with 1 Axes>"
      ]
     },
     "metadata": {
      "needs_background": "light"
     },
     "output_type": "display_data"
    }
   ],
   "source": [
    "# Plot probability distribution and confidence intervals\n",
    "MC_Y05.plot_distribution()"
   ]
  },
  {
   "cell_type": "code",
   "execution_count": 60,
   "metadata": {},
   "outputs": [],
   "source": [
    "# Fetch summary statistics from the Monte Carlo simulation results\n",
    "MC_Y05_stats = MC_Y05.summarize_cumulative_return()"
   ]
  },
  {
   "cell_type": "code",
   "execution_count": 61,
   "metadata": {},
   "outputs": [
    {
     "name": "stdout",
     "output_type": "stream",
     "text": [
      "count           500.000000\n",
      "mean              1.493509\n",
      "std               0.623658\n",
      "min               0.451104\n",
      "25%               1.050074\n",
      "50%               1.372328\n",
      "75%               1.820380\n",
      "max               3.749654\n",
      "95% CI Lower      0.607628\n",
      "95% CI Upper      3.039389\n",
      "Name: 1260, dtype: float64\n"
     ]
    }
   ],
   "source": [
    "# Print summary statistics\n",
    "print(MC_Y05_stats)"
   ]
  },
  {
   "cell_type": "code",
   "execution_count": 62,
   "metadata": {},
   "outputs": [],
   "source": [
    "# Set initial investment\n",
    "initial_investment = 20000* 5"
   ]
  },
  {
   "cell_type": "code",
   "execution_count": 63,
   "metadata": {},
   "outputs": [],
   "source": [
    "# Use the lower and upper `95%` confidence intervals to calculate the range of the possible outcomes of our $100,000\n",
    "ci_lower_five = round(MC_Y05_stats[8] * initial_investment, 2)\n",
    "ci_upper_five = round(MC_Y05_stats[9] * initial_investment, 2)"
   ]
  },
  {
   "cell_type": "code",
   "execution_count": 64,
   "metadata": {},
   "outputs": [
    {
     "name": "stdout",
     "output_type": "stream",
     "text": [
      "There is a 95% chance that an initial investment of $100,000.00 in the portfolio over the next 5 years will end within in the range of $60,762.85 and $303,938.88\n"
     ]
    }
   ],
   "source": [
    "# Print results\n",
    "print(f\"There is a 95% chance that an initial investment of ${initial_investment:,.2f} in the portfolio\"\n",
    "      f\" over the next 5 years will end within in the range of\"\n",
    "      f\" ${ci_lower_five:,.2f} and ${ci_upper_five:,.2f}\")"
   ]
  },
  {
   "cell_type": "markdown",
   "metadata": {},
   "source": [
    "### Ten Years Retirement Option"
   ]
  },
  {
   "cell_type": "code",
   "execution_count": 65,
   "metadata": {},
   "outputs": [],
   "source": [
    "# Configuring a Monte Carlo simulation to forecast 10 years cumulative returns\n",
    "MC_Y10 = MCSimulation(portfolio_data = df_stock_data,\n",
    "                      weights = [0.30, 0.70],\n",
    "                      num_simulation = 500 ,\n",
    "                      num_trading_days = 252*10\n",
    "                      )"
   ]
  },
  {
   "cell_type": "code",
   "execution_count": 66,
   "metadata": {},
   "outputs": [
    {
     "name": "stdout",
     "output_type": "stream",
     "text": [
      "Running Monte Carlo simulation number 0.\n",
      "Running Monte Carlo simulation number 10.\n",
      "Running Monte Carlo simulation number 20.\n",
      "Running Monte Carlo simulation number 30.\n",
      "Running Monte Carlo simulation number 40.\n",
      "Running Monte Carlo simulation number 50.\n",
      "Running Monte Carlo simulation number 60.\n",
      "Running Monte Carlo simulation number 70.\n",
      "Running Monte Carlo simulation number 80.\n",
      "Running Monte Carlo simulation number 90.\n",
      "Running Monte Carlo simulation number 100.\n"
     ]
    },
    {
     "name": "stderr",
     "output_type": "stream",
     "text": [
      "C:\\Users\\twigi\\FTBC\\W5_Assignment\\APIs-homework\\MCForecastTools.py:117: PerformanceWarning: DataFrame is highly fragmented.  This is usually the result of calling `frame.insert` many times, which has poor performance.  Consider joining all columns at once using pd.concat(axis=1) instead.  To get a de-fragmented frame, use `newframe = frame.copy()`\n",
      "  portfolio_cumulative_returns[n] = (1 + sim_df.fillna(0)).cumprod()\n"
     ]
    },
    {
     "name": "stdout",
     "output_type": "stream",
     "text": [
      "Running Monte Carlo simulation number 110.\n",
      "Running Monte Carlo simulation number 120.\n",
      "Running Monte Carlo simulation number 130.\n",
      "Running Monte Carlo simulation number 140.\n",
      "Running Monte Carlo simulation number 150.\n",
      "Running Monte Carlo simulation number 160.\n",
      "Running Monte Carlo simulation number 170.\n",
      "Running Monte Carlo simulation number 180.\n",
      "Running Monte Carlo simulation number 190.\n",
      "Running Monte Carlo simulation number 200.\n",
      "Running Monte Carlo simulation number 210.\n",
      "Running Monte Carlo simulation number 220.\n",
      "Running Monte Carlo simulation number 230.\n",
      "Running Monte Carlo simulation number 240.\n",
      "Running Monte Carlo simulation number 250.\n",
      "Running Monte Carlo simulation number 260.\n",
      "Running Monte Carlo simulation number 270.\n",
      "Running Monte Carlo simulation number 280.\n",
      "Running Monte Carlo simulation number 290.\n",
      "Running Monte Carlo simulation number 300.\n",
      "Running Monte Carlo simulation number 310.\n",
      "Running Monte Carlo simulation number 320.\n",
      "Running Monte Carlo simulation number 330.\n",
      "Running Monte Carlo simulation number 340.\n",
      "Running Monte Carlo simulation number 350.\n",
      "Running Monte Carlo simulation number 360.\n",
      "Running Monte Carlo simulation number 370.\n",
      "Running Monte Carlo simulation number 380.\n",
      "Running Monte Carlo simulation number 390.\n",
      "Running Monte Carlo simulation number 400.\n",
      "Running Monte Carlo simulation number 410.\n",
      "Running Monte Carlo simulation number 420.\n",
      "Running Monte Carlo simulation number 430.\n",
      "Running Monte Carlo simulation number 440.\n",
      "Running Monte Carlo simulation number 450.\n",
      "Running Monte Carlo simulation number 460.\n",
      "Running Monte Carlo simulation number 470.\n",
      "Running Monte Carlo simulation number 480.\n",
      "Running Monte Carlo simulation number 490.\n"
     ]
    },
    {
     "data": {
      "text/html": [
       "<div>\n",
       "<style scoped>\n",
       "    .dataframe tbody tr th:only-of-type {\n",
       "        vertical-align: middle;\n",
       "    }\n",
       "\n",
       "    .dataframe tbody tr th {\n",
       "        vertical-align: top;\n",
       "    }\n",
       "\n",
       "    .dataframe thead th {\n",
       "        text-align: right;\n",
       "    }\n",
       "</style>\n",
       "<table border=\"1\" class=\"dataframe\">\n",
       "  <thead>\n",
       "    <tr style=\"text-align: right;\">\n",
       "      <th></th>\n",
       "      <th>0</th>\n",
       "      <th>1</th>\n",
       "      <th>2</th>\n",
       "      <th>3</th>\n",
       "      <th>4</th>\n",
       "      <th>5</th>\n",
       "      <th>6</th>\n",
       "      <th>7</th>\n",
       "      <th>8</th>\n",
       "      <th>9</th>\n",
       "      <th>...</th>\n",
       "      <th>490</th>\n",
       "      <th>491</th>\n",
       "      <th>492</th>\n",
       "      <th>493</th>\n",
       "      <th>494</th>\n",
       "      <th>495</th>\n",
       "      <th>496</th>\n",
       "      <th>497</th>\n",
       "      <th>498</th>\n",
       "      <th>499</th>\n",
       "    </tr>\n",
       "  </thead>\n",
       "  <tbody>\n",
       "    <tr>\n",
       "      <th>0</th>\n",
       "      <td>1.000000</td>\n",
       "      <td>1.000000</td>\n",
       "      <td>1.000000</td>\n",
       "      <td>1.000000</td>\n",
       "      <td>1.000000</td>\n",
       "      <td>1.000000</td>\n",
       "      <td>1.000000</td>\n",
       "      <td>1.000000</td>\n",
       "      <td>1.000000</td>\n",
       "      <td>1.000000</td>\n",
       "      <td>...</td>\n",
       "      <td>1.000000</td>\n",
       "      <td>1.000000</td>\n",
       "      <td>1.000000</td>\n",
       "      <td>1.000000</td>\n",
       "      <td>1.000000</td>\n",
       "      <td>1.000000</td>\n",
       "      <td>1.000000</td>\n",
       "      <td>1.000000</td>\n",
       "      <td>1.000000</td>\n",
       "      <td>1.000000</td>\n",
       "    </tr>\n",
       "    <tr>\n",
       "      <th>1</th>\n",
       "      <td>0.994903</td>\n",
       "      <td>0.990056</td>\n",
       "      <td>1.023048</td>\n",
       "      <td>1.007417</td>\n",
       "      <td>1.011770</td>\n",
       "      <td>0.988129</td>\n",
       "      <td>0.993998</td>\n",
       "      <td>1.024579</td>\n",
       "      <td>1.006791</td>\n",
       "      <td>1.002991</td>\n",
       "      <td>...</td>\n",
       "      <td>0.995506</td>\n",
       "      <td>1.006290</td>\n",
       "      <td>0.979129</td>\n",
       "      <td>1.003140</td>\n",
       "      <td>1.001955</td>\n",
       "      <td>0.989451</td>\n",
       "      <td>0.992006</td>\n",
       "      <td>0.992790</td>\n",
       "      <td>0.988868</td>\n",
       "      <td>1.005066</td>\n",
       "    </tr>\n",
       "    <tr>\n",
       "      <th>2</th>\n",
       "      <td>0.994061</td>\n",
       "      <td>0.997267</td>\n",
       "      <td>1.023121</td>\n",
       "      <td>1.008831</td>\n",
       "      <td>1.014507</td>\n",
       "      <td>0.975828</td>\n",
       "      <td>0.992064</td>\n",
       "      <td>1.023615</td>\n",
       "      <td>1.008272</td>\n",
       "      <td>0.998848</td>\n",
       "      <td>...</td>\n",
       "      <td>1.004390</td>\n",
       "      <td>1.008402</td>\n",
       "      <td>0.982911</td>\n",
       "      <td>0.983262</td>\n",
       "      <td>0.991456</td>\n",
       "      <td>0.989610</td>\n",
       "      <td>0.996612</td>\n",
       "      <td>0.996267</td>\n",
       "      <td>0.987116</td>\n",
       "      <td>1.008794</td>\n",
       "    </tr>\n",
       "    <tr>\n",
       "      <th>3</th>\n",
       "      <td>1.005730</td>\n",
       "      <td>0.989615</td>\n",
       "      <td>1.038302</td>\n",
       "      <td>1.003620</td>\n",
       "      <td>1.029458</td>\n",
       "      <td>0.978285</td>\n",
       "      <td>1.000948</td>\n",
       "      <td>1.013728</td>\n",
       "      <td>1.022340</td>\n",
       "      <td>0.992063</td>\n",
       "      <td>...</td>\n",
       "      <td>0.998503</td>\n",
       "      <td>1.009624</td>\n",
       "      <td>0.995456</td>\n",
       "      <td>0.993909</td>\n",
       "      <td>0.983240</td>\n",
       "      <td>0.998413</td>\n",
       "      <td>1.000374</td>\n",
       "      <td>0.993059</td>\n",
       "      <td>0.998345</td>\n",
       "      <td>1.026677</td>\n",
       "    </tr>\n",
       "    <tr>\n",
       "      <th>4</th>\n",
       "      <td>1.003444</td>\n",
       "      <td>0.993231</td>\n",
       "      <td>1.040444</td>\n",
       "      <td>1.001019</td>\n",
       "      <td>1.026625</td>\n",
       "      <td>0.979403</td>\n",
       "      <td>1.004706</td>\n",
       "      <td>1.016993</td>\n",
       "      <td>1.018286</td>\n",
       "      <td>0.990709</td>\n",
       "      <td>...</td>\n",
       "      <td>0.993835</td>\n",
       "      <td>1.005638</td>\n",
       "      <td>0.998744</td>\n",
       "      <td>0.986233</td>\n",
       "      <td>0.987751</td>\n",
       "      <td>0.988742</td>\n",
       "      <td>0.995794</td>\n",
       "      <td>0.989347</td>\n",
       "      <td>0.990083</td>\n",
       "      <td>1.030475</td>\n",
       "    </tr>\n",
       "    <tr>\n",
       "      <th>...</th>\n",
       "      <td>...</td>\n",
       "      <td>...</td>\n",
       "      <td>...</td>\n",
       "      <td>...</td>\n",
       "      <td>...</td>\n",
       "      <td>...</td>\n",
       "      <td>...</td>\n",
       "      <td>...</td>\n",
       "      <td>...</td>\n",
       "      <td>...</td>\n",
       "      <td>...</td>\n",
       "      <td>...</td>\n",
       "      <td>...</td>\n",
       "      <td>...</td>\n",
       "      <td>...</td>\n",
       "      <td>...</td>\n",
       "      <td>...</td>\n",
       "      <td>...</td>\n",
       "      <td>...</td>\n",
       "      <td>...</td>\n",
       "      <td>...</td>\n",
       "    </tr>\n",
       "    <tr>\n",
       "      <th>2516</th>\n",
       "      <td>0.687284</td>\n",
       "      <td>1.145885</td>\n",
       "      <td>2.976284</td>\n",
       "      <td>1.251906</td>\n",
       "      <td>1.221540</td>\n",
       "      <td>1.753355</td>\n",
       "      <td>1.767396</td>\n",
       "      <td>2.745687</td>\n",
       "      <td>2.622764</td>\n",
       "      <td>2.790628</td>\n",
       "      <td>...</td>\n",
       "      <td>2.264523</td>\n",
       "      <td>2.934987</td>\n",
       "      <td>2.118767</td>\n",
       "      <td>3.328194</td>\n",
       "      <td>1.677974</td>\n",
       "      <td>1.729175</td>\n",
       "      <td>1.049280</td>\n",
       "      <td>1.813068</td>\n",
       "      <td>2.928750</td>\n",
       "      <td>1.712667</td>\n",
       "    </tr>\n",
       "    <tr>\n",
       "      <th>2517</th>\n",
       "      <td>0.691013</td>\n",
       "      <td>1.152320</td>\n",
       "      <td>2.993343</td>\n",
       "      <td>1.242569</td>\n",
       "      <td>1.229593</td>\n",
       "      <td>1.756471</td>\n",
       "      <td>1.784413</td>\n",
       "      <td>2.759767</td>\n",
       "      <td>2.629544</td>\n",
       "      <td>2.787943</td>\n",
       "      <td>...</td>\n",
       "      <td>2.271654</td>\n",
       "      <td>2.913763</td>\n",
       "      <td>2.103024</td>\n",
       "      <td>3.331760</td>\n",
       "      <td>1.660690</td>\n",
       "      <td>1.741589</td>\n",
       "      <td>1.059855</td>\n",
       "      <td>1.780582</td>\n",
       "      <td>2.858159</td>\n",
       "      <td>1.700469</td>\n",
       "    </tr>\n",
       "    <tr>\n",
       "      <th>2518</th>\n",
       "      <td>0.697162</td>\n",
       "      <td>1.149884</td>\n",
       "      <td>3.014229</td>\n",
       "      <td>1.231864</td>\n",
       "      <td>1.223308</td>\n",
       "      <td>1.756085</td>\n",
       "      <td>1.810351</td>\n",
       "      <td>2.733423</td>\n",
       "      <td>2.604401</td>\n",
       "      <td>2.803133</td>\n",
       "      <td>...</td>\n",
       "      <td>2.314882</td>\n",
       "      <td>2.892054</td>\n",
       "      <td>2.119521</td>\n",
       "      <td>3.417963</td>\n",
       "      <td>1.675671</td>\n",
       "      <td>1.751156</td>\n",
       "      <td>1.053576</td>\n",
       "      <td>1.772916</td>\n",
       "      <td>2.848701</td>\n",
       "      <td>1.720306</td>\n",
       "    </tr>\n",
       "    <tr>\n",
       "      <th>2519</th>\n",
       "      <td>0.692466</td>\n",
       "      <td>1.151861</td>\n",
       "      <td>2.999766</td>\n",
       "      <td>1.249523</td>\n",
       "      <td>1.233470</td>\n",
       "      <td>1.763109</td>\n",
       "      <td>1.812660</td>\n",
       "      <td>2.727143</td>\n",
       "      <td>2.552392</td>\n",
       "      <td>2.828304</td>\n",
       "      <td>...</td>\n",
       "      <td>2.329501</td>\n",
       "      <td>2.885571</td>\n",
       "      <td>2.116504</td>\n",
       "      <td>3.370673</td>\n",
       "      <td>1.667229</td>\n",
       "      <td>1.754574</td>\n",
       "      <td>1.060876</td>\n",
       "      <td>1.786665</td>\n",
       "      <td>2.848154</td>\n",
       "      <td>1.740955</td>\n",
       "    </tr>\n",
       "    <tr>\n",
       "      <th>2520</th>\n",
       "      <td>0.696758</td>\n",
       "      <td>1.155334</td>\n",
       "      <td>3.026420</td>\n",
       "      <td>1.246506</td>\n",
       "      <td>1.232745</td>\n",
       "      <td>1.750953</td>\n",
       "      <td>1.821032</td>\n",
       "      <td>2.728854</td>\n",
       "      <td>2.513838</td>\n",
       "      <td>2.795375</td>\n",
       "      <td>...</td>\n",
       "      <td>2.339231</td>\n",
       "      <td>2.903291</td>\n",
       "      <td>2.139418</td>\n",
       "      <td>3.359291</td>\n",
       "      <td>1.665369</td>\n",
       "      <td>1.758633</td>\n",
       "      <td>1.092296</td>\n",
       "      <td>1.806801</td>\n",
       "      <td>2.878891</td>\n",
       "      <td>1.748138</td>\n",
       "    </tr>\n",
       "  </tbody>\n",
       "</table>\n",
       "<p>2521 rows × 500 columns</p>\n",
       "</div>"
      ],
      "text/plain": [
       "           0         1         2         3         4         5         6    \\\n",
       "0     1.000000  1.000000  1.000000  1.000000  1.000000  1.000000  1.000000   \n",
       "1     0.994903  0.990056  1.023048  1.007417  1.011770  0.988129  0.993998   \n",
       "2     0.994061  0.997267  1.023121  1.008831  1.014507  0.975828  0.992064   \n",
       "3     1.005730  0.989615  1.038302  1.003620  1.029458  0.978285  1.000948   \n",
       "4     1.003444  0.993231  1.040444  1.001019  1.026625  0.979403  1.004706   \n",
       "...        ...       ...       ...       ...       ...       ...       ...   \n",
       "2516  0.687284  1.145885  2.976284  1.251906  1.221540  1.753355  1.767396   \n",
       "2517  0.691013  1.152320  2.993343  1.242569  1.229593  1.756471  1.784413   \n",
       "2518  0.697162  1.149884  3.014229  1.231864  1.223308  1.756085  1.810351   \n",
       "2519  0.692466  1.151861  2.999766  1.249523  1.233470  1.763109  1.812660   \n",
       "2520  0.696758  1.155334  3.026420  1.246506  1.232745  1.750953  1.821032   \n",
       "\n",
       "           7         8         9    ...       490       491       492  \\\n",
       "0     1.000000  1.000000  1.000000  ...  1.000000  1.000000  1.000000   \n",
       "1     1.024579  1.006791  1.002991  ...  0.995506  1.006290  0.979129   \n",
       "2     1.023615  1.008272  0.998848  ...  1.004390  1.008402  0.982911   \n",
       "3     1.013728  1.022340  0.992063  ...  0.998503  1.009624  0.995456   \n",
       "4     1.016993  1.018286  0.990709  ...  0.993835  1.005638  0.998744   \n",
       "...        ...       ...       ...  ...       ...       ...       ...   \n",
       "2516  2.745687  2.622764  2.790628  ...  2.264523  2.934987  2.118767   \n",
       "2517  2.759767  2.629544  2.787943  ...  2.271654  2.913763  2.103024   \n",
       "2518  2.733423  2.604401  2.803133  ...  2.314882  2.892054  2.119521   \n",
       "2519  2.727143  2.552392  2.828304  ...  2.329501  2.885571  2.116504   \n",
       "2520  2.728854  2.513838  2.795375  ...  2.339231  2.903291  2.139418   \n",
       "\n",
       "           493       494       495       496       497       498       499  \n",
       "0     1.000000  1.000000  1.000000  1.000000  1.000000  1.000000  1.000000  \n",
       "1     1.003140  1.001955  0.989451  0.992006  0.992790  0.988868  1.005066  \n",
       "2     0.983262  0.991456  0.989610  0.996612  0.996267  0.987116  1.008794  \n",
       "3     0.993909  0.983240  0.998413  1.000374  0.993059  0.998345  1.026677  \n",
       "4     0.986233  0.987751  0.988742  0.995794  0.989347  0.990083  1.030475  \n",
       "...        ...       ...       ...       ...       ...       ...       ...  \n",
       "2516  3.328194  1.677974  1.729175  1.049280  1.813068  2.928750  1.712667  \n",
       "2517  3.331760  1.660690  1.741589  1.059855  1.780582  2.858159  1.700469  \n",
       "2518  3.417963  1.675671  1.751156  1.053576  1.772916  2.848701  1.720306  \n",
       "2519  3.370673  1.667229  1.754574  1.060876  1.786665  2.848154  1.740955  \n",
       "2520  3.359291  1.665369  1.758633  1.092296  1.806801  2.878891  1.748138  \n",
       "\n",
       "[2521 rows x 500 columns]"
      ]
     },
     "execution_count": 66,
     "metadata": {},
     "output_type": "execute_result"
    }
   ],
   "source": [
    "# Running a Monte Carlo simulation to forecast 10 years cumulative returns\n",
    "MC_Y10.calc_cumulative_return()"
   ]
  },
  {
   "cell_type": "code",
   "execution_count": 67,
   "metadata": {},
   "outputs": [
    {
     "data": {
      "text/plain": [
       "<AxesSubplot:title={'center':'500 Simulations of Cumulative Portfolio Return Trajectories Over the Next 2520 Trading Days.'}>"
      ]
     },
     "execution_count": 67,
     "metadata": {},
     "output_type": "execute_result"
    },
    {
     "data": {
      "image/png": "[encoded data removed]",
      "text/plain": [
       "<Figure size 432x288 with 1 Axes>"
      ]
     },
     "metadata": {
      "needs_background": "light"
     },
     "output_type": "display_data"
    }
   ],
   "source": [
    "# Plot simulation outcomes\n",
    "MC_Y10.plot_simulation()"
   ]
  },
  {
   "cell_type": "code",
   "execution_count": 68,
   "metadata": {},
   "outputs": [
    {
     "data": {
      "text/plain": [
       "<AxesSubplot:title={'center':'Distribution of Final Cumuluative Returns Across All 500 Simulations'}, ylabel='Frequency'>"
      ]
     },
     "execution_count": 68,
     "metadata": {},
     "output_type": "execute_result"
    },
    {
     "data": {
      "image/png": "[encoded data removed]",
      "text/plain": [
       "<Figure size 432x288 with 1 Axes>"
      ]
     },
     "metadata": {
      "needs_background": "light"
     },
     "output_type": "display_data"
    }
   ],
   "source": [
    "# Plot probability distribution and confidence intervals\n",
    "MC_Y10.plot_distribution()"
   ]
  },
  {
   "cell_type": "code",
   "execution_count": 69,
   "metadata": {},
   "outputs": [],
   "source": [
    "# Fetch summary statistics from the Monte Carlo simulation results\n",
    "MC_Y10_stats = MC_Y10.summarize_cumulative_return()"
   ]
  },
  {
   "cell_type": "code",
   "execution_count": 70,
   "metadata": {},
   "outputs": [
    {
     "name": "stdout",
     "output_type": "stream",
     "text": [
      "count           500.000000\n",
      "mean              1.848305\n",
      "std               0.896447\n",
      "min               0.488612\n",
      "25%               1.187302\n",
      "50%               1.665690\n",
      "75%               2.354960\n",
      "max               6.691702\n",
      "95% CI Lower      0.666070\n",
      "95% CI Upper      4.121158\n",
      "Name: 2520, dtype: float64\n"
     ]
    }
   ],
   "source": [
    "# Print summary statistics\n",
    "print(MC_Y10_stats)"
   ]
  },
  {
   "cell_type": "code",
   "execution_count": 71,
   "metadata": {},
   "outputs": [],
   "source": [
    "# Set initial investment\n",
    "initial_investment = 20000*4"
   ]
  },
  {
   "cell_type": "code",
   "execution_count": 72,
   "metadata": {},
   "outputs": [],
   "source": [
    "# Use the lower and upper `95%` confidence intervals to calculate the range of the possible outcomes of our $80,000\n",
    "ci_lower_ten = round(MC_Y10_stats[8] * initial_investment, 2)\n",
    "ci_upper_ten = round(MC_Y10_stats[9] * initial_investment, 2)"
   ]
  },
  {
   "cell_type": "code",
   "execution_count": 73,
   "metadata": {},
   "outputs": [
    {
     "name": "stdout",
     "output_type": "stream",
     "text": [
      "There is a 95% chance that an initial investment of $80,000.00 in the portfolio over the next 10 years will end within in the range of $53,285.61 and $329,692.62\n"
     ]
    }
   ],
   "source": [
    "# Print results\n",
    "print(f\"There is a 95% chance that an initial investment of ${initial_investment:,.2f} in the portfolio\"\n",
    "      f\" over the next 10 years will end within in the range of\"\n",
    "      f\" ${ci_lower_ten:,.2f} and ${ci_upper_ten:,.2f}\")"
   ]
  },
  {
   "cell_type": "code",
   "execution_count": null,
   "metadata": {},
   "outputs": [],
   "source": []
  }
 ],
 "metadata": {
  "kernelspec": {
   "display_name": "Python 3 (ipykernel)",
   "language": "python",
   "name": "python3"
  },
  "language_info": {
   "codemirror_mode": {
    "name": "ipython",
    "version": 3
   },
   "file_extension": ".py",
   "mimetype": "text/x-python",
   "name": "python",
   "nbconvert_exporter": "python",
   "pygments_lexer": "ipython3",
   "version": "3.7.13"
  },
  "nteract": {
   "version": "0.28.0"
  },
  "toc-showcode": false
 },
 "nbformat": 4,
 "nbformat_minor": 4
}
