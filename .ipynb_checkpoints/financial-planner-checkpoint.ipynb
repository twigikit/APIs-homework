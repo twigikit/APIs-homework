{
 "cells": [
  {
   "cell_type": "markdown",
   "metadata": {},
   "source": [
    "# Unit 5 - Financial Planning"
   ]
  },
  {
   "cell_type": "code",
   "execution_count": 1,
   "metadata": {},
   "outputs": [],
   "source": [
    "# Initial imports\n",
    "import os\n",
    "import requests\n",
    "import json\n",
    "import pandas as pd\n",
    "from dotenv import load_dotenv\n",
    "import alpaca_trade_api as tradeapi\n",
    "from MCForecastTools import MCSimulation\n",
    "\n",
    "%matplotlib inline"
   ]
  },
  {
   "cell_type": "code",
   "execution_count": 2,
   "metadata": {},
   "outputs": [
    {
     "data": {
      "text/plain": [
       "True"
      ]
     },
     "execution_count": 2,
     "metadata": {},
     "output_type": "execute_result"
    }
   ],
   "source": [
    "# Load .env enviroment variables\n",
    "load_dotenv()"
   ]
  },
  {
   "cell_type": "markdown",
   "metadata": {
    "tags": []
   },
   "source": [
    "## Part 1 - Personal Finance Planner"
   ]
  },
  {
   "cell_type": "markdown",
   "metadata": {},
   "source": [
    "### Collect Crypto Prices Using the `requests` Library"
   ]
  },
  {
   "cell_type": "code",
   "execution_count": 3,
   "metadata": {},
   "outputs": [],
   "source": [
    "# Set current amount of crypto assets\n",
    "my_btc = 1.2\n",
    "my_eth = 5.3"
   ]
  },
  {
   "cell_type": "code",
   "execution_count": 4,
   "metadata": {},
   "outputs": [],
   "source": [
    "# Crypto API URLs\n",
    "btc_url = \"https://api.alternative.me/v2/ticker/Bitcoin/?convert=USD\"\n",
    "eth_url = \"https://api.alternative.me/v2/ticker/Ethereum/?convert=USD\""
   ]
  },
  {
   "cell_type": "code",
   "execution_count": 5,
   "metadata": {},
   "outputs": [
    {
     "data": {
      "text/plain": [
       "<Response [200]>"
      ]
     },
     "execution_count": 5,
     "metadata": {},
     "output_type": "execute_result"
    }
   ],
   "source": [
    "# Fetch current BTC price\n",
    "btc_price_fetch = requests.get(btc_url)\n",
    "btc_price_fetch"
   ]
  },
  {
   "cell_type": "code",
   "execution_count": 6,
   "metadata": {},
   "outputs": [
    {
     "data": {
      "text/plain": [
       "{'data': {'1': {'id': 1,\n",
       "   'name': 'Bitcoin',\n",
       "   'symbol': 'BTC',\n",
       "   'website_slug': 'bitcoin',\n",
       "   'rank': 1,\n",
       "   'circulating_supply': 19174037,\n",
       "   'total_supply': 19174037,\n",
       "   'max_supply': 21000000,\n",
       "   'quotes': {'USD': {'price': 19425.32,\n",
       "     'volume_24h': 12928900136,\n",
       "     'market_cap': 372535878973,\n",
       "     'percentage_change_1h': 0.0361963385986577,\n",
       "     'percentage_change_24h': -0.429751204469222,\n",
       "     'percentage_change_7d': 0.57393898425249,\n",
       "     'percent_change_1h': 0.0361963385986577,\n",
       "     'percent_change_24h': -0.429751204469222,\n",
       "     'percent_change_7d': 0.57393898425249}},\n",
       "   'last_updated': 1665303572}},\n",
       " 'metadata': {'timestamp': 1665303572,\n",
       "  'num_cryptocurrencies': 3116,\n",
       "  'error': None}}"
      ]
     },
     "execution_count": 6,
     "metadata": {},
     "output_type": "execute_result"
    }
   ],
   "source": [
    "#Load BTC price data into python dictionary using json.loads\n",
    "btc_price_data = json.loads(btc_price_fetch.content.decode('utf-8'))\n",
    "btc_price_data"
   ]
  },
  {
   "cell_type": "code",
   "execution_count": 7,
   "metadata": {},
   "outputs": [
    {
     "data": {
      "text/plain": [
       "19425.32"
      ]
     },
     "execution_count": 7,
     "metadata": {},
     "output_type": "execute_result"
    }
   ],
   "source": [
    "btc_current_price = btc_price_data['data']['1']['quotes']['USD']['price']\n",
    "btc_current_price"
   ]
  },
  {
   "cell_type": "code",
   "execution_count": 8,
   "metadata": {},
   "outputs": [
    {
     "data": {
      "text/plain": [
       "<Response [200]>"
      ]
     },
     "execution_count": 8,
     "metadata": {},
     "output_type": "execute_result"
    }
   ],
   "source": [
    "# Fetch current ETH price\n",
    "eth_price_fetch = requests.get(eth_url)\n",
    "eth_price_fetch"
   ]
  },
  {
   "cell_type": "code",
   "execution_count": 9,
   "metadata": {},
   "outputs": [
    {
     "data": {
      "text/plain": [
       "{'data': {'1027': {'id': 1027,\n",
       "   'name': 'Ethereum',\n",
       "   'symbol': 'ETH',\n",
       "   'website_slug': 'ethereum',\n",
       "   'rank': 2,\n",
       "   'circulating_supply': 120874867,\n",
       "   'total_supply': 120874867,\n",
       "   'max_supply': 120874867,\n",
       "   'quotes': {'USD': {'price': 1317.28,\n",
       "     'volume_24h': 4785660191,\n",
       "     'market_cap': 159158431089,\n",
       "     'percentage_change_1h': 0.0290209133919994,\n",
       "     'percentage_change_24h': -0.988099422879173,\n",
       "     'percentage_change_7d': 0.458942581586894,\n",
       "     'percent_change_1h': 0.0290209133919994,\n",
       "     'percent_change_24h': -0.988099422879173,\n",
       "     'percent_change_7d': 0.458942581586894}},\n",
       "   'last_updated': 1665303590}},\n",
       " 'metadata': {'timestamp': 1665303590,\n",
       "  'num_cryptocurrencies': 3116,\n",
       "  'error': None}}"
      ]
     },
     "execution_count": 9,
     "metadata": {},
     "output_type": "execute_result"
    }
   ],
   "source": [
    "#Load ETH price data into python dictionary using json.loads\n",
    "eth_price_data = json.loads(eth_price_fetch.content.decode('utf-8'))\n",
    "eth_price_data"
   ]
  },
  {
   "cell_type": "code",
   "execution_count": 10,
   "metadata": {},
   "outputs": [
    {
     "data": {
      "text/plain": [
       "1317.28"
      ]
     },
     "execution_count": 10,
     "metadata": {},
     "output_type": "execute_result"
    }
   ],
   "source": [
    "eth_current_price = eth_price_data['data']['1027']['quotes']['USD']['price']\n",
    "eth_current_price"
   ]
  },
  {
   "cell_type": "code",
   "execution_count": 11,
   "metadata": {},
   "outputs": [
    {
     "data": {
      "text/plain": [
       "(23310.384, 6981.584)"
      ]
     },
     "execution_count": 11,
     "metadata": {},
     "output_type": "execute_result"
    }
   ],
   "source": [
    "# Compute current value of my crpto\n",
    "my_btc_value = my_btc * btc_current_price\n",
    "my_eth_value = my_eth * eth_current_price\n",
    "my_btc_value, my_eth_value"
   ]
  },
  {
   "cell_type": "code",
   "execution_count": 12,
   "metadata": {},
   "outputs": [
    {
     "name": "stdout",
     "output_type": "stream",
     "text": [
      "The current value of your 1.2 BTC is $23,310.38\n",
      "The current value of your 5.3 ETH is $6,981.58\n"
     ]
    }
   ],
   "source": [
    "# Print current crypto wallet balance\n",
    "print(f\"The current value of your {my_btc} BTC is ${my_btc_value:,.2f}\")\n",
    "print(f\"The current value of your {my_eth} ETH is ${my_eth_value:,.2f}\")"
   ]
  },
  {
   "cell_type": "markdown",
   "metadata": {},
   "source": [
    "### Collect Investments Data Using Alpaca: `SPY` (stocks) and `AGG` (bonds)"
   ]
  },
  {
   "cell_type": "code",
   "execution_count": 13,
   "metadata": {},
   "outputs": [],
   "source": [
    "# Set current amount of shares\n",
    "my_agg = 200\n",
    "my_spy = 50"
   ]
  },
  {
   "cell_type": "code",
   "execution_count": 14,
   "metadata": {},
   "outputs": [],
   "source": [
    "# Set Alpaca API key and secret\n",
    "alpaca_api_key = os.getenv(\"ALPACA_API_KEY\")\n",
    "alpaca_secret_key = os.getenv(\"ALPACA_SECRET_KEY\")"
   ]
  },
  {
   "cell_type": "code",
   "execution_count": 15,
   "metadata": {},
   "outputs": [],
   "source": [
    "# Create the Alpaca API object\n",
    "alpaca_api = tradeapi.REST( alpaca_api_key,\n",
    "                            alpaca_secret_key,\n",
    "                            api_version = 'v2')"
   ]
  },
  {
   "cell_type": "code",
   "execution_count": 16,
   "metadata": {},
   "outputs": [
    {
     "data": {
      "text/plain": [
       "'2022-10-07T00:00:00-04:00'"
      ]
     },
     "execution_count": 16,
     "metadata": {},
     "output_type": "execute_result"
    }
   ],
   "source": [
    "# Format current date as ISO format\n",
    "current_date = pd.Timestamp('2022-10-07', tz = \"America/New_York\").isoformat()\n",
    "current_date"
   ]
  },
  {
   "cell_type": "code",
   "execution_count": 17,
   "metadata": {},
   "outputs": [],
   "source": [
    "# Set the tickers\n",
    "tickers = [\"AGG\", \"SPY\"]\n",
    "\n",
    "# Set timeframe to \"1Day\" for Alpaca API\n",
    "timeframe = \"1Day\""
   ]
  },
  {
   "cell_type": "code",
   "execution_count": 18,
   "metadata": {},
   "outputs": [
    {
     "data": {
      "text/html": [
       "<div>\n",
       "<style scoped>\n",
       "    .dataframe tbody tr th:only-of-type {\n",
       "        vertical-align: middle;\n",
       "    }\n",
       "\n",
       "    .dataframe tbody tr th {\n",
       "        vertical-align: top;\n",
       "    }\n",
       "\n",
       "    .dataframe thead th {\n",
       "        text-align: right;\n",
       "    }\n",
       "</style>\n",
       "<table border=\"1\" class=\"dataframe\">\n",
       "  <thead>\n",
       "    <tr style=\"text-align: right;\">\n",
       "      <th></th>\n",
       "      <th>open</th>\n",
       "      <th>high</th>\n",
       "      <th>low</th>\n",
       "      <th>close</th>\n",
       "      <th>volume</th>\n",
       "      <th>trade_count</th>\n",
       "      <th>vwap</th>\n",
       "      <th>symbol</th>\n",
       "    </tr>\n",
       "    <tr>\n",
       "      <th>timestamp</th>\n",
       "      <th></th>\n",
       "      <th></th>\n",
       "      <th></th>\n",
       "      <th></th>\n",
       "      <th></th>\n",
       "      <th></th>\n",
       "      <th></th>\n",
       "      <th></th>\n",
       "    </tr>\n",
       "  </thead>\n",
       "  <tbody>\n",
       "    <tr>\n",
       "      <th>2022-10-07 04:00:00+00:00</th>\n",
       "      <td>95.81</td>\n",
       "      <td>96.0100</td>\n",
       "      <td>95.68</td>\n",
       "      <td>95.77</td>\n",
       "      <td>6149309</td>\n",
       "      <td>18717</td>\n",
       "      <td>95.836813</td>\n",
       "      <td>AGG</td>\n",
       "    </tr>\n",
       "    <tr>\n",
       "      <th>2022-10-07 04:00:00+00:00</th>\n",
       "      <td>369.06</td>\n",
       "      <td>373.2933</td>\n",
       "      <td>360.94</td>\n",
       "      <td>362.79</td>\n",
       "      <td>107239188</td>\n",
       "      <td>665841</td>\n",
       "      <td>365.065822</td>\n",
       "      <td>SPY</td>\n",
       "    </tr>\n",
       "  </tbody>\n",
       "</table>\n",
       "</div>"
      ],
      "text/plain": [
       "                             open      high     low   close     volume  \\\n",
       "timestamp                                                                \n",
       "2022-10-07 04:00:00+00:00   95.81   96.0100   95.68   95.77    6149309   \n",
       "2022-10-07 04:00:00+00:00  369.06  373.2933  360.94  362.79  107239188   \n",
       "\n",
       "                           trade_count        vwap symbol  \n",
       "timestamp                                                  \n",
       "2022-10-07 04:00:00+00:00        18717   95.836813    AGG  \n",
       "2022-10-07 04:00:00+00:00       665841  365.065822    SPY  "
      ]
     },
     "execution_count": 18,
     "metadata": {},
     "output_type": "execute_result"
    }
   ],
   "source": [
    "# Get current closing prices for SPY and AGG\n",
    "df_stock_current = alpaca_api.get_bars(  tickers,\n",
    "                                         timeframe,\n",
    "                                         start = current_date,\n",
    "                                         end = current_date).df\n",
    "df_stock_current"
   ]
  },
  {
   "cell_type": "code",
   "execution_count": 19,
   "metadata": {},
   "outputs": [],
   "source": [
    "# Reorganize the DataFrame\n",
    "# Separate ticker data\n",
    "df_agg_current = df_stock_current[df_stock_current[\"symbol\"] == \"AGG\"].drop(\"symbol\", axis = 1)\n",
    "df_spy_current = df_stock_current[df_stock_current[\"symbol\"] == \"SPY\"].drop(\"symbol\", axis = 1)"
   ]
  },
  {
   "cell_type": "code",
   "execution_count": 20,
   "metadata": {},
   "outputs": [],
   "source": [
    "# Concatenate the ticker DataFrames\n",
    "df_stock_current = pd.concat([df_agg_current, df_spy_current], axis = 1, keys=[\"AGG\",\"SPY\"])"
   ]
  },
  {
   "cell_type": "code",
   "execution_count": 21,
   "metadata": {},
   "outputs": [
    {
     "data": {
      "text/html": [
       "<div>\n",
       "<style scoped>\n",
       "    .dataframe tbody tr th:only-of-type {\n",
       "        vertical-align: middle;\n",
       "    }\n",
       "\n",
       "    .dataframe tbody tr th {\n",
       "        vertical-align: top;\n",
       "    }\n",
       "\n",
       "    .dataframe thead tr th {\n",
       "        text-align: left;\n",
       "    }\n",
       "\n",
       "    .dataframe thead tr:last-of-type th {\n",
       "        text-align: right;\n",
       "    }\n",
       "</style>\n",
       "<table border=\"1\" class=\"dataframe\">\n",
       "  <thead>\n",
       "    <tr>\n",
       "      <th></th>\n",
       "      <th colspan=\"7\" halign=\"left\">AGG</th>\n",
       "      <th colspan=\"7\" halign=\"left\">SPY</th>\n",
       "    </tr>\n",
       "    <tr>\n",
       "      <th></th>\n",
       "      <th>open</th>\n",
       "      <th>high</th>\n",
       "      <th>low</th>\n",
       "      <th>close</th>\n",
       "      <th>volume</th>\n",
       "      <th>trade_count</th>\n",
       "      <th>vwap</th>\n",
       "      <th>open</th>\n",
       "      <th>high</th>\n",
       "      <th>low</th>\n",
       "      <th>close</th>\n",
       "      <th>volume</th>\n",
       "      <th>trade_count</th>\n",
       "      <th>vwap</th>\n",
       "    </tr>\n",
       "    <tr>\n",
       "      <th>timestamp</th>\n",
       "      <th></th>\n",
       "      <th></th>\n",
       "      <th></th>\n",
       "      <th></th>\n",
       "      <th></th>\n",
       "      <th></th>\n",
       "      <th></th>\n",
       "      <th></th>\n",
       "      <th></th>\n",
       "      <th></th>\n",
       "      <th></th>\n",
       "      <th></th>\n",
       "      <th></th>\n",
       "      <th></th>\n",
       "    </tr>\n",
       "  </thead>\n",
       "  <tbody>\n",
       "    <tr>\n",
       "      <th>2022-10-07 04:00:00+00:00</th>\n",
       "      <td>95.81</td>\n",
       "      <td>96.01</td>\n",
       "      <td>95.68</td>\n",
       "      <td>95.77</td>\n",
       "      <td>6149309</td>\n",
       "      <td>18717</td>\n",
       "      <td>95.836813</td>\n",
       "      <td>369.06</td>\n",
       "      <td>373.2933</td>\n",
       "      <td>360.94</td>\n",
       "      <td>362.79</td>\n",
       "      <td>107239188</td>\n",
       "      <td>665841</td>\n",
       "      <td>365.065822</td>\n",
       "    </tr>\n",
       "  </tbody>\n",
       "</table>\n",
       "</div>"
      ],
      "text/plain": [
       "                             AGG                                            \\\n",
       "                            open   high    low  close   volume trade_count   \n",
       "timestamp                                                                    \n",
       "2022-10-07 04:00:00+00:00  95.81  96.01  95.68  95.77  6149309       18717   \n",
       "\n",
       "                                         SPY                            \\\n",
       "                                vwap    open      high     low   close   \n",
       "timestamp                                                                \n",
       "2022-10-07 04:00:00+00:00  95.836813  369.06  373.2933  360.94  362.79   \n",
       "\n",
       "                                                              \n",
       "                              volume trade_count        vwap  \n",
       "timestamp                                                     \n",
       "2022-10-07 04:00:00+00:00  107239188      665841  365.065822  "
      ]
     },
     "execution_count": 21,
     "metadata": {},
     "output_type": "execute_result"
    }
   ],
   "source": [
    "# Preview DataFrame\n",
    "df_stock_current"
   ]
  },
  {
   "cell_type": "code",
   "execution_count": 22,
   "metadata": {},
   "outputs": [],
   "source": [
    "# Pick AGG and SPY close prices\n",
    "agg_close_price = df_stock_current[\"AGG\"][\"close\"].iloc[0]\n",
    "spy_close_price = df_stock_current[\"SPY\"][\"close\"].iloc[0]"
   ]
  },
  {
   "cell_type": "code",
   "execution_count": 23,
   "metadata": {},
   "outputs": [
    {
     "name": "stdout",
     "output_type": "stream",
     "text": [
      "Current AGG closing price: $95.77\n",
      "Current SPY closing price: $362.79\n"
     ]
    }
   ],
   "source": [
    "# Print AGG and SPY close prices\n",
    "print(f\"Current AGG closing price: ${agg_close_price}\")\n",
    "print(f\"Current SPY closing price: ${spy_close_price}\")"
   ]
  },
  {
   "cell_type": "code",
   "execution_count": 24,
   "metadata": {},
   "outputs": [],
   "source": [
    "# Compute the current value of shares\n",
    "my_agg_value = my_agg * agg_close_price\n",
    "my_spy_value = my_spy * spy_close_price"
   ]
  },
  {
   "cell_type": "code",
   "execution_count": 25,
   "metadata": {},
   "outputs": [
    {
     "name": "stdout",
     "output_type": "stream",
     "text": [
      "The current value of your 50 SPY shares is $18,139.50\n",
      "The current value of your 200 AGG bonds is $19,154.00\n"
     ]
    }
   ],
   "source": [
    "# Print current value of shares\n",
    "print(f\"The current value of your {my_spy} SPY shares is ${my_spy_value:,.2f}\")\n",
    "print(f\"The current value of your {my_agg} AGG bonds is ${my_agg_value:,.2f}\")"
   ]
  },
  {
   "cell_type": "markdown",
   "metadata": {},
   "source": [
    "### Savings Health Analysis"
   ]
  },
  {
   "cell_type": "code",
   "execution_count": 26,
   "metadata": {},
   "outputs": [],
   "source": [
    "# Set monthly household income\n",
    "monthly_income = 12000"
   ]
  },
  {
   "cell_type": "code",
   "execution_count": 27,
   "metadata": {},
   "outputs": [
    {
     "data": {
      "text/plain": [
       "(30291.967999999997, 37293.5)"
      ]
     },
     "execution_count": 27,
     "metadata": {},
     "output_type": "execute_result"
    }
   ],
   "source": [
    "# Consolidate financial assets data\n",
    "total_crypto_value = my_btc_value + my_eth_value\n",
    "total_share_value = my_agg_value + my_spy_value\n",
    "total_crypto_value , total_share_value"
   ]
  },
  {
   "cell_type": "code",
   "execution_count": 28,
   "metadata": {},
   "outputs": [],
   "source": [
    "# Create savings DataFrame\n",
    "df_savings = pd.DataFrame([total_crypto_value, total_share_value], index=[\"crypto\", \"shares\"], columns = [\"amount\"])"
   ]
  },
  {
   "cell_type": "code",
   "execution_count": 29,
   "metadata": {},
   "outputs": [
    {
     "data": {
      "text/html": [
       "<div>\n",
       "<style scoped>\n",
       "    .dataframe tbody tr th:only-of-type {\n",
       "        vertical-align: middle;\n",
       "    }\n",
       "\n",
       "    .dataframe tbody tr th {\n",
       "        vertical-align: top;\n",
       "    }\n",
       "\n",
       "    .dataframe thead th {\n",
       "        text-align: right;\n",
       "    }\n",
       "</style>\n",
       "<table border=\"1\" class=\"dataframe\">\n",
       "  <thead>\n",
       "    <tr style=\"text-align: right;\">\n",
       "      <th></th>\n",
       "      <th>amount</th>\n",
       "    </tr>\n",
       "  </thead>\n",
       "  <tbody>\n",
       "    <tr>\n",
       "      <th>crypto</th>\n",
       "      <td>30291.968</td>\n",
       "    </tr>\n",
       "    <tr>\n",
       "      <th>shares</th>\n",
       "      <td>37293.500</td>\n",
       "    </tr>\n",
       "  </tbody>\n",
       "</table>\n",
       "</div>"
      ],
      "text/plain": [
       "           amount\n",
       "crypto  30291.968\n",
       "shares  37293.500"
      ]
     },
     "metadata": {},
     "output_type": "display_data"
    }
   ],
   "source": [
    "# Display savings DataFrame\n",
    "display(df_savings)"
   ]
  },
  {
   "cell_type": "code",
   "execution_count": 30,
   "metadata": {},
   "outputs": [
    {
     "data": {
      "text/plain": [
       "<AxesSubplot:title={'center':'Composition of personal savings'}, ylabel='amount'>"
      ]
     },
     "execution_count": 30,
     "metadata": {},
     "output_type": "execute_result"
    },
    {
     "data": {
      "image/png": "[encoded data removed]",
      "text/plain": [
       "<Figure size 432x432 with 1 Axes>"
      ]
     },
     "metadata": {},
     "output_type": "display_data"
    }
   ],
   "source": [
    "# Plot savings pie chart\n",
    "df_savings.plot.pie( y=\"amount\", autopct = '%1.2f%%', startangle = 90, figsize = (6,6), title = \"Composition of personal savings\")"
   ]
  },
  {
   "cell_type": "code",
   "execution_count": 31,
   "metadata": {},
   "outputs": [
    {
     "data": {
      "text/plain": [
       "36000"
      ]
     },
     "execution_count": 31,
     "metadata": {},
     "output_type": "execute_result"
    }
   ],
   "source": [
    "# Set ideal emergency fund\n",
    "emergency_fund = monthly_income * 3\n",
    "emergency_fund"
   ]
  },
  {
   "cell_type": "code",
   "execution_count": 32,
   "metadata": {},
   "outputs": [
    {
     "data": {
      "text/plain": [
       "67585.47"
      ]
     },
     "execution_count": 32,
     "metadata": {},
     "output_type": "execute_result"
    }
   ],
   "source": [
    "# Calculate total amount of savings\n",
    "total_savings = round(df_savings[\"amount\"].sum(),2)\n",
    "total_savings"
   ]
  },
  {
   "cell_type": "code",
   "execution_count": 33,
   "metadata": {},
   "outputs": [
    {
     "name": "stdout",
     "output_type": "stream",
     "text": [
      "Congratulation! Total savings are greater than the emergency fund. \n",
      "You have enough money in your fund.\n"
     ]
    }
   ],
   "source": [
    "# Validate saving health\n",
    "if total_savings == emergency_fund:\n",
    "    print (f\"Congratulation! Total savings are equal to emergency fund.\\n\" \n",
    "           f\"You have reached your financial goal having the ideal emergency fund.\")\n",
    "elif total_savings > emergency_fund:\n",
    "    print (f\"Congratulation! Total savings are greater than the emergency fund. \\n\"\n",
    "           f\"You have enough money in your fund.\")\n",
    "else:\n",
    "    gap =  emergency_fund - total_savings\n",
    "    print (f\"You are ${gap:,.2f} away from reaching your financial goal.\")"
   ]
  },
  {
   "cell_type": "markdown",
   "metadata": {},
   "source": [
    "## Part 2 - Retirement Planning\n",
    "\n",
    "### Monte Carlo Simulation"
   ]
  },
  {
   "cell_type": "code",
   "execution_count": 34,
   "metadata": {},
   "outputs": [],
   "source": [
    "# Set start and end dates of five years back from today.\n",
    "# Sample results may vary from the solution based on the time frame chosen\n",
    "start_date = pd.Timestamp('2017-10-07', tz='America/New_York').isoformat()\n",
    "end_date = pd.Timestamp('2022-10-07', tz='America/New_York').isoformat()"
   ]
  },
  {
   "cell_type": "code",
   "execution_count": 35,
   "metadata": {},
   "outputs": [],
   "source": [
    "# Get 5 years' worth of historical data for SPY and AGG\n",
    "df_stock_historical = alpaca_api.get_bars( tickers,\n",
    "                                           timeframe,\n",
    "                                           start = start_date,\n",
    "                                           end = end_date).df"
   ]
  },
  {
   "cell_type": "code",
   "execution_count": 36,
   "metadata": {},
   "outputs": [
    {
     "data": {
      "text/html": [
       "<div>\n",
       "<style scoped>\n",
       "    .dataframe tbody tr th:only-of-type {\n",
       "        vertical-align: middle;\n",
       "    }\n",
       "\n",
       "    .dataframe tbody tr th {\n",
       "        vertical-align: top;\n",
       "    }\n",
       "\n",
       "    .dataframe thead th {\n",
       "        text-align: right;\n",
       "    }\n",
       "</style>\n",
       "<table border=\"1\" class=\"dataframe\">\n",
       "  <thead>\n",
       "    <tr style=\"text-align: right;\">\n",
       "      <th></th>\n",
       "      <th>open</th>\n",
       "      <th>high</th>\n",
       "      <th>low</th>\n",
       "      <th>close</th>\n",
       "      <th>volume</th>\n",
       "      <th>trade_count</th>\n",
       "      <th>vwap</th>\n",
       "      <th>symbol</th>\n",
       "    </tr>\n",
       "    <tr>\n",
       "      <th>timestamp</th>\n",
       "      <th></th>\n",
       "      <th></th>\n",
       "      <th></th>\n",
       "      <th></th>\n",
       "      <th></th>\n",
       "      <th></th>\n",
       "      <th></th>\n",
       "      <th></th>\n",
       "    </tr>\n",
       "  </thead>\n",
       "  <tbody>\n",
       "    <tr>\n",
       "      <th>2017-10-09 04:00:00+00:00</th>\n",
       "      <td>109.35</td>\n",
       "      <td>109.43</td>\n",
       "      <td>109.3000</td>\n",
       "      <td>109.43</td>\n",
       "      <td>1131600</td>\n",
       "      <td>6721</td>\n",
       "      <td>109.380496</td>\n",
       "      <td>AGG</td>\n",
       "    </tr>\n",
       "    <tr>\n",
       "      <th>2017-10-10 04:00:00+00:00</th>\n",
       "      <td>109.47</td>\n",
       "      <td>109.61</td>\n",
       "      <td>109.3999</td>\n",
       "      <td>109.44</td>\n",
       "      <td>1635802</td>\n",
       "      <td>8934</td>\n",
       "      <td>109.488101</td>\n",
       "      <td>AGG</td>\n",
       "    </tr>\n",
       "    <tr>\n",
       "      <th>2017-10-11 04:00:00+00:00</th>\n",
       "      <td>109.47</td>\n",
       "      <td>109.53</td>\n",
       "      <td>109.4200</td>\n",
       "      <td>109.46</td>\n",
       "      <td>2048774</td>\n",
       "      <td>9184</td>\n",
       "      <td>109.479870</td>\n",
       "      <td>AGG</td>\n",
       "    </tr>\n",
       "    <tr>\n",
       "      <th>2017-10-12 04:00:00+00:00</th>\n",
       "      <td>109.56</td>\n",
       "      <td>109.61</td>\n",
       "      <td>109.4800</td>\n",
       "      <td>109.59</td>\n",
       "      <td>1933369</td>\n",
       "      <td>9814</td>\n",
       "      <td>109.543912</td>\n",
       "      <td>AGG</td>\n",
       "    </tr>\n",
       "    <tr>\n",
       "      <th>2017-10-13 04:00:00+00:00</th>\n",
       "      <td>109.82</td>\n",
       "      <td>109.87</td>\n",
       "      <td>109.6900</td>\n",
       "      <td>109.86</td>\n",
       "      <td>1743840</td>\n",
       "      <td>9223</td>\n",
       "      <td>109.799780</td>\n",
       "      <td>AGG</td>\n",
       "    </tr>\n",
       "  </tbody>\n",
       "</table>\n",
       "</div>"
      ],
      "text/plain": [
       "                             open    high       low   close   volume  \\\n",
       "timestamp                                                              \n",
       "2017-10-09 04:00:00+00:00  109.35  109.43  109.3000  109.43  1131600   \n",
       "2017-10-10 04:00:00+00:00  109.47  109.61  109.3999  109.44  1635802   \n",
       "2017-10-11 04:00:00+00:00  109.47  109.53  109.4200  109.46  2048774   \n",
       "2017-10-12 04:00:00+00:00  109.56  109.61  109.4800  109.59  1933369   \n",
       "2017-10-13 04:00:00+00:00  109.82  109.87  109.6900  109.86  1743840   \n",
       "\n",
       "                           trade_count        vwap symbol  \n",
       "timestamp                                                  \n",
       "2017-10-09 04:00:00+00:00         6721  109.380496    AGG  \n",
       "2017-10-10 04:00:00+00:00         8934  109.488101    AGG  \n",
       "2017-10-11 04:00:00+00:00         9184  109.479870    AGG  \n",
       "2017-10-12 04:00:00+00:00         9814  109.543912    AGG  \n",
       "2017-10-13 04:00:00+00:00         9223  109.799780    AGG  "
      ]
     },
     "execution_count": 36,
     "metadata": {},
     "output_type": "execute_result"
    }
   ],
   "source": [
    "df_stock_historical.head()"
   ]
  },
  {
   "cell_type": "code",
   "execution_count": 37,
   "metadata": {},
   "outputs": [],
   "source": [
    "# Reorganize the DataFrame\n",
    "# Separate ticker data\n",
    "df_agg_historical=  df_stock_historical[df_stock_historical[\"symbol\"] == \"AGG\"].drop(\"symbol\", axis = 1)\n",
    "df_spy_historical =  df_stock_historical[df_stock_historical[\"symbol\"] == \"SPY\"].drop(\"symbol\", axis = 1)"
   ]
  },
  {
   "cell_type": "code",
   "execution_count": 38,
   "metadata": {},
   "outputs": [],
   "source": [
    "# Concatenate the ticker DataFrames\n",
    "df_stock_data = pd.concat([df_agg_historical, df_spy_historical], axis = 1, keys=[\"AGG\",\"SPY\"])"
   ]
  },
  {
   "cell_type": "code",
   "execution_count": 39,
   "metadata": {},
   "outputs": [],
   "source": [
    "#remove timestamp from index\n",
    "df_stock_data.index = df_stock_data.index.date"
   ]
  },
  {
   "cell_type": "code",
   "execution_count": 40,
   "metadata": {},
   "outputs": [
    {
     "data": {
      "text/html": [
       "<div>\n",
       "<style scoped>\n",
       "    .dataframe tbody tr th:only-of-type {\n",
       "        vertical-align: middle;\n",
       "    }\n",
       "\n",
       "    .dataframe tbody tr th {\n",
       "        vertical-align: top;\n",
       "    }\n",
       "\n",
       "    .dataframe thead tr th {\n",
       "        text-align: left;\n",
       "    }\n",
       "</style>\n",
       "<table border=\"1\" class=\"dataframe\">\n",
       "  <thead>\n",
       "    <tr>\n",
       "      <th></th>\n",
       "      <th colspan=\"7\" halign=\"left\">AGG</th>\n",
       "      <th colspan=\"7\" halign=\"left\">SPY</th>\n",
       "    </tr>\n",
       "    <tr>\n",
       "      <th></th>\n",
       "      <th>open</th>\n",
       "      <th>high</th>\n",
       "      <th>low</th>\n",
       "      <th>close</th>\n",
       "      <th>volume</th>\n",
       "      <th>trade_count</th>\n",
       "      <th>vwap</th>\n",
       "      <th>open</th>\n",
       "      <th>high</th>\n",
       "      <th>low</th>\n",
       "      <th>close</th>\n",
       "      <th>volume</th>\n",
       "      <th>trade_count</th>\n",
       "      <th>vwap</th>\n",
       "    </tr>\n",
       "  </thead>\n",
       "  <tbody>\n",
       "    <tr>\n",
       "      <th>2017-10-09</th>\n",
       "      <td>109.35</td>\n",
       "      <td>109.43</td>\n",
       "      <td>109.3000</td>\n",
       "      <td>109.43</td>\n",
       "      <td>1131600</td>\n",
       "      <td>6721</td>\n",
       "      <td>109.380496</td>\n",
       "      <td>254.65</td>\n",
       "      <td>254.70</td>\n",
       "      <td>253.650</td>\n",
       "      <td>253.95</td>\n",
       "      <td>35803138</td>\n",
       "      <td>113893</td>\n",
       "      <td>254.099236</td>\n",
       "    </tr>\n",
       "    <tr>\n",
       "      <th>2017-10-10</th>\n",
       "      <td>109.47</td>\n",
       "      <td>109.61</td>\n",
       "      <td>109.3999</td>\n",
       "      <td>109.44</td>\n",
       "      <td>1635802</td>\n",
       "      <td>8934</td>\n",
       "      <td>109.488101</td>\n",
       "      <td>254.59</td>\n",
       "      <td>255.05</td>\n",
       "      <td>253.980</td>\n",
       "      <td>254.62</td>\n",
       "      <td>43057452</td>\n",
       "      <td>140616</td>\n",
       "      <td>254.400559</td>\n",
       "    </tr>\n",
       "    <tr>\n",
       "      <th>2017-10-11</th>\n",
       "      <td>109.47</td>\n",
       "      <td>109.53</td>\n",
       "      <td>109.4200</td>\n",
       "      <td>109.46</td>\n",
       "      <td>2048774</td>\n",
       "      <td>9184</td>\n",
       "      <td>109.479870</td>\n",
       "      <td>254.53</td>\n",
       "      <td>255.02</td>\n",
       "      <td>254.320</td>\n",
       "      <td>255.02</td>\n",
       "      <td>49118035</td>\n",
       "      <td>126972</td>\n",
       "      <td>254.772000</td>\n",
       "    </tr>\n",
       "    <tr>\n",
       "      <th>2017-10-12</th>\n",
       "      <td>109.56</td>\n",
       "      <td>109.61</td>\n",
       "      <td>109.4800</td>\n",
       "      <td>109.59</td>\n",
       "      <td>1933369</td>\n",
       "      <td>9814</td>\n",
       "      <td>109.543912</td>\n",
       "      <td>254.68</td>\n",
       "      <td>255.06</td>\n",
       "      <td>254.365</td>\n",
       "      <td>254.64</td>\n",
       "      <td>47070644</td>\n",
       "      <td>142560</td>\n",
       "      <td>254.735611</td>\n",
       "    </tr>\n",
       "    <tr>\n",
       "      <th>2017-10-13</th>\n",
       "      <td>109.82</td>\n",
       "      <td>109.87</td>\n",
       "      <td>109.6900</td>\n",
       "      <td>109.86</td>\n",
       "      <td>1743840</td>\n",
       "      <td>9223</td>\n",
       "      <td>109.799780</td>\n",
       "      <td>255.15</td>\n",
       "      <td>255.27</td>\n",
       "      <td>254.640</td>\n",
       "      <td>254.95</td>\n",
       "      <td>56197572</td>\n",
       "      <td>149417</td>\n",
       "      <td>254.982007</td>\n",
       "    </tr>\n",
       "  </tbody>\n",
       "</table>\n",
       "</div>"
      ],
      "text/plain": [
       "               AGG                                                             \\\n",
       "              open    high       low   close   volume trade_count        vwap   \n",
       "2017-10-09  109.35  109.43  109.3000  109.43  1131600        6721  109.380496   \n",
       "2017-10-10  109.47  109.61  109.3999  109.44  1635802        8934  109.488101   \n",
       "2017-10-11  109.47  109.53  109.4200  109.46  2048774        9184  109.479870   \n",
       "2017-10-12  109.56  109.61  109.4800  109.59  1933369        9814  109.543912   \n",
       "2017-10-13  109.82  109.87  109.6900  109.86  1743840        9223  109.799780   \n",
       "\n",
       "               SPY                                                             \n",
       "              open    high      low   close    volume trade_count        vwap  \n",
       "2017-10-09  254.65  254.70  253.650  253.95  35803138      113893  254.099236  \n",
       "2017-10-10  254.59  255.05  253.980  254.62  43057452      140616  254.400559  \n",
       "2017-10-11  254.53  255.02  254.320  255.02  49118035      126972  254.772000  \n",
       "2017-10-12  254.68  255.06  254.365  254.64  47070644      142560  254.735611  \n",
       "2017-10-13  255.15  255.27  254.640  254.95  56197572      149417  254.982007  "
      ]
     },
     "execution_count": 40,
     "metadata": {},
     "output_type": "execute_result"
    }
   ],
   "source": [
    "# Display sample data\n",
    "df_stock_data.head()"
   ]
  },
  {
   "cell_type": "code",
   "execution_count": 41,
   "metadata": {},
   "outputs": [],
   "source": [
    "#drop unused columns\n",
    "drop_columns = [\"open\",\"high\",\"low\",\"volume\",\"trade_count\", \"vwap\"]\n",
    "\n",
    "for x in tickers:\n",
    "    for y in drop_columns:\n",
    "        df_stock_data.drop(columns = (x,y), inplace = True)"
   ]
  },
  {
   "cell_type": "code",
   "execution_count": 42,
   "metadata": {},
   "outputs": [],
   "source": [
    "# Configuring a Monte Carlo simulation to forecast 30 years cumulative returns\n",
    "# assume 252 trading days in a year. 30 years means 7560 trading days (30 x 252)\n",
    "# set weight 40% bond AGG and 60% stock SPY\n",
    "MC_Y30 = MCSimulation(portfolio_data = df_stock_data,\n",
    "                      weights = [0.40, 0.60],\n",
    "                      num_simulation = 500 ,\n",
    "                      num_trading_days = 252*30\n",
    "                      )"
   ]
  },
  {
   "cell_type": "code",
   "execution_count": 43,
   "metadata": {},
   "outputs": [
    {
     "data": {
      "text/html": [
       "<div>\n",
       "<style scoped>\n",
       "    .dataframe tbody tr th:only-of-type {\n",
       "        vertical-align: middle;\n",
       "    }\n",
       "\n",
       "    .dataframe tbody tr th {\n",
       "        vertical-align: top;\n",
       "    }\n",
       "\n",
       "    .dataframe thead tr th {\n",
       "        text-align: left;\n",
       "    }\n",
       "</style>\n",
       "<table border=\"1\" class=\"dataframe\">\n",
       "  <thead>\n",
       "    <tr>\n",
       "      <th></th>\n",
       "      <th colspan=\"2\" halign=\"left\">AGG</th>\n",
       "      <th colspan=\"2\" halign=\"left\">SPY</th>\n",
       "    </tr>\n",
       "    <tr>\n",
       "      <th></th>\n",
       "      <th>close</th>\n",
       "      <th>daily_return</th>\n",
       "      <th>close</th>\n",
       "      <th>daily_return</th>\n",
       "    </tr>\n",
       "  </thead>\n",
       "  <tbody>\n",
       "    <tr>\n",
       "      <th>2017-10-09</th>\n",
       "      <td>109.43</td>\n",
       "      <td>NaN</td>\n",
       "      <td>253.95</td>\n",
       "      <td>NaN</td>\n",
       "    </tr>\n",
       "    <tr>\n",
       "      <th>2017-10-10</th>\n",
       "      <td>109.44</td>\n",
       "      <td>0.000091</td>\n",
       "      <td>254.62</td>\n",
       "      <td>0.002638</td>\n",
       "    </tr>\n",
       "    <tr>\n",
       "      <th>2017-10-11</th>\n",
       "      <td>109.46</td>\n",
       "      <td>0.000183</td>\n",
       "      <td>255.02</td>\n",
       "      <td>0.001571</td>\n",
       "    </tr>\n",
       "    <tr>\n",
       "      <th>2017-10-12</th>\n",
       "      <td>109.59</td>\n",
       "      <td>0.001188</td>\n",
       "      <td>254.64</td>\n",
       "      <td>-0.001490</td>\n",
       "    </tr>\n",
       "    <tr>\n",
       "      <th>2017-10-13</th>\n",
       "      <td>109.86</td>\n",
       "      <td>0.002464</td>\n",
       "      <td>254.95</td>\n",
       "      <td>0.001217</td>\n",
       "    </tr>\n",
       "  </tbody>\n",
       "</table>\n",
       "</div>"
      ],
      "text/plain": [
       "               AGG                  SPY             \n",
       "             close daily_return   close daily_return\n",
       "2017-10-09  109.43          NaN  253.95          NaN\n",
       "2017-10-10  109.44     0.000091  254.62     0.002638\n",
       "2017-10-11  109.46     0.000183  255.02     0.001571\n",
       "2017-10-12  109.59     0.001188  254.64    -0.001490\n",
       "2017-10-13  109.86     0.002464  254.95     0.001217"
      ]
     },
     "execution_count": 43,
     "metadata": {},
     "output_type": "execute_result"
    }
   ],
   "source": [
    "# Printing the simulation input data\n",
    "MC_Y30.portfolio_data.head()"
   ]
  },
  {
   "cell_type": "code",
   "execution_count": 44,
   "metadata": {},
   "outputs": [
    {
     "name": "stdout",
     "output_type": "stream",
     "text": [
      "Running Monte Carlo simulation number 0.\n",
      "Running Monte Carlo simulation number 10.\n",
      "Running Monte Carlo simulation number 20.\n",
      "Running Monte Carlo simulation number 30.\n",
      "Running Monte Carlo simulation number 40.\n",
      "Running Monte Carlo simulation number 50.\n",
      "Running Monte Carlo simulation number 60.\n",
      "Running Monte Carlo simulation number 70.\n",
      "Running Monte Carlo simulation number 80.\n",
      "Running Monte Carlo simulation number 90.\n",
      "Running Monte Carlo simulation number 100.\n"
     ]
    },
    {
     "name": "stderr",
     "output_type": "stream",
     "text": [
      "C:\\Users\\twigi\\FTBC\\W5_Assignment\\APIs-homework\\MCForecastTools.py:117: PerformanceWarning: DataFrame is highly fragmented.  This is usually the result of calling `frame.insert` many times, which has poor performance.  Consider joining all columns at once using pd.concat(axis=1) instead.  To get a de-fragmented frame, use `newframe = frame.copy()`\n",
      "  portfolio_cumulative_returns[n] = (1 + sim_df.fillna(0)).cumprod()\n"
     ]
    },
    {
     "name": "stdout",
     "output_type": "stream",
     "text": [
      "Running Monte Carlo simulation number 110.\n",
      "Running Monte Carlo simulation number 120.\n",
      "Running Monte Carlo simulation number 130.\n",
      "Running Monte Carlo simulation number 140.\n",
      "Running Monte Carlo simulation number 150.\n",
      "Running Monte Carlo simulation number 160.\n",
      "Running Monte Carlo simulation number 170.\n",
      "Running Monte Carlo simulation number 180.\n",
      "Running Monte Carlo simulation number 190.\n",
      "Running Monte Carlo simulation number 200.\n",
      "Running Monte Carlo simulation number 210.\n",
      "Running Monte Carlo simulation number 220.\n",
      "Running Monte Carlo simulation number 230.\n",
      "Running Monte Carlo simulation number 240.\n",
      "Running Monte Carlo simulation number 250.\n",
      "Running Monte Carlo simulation number 260.\n",
      "Running Monte Carlo simulation number 270.\n",
      "Running Monte Carlo simulation number 280.\n",
      "Running Monte Carlo simulation number 290.\n",
      "Running Monte Carlo simulation number 300.\n",
      "Running Monte Carlo simulation number 310.\n",
      "Running Monte Carlo simulation number 320.\n",
      "Running Monte Carlo simulation number 330.\n",
      "Running Monte Carlo simulation number 340.\n",
      "Running Monte Carlo simulation number 350.\n",
      "Running Monte Carlo simulation number 360.\n",
      "Running Monte Carlo simulation number 370.\n",
      "Running Monte Carlo simulation number 380.\n",
      "Running Monte Carlo simulation number 390.\n",
      "Running Monte Carlo simulation number 400.\n",
      "Running Monte Carlo simulation number 410.\n",
      "Running Monte Carlo simulation number 420.\n",
      "Running Monte Carlo simulation number 430.\n",
      "Running Monte Carlo simulation number 440.\n",
      "Running Monte Carlo simulation number 450.\n",
      "Running Monte Carlo simulation number 460.\n",
      "Running Monte Carlo simulation number 470.\n",
      "Running Monte Carlo simulation number 480.\n",
      "Running Monte Carlo simulation number 490.\n"
     ]
    },
    {
     "data": {
      "text/html": [
       "<div>\n",
       "<style scoped>\n",
       "    .dataframe tbody tr th:only-of-type {\n",
       "        vertical-align: middle;\n",
       "    }\n",
       "\n",
       "    .dataframe tbody tr th {\n",
       "        vertical-align: top;\n",
       "    }\n",
       "\n",
       "    .dataframe thead th {\n",
       "        text-align: right;\n",
       "    }\n",
       "</style>\n",
       "<table border=\"1\" class=\"dataframe\">\n",
       "  <thead>\n",
       "    <tr style=\"text-align: right;\">\n",
       "      <th></th>\n",
       "      <th>0</th>\n",
       "      <th>1</th>\n",
       "      <th>2</th>\n",
       "      <th>3</th>\n",
       "      <th>4</th>\n",
       "      <th>5</th>\n",
       "      <th>6</th>\n",
       "      <th>7</th>\n",
       "      <th>8</th>\n",
       "      <th>9</th>\n",
       "      <th>...</th>\n",
       "      <th>490</th>\n",
       "      <th>491</th>\n",
       "      <th>492</th>\n",
       "      <th>493</th>\n",
       "      <th>494</th>\n",
       "      <th>495</th>\n",
       "      <th>496</th>\n",
       "      <th>497</th>\n",
       "      <th>498</th>\n",
       "      <th>499</th>\n",
       "    </tr>\n",
       "  </thead>\n",
       "  <tbody>\n",
       "    <tr>\n",
       "      <th>0</th>\n",
       "      <td>1.000000</td>\n",
       "      <td>1.000000</td>\n",
       "      <td>1.000000</td>\n",
       "      <td>1.000000</td>\n",
       "      <td>1.000000</td>\n",
       "      <td>1.000000</td>\n",
       "      <td>1.000000</td>\n",
       "      <td>1.000000</td>\n",
       "      <td>1.000000</td>\n",
       "      <td>1.000000</td>\n",
       "      <td>...</td>\n",
       "      <td>1.000000</td>\n",
       "      <td>1.000000</td>\n",
       "      <td>1.000000</td>\n",
       "      <td>1.000000</td>\n",
       "      <td>1.000000</td>\n",
       "      <td>1.000000</td>\n",
       "      <td>1.000000</td>\n",
       "      <td>1.000000</td>\n",
       "      <td>1.000000</td>\n",
       "      <td>1.000000</td>\n",
       "    </tr>\n",
       "    <tr>\n",
       "      <th>1</th>\n",
       "      <td>0.993821</td>\n",
       "      <td>1.010259</td>\n",
       "      <td>0.997938</td>\n",
       "      <td>1.005351</td>\n",
       "      <td>1.001393</td>\n",
       "      <td>0.995982</td>\n",
       "      <td>1.001005</td>\n",
       "      <td>0.998618</td>\n",
       "      <td>0.994929</td>\n",
       "      <td>1.006665</td>\n",
       "      <td>...</td>\n",
       "      <td>0.994064</td>\n",
       "      <td>0.990765</td>\n",
       "      <td>1.001262</td>\n",
       "      <td>1.001517</td>\n",
       "      <td>1.006597</td>\n",
       "      <td>0.987490</td>\n",
       "      <td>1.008194</td>\n",
       "      <td>0.989558</td>\n",
       "      <td>0.990955</td>\n",
       "      <td>0.998128</td>\n",
       "    </tr>\n",
       "    <tr>\n",
       "      <th>2</th>\n",
       "      <td>0.992094</td>\n",
       "      <td>1.021113</td>\n",
       "      <td>1.004677</td>\n",
       "      <td>1.011123</td>\n",
       "      <td>1.010268</td>\n",
       "      <td>0.986599</td>\n",
       "      <td>1.009369</td>\n",
       "      <td>1.004765</td>\n",
       "      <td>0.994612</td>\n",
       "      <td>1.002148</td>\n",
       "      <td>...</td>\n",
       "      <td>0.989267</td>\n",
       "      <td>0.996738</td>\n",
       "      <td>1.002566</td>\n",
       "      <td>0.984655</td>\n",
       "      <td>0.999904</td>\n",
       "      <td>0.982247</td>\n",
       "      <td>0.998763</td>\n",
       "      <td>0.992982</td>\n",
       "      <td>0.993010</td>\n",
       "      <td>0.998286</td>\n",
       "    </tr>\n",
       "    <tr>\n",
       "      <th>3</th>\n",
       "      <td>0.975462</td>\n",
       "      <td>1.006520</td>\n",
       "      <td>0.986129</td>\n",
       "      <td>1.017057</td>\n",
       "      <td>0.996815</td>\n",
       "      <td>0.985509</td>\n",
       "      <td>1.011504</td>\n",
       "      <td>1.016135</td>\n",
       "      <td>0.987598</td>\n",
       "      <td>1.008893</td>\n",
       "      <td>...</td>\n",
       "      <td>1.015961</td>\n",
       "      <td>1.008187</td>\n",
       "      <td>1.007547</td>\n",
       "      <td>0.979035</td>\n",
       "      <td>1.002152</td>\n",
       "      <td>0.984303</td>\n",
       "      <td>1.013698</td>\n",
       "      <td>1.001900</td>\n",
       "      <td>1.000033</td>\n",
       "      <td>1.009399</td>\n",
       "    </tr>\n",
       "    <tr>\n",
       "      <th>4</th>\n",
       "      <td>0.961351</td>\n",
       "      <td>1.015548</td>\n",
       "      <td>0.994264</td>\n",
       "      <td>1.020771</td>\n",
       "      <td>0.985156</td>\n",
       "      <td>0.985542</td>\n",
       "      <td>1.006083</td>\n",
       "      <td>1.014960</td>\n",
       "      <td>0.984203</td>\n",
       "      <td>1.017019</td>\n",
       "      <td>...</td>\n",
       "      <td>1.019711</td>\n",
       "      <td>1.017308</td>\n",
       "      <td>1.005125</td>\n",
       "      <td>0.977505</td>\n",
       "      <td>1.004383</td>\n",
       "      <td>0.980502</td>\n",
       "      <td>1.003791</td>\n",
       "      <td>1.010212</td>\n",
       "      <td>1.002055</td>\n",
       "      <td>1.021793</td>\n",
       "    </tr>\n",
       "    <tr>\n",
       "      <th>...</th>\n",
       "      <td>...</td>\n",
       "      <td>...</td>\n",
       "      <td>...</td>\n",
       "      <td>...</td>\n",
       "      <td>...</td>\n",
       "      <td>...</td>\n",
       "      <td>...</td>\n",
       "      <td>...</td>\n",
       "      <td>...</td>\n",
       "      <td>...</td>\n",
       "      <td>...</td>\n",
       "      <td>...</td>\n",
       "      <td>...</td>\n",
       "      <td>...</td>\n",
       "      <td>...</td>\n",
       "      <td>...</td>\n",
       "      <td>...</td>\n",
       "      <td>...</td>\n",
       "      <td>...</td>\n",
       "      <td>...</td>\n",
       "      <td>...</td>\n",
       "    </tr>\n",
       "    <tr>\n",
       "      <th>7556</th>\n",
       "      <td>1.124407</td>\n",
       "      <td>1.870304</td>\n",
       "      <td>1.057402</td>\n",
       "      <td>1.260552</td>\n",
       "      <td>3.915013</td>\n",
       "      <td>19.172407</td>\n",
       "      <td>3.542726</td>\n",
       "      <td>2.147727</td>\n",
       "      <td>1.610217</td>\n",
       "      <td>3.323853</td>\n",
       "      <td>...</td>\n",
       "      <td>1.305021</td>\n",
       "      <td>4.345863</td>\n",
       "      <td>8.589459</td>\n",
       "      <td>2.393560</td>\n",
       "      <td>3.523341</td>\n",
       "      <td>5.793490</td>\n",
       "      <td>7.280414</td>\n",
       "      <td>2.169082</td>\n",
       "      <td>3.543246</td>\n",
       "      <td>4.225252</td>\n",
       "    </tr>\n",
       "    <tr>\n",
       "      <th>7557</th>\n",
       "      <td>1.126349</td>\n",
       "      <td>1.876033</td>\n",
       "      <td>1.064596</td>\n",
       "      <td>1.253048</td>\n",
       "      <td>3.990100</td>\n",
       "      <td>19.236974</td>\n",
       "      <td>3.584598</td>\n",
       "      <td>2.161806</td>\n",
       "      <td>1.632174</td>\n",
       "      <td>3.368155</td>\n",
       "      <td>...</td>\n",
       "      <td>1.302982</td>\n",
       "      <td>4.410634</td>\n",
       "      <td>8.493514</td>\n",
       "      <td>2.397768</td>\n",
       "      <td>3.528639</td>\n",
       "      <td>5.802636</td>\n",
       "      <td>7.224020</td>\n",
       "      <td>2.154023</td>\n",
       "      <td>3.585795</td>\n",
       "      <td>4.242929</td>\n",
       "    </tr>\n",
       "    <tr>\n",
       "      <th>7558</th>\n",
       "      <td>1.137259</td>\n",
       "      <td>1.875106</td>\n",
       "      <td>1.066170</td>\n",
       "      <td>1.238413</td>\n",
       "      <td>4.001376</td>\n",
       "      <td>19.194351</td>\n",
       "      <td>3.598786</td>\n",
       "      <td>2.173994</td>\n",
       "      <td>1.636763</td>\n",
       "      <td>3.355047</td>\n",
       "      <td>...</td>\n",
       "      <td>1.298941</td>\n",
       "      <td>4.401141</td>\n",
       "      <td>8.428702</td>\n",
       "      <td>2.400614</td>\n",
       "      <td>3.522726</td>\n",
       "      <td>5.815465</td>\n",
       "      <td>7.331730</td>\n",
       "      <td>2.152070</td>\n",
       "      <td>3.586339</td>\n",
       "      <td>4.253601</td>\n",
       "    </tr>\n",
       "    <tr>\n",
       "      <th>7559</th>\n",
       "      <td>1.143478</td>\n",
       "      <td>1.866660</td>\n",
       "      <td>1.073917</td>\n",
       "      <td>1.226100</td>\n",
       "      <td>3.977185</td>\n",
       "      <td>19.238784</td>\n",
       "      <td>3.536922</td>\n",
       "      <td>2.156909</td>\n",
       "      <td>1.628263</td>\n",
       "      <td>3.369173</td>\n",
       "      <td>...</td>\n",
       "      <td>1.302850</td>\n",
       "      <td>4.410564</td>\n",
       "      <td>8.398514</td>\n",
       "      <td>2.388558</td>\n",
       "      <td>3.482754</td>\n",
       "      <td>5.766961</td>\n",
       "      <td>7.346995</td>\n",
       "      <td>2.164477</td>\n",
       "      <td>3.575037</td>\n",
       "      <td>4.252951</td>\n",
       "    </tr>\n",
       "    <tr>\n",
       "      <th>7560</th>\n",
       "      <td>1.134197</td>\n",
       "      <td>1.842696</td>\n",
       "      <td>1.076772</td>\n",
       "      <td>1.239839</td>\n",
       "      <td>3.994360</td>\n",
       "      <td>19.145520</td>\n",
       "      <td>3.547233</td>\n",
       "      <td>2.164487</td>\n",
       "      <td>1.614672</td>\n",
       "      <td>3.331769</td>\n",
       "      <td>...</td>\n",
       "      <td>1.283839</td>\n",
       "      <td>4.448250</td>\n",
       "      <td>8.427372</td>\n",
       "      <td>2.391128</td>\n",
       "      <td>3.481589</td>\n",
       "      <td>5.736329</td>\n",
       "      <td>7.322375</td>\n",
       "      <td>2.174572</td>\n",
       "      <td>3.577002</td>\n",
       "      <td>4.280072</td>\n",
       "    </tr>\n",
       "  </tbody>\n",
       "</table>\n",
       "<p>7561 rows × 500 columns</p>\n",
       "</div>"
      ],
      "text/plain": [
       "           0         1         2         3         4          5         6    \\\n",
       "0     1.000000  1.000000  1.000000  1.000000  1.000000   1.000000  1.000000   \n",
       "1     0.993821  1.010259  0.997938  1.005351  1.001393   0.995982  1.001005   \n",
       "2     0.992094  1.021113  1.004677  1.011123  1.010268   0.986599  1.009369   \n",
       "3     0.975462  1.006520  0.986129  1.017057  0.996815   0.985509  1.011504   \n",
       "4     0.961351  1.015548  0.994264  1.020771  0.985156   0.985542  1.006083   \n",
       "...        ...       ...       ...       ...       ...        ...       ...   \n",
       "7556  1.124407  1.870304  1.057402  1.260552  3.915013  19.172407  3.542726   \n",
       "7557  1.126349  1.876033  1.064596  1.253048  3.990100  19.236974  3.584598   \n",
       "7558  1.137259  1.875106  1.066170  1.238413  4.001376  19.194351  3.598786   \n",
       "7559  1.143478  1.866660  1.073917  1.226100  3.977185  19.238784  3.536922   \n",
       "7560  1.134197  1.842696  1.076772  1.239839  3.994360  19.145520  3.547233   \n",
       "\n",
       "           7         8         9    ...       490       491       492  \\\n",
       "0     1.000000  1.000000  1.000000  ...  1.000000  1.000000  1.000000   \n",
       "1     0.998618  0.994929  1.006665  ...  0.994064  0.990765  1.001262   \n",
       "2     1.004765  0.994612  1.002148  ...  0.989267  0.996738  1.002566   \n",
       "3     1.016135  0.987598  1.008893  ...  1.015961  1.008187  1.007547   \n",
       "4     1.014960  0.984203  1.017019  ...  1.019711  1.017308  1.005125   \n",
       "...        ...       ...       ...  ...       ...       ...       ...   \n",
       "7556  2.147727  1.610217  3.323853  ...  1.305021  4.345863  8.589459   \n",
       "7557  2.161806  1.632174  3.368155  ...  1.302982  4.410634  8.493514   \n",
       "7558  2.173994  1.636763  3.355047  ...  1.298941  4.401141  8.428702   \n",
       "7559  2.156909  1.628263  3.369173  ...  1.302850  4.410564  8.398514   \n",
       "7560  2.164487  1.614672  3.331769  ...  1.283839  4.448250  8.427372   \n",
       "\n",
       "           493       494       495       496       497       498       499  \n",
       "0     1.000000  1.000000  1.000000  1.000000  1.000000  1.000000  1.000000  \n",
       "1     1.001517  1.006597  0.987490  1.008194  0.989558  0.990955  0.998128  \n",
       "2     0.984655  0.999904  0.982247  0.998763  0.992982  0.993010  0.998286  \n",
       "3     0.979035  1.002152  0.984303  1.013698  1.001900  1.000033  1.009399  \n",
       "4     0.977505  1.004383  0.980502  1.003791  1.010212  1.002055  1.021793  \n",
       "...        ...       ...       ...       ...       ...       ...       ...  \n",
       "7556  2.393560  3.523341  5.793490  7.280414  2.169082  3.543246  4.225252  \n",
       "7557  2.397768  3.528639  5.802636  7.224020  2.154023  3.585795  4.242929  \n",
       "7558  2.400614  3.522726  5.815465  7.331730  2.152070  3.586339  4.253601  \n",
       "7559  2.388558  3.482754  5.766961  7.346995  2.164477  3.575037  4.252951  \n",
       "7560  2.391128  3.481589  5.736329  7.322375  2.174572  3.577002  4.280072  \n",
       "\n",
       "[7561 rows x 500 columns]"
      ]
     },
     "execution_count": 44,
     "metadata": {},
     "output_type": "execute_result"
    }
   ],
   "source": [
    "# Running a Monte Carlo simulation to forecast 30 years cumulative returns\n",
    "MC_Y30.calc_cumulative_return()"
   ]
  },
  {
   "cell_type": "code",
   "execution_count": 45,
   "metadata": {},
   "outputs": [
    {
     "data": {
      "text/plain": [
       "<AxesSubplot:title={'center':'500 Simulations of Cumulative Portfolio Return Trajectories Over the Next 7560 Trading Days.'}>"
      ]
     },
     "execution_count": 45,
     "metadata": {},
     "output_type": "execute_result"
    },
    {
     "data": {
      "image/png": "[encoded data removed]",
      "text/plain": [
       "<Figure size 432x288 with 1 Axes>"
      ]
     },
     "metadata": {
      "needs_background": "light"
     },
     "output_type": "display_data"
    }
   ],
   "source": [
    "# Plot simulation outcomes\n",
    "MC_Y30.plot_simulation()"
   ]
  },
  {
   "cell_type": "code",
   "execution_count": 46,
   "metadata": {},
   "outputs": [
    {
     "data": {
      "text/plain": [
       "<AxesSubplot:title={'center':'Distribution of Final Cumuluative Returns Across All 500 Simulations'}, ylabel='Frequency'>"
      ]
     },
     "execution_count": 46,
     "metadata": {},
     "output_type": "execute_result"
    },
    {
     "data": {
      "image/png": "[encoded data removed]",
      "text/plain": [
       "<Figure size 432x288 with 1 Axes>"
      ]
     },
     "metadata": {
      "needs_background": "light"
     },
     "output_type": "display_data"
    }
   ],
   "source": [
    "# Plot probability distribution and confidence intervals\n",
    "MC_Y30.plot_distribution()"
   ]
  },
  {
   "cell_type": "markdown",
   "metadata": {},
   "source": [
    "### Retirement Analysis"
   ]
  },
  {
   "cell_type": "code",
   "execution_count": 47,
   "metadata": {},
   "outputs": [],
   "source": [
    "# Fetch summary statistics from the Monte Carlo simulation results\n",
    "MC_Y30_stats = MC_Y30.summarize_cumulative_return()"
   ]
  },
  {
   "cell_type": "code",
   "execution_count": 48,
   "metadata": {},
   "outputs": [
    {
     "name": "stdout",
     "output_type": "stream",
     "text": [
      "count           500.000000\n",
      "mean              3.815940\n",
      "std               2.927708\n",
      "min               0.327332\n",
      "25%               1.925980\n",
      "50%               3.098669\n",
      "75%               4.923805\n",
      "max              27.094908\n",
      "95% CI Lower      0.763303\n",
      "95% CI Upper     10.872783\n",
      "Name: 7560, dtype: float64\n"
     ]
    }
   ],
   "source": [
    "# Print summary statistics\n",
    "print(MC_Y30_stats)"
   ]
  },
  {
   "cell_type": "markdown",
   "metadata": {},
   "source": [
    "### Calculate the expected portfolio return at the `95%` lower and upper confidence intervals based on a `$20,000` initial investment."
   ]
  },
  {
   "cell_type": "code",
   "execution_count": 49,
   "metadata": {},
   "outputs": [],
   "source": [
    "# Set initial investment\n",
    "initial_investment = 20000"
   ]
  },
  {
   "cell_type": "code",
   "execution_count": 50,
   "metadata": {},
   "outputs": [],
   "source": [
    "# Use the lower and upper `95%` confidence intervals to calculate the range of the possible outcomes of our $20,000\n",
    "ci_lower = MC_Y30_stats[8] * initial_investment\n",
    "ci_upper = MC_Y30_stats[9] * initial_investment"
   ]
  },
  {
   "cell_type": "code",
   "execution_count": 51,
   "metadata": {},
   "outputs": [
    {
     "name": "stdout",
     "output_type": "stream",
     "text": [
      "There is a 95% chance that an initial investment of $20,000.00 in the portfolio over the next 30 years will end within in the range of $15,266.05 and $217,455.65\n"
     ]
    }
   ],
   "source": [
    "# Print results\n",
    "print(f\"There is a 95% chance that an initial investment of ${initial_investment:,.2f} in the portfolio\"\n",
    "      f\" over the next 30 years will end within in the range of\"\n",
    "      f\" ${ci_lower:,.2f} and ${ci_upper:,.2f}\")"
   ]
  },
  {
   "cell_type": "markdown",
   "metadata": {},
   "source": [
    "### Calculate the expected portfolio return at the `95%` lower and upper confidence intervals based on a `50%` increase in the initial investment."
   ]
  },
  {
   "cell_type": "code",
   "execution_count": 52,
   "metadata": {},
   "outputs": [],
   "source": [
    "# Set initial investment\n",
    "initial_investment = 20000 * 1.5"
   ]
  },
  {
   "cell_type": "code",
   "execution_count": 53,
   "metadata": {},
   "outputs": [],
   "source": [
    "# Use the lower and upper `95%` confidence intervals to calculate the range of the possible outcomes of our $30,000\n",
    "ci_lower = MC_Y30_stats[8] * initial_investment\n",
    "ci_upper = MC_Y30_stats[9] * initial_investment"
   ]
  },
  {
   "cell_type": "code",
   "execution_count": 54,
   "metadata": {},
   "outputs": [
    {
     "name": "stdout",
     "output_type": "stream",
     "text": [
      "There is a 95% chance that an initial investment of $30,000.00 in the portfolio over the next 30 years will end within in the range of $22,899.08 and $326,183.48\n"
     ]
    }
   ],
   "source": [
    "## Print results\n",
    "print(f\"There is a 95% chance that an initial investment of ${initial_investment:,.2f} in the portfolio\"\n",
    "      f\" over the next 30 years will end within in the range of\"\n",
    "      f\" ${ci_lower:,.2f} and ${ci_upper:,.2f}\")"
   ]
  },
  {
   "cell_type": "markdown",
   "metadata": {},
   "source": [
    "## Optional Challenge - Early Retirement\n",
    "\n",
    "\n",
    "### Five Years Retirement Option"
   ]
  },
  {
   "cell_type": "code",
   "execution_count": 55,
   "metadata": {},
   "outputs": [],
   "source": [
    "# Configuring a Monte Carlo simulation to forecast 5 years cumulative returns\n",
    "MC_Y05 = MCSimulation(portfolio_data = df_stock_data,\n",
    "                      weights = [0.10, 0.90],\n",
    "                      num_simulation = 500 ,\n",
    "                      num_trading_days = 252*5\n",
    "                      )"
   ]
  },
  {
   "cell_type": "code",
   "execution_count": 56,
   "metadata": {},
   "outputs": [
    {
     "name": "stdout",
     "output_type": "stream",
     "text": [
      "Running Monte Carlo simulation number 0.\n",
      "Running Monte Carlo simulation number 10.\n",
      "Running Monte Carlo simulation number 20.\n",
      "Running Monte Carlo simulation number 30.\n",
      "Running Monte Carlo simulation number 40.\n",
      "Running Monte Carlo simulation number 50.\n",
      "Running Monte Carlo simulation number 60.\n",
      "Running Monte Carlo simulation number 70.\n",
      "Running Monte Carlo simulation number 80.\n",
      "Running Monte Carlo simulation number 90.\n",
      "Running Monte Carlo simulation number 100.\n"
     ]
    },
    {
     "name": "stderr",
     "output_type": "stream",
     "text": [
      "C:\\Users\\twigi\\FTBC\\W5_Assignment\\APIs-homework\\MCForecastTools.py:117: PerformanceWarning: DataFrame is highly fragmented.  This is usually the result of calling `frame.insert` many times, which has poor performance.  Consider joining all columns at once using pd.concat(axis=1) instead.  To get a de-fragmented frame, use `newframe = frame.copy()`\n",
      "  portfolio_cumulative_returns[n] = (1 + sim_df.fillna(0)).cumprod()\n"
     ]
    },
    {
     "name": "stdout",
     "output_type": "stream",
     "text": [
      "Running Monte Carlo simulation number 110.\n",
      "Running Monte Carlo simulation number 120.\n",
      "Running Monte Carlo simulation number 130.\n",
      "Running Monte Carlo simulation number 140.\n",
      "Running Monte Carlo simulation number 150.\n",
      "Running Monte Carlo simulation number 160.\n",
      "Running Monte Carlo simulation number 170.\n",
      "Running Monte Carlo simulation number 180.\n",
      "Running Monte Carlo simulation number 190.\n",
      "Running Monte Carlo simulation number 200.\n",
      "Running Monte Carlo simulation number 210.\n",
      "Running Monte Carlo simulation number 220.\n",
      "Running Monte Carlo simulation number 230.\n",
      "Running Monte Carlo simulation number 240.\n",
      "Running Monte Carlo simulation number 250.\n",
      "Running Monte Carlo simulation number 260.\n",
      "Running Monte Carlo simulation number 270.\n",
      "Running Monte Carlo simulation number 280.\n",
      "Running Monte Carlo simulation number 290.\n",
      "Running Monte Carlo simulation number 300.\n",
      "Running Monte Carlo simulation number 310.\n",
      "Running Monte Carlo simulation number 320.\n",
      "Running Monte Carlo simulation number 330.\n",
      "Running Monte Carlo simulation number 340.\n",
      "Running Monte Carlo simulation number 350.\n",
      "Running Monte Carlo simulation number 360.\n",
      "Running Monte Carlo simulation number 370.\n",
      "Running Monte Carlo simulation number 380.\n",
      "Running Monte Carlo simulation number 390.\n",
      "Running Monte Carlo simulation number 400.\n",
      "Running Monte Carlo simulation number 410.\n",
      "Running Monte Carlo simulation number 420.\n",
      "Running Monte Carlo simulation number 430.\n",
      "Running Monte Carlo simulation number 440.\n",
      "Running Monte Carlo simulation number 450.\n",
      "Running Monte Carlo simulation number 460.\n",
      "Running Monte Carlo simulation number 470.\n",
      "Running Monte Carlo simulation number 480.\n",
      "Running Monte Carlo simulation number 490.\n"
     ]
    },
    {
     "data": {
      "text/html": [
       "<div>\n",
       "<style scoped>\n",
       "    .dataframe tbody tr th:only-of-type {\n",
       "        vertical-align: middle;\n",
       "    }\n",
       "\n",
       "    .dataframe tbody tr th {\n",
       "        vertical-align: top;\n",
       "    }\n",
       "\n",
       "    .dataframe thead th {\n",
       "        text-align: right;\n",
       "    }\n",
       "</style>\n",
       "<table border=\"1\" class=\"dataframe\">\n",
       "  <thead>\n",
       "    <tr style=\"text-align: right;\">\n",
       "      <th></th>\n",
       "      <th>0</th>\n",
       "      <th>1</th>\n",
       "      <th>2</th>\n",
       "      <th>3</th>\n",
       "      <th>4</th>\n",
       "      <th>5</th>\n",
       "      <th>6</th>\n",
       "      <th>7</th>\n",
       "      <th>8</th>\n",
       "      <th>9</th>\n",
       "      <th>...</th>\n",
       "      <th>490</th>\n",
       "      <th>491</th>\n",
       "      <th>492</th>\n",
       "      <th>493</th>\n",
       "      <th>494</th>\n",
       "      <th>495</th>\n",
       "      <th>496</th>\n",
       "      <th>497</th>\n",
       "      <th>498</th>\n",
       "      <th>499</th>\n",
       "    </tr>\n",
       "  </thead>\n",
       "  <tbody>\n",
       "    <tr>\n",
       "      <th>0</th>\n",
       "      <td>1.000000</td>\n",
       "      <td>1.000000</td>\n",
       "      <td>1.000000</td>\n",
       "      <td>1.000000</td>\n",
       "      <td>1.000000</td>\n",
       "      <td>1.000000</td>\n",
       "      <td>1.000000</td>\n",
       "      <td>1.000000</td>\n",
       "      <td>1.000000</td>\n",
       "      <td>1.000000</td>\n",
       "      <td>...</td>\n",
       "      <td>1.000000</td>\n",
       "      <td>1.000000</td>\n",
       "      <td>1.000000</td>\n",
       "      <td>1.000000</td>\n",
       "      <td>1.000000</td>\n",
       "      <td>1.000000</td>\n",
       "      <td>1.000000</td>\n",
       "      <td>1.000000</td>\n",
       "      <td>1.000000</td>\n",
       "      <td>1.000000</td>\n",
       "    </tr>\n",
       "    <tr>\n",
       "      <th>1</th>\n",
       "      <td>0.979009</td>\n",
       "      <td>0.998538</td>\n",
       "      <td>0.990735</td>\n",
       "      <td>0.972150</td>\n",
       "      <td>1.010520</td>\n",
       "      <td>1.018947</td>\n",
       "      <td>0.999418</td>\n",
       "      <td>0.993422</td>\n",
       "      <td>1.027826</td>\n",
       "      <td>1.020120</td>\n",
       "      <td>...</td>\n",
       "      <td>1.022908</td>\n",
       "      <td>1.009261</td>\n",
       "      <td>0.993260</td>\n",
       "      <td>0.991178</td>\n",
       "      <td>0.974988</td>\n",
       "      <td>1.014125</td>\n",
       "      <td>0.994334</td>\n",
       "      <td>1.003452</td>\n",
       "      <td>0.989867</td>\n",
       "      <td>0.997929</td>\n",
       "    </tr>\n",
       "    <tr>\n",
       "      <th>2</th>\n",
       "      <td>0.977631</td>\n",
       "      <td>1.008896</td>\n",
       "      <td>0.984507</td>\n",
       "      <td>0.992714</td>\n",
       "      <td>1.011190</td>\n",
       "      <td>0.994734</td>\n",
       "      <td>1.002864</td>\n",
       "      <td>0.983056</td>\n",
       "      <td>1.006676</td>\n",
       "      <td>1.020357</td>\n",
       "      <td>...</td>\n",
       "      <td>1.020551</td>\n",
       "      <td>1.002926</td>\n",
       "      <td>0.978597</td>\n",
       "      <td>1.005511</td>\n",
       "      <td>0.987326</td>\n",
       "      <td>1.023876</td>\n",
       "      <td>1.005991</td>\n",
       "      <td>1.016708</td>\n",
       "      <td>1.004594</td>\n",
       "      <td>0.992778</td>\n",
       "    </tr>\n",
       "    <tr>\n",
       "      <th>3</th>\n",
       "      <td>0.979491</td>\n",
       "      <td>1.019452</td>\n",
       "      <td>0.970678</td>\n",
       "      <td>1.003952</td>\n",
       "      <td>1.027264</td>\n",
       "      <td>0.980734</td>\n",
       "      <td>1.003574</td>\n",
       "      <td>0.982985</td>\n",
       "      <td>1.004457</td>\n",
       "      <td>0.999201</td>\n",
       "      <td>...</td>\n",
       "      <td>1.018807</td>\n",
       "      <td>0.997370</td>\n",
       "      <td>0.945579</td>\n",
       "      <td>1.013226</td>\n",
       "      <td>0.985583</td>\n",
       "      <td>0.992130</td>\n",
       "      <td>0.983322</td>\n",
       "      <td>1.007006</td>\n",
       "      <td>0.990498</td>\n",
       "      <td>0.995408</td>\n",
       "    </tr>\n",
       "    <tr>\n",
       "      <th>4</th>\n",
       "      <td>0.974713</td>\n",
       "      <td>1.019004</td>\n",
       "      <td>0.983090</td>\n",
       "      <td>1.007284</td>\n",
       "      <td>1.037556</td>\n",
       "      <td>0.962271</td>\n",
       "      <td>1.003264</td>\n",
       "      <td>0.992199</td>\n",
       "      <td>0.996256</td>\n",
       "      <td>1.021441</td>\n",
       "      <td>...</td>\n",
       "      <td>1.035951</td>\n",
       "      <td>0.995309</td>\n",
       "      <td>0.937567</td>\n",
       "      <td>0.995782</td>\n",
       "      <td>0.965405</td>\n",
       "      <td>1.008671</td>\n",
       "      <td>1.008725</td>\n",
       "      <td>1.009302</td>\n",
       "      <td>1.013280</td>\n",
       "      <td>1.005120</td>\n",
       "    </tr>\n",
       "    <tr>\n",
       "      <th>...</th>\n",
       "      <td>...</td>\n",
       "      <td>...</td>\n",
       "      <td>...</td>\n",
       "      <td>...</td>\n",
       "      <td>...</td>\n",
       "      <td>...</td>\n",
       "      <td>...</td>\n",
       "      <td>...</td>\n",
       "      <td>...</td>\n",
       "      <td>...</td>\n",
       "      <td>...</td>\n",
       "      <td>...</td>\n",
       "      <td>...</td>\n",
       "      <td>...</td>\n",
       "      <td>...</td>\n",
       "      <td>...</td>\n",
       "      <td>...</td>\n",
       "      <td>...</td>\n",
       "      <td>...</td>\n",
       "      <td>...</td>\n",
       "      <td>...</td>\n",
       "    </tr>\n",
       "    <tr>\n",
       "      <th>1256</th>\n",
       "      <td>0.834796</td>\n",
       "      <td>1.033721</td>\n",
       "      <td>2.311970</td>\n",
       "      <td>1.056356</td>\n",
       "      <td>1.169082</td>\n",
       "      <td>1.054215</td>\n",
       "      <td>2.409234</td>\n",
       "      <td>3.151839</td>\n",
       "      <td>2.503978</td>\n",
       "      <td>1.527828</td>\n",
       "      <td>...</td>\n",
       "      <td>1.588315</td>\n",
       "      <td>1.511835</td>\n",
       "      <td>0.903080</td>\n",
       "      <td>1.359298</td>\n",
       "      <td>1.367292</td>\n",
       "      <td>1.444173</td>\n",
       "      <td>0.729601</td>\n",
       "      <td>1.124530</td>\n",
       "      <td>1.622640</td>\n",
       "      <td>1.271486</td>\n",
       "    </tr>\n",
       "    <tr>\n",
       "      <th>1257</th>\n",
       "      <td>0.837652</td>\n",
       "      <td>1.024562</td>\n",
       "      <td>2.310320</td>\n",
       "      <td>1.056120</td>\n",
       "      <td>1.174995</td>\n",
       "      <td>1.060629</td>\n",
       "      <td>2.390850</td>\n",
       "      <td>3.166775</td>\n",
       "      <td>2.525143</td>\n",
       "      <td>1.498329</td>\n",
       "      <td>...</td>\n",
       "      <td>1.594161</td>\n",
       "      <td>1.522781</td>\n",
       "      <td>0.909106</td>\n",
       "      <td>1.364899</td>\n",
       "      <td>1.366418</td>\n",
       "      <td>1.417412</td>\n",
       "      <td>0.722642</td>\n",
       "      <td>1.118551</td>\n",
       "      <td>1.606290</td>\n",
       "      <td>1.260137</td>\n",
       "    </tr>\n",
       "    <tr>\n",
       "      <th>1258</th>\n",
       "      <td>0.862019</td>\n",
       "      <td>1.017527</td>\n",
       "      <td>2.335343</td>\n",
       "      <td>1.042527</td>\n",
       "      <td>1.190964</td>\n",
       "      <td>1.047958</td>\n",
       "      <td>2.395505</td>\n",
       "      <td>3.174254</td>\n",
       "      <td>2.548138</td>\n",
       "      <td>1.495362</td>\n",
       "      <td>...</td>\n",
       "      <td>1.572241</td>\n",
       "      <td>1.512446</td>\n",
       "      <td>0.892181</td>\n",
       "      <td>1.366703</td>\n",
       "      <td>1.383888</td>\n",
       "      <td>1.427900</td>\n",
       "      <td>0.738587</td>\n",
       "      <td>1.116479</td>\n",
       "      <td>1.589149</td>\n",
       "      <td>1.260767</td>\n",
       "    </tr>\n",
       "    <tr>\n",
       "      <th>1259</th>\n",
       "      <td>0.870870</td>\n",
       "      <td>1.013521</td>\n",
       "      <td>2.341452</td>\n",
       "      <td>1.072982</td>\n",
       "      <td>1.202038</td>\n",
       "      <td>1.061121</td>\n",
       "      <td>2.389791</td>\n",
       "      <td>3.194340</td>\n",
       "      <td>2.511701</td>\n",
       "      <td>1.496907</td>\n",
       "      <td>...</td>\n",
       "      <td>1.555964</td>\n",
       "      <td>1.523747</td>\n",
       "      <td>0.881192</td>\n",
       "      <td>1.357305</td>\n",
       "      <td>1.388279</td>\n",
       "      <td>1.408111</td>\n",
       "      <td>0.747672</td>\n",
       "      <td>1.140117</td>\n",
       "      <td>1.597519</td>\n",
       "      <td>1.280637</td>\n",
       "    </tr>\n",
       "    <tr>\n",
       "      <th>1260</th>\n",
       "      <td>0.867952</td>\n",
       "      <td>1.011474</td>\n",
       "      <td>2.314437</td>\n",
       "      <td>1.072183</td>\n",
       "      <td>1.178769</td>\n",
       "      <td>1.045141</td>\n",
       "      <td>2.403998</td>\n",
       "      <td>3.201326</td>\n",
       "      <td>2.513835</td>\n",
       "      <td>1.470541</td>\n",
       "      <td>...</td>\n",
       "      <td>1.542208</td>\n",
       "      <td>1.521457</td>\n",
       "      <td>0.878621</td>\n",
       "      <td>1.375659</td>\n",
       "      <td>1.384500</td>\n",
       "      <td>1.431771</td>\n",
       "      <td>0.730783</td>\n",
       "      <td>1.153314</td>\n",
       "      <td>1.604344</td>\n",
       "      <td>1.244302</td>\n",
       "    </tr>\n",
       "  </tbody>\n",
       "</table>\n",
       "<p>1261 rows × 500 columns</p>\n",
       "</div>"
      ],
      "text/plain": [
       "           0         1         2         3         4         5         6    \\\n",
       "0     1.000000  1.000000  1.000000  1.000000  1.000000  1.000000  1.000000   \n",
       "1     0.979009  0.998538  0.990735  0.972150  1.010520  1.018947  0.999418   \n",
       "2     0.977631  1.008896  0.984507  0.992714  1.011190  0.994734  1.002864   \n",
       "3     0.979491  1.019452  0.970678  1.003952  1.027264  0.980734  1.003574   \n",
       "4     0.974713  1.019004  0.983090  1.007284  1.037556  0.962271  1.003264   \n",
       "...        ...       ...       ...       ...       ...       ...       ...   \n",
       "1256  0.834796  1.033721  2.311970  1.056356  1.169082  1.054215  2.409234   \n",
       "1257  0.837652  1.024562  2.310320  1.056120  1.174995  1.060629  2.390850   \n",
       "1258  0.862019  1.017527  2.335343  1.042527  1.190964  1.047958  2.395505   \n",
       "1259  0.870870  1.013521  2.341452  1.072982  1.202038  1.061121  2.389791   \n",
       "1260  0.867952  1.011474  2.314437  1.072183  1.178769  1.045141  2.403998   \n",
       "\n",
       "           7         8         9    ...       490       491       492  \\\n",
       "0     1.000000  1.000000  1.000000  ...  1.000000  1.000000  1.000000   \n",
       "1     0.993422  1.027826  1.020120  ...  1.022908  1.009261  0.993260   \n",
       "2     0.983056  1.006676  1.020357  ...  1.020551  1.002926  0.978597   \n",
       "3     0.982985  1.004457  0.999201  ...  1.018807  0.997370  0.945579   \n",
       "4     0.992199  0.996256  1.021441  ...  1.035951  0.995309  0.937567   \n",
       "...        ...       ...       ...  ...       ...       ...       ...   \n",
       "1256  3.151839  2.503978  1.527828  ...  1.588315  1.511835  0.903080   \n",
       "1257  3.166775  2.525143  1.498329  ...  1.594161  1.522781  0.909106   \n",
       "1258  3.174254  2.548138  1.495362  ...  1.572241  1.512446  0.892181   \n",
       "1259  3.194340  2.511701  1.496907  ...  1.555964  1.523747  0.881192   \n",
       "1260  3.201326  2.513835  1.470541  ...  1.542208  1.521457  0.878621   \n",
       "\n",
       "           493       494       495       496       497       498       499  \n",
       "0     1.000000  1.000000  1.000000  1.000000  1.000000  1.000000  1.000000  \n",
       "1     0.991178  0.974988  1.014125  0.994334  1.003452  0.989867  0.997929  \n",
       "2     1.005511  0.987326  1.023876  1.005991  1.016708  1.004594  0.992778  \n",
       "3     1.013226  0.985583  0.992130  0.983322  1.007006  0.990498  0.995408  \n",
       "4     0.995782  0.965405  1.008671  1.008725  1.009302  1.013280  1.005120  \n",
       "...        ...       ...       ...       ...       ...       ...       ...  \n",
       "1256  1.359298  1.367292  1.444173  0.729601  1.124530  1.622640  1.271486  \n",
       "1257  1.364899  1.366418  1.417412  0.722642  1.118551  1.606290  1.260137  \n",
       "1258  1.366703  1.383888  1.427900  0.738587  1.116479  1.589149  1.260767  \n",
       "1259  1.357305  1.388279  1.408111  0.747672  1.140117  1.597519  1.280637  \n",
       "1260  1.375659  1.384500  1.431771  0.730783  1.153314  1.604344  1.244302  \n",
       "\n",
       "[1261 rows x 500 columns]"
      ]
     },
     "execution_count": 56,
     "metadata": {},
     "output_type": "execute_result"
    }
   ],
   "source": [
    "# Running a Monte Carlo simulation to forecast 5 years cumulative returns\n",
    "MC_Y05.calc_cumulative_return()"
   ]
  },
  {
   "cell_type": "code",
   "execution_count": 57,
   "metadata": {},
   "outputs": [
    {
     "data": {
      "text/plain": [
       "<AxesSubplot:title={'center':'500 Simulations of Cumulative Portfolio Return Trajectories Over the Next 1260 Trading Days.'}>"
      ]
     },
     "execution_count": 57,
     "metadata": {},
     "output_type": "execute_result"
    },
    {
     "data": {
      "image/png": "[encoded data removed]",
      "text/plain": [
       "<Figure size 432x288 with 1 Axes>"
      ]
     },
     "metadata": {
      "needs_background": "light"
     },
     "output_type": "display_data"
    }
   ],
   "source": [
    "# Plot simulation outcomes\n",
    "MC_Y05.plot_simulation()"
   ]
  },
  {
   "cell_type": "code",
   "execution_count": 58,
   "metadata": {},
   "outputs": [
    {
     "data": {
      "text/plain": [
       "<AxesSubplot:title={'center':'Distribution of Final Cumuluative Returns Across All 500 Simulations'}, ylabel='Frequency'>"
      ]
     },
     "execution_count": 58,
     "metadata": {},
     "output_type": "execute_result"
    },
    {
     "data": {
      "image/png": "[encoded data removed]",
      "text/plain": [
       "<Figure size 432x288 with 1 Axes>"
      ]
     },
     "metadata": {
      "needs_background": "light"
     },
     "output_type": "display_data"
    }
   ],
   "source": [
    "# Plot probability distribution and confidence intervals\n",
    "MC_Y05.plot_distribution()"
   ]
  },
  {
   "cell_type": "code",
   "execution_count": 59,
   "metadata": {},
   "outputs": [],
   "source": [
    "# Fetch summary statistics from the Monte Carlo simulation results\n",
    "MC_Y05_stats = MC_Y05.summarize_cumulative_return()"
   ]
  },
  {
   "cell_type": "code",
   "execution_count": 60,
   "metadata": {},
   "outputs": [
    {
     "name": "stdout",
     "output_type": "stream",
     "text": [
      "count           500.000000\n",
      "mean              1.443227\n",
      "std               0.648117\n",
      "min               0.379514\n",
      "25%               0.957312\n",
      "50%               1.322877\n",
      "75%               1.770178\n",
      "max               4.682881\n",
      "95% CI Lower      0.530122\n",
      "95% CI Upper      2.973570\n",
      "Name: 1260, dtype: float64\n"
     ]
    }
   ],
   "source": [
    "# Print summary statistics\n",
    "print(MC_Y05_stats)"
   ]
  },
  {
   "cell_type": "code",
   "execution_count": 61,
   "metadata": {},
   "outputs": [],
   "source": [
    "# Set initial investment\n",
    "initial_investment = 20000*10"
   ]
  },
  {
   "cell_type": "code",
   "execution_count": 62,
   "metadata": {},
   "outputs": [],
   "source": [
    "# Use the lower and upper `95%` confidence intervals to calculate the range of the possible outcomes of our $200,000\n",
    "ci_lower_five = MC_Y05_stats[8] * initial_investment\n",
    "ci_upper_five = MC_Y05_stats[9] * initial_investment"
   ]
  },
  {
   "cell_type": "code",
   "execution_count": 63,
   "metadata": {},
   "outputs": [
    {
     "name": "stdout",
     "output_type": "stream",
     "text": [
      "There is a 95% chance that an initial investment of $200,000.00 in the portfolio over the next 5 years will end within in the range of $106,024.37 and $594,713.97\n"
     ]
    }
   ],
   "source": [
    "# Print results\n",
    "print(f\"There is a 95% chance that an initial investment of ${initial_investment:,.2f} in the portfolio\"\n",
    "      f\" over the next 5 years will end within in the range of\"\n",
    "      f\" ${ci_lower_five:,.2f} and ${ci_upper_five:,.2f}\")"
   ]
  },
  {
   "cell_type": "markdown",
   "metadata": {},
   "source": [
    "### Ten Years Retirement Option"
   ]
  },
  {
   "cell_type": "code",
   "execution_count": 64,
   "metadata": {},
   "outputs": [],
   "source": [
    "# Configuring a Monte Carlo simulation to forecast 10 years cumulative returns\n",
    "MC_Y10 = MCSimulation(portfolio_data = df_stock_data,\n",
    "                      weights = [0.30, 0.70],\n",
    "                      num_simulation = 500 ,\n",
    "                      num_trading_days = 252*10\n",
    "                      )"
   ]
  },
  {
   "cell_type": "code",
   "execution_count": 65,
   "metadata": {},
   "outputs": [
    {
     "name": "stdout",
     "output_type": "stream",
     "text": [
      "Running Monte Carlo simulation number 0.\n",
      "Running Monte Carlo simulation number 10.\n",
      "Running Monte Carlo simulation number 20.\n",
      "Running Monte Carlo simulation number 30.\n",
      "Running Monte Carlo simulation number 40.\n",
      "Running Monte Carlo simulation number 50.\n",
      "Running Monte Carlo simulation number 60.\n",
      "Running Monte Carlo simulation number 70.\n",
      "Running Monte Carlo simulation number 80.\n",
      "Running Monte Carlo simulation number 90.\n",
      "Running Monte Carlo simulation number 100.\n"
     ]
    },
    {
     "name": "stderr",
     "output_type": "stream",
     "text": [
      "C:\\Users\\twigi\\FTBC\\W5_Assignment\\APIs-homework\\MCForecastTools.py:117: PerformanceWarning: DataFrame is highly fragmented.  This is usually the result of calling `frame.insert` many times, which has poor performance.  Consider joining all columns at once using pd.concat(axis=1) instead.  To get a de-fragmented frame, use `newframe = frame.copy()`\n",
      "  portfolio_cumulative_returns[n] = (1 + sim_df.fillna(0)).cumprod()\n"
     ]
    },
    {
     "name": "stdout",
     "output_type": "stream",
     "text": [
      "Running Monte Carlo simulation number 110.\n",
      "Running Monte Carlo simulation number 120.\n",
      "Running Monte Carlo simulation number 130.\n",
      "Running Monte Carlo simulation number 140.\n",
      "Running Monte Carlo simulation number 150.\n",
      "Running Monte Carlo simulation number 160.\n",
      "Running Monte Carlo simulation number 170.\n",
      "Running Monte Carlo simulation number 180.\n",
      "Running Monte Carlo simulation number 190.\n",
      "Running Monte Carlo simulation number 200.\n",
      "Running Monte Carlo simulation number 210.\n",
      "Running Monte Carlo simulation number 220.\n",
      "Running Monte Carlo simulation number 230.\n",
      "Running Monte Carlo simulation number 240.\n",
      "Running Monte Carlo simulation number 250.\n",
      "Running Monte Carlo simulation number 260.\n",
      "Running Monte Carlo simulation number 270.\n",
      "Running Monte Carlo simulation number 280.\n",
      "Running Monte Carlo simulation number 290.\n",
      "Running Monte Carlo simulation number 300.\n",
      "Running Monte Carlo simulation number 310.\n",
      "Running Monte Carlo simulation number 320.\n",
      "Running Monte Carlo simulation number 330.\n",
      "Running Monte Carlo simulation number 340.\n",
      "Running Monte Carlo simulation number 350.\n",
      "Running Monte Carlo simulation number 360.\n",
      "Running Monte Carlo simulation number 370.\n",
      "Running Monte Carlo simulation number 380.\n",
      "Running Monte Carlo simulation number 390.\n",
      "Running Monte Carlo simulation number 400.\n",
      "Running Monte Carlo simulation number 410.\n",
      "Running Monte Carlo simulation number 420.\n",
      "Running Monte Carlo simulation number 430.\n",
      "Running Monte Carlo simulation number 440.\n",
      "Running Monte Carlo simulation number 450.\n",
      "Running Monte Carlo simulation number 460.\n",
      "Running Monte Carlo simulation number 470.\n",
      "Running Monte Carlo simulation number 480.\n",
      "Running Monte Carlo simulation number 490.\n"
     ]
    },
    {
     "data": {
      "text/html": [
       "<div>\n",
       "<style scoped>\n",
       "    .dataframe tbody tr th:only-of-type {\n",
       "        vertical-align: middle;\n",
       "    }\n",
       "\n",
       "    .dataframe tbody tr th {\n",
       "        vertical-align: top;\n",
       "    }\n",
       "\n",
       "    .dataframe thead th {\n",
       "        text-align: right;\n",
       "    }\n",
       "</style>\n",
       "<table border=\"1\" class=\"dataframe\">\n",
       "  <thead>\n",
       "    <tr style=\"text-align: right;\">\n",
       "      <th></th>\n",
       "      <th>0</th>\n",
       "      <th>1</th>\n",
       "      <th>2</th>\n",
       "      <th>3</th>\n",
       "      <th>4</th>\n",
       "      <th>5</th>\n",
       "      <th>6</th>\n",
       "      <th>7</th>\n",
       "      <th>8</th>\n",
       "      <th>9</th>\n",
       "      <th>...</th>\n",
       "      <th>490</th>\n",
       "      <th>491</th>\n",
       "      <th>492</th>\n",
       "      <th>493</th>\n",
       "      <th>494</th>\n",
       "      <th>495</th>\n",
       "      <th>496</th>\n",
       "      <th>497</th>\n",
       "      <th>498</th>\n",
       "      <th>499</th>\n",
       "    </tr>\n",
       "  </thead>\n",
       "  <tbody>\n",
       "    <tr>\n",
       "      <th>0</th>\n",
       "      <td>1.000000</td>\n",
       "      <td>1.000000</td>\n",
       "      <td>1.000000</td>\n",
       "      <td>1.000000</td>\n",
       "      <td>1.000000</td>\n",
       "      <td>1.000000</td>\n",
       "      <td>1.000000</td>\n",
       "      <td>1.000000</td>\n",
       "      <td>1.000000</td>\n",
       "      <td>1.000000</td>\n",
       "      <td>...</td>\n",
       "      <td>1.000000</td>\n",
       "      <td>1.000000</td>\n",
       "      <td>1.000000</td>\n",
       "      <td>1.000000</td>\n",
       "      <td>1.000000</td>\n",
       "      <td>1.000000</td>\n",
       "      <td>1.000000</td>\n",
       "      <td>1.000000</td>\n",
       "      <td>1.000000</td>\n",
       "      <td>1.000000</td>\n",
       "    </tr>\n",
       "    <tr>\n",
       "      <th>1</th>\n",
       "      <td>0.995536</td>\n",
       "      <td>1.006186</td>\n",
       "      <td>1.006597</td>\n",
       "      <td>1.005121</td>\n",
       "      <td>1.007170</td>\n",
       "      <td>1.000574</td>\n",
       "      <td>1.009815</td>\n",
       "      <td>0.985379</td>\n",
       "      <td>1.001197</td>\n",
       "      <td>0.996703</td>\n",
       "      <td>...</td>\n",
       "      <td>0.996045</td>\n",
       "      <td>0.994220</td>\n",
       "      <td>1.006043</td>\n",
       "      <td>1.003108</td>\n",
       "      <td>1.002030</td>\n",
       "      <td>0.996359</td>\n",
       "      <td>1.016575</td>\n",
       "      <td>1.003920</td>\n",
       "      <td>1.002860</td>\n",
       "      <td>0.994475</td>\n",
       "    </tr>\n",
       "    <tr>\n",
       "      <th>2</th>\n",
       "      <td>0.986512</td>\n",
       "      <td>1.012533</td>\n",
       "      <td>0.988853</td>\n",
       "      <td>1.008150</td>\n",
       "      <td>1.011326</td>\n",
       "      <td>0.969539</td>\n",
       "      <td>1.022305</td>\n",
       "      <td>0.991457</td>\n",
       "      <td>1.001824</td>\n",
       "      <td>0.987539</td>\n",
       "      <td>...</td>\n",
       "      <td>0.994392</td>\n",
       "      <td>0.984947</td>\n",
       "      <td>0.994514</td>\n",
       "      <td>1.001327</td>\n",
       "      <td>0.987985</td>\n",
       "      <td>1.004317</td>\n",
       "      <td>1.016256</td>\n",
       "      <td>0.998037</td>\n",
       "      <td>1.009874</td>\n",
       "      <td>0.997232</td>\n",
       "    </tr>\n",
       "    <tr>\n",
       "      <th>3</th>\n",
       "      <td>0.995198</td>\n",
       "      <td>1.020520</td>\n",
       "      <td>0.976242</td>\n",
       "      <td>1.008103</td>\n",
       "      <td>0.992941</td>\n",
       "      <td>0.960238</td>\n",
       "      <td>1.016831</td>\n",
       "      <td>0.983653</td>\n",
       "      <td>0.999352</td>\n",
       "      <td>0.983477</td>\n",
       "      <td>...</td>\n",
       "      <td>1.003414</td>\n",
       "      <td>0.986984</td>\n",
       "      <td>1.003055</td>\n",
       "      <td>1.000315</td>\n",
       "      <td>1.005145</td>\n",
       "      <td>1.025201</td>\n",
       "      <td>1.014916</td>\n",
       "      <td>1.006150</td>\n",
       "      <td>1.013113</td>\n",
       "      <td>0.988570</td>\n",
       "    </tr>\n",
       "    <tr>\n",
       "      <th>4</th>\n",
       "      <td>0.993376</td>\n",
       "      <td>1.013598</td>\n",
       "      <td>0.971529</td>\n",
       "      <td>1.009612</td>\n",
       "      <td>1.002309</td>\n",
       "      <td>0.950208</td>\n",
       "      <td>1.005348</td>\n",
       "      <td>0.990269</td>\n",
       "      <td>0.988407</td>\n",
       "      <td>0.980888</td>\n",
       "      <td>...</td>\n",
       "      <td>0.990948</td>\n",
       "      <td>0.981594</td>\n",
       "      <td>1.004998</td>\n",
       "      <td>1.010795</td>\n",
       "      <td>0.999236</td>\n",
       "      <td>1.012315</td>\n",
       "      <td>1.020915</td>\n",
       "      <td>1.007887</td>\n",
       "      <td>1.021769</td>\n",
       "      <td>0.991384</td>\n",
       "    </tr>\n",
       "    <tr>\n",
       "      <th>...</th>\n",
       "      <td>...</td>\n",
       "      <td>...</td>\n",
       "      <td>...</td>\n",
       "      <td>...</td>\n",
       "      <td>...</td>\n",
       "      <td>...</td>\n",
       "      <td>...</td>\n",
       "      <td>...</td>\n",
       "      <td>...</td>\n",
       "      <td>...</td>\n",
       "      <td>...</td>\n",
       "      <td>...</td>\n",
       "      <td>...</td>\n",
       "      <td>...</td>\n",
       "      <td>...</td>\n",
       "      <td>...</td>\n",
       "      <td>...</td>\n",
       "      <td>...</td>\n",
       "      <td>...</td>\n",
       "      <td>...</td>\n",
       "      <td>...</td>\n",
       "    </tr>\n",
       "    <tr>\n",
       "      <th>2516</th>\n",
       "      <td>2.208008</td>\n",
       "      <td>5.256992</td>\n",
       "      <td>1.456802</td>\n",
       "      <td>0.894293</td>\n",
       "      <td>1.043826</td>\n",
       "      <td>2.012448</td>\n",
       "      <td>3.169255</td>\n",
       "      <td>1.169802</td>\n",
       "      <td>1.373795</td>\n",
       "      <td>1.791953</td>\n",
       "      <td>...</td>\n",
       "      <td>1.441472</td>\n",
       "      <td>0.902007</td>\n",
       "      <td>1.422369</td>\n",
       "      <td>5.707787</td>\n",
       "      <td>2.888057</td>\n",
       "      <td>1.059524</td>\n",
       "      <td>2.565716</td>\n",
       "      <td>2.266499</td>\n",
       "      <td>1.186998</td>\n",
       "      <td>0.775503</td>\n",
       "    </tr>\n",
       "    <tr>\n",
       "      <th>2517</th>\n",
       "      <td>2.211488</td>\n",
       "      <td>5.258365</td>\n",
       "      <td>1.449621</td>\n",
       "      <td>0.890053</td>\n",
       "      <td>1.034877</td>\n",
       "      <td>1.985739</td>\n",
       "      <td>3.215231</td>\n",
       "      <td>1.172281</td>\n",
       "      <td>1.362215</td>\n",
       "      <td>1.788662</td>\n",
       "      <td>...</td>\n",
       "      <td>1.466912</td>\n",
       "      <td>0.920516</td>\n",
       "      <td>1.449239</td>\n",
       "      <td>5.784123</td>\n",
       "      <td>2.851931</td>\n",
       "      <td>1.062558</td>\n",
       "      <td>2.561510</td>\n",
       "      <td>2.295886</td>\n",
       "      <td>1.197794</td>\n",
       "      <td>0.764885</td>\n",
       "    </tr>\n",
       "    <tr>\n",
       "      <th>2518</th>\n",
       "      <td>2.204797</td>\n",
       "      <td>5.251737</td>\n",
       "      <td>1.428597</td>\n",
       "      <td>0.889547</td>\n",
       "      <td>1.028816</td>\n",
       "      <td>1.964206</td>\n",
       "      <td>3.288052</td>\n",
       "      <td>1.158627</td>\n",
       "      <td>1.373481</td>\n",
       "      <td>1.785772</td>\n",
       "      <td>...</td>\n",
       "      <td>1.452328</td>\n",
       "      <td>0.910216</td>\n",
       "      <td>1.461620</td>\n",
       "      <td>5.695102</td>\n",
       "      <td>2.891522</td>\n",
       "      <td>1.080385</td>\n",
       "      <td>2.543487</td>\n",
       "      <td>2.280294</td>\n",
       "      <td>1.200166</td>\n",
       "      <td>0.759125</td>\n",
       "    </tr>\n",
       "    <tr>\n",
       "      <th>2519</th>\n",
       "      <td>2.202730</td>\n",
       "      <td>5.286314</td>\n",
       "      <td>1.451884</td>\n",
       "      <td>0.882950</td>\n",
       "      <td>1.024776</td>\n",
       "      <td>1.964685</td>\n",
       "      <td>3.279611</td>\n",
       "      <td>1.151562</td>\n",
       "      <td>1.372824</td>\n",
       "      <td>1.773618</td>\n",
       "      <td>...</td>\n",
       "      <td>1.456221</td>\n",
       "      <td>0.919367</td>\n",
       "      <td>1.474396</td>\n",
       "      <td>5.686829</td>\n",
       "      <td>2.910731</td>\n",
       "      <td>1.075619</td>\n",
       "      <td>2.550252</td>\n",
       "      <td>2.260665</td>\n",
       "      <td>1.216877</td>\n",
       "      <td>0.761605</td>\n",
       "    </tr>\n",
       "    <tr>\n",
       "      <th>2520</th>\n",
       "      <td>2.183637</td>\n",
       "      <td>5.240331</td>\n",
       "      <td>1.447267</td>\n",
       "      <td>0.868088</td>\n",
       "      <td>1.032374</td>\n",
       "      <td>1.955272</td>\n",
       "      <td>3.314300</td>\n",
       "      <td>1.168229</td>\n",
       "      <td>1.377149</td>\n",
       "      <td>1.778672</td>\n",
       "      <td>...</td>\n",
       "      <td>1.441926</td>\n",
       "      <td>0.913801</td>\n",
       "      <td>1.476323</td>\n",
       "      <td>5.680827</td>\n",
       "      <td>2.926970</td>\n",
       "      <td>1.082383</td>\n",
       "      <td>2.527597</td>\n",
       "      <td>2.262439</td>\n",
       "      <td>1.216964</td>\n",
       "      <td>0.757375</td>\n",
       "    </tr>\n",
       "  </tbody>\n",
       "</table>\n",
       "<p>2521 rows × 500 columns</p>\n",
       "</div>"
      ],
      "text/plain": [
       "           0         1         2         3         4         5         6    \\\n",
       "0     1.000000  1.000000  1.000000  1.000000  1.000000  1.000000  1.000000   \n",
       "1     0.995536  1.006186  1.006597  1.005121  1.007170  1.000574  1.009815   \n",
       "2     0.986512  1.012533  0.988853  1.008150  1.011326  0.969539  1.022305   \n",
       "3     0.995198  1.020520  0.976242  1.008103  0.992941  0.960238  1.016831   \n",
       "4     0.993376  1.013598  0.971529  1.009612  1.002309  0.950208  1.005348   \n",
       "...        ...       ...       ...       ...       ...       ...       ...   \n",
       "2516  2.208008  5.256992  1.456802  0.894293  1.043826  2.012448  3.169255   \n",
       "2517  2.211488  5.258365  1.449621  0.890053  1.034877  1.985739  3.215231   \n",
       "2518  2.204797  5.251737  1.428597  0.889547  1.028816  1.964206  3.288052   \n",
       "2519  2.202730  5.286314  1.451884  0.882950  1.024776  1.964685  3.279611   \n",
       "2520  2.183637  5.240331  1.447267  0.868088  1.032374  1.955272  3.314300   \n",
       "\n",
       "           7         8         9    ...       490       491       492  \\\n",
       "0     1.000000  1.000000  1.000000  ...  1.000000  1.000000  1.000000   \n",
       "1     0.985379  1.001197  0.996703  ...  0.996045  0.994220  1.006043   \n",
       "2     0.991457  1.001824  0.987539  ...  0.994392  0.984947  0.994514   \n",
       "3     0.983653  0.999352  0.983477  ...  1.003414  0.986984  1.003055   \n",
       "4     0.990269  0.988407  0.980888  ...  0.990948  0.981594  1.004998   \n",
       "...        ...       ...       ...  ...       ...       ...       ...   \n",
       "2516  1.169802  1.373795  1.791953  ...  1.441472  0.902007  1.422369   \n",
       "2517  1.172281  1.362215  1.788662  ...  1.466912  0.920516  1.449239   \n",
       "2518  1.158627  1.373481  1.785772  ...  1.452328  0.910216  1.461620   \n",
       "2519  1.151562  1.372824  1.773618  ...  1.456221  0.919367  1.474396   \n",
       "2520  1.168229  1.377149  1.778672  ...  1.441926  0.913801  1.476323   \n",
       "\n",
       "           493       494       495       496       497       498       499  \n",
       "0     1.000000  1.000000  1.000000  1.000000  1.000000  1.000000  1.000000  \n",
       "1     1.003108  1.002030  0.996359  1.016575  1.003920  1.002860  0.994475  \n",
       "2     1.001327  0.987985  1.004317  1.016256  0.998037  1.009874  0.997232  \n",
       "3     1.000315  1.005145  1.025201  1.014916  1.006150  1.013113  0.988570  \n",
       "4     1.010795  0.999236  1.012315  1.020915  1.007887  1.021769  0.991384  \n",
       "...        ...       ...       ...       ...       ...       ...       ...  \n",
       "2516  5.707787  2.888057  1.059524  2.565716  2.266499  1.186998  0.775503  \n",
       "2517  5.784123  2.851931  1.062558  2.561510  2.295886  1.197794  0.764885  \n",
       "2518  5.695102  2.891522  1.080385  2.543487  2.280294  1.200166  0.759125  \n",
       "2519  5.686829  2.910731  1.075619  2.550252  2.260665  1.216877  0.761605  \n",
       "2520  5.680827  2.926970  1.082383  2.527597  2.262439  1.216964  0.757375  \n",
       "\n",
       "[2521 rows x 500 columns]"
      ]
     },
     "execution_count": 65,
     "metadata": {},
     "output_type": "execute_result"
    }
   ],
   "source": [
    "# Running a Monte Carlo simulation to forecast 10 years cumulative returns\n",
    "MC_Y10.calc_cumulative_return()"
   ]
  },
  {
   "cell_type": "code",
   "execution_count": 66,
   "metadata": {},
   "outputs": [
    {
     "data": {
      "text/plain": [
       "<AxesSubplot:title={'center':'500 Simulations of Cumulative Portfolio Return Trajectories Over the Next 2520 Trading Days.'}>"
      ]
     },
     "execution_count": 66,
     "metadata": {},
     "output_type": "execute_result"
    },
    {
     "data": {
      "image/png": "[encoded data removed]",
      "text/plain": [
       "<Figure size 432x288 with 1 Axes>"
      ]
     },
     "metadata": {
      "needs_background": "light"
     },
     "output_type": "display_data"
    }
   ],
   "source": [
    "# Plot simulation outcomes\n",
    "MC_Y10.plot_simulation()"
   ]
  },
  {
   "cell_type": "code",
   "execution_count": 67,
   "metadata": {},
   "outputs": [
    {
     "data": {
      "text/plain": [
       "<AxesSubplot:title={'center':'Distribution of Final Cumuluative Returns Across All 500 Simulations'}, ylabel='Frequency'>"
      ]
     },
     "execution_count": 67,
     "metadata": {},
     "output_type": "execute_result"
    },
    {
     "data": {
      "image/png": "[encoded data removed]",
      "text/plain": [
       "<Figure size 432x288 with 1 Axes>"
      ]
     },
     "metadata": {
      "needs_background": "light"
     },
     "output_type": "display_data"
    }
   ],
   "source": [
    "# Plot probability distribution and confidence intervals\n",
    "MC_Y10.plot_distribution()"
   ]
  },
  {
   "cell_type": "code",
   "execution_count": 68,
   "metadata": {},
   "outputs": [],
   "source": [
    "# Fetch summary statistics from the Monte Carlo simulation results\n",
    "MC_Y10_stats = MC_Y10.summarize_cumulative_return()"
   ]
  },
  {
   "cell_type": "code",
   "execution_count": 69,
   "metadata": {},
   "outputs": [
    {
     "name": "stdout",
     "output_type": "stream",
     "text": [
      "count           500.000000\n",
      "mean              1.759584\n",
      "std               0.893239\n",
      "min               0.447119\n",
      "25%               1.105399\n",
      "50%               1.589457\n",
      "75%               2.145879\n",
      "max               5.927069\n",
      "95% CI Lower      0.658349\n",
      "95% CI Upper      4.005704\n",
      "Name: 2520, dtype: float64\n"
     ]
    }
   ],
   "source": [
    "# Print summary statistics\n",
    "print(MC_Y10_stats)"
   ]
  },
  {
   "cell_type": "code",
   "execution_count": 70,
   "metadata": {},
   "outputs": [],
   "source": [
    "# Set initial investment\n",
    "initial_investment = 20000*7"
   ]
  },
  {
   "cell_type": "code",
   "execution_count": 71,
   "metadata": {},
   "outputs": [],
   "source": [
    "# Use the lower and upper `95%` confidence intervals to calculate the range of the possible outcomes of our $140,000\n",
    "ci_lower_ten = MC_Y10_stats[8] * initial_investment\n",
    "ci_upper_ten = MC_Y10_stats[9] * initial_investment"
   ]
  },
  {
   "cell_type": "code",
   "execution_count": 72,
   "metadata": {},
   "outputs": [
    {
     "name": "stdout",
     "output_type": "stream",
     "text": [
      "There is a 95% chance that an initial investment of $140,000.00 in the portfolio over the next 10 years will end within in the range of $92,168.82 and $560,798.56\n"
     ]
    }
   ],
   "source": [
    "# Print results\n",
    "print(f\"There is a 95% chance that an initial investment of ${initial_investment:,.2f} in the portfolio\"\n",
    "      f\" over the next 10 years will end within in the range of\"\n",
    "      f\" ${ci_lower_ten:,.2f} and ${ci_upper_ten:,.2f}\")"
   ]
  },
  {
   "cell_type": "markdown",
   "metadata": {},
   "source": [
    "#### Notes:\n",
    "Assuming one would like to maintain a similar lifestyle regardless when one retires,<br>\n",
    "a) retiring in 5 years instead of 30 years time <br>\n",
    "The initial investment amount will need to increase significantly. The above numerical illustration has used an increase of 10 times (or 1000%) in initial investment. <br>\n",
    "The significant increase is to compensate the shorter wealth accumulation period. The investment portfolio was adjusted to include more risk (90% stock and 10% bonds) to boost the expected portfolio return. <br>\n",
    "\n",
    "b) retiring in 10 years instead of 30 years time <br>\n",
    "Similarly, the initial invsetment amount will need to increase signficantly and could be less than the amount as if one would want to retire in 5 years time. The above numerical illustration has used an increase of 7 times (or 700%) in initial investment. The investment portfolio was adjusted to include more risk (70% stock and 30% bonds) to boost the expected portfolio return."
   ]
  },
  {
   "cell_type": "code",
   "execution_count": null,
   "metadata": {},
   "outputs": [],
   "source": []
  }
 ],
 "metadata": {
  "kernelspec": {
   "display_name": "Python 3 (ipykernel)",
   "language": "python",
   "name": "python3"
  },
  "language_info": {
   "codemirror_mode": {
    "name": "ipython",
    "version": 3
   },
   "file_extension": ".py",
   "mimetype": "text/x-python",
   "name": "python",
   "nbconvert_exporter": "python",
   "pygments_lexer": "ipython3",
   "version": "3.7.13"
  },
  "nteract": {
   "version": "0.28.0"
  },
  "toc-showcode": false
 },
 "nbformat": 4,
 "nbformat_minor": 4
}
