{
 "cells": [
  {
   "cell_type": "markdown",
   "metadata": {},
   "source": [
    "# Unit 5 - Financial Planning"
   ]
  },
  {
   "cell_type": "code",
   "execution_count": 1,
   "metadata": {},
   "outputs": [],
   "source": [
    "# Initial imports\n",
    "import os\n",
    "import requests\n",
    "import json\n",
    "import pandas as pd\n",
    "from dotenv import load_dotenv\n",
    "import alpaca_trade_api as tradeapi\n",
    "from MCForecastTools import MCSimulation\n",
    "\n",
    "%matplotlib inline"
   ]
  },
  {
   "cell_type": "code",
   "execution_count": 2,
   "metadata": {},
   "outputs": [
    {
     "data": {
      "text/plain": [
       "True"
      ]
     },
     "execution_count": 2,
     "metadata": {},
     "output_type": "execute_result"
    }
   ],
   "source": [
    "# Load .env enviroment variables\n",
    "load_dotenv()"
   ]
  },
  {
   "cell_type": "markdown",
   "metadata": {
    "tags": []
   },
   "source": [
    "## Part 1 - Personal Finance Planner"
   ]
  },
  {
   "cell_type": "markdown",
   "metadata": {},
   "source": [
    "### Collect Crypto Prices Using the `requests` Library"
   ]
  },
  {
   "cell_type": "code",
   "execution_count": 3,
   "metadata": {},
   "outputs": [],
   "source": [
    "# Set current amount of crypto assets\n",
    "my_btc = 1.2\n",
    "my_eth = 5.3"
   ]
  },
  {
   "cell_type": "code",
   "execution_count": 4,
   "metadata": {},
   "outputs": [],
   "source": [
    "# Crypto API URLs\n",
    "btc_url = \"https://api.alternative.me/v2/ticker/Bitcoin/?convert=USD\"\n",
    "eth_url = \"https://api.alternative.me/v2/ticker/Ethereum/?convert=USD\""
   ]
  },
  {
   "cell_type": "code",
   "execution_count": 5,
   "metadata": {},
   "outputs": [
    {
     "data": {
      "text/plain": [
       "<Response [200]>"
      ]
     },
     "execution_count": 5,
     "metadata": {},
     "output_type": "execute_result"
    }
   ],
   "source": [
    "# Fetch current BTC price\n",
    "btc_price_fetch = requests.get(btc_url)\n",
    "btc_price_fetch"
   ]
  },
  {
   "cell_type": "code",
   "execution_count": 6,
   "metadata": {},
   "outputs": [
    {
     "data": {
      "text/plain": [
       "{'data': {'1': {'id': 1,\n",
       "   'name': 'Bitcoin',\n",
       "   'symbol': 'BTC',\n",
       "   'website_slug': 'bitcoin',\n",
       "   'rank': 1,\n",
       "   'circulating_supply': 19173875,\n",
       "   'total_supply': 19173875,\n",
       "   'max_supply': 21000000,\n",
       "   'quotes': {'USD': {'price': 19367.74,\n",
       "     'volume_24h': 13055021052,\n",
       "     'market_cap': 371274047184,\n",
       "     'percentage_change_1h': -0.0898084569622063,\n",
       "     'percentage_change_24h': -0.650314333994518,\n",
       "     'percentage_change_7d': 0.275814545497545,\n",
       "     'percent_change_1h': -0.0898084569622063,\n",
       "     'percent_change_24h': -0.650314333994518,\n",
       "     'percent_change_7d': 0.275814545497545}},\n",
       "   'last_updated': 1665289417}},\n",
       " 'metadata': {'timestamp': 1665289417,\n",
       "  'num_cryptocurrencies': 3116,\n",
       "  'error': None}}"
      ]
     },
     "execution_count": 6,
     "metadata": {},
     "output_type": "execute_result"
    }
   ],
   "source": [
    "#Load BTC price data into python dictionary using json.loads\n",
    "btc_price_data = json.loads(btc_price_fetch.content.decode('utf-8'))\n",
    "btc_price_data"
   ]
  },
  {
   "cell_type": "code",
   "execution_count": 7,
   "metadata": {},
   "outputs": [
    {
     "data": {
      "text/plain": [
       "19367.74"
      ]
     },
     "execution_count": 7,
     "metadata": {},
     "output_type": "execute_result"
    }
   ],
   "source": [
    "btc_current_price = btc_price_data['data']['1']['quotes']['USD']['price']\n",
    "btc_current_price"
   ]
  },
  {
   "cell_type": "code",
   "execution_count": 8,
   "metadata": {},
   "outputs": [
    {
     "data": {
      "text/plain": [
       "<Response [200]>"
      ]
     },
     "execution_count": 8,
     "metadata": {},
     "output_type": "execute_result"
    }
   ],
   "source": [
    "# Fetch current ETH price\n",
    "eth_price_fetch = requests.get(eth_url)\n",
    "eth_price_fetch"
   ]
  },
  {
   "cell_type": "code",
   "execution_count": 9,
   "metadata": {},
   "outputs": [
    {
     "data": {
      "text/plain": [
       "{'data': {'1027': {'id': 1027,\n",
       "   'name': 'Ethereum',\n",
       "   'symbol': 'ETH',\n",
       "   'website_slug': 'ethereum',\n",
       "   'rank': 2,\n",
       "   'circulating_supply': 120873089,\n",
       "   'total_supply': 120873089,\n",
       "   'max_supply': 120873089,\n",
       "   'quotes': {'USD': {'price': 1311.98,\n",
       "     'volume_24h': 4929723187,\n",
       "     'market_cap': 158549761308,\n",
       "     'percentage_change_1h': 0.113016293105811,\n",
       "     'percentage_change_24h': -1.28487510135186,\n",
       "     'percentage_change_7d': 0.0545455693558817,\n",
       "     'percent_change_1h': 0.113016293105811,\n",
       "     'percent_change_24h': -1.28487510135186,\n",
       "     'percent_change_7d': 0.0545455693558817}},\n",
       "   'last_updated': 1665289426}},\n",
       " 'metadata': {'timestamp': 1665289426,\n",
       "  'num_cryptocurrencies': 3116,\n",
       "  'error': None}}"
      ]
     },
     "execution_count": 9,
     "metadata": {},
     "output_type": "execute_result"
    }
   ],
   "source": [
    "#Load ETH price data into python dictionary using json.loads\n",
    "eth_price_data = json.loads(eth_price_fetch.content.decode('utf-8'))\n",
    "eth_price_data"
   ]
  },
  {
   "cell_type": "code",
   "execution_count": 10,
   "metadata": {},
   "outputs": [
    {
     "data": {
      "text/plain": [
       "1311.98"
      ]
     },
     "execution_count": 10,
     "metadata": {},
     "output_type": "execute_result"
    }
   ],
   "source": [
    "eth_current_price = eth_price_data['data']['1027']['quotes']['USD']['price']\n",
    "eth_current_price"
   ]
  },
  {
   "cell_type": "code",
   "execution_count": 11,
   "metadata": {},
   "outputs": [
    {
     "data": {
      "text/plain": [
       "(23241.288, 6953.494)"
      ]
     },
     "execution_count": 11,
     "metadata": {},
     "output_type": "execute_result"
    }
   ],
   "source": [
    "# Compute current value of my crpto\n",
    "my_btc_value = my_btc * btc_current_price\n",
    "my_eth_value = my_eth * eth_current_price\n",
    "my_btc_value, my_eth_value"
   ]
  },
  {
   "cell_type": "code",
   "execution_count": 12,
   "metadata": {},
   "outputs": [
    {
     "name": "stdout",
     "output_type": "stream",
     "text": [
      "The current value of your 1.2 BTC is $23,241.29\n",
      "The current value of your 5.3 ETH is $6,953.49\n"
     ]
    }
   ],
   "source": [
    "# Print current crypto wallet balance\n",
    "print(f\"The current value of your {my_btc} BTC is ${my_btc_value:,.2f}\")\n",
    "print(f\"The current value of your {my_eth} ETH is ${my_eth_value:,.2f}\")"
   ]
  },
  {
   "cell_type": "markdown",
   "metadata": {},
   "source": [
    "### Collect Investments Data Using Alpaca: `SPY` (stocks) and `AGG` (bonds)"
   ]
  },
  {
   "cell_type": "code",
   "execution_count": 13,
   "metadata": {},
   "outputs": [],
   "source": [
    "# Set current amount of shares\n",
    "my_agg = 200\n",
    "my_spy = 50"
   ]
  },
  {
   "cell_type": "code",
   "execution_count": 14,
   "metadata": {},
   "outputs": [],
   "source": [
    "# Set Alpaca API key and secret\n",
    "alpaca_api_key = os.getenv(\"ALPACA_API_KEY\")\n",
    "alpaca_secret_key = os.getenv(\"ALPACA_SECRET_KEY\")"
   ]
  },
  {
   "cell_type": "code",
   "execution_count": 15,
   "metadata": {},
   "outputs": [],
   "source": [
    "# Create the Alpaca API object\n",
    "alpaca_api = tradeapi.REST( alpaca_api_key,\n",
    "                            alpaca_secret_key,\n",
    "                            api_version = 'v2')"
   ]
  },
  {
   "cell_type": "code",
   "execution_count": 16,
   "metadata": {},
   "outputs": [
    {
     "data": {
      "text/plain": [
       "'2022-10-07T00:00:00-04:00'"
      ]
     },
     "execution_count": 16,
     "metadata": {},
     "output_type": "execute_result"
    }
   ],
   "source": [
    "# Format current date as ISO format\n",
    "current_date = pd.Timestamp('2022-10-07', tz = \"America/New_York\").isoformat()\n",
    "current_date"
   ]
  },
  {
   "cell_type": "code",
   "execution_count": 17,
   "metadata": {},
   "outputs": [],
   "source": [
    "# Set the tickers\n",
    "tickers = [\"AGG\", \"SPY\"]\n",
    "\n",
    "# Set timeframe to \"1Day\" for Alpaca API\n",
    "timeframe = \"1Day\""
   ]
  },
  {
   "cell_type": "code",
   "execution_count": 18,
   "metadata": {},
   "outputs": [
    {
     "data": {
      "text/html": [
       "<div>\n",
       "<style scoped>\n",
       "    .dataframe tbody tr th:only-of-type {\n",
       "        vertical-align: middle;\n",
       "    }\n",
       "\n",
       "    .dataframe tbody tr th {\n",
       "        vertical-align: top;\n",
       "    }\n",
       "\n",
       "    .dataframe thead th {\n",
       "        text-align: right;\n",
       "    }\n",
       "</style>\n",
       "<table border=\"1\" class=\"dataframe\">\n",
       "  <thead>\n",
       "    <tr style=\"text-align: right;\">\n",
       "      <th></th>\n",
       "      <th>open</th>\n",
       "      <th>high</th>\n",
       "      <th>low</th>\n",
       "      <th>close</th>\n",
       "      <th>volume</th>\n",
       "      <th>trade_count</th>\n",
       "      <th>vwap</th>\n",
       "      <th>symbol</th>\n",
       "    </tr>\n",
       "    <tr>\n",
       "      <th>timestamp</th>\n",
       "      <th></th>\n",
       "      <th></th>\n",
       "      <th></th>\n",
       "      <th></th>\n",
       "      <th></th>\n",
       "      <th></th>\n",
       "      <th></th>\n",
       "      <th></th>\n",
       "    </tr>\n",
       "  </thead>\n",
       "  <tbody>\n",
       "    <tr>\n",
       "      <th>2022-10-07 04:00:00+00:00</th>\n",
       "      <td>95.81</td>\n",
       "      <td>96.0100</td>\n",
       "      <td>95.68</td>\n",
       "      <td>95.77</td>\n",
       "      <td>6149309</td>\n",
       "      <td>18717</td>\n",
       "      <td>95.836813</td>\n",
       "      <td>AGG</td>\n",
       "    </tr>\n",
       "    <tr>\n",
       "      <th>2022-10-07 04:00:00+00:00</th>\n",
       "      <td>369.06</td>\n",
       "      <td>373.2933</td>\n",
       "      <td>360.94</td>\n",
       "      <td>362.79</td>\n",
       "      <td>107239188</td>\n",
       "      <td>665841</td>\n",
       "      <td>365.065822</td>\n",
       "      <td>SPY</td>\n",
       "    </tr>\n",
       "  </tbody>\n",
       "</table>\n",
       "</div>"
      ],
      "text/plain": [
       "                             open      high     low   close     volume  \\\n",
       "timestamp                                                                \n",
       "2022-10-07 04:00:00+00:00   95.81   96.0100   95.68   95.77    6149309   \n",
       "2022-10-07 04:00:00+00:00  369.06  373.2933  360.94  362.79  107239188   \n",
       "\n",
       "                           trade_count        vwap symbol  \n",
       "timestamp                                                  \n",
       "2022-10-07 04:00:00+00:00        18717   95.836813    AGG  \n",
       "2022-10-07 04:00:00+00:00       665841  365.065822    SPY  "
      ]
     },
     "execution_count": 18,
     "metadata": {},
     "output_type": "execute_result"
    }
   ],
   "source": [
    "# Get current closing prices for SPY and AGG\n",
    "df_stock_current = alpaca_api.get_bars(  tickers,\n",
    "                                         timeframe,\n",
    "                                         start = current_date,\n",
    "                                         end = current_date).df\n",
    "df_stock_current"
   ]
  },
  {
   "cell_type": "code",
   "execution_count": 19,
   "metadata": {},
   "outputs": [],
   "source": [
    "# Reorganize the DataFrame\n",
    "# Separate ticker data\n",
    "df_agg_current = df_stock_current[df_stock_current[\"symbol\"] == \"AGG\"].drop(\"symbol\", axis = 1)\n",
    "df_spy_current = df_stock_current[df_stock_current[\"symbol\"] == \"SPY\"].drop(\"symbol\", axis = 1)"
   ]
  },
  {
   "cell_type": "code",
   "execution_count": 20,
   "metadata": {},
   "outputs": [],
   "source": [
    "# Concatenate the ticker DataFrames\n",
    "df_stock_current = pd.concat([df_agg_current, df_spy_current], axis = 1, keys=[\"AGG\",\"SPY\"])"
   ]
  },
  {
   "cell_type": "code",
   "execution_count": 21,
   "metadata": {},
   "outputs": [
    {
     "data": {
      "text/html": [
       "<div>\n",
       "<style scoped>\n",
       "    .dataframe tbody tr th:only-of-type {\n",
       "        vertical-align: middle;\n",
       "    }\n",
       "\n",
       "    .dataframe tbody tr th {\n",
       "        vertical-align: top;\n",
       "    }\n",
       "\n",
       "    .dataframe thead tr th {\n",
       "        text-align: left;\n",
       "    }\n",
       "\n",
       "    .dataframe thead tr:last-of-type th {\n",
       "        text-align: right;\n",
       "    }\n",
       "</style>\n",
       "<table border=\"1\" class=\"dataframe\">\n",
       "  <thead>\n",
       "    <tr>\n",
       "      <th></th>\n",
       "      <th colspan=\"7\" halign=\"left\">AGG</th>\n",
       "      <th colspan=\"7\" halign=\"left\">SPY</th>\n",
       "    </tr>\n",
       "    <tr>\n",
       "      <th></th>\n",
       "      <th>open</th>\n",
       "      <th>high</th>\n",
       "      <th>low</th>\n",
       "      <th>close</th>\n",
       "      <th>volume</th>\n",
       "      <th>trade_count</th>\n",
       "      <th>vwap</th>\n",
       "      <th>open</th>\n",
       "      <th>high</th>\n",
       "      <th>low</th>\n",
       "      <th>close</th>\n",
       "      <th>volume</th>\n",
       "      <th>trade_count</th>\n",
       "      <th>vwap</th>\n",
       "    </tr>\n",
       "    <tr>\n",
       "      <th>timestamp</th>\n",
       "      <th></th>\n",
       "      <th></th>\n",
       "      <th></th>\n",
       "      <th></th>\n",
       "      <th></th>\n",
       "      <th></th>\n",
       "      <th></th>\n",
       "      <th></th>\n",
       "      <th></th>\n",
       "      <th></th>\n",
       "      <th></th>\n",
       "      <th></th>\n",
       "      <th></th>\n",
       "      <th></th>\n",
       "    </tr>\n",
       "  </thead>\n",
       "  <tbody>\n",
       "    <tr>\n",
       "      <th>2022-10-07 04:00:00+00:00</th>\n",
       "      <td>95.81</td>\n",
       "      <td>96.01</td>\n",
       "      <td>95.68</td>\n",
       "      <td>95.77</td>\n",
       "      <td>6149309</td>\n",
       "      <td>18717</td>\n",
       "      <td>95.836813</td>\n",
       "      <td>369.06</td>\n",
       "      <td>373.2933</td>\n",
       "      <td>360.94</td>\n",
       "      <td>362.79</td>\n",
       "      <td>107239188</td>\n",
       "      <td>665841</td>\n",
       "      <td>365.065822</td>\n",
       "    </tr>\n",
       "  </tbody>\n",
       "</table>\n",
       "</div>"
      ],
      "text/plain": [
       "                             AGG                                            \\\n",
       "                            open   high    low  close   volume trade_count   \n",
       "timestamp                                                                    \n",
       "2022-10-07 04:00:00+00:00  95.81  96.01  95.68  95.77  6149309       18717   \n",
       "\n",
       "                                         SPY                            \\\n",
       "                                vwap    open      high     low   close   \n",
       "timestamp                                                                \n",
       "2022-10-07 04:00:00+00:00  95.836813  369.06  373.2933  360.94  362.79   \n",
       "\n",
       "                                                              \n",
       "                              volume trade_count        vwap  \n",
       "timestamp                                                     \n",
       "2022-10-07 04:00:00+00:00  107239188      665841  365.065822  "
      ]
     },
     "execution_count": 21,
     "metadata": {},
     "output_type": "execute_result"
    }
   ],
   "source": [
    "# Preview DataFrame\n",
    "df_stock_current"
   ]
  },
  {
   "cell_type": "code",
   "execution_count": 22,
   "metadata": {},
   "outputs": [],
   "source": [
    "# Pick AGG and SPY close prices\n",
    "agg_close_price = df_stock_current[\"AGG\"][\"close\"].iloc[0]\n",
    "spy_close_price = df_stock_current[\"SPY\"][\"close\"].iloc[0]"
   ]
  },
  {
   "cell_type": "code",
   "execution_count": 23,
   "metadata": {},
   "outputs": [
    {
     "name": "stdout",
     "output_type": "stream",
     "text": [
      "Current AGG closing price: $95.77\n",
      "Current SPY closing price: $362.79\n"
     ]
    }
   ],
   "source": [
    "# Print AGG and SPY close prices\n",
    "print(f\"Current AGG closing price: ${agg_close_price}\")\n",
    "print(f\"Current SPY closing price: ${spy_close_price}\")"
   ]
  },
  {
   "cell_type": "code",
   "execution_count": 24,
   "metadata": {},
   "outputs": [],
   "source": [
    "# Compute the current value of shares\n",
    "my_agg_value = my_agg * agg_close_price\n",
    "my_spy_value = my_spy * spy_close_price"
   ]
  },
  {
   "cell_type": "code",
   "execution_count": 25,
   "metadata": {},
   "outputs": [
    {
     "name": "stdout",
     "output_type": "stream",
     "text": [
      "The current value of your 50 SPY shares is $18,139.50\n",
      "The current value of your 200 AGG bonds is $19,154.00\n"
     ]
    }
   ],
   "source": [
    "# Print current value of shares\n",
    "print(f\"The current value of your {my_spy} SPY shares is ${my_spy_value:,.2f}\")\n",
    "print(f\"The current value of your {my_agg} AGG bonds is ${my_agg_value:,.2f}\")"
   ]
  },
  {
   "cell_type": "markdown",
   "metadata": {},
   "source": [
    "### Savings Health Analysis"
   ]
  },
  {
   "cell_type": "code",
   "execution_count": 26,
   "metadata": {},
   "outputs": [],
   "source": [
    "# Set monthly household income\n",
    "monthly_income = 12000"
   ]
  },
  {
   "cell_type": "code",
   "execution_count": 27,
   "metadata": {},
   "outputs": [
    {
     "data": {
      "text/plain": [
       "(30194.782, 37293.5)"
      ]
     },
     "execution_count": 27,
     "metadata": {},
     "output_type": "execute_result"
    }
   ],
   "source": [
    "# Consolidate financial assets data\n",
    "total_crypto_value = my_btc_value + my_eth_value\n",
    "total_share_value = my_agg_value + my_spy_value\n",
    "total_crypto_value , total_share_value"
   ]
  },
  {
   "cell_type": "code",
   "execution_count": 28,
   "metadata": {},
   "outputs": [],
   "source": [
    "# Create savings DataFrame\n",
    "df_savings = pd.DataFrame([total_crypto_value, total_share_value], index=[\"crypto\", \"shares\"], columns = [\"amount\"])"
   ]
  },
  {
   "cell_type": "code",
   "execution_count": 29,
   "metadata": {},
   "outputs": [
    {
     "data": {
      "text/html": [
       "<div>\n",
       "<style scoped>\n",
       "    .dataframe tbody tr th:only-of-type {\n",
       "        vertical-align: middle;\n",
       "    }\n",
       "\n",
       "    .dataframe tbody tr th {\n",
       "        vertical-align: top;\n",
       "    }\n",
       "\n",
       "    .dataframe thead th {\n",
       "        text-align: right;\n",
       "    }\n",
       "</style>\n",
       "<table border=\"1\" class=\"dataframe\">\n",
       "  <thead>\n",
       "    <tr style=\"text-align: right;\">\n",
       "      <th></th>\n",
       "      <th>amount</th>\n",
       "    </tr>\n",
       "  </thead>\n",
       "  <tbody>\n",
       "    <tr>\n",
       "      <th>crypto</th>\n",
       "      <td>30194.782</td>\n",
       "    </tr>\n",
       "    <tr>\n",
       "      <th>shares</th>\n",
       "      <td>37293.500</td>\n",
       "    </tr>\n",
       "  </tbody>\n",
       "</table>\n",
       "</div>"
      ],
      "text/plain": [
       "           amount\n",
       "crypto  30194.782\n",
       "shares  37293.500"
      ]
     },
     "metadata": {},
     "output_type": "display_data"
    }
   ],
   "source": [
    "# Display savings DataFrame\n",
    "display(df_savings)"
   ]
  },
  {
   "cell_type": "code",
   "execution_count": 30,
   "metadata": {},
   "outputs": [
    {
     "data": {
      "text/plain": [
       "<AxesSubplot:title={'center':'Composition of personal savings'}, ylabel='amount'>"
      ]
     },
     "execution_count": 30,
     "metadata": {},
     "output_type": "execute_result"
    },
    {
     "data": {
      "image/png": "[encoded data removed]",
      "text/plain": [
       "<Figure size 432x432 with 1 Axes>"
      ]
     },
     "metadata": {},
     "output_type": "display_data"
    }
   ],
   "source": [
    "# Plot savings pie chart\n",
    "df_savings.plot.pie( y=\"amount\", autopct = '%1.2f%%', figsize = (6,6), title = \"Composition of personal savings\")"
   ]
  },
  {
   "cell_type": "code",
   "execution_count": 31,
   "metadata": {},
   "outputs": [
    {
     "data": {
      "text/plain": [
       "36000"
      ]
     },
     "execution_count": 31,
     "metadata": {},
     "output_type": "execute_result"
    }
   ],
   "source": [
    "# Set ideal emergency fund\n",
    "emergency_fund = monthly_income * 3\n",
    "emergency_fund"
   ]
  },
  {
   "cell_type": "code",
   "execution_count": 32,
   "metadata": {},
   "outputs": [
    {
     "data": {
      "text/plain": [
       "67488.28"
      ]
     },
     "execution_count": 32,
     "metadata": {},
     "output_type": "execute_result"
    }
   ],
   "source": [
    "# Calculate total amount of savings\n",
    "total_savings = round(df_savings[\"amount\"].sum(),2)\n",
    "total_savings"
   ]
  },
  {
   "cell_type": "code",
   "execution_count": 33,
   "metadata": {},
   "outputs": [
    {
     "name": "stdout",
     "output_type": "stream",
     "text": [
      "Congratulation! Total savings are greater than the emergency fund. \n",
      "You have enough money in your fund.\n"
     ]
    }
   ],
   "source": [
    "# Validate saving health\n",
    "if total_savings == emergency_fund:\n",
    "    print (f\"Congratulation! Total savings are equal to emergency fund.\\n\" \n",
    "           f\"You have reached your financial goal having the ideal emergency fund.\")\n",
    "elif total_savings > emergency_fund:\n",
    "    print (f\"Congratulation! Total savings are greater than the emergency fund. \\n\"\n",
    "           f\"You have enough money in your fund.\")\n",
    "else:\n",
    "    gap =  emergency_fund - total_savings\n",
    "    print (f\"You are ${gap:,.2f} away from reaching your financial goal.\")"
   ]
  },
  {
   "cell_type": "markdown",
   "metadata": {},
   "source": [
    "## Part 2 - Retirement Planning\n",
    "\n",
    "### Monte Carlo Simulation"
   ]
  },
  {
   "cell_type": "code",
   "execution_count": 34,
   "metadata": {},
   "outputs": [],
   "source": [
    "# Set start and end dates of five years back from today.\n",
    "# Sample results may vary from the solution based on the time frame chosen\n",
    "start_date = pd.Timestamp('2017-10-07', tz='America/New_York').isoformat()\n",
    "end_date = pd.Timestamp('2022-10-07', tz='America/New_York').isoformat()"
   ]
  },
  {
   "cell_type": "code",
   "execution_count": 35,
   "metadata": {},
   "outputs": [],
   "source": [
    "# Get 5 years' worth of historical data for SPY and AGG\n",
    "df_stock_historical = alpaca_api.get_bars( tickers,\n",
    "                                           timeframe,\n",
    "                                           start = start_date,\n",
    "                                           end = end_date).df"
   ]
  },
  {
   "cell_type": "code",
   "execution_count": 36,
   "metadata": {},
   "outputs": [
    {
     "data": {
      "text/html": [
       "<div>\n",
       "<style scoped>\n",
       "    .dataframe tbody tr th:only-of-type {\n",
       "        vertical-align: middle;\n",
       "    }\n",
       "\n",
       "    .dataframe tbody tr th {\n",
       "        vertical-align: top;\n",
       "    }\n",
       "\n",
       "    .dataframe thead th {\n",
       "        text-align: right;\n",
       "    }\n",
       "</style>\n",
       "<table border=\"1\" class=\"dataframe\">\n",
       "  <thead>\n",
       "    <tr style=\"text-align: right;\">\n",
       "      <th></th>\n",
       "      <th>open</th>\n",
       "      <th>high</th>\n",
       "      <th>low</th>\n",
       "      <th>close</th>\n",
       "      <th>volume</th>\n",
       "      <th>trade_count</th>\n",
       "      <th>vwap</th>\n",
       "      <th>symbol</th>\n",
       "    </tr>\n",
       "    <tr>\n",
       "      <th>timestamp</th>\n",
       "      <th></th>\n",
       "      <th></th>\n",
       "      <th></th>\n",
       "      <th></th>\n",
       "      <th></th>\n",
       "      <th></th>\n",
       "      <th></th>\n",
       "      <th></th>\n",
       "    </tr>\n",
       "  </thead>\n",
       "  <tbody>\n",
       "    <tr>\n",
       "      <th>2017-10-09 04:00:00+00:00</th>\n",
       "      <td>109.35</td>\n",
       "      <td>109.43</td>\n",
       "      <td>109.3000</td>\n",
       "      <td>109.43</td>\n",
       "      <td>1131600</td>\n",
       "      <td>6721</td>\n",
       "      <td>109.380496</td>\n",
       "      <td>AGG</td>\n",
       "    </tr>\n",
       "    <tr>\n",
       "      <th>2017-10-10 04:00:00+00:00</th>\n",
       "      <td>109.47</td>\n",
       "      <td>109.61</td>\n",
       "      <td>109.3999</td>\n",
       "      <td>109.44</td>\n",
       "      <td>1635802</td>\n",
       "      <td>8934</td>\n",
       "      <td>109.488101</td>\n",
       "      <td>AGG</td>\n",
       "    </tr>\n",
       "    <tr>\n",
       "      <th>2017-10-11 04:00:00+00:00</th>\n",
       "      <td>109.47</td>\n",
       "      <td>109.53</td>\n",
       "      <td>109.4200</td>\n",
       "      <td>109.46</td>\n",
       "      <td>2048774</td>\n",
       "      <td>9184</td>\n",
       "      <td>109.479870</td>\n",
       "      <td>AGG</td>\n",
       "    </tr>\n",
       "    <tr>\n",
       "      <th>2017-10-12 04:00:00+00:00</th>\n",
       "      <td>109.56</td>\n",
       "      <td>109.61</td>\n",
       "      <td>109.4800</td>\n",
       "      <td>109.59</td>\n",
       "      <td>1933369</td>\n",
       "      <td>9814</td>\n",
       "      <td>109.543912</td>\n",
       "      <td>AGG</td>\n",
       "    </tr>\n",
       "    <tr>\n",
       "      <th>2017-10-13 04:00:00+00:00</th>\n",
       "      <td>109.82</td>\n",
       "      <td>109.87</td>\n",
       "      <td>109.6900</td>\n",
       "      <td>109.86</td>\n",
       "      <td>1743840</td>\n",
       "      <td>9223</td>\n",
       "      <td>109.799780</td>\n",
       "      <td>AGG</td>\n",
       "    </tr>\n",
       "  </tbody>\n",
       "</table>\n",
       "</div>"
      ],
      "text/plain": [
       "                             open    high       low   close   volume  \\\n",
       "timestamp                                                              \n",
       "2017-10-09 04:00:00+00:00  109.35  109.43  109.3000  109.43  1131600   \n",
       "2017-10-10 04:00:00+00:00  109.47  109.61  109.3999  109.44  1635802   \n",
       "2017-10-11 04:00:00+00:00  109.47  109.53  109.4200  109.46  2048774   \n",
       "2017-10-12 04:00:00+00:00  109.56  109.61  109.4800  109.59  1933369   \n",
       "2017-10-13 04:00:00+00:00  109.82  109.87  109.6900  109.86  1743840   \n",
       "\n",
       "                           trade_count        vwap symbol  \n",
       "timestamp                                                  \n",
       "2017-10-09 04:00:00+00:00         6721  109.380496    AGG  \n",
       "2017-10-10 04:00:00+00:00         8934  109.488101    AGG  \n",
       "2017-10-11 04:00:00+00:00         9184  109.479870    AGG  \n",
       "2017-10-12 04:00:00+00:00         9814  109.543912    AGG  \n",
       "2017-10-13 04:00:00+00:00         9223  109.799780    AGG  "
      ]
     },
     "execution_count": 36,
     "metadata": {},
     "output_type": "execute_result"
    }
   ],
   "source": [
    "df_stock_historical.head()"
   ]
  },
  {
   "cell_type": "code",
   "execution_count": 37,
   "metadata": {},
   "outputs": [],
   "source": [
    "# Reorganize the DataFrame\n",
    "# Separate ticker data\n",
    "df_agg_historical=  df_stock_historical[df_stock_historical[\"symbol\"] == \"AGG\"].drop(\"symbol\", axis = 1)\n",
    "df_spy_historical =  df_stock_historical[df_stock_historical[\"symbol\"] == \"SPY\"].drop(\"symbol\", axis = 1)"
   ]
  },
  {
   "cell_type": "code",
   "execution_count": 38,
   "metadata": {},
   "outputs": [],
   "source": [
    "# Concatenate the ticker DataFrames\n",
    "df_stock_data = pd.concat([df_agg_historical, df_spy_historical], axis = 1, keys=[\"AGG\",\"SPY\"])"
   ]
  },
  {
   "cell_type": "code",
   "execution_count": 39,
   "metadata": {},
   "outputs": [],
   "source": [
    "#remove timestamp from index\n",
    "df_stock_data.index = df_stock_data.index.date"
   ]
  },
  {
   "cell_type": "code",
   "execution_count": 40,
   "metadata": {},
   "outputs": [
    {
     "data": {
      "text/html": [
       "<div>\n",
       "<style scoped>\n",
       "    .dataframe tbody tr th:only-of-type {\n",
       "        vertical-align: middle;\n",
       "    }\n",
       "\n",
       "    .dataframe tbody tr th {\n",
       "        vertical-align: top;\n",
       "    }\n",
       "\n",
       "    .dataframe thead tr th {\n",
       "        text-align: left;\n",
       "    }\n",
       "</style>\n",
       "<table border=\"1\" class=\"dataframe\">\n",
       "  <thead>\n",
       "    <tr>\n",
       "      <th></th>\n",
       "      <th colspan=\"7\" halign=\"left\">AGG</th>\n",
       "      <th colspan=\"7\" halign=\"left\">SPY</th>\n",
       "    </tr>\n",
       "    <tr>\n",
       "      <th></th>\n",
       "      <th>open</th>\n",
       "      <th>high</th>\n",
       "      <th>low</th>\n",
       "      <th>close</th>\n",
       "      <th>volume</th>\n",
       "      <th>trade_count</th>\n",
       "      <th>vwap</th>\n",
       "      <th>open</th>\n",
       "      <th>high</th>\n",
       "      <th>low</th>\n",
       "      <th>close</th>\n",
       "      <th>volume</th>\n",
       "      <th>trade_count</th>\n",
       "      <th>vwap</th>\n",
       "    </tr>\n",
       "  </thead>\n",
       "  <tbody>\n",
       "    <tr>\n",
       "      <th>2017-10-09</th>\n",
       "      <td>109.35</td>\n",
       "      <td>109.43</td>\n",
       "      <td>109.3000</td>\n",
       "      <td>109.43</td>\n",
       "      <td>1131600</td>\n",
       "      <td>6721</td>\n",
       "      <td>109.380496</td>\n",
       "      <td>254.65</td>\n",
       "      <td>254.70</td>\n",
       "      <td>253.650</td>\n",
       "      <td>253.95</td>\n",
       "      <td>35803138</td>\n",
       "      <td>113893</td>\n",
       "      <td>254.099236</td>\n",
       "    </tr>\n",
       "    <tr>\n",
       "      <th>2017-10-10</th>\n",
       "      <td>109.47</td>\n",
       "      <td>109.61</td>\n",
       "      <td>109.3999</td>\n",
       "      <td>109.44</td>\n",
       "      <td>1635802</td>\n",
       "      <td>8934</td>\n",
       "      <td>109.488101</td>\n",
       "      <td>254.59</td>\n",
       "      <td>255.05</td>\n",
       "      <td>253.980</td>\n",
       "      <td>254.62</td>\n",
       "      <td>43057452</td>\n",
       "      <td>140616</td>\n",
       "      <td>254.400559</td>\n",
       "    </tr>\n",
       "    <tr>\n",
       "      <th>2017-10-11</th>\n",
       "      <td>109.47</td>\n",
       "      <td>109.53</td>\n",
       "      <td>109.4200</td>\n",
       "      <td>109.46</td>\n",
       "      <td>2048774</td>\n",
       "      <td>9184</td>\n",
       "      <td>109.479870</td>\n",
       "      <td>254.53</td>\n",
       "      <td>255.02</td>\n",
       "      <td>254.320</td>\n",
       "      <td>255.02</td>\n",
       "      <td>49118035</td>\n",
       "      <td>126972</td>\n",
       "      <td>254.772000</td>\n",
       "    </tr>\n",
       "    <tr>\n",
       "      <th>2017-10-12</th>\n",
       "      <td>109.56</td>\n",
       "      <td>109.61</td>\n",
       "      <td>109.4800</td>\n",
       "      <td>109.59</td>\n",
       "      <td>1933369</td>\n",
       "      <td>9814</td>\n",
       "      <td>109.543912</td>\n",
       "      <td>254.68</td>\n",
       "      <td>255.06</td>\n",
       "      <td>254.365</td>\n",
       "      <td>254.64</td>\n",
       "      <td>47070644</td>\n",
       "      <td>142560</td>\n",
       "      <td>254.735611</td>\n",
       "    </tr>\n",
       "    <tr>\n",
       "      <th>2017-10-13</th>\n",
       "      <td>109.82</td>\n",
       "      <td>109.87</td>\n",
       "      <td>109.6900</td>\n",
       "      <td>109.86</td>\n",
       "      <td>1743840</td>\n",
       "      <td>9223</td>\n",
       "      <td>109.799780</td>\n",
       "      <td>255.15</td>\n",
       "      <td>255.27</td>\n",
       "      <td>254.640</td>\n",
       "      <td>254.95</td>\n",
       "      <td>56197572</td>\n",
       "      <td>149417</td>\n",
       "      <td>254.982007</td>\n",
       "    </tr>\n",
       "  </tbody>\n",
       "</table>\n",
       "</div>"
      ],
      "text/plain": [
       "               AGG                                                             \\\n",
       "              open    high       low   close   volume trade_count        vwap   \n",
       "2017-10-09  109.35  109.43  109.3000  109.43  1131600        6721  109.380496   \n",
       "2017-10-10  109.47  109.61  109.3999  109.44  1635802        8934  109.488101   \n",
       "2017-10-11  109.47  109.53  109.4200  109.46  2048774        9184  109.479870   \n",
       "2017-10-12  109.56  109.61  109.4800  109.59  1933369        9814  109.543912   \n",
       "2017-10-13  109.82  109.87  109.6900  109.86  1743840        9223  109.799780   \n",
       "\n",
       "               SPY                                                             \n",
       "              open    high      low   close    volume trade_count        vwap  \n",
       "2017-10-09  254.65  254.70  253.650  253.95  35803138      113893  254.099236  \n",
       "2017-10-10  254.59  255.05  253.980  254.62  43057452      140616  254.400559  \n",
       "2017-10-11  254.53  255.02  254.320  255.02  49118035      126972  254.772000  \n",
       "2017-10-12  254.68  255.06  254.365  254.64  47070644      142560  254.735611  \n",
       "2017-10-13  255.15  255.27  254.640  254.95  56197572      149417  254.982007  "
      ]
     },
     "execution_count": 40,
     "metadata": {},
     "output_type": "execute_result"
    }
   ],
   "source": [
    "# Display sample data\n",
    "df_stock_data.head()"
   ]
  },
  {
   "cell_type": "code",
   "execution_count": 41,
   "metadata": {},
   "outputs": [],
   "source": [
    "#drop unused columns\n",
    "drop_columns = [\"open\",\"high\",\"low\",\"volume\",\"trade_count\", \"vwap\"]\n",
    "\n",
    "for x in tickers:\n",
    "    for y in drop_columns:\n",
    "        df_stock_data.drop(columns = (x,y), inplace = True)"
   ]
  },
  {
   "cell_type": "code",
   "execution_count": 42,
   "metadata": {},
   "outputs": [],
   "source": [
    "# Configuring a Monte Carlo simulation to forecast 30 years cumulative returns\n",
    "# assume 252 trading days in a year. 30 years means 7560 trading days (30 x 252)\n",
    "# set weight 40% bond AGG and 60% stock SPY\n",
    "MC_Y30 = MCSimulation(portfolio_data = df_stock_data,\n",
    "                      weights = [0.40, 0.60],\n",
    "                      num_simulation = 500 ,\n",
    "                      num_trading_days = 252*30\n",
    "                      )"
   ]
  },
  {
   "cell_type": "code",
   "execution_count": 43,
   "metadata": {},
   "outputs": [
    {
     "data": {
      "text/html": [
       "<div>\n",
       "<style scoped>\n",
       "    .dataframe tbody tr th:only-of-type {\n",
       "        vertical-align: middle;\n",
       "    }\n",
       "\n",
       "    .dataframe tbody tr th {\n",
       "        vertical-align: top;\n",
       "    }\n",
       "\n",
       "    .dataframe thead tr th {\n",
       "        text-align: left;\n",
       "    }\n",
       "</style>\n",
       "<table border=\"1\" class=\"dataframe\">\n",
       "  <thead>\n",
       "    <tr>\n",
       "      <th></th>\n",
       "      <th colspan=\"2\" halign=\"left\">AGG</th>\n",
       "      <th colspan=\"2\" halign=\"left\">SPY</th>\n",
       "    </tr>\n",
       "    <tr>\n",
       "      <th></th>\n",
       "      <th>close</th>\n",
       "      <th>daily_return</th>\n",
       "      <th>close</th>\n",
       "      <th>daily_return</th>\n",
       "    </tr>\n",
       "  </thead>\n",
       "  <tbody>\n",
       "    <tr>\n",
       "      <th>2017-10-09</th>\n",
       "      <td>109.43</td>\n",
       "      <td>NaN</td>\n",
       "      <td>253.95</td>\n",
       "      <td>NaN</td>\n",
       "    </tr>\n",
       "    <tr>\n",
       "      <th>2017-10-10</th>\n",
       "      <td>109.44</td>\n",
       "      <td>0.000091</td>\n",
       "      <td>254.62</td>\n",
       "      <td>0.002638</td>\n",
       "    </tr>\n",
       "    <tr>\n",
       "      <th>2017-10-11</th>\n",
       "      <td>109.46</td>\n",
       "      <td>0.000183</td>\n",
       "      <td>255.02</td>\n",
       "      <td>0.001571</td>\n",
       "    </tr>\n",
       "    <tr>\n",
       "      <th>2017-10-12</th>\n",
       "      <td>109.59</td>\n",
       "      <td>0.001188</td>\n",
       "      <td>254.64</td>\n",
       "      <td>-0.001490</td>\n",
       "    </tr>\n",
       "    <tr>\n",
       "      <th>2017-10-13</th>\n",
       "      <td>109.86</td>\n",
       "      <td>0.002464</td>\n",
       "      <td>254.95</td>\n",
       "      <td>0.001217</td>\n",
       "    </tr>\n",
       "  </tbody>\n",
       "</table>\n",
       "</div>"
      ],
      "text/plain": [
       "               AGG                  SPY             \n",
       "             close daily_return   close daily_return\n",
       "2017-10-09  109.43          NaN  253.95          NaN\n",
       "2017-10-10  109.44     0.000091  254.62     0.002638\n",
       "2017-10-11  109.46     0.000183  255.02     0.001571\n",
       "2017-10-12  109.59     0.001188  254.64    -0.001490\n",
       "2017-10-13  109.86     0.002464  254.95     0.001217"
      ]
     },
     "execution_count": 43,
     "metadata": {},
     "output_type": "execute_result"
    }
   ],
   "source": [
    "# Printing the simulation input data\n",
    "MC_Y30.portfolio_data.head()"
   ]
  },
  {
   "cell_type": "code",
   "execution_count": 44,
   "metadata": {},
   "outputs": [
    {
     "name": "stdout",
     "output_type": "stream",
     "text": [
      "Running Monte Carlo simulation number 0.\n",
      "Running Monte Carlo simulation number 10.\n",
      "Running Monte Carlo simulation number 20.\n",
      "Running Monte Carlo simulation number 30.\n",
      "Running Monte Carlo simulation number 40.\n",
      "Running Monte Carlo simulation number 50.\n",
      "Running Monte Carlo simulation number 60.\n",
      "Running Monte Carlo simulation number 70.\n",
      "Running Monte Carlo simulation number 80.\n",
      "Running Monte Carlo simulation number 90.\n",
      "Running Monte Carlo simulation number 100.\n"
     ]
    },
    {
     "name": "stderr",
     "output_type": "stream",
     "text": [
      "C:\\Users\\twigi\\FTBC\\W5_Assignment\\APIs-homework\\MCForecastTools.py:117: PerformanceWarning: DataFrame is highly fragmented.  This is usually the result of calling `frame.insert` many times, which has poor performance.  Consider joining all columns at once using pd.concat(axis=1) instead.  To get a de-fragmented frame, use `newframe = frame.copy()`\n",
      "  portfolio_cumulative_returns[n] = (1 + sim_df.fillna(0)).cumprod()\n"
     ]
    },
    {
     "name": "stdout",
     "output_type": "stream",
     "text": [
      "Running Monte Carlo simulation number 110.\n",
      "Running Monte Carlo simulation number 120.\n",
      "Running Monte Carlo simulation number 130.\n",
      "Running Monte Carlo simulation number 140.\n",
      "Running Monte Carlo simulation number 150.\n",
      "Running Monte Carlo simulation number 160.\n",
      "Running Monte Carlo simulation number 170.\n",
      "Running Monte Carlo simulation number 180.\n",
      "Running Monte Carlo simulation number 190.\n",
      "Running Monte Carlo simulation number 200.\n",
      "Running Monte Carlo simulation number 210.\n",
      "Running Monte Carlo simulation number 220.\n",
      "Running Monte Carlo simulation number 230.\n",
      "Running Monte Carlo simulation number 240.\n",
      "Running Monte Carlo simulation number 250.\n",
      "Running Monte Carlo simulation number 260.\n",
      "Running Monte Carlo simulation number 270.\n",
      "Running Monte Carlo simulation number 280.\n",
      "Running Monte Carlo simulation number 290.\n",
      "Running Monte Carlo simulation number 300.\n",
      "Running Monte Carlo simulation number 310.\n",
      "Running Monte Carlo simulation number 320.\n",
      "Running Monte Carlo simulation number 330.\n",
      "Running Monte Carlo simulation number 340.\n",
      "Running Monte Carlo simulation number 350.\n",
      "Running Monte Carlo simulation number 360.\n",
      "Running Monte Carlo simulation number 370.\n",
      "Running Monte Carlo simulation number 380.\n",
      "Running Monte Carlo simulation number 390.\n",
      "Running Monte Carlo simulation number 400.\n",
      "Running Monte Carlo simulation number 410.\n",
      "Running Monte Carlo simulation number 420.\n",
      "Running Monte Carlo simulation number 430.\n",
      "Running Monte Carlo simulation number 440.\n",
      "Running Monte Carlo simulation number 450.\n",
      "Running Monte Carlo simulation number 460.\n",
      "Running Monte Carlo simulation number 470.\n",
      "Running Monte Carlo simulation number 480.\n",
      "Running Monte Carlo simulation number 490.\n"
     ]
    },
    {
     "data": {
      "text/html": [
       "<div>\n",
       "<style scoped>\n",
       "    .dataframe tbody tr th:only-of-type {\n",
       "        vertical-align: middle;\n",
       "    }\n",
       "\n",
       "    .dataframe tbody tr th {\n",
       "        vertical-align: top;\n",
       "    }\n",
       "\n",
       "    .dataframe thead th {\n",
       "        text-align: right;\n",
       "    }\n",
       "</style>\n",
       "<table border=\"1\" class=\"dataframe\">\n",
       "  <thead>\n",
       "    <tr style=\"text-align: right;\">\n",
       "      <th></th>\n",
       "      <th>0</th>\n",
       "      <th>1</th>\n",
       "      <th>2</th>\n",
       "      <th>3</th>\n",
       "      <th>4</th>\n",
       "      <th>5</th>\n",
       "      <th>6</th>\n",
       "      <th>7</th>\n",
       "      <th>8</th>\n",
       "      <th>9</th>\n",
       "      <th>...</th>\n",
       "      <th>490</th>\n",
       "      <th>491</th>\n",
       "      <th>492</th>\n",
       "      <th>493</th>\n",
       "      <th>494</th>\n",
       "      <th>495</th>\n",
       "      <th>496</th>\n",
       "      <th>497</th>\n",
       "      <th>498</th>\n",
       "      <th>499</th>\n",
       "    </tr>\n",
       "  </thead>\n",
       "  <tbody>\n",
       "    <tr>\n",
       "      <th>0</th>\n",
       "      <td>1.000000</td>\n",
       "      <td>1.000000</td>\n",
       "      <td>1.000000</td>\n",
       "      <td>1.000000</td>\n",
       "      <td>1.000000</td>\n",
       "      <td>1.000000</td>\n",
       "      <td>1.000000</td>\n",
       "      <td>1.000000</td>\n",
       "      <td>1.000000</td>\n",
       "      <td>1.000000</td>\n",
       "      <td>...</td>\n",
       "      <td>1.000000</td>\n",
       "      <td>1.000000</td>\n",
       "      <td>1.000000</td>\n",
       "      <td>1.000000</td>\n",
       "      <td>1.000000</td>\n",
       "      <td>1.000000</td>\n",
       "      <td>1.000000</td>\n",
       "      <td>1.000000</td>\n",
       "      <td>1.000000</td>\n",
       "      <td>1.000000</td>\n",
       "    </tr>\n",
       "    <tr>\n",
       "      <th>1</th>\n",
       "      <td>1.005757</td>\n",
       "      <td>0.993897</td>\n",
       "      <td>1.000822</td>\n",
       "      <td>1.001589</td>\n",
       "      <td>0.994913</td>\n",
       "      <td>1.004774</td>\n",
       "      <td>1.004454</td>\n",
       "      <td>1.000046</td>\n",
       "      <td>0.996210</td>\n",
       "      <td>1.014718</td>\n",
       "      <td>...</td>\n",
       "      <td>1.000036</td>\n",
       "      <td>0.990179</td>\n",
       "      <td>1.004224</td>\n",
       "      <td>0.998665</td>\n",
       "      <td>0.996867</td>\n",
       "      <td>0.997842</td>\n",
       "      <td>1.006891</td>\n",
       "      <td>1.016175</td>\n",
       "      <td>1.014683</td>\n",
       "      <td>0.985798</td>\n",
       "    </tr>\n",
       "    <tr>\n",
       "      <th>2</th>\n",
       "      <td>1.002343</td>\n",
       "      <td>1.002512</td>\n",
       "      <td>1.019390</td>\n",
       "      <td>1.009785</td>\n",
       "      <td>0.997657</td>\n",
       "      <td>0.989045</td>\n",
       "      <td>0.989305</td>\n",
       "      <td>1.000552</td>\n",
       "      <td>0.999455</td>\n",
       "      <td>1.013900</td>\n",
       "      <td>...</td>\n",
       "      <td>0.999772</td>\n",
       "      <td>0.997208</td>\n",
       "      <td>1.002613</td>\n",
       "      <td>0.995979</td>\n",
       "      <td>1.002311</td>\n",
       "      <td>0.992369</td>\n",
       "      <td>1.017626</td>\n",
       "      <td>1.017245</td>\n",
       "      <td>1.010256</td>\n",
       "      <td>0.991362</td>\n",
       "    </tr>\n",
       "    <tr>\n",
       "      <th>3</th>\n",
       "      <td>0.990584</td>\n",
       "      <td>1.006621</td>\n",
       "      <td>1.018364</td>\n",
       "      <td>1.019371</td>\n",
       "      <td>1.007297</td>\n",
       "      <td>0.992846</td>\n",
       "      <td>0.984419</td>\n",
       "      <td>0.997785</td>\n",
       "      <td>0.992915</td>\n",
       "      <td>1.018430</td>\n",
       "      <td>...</td>\n",
       "      <td>0.990176</td>\n",
       "      <td>1.003820</td>\n",
       "      <td>1.002697</td>\n",
       "      <td>0.998598</td>\n",
       "      <td>0.993878</td>\n",
       "      <td>1.000510</td>\n",
       "      <td>1.023943</td>\n",
       "      <td>1.016949</td>\n",
       "      <td>1.003040</td>\n",
       "      <td>0.979783</td>\n",
       "    </tr>\n",
       "    <tr>\n",
       "      <th>4</th>\n",
       "      <td>0.991493</td>\n",
       "      <td>0.992897</td>\n",
       "      <td>1.017887</td>\n",
       "      <td>1.018031</td>\n",
       "      <td>1.019660</td>\n",
       "      <td>0.995295</td>\n",
       "      <td>0.985796</td>\n",
       "      <td>0.997848</td>\n",
       "      <td>0.991525</td>\n",
       "      <td>1.031234</td>\n",
       "      <td>...</td>\n",
       "      <td>0.995858</td>\n",
       "      <td>1.008661</td>\n",
       "      <td>1.022970</td>\n",
       "      <td>0.985660</td>\n",
       "      <td>1.000356</td>\n",
       "      <td>0.996583</td>\n",
       "      <td>1.012870</td>\n",
       "      <td>1.005956</td>\n",
       "      <td>1.016635</td>\n",
       "      <td>0.982164</td>\n",
       "    </tr>\n",
       "    <tr>\n",
       "      <th>...</th>\n",
       "      <td>...</td>\n",
       "      <td>...</td>\n",
       "      <td>...</td>\n",
       "      <td>...</td>\n",
       "      <td>...</td>\n",
       "      <td>...</td>\n",
       "      <td>...</td>\n",
       "      <td>...</td>\n",
       "      <td>...</td>\n",
       "      <td>...</td>\n",
       "      <td>...</td>\n",
       "      <td>...</td>\n",
       "      <td>...</td>\n",
       "      <td>...</td>\n",
       "      <td>...</td>\n",
       "      <td>...</td>\n",
       "      <td>...</td>\n",
       "      <td>...</td>\n",
       "      <td>...</td>\n",
       "      <td>...</td>\n",
       "      <td>...</td>\n",
       "    </tr>\n",
       "    <tr>\n",
       "      <th>7556</th>\n",
       "      <td>4.404567</td>\n",
       "      <td>1.232151</td>\n",
       "      <td>1.672820</td>\n",
       "      <td>4.370204</td>\n",
       "      <td>3.452986</td>\n",
       "      <td>7.174081</td>\n",
       "      <td>1.817381</td>\n",
       "      <td>1.470702</td>\n",
       "      <td>8.596347</td>\n",
       "      <td>2.041793</td>\n",
       "      <td>...</td>\n",
       "      <td>2.566834</td>\n",
       "      <td>4.940554</td>\n",
       "      <td>0.626269</td>\n",
       "      <td>1.694589</td>\n",
       "      <td>3.900667</td>\n",
       "      <td>4.263319</td>\n",
       "      <td>1.919532</td>\n",
       "      <td>13.249387</td>\n",
       "      <td>1.978488</td>\n",
       "      <td>3.506757</td>\n",
       "    </tr>\n",
       "    <tr>\n",
       "      <th>7557</th>\n",
       "      <td>4.377547</td>\n",
       "      <td>1.240070</td>\n",
       "      <td>1.677761</td>\n",
       "      <td>4.395269</td>\n",
       "      <td>3.440334</td>\n",
       "      <td>7.236138</td>\n",
       "      <td>1.803202</td>\n",
       "      <td>1.458959</td>\n",
       "      <td>8.532761</td>\n",
       "      <td>2.048936</td>\n",
       "      <td>...</td>\n",
       "      <td>2.560462</td>\n",
       "      <td>4.977558</td>\n",
       "      <td>0.625909</td>\n",
       "      <td>1.703240</td>\n",
       "      <td>3.916227</td>\n",
       "      <td>4.243008</td>\n",
       "      <td>1.911597</td>\n",
       "      <td>13.039789</td>\n",
       "      <td>1.962079</td>\n",
       "      <td>3.550478</td>\n",
       "    </tr>\n",
       "    <tr>\n",
       "      <th>7558</th>\n",
       "      <td>4.402717</td>\n",
       "      <td>1.247150</td>\n",
       "      <td>1.678356</td>\n",
       "      <td>4.359988</td>\n",
       "      <td>3.442042</td>\n",
       "      <td>7.186149</td>\n",
       "      <td>1.808874</td>\n",
       "      <td>1.463187</td>\n",
       "      <td>8.592708</td>\n",
       "      <td>2.078324</td>\n",
       "      <td>...</td>\n",
       "      <td>2.550945</td>\n",
       "      <td>4.924174</td>\n",
       "      <td>0.625535</td>\n",
       "      <td>1.698903</td>\n",
       "      <td>3.960077</td>\n",
       "      <td>4.158880</td>\n",
       "      <td>1.920132</td>\n",
       "      <td>13.089729</td>\n",
       "      <td>1.944069</td>\n",
       "      <td>3.547949</td>\n",
       "    </tr>\n",
       "    <tr>\n",
       "      <th>7559</th>\n",
       "      <td>4.433685</td>\n",
       "      <td>1.238898</td>\n",
       "      <td>1.682889</td>\n",
       "      <td>4.310245</td>\n",
       "      <td>3.456801</td>\n",
       "      <td>7.144504</td>\n",
       "      <td>1.826209</td>\n",
       "      <td>1.457156</td>\n",
       "      <td>8.555567</td>\n",
       "      <td>2.095766</td>\n",
       "      <td>...</td>\n",
       "      <td>2.562408</td>\n",
       "      <td>4.853942</td>\n",
       "      <td>0.635367</td>\n",
       "      <td>1.701684</td>\n",
       "      <td>3.944974</td>\n",
       "      <td>4.205367</td>\n",
       "      <td>1.925650</td>\n",
       "      <td>13.121436</td>\n",
       "      <td>1.937053</td>\n",
       "      <td>3.524307</td>\n",
       "    </tr>\n",
       "    <tr>\n",
       "      <th>7560</th>\n",
       "      <td>4.502860</td>\n",
       "      <td>1.216531</td>\n",
       "      <td>1.694941</td>\n",
       "      <td>4.380979</td>\n",
       "      <td>3.467070</td>\n",
       "      <td>7.206731</td>\n",
       "      <td>1.835554</td>\n",
       "      <td>1.467220</td>\n",
       "      <td>8.591640</td>\n",
       "      <td>2.106948</td>\n",
       "      <td>...</td>\n",
       "      <td>2.571479</td>\n",
       "      <td>4.827540</td>\n",
       "      <td>0.629001</td>\n",
       "      <td>1.688654</td>\n",
       "      <td>3.933950</td>\n",
       "      <td>4.206067</td>\n",
       "      <td>1.953175</td>\n",
       "      <td>13.217616</td>\n",
       "      <td>1.941445</td>\n",
       "      <td>3.500164</td>\n",
       "    </tr>\n",
       "  </tbody>\n",
       "</table>\n",
       "<p>7561 rows × 500 columns</p>\n",
       "</div>"
      ],
      "text/plain": [
       "           0         1         2         3         4         5         6    \\\n",
       "0     1.000000  1.000000  1.000000  1.000000  1.000000  1.000000  1.000000   \n",
       "1     1.005757  0.993897  1.000822  1.001589  0.994913  1.004774  1.004454   \n",
       "2     1.002343  1.002512  1.019390  1.009785  0.997657  0.989045  0.989305   \n",
       "3     0.990584  1.006621  1.018364  1.019371  1.007297  0.992846  0.984419   \n",
       "4     0.991493  0.992897  1.017887  1.018031  1.019660  0.995295  0.985796   \n",
       "...        ...       ...       ...       ...       ...       ...       ...   \n",
       "7556  4.404567  1.232151  1.672820  4.370204  3.452986  7.174081  1.817381   \n",
       "7557  4.377547  1.240070  1.677761  4.395269  3.440334  7.236138  1.803202   \n",
       "7558  4.402717  1.247150  1.678356  4.359988  3.442042  7.186149  1.808874   \n",
       "7559  4.433685  1.238898  1.682889  4.310245  3.456801  7.144504  1.826209   \n",
       "7560  4.502860  1.216531  1.694941  4.380979  3.467070  7.206731  1.835554   \n",
       "\n",
       "           7         8         9    ...       490       491       492  \\\n",
       "0     1.000000  1.000000  1.000000  ...  1.000000  1.000000  1.000000   \n",
       "1     1.000046  0.996210  1.014718  ...  1.000036  0.990179  1.004224   \n",
       "2     1.000552  0.999455  1.013900  ...  0.999772  0.997208  1.002613   \n",
       "3     0.997785  0.992915  1.018430  ...  0.990176  1.003820  1.002697   \n",
       "4     0.997848  0.991525  1.031234  ...  0.995858  1.008661  1.022970   \n",
       "...        ...       ...       ...  ...       ...       ...       ...   \n",
       "7556  1.470702  8.596347  2.041793  ...  2.566834  4.940554  0.626269   \n",
       "7557  1.458959  8.532761  2.048936  ...  2.560462  4.977558  0.625909   \n",
       "7558  1.463187  8.592708  2.078324  ...  2.550945  4.924174  0.625535   \n",
       "7559  1.457156  8.555567  2.095766  ...  2.562408  4.853942  0.635367   \n",
       "7560  1.467220  8.591640  2.106948  ...  2.571479  4.827540  0.629001   \n",
       "\n",
       "           493       494       495       496        497       498       499  \n",
       "0     1.000000  1.000000  1.000000  1.000000   1.000000  1.000000  1.000000  \n",
       "1     0.998665  0.996867  0.997842  1.006891   1.016175  1.014683  0.985798  \n",
       "2     0.995979  1.002311  0.992369  1.017626   1.017245  1.010256  0.991362  \n",
       "3     0.998598  0.993878  1.000510  1.023943   1.016949  1.003040  0.979783  \n",
       "4     0.985660  1.000356  0.996583  1.012870   1.005956  1.016635  0.982164  \n",
       "...        ...       ...       ...       ...        ...       ...       ...  \n",
       "7556  1.694589  3.900667  4.263319  1.919532  13.249387  1.978488  3.506757  \n",
       "7557  1.703240  3.916227  4.243008  1.911597  13.039789  1.962079  3.550478  \n",
       "7558  1.698903  3.960077  4.158880  1.920132  13.089729  1.944069  3.547949  \n",
       "7559  1.701684  3.944974  4.205367  1.925650  13.121436  1.937053  3.524307  \n",
       "7560  1.688654  3.933950  4.206067  1.953175  13.217616  1.941445  3.500164  \n",
       "\n",
       "[7561 rows x 500 columns]"
      ]
     },
     "execution_count": 44,
     "metadata": {},
     "output_type": "execute_result"
    }
   ],
   "source": [
    "# Running a Monte Carlo simulation to forecast 30 years cumulative returns\n",
    "MC_Y30.calc_cumulative_return()"
   ]
  },
  {
   "cell_type": "code",
   "execution_count": 45,
   "metadata": {},
   "outputs": [
    {
     "data": {
      "text/plain": [
       "<AxesSubplot:title={'center':'500 Simulations of Cumulative Portfolio Return Trajectories Over the Next 7560 Trading Days.'}>"
      ]
     },
     "execution_count": 45,
     "metadata": {},
     "output_type": "execute_result"
    },
    {
     "data": {
      "image/png": "[encoded data removed]",
      "text/plain": [
       "<Figure size 432x288 with 1 Axes>"
      ]
     },
     "metadata": {
      "needs_background": "light"
     },
     "output_type": "display_data"
    }
   ],
   "source": [
    "# Plot simulation outcomes\n",
    "MC_Y30.plot_simulation()"
   ]
  },
  {
   "cell_type": "code",
   "execution_count": 46,
   "metadata": {},
   "outputs": [
    {
     "data": {
      "text/plain": [
       "<AxesSubplot:title={'center':'Distribution of Final Cumuluative Returns Across All 500 Simulations'}, ylabel='Frequency'>"
      ]
     },
     "execution_count": 46,
     "metadata": {},
     "output_type": "execute_result"
    },
    {
     "data": {
      "image/png": "[encoded data removed]",
      "text/plain": [
       "<Figure size 432x288 with 1 Axes>"
      ]
     },
     "metadata": {
      "needs_background": "light"
     },
     "output_type": "display_data"
    }
   ],
   "source": [
    "# Plot probability distribution and confidence intervals\n",
    "MC_Y30.plot_distribution()"
   ]
  },
  {
   "cell_type": "markdown",
   "metadata": {},
   "source": [
    "### Retirement Analysis"
   ]
  },
  {
   "cell_type": "code",
   "execution_count": 47,
   "metadata": {},
   "outputs": [],
   "source": [
    "# Fetch summary statistics from the Monte Carlo simulation results\n",
    "MC_Y30_stats = MC_Y30.summarize_cumulative_return()"
   ]
  },
  {
   "cell_type": "code",
   "execution_count": 48,
   "metadata": {},
   "outputs": [
    {
     "name": "stdout",
     "output_type": "stream",
     "text": [
      "count           500.000000\n",
      "mean              4.113576\n",
      "std               3.322913\n",
      "min               0.290509\n",
      "25%               1.946080\n",
      "50%               3.223135\n",
      "75%               5.151670\n",
      "max              34.726046\n",
      "95% CI Lower      0.867645\n",
      "95% CI Upper     12.568917\n",
      "Name: 7560, dtype: float64\n"
     ]
    }
   ],
   "source": [
    "# Print summary statistics\n",
    "print(MC_Y30_stats)"
   ]
  },
  {
   "cell_type": "markdown",
   "metadata": {},
   "source": [
    "### Calculate the expected portfolio return at the `95%` lower and upper confidence intervals based on a `$20,000` initial investment."
   ]
  },
  {
   "cell_type": "code",
   "execution_count": 49,
   "metadata": {},
   "outputs": [],
   "source": [
    "# Set initial investment\n",
    "initial_investment = 20000"
   ]
  },
  {
   "cell_type": "code",
   "execution_count": 50,
   "metadata": {},
   "outputs": [],
   "source": [
    "# Use the lower and upper `95%` confidence intervals to calculate the range of the possible outcomes of our $20,000\n",
    "ci_lower = MC_Y30_stats[8] * initial_investment\n",
    "ci_upper = MC_Y30_stats[9] * initial_investment"
   ]
  },
  {
   "cell_type": "code",
   "execution_count": 51,
   "metadata": {},
   "outputs": [
    {
     "name": "stdout",
     "output_type": "stream",
     "text": [
      "There is a 95% chance that an initial investment of $20,000.00 in the portfolio over the next 30 years will end within in the range of $17,352.89 and $251,378.34\n"
     ]
    }
   ],
   "source": [
    "# Print results\n",
    "print(f\"There is a 95% chance that an initial investment of ${initial_investment:,.2f} in the portfolio\"\n",
    "      f\" over the next 30 years will end within in the range of\"\n",
    "      f\" ${ci_lower:,.2f} and ${ci_upper:,.2f}\")"
   ]
  },
  {
   "cell_type": "markdown",
   "metadata": {},
   "source": [
    "### Calculate the expected portfolio return at the `95%` lower and upper confidence intervals based on a `50%` increase in the initial investment."
   ]
  },
  {
   "cell_type": "code",
   "execution_count": 52,
   "metadata": {},
   "outputs": [],
   "source": [
    "# Set initial investment\n",
    "initial_investment = 20000 * 1.5"
   ]
  },
  {
   "cell_type": "code",
   "execution_count": 53,
   "metadata": {},
   "outputs": [],
   "source": [
    "# Use the lower and upper `95%` confidence intervals to calculate the range of the possible outcomes of our $30,000\n",
    "ci_lower = MC_Y30_stats[8] * initial_investment\n",
    "ci_upper = MC_Y30_stats[9] * initial_investment"
   ]
  },
  {
   "cell_type": "code",
   "execution_count": 54,
   "metadata": {},
   "outputs": [
    {
     "name": "stdout",
     "output_type": "stream",
     "text": [
      "There is a 95% chance that an initial investment of $30,000.00 in the portfolio over the next 30 years will end within in the range of $26,029.34 and $377,067.51\n"
     ]
    }
   ],
   "source": [
    "## Print results\n",
    "print(f\"There is a 95% chance that an initial investment of ${initial_investment:,.2f} in the portfolio\"\n",
    "      f\" over the next 30 years will end within in the range of\"\n",
    "      f\" ${ci_lower:,.2f} and ${ci_upper:,.2f}\")"
   ]
  },
  {
   "cell_type": "markdown",
   "metadata": {},
   "source": [
    "## Optional Challenge - Early Retirement\n",
    "\n",
    "\n",
    "### Five Years Retirement Option"
   ]
  },
  {
   "cell_type": "code",
   "execution_count": 55,
   "metadata": {},
   "outputs": [],
   "source": [
    "# Configuring a Monte Carlo simulation to forecast 5 years cumulative returns\n",
    "MC_Y05 = MCSimulation(portfolio_data = df_stock_data,\n",
    "                      weights = [0.10, 0.90],\n",
    "                      num_simulation = 500 ,\n",
    "                      num_trading_days = 252*5\n",
    "                      )"
   ]
  },
  {
   "cell_type": "code",
   "execution_count": 56,
   "metadata": {},
   "outputs": [
    {
     "name": "stdout",
     "output_type": "stream",
     "text": [
      "Running Monte Carlo simulation number 0.\n",
      "Running Monte Carlo simulation number 10.\n",
      "Running Monte Carlo simulation number 20.\n",
      "Running Monte Carlo simulation number 30.\n",
      "Running Monte Carlo simulation number 40.\n",
      "Running Monte Carlo simulation number 50.\n",
      "Running Monte Carlo simulation number 60.\n",
      "Running Monte Carlo simulation number 70.\n",
      "Running Monte Carlo simulation number 80.\n",
      "Running Monte Carlo simulation number 90.\n",
      "Running Monte Carlo simulation number 100.\n"
     ]
    },
    {
     "name": "stderr",
     "output_type": "stream",
     "text": [
      "C:\\Users\\twigi\\FTBC\\W5_Assignment\\APIs-homework\\MCForecastTools.py:117: PerformanceWarning: DataFrame is highly fragmented.  This is usually the result of calling `frame.insert` many times, which has poor performance.  Consider joining all columns at once using pd.concat(axis=1) instead.  To get a de-fragmented frame, use `newframe = frame.copy()`\n",
      "  portfolio_cumulative_returns[n] = (1 + sim_df.fillna(0)).cumprod()\n"
     ]
    },
    {
     "name": "stdout",
     "output_type": "stream",
     "text": [
      "Running Monte Carlo simulation number 110.\n",
      "Running Monte Carlo simulation number 120.\n",
      "Running Monte Carlo simulation number 130.\n",
      "Running Monte Carlo simulation number 140.\n",
      "Running Monte Carlo simulation number 150.\n",
      "Running Monte Carlo simulation number 160.\n",
      "Running Monte Carlo simulation number 170.\n",
      "Running Monte Carlo simulation number 180.\n",
      "Running Monte Carlo simulation number 190.\n",
      "Running Monte Carlo simulation number 200.\n",
      "Running Monte Carlo simulation number 210.\n",
      "Running Monte Carlo simulation number 220.\n",
      "Running Monte Carlo simulation number 230.\n",
      "Running Monte Carlo simulation number 240.\n",
      "Running Monte Carlo simulation number 250.\n",
      "Running Monte Carlo simulation number 260.\n",
      "Running Monte Carlo simulation number 270.\n",
      "Running Monte Carlo simulation number 280.\n",
      "Running Monte Carlo simulation number 290.\n",
      "Running Monte Carlo simulation number 300.\n",
      "Running Monte Carlo simulation number 310.\n",
      "Running Monte Carlo simulation number 320.\n",
      "Running Monte Carlo simulation number 330.\n",
      "Running Monte Carlo simulation number 340.\n",
      "Running Monte Carlo simulation number 350.\n",
      "Running Monte Carlo simulation number 360.\n",
      "Running Monte Carlo simulation number 370.\n",
      "Running Monte Carlo simulation number 380.\n",
      "Running Monte Carlo simulation number 390.\n",
      "Running Monte Carlo simulation number 400.\n",
      "Running Monte Carlo simulation number 410.\n",
      "Running Monte Carlo simulation number 420.\n",
      "Running Monte Carlo simulation number 430.\n",
      "Running Monte Carlo simulation number 440.\n",
      "Running Monte Carlo simulation number 450.\n",
      "Running Monte Carlo simulation number 460.\n",
      "Running Monte Carlo simulation number 470.\n",
      "Running Monte Carlo simulation number 480.\n",
      "Running Monte Carlo simulation number 490.\n"
     ]
    },
    {
     "data": {
      "text/html": [
       "<div>\n",
       "<style scoped>\n",
       "    .dataframe tbody tr th:only-of-type {\n",
       "        vertical-align: middle;\n",
       "    }\n",
       "\n",
       "    .dataframe tbody tr th {\n",
       "        vertical-align: top;\n",
       "    }\n",
       "\n",
       "    .dataframe thead th {\n",
       "        text-align: right;\n",
       "    }\n",
       "</style>\n",
       "<table border=\"1\" class=\"dataframe\">\n",
       "  <thead>\n",
       "    <tr style=\"text-align: right;\">\n",
       "      <th></th>\n",
       "      <th>0</th>\n",
       "      <th>1</th>\n",
       "      <th>2</th>\n",
       "      <th>3</th>\n",
       "      <th>4</th>\n",
       "      <th>5</th>\n",
       "      <th>6</th>\n",
       "      <th>7</th>\n",
       "      <th>8</th>\n",
       "      <th>9</th>\n",
       "      <th>...</th>\n",
       "      <th>490</th>\n",
       "      <th>491</th>\n",
       "      <th>492</th>\n",
       "      <th>493</th>\n",
       "      <th>494</th>\n",
       "      <th>495</th>\n",
       "      <th>496</th>\n",
       "      <th>497</th>\n",
       "      <th>498</th>\n",
       "      <th>499</th>\n",
       "    </tr>\n",
       "  </thead>\n",
       "  <tbody>\n",
       "    <tr>\n",
       "      <th>0</th>\n",
       "      <td>1.000000</td>\n",
       "      <td>1.000000</td>\n",
       "      <td>1.000000</td>\n",
       "      <td>1.000000</td>\n",
       "      <td>1.000000</td>\n",
       "      <td>1.000000</td>\n",
       "      <td>1.000000</td>\n",
       "      <td>1.000000</td>\n",
       "      <td>1.000000</td>\n",
       "      <td>1.000000</td>\n",
       "      <td>...</td>\n",
       "      <td>1.000000</td>\n",
       "      <td>1.000000</td>\n",
       "      <td>1.000000</td>\n",
       "      <td>1.000000</td>\n",
       "      <td>1.000000</td>\n",
       "      <td>1.000000</td>\n",
       "      <td>1.000000</td>\n",
       "      <td>1.000000</td>\n",
       "      <td>1.000000</td>\n",
       "      <td>1.000000</td>\n",
       "    </tr>\n",
       "    <tr>\n",
       "      <th>1</th>\n",
       "      <td>0.989204</td>\n",
       "      <td>1.010348</td>\n",
       "      <td>1.010544</td>\n",
       "      <td>0.994662</td>\n",
       "      <td>1.031937</td>\n",
       "      <td>0.983926</td>\n",
       "      <td>0.968292</td>\n",
       "      <td>1.008422</td>\n",
       "      <td>1.015327</td>\n",
       "      <td>0.983839</td>\n",
       "      <td>...</td>\n",
       "      <td>0.995346</td>\n",
       "      <td>1.001861</td>\n",
       "      <td>0.990690</td>\n",
       "      <td>0.999808</td>\n",
       "      <td>1.003137</td>\n",
       "      <td>0.989877</td>\n",
       "      <td>0.984341</td>\n",
       "      <td>1.005550</td>\n",
       "      <td>1.004321</td>\n",
       "      <td>0.989706</td>\n",
       "    </tr>\n",
       "    <tr>\n",
       "      <th>2</th>\n",
       "      <td>0.993291</td>\n",
       "      <td>1.013341</td>\n",
       "      <td>0.997059</td>\n",
       "      <td>0.990017</td>\n",
       "      <td>1.022366</td>\n",
       "      <td>0.981711</td>\n",
       "      <td>0.957274</td>\n",
       "      <td>1.004155</td>\n",
       "      <td>1.006296</td>\n",
       "      <td>0.977314</td>\n",
       "      <td>...</td>\n",
       "      <td>0.988916</td>\n",
       "      <td>1.002660</td>\n",
       "      <td>0.997375</td>\n",
       "      <td>1.014705</td>\n",
       "      <td>0.987728</td>\n",
       "      <td>0.968105</td>\n",
       "      <td>0.974861</td>\n",
       "      <td>1.007849</td>\n",
       "      <td>1.021379</td>\n",
       "      <td>0.997307</td>\n",
       "    </tr>\n",
       "    <tr>\n",
       "      <th>3</th>\n",
       "      <td>0.974206</td>\n",
       "      <td>0.996853</td>\n",
       "      <td>1.003892</td>\n",
       "      <td>0.979761</td>\n",
       "      <td>1.019083</td>\n",
       "      <td>0.985429</td>\n",
       "      <td>0.950667</td>\n",
       "      <td>0.991063</td>\n",
       "      <td>1.006241</td>\n",
       "      <td>0.978552</td>\n",
       "      <td>...</td>\n",
       "      <td>0.992805</td>\n",
       "      <td>0.992488</td>\n",
       "      <td>1.036940</td>\n",
       "      <td>1.001484</td>\n",
       "      <td>0.993384</td>\n",
       "      <td>0.967960</td>\n",
       "      <td>0.964868</td>\n",
       "      <td>1.002802</td>\n",
       "      <td>1.022695</td>\n",
       "      <td>0.998379</td>\n",
       "    </tr>\n",
       "    <tr>\n",
       "      <th>4</th>\n",
       "      <td>0.974207</td>\n",
       "      <td>1.009698</td>\n",
       "      <td>0.988825</td>\n",
       "      <td>0.963154</td>\n",
       "      <td>1.031682</td>\n",
       "      <td>0.983023</td>\n",
       "      <td>0.947334</td>\n",
       "      <td>0.995687</td>\n",
       "      <td>0.998971</td>\n",
       "      <td>0.957203</td>\n",
       "      <td>...</td>\n",
       "      <td>1.002673</td>\n",
       "      <td>1.008372</td>\n",
       "      <td>1.038778</td>\n",
       "      <td>1.017865</td>\n",
       "      <td>0.973699</td>\n",
       "      <td>0.976250</td>\n",
       "      <td>0.964463</td>\n",
       "      <td>1.018741</td>\n",
       "      <td>1.017171</td>\n",
       "      <td>0.989607</td>\n",
       "    </tr>\n",
       "    <tr>\n",
       "      <th>...</th>\n",
       "      <td>...</td>\n",
       "      <td>...</td>\n",
       "      <td>...</td>\n",
       "      <td>...</td>\n",
       "      <td>...</td>\n",
       "      <td>...</td>\n",
       "      <td>...</td>\n",
       "      <td>...</td>\n",
       "      <td>...</td>\n",
       "      <td>...</td>\n",
       "      <td>...</td>\n",
       "      <td>...</td>\n",
       "      <td>...</td>\n",
       "      <td>...</td>\n",
       "      <td>...</td>\n",
       "      <td>...</td>\n",
       "      <td>...</td>\n",
       "      <td>...</td>\n",
       "      <td>...</td>\n",
       "      <td>...</td>\n",
       "      <td>...</td>\n",
       "    </tr>\n",
       "    <tr>\n",
       "      <th>1256</th>\n",
       "      <td>1.376934</td>\n",
       "      <td>1.906193</td>\n",
       "      <td>1.174285</td>\n",
       "      <td>1.143099</td>\n",
       "      <td>1.134334</td>\n",
       "      <td>1.643667</td>\n",
       "      <td>1.087556</td>\n",
       "      <td>0.630239</td>\n",
       "      <td>1.038037</td>\n",
       "      <td>0.984353</td>\n",
       "      <td>...</td>\n",
       "      <td>0.590224</td>\n",
       "      <td>2.168427</td>\n",
       "      <td>1.748817</td>\n",
       "      <td>1.476616</td>\n",
       "      <td>1.823478</td>\n",
       "      <td>1.240062</td>\n",
       "      <td>1.264576</td>\n",
       "      <td>1.151920</td>\n",
       "      <td>1.660582</td>\n",
       "      <td>0.893314</td>\n",
       "    </tr>\n",
       "    <tr>\n",
       "      <th>1257</th>\n",
       "      <td>1.369713</td>\n",
       "      <td>1.906337</td>\n",
       "      <td>1.171185</td>\n",
       "      <td>1.128902</td>\n",
       "      <td>1.126381</td>\n",
       "      <td>1.633206</td>\n",
       "      <td>1.080725</td>\n",
       "      <td>0.628961</td>\n",
       "      <td>1.046854</td>\n",
       "      <td>1.005021</td>\n",
       "      <td>...</td>\n",
       "      <td>0.591103</td>\n",
       "      <td>2.164282</td>\n",
       "      <td>1.709040</td>\n",
       "      <td>1.477503</td>\n",
       "      <td>1.832772</td>\n",
       "      <td>1.257394</td>\n",
       "      <td>1.256441</td>\n",
       "      <td>1.150222</td>\n",
       "      <td>1.631603</td>\n",
       "      <td>0.871162</td>\n",
       "    </tr>\n",
       "    <tr>\n",
       "      <th>1258</th>\n",
       "      <td>1.337721</td>\n",
       "      <td>1.958637</td>\n",
       "      <td>1.157587</td>\n",
       "      <td>1.130229</td>\n",
       "      <td>1.120434</td>\n",
       "      <td>1.646370</td>\n",
       "      <td>1.071419</td>\n",
       "      <td>0.647578</td>\n",
       "      <td>1.026334</td>\n",
       "      <td>1.001753</td>\n",
       "      <td>...</td>\n",
       "      <td>0.577769</td>\n",
       "      <td>2.194419</td>\n",
       "      <td>1.703755</td>\n",
       "      <td>1.514757</td>\n",
       "      <td>1.806175</td>\n",
       "      <td>1.253433</td>\n",
       "      <td>1.265643</td>\n",
       "      <td>1.162673</td>\n",
       "      <td>1.617002</td>\n",
       "      <td>0.876456</td>\n",
       "    </tr>\n",
       "    <tr>\n",
       "      <th>1259</th>\n",
       "      <td>1.321745</td>\n",
       "      <td>2.014150</td>\n",
       "      <td>1.135644</td>\n",
       "      <td>1.124089</td>\n",
       "      <td>1.121947</td>\n",
       "      <td>1.642435</td>\n",
       "      <td>1.064413</td>\n",
       "      <td>0.644035</td>\n",
       "      <td>1.028635</td>\n",
       "      <td>1.015689</td>\n",
       "      <td>...</td>\n",
       "      <td>0.574026</td>\n",
       "      <td>2.188645</td>\n",
       "      <td>1.695770</td>\n",
       "      <td>1.549035</td>\n",
       "      <td>1.804234</td>\n",
       "      <td>1.256742</td>\n",
       "      <td>1.261558</td>\n",
       "      <td>1.167230</td>\n",
       "      <td>1.644905</td>\n",
       "      <td>0.861714</td>\n",
       "    </tr>\n",
       "    <tr>\n",
       "      <th>1260</th>\n",
       "      <td>1.329935</td>\n",
       "      <td>2.014111</td>\n",
       "      <td>1.126427</td>\n",
       "      <td>1.112265</td>\n",
       "      <td>1.121403</td>\n",
       "      <td>1.629394</td>\n",
       "      <td>1.071279</td>\n",
       "      <td>0.651655</td>\n",
       "      <td>1.044354</td>\n",
       "      <td>1.036007</td>\n",
       "      <td>...</td>\n",
       "      <td>0.583494</td>\n",
       "      <td>2.195775</td>\n",
       "      <td>1.739658</td>\n",
       "      <td>1.528246</td>\n",
       "      <td>1.798760</td>\n",
       "      <td>1.244491</td>\n",
       "      <td>1.276306</td>\n",
       "      <td>1.194653</td>\n",
       "      <td>1.692583</td>\n",
       "      <td>0.860912</td>\n",
       "    </tr>\n",
       "  </tbody>\n",
       "</table>\n",
       "<p>1261 rows × 500 columns</p>\n",
       "</div>"
      ],
      "text/plain": [
       "           0         1         2         3         4         5         6    \\\n",
       "0     1.000000  1.000000  1.000000  1.000000  1.000000  1.000000  1.000000   \n",
       "1     0.989204  1.010348  1.010544  0.994662  1.031937  0.983926  0.968292   \n",
       "2     0.993291  1.013341  0.997059  0.990017  1.022366  0.981711  0.957274   \n",
       "3     0.974206  0.996853  1.003892  0.979761  1.019083  0.985429  0.950667   \n",
       "4     0.974207  1.009698  0.988825  0.963154  1.031682  0.983023  0.947334   \n",
       "...        ...       ...       ...       ...       ...       ...       ...   \n",
       "1256  1.376934  1.906193  1.174285  1.143099  1.134334  1.643667  1.087556   \n",
       "1257  1.369713  1.906337  1.171185  1.128902  1.126381  1.633206  1.080725   \n",
       "1258  1.337721  1.958637  1.157587  1.130229  1.120434  1.646370  1.071419   \n",
       "1259  1.321745  2.014150  1.135644  1.124089  1.121947  1.642435  1.064413   \n",
       "1260  1.329935  2.014111  1.126427  1.112265  1.121403  1.629394  1.071279   \n",
       "\n",
       "           7         8         9    ...       490       491       492  \\\n",
       "0     1.000000  1.000000  1.000000  ...  1.000000  1.000000  1.000000   \n",
       "1     1.008422  1.015327  0.983839  ...  0.995346  1.001861  0.990690   \n",
       "2     1.004155  1.006296  0.977314  ...  0.988916  1.002660  0.997375   \n",
       "3     0.991063  1.006241  0.978552  ...  0.992805  0.992488  1.036940   \n",
       "4     0.995687  0.998971  0.957203  ...  1.002673  1.008372  1.038778   \n",
       "...        ...       ...       ...  ...       ...       ...       ...   \n",
       "1256  0.630239  1.038037  0.984353  ...  0.590224  2.168427  1.748817   \n",
       "1257  0.628961  1.046854  1.005021  ...  0.591103  2.164282  1.709040   \n",
       "1258  0.647578  1.026334  1.001753  ...  0.577769  2.194419  1.703755   \n",
       "1259  0.644035  1.028635  1.015689  ...  0.574026  2.188645  1.695770   \n",
       "1260  0.651655  1.044354  1.036007  ...  0.583494  2.195775  1.739658   \n",
       "\n",
       "           493       494       495       496       497       498       499  \n",
       "0     1.000000  1.000000  1.000000  1.000000  1.000000  1.000000  1.000000  \n",
       "1     0.999808  1.003137  0.989877  0.984341  1.005550  1.004321  0.989706  \n",
       "2     1.014705  0.987728  0.968105  0.974861  1.007849  1.021379  0.997307  \n",
       "3     1.001484  0.993384  0.967960  0.964868  1.002802  1.022695  0.998379  \n",
       "4     1.017865  0.973699  0.976250  0.964463  1.018741  1.017171  0.989607  \n",
       "...        ...       ...       ...       ...       ...       ...       ...  \n",
       "1256  1.476616  1.823478  1.240062  1.264576  1.151920  1.660582  0.893314  \n",
       "1257  1.477503  1.832772  1.257394  1.256441  1.150222  1.631603  0.871162  \n",
       "1258  1.514757  1.806175  1.253433  1.265643  1.162673  1.617002  0.876456  \n",
       "1259  1.549035  1.804234  1.256742  1.261558  1.167230  1.644905  0.861714  \n",
       "1260  1.528246  1.798760  1.244491  1.276306  1.194653  1.692583  0.860912  \n",
       "\n",
       "[1261 rows x 500 columns]"
      ]
     },
     "execution_count": 56,
     "metadata": {},
     "output_type": "execute_result"
    }
   ],
   "source": [
    "# Running a Monte Carlo simulation to forecast 5 years cumulative returns\n",
    "MC_Y05.calc_cumulative_return()"
   ]
  },
  {
   "cell_type": "code",
   "execution_count": 57,
   "metadata": {},
   "outputs": [
    {
     "data": {
      "text/plain": [
       "<AxesSubplot:title={'center':'500 Simulations of Cumulative Portfolio Return Trajectories Over the Next 1260 Trading Days.'}>"
      ]
     },
     "execution_count": 57,
     "metadata": {},
     "output_type": "execute_result"
    },
    {
     "data": {
      "image/png": "[encoded data removed]",
      "text/plain": [
       "<Figure size 432x288 with 1 Axes>"
      ]
     },
     "metadata": {
      "needs_background": "light"
     },
     "output_type": "display_data"
    }
   ],
   "source": [
    "# Plot simulation outcomes\n",
    "MC_Y05.plot_simulation()"
   ]
  },
  {
   "cell_type": "code",
   "execution_count": 58,
   "metadata": {},
   "outputs": [
    {
     "data": {
      "text/plain": [
       "<AxesSubplot:title={'center':'Distribution of Final Cumuluative Returns Across All 500 Simulations'}, ylabel='Frequency'>"
      ]
     },
     "execution_count": 58,
     "metadata": {},
     "output_type": "execute_result"
    },
    {
     "data": {
      "image/png": "[encoded data removed]",
      "text/plain": [
       "<Figure size 432x288 with 1 Axes>"
      ]
     },
     "metadata": {
      "needs_background": "light"
     },
     "output_type": "display_data"
    }
   ],
   "source": [
    "# Plot probability distribution and confidence intervals\n",
    "MC_Y05.plot_distribution()"
   ]
  },
  {
   "cell_type": "code",
   "execution_count": 59,
   "metadata": {},
   "outputs": [],
   "source": [
    "# Fetch summary statistics from the Monte Carlo simulation results\n",
    "MC_Y05_stats = MC_Y05.summarize_cumulative_return()"
   ]
  },
  {
   "cell_type": "code",
   "execution_count": 60,
   "metadata": {},
   "outputs": [
    {
     "name": "stdout",
     "output_type": "stream",
     "text": [
      "count           500.000000\n",
      "mean              1.488903\n",
      "std               0.630923\n",
      "min               0.399496\n",
      "25%               1.045128\n",
      "50%               1.326922\n",
      "75%               1.826145\n",
      "max               4.331615\n",
      "95% CI Lower      0.623534\n",
      "95% CI Upper      2.890780\n",
      "Name: 1260, dtype: float64\n"
     ]
    }
   ],
   "source": [
    "# Print summary statistics\n",
    "print(MC_Y05_stats)"
   ]
  },
  {
   "cell_type": "code",
   "execution_count": 61,
   "metadata": {},
   "outputs": [],
   "source": [
    "# Set initial investment\n",
    "initial_investment = 20000*10"
   ]
  },
  {
   "cell_type": "code",
   "execution_count": 62,
   "metadata": {},
   "outputs": [],
   "source": [
    "# Use the lower and upper `95%` confidence intervals to calculate the range of the possible outcomes of our $200,000\n",
    "ci_lower_five = MC_Y05_stats[8] * initial_investment\n",
    "ci_upper_five = MC_Y05_stats[9] * initial_investment"
   ]
  },
  {
   "cell_type": "code",
   "execution_count": 63,
   "metadata": {},
   "outputs": [
    {
     "name": "stdout",
     "output_type": "stream",
     "text": [
      "There is a 95% chance that an initial investment of $200,000.00 in the portfolio over the next 5 years will end within in the range of $124,706.88 and $578,156.03\n"
     ]
    }
   ],
   "source": [
    "# Print results\n",
    "print(f\"There is a 95% chance that an initial investment of ${initial_investment:,.2f} in the portfolio\"\n",
    "      f\" over the next 5 years will end within in the range of\"\n",
    "      f\" ${ci_lower_five:,.2f} and ${ci_upper_five:,.2f}\")"
   ]
  },
  {
   "cell_type": "markdown",
   "metadata": {},
   "source": [
    "### Ten Years Retirement Option"
   ]
  },
  {
   "cell_type": "code",
   "execution_count": 64,
   "metadata": {},
   "outputs": [],
   "source": [
    "# Configuring a Monte Carlo simulation to forecast 10 years cumulative returns\n",
    "MC_Y10 = MCSimulation(portfolio_data = df_stock_data,\n",
    "                      weights = [0.30, 0.70],\n",
    "                      num_simulation = 500 ,\n",
    "                      num_trading_days = 252*10\n",
    "                      )"
   ]
  },
  {
   "cell_type": "code",
   "execution_count": 65,
   "metadata": {},
   "outputs": [
    {
     "name": "stdout",
     "output_type": "stream",
     "text": [
      "Running Monte Carlo simulation number 0.\n",
      "Running Monte Carlo simulation number 10.\n",
      "Running Monte Carlo simulation number 20.\n",
      "Running Monte Carlo simulation number 30.\n",
      "Running Monte Carlo simulation number 40.\n",
      "Running Monte Carlo simulation number 50.\n",
      "Running Monte Carlo simulation number 60.\n",
      "Running Monte Carlo simulation number 70.\n",
      "Running Monte Carlo simulation number 80.\n",
      "Running Monte Carlo simulation number 90.\n",
      "Running Monte Carlo simulation number 100.\n"
     ]
    },
    {
     "name": "stderr",
     "output_type": "stream",
     "text": [
      "C:\\Users\\twigi\\FTBC\\W5_Assignment\\APIs-homework\\MCForecastTools.py:117: PerformanceWarning: DataFrame is highly fragmented.  This is usually the result of calling `frame.insert` many times, which has poor performance.  Consider joining all columns at once using pd.concat(axis=1) instead.  To get a de-fragmented frame, use `newframe = frame.copy()`\n",
      "  portfolio_cumulative_returns[n] = (1 + sim_df.fillna(0)).cumprod()\n"
     ]
    },
    {
     "name": "stdout",
     "output_type": "stream",
     "text": [
      "Running Monte Carlo simulation number 110.\n",
      "Running Monte Carlo simulation number 120.\n",
      "Running Monte Carlo simulation number 130.\n",
      "Running Monte Carlo simulation number 140.\n",
      "Running Monte Carlo simulation number 150.\n",
      "Running Monte Carlo simulation number 160.\n",
      "Running Monte Carlo simulation number 170.\n",
      "Running Monte Carlo simulation number 180.\n",
      "Running Monte Carlo simulation number 190.\n",
      "Running Monte Carlo simulation number 200.\n",
      "Running Monte Carlo simulation number 210.\n",
      "Running Monte Carlo simulation number 220.\n",
      "Running Monte Carlo simulation number 230.\n",
      "Running Monte Carlo simulation number 240.\n",
      "Running Monte Carlo simulation number 250.\n",
      "Running Monte Carlo simulation number 260.\n",
      "Running Monte Carlo simulation number 270.\n",
      "Running Monte Carlo simulation number 280.\n",
      "Running Monte Carlo simulation number 290.\n",
      "Running Monte Carlo simulation number 300.\n",
      "Running Monte Carlo simulation number 310.\n",
      "Running Monte Carlo simulation number 320.\n",
      "Running Monte Carlo simulation number 330.\n",
      "Running Monte Carlo simulation number 340.\n",
      "Running Monte Carlo simulation number 350.\n",
      "Running Monte Carlo simulation number 360.\n",
      "Running Monte Carlo simulation number 370.\n",
      "Running Monte Carlo simulation number 380.\n",
      "Running Monte Carlo simulation number 390.\n",
      "Running Monte Carlo simulation number 400.\n",
      "Running Monte Carlo simulation number 410.\n",
      "Running Monte Carlo simulation number 420.\n",
      "Running Monte Carlo simulation number 430.\n",
      "Running Monte Carlo simulation number 440.\n",
      "Running Monte Carlo simulation number 450.\n",
      "Running Monte Carlo simulation number 460.\n",
      "Running Monte Carlo simulation number 470.\n",
      "Running Monte Carlo simulation number 480.\n",
      "Running Monte Carlo simulation number 490.\n"
     ]
    },
    {
     "data": {
      "text/html": [
       "<div>\n",
       "<style scoped>\n",
       "    .dataframe tbody tr th:only-of-type {\n",
       "        vertical-align: middle;\n",
       "    }\n",
       "\n",
       "    .dataframe tbody tr th {\n",
       "        vertical-align: top;\n",
       "    }\n",
       "\n",
       "    .dataframe thead th {\n",
       "        text-align: right;\n",
       "    }\n",
       "</style>\n",
       "<table border=\"1\" class=\"dataframe\">\n",
       "  <thead>\n",
       "    <tr style=\"text-align: right;\">\n",
       "      <th></th>\n",
       "      <th>0</th>\n",
       "      <th>1</th>\n",
       "      <th>2</th>\n",
       "      <th>3</th>\n",
       "      <th>4</th>\n",
       "      <th>5</th>\n",
       "      <th>6</th>\n",
       "      <th>7</th>\n",
       "      <th>8</th>\n",
       "      <th>9</th>\n",
       "      <th>...</th>\n",
       "      <th>490</th>\n",
       "      <th>491</th>\n",
       "      <th>492</th>\n",
       "      <th>493</th>\n",
       "      <th>494</th>\n",
       "      <th>495</th>\n",
       "      <th>496</th>\n",
       "      <th>497</th>\n",
       "      <th>498</th>\n",
       "      <th>499</th>\n",
       "    </tr>\n",
       "  </thead>\n",
       "  <tbody>\n",
       "    <tr>\n",
       "      <th>0</th>\n",
       "      <td>1.000000</td>\n",
       "      <td>1.000000</td>\n",
       "      <td>1.000000</td>\n",
       "      <td>1.000000</td>\n",
       "      <td>1.000000</td>\n",
       "      <td>1.000000</td>\n",
       "      <td>1.000000</td>\n",
       "      <td>1.000000</td>\n",
       "      <td>1.000000</td>\n",
       "      <td>1.000000</td>\n",
       "      <td>...</td>\n",
       "      <td>1.000000</td>\n",
       "      <td>1.000000</td>\n",
       "      <td>1.000000</td>\n",
       "      <td>1.000000</td>\n",
       "      <td>1.000000</td>\n",
       "      <td>1.000000</td>\n",
       "      <td>1.000000</td>\n",
       "      <td>1.000000</td>\n",
       "      <td>1.000000</td>\n",
       "      <td>1.000000</td>\n",
       "    </tr>\n",
       "    <tr>\n",
       "      <th>1</th>\n",
       "      <td>0.990406</td>\n",
       "      <td>0.980529</td>\n",
       "      <td>1.000961</td>\n",
       "      <td>0.995813</td>\n",
       "      <td>0.993908</td>\n",
       "      <td>0.998799</td>\n",
       "      <td>0.981478</td>\n",
       "      <td>1.012195</td>\n",
       "      <td>1.005845</td>\n",
       "      <td>0.999790</td>\n",
       "      <td>...</td>\n",
       "      <td>0.994045</td>\n",
       "      <td>1.002795</td>\n",
       "      <td>0.998626</td>\n",
       "      <td>1.008340</td>\n",
       "      <td>1.005422</td>\n",
       "      <td>1.001399</td>\n",
       "      <td>0.981089</td>\n",
       "      <td>1.001411</td>\n",
       "      <td>1.000977</td>\n",
       "      <td>1.008262</td>\n",
       "    </tr>\n",
       "    <tr>\n",
       "      <th>2</th>\n",
       "      <td>0.979079</td>\n",
       "      <td>0.979322</td>\n",
       "      <td>1.005352</td>\n",
       "      <td>0.993234</td>\n",
       "      <td>0.986119</td>\n",
       "      <td>1.012963</td>\n",
       "      <td>0.981606</td>\n",
       "      <td>1.017039</td>\n",
       "      <td>1.003468</td>\n",
       "      <td>1.011924</td>\n",
       "      <td>...</td>\n",
       "      <td>1.012221</td>\n",
       "      <td>1.008437</td>\n",
       "      <td>1.009336</td>\n",
       "      <td>1.002717</td>\n",
       "      <td>1.019466</td>\n",
       "      <td>0.993043</td>\n",
       "      <td>0.983735</td>\n",
       "      <td>1.000860</td>\n",
       "      <td>1.001734</td>\n",
       "      <td>1.016374</td>\n",
       "    </tr>\n",
       "    <tr>\n",
       "      <th>3</th>\n",
       "      <td>0.987748</td>\n",
       "      <td>0.979764</td>\n",
       "      <td>1.012301</td>\n",
       "      <td>0.984056</td>\n",
       "      <td>0.969383</td>\n",
       "      <td>1.029513</td>\n",
       "      <td>0.972091</td>\n",
       "      <td>1.021348</td>\n",
       "      <td>0.986586</td>\n",
       "      <td>1.020110</td>\n",
       "      <td>...</td>\n",
       "      <td>1.028144</td>\n",
       "      <td>1.007037</td>\n",
       "      <td>1.007220</td>\n",
       "      <td>1.012870</td>\n",
       "      <td>1.019650</td>\n",
       "      <td>1.002056</td>\n",
       "      <td>0.984202</td>\n",
       "      <td>1.014658</td>\n",
       "      <td>0.994769</td>\n",
       "      <td>1.015359</td>\n",
       "    </tr>\n",
       "    <tr>\n",
       "      <th>4</th>\n",
       "      <td>1.006274</td>\n",
       "      <td>0.970976</td>\n",
       "      <td>1.007705</td>\n",
       "      <td>0.975928</td>\n",
       "      <td>0.963555</td>\n",
       "      <td>1.021807</td>\n",
       "      <td>0.968819</td>\n",
       "      <td>1.015262</td>\n",
       "      <td>0.990183</td>\n",
       "      <td>0.996941</td>\n",
       "      <td>...</td>\n",
       "      <td>1.022234</td>\n",
       "      <td>1.018466</td>\n",
       "      <td>1.019448</td>\n",
       "      <td>1.010045</td>\n",
       "      <td>1.026032</td>\n",
       "      <td>0.996905</td>\n",
       "      <td>0.988039</td>\n",
       "      <td>1.030792</td>\n",
       "      <td>0.995363</td>\n",
       "      <td>1.007906</td>\n",
       "    </tr>\n",
       "    <tr>\n",
       "      <th>...</th>\n",
       "      <td>...</td>\n",
       "      <td>...</td>\n",
       "      <td>...</td>\n",
       "      <td>...</td>\n",
       "      <td>...</td>\n",
       "      <td>...</td>\n",
       "      <td>...</td>\n",
       "      <td>...</td>\n",
       "      <td>...</td>\n",
       "      <td>...</td>\n",
       "      <td>...</td>\n",
       "      <td>...</td>\n",
       "      <td>...</td>\n",
       "      <td>...</td>\n",
       "      <td>...</td>\n",
       "      <td>...</td>\n",
       "      <td>...</td>\n",
       "      <td>...</td>\n",
       "      <td>...</td>\n",
       "      <td>...</td>\n",
       "      <td>...</td>\n",
       "    </tr>\n",
       "    <tr>\n",
       "      <th>2516</th>\n",
       "      <td>3.049356</td>\n",
       "      <td>0.816027</td>\n",
       "      <td>1.743661</td>\n",
       "      <td>0.938058</td>\n",
       "      <td>1.571497</td>\n",
       "      <td>0.908702</td>\n",
       "      <td>1.541613</td>\n",
       "      <td>3.242282</td>\n",
       "      <td>1.612480</td>\n",
       "      <td>1.150880</td>\n",
       "      <td>...</td>\n",
       "      <td>1.494016</td>\n",
       "      <td>2.371505</td>\n",
       "      <td>1.018661</td>\n",
       "      <td>1.818408</td>\n",
       "      <td>2.154138</td>\n",
       "      <td>0.920235</td>\n",
       "      <td>0.854855</td>\n",
       "      <td>1.915193</td>\n",
       "      <td>0.878874</td>\n",
       "      <td>1.962081</td>\n",
       "    </tr>\n",
       "    <tr>\n",
       "      <th>2517</th>\n",
       "      <td>2.993537</td>\n",
       "      <td>0.812501</td>\n",
       "      <td>1.760998</td>\n",
       "      <td>0.946662</td>\n",
       "      <td>1.566005</td>\n",
       "      <td>0.905167</td>\n",
       "      <td>1.537611</td>\n",
       "      <td>3.246549</td>\n",
       "      <td>1.623125</td>\n",
       "      <td>1.154866</td>\n",
       "      <td>...</td>\n",
       "      <td>1.479779</td>\n",
       "      <td>2.372402</td>\n",
       "      <td>1.018103</td>\n",
       "      <td>1.794597</td>\n",
       "      <td>2.146338</td>\n",
       "      <td>0.926799</td>\n",
       "      <td>0.851048</td>\n",
       "      <td>1.923846</td>\n",
       "      <td>0.883166</td>\n",
       "      <td>1.967836</td>\n",
       "    </tr>\n",
       "    <tr>\n",
       "      <th>2518</th>\n",
       "      <td>2.960882</td>\n",
       "      <td>0.805565</td>\n",
       "      <td>1.744151</td>\n",
       "      <td>0.942391</td>\n",
       "      <td>1.569718</td>\n",
       "      <td>0.899504</td>\n",
       "      <td>1.524391</td>\n",
       "      <td>3.216339</td>\n",
       "      <td>1.658773</td>\n",
       "      <td>1.156476</td>\n",
       "      <td>...</td>\n",
       "      <td>1.464758</td>\n",
       "      <td>2.379016</td>\n",
       "      <td>1.026760</td>\n",
       "      <td>1.799470</td>\n",
       "      <td>2.119611</td>\n",
       "      <td>0.924210</td>\n",
       "      <td>0.864417</td>\n",
       "      <td>1.920994</td>\n",
       "      <td>0.883252</td>\n",
       "      <td>1.977899</td>\n",
       "    </tr>\n",
       "    <tr>\n",
       "      <th>2519</th>\n",
       "      <td>2.953795</td>\n",
       "      <td>0.800915</td>\n",
       "      <td>1.760797</td>\n",
       "      <td>0.945674</td>\n",
       "      <td>1.573620</td>\n",
       "      <td>0.908939</td>\n",
       "      <td>1.514041</td>\n",
       "      <td>3.221103</td>\n",
       "      <td>1.682253</td>\n",
       "      <td>1.168139</td>\n",
       "      <td>...</td>\n",
       "      <td>1.460677</td>\n",
       "      <td>2.366892</td>\n",
       "      <td>1.033560</td>\n",
       "      <td>1.798706</td>\n",
       "      <td>2.110355</td>\n",
       "      <td>0.925536</td>\n",
       "      <td>0.851747</td>\n",
       "      <td>1.942067</td>\n",
       "      <td>0.881184</td>\n",
       "      <td>1.964295</td>\n",
       "    </tr>\n",
       "    <tr>\n",
       "      <th>2520</th>\n",
       "      <td>2.951952</td>\n",
       "      <td>0.802196</td>\n",
       "      <td>1.753214</td>\n",
       "      <td>0.943850</td>\n",
       "      <td>1.552194</td>\n",
       "      <td>0.914899</td>\n",
       "      <td>1.489469</td>\n",
       "      <td>3.244873</td>\n",
       "      <td>1.657896</td>\n",
       "      <td>1.182738</td>\n",
       "      <td>...</td>\n",
       "      <td>1.443215</td>\n",
       "      <td>2.378883</td>\n",
       "      <td>1.057196</td>\n",
       "      <td>1.845058</td>\n",
       "      <td>2.097034</td>\n",
       "      <td>0.899053</td>\n",
       "      <td>0.850707</td>\n",
       "      <td>1.949035</td>\n",
       "      <td>0.888971</td>\n",
       "      <td>1.961043</td>\n",
       "    </tr>\n",
       "  </tbody>\n",
       "</table>\n",
       "<p>2521 rows × 500 columns</p>\n",
       "</div>"
      ],
      "text/plain": [
       "           0         1         2         3         4         5         6    \\\n",
       "0     1.000000  1.000000  1.000000  1.000000  1.000000  1.000000  1.000000   \n",
       "1     0.990406  0.980529  1.000961  0.995813  0.993908  0.998799  0.981478   \n",
       "2     0.979079  0.979322  1.005352  0.993234  0.986119  1.012963  0.981606   \n",
       "3     0.987748  0.979764  1.012301  0.984056  0.969383  1.029513  0.972091   \n",
       "4     1.006274  0.970976  1.007705  0.975928  0.963555  1.021807  0.968819   \n",
       "...        ...       ...       ...       ...       ...       ...       ...   \n",
       "2516  3.049356  0.816027  1.743661  0.938058  1.571497  0.908702  1.541613   \n",
       "2517  2.993537  0.812501  1.760998  0.946662  1.566005  0.905167  1.537611   \n",
       "2518  2.960882  0.805565  1.744151  0.942391  1.569718  0.899504  1.524391   \n",
       "2519  2.953795  0.800915  1.760797  0.945674  1.573620  0.908939  1.514041   \n",
       "2520  2.951952  0.802196  1.753214  0.943850  1.552194  0.914899  1.489469   \n",
       "\n",
       "           7         8         9    ...       490       491       492  \\\n",
       "0     1.000000  1.000000  1.000000  ...  1.000000  1.000000  1.000000   \n",
       "1     1.012195  1.005845  0.999790  ...  0.994045  1.002795  0.998626   \n",
       "2     1.017039  1.003468  1.011924  ...  1.012221  1.008437  1.009336   \n",
       "3     1.021348  0.986586  1.020110  ...  1.028144  1.007037  1.007220   \n",
       "4     1.015262  0.990183  0.996941  ...  1.022234  1.018466  1.019448   \n",
       "...        ...       ...       ...  ...       ...       ...       ...   \n",
       "2516  3.242282  1.612480  1.150880  ...  1.494016  2.371505  1.018661   \n",
       "2517  3.246549  1.623125  1.154866  ...  1.479779  2.372402  1.018103   \n",
       "2518  3.216339  1.658773  1.156476  ...  1.464758  2.379016  1.026760   \n",
       "2519  3.221103  1.682253  1.168139  ...  1.460677  2.366892  1.033560   \n",
       "2520  3.244873  1.657896  1.182738  ...  1.443215  2.378883  1.057196   \n",
       "\n",
       "           493       494       495       496       497       498       499  \n",
       "0     1.000000  1.000000  1.000000  1.000000  1.000000  1.000000  1.000000  \n",
       "1     1.008340  1.005422  1.001399  0.981089  1.001411  1.000977  1.008262  \n",
       "2     1.002717  1.019466  0.993043  0.983735  1.000860  1.001734  1.016374  \n",
       "3     1.012870  1.019650  1.002056  0.984202  1.014658  0.994769  1.015359  \n",
       "4     1.010045  1.026032  0.996905  0.988039  1.030792  0.995363  1.007906  \n",
       "...        ...       ...       ...       ...       ...       ...       ...  \n",
       "2516  1.818408  2.154138  0.920235  0.854855  1.915193  0.878874  1.962081  \n",
       "2517  1.794597  2.146338  0.926799  0.851048  1.923846  0.883166  1.967836  \n",
       "2518  1.799470  2.119611  0.924210  0.864417  1.920994  0.883252  1.977899  \n",
       "2519  1.798706  2.110355  0.925536  0.851747  1.942067  0.881184  1.964295  \n",
       "2520  1.845058  2.097034  0.899053  0.850707  1.949035  0.888971  1.961043  \n",
       "\n",
       "[2521 rows x 500 columns]"
      ]
     },
     "execution_count": 65,
     "metadata": {},
     "output_type": "execute_result"
    }
   ],
   "source": [
    "# Running a Monte Carlo simulation to forecast 10 years cumulative returns\n",
    "MC_Y10.calc_cumulative_return()"
   ]
  },
  {
   "cell_type": "code",
   "execution_count": 66,
   "metadata": {},
   "outputs": [
    {
     "data": {
      "text/plain": [
       "<AxesSubplot:title={'center':'500 Simulations of Cumulative Portfolio Return Trajectories Over the Next 2520 Trading Days.'}>"
      ]
     },
     "execution_count": 66,
     "metadata": {},
     "output_type": "execute_result"
    },
    {
     "data": {
      "image/png": "[encoded data removed]",
      "text/plain": [
       "<Figure size 432x288 with 1 Axes>"
      ]
     },
     "metadata": {
      "needs_background": "light"
     },
     "output_type": "display_data"
    }
   ],
   "source": [
    "# Plot simulation outcomes\n",
    "MC_Y10.plot_simulation()"
   ]
  },
  {
   "cell_type": "code",
   "execution_count": 67,
   "metadata": {},
   "outputs": [
    {
     "data": {
      "text/plain": [
       "<AxesSubplot:title={'center':'Distribution of Final Cumuluative Returns Across All 500 Simulations'}, ylabel='Frequency'>"
      ]
     },
     "execution_count": 67,
     "metadata": {},
     "output_type": "execute_result"
    },
    {
     "data": {
      "image/png": "[encoded data removed]",
      "text/plain": [
       "<Figure size 432x288 with 1 Axes>"
      ]
     },
     "metadata": {
      "needs_background": "light"
     },
     "output_type": "display_data"
    }
   ],
   "source": [
    "# Plot probability distribution and confidence intervals\n",
    "MC_Y10.plot_distribution()"
   ]
  },
  {
   "cell_type": "code",
   "execution_count": 68,
   "metadata": {},
   "outputs": [],
   "source": [
    "# Fetch summary statistics from the Monte Carlo simulation results\n",
    "MC_Y10_stats = MC_Y10.summarize_cumulative_return()"
   ]
  },
  {
   "cell_type": "code",
   "execution_count": 69,
   "metadata": {},
   "outputs": [
    {
     "name": "stdout",
     "output_type": "stream",
     "text": [
      "count           500.000000\n",
      "mean              1.736502\n",
      "std               0.869475\n",
      "min               0.404453\n",
      "25%               1.158496\n",
      "50%               1.559031\n",
      "75%               2.076047\n",
      "max               6.969853\n",
      "95% CI Lower      0.610616\n",
      "95% CI Upper      4.054007\n",
      "Name: 2520, dtype: float64\n"
     ]
    }
   ],
   "source": [
    "# Print summary statistics\n",
    "print(MC_Y10_stats)"
   ]
  },
  {
   "cell_type": "code",
   "execution_count": 70,
   "metadata": {},
   "outputs": [],
   "source": [
    "# Set initial investment\n",
    "initial_investment = 20000*7"
   ]
  },
  {
   "cell_type": "code",
   "execution_count": 71,
   "metadata": {},
   "outputs": [],
   "source": [
    "# Use the lower and upper `95%` confidence intervals to calculate the range of the possible outcomes of our $140,000\n",
    "ci_lower_ten = MC_Y10_stats[8] * initial_investment\n",
    "ci_upper_ten = MC_Y10_stats[9] * initial_investment"
   ]
  },
  {
   "cell_type": "code",
   "execution_count": 72,
   "metadata": {},
   "outputs": [
    {
     "name": "stdout",
     "output_type": "stream",
     "text": [
      "There is a 95% chance that an initial investment of $140,000.00 in the portfolio over the next 10 years will end within in the range of $85,486.26 and $567,561.02\n"
     ]
    }
   ],
   "source": [
    "# Print results\n",
    "print(f\"There is a 95% chance that an initial investment of ${initial_investment:,.2f} in the portfolio\"\n",
    "      f\" over the next 10 years will end within in the range of\"\n",
    "      f\" ${ci_lower_ten:,.2f} and ${ci_upper_ten:,.2f}\")"
   ]
  },
  {
   "cell_type": "markdown",
   "metadata": {},
   "source": [
    "#### Notes:\n",
    "Assuming one would like to maintain a similar lifestyle regardless when one retires,<br>\n",
    "a) retiring in 5 years instead of 30 years time <br>\n",
    "The initial investment amount will need to increase significantly. The above numerical illustration has used an increase of 10 times (or 1000%) in initial investment. <br>\n",
    "The significant increase is to compensate the shorter wealth accumulation period. The investment portfolio was adjusted to include more risk (90% stock and 10% bonds) to boost the expected portfolio return. <br>\n",
    "\n",
    "b) retiring in 10 years instead of 30 years time <br>\n",
    "Similarly, the initial invsetment amount will need to increase signficantly and could be less than the amount as if one would want to retire in 5 years time. The above numerical illustration has used an increase of 7 times (or 700%) in initial investment. The investment portfolio was adjusted to include more risk (70% stock and 30% bonds) to boost the expected portfolio return."
   ]
  },
  {
   "cell_type": "code",
   "execution_count": null,
   "metadata": {},
   "outputs": [],
   "source": []
  }
 ],
 "metadata": {
  "kernelspec": {
   "display_name": "Python 3 (ipykernel)",
   "language": "python",
   "name": "python3"
  },
  "language_info": {
   "codemirror_mode": {
    "name": "ipython",
    "version": 3
   },
   "file_extension": ".py",
   "mimetype": "text/x-python",
   "name": "python",
   "nbconvert_exporter": "python",
   "pygments_lexer": "ipython3",
   "version": "3.7.13"
  },
  "nteract": {
   "version": "0.28.0"
  },
  "toc-showcode": false
 },
 "nbformat": 4,
 "nbformat_minor": 4
}
